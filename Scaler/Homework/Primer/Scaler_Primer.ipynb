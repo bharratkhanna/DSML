{
 "cells": [
  {
   "cell_type": "markdown",
   "id": "aca49004",
   "metadata": {},
   "source": [
    "# Scaler Practice"
   ]
  },
  {
   "cell_type": "markdown",
   "id": "1a6f6f68",
   "metadata": {
    "slideshow": {
     "slide_type": "slide"
    }
   },
   "source": [
    "Given a string A, A is made up of 0's and 1's. Break A into substrings such that , all broken substrings have equal number of 1's and 0's. \n",
    "\n",
    "Find and return maximum number of substrings in which A can be broken.\n"
   ]
  },
  {
   "cell_type": "markdown",
   "id": "ab2c6078",
   "metadata": {
    "slideshow": {
     "slide_type": "subslide"
    }
   },
   "source": [
    "Input 1:\n",
    "    A = \"011100\"\n",
    "\n",
    "Output 1:\n",
    "    2\n",
    "\n",
    "Explanation 1:\n",
    "    \"01\" + \"1100\"\n",
    "\n",
    "\n",
    "\n",
    "Input 2:\n",
    "    A = \"00011011\"\n",
    "\n",
    "Output 2:\n",
    "    1\n",
    "\n",
    "Explanation 2:\n",
    "    \"00011011\""
   ]
  },
  {
   "cell_type": "code",
   "execution_count": 13,
   "id": "fed24481",
   "metadata": {
    "slideshow": {
     "slide_type": "skip"
    }
   },
   "outputs": [
    {
     "name": "stdout",
     "output_type": "stream",
     "text": [
      "00100000100101111111\n"
     ]
    },
    {
     "data": {
      "text/plain": [
       "1"
      ]
     },
     "execution_count": 13,
     "metadata": {},
     "output_type": "execute_result"
    }
   ],
   "source": [
    "def solve(A):\n",
    "    \n",
    "    B = \"\"\n",
    "\n",
    "    lastinput = A[0]\n",
    "\n",
    "    count0 = 0\n",
    "    count1 = 0\n",
    "    paircount = 0\n",
    "    n = len(A)\n",
    "\n",
    "    for i in range(n):\n",
    "\n",
    "        B = B + A[i] \n",
    "\n",
    "        if A[i] == \"1\": count1 += 1\n",
    "        if A[i] == \"0\": count0 += 1\n",
    "            \n",
    "\n",
    "        if  count0 == count1: \n",
    "            paircount += 1\n",
    "            count0 = 0\n",
    "            count1 = 0\n",
    "            \n",
    "            print(B)\n",
    "            B = \"\"\n",
    "\n",
    "    return paircount\n",
    "\n",
    "\n",
    "A = \"011100\"\n",
    "B = \"00011011\"\n",
    "\n",
    "C = \"00100000100101111111\"\n",
    "\n",
    "solve(C)"
   ]
  },
  {
   "cell_type": "markdown",
   "id": "a683386a",
   "metadata": {
    "slideshow": {
     "slide_type": "slide"
    }
   },
   "source": [
    "Raman is very fond of vowels. One day, he got a string as a gift for his birthday. He got very excited and wanted to obtain the longest subsequence of vowels from the original string. You are asked to help Raman.\n",
    "\n",
    "Given a string A of lowercase English alphabets, find and return a string which is the longest subsequence of vowels in the string A."
   ]
  },
  {
   "cell_type": "markdown",
   "id": "ca42f8ad",
   "metadata": {
    "slideshow": {
     "slide_type": "subslide"
    }
   },
   "source": [
    "1. Vowels are 'a' , 'e' ,'i' , 'o' , 'u'. \n",
    "2. A subsequence is a sequence that can be derived from another sequence by deleting some or no elements from the original sequence without changing the order of the remaining elements.\n",
    "3. It is guaranteed that atleast one vowel will be present in the given string."
   ]
  },
  {
   "cell_type": "markdown",
   "id": "25b6988a",
   "metadata": {
    "slideshow": {
     "slide_type": "subslide"
    }
   },
   "source": [
    "Input 1:\n",
    "   abcdye\n",
    "Output 1:\n",
    "    ae\n",
    "\n",
    "Input 2:\n",
    "    abhishek\n",
    "Output 2:\n",
    "    aie\n",
    "\n",
    "Input 3:\n",
    "    interviewbit\n",
    "Output 3:\n",
    "    ieiei"
   ]
  },
  {
   "cell_type": "code",
   "execution_count": 17,
   "id": "4bfe8e5b",
   "metadata": {
    "slideshow": {
     "slide_type": "skip"
    }
   },
   "outputs": [
    {
     "data": {
      "text/plain": [
       "'ieiei'"
      ]
     },
     "execution_count": 17,
     "metadata": {},
     "output_type": "execute_result"
    }
   ],
   "source": [
    "def vowelSubString(A):\n",
    "    vowel = \"aeiou\"\n",
    "    B = \"\"\n",
    "\n",
    "    for char in A:\n",
    "        if char in vowel: B += char\n",
    "    \n",
    "    return B\n",
    "\n",
    "        \n",
    "A = \"interviewbit\"\n",
    "\n",
    "vowelSubString(A)"
   ]
  },
  {
   "cell_type": "markdown",
   "id": "f70389f5",
   "metadata": {
    "slideshow": {
     "slide_type": "slide"
    }
   },
   "source": [
    "One hundred people are standing in a circle in an order 1 to 100.\n",
    "\n",
    "No.1 has a sword. He kills the next person (i.e., no. 2) and gives the sword to the next (i.e., no. 3). All person does the same until only one survives.\n",
    "\n",
    "Which number survives at last?"
   ]
  },
  {
   "cell_type": "code",
   "execution_count": 24,
   "id": "01533d7e",
   "metadata": {
    "slideshow": {
     "slide_type": "skip"
    }
   },
   "outputs": [
    {
     "name": "stdout",
     "output_type": "stream",
     "text": [
      "[73]\n"
     ]
    }
   ],
   "source": [
    "A = [i for i in range(1,101)]\n",
    "n = len(A)\n",
    "i= 0\n",
    "\n",
    "for i in range(len(A)):\n",
    "    \n",
    "    if len(A) == 1: break\n",
    "\n",
    "    for j in range(len(A)):\n",
    "        \n",
    "        #print(A,\"\\n\",\"J:\",j,\" Len:\",len(A),\" Pop:\",pop,\"\\n\")\n",
    "        if j + 1  == len(A): \n",
    "            A.pop(0)\n",
    "            break\n",
    "            \n",
    "        if j < len(A): \n",
    "            pop = A.pop(j+1)\n",
    "        else: \n",
    "            break\n",
    "    \n",
    "print(A)"
   ]
  },
  {
   "cell_type": "markdown",
   "id": "c13a0543",
   "metadata": {
    "slideshow": {
     "slide_type": "slide"
    }
   },
   "source": [
    "Given an array A of size N, Groot wants you to pick 2 indices i and j such that\n",
    "\n",
    "1 <= i, j <= N\n",
    "A[i] % A[j] is maximum among all possible pairs of (i, j).\n",
    "Help Groot in finding the maximum value of A[i] % A[j] for some i, j."
   ]
  },
  {
   "cell_type": "markdown",
   "id": "4264733a",
   "metadata": {
    "slideshow": {
     "slide_type": "subslide"
    }
   },
   "source": [
    " A = [1, 2, 44, 3]\n",
    "    \n",
    " 3\n"
   ]
  },
  {
   "cell_type": "code",
   "execution_count": 12,
   "id": "5663422a",
   "metadata": {
    "slideshow": {
     "slide_type": "skip"
    }
   },
   "outputs": [
    {
     "data": {
      "text/plain": [
       "3"
      ]
     },
     "execution_count": 12,
     "metadata": {},
     "output_type": "execute_result"
    }
   ],
   "source": [
    "def solve(A):\n",
    "    \n",
    "    n = len(A)\n",
    "    maxval = 0\n",
    "    temp = 0\n",
    "    \n",
    "    \n",
    "    for i in range(n):\n",
    "        for j in range(n):\n",
    "            \n",
    "            if A[j] != 0: temp = A[i] % A[j]\n",
    "            \n",
    "            if temp > maxval:\n",
    "                maxval = temp\n",
    "    \n",
    "    return maxval\n",
    "\n",
    "A = [1,2,44,3]\n",
    "B = [2, 6, 4]\n",
    "        \n",
    "solve(A) "
   ]
  },
  {
   "cell_type": "code",
   "execution_count": 13,
   "id": "30cac91e",
   "metadata": {
    "slideshow": {
     "slide_type": "skip"
    }
   },
   "outputs": [
    {
     "data": {
      "text/plain": [
       "3"
      ]
     },
     "execution_count": 13,
     "metadata": {},
     "output_type": "execute_result"
    }
   ],
   "source": [
    "def solvefast(A):\n",
    "    \n",
    "    n = len(A)\n",
    "    maxval = 0\n",
    "    temp = 0\n",
    "    \n",
    "    amax = max(A)\n",
    "    \n",
    "    for i in range(n):\n",
    "\n",
    "        if A[i] != 0: temp = A[i] % amax\n",
    "\n",
    "        if temp > maxval:\n",
    "            maxval = temp\n",
    "    \n",
    "    return maxval\n",
    "\n",
    "A = [1,2,44,3]\n",
    "B = [2, 6, 4]\n",
    "        \n",
    "solvefast(A)"
   ]
  },
  {
   "cell_type": "code",
   "execution_count": 14,
   "id": "d7845b9d",
   "metadata": {
    "slideshow": {
     "slide_type": "skip"
    }
   },
   "outputs": [
    {
     "data": {
      "text/plain": [
       "998"
      ]
     },
     "execution_count": 14,
     "metadata": {},
     "output_type": "execute_result"
    }
   ],
   "source": [
    "C = [ 285, 900, 923, 266, 956, 779, 670, 453, 149, 938, 714, 856, 95, 247, 425, 401, 869, 337, 392, 328, 246, 146, 437, 157, 866, 1, 918, 224, 722, 275, 838, 210, 331, 556, 854, 71, 343, 73, 521, 367, 30, 673, 578, 665, 72, 152, 969, 970, 262, 23, 762, 274, 17, 887, 634, 630, 327, 964, 552, 909, 921, 536, 777, 543, 737, 212, 366, 605, 890, 273, 451, 540, 559, 739, 837, 737, 414, 1, 835, 935, 464, 424, 338, 565, 578, 104, 446, 511, 500, 470, 602, 447, 184, 560, 698, 296, 995, 344, 453, 265, 803, 764, 365, 608, 229, 906, 637, 849, 506, 544, 257, 718, 912, 289, 675, 101, 923, 81, 845, 857, 767, 907, 468, 929, 517, 531, 666, 730, 16, 0, 573, 875, 672, 488, 997, 944, 460, 872, 959, 256, 626, 955, 741, 927, 705, 154, 733, 831, 337, 275, 17, 450, 775, 759, 123, 915, 154, 98, 909, 654, 304, 949, 189, 795, 453, 860, 994, 300, 984, 855, 74, 560, 994, 477, 35, 573, 291, 730, 304, 358, 300, 931, 232, 415, 643, 675, 745, 299, 598, 346, 259, 677, 795, 734, 989, 560, 14, 935, 75, 814, 324, 789, 76, 161, 216, 12, 780, 81, 153, 378, 611, 783, 781, 223, 772, 576, 878, 518, 805, 981, 540, 552, 386, 599, 800, 33, 267, 388, 886, 257, 352, 107, 550, 536, 657, 80, 214, 573, 265, 844, 853, 828, 46, 521, 531, 943, 964, 465, 380, 222, 871, 291, 935, 391, 741, 970, 817, 67, 719, 149, 70, 838, 199, 901, 657, 320, 777, 319, 828, 617, 649, 515, 737, 331, 226, 411, 276, 35, 256, 406, 763, 795, 42, 605, 528, 791, 161, 996, 945, 59, 511, 821, 423, 615, 497, 594, 453, 153, 207, 718, 685, 616, 872, 98, 644, 990, 332, 296, 371, 435, 989, 129, 122, 290, 745, 768, 573, 630, 350, 264, 589, 502, 769, 677, 766, 361, 494, 902, 476, 650, 904, 5, 155, 275, 715, 204, 497, 578, 561, 111, 71, 434, 666, 534, 232, 716, 954, 318, 708, 319, 485, 432, 286, 953, 969, 526, 240, 958, 1, 48, 28, 74, 190, 796, 985, 674, 343, 157, 172, 828, 878, 534, 19, 24, 688, 957, 541, 402, 423, 983, 667, 231, 820, 992, 850, 486, 879, 846, 216, 622, 999, 324, 611, 976, 925, 795, 321, 955, 767, 133, 471, 698, 343, 600, 119, 167, 802, 363, 922, 151, 299, 792, 678, 761, 398, 767, 218, 220, 715, 825, 43, 657, 540, 962, 359, 661, 412, 982, 552, 888, 342, 172, 473, 825, 564, 79, 699, 804, 108, 53, 232, 182, 168, 87, 612, 375, 982, 218, 291, 348, 750, 815, 515, 40, 738, 795, 159, 318, 493, 752, 732, 411, 378, 523, 377, 876, 651, 928, 663, 494, 413, 75, 970, 252, 151, 273, 187, 950, 18, 586, 697, 874, 506, 570, 474, 274, 57, 163, 446, 195, 123, 185, 504, 227, 961, 269, 980, 710, 649, 7, 697, 714, 334, 486, 645, 82, 853, 783, 402, 584, 880, 725, 701, 698, 68, 178, 690, 223, 770, 157, 446, 889, 858, 361, 387, 328, 854, 480, 841, 610, 588, 378, 680, 655, 15, 571, 403, 465, 836, 226, 475, 196, 959, 237, 207, 61, 987, 427, 745, 174, 247, 925, 909, 616, 568, 674, 452, 725, 898, 916, 513, 606, 121, 223, 467, 978, 495, 69, 294, 503, 583, 258, 399, 798, 297, 755, 396, 14, 98, 735, 635, 632, 968, 888, 442, 477, 920, 412, 70, 968, 629, 881, 789, 894, 132, 806, 46, 603, 844, 629, 586, 16, 545, 177, 695, 686, 221, 54, 462, 251, 282, 715, 847, 696, 513, 682, 784, 957, 830, 649, 631, 555, 903, 216, 910, 312, 876, 874, 49, 767, 247, 13, 851, 65, 808, 911, 49, 997, 76, 22, 32, 883, 66, 983, 31, 382, 551, 14, 422, 436, 145, 22, 814, 851, 584, 932, 912, 228, 277, 797, 666, 292, 631, 972, 442, 635, 108, 486, 381, 868, 915, 286, 968, 509, 431, 259, 190, 315, 913, 226, 400, 295, 224, 134, 823, 571, 155, 270, 725, 73, 439, 605, 587, 803, 913, 208, 595, 174, 637, 425, 15, 903, 206, 997, 306, 791, 755, 78, 670, 196, 967, 600, 908, 382, 787, 709, 155, 324, 139, 349, 392, 246, 890, 843, 262, 199, 443, 791, 926, 600, 684, 515, 275, 554, 864, 563, 748, 109, 837, 254, 343, 680, 253, 842, 701, 892, 104, 226, 302, 145, 387, 775, 573, 478, 188, 214, 186, 22, 423, 970, 658, 510, 325, 494, 572, 146, 52, 448, 510, 389, 11, 286, 850, 989, 524, 750, 878, 297, 701, 535, 784, 233, 307, 462, 312, 571, 807, 873, 517, 635, 527, 576, 997, 313, 369, 972, 882, 694, 591, 710, 360, 930, 491, 528, 19, 50, 548, 655, 556, 244, 818, 783, 126, 242, 985, 324, 586, 864, 410, 87, 908, 679, 820, 355, 304, 653, 520, 174, 265, 67, 721, 948, 349, 89, 910, 893, 18, 627, 908, 566, 638, 38, 360, 156, 981, 228, 318, 713, 342, 131, 683, 774, 950, 243, 88, 126, 733, 236, 376, 70, 967, 763, 476, 657, 984, 774, 517, 425, 302, 29, 182, 469, 319, 360, 450, 757, 81, 407, 702, 79, 557, 57, 754, 894, 503, 151, 431, 952, 679, 150, 94, 899, 781, 437, 75, 521, 74, 411, 413, 589, 932, 601, 713, 170, 217, 522, 932, 191, 432, 900, 498, 844, 352, 105, 264, 33, 786, 616, 539, 244, 459, 771, 244, 809, 944, 536, 483, 718, 340, 952, 869, 154, 971, 860, 909, 970, 927, 463, 56, 847, 982, 794, 469, 652, 688, 766, 293, 918, 395, 478, 586, 24, 893, 684, 112, 302, 972, 911, 314, 602, 871, 264, 993, 780, 664, 44, 762, 116, 260, 309, 389, 818, 413, 154, 644, 785, 829, 31, 936, 563, 773, 556, 380, 894, 177, 364, 168, 279, 263, 364, 542, 774, 903, 546, 320, 793, 422, 332, 373, 147, 135, 821, 46, 588, 886, 921, 805, 504, 205, 901, 512, 323, 395, 441, 586, 671, 451, 376, 946, 511, 972, 317, 831, 839, 223, 266, 786, 374, 948, 653, 755, 608, 522, 56, 5, 4, 703, 108, 494, 275, 39, 158, 482, 710, 700, 318, 40, 662, 615, 382, 342, 951, 412, 285, 710, 977, 454, 278, 19, 719, 703, 527, 316, 10, 964, 904, 484, 705, 970, 803, 550, 133, 619, 293, 103, 414, 402, 255, 835, 1, 10, 106, 817, 391, 153, 820, 31, 412, 717, 993, 70, 980, 701, 894, 204, 688, 505, 61, 310, 463, 351, 519, 941, 384, 341, 832, 138, 587, 751, 80, 729, 522, 266, 261, 388, 392, 712, 473, 547, 664, 940, 652, 660, 621, 73, 71, 469, 741, 529, 664, 431, 361, 672, 500, 749, 460, 13, 119, 57, 789, 794, 637, 158, 703, 84, 309, 776, 10, 562, 20, 28, 352, 297, 67, 915, 189, 421, 325, 556, 619, 100, 508, 303, 677, 733, 528, 234, 155, 703, 590, 783, 680, 605, 136, 738, 505, 388, 67, 588, 909, 498, 787, 22, 968, 220, 48, 337, 913, 438, 807, 509, 719, 382, 940, 235, 995, 991, 170, 428, 442, 696, 5, 572, 327, 319, 891, 503, 725, 748, 559, 219, 422, 689, 927, 83, 118, 861, 165, 393, 147, 683, 893, 352, 423, 989, 789, 888, 123, 507, 399, 420, 722, 345, 770, 731, 155, 660, 952, 724, 466, 61, 625, 170, 231, 151, 620, 852, 557, 581, 639, 597, 79, 548, 623, 759, 337, 48, 122, 63, 599, 688, 489, 913, 441, 726, 807, 580, 933, 269, 752, 997, 201, 755, 615, 381, 736, 786, 314, 624, 546, 541, 26, 943, 953, 220, 593, 146, 615, 470, 72, 149, 273, 386, 340, 48, 713, 944, 414, 51, 452, 424, 192, 840, 175, 742, 162, 760, 179, 375, 157, 758, 716, 962, 941, 849, 988, 440, 547, 340, 943, 322, 326, 244, 581, 729, 395, 961, 541, 594, 641, 876, 421, 515, 949, 44, 290, 701, 153, 825, 917, 176, 393, 777, 766, 769, 167, 93, 314, 910, 816, 859, 24, 426, 857, 967, 158, 88, 634, 190, 588, 863, 604, 345, 917, 885, 913, 895, 656, 819, 277, 641, 282, 690, 298, 20, 191, 994, 545, 418, 298, 252, 752, 853, 821, 627, 162, 237, 349, 713, 160, 237, 322, 499, 275, 33, 926, 489, 433, 439, 718, 704, 686, 326, 572, 386, 477, 436, 560, 18, 557, 113, 337, 514, 297, 728, 724, 249, 77, 150, 318, 734, 512, 947, 458, 260, 370, 203, 680, 182, 726, 698, 47, 213, 874, 126, 603, 988, 383, 892, 606, 913, 230, 387, 537, 240, 184, 66, 237, 707, 346, 304, 399, 417, 932, 328, 166, 514, 709, 307, 175, 861, 190, 942, 910, 539, 540, 558, 839, 73, 989, 310, 346, 904, 431, 5, 815, 670, 498, 432, 966, 17, 166, 445, 255, 130, 624, 104, 969, 730, 924, 711, 955, 96, 345, 214, 852, 170, 159, 729, 191, 363, 651, 490, 828, 725, 309, 196, 521, 421, 822, 883, 572, 397, 373, 498, 337, 732, 680, 962, 795, 966, 828, 72, 807, 920, 834, 8, 561, 489, 884, 851, 200, 562, 509, 94, 916, 761, 926, 797, 32, 67, 873, 272, 833, 721, 101, 642, 859, 238, 433, 673, 96, 797, 973, 461, 665, 223, 308, 325, 960, 562, 970, 67, 761, 549, 342, 896, 362, 517, 289, 44, 211, 196, 466, 12, 919, 192, 130, 422, 268, 439, 547, 753, 29, 300, 601, 976, 315, 683, 398, 911, 973, 911, 714, 699, 10, 297, 474, 522, 673, 526, 518, 790, 379, 966, 872, 448, 981, 652, 749, 734, 842, 668, 434, 524, 364, 85, 256, 715, 700, 766, 911, 121, 629, 643, 830, 138, 762, 693, 701, 656, 971, 300, 969, 215, 401, 594, 899, 908, 193, 908, 282, 400, 909, 944, 14, 381, 46, 212, 401, 36, 761, 467, 50, 542, 632, 971, 200, 662, 816, 425, 911, 815, 839, 324, 807, 396, 343, 582, 943, 340, 278, 841, 34, 292, 814, 32, 227, 34, 579, 12, 422, 659, 975, 862, 717, 846, 866, 178, 895, 103, 892, 138, 335, 890, 234, 5, 662, 774, 906, 909, 192, 675, 147, 959, 675, 456, 551, 391, 119, 505, 536, 11, 174, 188, 774, 760, 557, 25, 288, 99, 751, 235, 151, 245, 259, 624, 612, 346, 773, 571, 336, 514, 118, 949, 579, 73, 957, 337, 286, 730, 684, 693, 342, 787, 278, 15, 393, 211, 772, 621, 913, 34, 59, 978, 658, 243, 416, 991, 680, 226, 488, 276, 474, 744, 352, 949, 116, 488, 60, 872, 879, 413, 757, 406, 183, 748, 929, 905, 216, 649, 71, 537, 286, 362, 196, 417, 55, 723, 587, 601, 817, 147, 78, 149, 758, 566, 748, 369, 833, 85, 671, 456, 37, 890, 660, 99, 193, 223, 355, 269, 522, 295, 642, 10, 749, 208, 302, 498, 844, 315, 583, 686, 717, 399, 634, 538, 207, 484, 850, 677, 293, 723, 903, 286, 313, 956, 73, 25, 905, 863, 797, 400, 586, 207, 730, 740, 474, 971, 389, 477, 916, 952, 428, 131, 458, 577, 99, 613, 566, 475, 408, 24, 383, 612, 958, 828, 227, 215, 813, 45, 693, 880, 303, 830, 665, 870, 225, 660, 242, 733, 66, 778, 45, 653, 692, 131, 672, 881, 856, 197, 721, 298, 313, 907, 936, 460, 554, 0, 584, 458, 703, 717, 952, 702, 663, 681, 318, 331, 643, 540, 230, 285, 591, 736, 290, 508, 136, 368, 177, 249, 322, 576, 966, 977, 849, 892, 221, 216, 815, 45, 499, 99, 483, 779, 243, 852, 663, 910, 40, 943, 108, 322, 717, 847, 195, 991, 149, 385, 614, 645, 545, 775, 631, 189, 277, 561, 320, 67, 774, 922, 510, 367, 60, 645, 916, 532, 140, 21, 696, 795, 47, 63, 592, 757, 749, 39, 649, 271, 510, 383, 559, 240, 926, 175, 176, 300, 326, 943, 846, 988, 84, 206, 785, 794, 98, 74, 445, 61, 927, 346, 206, 680, 362, 155, 676, 803, 523, 845, 544, 604, 168, 4, 696, 337, 301, 431, 682, 95, 735, 605, 746, 523, 123, 929, 711, 13, 915, 845, 82, 939, 217, 946, 482, 649, 644, 980, 15, 11, 575, 509, 178, 517, 892, 409, 896, 414, 71, 718, 755, 474, 973, 142, 661, 831, 798, 226, 568, 127, 810, 491, 237, 524, 619, 213, 313, 125, 493, 980, 125, 94, 856, 604, 119, 941, 620, 988, 338, 517, 107, 35, 769, 59, 780, 120, 203, 181, 590, 188, 869, 991, 561, 698, 843, 913, 297, 75, 110, 32, 878, 796, 422, 844, 114, 73, 513, 176, 43, 31, 441, 893, 245, 508, 807, 598, 748, 118, 75, 534, 699, 877, 672, 343, 280, 307, 23, 164, 521, 976, 917, 365, 672, 188, 149, 640, 330, 765, 275, 423, 187, 628, 634, 478, 169, 187, 732, 103, 739, 503, 366, 441, 717, 51, 19, 899, 908, 768, 24, 402, 405, 631, 494, 894, 730, 827, 245, 145, 179, 307, 727, 108, 791, 530, 178, 713, 875, 73, 783, 307, 68, 314, 107, 981, 360, 188, 199, 74, 876, 510, 242, 990, 919, 190, 734, 921, 336, 172, 47, 81, 794, 846, 917, 688, 229, 552, 773, 292, 309, 747, 37, 549, 256, 169, 227, 62, 872, 719, 884, 287, 309, 289, 85, 126, 121, 789, 246, 883, 412, 509, 303, 13, 183, 668, 195, 534, 498, 290, 109, 329, 347, 388, 809, 448, 676, 565, 233, 858, 367, 836, 834, 771, 250, 268, 535, 942, 68, 475, 306, 155, 585, 666, 3, 586, 756, 286, 849, 627, 823, 811, 846, 592, 787, 496, 695, 429, 723, 802, 324, 98, 868, 23, 145, 521, 898, 31, 789, 11, 44, 22, 510, 76, 251, 312, 323, 8, 850, 261, 385, 669, 818, 380, 28, 535, 954, 516, 361, 402, 174, 892, 829, 41, 987, 27, 788, 8, 101, 565, 836, 906, 11, 607, 718, 689, 76, 94, 185, 584, 790, 896, 660, 537, 998, 595, 908, 625, 275, 643, 594, 589, 617, 575, 172, 678, 124, 893, 184, 602, 238, 720, 402, 417, 283, 374, 97, 900, 351, 573, 339, 838, 882, 952, 218, 952, 455, 954, 723, 886, 136, 235, 927, 651, 963, 154, 180, 470, 428, 481, 680, 455, 458, 696, 485, 539, 546, 206, 262, 456, 434, 232, 659, 28, 828, 438, 295, 347, 6, 287, 977, 464, 953, 700, 880, 793, 824, 280, 431, 923, 170, 767, 606, 570, 509, 456, 36, 713, 943, 557, 275, 841, 80, 582, 133, 123, 866, 120, 709, 437, 252, 57, 165, 982, 537, 635, 594, 263, 949, 891, 703, 738, 609, 394, 902, 538, 76, 147, 718, 54, 20, 771, 870, 346, 232, 606, 955, 208, 556, 236, 137, 316, 73, 807, 944, 751, 254, 636, 909, 296, 923, 780, 599, 795, 943, 669, 157, 646, 801, 375, 18, 767, 1, 749, 737, 404, 652, 890, 526, 111, 69, 902, 118, 810, 354, 370, 663, 350, 892, 928, 497, 289, 221, 104, 217, 921, 348, 866, 724, 90, 565, 156, 949, 245, 957, 822, 562, 307, 291, 235, 979, 147, 331, 498, 393, 191, 401, 539, 557, 896, 14, 673, 830, 63, 96, 333, 806, 107, 198, 250, 546, 902, 492, 649, 930, 915, 616, 872, 273, 271, 234, 149, 789, 882, 214, 284, 925, 59, 332, 818, 606, 558, 674, 20, 717, 21, 248, 696, 779, 729, 415, 106, 256]\n",
    "\n",
    "solve(C)"
   ]
  },
  {
   "cell_type": "markdown",
   "id": "f581fcde",
   "metadata": {
    "slideshow": {
     "slide_type": "slide"
    }
   },
   "source": [
    "Given an array of integers A, find and return the minimum elements to be removed such that in the resulting array the sum of any two adjacent values is even.\n"
   ]
  },
  {
   "cell_type": "markdown",
   "id": "390dd385",
   "metadata": {
    "slideshow": {
     "slide_type": "subslide"
    }
   },
   "source": [
    "Input 1:\n",
    "    A = [1, 2, 3, 4, 5]\n",
    "Output 1:\n",
    "    2\n",
    "\n",
    "Input 2:\n",
    "    A = [5, 17, 100, 11]\n",
    "Output 2:\n",
    "    1"
   ]
  },
  {
   "cell_type": "code",
   "execution_count": 22,
   "id": "6dcf3a49",
   "metadata": {
    "slideshow": {
     "slide_type": "skip"
    }
   },
   "outputs": [
    {
     "data": {
      "text/plain": [
       "10"
      ]
     },
     "execution_count": 22,
     "metadata": {},
     "output_type": "execute_result"
    }
   ],
   "source": [
    "def solve(A):\n",
    "    \n",
    "    counteven = 0\n",
    "    countodd = 0\n",
    "    \n",
    "    n = len(A)\n",
    "    \n",
    "    for i in range(n):\n",
    "        if A[i] % 2 == 0:\n",
    "            counteven += 1\n",
    "        else:\n",
    "            countodd += 1\n",
    "        \n",
    "    \n",
    "    return min(counteven, countodd)\n",
    "            \n",
    "            \n",
    "A = [1, 2, 3, 4, 5]\n",
    "B = [5, 17, 100, 11]\n",
    "C = [ 33, 82, 75, 4, 52, 74, 79, 46, 18, 73, 1, 83, 46, 94, 44, 86, 40, 1, 46, 24, 99, 16, 88, 6, 66, 17, 1 ]\n",
    "\n",
    "solve(C)"
   ]
  },
  {
   "cell_type": "markdown",
   "id": "878002f3",
   "metadata": {
    "slideshow": {
     "slide_type": "slide"
    }
   },
   "source": [
    "Little pony is going to buy some mobile phones for his friends. As there many models available in the market at different prices, He is confused and wants to know the maximum distinct models of a mobile phone he can buy for his friends, given that he has a total X amount of money.\n",
    "\n",
    "You are given an array A of size N. denoting the prices of different models. The array is sorted based on prices in increasing order. You are given another array B of size Q denoting the queries. In i'th query, you need to tell the maximum distinct models of mobile phones he can buy with B[i] money."
   ]
  },
  {
   "cell_type": "markdown",
   "id": "fbc53e4e",
   "metadata": {
    "slideshow": {
     "slide_type": "subslide"
    }
   },
   "source": [
    "Input 1:\n",
    "\n",
    "A: [3, 4, 4, 6] B: [20, 4, 10, 2]\n",
    "        \n",
    "        \n",
    "Output 1: [4, 1, 2, 0]\n"
   ]
  },
  {
   "cell_type": "markdown",
   "id": "c5c459a8",
   "metadata": {
    "slideshow": {
     "slide_type": "subslide"
    }
   },
   "source": [
    "For the 1st query, he has 20 amount of money and he can buy the phones in just 3 + 4 + 4 + 6 = 17 rupees.\n",
    "\n",
    "For the 2nd query, he has 4 amount of money and he can buy any the second or first phone .\n",
    "\n",
    "For the 3rd query, he has 10 amount of money and he can buy the third and fourth phone in 6 + 4 = 10 amount of money \n",
    "\n",
    "For the 4nd query, he has 2 amount of money and he can't buy any phone with it \n",
    "\n"
   ]
  },
  {
   "cell_type": "code",
   "execution_count": 56,
   "id": "a28e06f1",
   "metadata": {
    "slideshow": {
     "slide_type": "skip"
    }
   },
   "outputs": [
    {
     "data": {
      "text/plain": [
       "[4, 1, 2, 0]"
      ]
     },
     "execution_count": 56,
     "metadata": {},
     "output_type": "execute_result"
    }
   ],
   "source": [
    "def solve(A,B):\n",
    "    \n",
    "    count = 0\n",
    "    add = 0\n",
    "    nb = len(B)\n",
    "    na = len(A)\n",
    "    sumElements = sum(A)\n",
    "    \n",
    "    minval = min(A)\n",
    "    \n",
    "    C =[]\n",
    "    \n",
    "    for i in range(nb):\n",
    "        for j in range(na):\n",
    "            \n",
    "            if B[i] >= sumElements: \n",
    "                count += na\n",
    "                break\n",
    "                \n",
    "            elif B[i] < minval:\n",
    "                count = 0\n",
    "                break\n",
    "                \n",
    "            elif add + A[j] < B[i]:\n",
    "                add = add + A[j]\n",
    "                count += 1\n",
    "                \n",
    "        C.append(count)\n",
    "        count = 0\n",
    "        add = 0\n",
    "\n",
    "    return C\n",
    "\n",
    "A = [3, 4, 4, 6] \n",
    "\n",
    "B = [20, 4, 10, 2]\n",
    "\n",
    "D = [ 3, 4, 11, 16, 18, 37, 70, 80, 99 ]\n",
    "E = [902]\n",
    "\n",
    "\n",
    "solve(A,B)"
   ]
  },
  {
   "cell_type": "markdown",
   "id": "224aeb33",
   "metadata": {
    "slideshow": {
     "slide_type": "skip"
    }
   },
   "source": [
    "A = [3, 4, 4, 6] \n",
    "B = [20, 4, 10, 2]\n",
    "\n",
    "\n",
    "def solve(A, B):\n",
    "        for i in range(1, len(A)):\n",
    "            A[i] = A[i]+ A[i - 1]\n",
    "        for i in range(len(B)):\n",
    "            B[i] = bisect_right(A, B[i])\n",
    "            \n",
    "        return B\n",
    "\n",
    "B\n",
    "    "
   ]
  },
  {
   "cell_type": "markdown",
   "id": "5664a286",
   "metadata": {
    "slideshow": {
     "slide_type": "slide"
    }
   },
   "source": [
    "\n",
    "Little Ponny is given an array, A, of N integers. In a particular operation, he can set any element of the array equal to -1.\n",
    "\n",
    "He wants your help in finding out the minimum number of operations required such that the maximum element of the resulting array is B. If it is not possible, then return -1."
   ]
  },
  {
   "cell_type": "markdown",
   "id": "432a0b1c",
   "metadata": {
    "slideshow": {
     "slide_type": "subslide"
    }
   },
   "source": [
    " Input 1:\n",
    " \n",
    " A = [2, 4, 3, 1, 5]\n",
    " B = 3 \n",
    " \n",
    " Output 1:  2 \n",
    " \n",
    " \n",
    " Input 2:\n",
    " \n",
    " A = [1, 4, 2]\n",
    " B = 3 \n",
    "\n",
    " Output 2: -1\n",
    " "
   ]
  },
  {
   "cell_type": "code",
   "execution_count": 63,
   "id": "0fa51158",
   "metadata": {
    "slideshow": {
     "slide_type": "skip"
    }
   },
   "outputs": [
    {
     "data": {
      "text/plain": [
       "-1"
      ]
     },
     "execution_count": 63,
     "metadata": {},
     "output_type": "execute_result"
    }
   ],
   "source": [
    "def solve(A,B):\n",
    "    \n",
    "    count = 0\n",
    "    n = len(A)\n",
    "    \n",
    "    if B not in A: return -1\n",
    "    \n",
    "    for i in range(n):\n",
    "        # No of elements greater than B\n",
    "        if A[i] > B: count+= 1\n",
    "    \n",
    "    return count\n",
    "    \n",
    "    \n",
    "A = [2, 4, 3, 1, 5]\n",
    "B = 3\n",
    "\n",
    "C = [1, 4, 2] \n",
    "D = 3\n",
    "\n",
    "solve(C,D)"
   ]
  },
  {
   "cell_type": "markdown",
   "id": "bd426a79",
   "metadata": {
    "slideshow": {
     "slide_type": "slide"
    }
   },
   "source": [
    "Determine the last three digits of 7^996 (without calculating the number as whole, Consider if a digit crosses ten thousand place the program will hang in slower computers)"
   ]
  },
  {
   "cell_type": "code",
   "execution_count": 63,
   "id": "44f655c3",
   "metadata": {
    "slideshow": {
     "slide_type": "skip"
    }
   },
   "outputs": [
    {
     "data": {
      "text/plain": [
       "601"
      ]
     },
     "execution_count": 63,
     "metadata": {},
     "output_type": "execute_result"
    }
   ],
   "source": [
    "def solve(a, b): \n",
    "    value = a\n",
    "    \n",
    "    for i in range(1,b):\n",
    "        \n",
    "        if value < 1000: \n",
    "            value *= 7\n",
    "        else: \n",
    "            value = value % 1000\n",
    "            value *= 7\n",
    "            \n",
    "    return value % 1000\n",
    "\n",
    "solve(7,996)"
   ]
  },
  {
   "cell_type": "markdown",
   "id": "c1436aa1",
   "metadata": {
    "slideshow": {
     "slide_type": "skip"
    }
   },
   "source": [
    "Rishik likes to draw a lot. He starts at origin and chooses a single Y cordinate of each abscissa in [1-N] given in array A and then chooses 0 for N+1. He then joins each consecutive point with a straight line and found that he has drawn a masterpiece. But, It is incomplete without coloring.\n",
    "\n",
    "So, he wants you to tell him the area of hills that he will color."
   ]
  },
  {
   "cell_type": "markdown",
   "id": "4d37b530",
   "metadata": {},
   "source": [
    "Input 1: [2, 1, 3]\n",
    "\n",
    "\n",
    "Output 1: \"6\"\n",
    "\n",
    "\n",
    "Input 2: [10]\n",
    "\n",
    "\n",
    "Output 2: \"10\""
   ]
  },
  {
   "cell_type": "markdown",
   "id": "bd5ab53c",
   "metadata": {},
   "source": [
    "<img src = \"https://s3.ap-south-1.amazonaws.com/scaler-production-domestic/public_assets/assets/000/000/045/original/7550.png?1614505512\" style=\"width:500px;\" align = left>"
   ]
  },
  {
   "cell_type": "code",
   "execution_count": 119,
   "id": "3489cb23",
   "metadata": {},
   "outputs": [
    {
     "data": {
      "text/plain": [
       "10.0"
      ]
     },
     "execution_count": 119,
     "metadata": {},
     "output_type": "execute_result"
    }
   ],
   "source": [
    "\n",
    "def solve(A):\n",
    "    \n",
    "    area = 0\n",
    "    # Concats A with start and end y cords= [0,2,1,3,0]\n",
    "    y = [0] + A + [0] \n",
    "    n = len(y)\n",
    "    \n",
    "    # Also Add x coords as [0,1,2,3,4] in which start two coords are fixed always\n",
    "    \n",
    "    x = []\n",
    "    m = len(x)\n",
    "    \n",
    "    for i in range(n): x.append(i)\n",
    "        \n",
    "    # Area of Triangle =  hb/2\n",
    "    \n",
    "    for i in range(0,n-1):\n",
    "        \n",
    "        if i == 0 or i == n-2:\n",
    "            \n",
    "            # triangle formula: (h * b) /2\n",
    "            \n",
    "            h = abs(y[i+1] - y[i]) #absolute for always positive values\n",
    "            b = abs(x[i+1] - x[i])\n",
    "\n",
    "            area = area + (b * h)/ 2\n",
    "        \n",
    "        else:\n",
    "            \n",
    "            # Trapizoid formula = ((b1 +b2) * h)/2 but here base will be in y coords and h will be in x\n",
    "            \n",
    "            h = abs(x[i+1] - x[i])\n",
    "            b1 = y[i]\n",
    "            b2 = y[i+1]\n",
    "            \n",
    "            area = area + ((b1+b2) * h) / 2\n",
    "            \n",
    "    \n",
    "    \n",
    "    return area\n",
    "\n",
    "A = [2,1,3]\n",
    "\n",
    "solve(A)\n",
    "  \n",
    "    \n",
    "    "
   ]
  },
  {
   "cell_type": "code",
   "execution_count": 87,
   "id": "5fa227c2",
   "metadata": {},
   "outputs": [
    {
     "name": "stdout",
     "output_type": "stream",
     "text": [
      "[2, 1, 3, 0]\n",
      "0\n",
      "1\n",
      "7\n",
      "7\n"
     ]
    },
    {
     "data": {
      "text/plain": [
       "7"
      ]
     },
     "execution_count": 87,
     "metadata": {},
     "output_type": "execute_result"
    }
   ],
   "source": [
    "def solve(A):\n",
    "    area = 0\n",
    "    B = [0]\n",
    "\n",
    "    A = A + B #Concatenate to get coordinates\n",
    "    n = len(A)\n",
    "    print(A)\n",
    "    \n",
    "    for i in range(n): \n",
    "        area = area + (A[i] * i) \n",
    "        print(area)\n",
    "    \n",
    "    return area\n",
    "\n",
    "A = [2,1,3]\n",
    "solve(A)"
   ]
  },
  {
   "cell_type": "markdown",
   "id": "74002192",
   "metadata": {},
   "source": [
    "Little Ponny and Little Donny are playing a game. The game consists of a box containing A stones in the beginning.\n",
    "\n",
    "A move consists of removing some stones from the box. Now, if the box contains K stones at the moment, then a player can pick up anywhere between 1 to K − 1 number of stones except if there is only one left in which case the player has no other choice but to pick it. The player who isn't able to make any move loses.\n",
    "\n",
    "Guess the winner if Little Ponny moves first.\n",
    "\n",
    "Note: Both the players make their moves optimally."
   ]
  },
  {
   "cell_type": "markdown",
   "id": "e8937a95",
   "metadata": {},
   "source": [
    "Input 1: A = 1\n",
    " \n",
    "Output 1: \"Ponny\"\n",
    " \n",
    " \n",
    "Input 2: A = 2\n",
    "\n",
    "Output 2: \"Donny\""
   ]
  },
  {
   "cell_type": "code",
   "execution_count": 76,
   "id": "fe4391f1",
   "metadata": {},
   "outputs": [
    {
     "data": {
      "text/plain": [
       "'Ponny'"
      ]
     },
     "execution_count": 76,
     "metadata": {},
     "output_type": "execute_result"
    }
   ],
   "source": [
    "def solve(A):\n",
    "    \n",
    "    ponny = True\n",
    "    \n",
    "    while(A > 1):\n",
    "        \n",
    "        if ponny == True:\n",
    "            \n",
    "            if A != 2: \n",
    "                A = A - (A-2)\n",
    "            else: \n",
    "                A = A - 1\n",
    "            \n",
    "            ponny = False\n",
    "        \n",
    "        else:\n",
    "            A = A - 1\n",
    "            ponny = True\n",
    "    \n",
    "    if ponny == True: return \"Ponny\"\n",
    "    else: return \"Donny\"\n",
    "\n",
    "A = 10000   \n",
    "solve(A)"
   ]
  },
  {
   "cell_type": "markdown",
   "id": "e2fbab25",
   "metadata": {},
   "source": [
    "### Pattern"
   ]
  },
  {
   "cell_type": "code",
   "execution_count": 6,
   "id": "0a2c7bd2",
   "metadata": {},
   "outputs": [
    {
     "name": "stdout",
     "output_type": "stream",
     "text": [
      "4\n",
      "A\n",
      "B B\n",
      "C C C\n",
      "D D D D\n"
     ]
    }
   ],
   "source": [
    "N = int(input())\n",
    "space = \" \"\n",
    "for r in range(1,N+1):\n",
    "    for c in range(r):\n",
    "        space = \"\" if c + 1 == r else \" \"    \n",
    "        print(chr(64+r),end =space)\n",
    "    print()\n",
    "        "
   ]
  },
  {
   "cell_type": "markdown",
   "id": "ccf7535b",
   "metadata": {},
   "source": [
    "### Prime"
   ]
  },
  {
   "cell_type": "code",
   "execution_count": 25,
   "id": "52a95b2d",
   "metadata": {},
   "outputs": [
    {
     "name": "stdout",
     "output_type": "stream",
     "text": [
      "YES\n"
     ]
    }
   ],
   "source": [
    "N = 2\n",
    "isPrime = True\n",
    "for i in range(2, int(N ** 0.5)+1):\n",
    "    if N % i == 0:\n",
    "        isPrime = False\n",
    "        break\n",
    "print(\"YES\") if isPrime else print(\"NO\")"
   ]
  },
  {
   "cell_type": "markdown",
   "id": "86474006",
   "metadata": {},
   "source": [
    "### Fibonacci"
   ]
  },
  {
   "cell_type": "code",
   "execution_count": 2,
   "id": "38c1e961",
   "metadata": {},
   "outputs": [
    {
     "data": {
      "text/plain": [
       "701408733"
      ]
     },
     "execution_count": 2,
     "metadata": {},
     "output_type": "execute_result"
    }
   ],
   "source": [
    "def fibonacci(n):\n",
    "    a = 0\n",
    "    b = 1\n",
    "\n",
    "    c = a+b # c = 1\n",
    "\n",
    "    i = 2\n",
    "\n",
    "    while(i <= n):\n",
    "        c = a+b\n",
    "        b,a = c,b\n",
    "        if i == n:\n",
    "            return c\n",
    "        i += 1\n",
    "\n",
    "fibonacci(44)"
   ]
  },
  {
   "cell_type": "code",
   "execution_count": 97,
   "id": "ea582cb4",
   "metadata": {},
   "outputs": [
    {
     "data": {
      "text/plain": [
       "85"
      ]
     },
     "execution_count": 97,
     "metadata": {},
     "output_type": "execute_result"
    }
   ],
   "source": [
    "def solve(A):\n",
    "    count = 0\n",
    "\n",
    "    for num in A:\n",
    "        isPrime = True\n",
    "        for i in range(2, int(abs(num)**0.5)+1):\n",
    "            \n",
    "            if num % i == 0:\n",
    "                isPrime = False\n",
    "                \n",
    "        if isPrime: count += 1        \n",
    "    return count\n",
    "\n",
    "solve([ 97, 43, 29, 11, 100, 47, 76, 83, 37, 19, 17, 19, 71, 0, 1, -82, 2, -83, 37, 13, 5, 97, 17, 30, 31, 48, 2, 19, 31, 91, 19, 2, 5, 89, 2, 67, 31, 47, 43, 31, 5, 17, 83, 11, 47, 73, 19, 3, 3, 19, 59, 91, 67, 7, 43, 4, 3, 51, 52, 23, 3, 37, 53, 89, 9, 41, 19, 61, 7, 5, 53, 59, 19, 11, 79, 37, 31, 37, 73, 82, 41, 2, 13, 8, 2, 36, 19, 58, 17, 17, 59, 59, 37, 11, 13, 37, 47, 83, 31, 3 ])"
   ]
  },
  {
   "cell_type": "markdown",
   "id": "8a02a6ed",
   "metadata": {},
   "source": [
    "### HCF"
   ]
  },
  {
   "cell_type": "code",
   "execution_count": 19,
   "id": "bc2d94e1",
   "metadata": {},
   "outputs": [
    {
     "data": {
      "text/plain": [
       "1"
      ]
     },
     "execution_count": 19,
     "metadata": {},
     "output_type": "execute_result"
    }
   ],
   "source": [
    "def gcd(A, B):\n",
    "    \n",
    "        maxval= max(A,B)\n",
    "        minval = min(A,B)\n",
    "\n",
    "        while(minval > 0):\n",
    "            maxval = maxval-minval\n",
    "            maxval,minval = max(maxval,minval), min(maxval,minval)\n",
    "        return maxval\n",
    "    \n",
    "gcd(8,97)"
   ]
  },
  {
   "cell_type": "code",
   "execution_count": 22,
   "id": "ad293658",
   "metadata": {},
   "outputs": [
    {
     "data": {
      "text/plain": [
       "2"
      ]
     },
     "execution_count": 22,
     "metadata": {},
     "output_type": "execute_result"
    }
   ],
   "source": [
    "def gcdfast(a,b):\n",
    "    \n",
    "    while a != 0 and b != 0:\n",
    "        if a > b:\n",
    "            a = a%b\n",
    "        else:\n",
    "            b = b%a\n",
    "    return a+b\n",
    "\n",
    "gcdfast(4,6)"
   ]
  },
  {
   "cell_type": "markdown",
   "id": "4ec23475",
   "metadata": {},
   "source": [
    "### LCM"
   ]
  },
  {
   "cell_type": "code",
   "execution_count": 2,
   "id": "8847f561",
   "metadata": {},
   "outputs": [
    {
     "data": {
      "text/plain": [
       "12"
      ]
     },
     "execution_count": 2,
     "metadata": {},
     "output_type": "execute_result"
    }
   ],
   "source": [
    "def lcm(a,b):\n",
    "    # a * b = hc.f * lc.m\n",
    "    A = a\n",
    "    B = b\n",
    "    hcf = 0\n",
    "    \n",
    "    while a != 0 and b != 0:\n",
    "        if a > b:\n",
    "            a %= b\n",
    "        else:\n",
    "            b %= a\n",
    "    hcf = a + b\n",
    "    \n",
    "    lcm = (A*B)//hcf\n",
    "    return lcm\n",
    "\n",
    "lcm(4,6)"
   ]
  },
  {
   "cell_type": "markdown",
   "id": "4ab75ce3",
   "metadata": {},
   "source": [
    "### Square Root"
   ]
  },
  {
   "cell_type": "code",
   "execution_count": 10,
   "id": "d2031ed5",
   "metadata": {},
   "outputs": [
    {
     "data": {
      "text/plain": [
       "0.4"
      ]
     },
     "execution_count": 10,
     "metadata": {},
     "output_type": "execute_result"
    }
   ],
   "source": [
    "def sqrt(A):\n",
    "    mid = 0\n",
    "    tempmid = 0\n",
    "    \n",
    "    if A < 0:\n",
    "        upper,lower = A ** 3 , A\n",
    "\n",
    "        while (abs(A - (mid * mid)) >= 1e-12):\n",
    "            mid = (upper + lower) / 2\n",
    "            if mid * mid >= A:\n",
    "                upper = mid\n",
    "            else:\n",
    "                lower = mid\n",
    "\n",
    "            if mid == tempmid: return round(mid,6)\n",
    "            tempmid = mid\n",
    "    else: \n",
    "        \n",
    "        upper,lower = A,0\n",
    "        while (abs(A - (mid * mid)) >= 0.00000000001):\n",
    "            mid = (upper + lower) / 2\n",
    "            if mid * mid >= A:\n",
    "                upper = mid\n",
    "            else:\n",
    "                lower = mid\n",
    "\n",
    "            if mid == tempmid: return round(mid,6)\n",
    "            tempmid = mid\n",
    "\n",
    "        print(mid)\n",
    "        \n",
    "        \n",
    "    return round(mid,8)\n",
    "\n",
    "sqrt(0.4)"
   ]
  },
  {
   "cell_type": "code",
   "execution_count": 6,
   "id": "276a0ec0",
   "metadata": {},
   "outputs": [
    {
     "data": {
      "text/plain": [
       "100"
      ]
     },
     "execution_count": 6,
     "metadata": {},
     "output_type": "execute_result"
    }
   ],
   "source": [
    "def solve(A):\n",
    "    upper = A\n",
    "    lower = 0\n",
    "    mid = 0\n",
    "    tempmid = 0\n",
    "\n",
    "    while mid * mid != A:\n",
    "\n",
    "        mid = (upper + lower) // 2\n",
    "\n",
    "        if mid * mid >= A:\n",
    "            upper = mid\n",
    "        else:\n",
    "            lower = mid\n",
    "            \n",
    "        if mid == tempmid: return -1\n",
    "        tempmid = mid\n",
    "        \n",
    "    return mid\n",
    "solve(10000)"
   ]
  },
  {
   "cell_type": "markdown",
   "id": "4e9ad4c2",
   "metadata": {},
   "source": [
    "### Log"
   ]
  },
  {
   "cell_type": "code",
   "execution_count": 11,
   "id": "16086c50",
   "metadata": {},
   "outputs": [
    {
     "data": {
      "text/plain": [
       "9.094947017729282e-13"
      ]
     },
     "execution_count": 11,
     "metadata": {},
     "output_type": "execute_result"
    }
   ],
   "source": [
    "# log (8,2)\n",
    "def log(x,b):\n",
    "    \n",
    "    left = 0\n",
    "    right = x\n",
    "    mid = (left + right) / 2\n",
    "    temp = b ** mid\n",
    "    \n",
    "    while abs(temp-x) > 1e-12:\n",
    "        if temp > x:\n",
    "            right = mid\n",
    "        else:\n",
    "            left = mid\n",
    "        mid = (left + right) / 2\n",
    "        temp = b ** mid\n",
    "    \n",
    "    return mid\n",
    "\n",
    "log(1,2)"
   ]
  },
  {
   "cell_type": "markdown",
   "id": "9fa9b7c0",
   "metadata": {},
   "source": [
    "### Armstrong"
   ]
  },
  {
   "cell_type": "code",
   "execution_count": 33,
   "id": "5f7cca35",
   "metadata": {},
   "outputs": [
    {
     "name": "stdout",
     "output_type": "stream",
     "text": [
      "100\n",
      "1\n"
     ]
    }
   ],
   "source": [
    "def armstrong(num):\n",
    "    if num == 1: return True\n",
    "    if num < 11: return False\n",
    "    temp = num\n",
    "    total = 0\n",
    "    power = 0\n",
    "    \n",
    "    while num > 0:\n",
    "        num = num // 10\n",
    "        power += 1\n",
    "\n",
    "    num = temp\n",
    "    while(num != 0):\n",
    "        digit = num % 10\n",
    "        num = num // 10\n",
    "        total = total + digit ** power\n",
    "    return temp == total\n",
    "\n",
    "n = int(input())\n",
    "for i in range(n):\n",
    "    if armstrong(i): print(i)"
   ]
  },
  {
   "cell_type": "markdown",
   "id": "da4f1cfc",
   "metadata": {},
   "source": [
    "### Binary"
   ]
  },
  {
   "cell_type": "code",
   "execution_count": 30,
   "id": "b6fc8a80",
   "metadata": {},
   "outputs": [
    {
     "data": {
      "text/plain": [
       "189"
      ]
     },
     "execution_count": 30,
     "metadata": {},
     "output_type": "execute_result"
    }
   ],
   "source": [
    "def binToDecimal(num):\n",
    "    temp = num\n",
    "    decimalBase = 0\n",
    "    base = 0\n",
    "    \n",
    "    while num > 0:\n",
    "        digit = num %  10\n",
    "        num = num // 10\n",
    "        decimalBase = decimalBase + (2**base) * digit\n",
    "        base+=1\n",
    "        \n",
    "    return decimalBase\n",
    "        \n",
    "binToDecimal(10111101)        \n",
    "        "
   ]
  },
  {
   "cell_type": "code",
   "execution_count": 47,
   "id": "2e482335",
   "metadata": {},
   "outputs": [
    {
     "data": {
      "text/plain": [
       "1010"
      ]
     },
     "execution_count": 47,
     "metadata": {},
     "output_type": "execute_result"
    }
   ],
   "source": [
    "def decToBinary(num):\n",
    "    binary = \"\"\n",
    "    total = 0\n",
    "    n = 0\n",
    "    \n",
    "    temp = num\n",
    "    while temp > 0:\n",
    "        temp //= 2\n",
    "        n += 1\n",
    "\n",
    "    i = n\n",
    "    if 2 ** n == num: \n",
    "        binary = \"1\" + \"0\" * (n-1)\n",
    "        return binary\n",
    "    \n",
    "    while(i != -1):\n",
    "        if 2 ** i > num:\n",
    "            binary += \"0\"\n",
    "            i -= 1\n",
    "        else:\n",
    "            total =  total + 2**(i)\n",
    "            num = num - 2**(i)\n",
    "            binary += \"1\"\n",
    "            i -= 1\n",
    "    return int(binary)\n",
    "    \n",
    "decToBinary(10)"
   ]
  },
  {
   "cell_type": "code",
   "execution_count": 8,
   "id": "d5190b01",
   "metadata": {},
   "outputs": [],
   "source": [
    "#Is two Power?"
   ]
  },
  {
   "cell_type": "code",
   "execution_count": 12,
   "id": "5bc390da",
   "metadata": {},
   "outputs": [
    {
     "data": {
      "text/plain": [
       "1"
      ]
     },
     "execution_count": 12,
     "metadata": {},
     "output_type": "execute_result"
    }
   ],
   "source": [
    "def isPowerOf2(A):\n",
    "    A = int(A)\n",
    "    isTwoMultiple = 1\n",
    "\n",
    "    while A > 1:\n",
    "        if A % 2 == 0: A //= 2\n",
    "        else: return 0\n",
    "\n",
    "    return isTwoMultiple\n",
    "\n",
    "isPowerOf2(32)"
   ]
  },
  {
   "cell_type": "code",
   "execution_count": 10,
   "id": "b98622cf",
   "metadata": {},
   "outputs": [
    {
     "data": {
      "text/plain": [
       "1"
      ]
     },
     "execution_count": 10,
     "metadata": {},
     "output_type": "execute_result"
    }
   ],
   "source": [
    "A = \"7447679294409787480206587789773063224874723526480656600645239021332725569389903878951667543615703918753129506900980203714208079402799323746713156442298258183591232593562677919072352412656699450457259585447005969677420802979676427092284318330396591211358824862443498854309844685937556058125862110520808947535374651305305936818423877801169236849918307016405936841752117571388469572838586449672973875781265772221612448759079976777529012844276302728841298661521468653593405041560260586203853414552904922284348612361904023324137855484894398173469760509485285231742401176940942222746604776698083022836933008589078850584609594645090461577321027067679416855234620545817913118082155701260636482757796187299061107975484338900505156698569044536746131809558117989804901177121238369332474189727431336088429197973230571546200140433399250155474192816443797068031379579685218897756929120121936131786223448086475289855901486253561865904375769332087624058484380530086675086178189592889236889541817011240437079980165223638995613940494260765613848503097016375861467352796371770679052937991023183691129473661565633314463764350748672570814277913322558112668773732422174521906354805394022174271007163156470870640610966937215956331590961476145170866509843572581513903612945705134839611415303334090740884121053669193851409567352590290332073545902296968894880502439409478200434142439353187383542161325620613346016118629703410730467995060275915882042674306819029375879601886466473950124869694432504993224197381648798809300868185140852997143384615901255912970700013611851296484643503714434473340024868206849040780522948332070525399266679716636706671473669415467622055342219997850549925370885603902558017930866837536623424105053217081043546963241148632129208333555565786207628794677893280457486872553774642379645864938939771642889796180977831901280174776677046806726624593448820682131977124610307414838679069664509010953749943175640879387345993072124629047171436920269181796739656923705847966803369484040946354386717369970975646461462845282972863951983604404653224306178274506124795237483630449325933887335383834472309920871571562132466413400160588464872911714931271781294545688190028625708541188889103250712750944147093283419753835958566604796315170634837620599828031531501499472721769874836512482588189212503607372243616834488611994002470043210969728620578423395885128832526998409632767233625642528701060685224951175826281625741609381906513868836274919572537732497164750064301070377193292393951960664973613875650512469553772619685898652596146563935217886038259573704156521920282529477832565005940211744168659463108879495932358289550047178958288609176078524888583643604843362245782030854622635557345494267201564827700849545827897262997504\"\n",
    "isPowerOf2(A)"
   ]
  },
  {
   "cell_type": "code",
   "execution_count": 13,
   "id": "bd88aef7",
   "metadata": {},
   "outputs": [
    {
     "name": "stdout",
     "output_type": "stream",
     "text": [
      "23 45\n",
      "45.0 23.0\n"
     ]
    }
   ],
   "source": [
    "# 2nd largest number\n",
    "A = input()\n",
    "A = A.split()\n",
    "\n",
    "maxnum = float(A[1])\n",
    "minnum = float(A[1])\n",
    "\n",
    "for num in A:\n",
    "    value = float(num)\n",
    "\n",
    "    if value > maxnum: maxnum = value\n",
    "    if value < minnum: minnum = value\n",
    "\n",
    "print(maxnum,minnum)"
   ]
  },
  {
   "cell_type": "markdown",
   "id": "4fb96662",
   "metadata": {},
   "source": [
    "### Merge"
   ]
  },
  {
   "cell_type": "code",
   "execution_count": 1,
   "id": "c630b530",
   "metadata": {},
   "outputs": [
    {
     "data": {
      "text/plain": [
       "[-1, -1, -1, 1, 2, 3, 4, 5]"
      ]
     },
     "execution_count": 1,
     "metadata": {},
     "output_type": "execute_result"
    }
   ],
   "source": [
    "def merge(t,A, n1, B, n2):\n",
    "    ans = []\n",
    "    # YOUR CODE GOES HERE\n",
    "    for i in range(t):\n",
    "        \n",
    "        ans = A + B\n",
    "        n = len(ans)\n",
    "        \n",
    "        for i in range(n):\n",
    "            for j in range(n):\n",
    "                if ans[j] >= ans[i]: ans[j],ans[i] = ans[i],ans[j]\n",
    "    return ans\n",
    "\n",
    "t = 1\n",
    "n1 = 3 \n",
    "#A = [-1,2,4]\n",
    "n2 = 5 \n",
    "#B = [-1,-1,1,3,5]\n",
    "\n",
    "A = [-1, 2, 4] \n",
    "B = [-1, -1, 1, 3, 5]\n",
    "\n",
    "merge(t,A, n1, B, n2)\n"
   ]
  },
  {
   "cell_type": "markdown",
   "id": "a71d0d98",
   "metadata": {},
   "source": [
    "### Pascal Triangle"
   ]
  },
  {
   "cell_type": "code",
   "execution_count": 18,
   "id": "6eb29efe",
   "metadata": {},
   "outputs": [
    {
     "name": "stdout",
     "output_type": "stream",
     "text": [
      "1 \n",
      "1 1 \n",
      "1 2 1 \n",
      "1 3 3 1 \n",
      "1 4 6 4 1 \n"
     ]
    }
   ],
   "source": [
    "n = 5\n",
    "count = n-1\n",
    "for r in range(n):\n",
    "    value  =  1\n",
    "    for c in range(r+1):\n",
    "        print(value, end = \" \")\n",
    "        value = value * (r-c)//(c+1)\n",
    "    print()\n",
    "    #print(\"0 \"* count)\n",
    "    count -= 1"
   ]
  },
  {
   "cell_type": "markdown",
   "id": "973c1832",
   "metadata": {},
   "source": [
    "### Decimal to Octal"
   ]
  },
  {
   "cell_type": "code",
   "execution_count": 34,
   "id": "9973cd54",
   "metadata": {},
   "outputs": [
    {
     "data": {
      "text/plain": [
       "275"
      ]
     },
     "execution_count": 34,
     "metadata": {},
     "output_type": "execute_result"
    }
   ],
   "source": [
    "\"210\"\n",
    "def decToOct(dec):\n",
    "    octal = 0\n",
    "    power = 0\n",
    "    while(dec!= 0):\n",
    "        rem = dec % 8\n",
    "        dec //= 8\n",
    "        octal = octal + rem * (10**power)\n",
    "        power += 1\n",
    "    return octal\n",
    "\n",
    "decToOct(189)"
   ]
  },
  {
   "cell_type": "markdown",
   "id": "a1240285",
   "metadata": {},
   "source": [
    "### Search"
   ]
  },
  {
   "cell_type": "code",
   "execution_count": 40,
   "id": "98b4b4ad",
   "metadata": {},
   "outputs": [
    {
     "data": {
      "text/plain": [
       "1"
      ]
     },
     "execution_count": 40,
     "metadata": {},
     "output_type": "execute_result"
    }
   ],
   "source": [
    "def search(A,num):\n",
    "    for i in A:\n",
    "        if int(i) == num: return 1\n",
    "    return 0\n",
    "        \n",
    "A = \"16 6347 6374 254 23 254 21 5 6 78 89 23 0 56 37 57\"\n",
    "A = A.split()\n",
    "num = 23\n",
    "search(A,89)"
   ]
  },
  {
   "cell_type": "code",
   "execution_count": 20,
   "id": "fa2d25ea",
   "metadata": {},
   "outputs": [
    {
     "name": "stdout",
     "output_type": "stream",
     "text": [
      "23 1\n"
     ]
    }
   ],
   "source": [
    "def minmax(A):    \n",
    "    #A = input()\n",
    "    A= A.split()\n",
    "    A.pop(0)\n",
    "    \n",
    "    maxval = int(A[0])\n",
    "    minval = int(A[0])\n",
    "\n",
    "    for num in A:\n",
    "        value = int(num)\n",
    "        if value >= maxval and value != A[0]:maxval = value\n",
    "        if value <= minval and value != A[0]: minval = value\n",
    "    print(maxval,minval)\n",
    "    \n",
    "A = \"5 6 7 23 2 1 5 4\"\n",
    "minmax(A)"
   ]
  },
  {
   "cell_type": "code",
   "execution_count": 35,
   "id": "89836304",
   "metadata": {},
   "outputs": [
    {
     "name": "stdout",
     "output_type": "stream",
     "text": [
      "[[10, 10, 10], [10, 10, 10], [10, 10, 10]]\n"
     ]
    }
   ],
   "source": [
    "A =[[1,2,3],\n",
    "   [4,5,6],\n",
    "   [7,8,9]]\n",
    "B = [[9,8,7],\n",
    "     [6,5,4],\n",
    "     [3,2,1]]\n",
    "C = A.copy()\n",
    "\n",
    "n1 = len(A)\n",
    "n2 = len(A[0])\n",
    "\n",
    "for i in range(n1):\n",
    "    for j in range(n2):\n",
    "        C[i][j] = A[i][j] + B[i][j] \n",
    "\n",
    "print(C)"
   ]
  },
  {
   "cell_type": "markdown",
   "id": "2a0722b0",
   "metadata": {},
   "source": [
    "### Wave "
   ]
  },
  {
   "cell_type": "code",
   "execution_count": 41,
   "id": "34edbc60",
   "metadata": {},
   "outputs": [
    {
     "name": "stdout",
     "output_type": "stream",
     "text": [
      "[1, 4, 7, 10, 11, 8, 5, 2, 3, 6, 9, 12, 16, 15, 14, 13]\n"
     ]
    }
   ],
   "source": [
    "A =[[1,2,3,13],\n",
    "   [4,5,6,14],\n",
    "   [7,8,9,15],\n",
    "   [10,11,12,16]]\n",
    "n1 = len(A)\n",
    "n2 = len(A[0])\n",
    "C =[]\n",
    "\n",
    "for j in range(n2):\n",
    "    if j%2 !=0:\n",
    "        for i in range(n1-1,-1,-1):\n",
    "            C.append(A[i][j])\n",
    "    else:\n",
    "        for i in range(n1):\n",
    "            C.append(A[i][j])\n",
    "            \n",
    "print(C)"
   ]
  },
  {
   "cell_type": "markdown",
   "id": "37fd7310",
   "metadata": {},
   "source": [
    "### Binary Search Problem!"
   ]
  },
  {
   "cell_type": "markdown",
   "id": "dd018b0e",
   "metadata": {},
   "source": [
    "Little pony is going to buy some mobile phones for his friends. As there many models available in the market at different prices, He is confused and wants to know the maximum distinct models of a mobile phone he can buy for his friends, given that he has a total X amount of money.\n",
    "\n",
    "You are given an array A of size N. denoting the prices of different models. The array is sorted based on prices in increasing order. You are given another array B of size Q denoting the queries. In i'th query, you need to tell the maximum distinct models of mobile phones he can buy with B[i] money."
   ]
  },
  {
   "cell_type": "markdown",
   "id": "18038d05",
   "metadata": {},
   "source": [
    "A: [3, 4, 4, 6] B: [20, 4, 10, 2]\n",
    "\n",
    "\n",
    "Example Output\n",
    "\n",
    "Output 1:\n",
    "\n",
    " [4, 1, 2, 0]\n"
   ]
  },
  {
   "cell_type": "code",
   "execution_count": 12,
   "id": "c1de3d12",
   "metadata": {},
   "outputs": [
    {
     "data": {
      "text/plain": [
       "[10, 10, 10, 9, 3, 5, 4, 10, 5]"
      ]
     },
     "execution_count": 12,
     "metadata": {},
     "output_type": "execute_result"
    }
   ],
   "source": [
    "def solve(A, B):\n",
    "        \n",
    "    count = 0\n",
    "    na = len(A)\n",
    "    C =[]\n",
    "    D = []\n",
    "\n",
    "    for i in range(na):\n",
    "        D.append(sum(A[:i+1]))        \n",
    "\n",
    "    for i in range(len(B)):\n",
    "        l = 0\n",
    "        r = na - 1\n",
    "        mid = l + (r-l)//2\n",
    "\n",
    "        while l<= r:\n",
    "            if B[i] > D[r]: \n",
    "                count =  count + r+1\n",
    "                break\n",
    "            if B[i] < D[0]:\n",
    "                break\n",
    "\n",
    "            if B[i] > D[mid -1] and B[i] < D[mid] :\n",
    "                count = count + mid\n",
    "                break\n",
    "            elif B[i] < D[mid]:\n",
    "                r = mid - 1\n",
    "                mid = l + (r-l)//2\n",
    "            elif  B[i] > D[mid]:\n",
    "                l = mid + 1\n",
    "                mid = l + (r-l)//2\n",
    "\n",
    "        C.append(count)\n",
    "        count = 0   \n",
    "\n",
    "    return C\n",
    "\n",
    "A = [ 19, 29, 35, 53, 67, 74, 77, 80, 85, 88 ]\n",
    "B = [ 931, 701, 854, 575, 96, 221, 199, 984, 264 ]\n",
    "solve(A,B)"
   ]
  },
  {
   "cell_type": "code",
   "execution_count": 15,
   "id": "fa5ffb8c",
   "metadata": {},
   "outputs": [
    {
     "data": {
      "text/plain": [
       "2"
      ]
     },
     "execution_count": 15,
     "metadata": {},
     "output_type": "execute_result"
    }
   ],
   "source": [
    "A =[1,2,3,4,4]\n",
    "A.count(max(A))"
   ]
  },
  {
   "cell_type": "code",
   "execution_count": 19,
   "id": "530b8869",
   "metadata": {},
   "outputs": [
    {
     "data": {
      "text/plain": [
       "3"
      ]
     },
     "execution_count": 19,
     "metadata": {},
     "output_type": "execute_result"
    }
   ],
   "source": [
    "A = [[2,2],[3,2]]\n",
    "max(A[1])"
   ]
  },
  {
   "cell_type": "code",
   "execution_count": 31,
   "id": "31589af2",
   "metadata": {},
   "outputs": [
    {
     "data": {
      "text/plain": [
       "2"
      ]
     },
     "execution_count": 31,
     "metadata": {},
     "output_type": "execute_result"
    }
   ],
   "source": [
    "A[0].count(2)"
   ]
  },
  {
   "cell_type": "code",
   "execution_count": 27,
   "id": "df15f6ba",
   "metadata": {},
   "outputs": [
    {
     "data": {
      "text/plain": [
       "1"
      ]
     },
     "execution_count": 27,
     "metadata": {},
     "output_type": "execute_result"
    }
   ],
   "source": [
    "A[1].index(2)"
   ]
  },
  {
   "cell_type": "code",
   "execution_count": 66,
   "id": "1bbf110c",
   "metadata": {},
   "outputs": [
    {
     "name": "stdout",
     "output_type": "stream",
     "text": [
      "\n"
     ]
    },
    {
     "data": {
      "text/plain": [
       "7"
      ]
     },
     "execution_count": 66,
     "metadata": {},
     "output_type": "execute_result"
    }
   ],
   "source": [
    "A = [\n",
    "       [1, 2, 2, 3, 5],\n",
    "       [3, 2, 3, 4, 4],\n",
    "       [2, 4, 5, 3, 1],\n",
    "       [6, 7, 1, 4, 5],\n",
    "       [5, 1, 1, 2, 4]\n",
    "     ]\n",
    "\n",
    "\n",
    "m = len(A)\n",
    "n = len(A[0])\n",
    "maxval = 0\n",
    "count = 0\n",
    "flow = m//2\n",
    "\n",
    "for i in range(m):\n",
    "    maxval = max(A[i])\n",
    "    idx = A[i].index(maxval)\n",
    "    count = count + A[i].count(maxval)\n",
    "    \n",
    "    if flow == 0: print()\n",
    "    \n",
    "    elif flow > 0:\n",
    "        \n",
    "        while(idx + 1 < n):\n",
    "            \n",
    "            if A[i][idx + 1] < maxval:\n",
    "                count+=1\n",
    "            idx += 1    \n",
    "    \n",
    "    elif flow < 0:\n",
    "        \n",
    "        while(idx -1 > -1):\n",
    "        \n",
    "            if A[i][idx -1] < maxval:\n",
    "                count+=1\n",
    "            idx -= 1\n",
    "    \n",
    "    flow -= 1\n",
    "\n",
    "                 \n",
    "count"
   ]
  },
  {
   "cell_type": "code",
   "execution_count": 68,
   "id": "2eba7661",
   "metadata": {},
   "outputs": [
    {
     "name": "stdout",
     "output_type": "stream",
     "text": [
      "\n"
     ]
    },
    {
     "data": {
      "text/plain": [
       "7"
      ]
     },
     "execution_count": 68,
     "metadata": {},
     "output_type": "execute_result"
    }
   ],
   "source": [
    "def solve(A):\n",
    "    m = len(A)\n",
    "    n = len(A[0])\n",
    "    maxval = 0\n",
    "    count = 0\n",
    "    flow = m//2\n",
    "\n",
    "    for i in range(m):\n",
    "        maxval = max(A[i])\n",
    "        idx = A[i].index(maxval)\n",
    "        count = count + A[i].count(maxval)\n",
    "\n",
    "        if flow == 0: print()\n",
    "\n",
    "        elif flow > 0:\n",
    "\n",
    "            while(idx + 1 < n):\n",
    "\n",
    "                if A[i][idx + 1] < maxval:\n",
    "                    count+=1\n",
    "                idx += 1    \n",
    "\n",
    "        elif flow < 0:\n",
    "\n",
    "            while(idx -1 > -1):\n",
    "\n",
    "                if A[i][idx -1] < maxval:\n",
    "                    count+=1\n",
    "                idx -= 1 \n",
    "        flow -= 1\n",
    "    return count\n",
    "solve(A)"
   ]
  }
 ],
 "metadata": {
  "kernelspec": {
   "display_name": "Python 3 (ipykernel)",
   "language": "python",
   "name": "python3"
  },
  "language_info": {
   "codemirror_mode": {
    "name": "ipython",
    "version": 3
   },
   "file_extension": ".py",
   "mimetype": "text/x-python",
   "name": "python",
   "nbconvert_exporter": "python",
   "pygments_lexer": "ipython3",
   "version": "3.9.12"
  },
  "varInspector": {
   "cols": {
    "lenName": 16,
    "lenType": 16,
    "lenVar": 40
   },
   "kernels_config": {
    "python": {
     "delete_cmd_postfix": "",
     "delete_cmd_prefix": "del ",
     "library": "var_list.py",
     "varRefreshCmd": "print(var_dic_list())"
    },
    "r": {
     "delete_cmd_postfix": ") ",
     "delete_cmd_prefix": "rm(",
     "library": "var_list.r",
     "varRefreshCmd": "cat(var_dic_list()) "
    }
   },
   "position": {
    "height": "340.73370361328125px",
    "left": "1184.61962890625px",
    "right": "20px",
    "top": "120px",
    "width": "256.25px"
   },
   "types_to_exclude": [
    "module",
    "function",
    "builtin_function_or_method",
    "instance",
    "_Feature"
   ],
   "window_display": false
  }
 },
 "nbformat": 4,
 "nbformat_minor": 5
}
