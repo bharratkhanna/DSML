{
 "cells": [
  {
   "cell_type": "markdown",
   "id": "6a1b8214",
   "metadata": {},
   "source": [
    "# Python Refresher 2"
   ]
  },
  {
   "cell_type": "markdown",
   "id": "4c1e8eb0",
   "metadata": {},
   "source": [
    "#### Underscore"
   ]
  },
  {
   "cell_type": "code",
   "execution_count": 14,
   "id": "14621abd",
   "metadata": {},
   "outputs": [],
   "source": [
    "_ = 56"
   ]
  },
  {
   "cell_type": "code",
   "execution_count": 15,
   "id": "a0cadb7b",
   "metadata": {},
   "outputs": [
    {
     "data": {
      "text/plain": [
       "56"
      ]
     },
     "execution_count": 15,
     "metadata": {},
     "output_type": "execute_result"
    }
   ],
   "source": [
    "_"
   ]
  },
  {
   "cell_type": "code",
   "execution_count": 16,
   "id": "04a82dde",
   "metadata": {},
   "outputs": [],
   "source": [
    "del _"
   ]
  },
  {
   "cell_type": "code",
   "execution_count": 17,
   "id": "8a99ae57",
   "metadata": {},
   "outputs": [
    {
     "data": {
      "text/plain": [
       "8"
      ]
     },
     "execution_count": 17,
     "metadata": {},
     "output_type": "execute_result"
    }
   ],
   "source": [
    "6 + 2"
   ]
  },
  {
   "cell_type": "markdown",
   "id": "a028ee62",
   "metadata": {},
   "source": [
    "#### Restarted Kernel here"
   ]
  },
  {
   "cell_type": "code",
   "execution_count": 1,
   "id": "5a886934",
   "metadata": {},
   "outputs": [
    {
     "data": {
      "text/plain": [
       "8"
      ]
     },
     "execution_count": 1,
     "metadata": {},
     "output_type": "execute_result"
    }
   ],
   "source": [
    "6 + 2"
   ]
  },
  {
   "cell_type": "code",
   "execution_count": 2,
   "id": "0797265a",
   "metadata": {},
   "outputs": [
    {
     "data": {
      "text/plain": [
       "8"
      ]
     },
     "execution_count": 2,
     "metadata": {},
     "output_type": "execute_result"
    }
   ],
   "source": [
    "_ # it saves previous not stored value"
   ]
  },
  {
   "cell_type": "code",
   "execution_count": 3,
   "id": "2d2afd94",
   "metadata": {},
   "outputs": [
    {
     "data": {
      "text/plain": [
       "64"
      ]
     },
     "execution_count": 3,
     "metadata": {},
     "output_type": "execute_result"
    }
   ],
   "source": [
    "_ * _"
   ]
  },
  {
   "cell_type": "code",
   "execution_count": 4,
   "id": "4312eb0f",
   "metadata": {},
   "outputs": [
    {
     "data": {
      "text/plain": [
       "'HelloWorld'"
      ]
     },
     "execution_count": 4,
     "metadata": {},
     "output_type": "execute_result"
    }
   ],
   "source": [
    "\"Hello\" + \"World\""
   ]
  },
  {
   "cell_type": "code",
   "execution_count": 5,
   "id": "7ee59961",
   "metadata": {
    "scrolled": true
   },
   "outputs": [
    {
     "data": {
      "text/plain": [
       "'HelloWorld'"
      ]
     },
     "execution_count": 5,
     "metadata": {},
     "output_type": "execute_result"
    }
   ],
   "source": [
    "_"
   ]
  },
  {
   "cell_type": "markdown",
   "id": "94035349",
   "metadata": {},
   "source": [
    "## Built in Data Structures"
   ]
  },
  {
   "cell_type": "markdown",
   "id": "973aceb1",
   "metadata": {},
   "source": [
    "**Why Data Structures are important?**: To store and access different types of data efficiently."
   ]
  },
  {
   "cell_type": "markdown",
   "id": "251700bc",
   "metadata": {},
   "source": [
    "### List"
   ]
  },
  {
   "cell_type": "markdown",
   "id": "06ad55fa",
   "metadata": {},
   "source": [
    "- Capable of storing multiple terms\n",
    "- Heterogenous Values: means can store differnt data types\n",
    "- Mutable\n",
    "- Not mapped to continuous memory locations"
   ]
  },
  {
   "cell_type": "code",
   "execution_count": 11,
   "id": "c2c15664",
   "metadata": {},
   "outputs": [
    {
     "name": "stdout",
     "output_type": "stream",
     "text": [
      "[] <class 'list'>\n"
     ]
    }
   ],
   "source": [
    "# Empty List\n",
    "\n",
    "marks = list()\n",
    "\n",
    "print(marks,type(marks))"
   ]
  },
  {
   "cell_type": "code",
   "execution_count": 13,
   "id": "ea762d60",
   "metadata": {},
   "outputs": [
    {
     "data": {
      "text/plain": [
       "[92, 100, 44, 59, 'ab']"
      ]
     },
     "execution_count": 13,
     "metadata": {},
     "output_type": "execute_result"
    }
   ],
   "source": [
    "# Lists are hetrogenous\n",
    "\n",
    "marks = [92,100,44,59,\"ab\"]\n",
    "marks"
   ]
  },
  {
   "cell_type": "code",
   "execution_count": 14,
   "id": "a057eeed",
   "metadata": {},
   "outputs": [
    {
     "data": {
      "text/plain": [
       "92"
      ]
     },
     "execution_count": 14,
     "metadata": {},
     "output_type": "execute_result"
    }
   ],
   "source": [
    "# indexing\n",
    "\n",
    "marks[0]"
   ]
  },
  {
   "cell_type": "code",
   "execution_count": 17,
   "id": "21fad645",
   "metadata": {},
   "outputs": [
    {
     "data": {
      "text/plain": [
       "5"
      ]
     },
     "execution_count": 17,
     "metadata": {},
     "output_type": "execute_result"
    }
   ],
   "source": [
    "# Length of list\n",
    "len(marks)"
   ]
  },
  {
   "cell_type": "code",
   "execution_count": 19,
   "id": "ca992617",
   "metadata": {},
   "outputs": [
    {
     "data": {
      "text/plain": [
       "'ab'"
      ]
     },
     "execution_count": 19,
     "metadata": {},
     "output_type": "execute_result"
    }
   ],
   "source": [
    "marks[len(marks) - 1]"
   ]
  },
  {
   "cell_type": "code",
   "execution_count": 20,
   "id": "b50eec3a",
   "metadata": {},
   "outputs": [
    {
     "data": {
      "text/plain": [
       "'ab'"
      ]
     },
     "execution_count": 20,
     "metadata": {},
     "output_type": "execute_result"
    }
   ],
   "source": [
    "# Can be shortend as\n",
    "marks[-1]"
   ]
  },
  {
   "cell_type": "markdown",
   "id": "9a43ec07",
   "metadata": {},
   "source": [
    "#### Slicing"
   ]
  },
  {
   "cell_type": "code",
   "execution_count": 21,
   "id": "35e2fc81",
   "metadata": {},
   "outputs": [
    {
     "data": {
      "text/plain": [
       "[99, 56, 44]"
      ]
     },
     "execution_count": 21,
     "metadata": {},
     "output_type": "execute_result"
    }
   ],
   "source": [
    "# Slicing\n",
    "\n",
    "marks = [67,92,99,56,44,71,87,90,94,100,66]\n",
    "\n",
    "marks[2:5]"
   ]
  },
  {
   "cell_type": "code",
   "execution_count": 22,
   "id": "f0e521d7",
   "metadata": {},
   "outputs": [
    {
     "data": {
      "text/plain": [
       "[67, 92, 99, 56, 44]"
      ]
     },
     "execution_count": 22,
     "metadata": {},
     "output_type": "execute_result"
    }
   ],
   "source": [
    "marks[:5]"
   ]
  },
  {
   "cell_type": "code",
   "execution_count": 23,
   "id": "0e3ea24f",
   "metadata": {},
   "outputs": [
    {
     "data": {
      "text/plain": [
       "[]"
      ]
     },
     "execution_count": 23,
     "metadata": {},
     "output_type": "execute_result"
    }
   ],
   "source": [
    "marks[-1:-4]"
   ]
  },
  {
   "cell_type": "code",
   "execution_count": 26,
   "id": "8b9a3671",
   "metadata": {},
   "outputs": [
    {
     "data": {
      "text/plain": [
       "[94, 100, 66]"
      ]
     },
     "execution_count": 26,
     "metadata": {},
     "output_type": "execute_result"
    }
   ],
   "source": [
    "marks[-3:]"
   ]
  },
  {
   "cell_type": "code",
   "execution_count": 27,
   "id": "0061c40f",
   "metadata": {},
   "outputs": [
    {
     "data": {
      "text/plain": [
       "[67, 92, 99, 56, 44, 71, 87, 90, 94, 100, 66]"
      ]
     },
     "execution_count": 27,
     "metadata": {},
     "output_type": "execute_result"
    }
   ],
   "source": [
    "marks[:]"
   ]
  },
  {
   "cell_type": "code",
   "execution_count": 28,
   "id": "d3115077",
   "metadata": {},
   "outputs": [
    {
     "data": {
      "text/plain": [
       "[67, 92, 99, 56, 44, 71, 87, 90, 94, 100, 66]"
      ]
     },
     "execution_count": 28,
     "metadata": {},
     "output_type": "execute_result"
    }
   ],
   "source": [
    "_"
   ]
  },
  {
   "cell_type": "code",
   "execution_count": 30,
   "id": "b32279c4",
   "metadata": {},
   "outputs": [
    {
     "data": {
      "text/plain": [
       "[67, 99, 44, 87, 94, 66]"
      ]
     },
     "execution_count": 30,
     "metadata": {},
     "output_type": "execute_result"
    }
   ],
   "source": [
    "marks[::2]"
   ]
  },
  {
   "cell_type": "code",
   "execution_count": 31,
   "id": "57961d3f",
   "metadata": {},
   "outputs": [
    {
     "data": {
      "text/plain": [
       "[67, 56, 87, 100]"
      ]
     },
     "execution_count": 31,
     "metadata": {},
     "output_type": "execute_result"
    }
   ],
   "source": [
    "marks[::3]"
   ]
  },
  {
   "cell_type": "code",
   "execution_count": 32,
   "id": "6b05966d",
   "metadata": {},
   "outputs": [
    {
     "data": {
      "text/plain": [
       "[100, 94, 90]"
      ]
     },
     "execution_count": 32,
     "metadata": {},
     "output_type": "execute_result"
    }
   ],
   "source": [
    "marks[9:6:-1]"
   ]
  },
  {
   "cell_type": "code",
   "execution_count": 33,
   "id": "3d8020f0",
   "metadata": {},
   "outputs": [
    {
     "data": {
      "text/plain": [
       "[66, 100, 94, 90, 87, 71, 44, 56, 99, 92, 67]"
      ]
     },
     "execution_count": 33,
     "metadata": {},
     "output_type": "execute_result"
    }
   ],
   "source": [
    "# Python is smart to figure it out it starts from negative\n",
    "marks[::-1]"
   ]
  },
  {
   "cell_type": "code",
   "execution_count": 35,
   "id": "6911b0b8",
   "metadata": {},
   "outputs": [
    {
     "data": {
      "text/plain": [
       "(1552503755184, 1552503755984)"
      ]
     },
     "execution_count": 35,
     "metadata": {},
     "output_type": "execute_result"
    }
   ],
   "source": [
    "id(marks[0]),id(marks[1])"
   ]
  },
  {
   "cell_type": "markdown",
   "id": "450c6351",
   "metadata": {},
   "source": [
    "#### Mutability of list"
   ]
  },
  {
   "cell_type": "code",
   "execution_count": null,
   "id": "986caf22",
   "metadata": {},
   "outputs": [],
   "source": [
    "# Individual elements ids will change, but list won't"
   ]
  },
  {
   "cell_type": "code",
   "execution_count": 43,
   "id": "0955d41c",
   "metadata": {},
   "outputs": [
    {
     "data": {
      "text/plain": [
       "[20, 30, 50, 80]"
      ]
     },
     "execution_count": 43,
     "metadata": {},
     "output_type": "execute_result"
    }
   ],
   "source": [
    "marks = [20,30,50,80]\n",
    "marks"
   ]
  },
  {
   "cell_type": "code",
   "execution_count": 44,
   "id": "ddcf6f42",
   "metadata": {},
   "outputs": [],
   "source": [
    "marks[0] = 90"
   ]
  },
  {
   "cell_type": "code",
   "execution_count": 48,
   "id": "b4e9d9f6",
   "metadata": {},
   "outputs": [
    {
     "data": {
      "text/plain": [
       "1552622769600"
      ]
     },
     "execution_count": 48,
     "metadata": {},
     "output_type": "execute_result"
    }
   ],
   "source": [
    "id(marks)"
   ]
  },
  {
   "cell_type": "code",
   "execution_count": 49,
   "id": "b6da80bf",
   "metadata": {},
   "outputs": [],
   "source": [
    "marks[0] = marks[0] + 1"
   ]
  },
  {
   "cell_type": "code",
   "execution_count": 50,
   "id": "d469335e",
   "metadata": {},
   "outputs": [
    {
     "data": {
      "text/plain": [
       "1552622769600"
      ]
     },
     "execution_count": 50,
     "metadata": {},
     "output_type": "execute_result"
    }
   ],
   "source": [
    "id(marks)"
   ]
  },
  {
   "cell_type": "markdown",
   "id": "433eb365",
   "metadata": {},
   "source": [
    "#### List Methods"
   ]
  },
  {
   "cell_type": "code",
   "execution_count": 52,
   "id": "23e6cc91",
   "metadata": {},
   "outputs": [
    {
     "data": {
      "text/plain": [
       "([92, 30, 50, 80, 100], 1552622769600)"
      ]
     },
     "execution_count": 52,
     "metadata": {},
     "output_type": "execute_result"
    }
   ],
   "source": [
    "marks.append(100)\n",
    "marks, id(marks)"
   ]
  },
  {
   "cell_type": "code",
   "execution_count": 55,
   "id": "9bae07c8",
   "metadata": {},
   "outputs": [
    {
     "data": {
      "text/plain": [
       "1552587907392"
      ]
     },
     "execution_count": 55,
     "metadata": {},
     "output_type": "execute_result"
    }
   ],
   "source": [
    "id(marks.copy())"
   ]
  },
  {
   "cell_type": "code",
   "execution_count": 57,
   "id": "968a210c",
   "metadata": {},
   "outputs": [
    {
     "data": {
      "text/plain": [
       "[92, 30, 40, 40, 50, 80, 100]"
      ]
     },
     "execution_count": 57,
     "metadata": {},
     "output_type": "execute_result"
    }
   ],
   "source": [
    "marks.insert(2,40) # insert 40 before index 2\n",
    "marks"
   ]
  },
  {
   "cell_type": "code",
   "execution_count": 60,
   "id": "2983914f",
   "metadata": {},
   "outputs": [
    {
     "data": {
      "text/plain": [
       "100"
      ]
     },
     "execution_count": 60,
     "metadata": {},
     "output_type": "execute_result"
    }
   ],
   "source": [
    "marks.pop() # remove and return last element"
   ]
  },
  {
   "cell_type": "code",
   "execution_count": 62,
   "id": "6a39e6f1",
   "metadata": {},
   "outputs": [
    {
     "data": {
      "text/plain": [
       "1"
      ]
     },
     "execution_count": 62,
     "metadata": {},
     "output_type": "execute_result"
    }
   ],
   "source": [
    "marks.count(40)"
   ]
  },
  {
   "cell_type": "code",
   "execution_count": 65,
   "id": "57b1012a",
   "metadata": {},
   "outputs": [
    {
     "data": {
      "text/plain": [
       "[80, 50, 40, 30, 92]"
      ]
     },
     "execution_count": 65,
     "metadata": {},
     "output_type": "execute_result"
    }
   ],
   "source": [
    "marks.reverse()\n",
    "marks"
   ]
  },
  {
   "cell_type": "code",
   "execution_count": 66,
   "id": "6f773c03",
   "metadata": {},
   "outputs": [],
   "source": [
    "marks.sort(reverse=True)"
   ]
  },
  {
   "cell_type": "code",
   "execution_count": 67,
   "id": "92609339",
   "metadata": {},
   "outputs": [
    {
     "data": {
      "text/plain": [
       "[92, 80, 50, 40, 30]"
      ]
     },
     "execution_count": 67,
     "metadata": {},
     "output_type": "execute_result"
    }
   ],
   "source": [
    "marks"
   ]
  },
  {
   "cell_type": "code",
   "execution_count": 68,
   "id": "3e88aee5",
   "metadata": {},
   "outputs": [
    {
     "ename": "TypeError",
     "evalue": "'<' not supported between instances of 'str' and 'int'",
     "output_type": "error",
     "traceback": [
      "\u001b[1;31m---------------------------------------------------------------------------\u001b[0m",
      "\u001b[1;31mTypeError\u001b[0m                                 Traceback (most recent call last)",
      "\u001b[1;32m~\\AppData\\Local\\Temp\\ipykernel_5180\\1405085579.py\u001b[0m in \u001b[0;36m<module>\u001b[1;34m\u001b[0m\n\u001b[0;32m      1\u001b[0m \u001b[0mrandom\u001b[0m \u001b[1;33m=\u001b[0m \u001b[1;33m[\u001b[0m\u001b[1;36m67\u001b[0m\u001b[1;33m,\u001b[0m\u001b[1;36m45\u001b[0m\u001b[1;33m,\u001b[0m\u001b[1;36m10\u001b[0m\u001b[1;33m,\u001b[0m\u001b[1;34m\"ab\"\u001b[0m\u001b[1;33m,\u001b[0m\u001b[1;34m\"alpha\"\u001b[0m\u001b[1;33m]\u001b[0m\u001b[1;33m\u001b[0m\u001b[1;33m\u001b[0m\u001b[0m\n\u001b[1;32m----> 2\u001b[1;33m \u001b[0mrandom\u001b[0m\u001b[1;33m.\u001b[0m\u001b[0msort\u001b[0m\u001b[1;33m(\u001b[0m\u001b[1;33m)\u001b[0m\u001b[1;33m\u001b[0m\u001b[1;33m\u001b[0m\u001b[0m\n\u001b[0m",
      "\u001b[1;31mTypeError\u001b[0m: '<' not supported between instances of 'str' and 'int'"
     ]
    }
   ],
   "source": [
    "random = [67,45,10,\"ab\",\"alpha\"] # Cannot compare string and integer\n",
    "random.sort()"
   ]
  },
  {
   "cell_type": "code",
   "execution_count": 71,
   "id": "103f40d0",
   "metadata": {},
   "outputs": [],
   "source": [
    "lst = [4,6,7]\n",
    "lst.append([[1],2,3])"
   ]
  },
  {
   "cell_type": "code",
   "execution_count": 73,
   "id": "be9dbca6",
   "metadata": {},
   "outputs": [
    {
     "data": {
      "text/plain": [
       "[4, 6, 7, [[1], 2, 3]]"
      ]
     },
     "execution_count": 73,
     "metadata": {},
     "output_type": "execute_result"
    }
   ],
   "source": [
    "lst"
   ]
  },
  {
   "cell_type": "code",
   "execution_count": 74,
   "id": "e779c419",
   "metadata": {},
   "outputs": [],
   "source": [
    "lst.extend([2,3])"
   ]
  },
  {
   "cell_type": "code",
   "execution_count": 75,
   "id": "65283211",
   "metadata": {},
   "outputs": [
    {
     "data": {
      "text/plain": [
       "[4, 6, 7, [[1], 2, 3], 2, 3]"
      ]
     },
     "execution_count": 75,
     "metadata": {},
     "output_type": "execute_result"
    }
   ],
   "source": [
    "lst"
   ]
  },
  {
   "cell_type": "code",
   "execution_count": 76,
   "id": "d0f62a8b",
   "metadata": {},
   "outputs": [],
   "source": [
    "lst.extend([[2,3]])"
   ]
  },
  {
   "cell_type": "code",
   "execution_count": 77,
   "id": "b1d4b64d",
   "metadata": {},
   "outputs": [
    {
     "data": {
      "text/plain": [
       "[4, 6, 7, [[1], 2, 3], 2, 3, [2, 3]]"
      ]
     },
     "execution_count": 77,
     "metadata": {},
     "output_type": "execute_result"
    }
   ],
   "source": [
    "lst"
   ]
  },
  {
   "cell_type": "code",
   "execution_count": 79,
   "id": "cd143f4d",
   "metadata": {},
   "outputs": [],
   "source": [
    "lst.extend([1]) # works because [1] is iterable"
   ]
  },
  {
   "cell_type": "code",
   "execution_count": 80,
   "id": "a314603e",
   "metadata": {},
   "outputs": [
    {
     "data": {
      "text/plain": [
       "[4, 6, 7, [[1], 2, 3], 2, 3, [2, 3], 1]"
      ]
     },
     "execution_count": 80,
     "metadata": {},
     "output_type": "execute_result"
    }
   ],
   "source": [
    "lst"
   ]
  },
  {
   "cell_type": "code",
   "execution_count": 81,
   "id": "3f3af05a",
   "metadata": {},
   "outputs": [
    {
     "ename": "TypeError",
     "evalue": "'int' object is not iterable",
     "output_type": "error",
     "traceback": [
      "\u001b[1;31m---------------------------------------------------------------------------\u001b[0m",
      "\u001b[1;31mTypeError\u001b[0m                                 Traceback (most recent call last)",
      "\u001b[1;32m~\\AppData\\Local\\Temp\\ipykernel_5180\\780194928.py\u001b[0m in \u001b[0;36m<module>\u001b[1;34m\u001b[0m\n\u001b[1;32m----> 1\u001b[1;33m \u001b[0mlst\u001b[0m\u001b[1;33m.\u001b[0m\u001b[0mextend\u001b[0m\u001b[1;33m(\u001b[0m\u001b[1;36m1\u001b[0m\u001b[1;33m)\u001b[0m\u001b[1;33m\u001b[0m\u001b[1;33m\u001b[0m\u001b[0m\n\u001b[0m",
      "\u001b[1;31mTypeError\u001b[0m: 'int' object is not iterable"
     ]
    }
   ],
   "source": [
    "lst.extend(1) # 1 is not iterable as mentioned in docstring"
   ]
  },
  {
   "cell_type": "code",
   "execution_count": 82,
   "id": "c823356f",
   "metadata": {},
   "outputs": [
    {
     "data": {
      "text/plain": [
       "[1, 2, 3, 4, 5]"
      ]
     },
     "execution_count": 82,
     "metadata": {},
     "output_type": "execute_result"
    }
   ],
   "source": [
    "[1,2,3] + [4,5] # + Works like extend"
   ]
  },
  {
   "cell_type": "code",
   "execution_count": 83,
   "id": "de747f30",
   "metadata": {},
   "outputs": [
    {
     "ename": "TypeError",
     "evalue": "can only concatenate list (not \"int\") to list",
     "output_type": "error",
     "traceback": [
      "\u001b[1;31m---------------------------------------------------------------------------\u001b[0m",
      "\u001b[1;31mTypeError\u001b[0m                                 Traceback (most recent call last)",
      "\u001b[1;32m~\\AppData\\Local\\Temp\\ipykernel_5180\\1834913151.py\u001b[0m in \u001b[0;36m<module>\u001b[1;34m\u001b[0m\n\u001b[1;32m----> 1\u001b[1;33m \u001b[1;33m[\u001b[0m\u001b[1;36m1\u001b[0m\u001b[1;33m,\u001b[0m\u001b[1;36m2\u001b[0m\u001b[1;33m,\u001b[0m\u001b[1;36m3\u001b[0m\u001b[1;33m]\u001b[0m \u001b[1;33m+\u001b[0m \u001b[1;36m5\u001b[0m\u001b[1;33m\u001b[0m\u001b[1;33m\u001b[0m\u001b[0m\n\u001b[0m",
      "\u001b[1;31mTypeError\u001b[0m: can only concatenate list (not \"int\") to list"
     ]
    }
   ],
   "source": [
    "[1,2,3] + 5 # Here it gives error because it can concatenate only lists"
   ]
  },
  {
   "cell_type": "code",
   "execution_count": 84,
   "id": "4a8e580c",
   "metadata": {},
   "outputs": [
    {
     "data": {
      "text/plain": [
       "[1, 2, 3, 1, 2, 3, 1, 2, 3]"
      ]
     },
     "execution_count": 84,
     "metadata": {},
     "output_type": "execute_result"
    }
   ],
   "source": [
    "[1,2,3] * 3 # This concatenate"
   ]
  },
  {
   "cell_type": "code",
   "execution_count": 86,
   "id": "747767b2",
   "metadata": {},
   "outputs": [
    {
     "ename": "TypeError",
     "evalue": "can't multiply sequence by non-int of type 'list'",
     "output_type": "error",
     "traceback": [
      "\u001b[1;31m---------------------------------------------------------------------------\u001b[0m",
      "\u001b[1;31mTypeError\u001b[0m                                 Traceback (most recent call last)",
      "\u001b[1;32m~\\AppData\\Local\\Temp\\ipykernel_5180\\577154900.py\u001b[0m in \u001b[0;36m<module>\u001b[1;34m\u001b[0m\n\u001b[1;32m----> 1\u001b[1;33m \u001b[1;33m[\u001b[0m\u001b[1;36m1\u001b[0m\u001b[1;33m,\u001b[0m\u001b[1;36m2\u001b[0m\u001b[1;33m,\u001b[0m\u001b[1;36m3\u001b[0m\u001b[1;33m]\u001b[0m \u001b[1;33m*\u001b[0m \u001b[1;33m[\u001b[0m\u001b[1;36m1\u001b[0m\u001b[1;33m,\u001b[0m\u001b[1;36m2\u001b[0m\u001b[1;33m]\u001b[0m \u001b[1;31m# This is invalid\u001b[0m\u001b[1;33m\u001b[0m\u001b[1;33m\u001b[0m\u001b[0m\n\u001b[0m",
      "\u001b[1;31mTypeError\u001b[0m: can't multiply sequence by non-int of type 'list'"
     ]
    }
   ],
   "source": [
    "[1,2,3] * [1,2] # This is invalid"
   ]
  },
  {
   "cell_type": "markdown",
   "id": "7ce69b59",
   "metadata": {},
   "source": [
    "#### Iterate List"
   ]
  },
  {
   "cell_type": "code",
   "execution_count": 89,
   "id": "4a6d0558",
   "metadata": {},
   "outputs": [],
   "source": [
    "new_marks = []\n",
    "for ele in marks:\n",
    "#     print(ele*2)\n",
    "    new_marks.append(ele*2)"
   ]
  },
  {
   "cell_type": "code",
   "execution_count": 91,
   "id": "ae6c9c11",
   "metadata": {},
   "outputs": [
    {
     "data": {
      "text/plain": [
       "([184, 160, 100, 80, 60], [92, 80, 50, 40, 30])"
      ]
     },
     "execution_count": 91,
     "metadata": {},
     "output_type": "execute_result"
    }
   ],
   "source": [
    "new_marks, marks"
   ]
  },
  {
   "cell_type": "markdown",
   "id": "482d2825",
   "metadata": {},
   "source": [
    "#### List Comprehension"
   ]
  },
  {
   "cell_type": "code",
   "execution_count": 94,
   "id": "8c37f877",
   "metadata": {},
   "outputs": [
    {
     "data": {
      "text/plain": [
       "[184, 160, 100, 80, 60]"
      ]
     },
     "execution_count": 94,
     "metadata": {},
     "output_type": "execute_result"
    }
   ],
   "source": [
    "new_marks = [ele * 2 for ele in marks]\n",
    "new_marks"
   ]
  },
  {
   "cell_type": "markdown",
   "id": "b62aadad",
   "metadata": {},
   "source": [
    "#### If "
   ]
  },
  {
   "cell_type": "code",
   "execution_count": 1,
   "id": "00538deb",
   "metadata": {},
   "outputs": [
    {
     "data": {
      "text/plain": [
       "[132, 200, 188, 180, 88, 112, 184]"
      ]
     },
     "execution_count": 1,
     "metadata": {},
     "output_type": "execute_result"
    }
   ],
   "source": [
    "marks = [66, 100, 94, 90, 87, 71, 44, 56, 99, 92, 67]\n",
    "sq_marks = [ele*2  for ele in marks if ele%2==0 ]\n",
    "sq_marks"
   ]
  },
  {
   "cell_type": "code",
   "execution_count": 103,
   "id": "49d8cb51",
   "metadata": {},
   "outputs": [
    {
     "data": {
      "text/plain": [
       "[132, 200, 188, 180, 261, 213, 88, 112, 297, 184, 201]"
      ]
     },
     "execution_count": 103,
     "metadata": {},
     "output_type": "execute_result"
    }
   ],
   "source": [
    "marks = [66, 100, 94, 90, 87, 71, 44, 56, 99, 92, 67]\n",
    "sq_marks = [ele*2 if ele%2==0 else ele * 3 for ele in marks ]\n",
    "sq_marks"
   ]
  },
  {
   "cell_type": "code",
   "execution_count": 106,
   "id": "de5b29d2",
   "metadata": {},
   "outputs": [
    {
     "name": "stdout",
     "output_type": "stream",
     "text": [
      "[132, 200, 188, 180, 261, 213, 88, 112, 297, 184, 201]\n"
     ]
    }
   ],
   "source": [
    "# Better way\n",
    "def action(n):\n",
    "    if n%2==0: return n * 2\n",
    "    else: return n * 3\n",
    "    \n",
    "new_marks = [action(ele) for ele in marks]\n",
    "print(new_marks)"
   ]
  },
  {
   "cell_type": "markdown",
   "id": "ece77f3a",
   "metadata": {},
   "source": [
    "### Nested Lists"
   ]
  },
  {
   "cell_type": "code",
   "execution_count": 107,
   "id": "687e2acc",
   "metadata": {},
   "outputs": [],
   "source": [
    "mat = [[1,2],[3,4]] # has 2 elements, (2 lists)"
   ]
  },
  {
   "cell_type": "code",
   "execution_count": 108,
   "id": "5925d69d",
   "metadata": {},
   "outputs": [
    {
     "name": "stdout",
     "output_type": "stream",
     "text": [
      "[[1, 2], [3, 4]]\n"
     ]
    },
    {
     "data": {
      "text/plain": [
       "(list, 2, None)"
      ]
     },
     "execution_count": 108,
     "metadata": {},
     "output_type": "execute_result"
    }
   ],
   "source": [
    "type(mat), len(mat), print(mat)"
   ]
  },
  {
   "cell_type": "code",
   "execution_count": 109,
   "id": "33b6fc51",
   "metadata": {},
   "outputs": [
    {
     "name": "stdout",
     "output_type": "stream",
     "text": [
      "[1, 2]\n",
      "[3, 4]\n"
     ]
    }
   ],
   "source": [
    "for ele in mat:\n",
    "    print(ele) "
   ]
  },
  {
   "cell_type": "code",
   "execution_count": 110,
   "id": "b8ae0b1f",
   "metadata": {},
   "outputs": [
    {
     "data": {
      "text/plain": [
       "[3, 4]"
      ]
     },
     "execution_count": 110,
     "metadata": {},
     "output_type": "execute_result"
    }
   ],
   "source": [
    "mat[1]"
   ]
  },
  {
   "cell_type": "code",
   "execution_count": 111,
   "id": "08c4a0f4",
   "metadata": {},
   "outputs": [
    {
     "data": {
      "text/plain": [
       "4"
      ]
     },
     "execution_count": 111,
     "metadata": {},
     "output_type": "execute_result"
    }
   ],
   "source": [
    "mat[1][1]"
   ]
  },
  {
   "cell_type": "code",
   "execution_count": 112,
   "id": "49c9eae2",
   "metadata": {},
   "outputs": [],
   "source": [
    "# Matrix: where you have rows & columns"
   ]
  },
  {
   "cell_type": "code",
   "execution_count": 118,
   "id": "9ac10309",
   "metadata": {},
   "outputs": [
    {
     "data": {
      "text/plain": [
       "[[1, 2, 3], [4, 8, 9], [5, 6, 7], [0, 1, 1]]"
      ]
     },
     "execution_count": 118,
     "metadata": {},
     "output_type": "execute_result"
    }
   ],
   "source": [
    "mat = [[1,2,3],[4,8,9],[5,6,7],[0,1,1]]\n",
    "mat"
   ]
  },
  {
   "cell_type": "code",
   "execution_count": 119,
   "id": "7715c8c8",
   "metadata": {},
   "outputs": [
    {
     "name": "stdout",
     "output_type": "stream",
     "text": [
      "[1, 2, 3]\n",
      "[4, 8, 9]\n",
      "[5, 6, 7]\n",
      "[0, 1, 1]\n"
     ]
    }
   ],
   "source": [
    "for ele in mat:\n",
    "    print(ele)"
   ]
  },
  {
   "cell_type": "code",
   "execution_count": 120,
   "id": "acc01dca",
   "metadata": {},
   "outputs": [
    {
     "data": {
      "text/plain": [
       "4"
      ]
     },
     "execution_count": 120,
     "metadata": {},
     "output_type": "execute_result"
    }
   ],
   "source": [
    "mat[1][0]"
   ]
  },
  {
   "cell_type": "code",
   "execution_count": 139,
   "id": "44a6eaa2",
   "metadata": {},
   "outputs": [
    {
     "data": {
      "text/plain": [
       "[[0, 0], [0, 0]]"
      ]
     },
     "execution_count": 139,
     "metadata": {},
     "output_type": "execute_result"
    }
   ],
   "source": [
    "C = [[0]*2]*2 # Not recommended\n",
    "C "
   ]
  },
  {
   "cell_type": "code",
   "execution_count": 140,
   "id": "8b587e02",
   "metadata": {},
   "outputs": [
    {
     "data": {
      "text/plain": [
       "[[1, 0], [1, 0]]"
      ]
     },
     "execution_count": 140,
     "metadata": {},
     "output_type": "execute_result"
    }
   ],
   "source": [
    "#because of refrencing\n",
    "C[1][0] = 1\n",
    "C # all columns are changed"
   ]
  },
  {
   "cell_type": "markdown",
   "id": "f70a6095",
   "metadata": {},
   "source": [
    "#### Empty 2d Matrix"
   ]
  },
  {
   "cell_type": "code",
   "execution_count": 2,
   "id": "c7cbe39b",
   "metadata": {},
   "outputs": [
    {
     "data": {
      "text/plain": [
       "[[0, 0, 0], [0, 0, 0], [0, 0, 0]]"
      ]
     },
     "execution_count": 2,
     "metadata": {},
     "output_type": "execute_result"
    }
   ],
   "source": [
    "D = [[0 for i in range(3)] for j in range(3)]\n",
    "D"
   ]
  },
  {
   "cell_type": "code",
   "execution_count": 141,
   "id": "046bb2f7",
   "metadata": {
    "scrolled": true
   },
   "outputs": [
    {
     "data": {
      "text/plain": [
       "[[5, 3], [3, 12]]"
      ]
     },
     "execution_count": 141,
     "metadata": {},
     "output_type": "execute_result"
    }
   ],
   "source": [
    "A = [[1,2],[3,4]]\n",
    "B = [[4,1],[0,8]]\n",
    "C = [[0,0] for i in range(len(A))]\n",
    "\n",
    "\n",
    "for i in range(len(A)):\n",
    "    for j in range(len(A[0])):\n",
    "        C[i][j] = (A[i][j] + B[i][j])\n",
    "        \n",
    "C"
   ]
  },
  {
   "cell_type": "code",
   "execution_count": 153,
   "id": "13605987",
   "metadata": {},
   "outputs": [
    {
     "data": {
      "text/plain": [
       "['Jadeja', 'Rahul', 'Rohit', 'Dhoni', 'Virat']"
      ]
     },
     "execution_count": 153,
     "metadata": {},
     "output_type": "execute_result"
    }
   ],
   "source": [
    "players = ['Jadeja','Rahul','Rohit']\n",
    "players[len(players):] = [\"Dhoni\",\"Virat\"]\n",
    "players"
   ]
  },
  {
   "cell_type": "code",
   "execution_count": 158,
   "id": "2dec4239",
   "metadata": {},
   "outputs": [
    {
     "data": {
      "text/plain": [
       "['Jadeja', 'Rahul', 'Rohit', 'D', 'D', 'V', 'D', ['D', 'V']]"
      ]
     },
     "execution_count": 158,
     "metadata": {},
     "output_type": "execute_result"
    }
   ],
   "source": [
    "players[-1] =[\"D\",\"V\"]\n",
    "players"
   ]
  },
  {
   "cell_type": "code",
   "execution_count": 160,
   "id": "bef23d10",
   "metadata": {},
   "outputs": [],
   "source": [
    "a=[\"data\", \"python\", \"scaler\", \"ML\", \"foo\", \"Jupyter\", \"lists\"]"
   ]
  },
  {
   "cell_type": "code",
   "execution_count": 161,
   "id": "1832a1fa",
   "metadata": {},
   "outputs": [
    {
     "data": {
      "text/plain": [
       "'data'"
      ]
     },
     "execution_count": 161,
     "metadata": {},
     "output_type": "execute_result"
    }
   ],
   "source": [
    "a[-7]"
   ]
  },
  {
   "cell_type": "code",
   "execution_count": 162,
   "id": "99925b9f",
   "metadata": {},
   "outputs": [
    {
     "data": {
      "text/plain": [
       "36"
      ]
     },
     "execution_count": 162,
     "metadata": {},
     "output_type": "execute_result"
    }
   ],
   "source": [
    "6**2"
   ]
  },
  {
   "cell_type": "code",
   "execution_count": 171,
   "id": "848db12a",
   "metadata": {},
   "outputs": [
    {
     "data": {
      "text/plain": [
       "(6, 9)"
      ]
     },
     "execution_count": 171,
     "metadata": {},
     "output_type": "execute_result"
    }
   ],
   "source": [
    "n = 5\n",
    "sum_even = sum([i for i in range (0,n+1,2)])\n",
    "sum_odd = sum([i for i in range (1,n+1,2)])\n",
    "sum_even, sum_odd"
   ]
  }
 ],
 "metadata": {
  "kernelspec": {
   "display_name": "Python 3 (ipykernel)",
   "language": "python",
   "name": "python3"
  },
  "language_info": {
   "codemirror_mode": {
    "name": "ipython",
    "version": 3
   },
   "file_extension": ".py",
   "mimetype": "text/x-python",
   "name": "python",
   "nbconvert_exporter": "python",
   "pygments_lexer": "ipython3",
   "version": "3.9.13"
  },
  "varInspector": {
   "cols": {
    "lenName": 16,
    "lenType": 16,
    "lenVar": 40
   },
   "kernels_config": {
    "python": {
     "delete_cmd_postfix": "",
     "delete_cmd_prefix": "del ",
     "library": "var_list.py",
     "varRefreshCmd": "print(var_dic_list())"
    },
    "r": {
     "delete_cmd_postfix": ") ",
     "delete_cmd_prefix": "rm(",
     "library": "var_list.r",
     "varRefreshCmd": "cat(var_dic_list()) "
    }
   },
   "types_to_exclude": [
    "module",
    "function",
    "builtin_function_or_method",
    "instance",
    "_Feature"
   ],
   "window_display": false
  }
 },
 "nbformat": 4,
 "nbformat_minor": 5
}
