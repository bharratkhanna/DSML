{
 "cells": [
  {
   "cell_type": "markdown",
   "metadata": {},
   "source": [
    "<h1><center>Problem_Solving\n"
   ]
  },
  {
   "cell_type": "code",
   "execution_count": 24,
   "metadata": {},
   "outputs": [],
   "source": [
    "def recurring_char(a):\n",
    "    n=len(a)\n",
    "    for i in range(n):\n",
    "        count = 0\n",
    "        for j in range(i+1,n):\n",
    "            if a[i] == a[j]:\n",
    "                count +=1\n",
    "        if count > 1:\n",
    "            return count,a[i]\n",
    "    return -1"
   ]
  },
  {
   "cell_type": "code",
   "execution_count": 25,
   "metadata": {},
   "outputs": [
    {
     "data": {
      "text/plain": [
       "(2, 'i')"
      ]
     },
     "execution_count": 25,
     "metadata": {},
     "output_type": "execute_result"
    }
   ],
   "source": [
    "recurring_char(\"interviewbit\")"
   ]
  },
  {
   "cell_type": "markdown",
   "metadata": {},
   "source": [
    "Sets are always constant while searching # O(1)"
   ]
  },
  {
   "cell_type": "code",
   "execution_count": 29,
   "metadata": {},
   "outputs": [],
   "source": [
    "def opt_recucring_char(a):\n",
    "    n=len(a)\n",
    "    recurring = set()\n",
    "    for i in range(n):\n",
    "        if a[i] not in recurring: # This is O(1) because sets search in constant time, even dictionaries\n",
    "            recurring.add(a[i])\n",
    "        else:\n",
    "            return a[i]\n",
    "    return -1 "
   ]
  },
  {
   "cell_type": "code",
   "execution_count": 30,
   "metadata": {},
   "outputs": [
    {
     "data": {
      "text/plain": [
       "(-1, 'e')"
      ]
     },
     "execution_count": 30,
     "metadata": {},
     "output_type": "execute_result"
    }
   ],
   "source": [
    "opt_recucring_char(\"scaler\"), opt_recucring_char(\"nterviewbit\")"
   ]
  },
  {
   "cell_type": "code",
   "execution_count": 47,
   "metadata": {},
   "outputs": [],
   "source": [
    "def floor(arr,num):\n",
    "    end = len(arr) -1\n",
    "    start = 0 \n",
    "    while(start<=end):\n",
    "        if num > arr[-1]: return arr[-1]\n",
    "        if num < arr[0]: return \"None\"\n",
    "        mid = (start+end)//2\n",
    "        if arr[mid]< num < arr[mid+1] or num==arr[mid]:\n",
    "            return arr[mid]\n",
    "        elif arr[mid] < num:\n",
    "            start = start + 1\n",
    "        else:\n",
    "            end = end-1\n",
    "    return -1\n",
    "        "
   ]
  },
  {
   "cell_type": "code",
   "execution_count": 48,
   "metadata": {},
   "outputs": [
    {
     "data": {
      "text/plain": [
       "'None'"
      ]
     },
     "execution_count": 48,
     "metadata": {},
     "output_type": "execute_result"
    }
   ],
   "source": [
    "floor([-5,2,3,6,9,10,11,14,18],-7)"
   ]
  },
  {
   "cell_type": "code",
   "execution_count": 49,
   "metadata": {},
   "outputs": [],
   "source": [
    "def opt_floor(arr,num):\n",
    "    end = len(arr) -1\n",
    "    start = 0 \n",
    "    ans = None\n",
    "    while(start<=end):\n",
    "        mid = (start+end)//2\n",
    "        if num==arr[mid]:\n",
    "            return arr[mid]\n",
    "        elif arr[mid] < num:\n",
    "            ans = arr[mid]\n",
    "            start = start + 1\n",
    "        else:\n",
    "            end = end-1\n",
    "    return ans"
   ]
  },
  {
   "cell_type": "code",
   "execution_count": 52,
   "metadata": {},
   "outputs": [
    {
     "data": {
      "text/plain": [
       "6"
      ]
     },
     "execution_count": 52,
     "metadata": {},
     "output_type": "execute_result"
    }
   ],
   "source": [
    "opt_floor([-5,2,3,6,9,10,11,14,18],7)"
   ]
  },
  {
   "cell_type": "code",
   "execution_count": 55,
   "metadata": {},
   "outputs": [
    {
     "data": {
      "text/plain": [
       "0"
      ]
     },
     "execution_count": 55,
     "metadata": {},
     "output_type": "execute_result"
    }
   ],
   "source": [
    "def isPowerOf2(n):\n",
    "\n",
    "    isTwoMultiple = 1\n",
    "    while n > 1:\n",
    "        if n % 2 == 0: \n",
    "            n = n//2\n",
    "        else: \n",
    "            return 0\n",
    "\n",
    "    return isTwoMultiple"
   ]
  },
  {
   "cell_type": "code",
   "execution_count": 70,
   "metadata": {},
   "outputs": [],
   "source": [
    "import math\n",
    "\n",
    "def super_opt_isPowerof2(n):\n",
    "    ans = math.log2(n)\n",
    "    if ans == int(ans) :\n",
    "        return 1\n",
    "    else:\n",
    "        return 0"
   ]
  },
  {
   "cell_type": "code",
   "execution_count": 72,
   "metadata": {},
   "outputs": [
    {
     "data": {
      "text/plain": [
       "0"
      ]
     },
     "execution_count": 72,
     "metadata": {},
     "output_type": "execute_result"
    }
   ],
   "source": [
    "super_opt_isPowerof2(100)"
   ]
  },
  {
   "cell_type": "code",
   "execution_count": 73,
   "metadata": {},
   "outputs": [
    {
     "ename": "SyntaxError",
     "evalue": "invalid syntax (1885169875.py, line 1)",
     "output_type": "error",
     "traceback": [
      "\u001b[1;36m  File \u001b[1;32m\"C:\\Users\\Bharat Khanna\\AppData\\Local\\Temp\\ipykernel_13844\\1885169875.py\"\u001b[1;36m, line \u001b[1;32m1\u001b[0m\n\u001b[1;33m    def\u001b[0m\n\u001b[1;37m        ^\u001b[0m\n\u001b[1;31mSyntaxError\u001b[0m\u001b[1;31m:\u001b[0m invalid syntax\n"
     ]
    }
   ],
   "source": [
    "def "
   ]
  },
  {
   "cell_type": "code",
   "execution_count": 86,
   "metadata": {},
   "outputs": [],
   "source": [
    "# NLP: \n",
    "# n-gram -> You are givrn with a paragraph\n",
    "\n",
    "# \"be the change you want to see in the world\" , n = 2\n",
    "# \"(be,the),(the,change),(change,you),(you,want)........(the,world)\"\n",
    "\n",
    "def tokens(arr,counter):\n",
    "    arr = arr.split()\n",
    "    n = len(arr)\n",
    "    i = 0\n",
    "    ans = list()\n",
    "    for i in range(n- counter + 1):\n",
    "        tokens = list()\n",
    "        j = i\n",
    "        while(j < i + counter):\n",
    "            tokens.append(arr[j])\n",
    "            j+=1\n",
    "        ans.append(tokens)\n",
    "    return ans\n"
   ]
  },
  {
   "cell_type": "code",
   "execution_count": 88,
   "metadata": {},
   "outputs": [
    {
     "data": {
      "text/plain": [
       "[['be', 'the'],\n",
       " ['the', 'change'],\n",
       " ['change', 'you'],\n",
       " ['you', 'want'],\n",
       " ['want', 'to'],\n",
       " ['to', 'see'],\n",
       " ['see', 'in'],\n",
       " ['in', 'the'],\n",
       " ['the', 'world']]"
      ]
     },
     "execution_count": 88,
     "metadata": {},
     "output_type": "execute_result"
    }
   ],
   "source": [
    "tokens(\"be the change you want to see in the world\",2)"
   ]
  },
  {
   "cell_type": "markdown",
   "metadata": {},
   "source": [
    "---"
   ]
  },
  {
   "cell_type": "code",
   "execution_count": 110,
   "metadata": {},
   "outputs": [],
   "source": [
    "def f(n):\n",
    "  count=0\n",
    "  i,j,k,p,q = 0,0,0,0,0\n",
    "  for i in range(n):\n",
    "    p = 0\n",
    "    j = n\n",
    "    while(j>1):\n",
    "      p+=1\n",
    "      k = 1\n",
    "      while(k<p):\n",
    "        count += 1\n",
    "        q+=1\n",
    "        k *=2\n",
    "      j = j/2\n",
    "  return count"
   ]
  },
  {
   "cell_type": "code",
   "execution_count": 115,
   "metadata": {},
   "outputs": [
    {
     "data": {
      "text/plain": [
       "50"
      ]
     },
     "execution_count": 115,
     "metadata": {},
     "output_type": "execute_result"
    }
   ],
   "source": [
    "f(10)"
   ]
  },
  {
   "cell_type": "code",
   "execution_count": 119,
   "metadata": {},
   "outputs": [
    {
     "data": {
      "text/plain": [
       "1.1614486138403428"
      ]
     },
     "execution_count": 119,
     "metadata": {},
     "output_type": "execute_result"
    }
   ],
   "source": [
    "10**2"
   ]
  },
  {
   "cell_type": "code",
   "execution_count": 125,
   "metadata": {},
   "outputs": [],
   "source": [
    "def selectionSort(lis):\n",
    "\n",
    "    #YOUR CODE GOES HERE\n",
    "    n = len(lis)\n",
    "    for i in range(n-1):\n",
    "        min_idx = i\n",
    "        for j in range(i+1,n):\n",
    "            if lis[j] < lis[min_idx]:\n",
    "                min_idx = j\n",
    "        lis[i],lis[min_idx] = lis[min_idx],lis[i]\n",
    "    \n",
    "    return lis"
   ]
  },
  {
   "cell_type": "code",
   "execution_count": 129,
   "metadata": {},
   "outputs": [
    {
     "data": {
      "text/plain": [
       "['alpha', 'beta', 'delta', 'gamma']"
      ]
     },
     "execution_count": 129,
     "metadata": {},
     "output_type": "execute_result"
    }
   ],
   "source": [
    "selectionSort(['alpha', 'gamma', 'beta', 'delta'])"
   ]
  }
 ],
 "metadata": {
  "kernelspec": {
   "display_name": "Python 3.9.13 ('base')",
   "language": "python",
   "name": "python3"
  },
  "language_info": {
   "codemirror_mode": {
    "name": "ipython",
    "version": 3
   },
   "file_extension": ".py",
   "mimetype": "text/x-python",
   "name": "python",
   "nbconvert_exporter": "python",
   "pygments_lexer": "ipython3",
   "version": "3.9.13"
  },
  "orig_nbformat": 4,
  "vscode": {
   "interpreter": {
    "hash": "ff4f85d6e04298634172ac5d8264e7e9b556b95639fe52ebb9425c4d4cba0c9c"
   }
  }
 },
 "nbformat": 4,
 "nbformat_minor": 2
}
