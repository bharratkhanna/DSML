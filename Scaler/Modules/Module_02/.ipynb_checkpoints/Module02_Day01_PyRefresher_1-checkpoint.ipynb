{
 "cells": [
  {
   "cell_type": "markdown",
   "id": "ff27a7bd",
   "metadata": {},
   "source": [
    "# Python Refresher 1\n",
    "\n"
   ]
  },
  {
   "cell_type": "code",
   "execution_count": 3,
   "id": "b0312370",
   "metadata": {
    "scrolled": false
   },
   "outputs": [
    {
     "name": "stdout",
     "output_type": "stream",
     "text": [
      "Hello World!\n"
     ]
    }
   ],
   "source": [
    "print(\"Hello World!\")"
   ]
  },
  {
   "cell_type": "code",
   "execution_count": 4,
   "id": "3edc7d2a",
   "metadata": {},
   "outputs": [
    {
     "name": "stdout",
     "output_type": "stream",
     "text": [
      "5\n"
     ]
    }
   ],
   "source": [
    "print(1+4)"
   ]
  },
  {
   "cell_type": "markdown",
   "id": "51bde60c",
   "metadata": {},
   "source": [
    "### Data Types"
   ]
  },
  {
   "cell_type": "markdown",
   "id": "5efd1980",
   "metadata": {},
   "source": [
    "**Primitive Data Type**: Data types like c++/java : int a, float d, char c, these data are not objects"
   ]
  },
  {
   "cell_type": "markdown",
   "id": "dd73c11f",
   "metadata": {},
   "source": [
    "**F.C.C.** [First Class Citizens] = Everything in Python that is stored is an _Object/FCC_ like integer, float, strings, list, dictionary, booleans, functions etc\n",
    "\n",
    "- Everything in Python is an object"
   ]
  },
  {
   "cell_type": "markdown",
   "id": "82404be9",
   "metadata": {},
   "source": [
    "#### Variables"
   ]
  },
  {
   "cell_type": "markdown",
   "id": "1f8a15e1",
   "metadata": {},
   "source": [
    "- Placeholders\n",
    "- Containers"
   ]
  },
  {
   "cell_type": "markdown",
   "id": "86cce2ee",
   "metadata": {},
   "source": [
    "#### DocStrings"
   ]
  },
  {
   "cell_type": "code",
   "execution_count": 56,
   "id": "654104f0",
   "metadata": {
    "scrolled": true
   },
   "outputs": [
    {
     "name": "stdout",
     "output_type": "stream",
     "text": [
      "a=5 return a\n",
      "<function myfunc at 0x000001D2845F41F0>\n"
     ]
    }
   ],
   "source": [
    "def myfunc():\n",
    "    \"\"\"a=5 return a\"\"\" # Docstrings\n",
    "\n",
    "print(myfunc.__doc__)\n",
    "print(myfunc) "
   ]
  },
  {
   "cell_type": "markdown",
   "id": "6bcb14d0",
   "metadata": {},
   "source": [
    "---"
   ]
  },
  {
   "cell_type": "code",
   "execution_count": 15,
   "id": "3164df70",
   "metadata": {},
   "outputs": [],
   "source": [
    "a = 5"
   ]
  },
  {
   "cell_type": "code",
   "execution_count": 16,
   "id": "dd1ef7bb",
   "metadata": {},
   "outputs": [
    {
     "name": "stdout",
     "output_type": "stream",
     "text": [
      "5\n"
     ]
    }
   ],
   "source": [
    "print(a)"
   ]
  },
  {
   "cell_type": "code",
   "execution_count": 17,
   "id": "497ef481",
   "metadata": {},
   "outputs": [
    {
     "name": "stdout",
     "output_type": "stream",
     "text": [
      "a\n"
     ]
    }
   ],
   "source": [
    "print(\"a\")"
   ]
  },
  {
   "cell_type": "code",
   "execution_count": 20,
   "id": "e60b83d0",
   "metadata": {},
   "outputs": [],
   "source": [
    "# Why there is no Out section above ^ & it is below\n",
    "# Because print() is actual Output and all else are temporarily Output"
   ]
  },
  {
   "cell_type": "code",
   "execution_count": 21,
   "id": "355c9554",
   "metadata": {},
   "outputs": [
    {
     "data": {
      "text/plain": [
       "int"
      ]
     },
     "execution_count": 21,
     "metadata": {},
     "output_type": "execute_result"
    }
   ],
   "source": [
    "type(a)"
   ]
  },
  {
   "cell_type": "code",
   "execution_count": 23,
   "id": "202bd6b8",
   "metadata": {},
   "outputs": [
    {
     "name": "stdout",
     "output_type": "stream",
     "text": [
      "<class 'int'>\n"
     ]
    }
   ],
   "source": [
    "print(type(a)) # So everything in Python is Object"
   ]
  },
  {
   "cell_type": "markdown",
   "id": "ef6181d6",
   "metadata": {},
   "source": [
    "___"
   ]
  },
  {
   "cell_type": "markdown",
   "id": "a0436de3",
   "metadata": {},
   "source": [
    "#### isinstance"
   ]
  },
  {
   "cell_type": "code",
   "execution_count": 32,
   "id": "1b3e7f1e",
   "metadata": {},
   "outputs": [
    {
     "data": {
      "text/plain": [
       "True"
      ]
     },
     "execution_count": 32,
     "metadata": {},
     "output_type": "execute_result"
    }
   ],
   "source": [
    "isinstance(a, int)"
   ]
  },
  {
   "cell_type": "code",
   "execution_count": 34,
   "id": "4048dd45",
   "metadata": {},
   "outputs": [
    {
     "data": {
      "text/plain": [
       "True"
      ]
     },
     "execution_count": 34,
     "metadata": {},
     "output_type": "execute_result"
    }
   ],
   "source": [
    "isinstance(15, object) # Everything is object"
   ]
  },
  {
   "cell_type": "code",
   "execution_count": 35,
   "id": "d70f9026",
   "metadata": {},
   "outputs": [
    {
     "data": {
      "text/plain": [
       "True"
      ]
     },
     "execution_count": 35,
     "metadata": {},
     "output_type": "execute_result"
    }
   ],
   "source": [
    "isinstance(\"Hello\", object) # Everything is object"
   ]
  },
  {
   "cell_type": "code",
   "execution_count": 53,
   "id": "ca6a9750",
   "metadata": {},
   "outputs": [
    {
     "data": {
      "text/plain": [
       "True"
      ]
     },
     "execution_count": 53,
     "metadata": {},
     "output_type": "execute_result"
    }
   ],
   "source": [
    "isinstance(type, object) # Even functions are object"
   ]
  },
  {
   "cell_type": "code",
   "execution_count": 55,
   "id": "e652045c",
   "metadata": {},
   "outputs": [
    {
     "data": {
      "text/plain": [
       "True"
      ]
     },
     "execution_count": 55,
     "metadata": {},
     "output_type": "execute_result"
    }
   ],
   "source": [
    "isinstance(\"\"\"Hello\"\"\", object) # Even docstrings are object"
   ]
  },
  {
   "cell_type": "markdown",
   "id": "45621bfb",
   "metadata": {},
   "source": [
    "---"
   ]
  },
  {
   "cell_type": "markdown",
   "id": "d39e7766",
   "metadata": {},
   "source": [
    "### Language Type"
   ]
  },
  {
   "cell_type": "markdown",
   "id": "c3ef7617",
   "metadata": {},
   "source": [
    "**Dynamic Type Language**: Languages where you don't require defining containers for variable\n",
    "\n",
    "**Statically Typed Language**: Languages that need containers/data type for variables like int, float etc "
   ]
  },
  {
   "cell_type": "code",
   "execution_count": 51,
   "id": "625b4069",
   "metadata": {},
   "outputs": [
    {
     "data": {
      "text/plain": [
       "(5, int)"
      ]
     },
     "execution_count": 51,
     "metadata": {},
     "output_type": "execute_result"
    }
   ],
   "source": [
    "x = 5\n",
    "x, type(x)"
   ]
  },
  {
   "cell_type": "code",
   "execution_count": 57,
   "id": "33fccf59",
   "metadata": {},
   "outputs": [
    {
     "data": {
      "text/plain": [
       "('Hello', str)"
      ]
     },
     "execution_count": 57,
     "metadata": {},
     "output_type": "execute_result"
    }
   ],
   "source": [
    "x =\"Hello\"\n",
    "x, type(x)\n"
   ]
  },
  {
   "cell_type": "code",
   "execution_count": 81,
   "id": "d79df30f",
   "metadata": {},
   "outputs": [
    {
     "name": "stdout",
     "output_type": "stream",
     "text": [
      "10\n"
     ]
    }
   ],
   "source": [
    "x = 10\n",
    "print(x)"
   ]
  },
  {
   "cell_type": "code",
   "execution_count": 82,
   "id": "45b3d277",
   "metadata": {},
   "outputs": [
    {
     "data": {
      "text/plain": [
       "int"
      ]
     },
     "execution_count": 82,
     "metadata": {},
     "output_type": "execute_result"
    }
   ],
   "source": [
    "type(x)"
   ]
  },
  {
   "cell_type": "code",
   "execution_count": 83,
   "id": "bb50531e",
   "metadata": {},
   "outputs": [
    {
     "data": {
      "text/plain": [
       "2005743135312"
      ]
     },
     "execution_count": 83,
     "metadata": {},
     "output_type": "execute_result"
    }
   ],
   "source": [
    "id(x)"
   ]
  },
  {
   "cell_type": "code",
   "execution_count": 84,
   "id": "9793fb74",
   "metadata": {},
   "outputs": [],
   "source": [
    "x = \"Hello\""
   ]
  },
  {
   "cell_type": "code",
   "execution_count": 85,
   "id": "ab34cc4a",
   "metadata": {},
   "outputs": [
    {
     "name": "stdout",
     "output_type": "stream",
     "text": [
      "Hello\n"
     ]
    }
   ],
   "source": [
    "print(x)"
   ]
  },
  {
   "cell_type": "code",
   "execution_count": 86,
   "id": "7381ecf3",
   "metadata": {},
   "outputs": [
    {
     "data": {
      "text/plain": [
       "str"
      ]
     },
     "execution_count": 86,
     "metadata": {},
     "output_type": "execute_result"
    }
   ],
   "source": [
    "type(x)"
   ]
  },
  {
   "cell_type": "code",
   "execution_count": 87,
   "id": "93652b77",
   "metadata": {},
   "outputs": [
    {
     "data": {
      "text/plain": [
       "2003676086064"
      ]
     },
     "execution_count": 87,
     "metadata": {},
     "output_type": "execute_result"
    }
   ],
   "source": [
    "id(x) #ID doesnot match so it is a Dynamically Typed Language"
   ]
  },
  {
   "cell_type": "markdown",
   "id": "9f6fb86e",
   "metadata": {},
   "source": [
    "### Memory Workflow"
   ]
  },
  {
   "cell_type": "code",
   "execution_count": 92,
   "id": "6ef02836",
   "metadata": {},
   "outputs": [
    {
     "name": "stdout",
     "output_type": "stream",
     "text": [
      "2003710409040 2003710409264\n"
     ]
    }
   ],
   "source": [
    "alpha = 578\n",
    "beta = 989\n",
    "\n",
    "print(id(alpha), id(beta))"
   ]
  },
  {
   "cell_type": "code",
   "execution_count": 97,
   "id": "25602e32",
   "metadata": {},
   "outputs": [
    {
     "name": "stdout",
     "output_type": "stream",
     "text": [
      "2005743135152 2005743135152\n"
     ]
    }
   ],
   "source": [
    "alpha = beta\n",
    "print(id(alpha), id(beta))"
   ]
  },
  {
   "cell_type": "code",
   "execution_count": 95,
   "id": "410c04f1",
   "metadata": {},
   "outputs": [
    {
     "name": "stdout",
     "output_type": "stream",
     "text": [
      "2003710409296 2003710409328\n"
     ]
    }
   ],
   "source": [
    "alpha = 578 # Still different\n",
    "beta = 578\n",
    "\n",
    "print(id(alpha), id(beta))"
   ]
  },
  {
   "cell_type": "markdown",
   "id": "b8e15889",
   "metadata": {},
   "source": [
    "#### Small Integer Caching/ Integer Interning"
   ]
  },
  {
   "cell_type": "markdown",
   "id": "fdb74137",
   "metadata": {},
   "source": [
    "Range: -5, 256"
   ]
  },
  {
   "cell_type": "code",
   "execution_count": 96,
   "id": "acf2135b",
   "metadata": {},
   "outputs": [
    {
     "name": "stdout",
     "output_type": "stream",
     "text": [
      "2005743135152 2005743135152\n"
     ]
    }
   ],
   "source": [
    "# Beforehand Python has created small integers in memory from range(-5,256)\n",
    "\n",
    "alpha = 5 # But same now, Integer Interning\n",
    "beta = 5\n",
    "\n",
    "print(id(alpha), id(beta))"
   ]
  },
  {
   "cell_type": "markdown",
   "id": "63afbcfe",
   "metadata": {},
   "source": [
    "---"
   ]
  },
  {
   "cell_type": "code",
   "execution_count": 105,
   "id": "07394fa2",
   "metadata": {},
   "outputs": [
    {
     "data": {
      "text/plain": [
       "2005743135152"
      ]
     },
     "execution_count": 105,
     "metadata": {},
     "output_type": "execute_result"
    }
   ],
   "source": [
    "x = 5\n",
    "id(x)"
   ]
  },
  {
   "cell_type": "code",
   "execution_count": 106,
   "id": "9301a4f4",
   "metadata": {},
   "outputs": [
    {
     "data": {
      "text/plain": [
       "2003671713648"
      ]
     },
     "execution_count": 106,
     "metadata": {},
     "output_type": "execute_result"
    }
   ],
   "source": [
    "x = \"hello\"\n",
    "id(x)"
   ]
  },
  {
   "cell_type": "markdown",
   "id": "cea44aff",
   "metadata": {},
   "source": [
    "x points to 5 and after that it points to other location, but 5 is still there in RAM, so **Python Garbage Collector** comes and clear the variable."
   ]
  },
  {
   "cell_type": "markdown",
   "id": "ba124744",
   "metadata": {},
   "source": [
    "### Identifiers"
   ]
  },
  {
   "cell_type": "markdown",
   "id": "32c5d278",
   "metadata": {},
   "source": [
    "**Identifiers**: Name given to a variable, function, object, classes etc"
   ]
  },
  {
   "cell_type": "markdown",
   "id": "c5c837eb",
   "metadata": {},
   "source": [
    "3 rules as identifier:-\n",
    "- Starts with *(a-z, A-Z or _)\n",
    "- Inbetween you can use anything other than alphanumeric & _(a-z, A-Z, 0-9 or_)_\n",
    "- Should not be a python reserved keywords"
   ]
  },
  {
   "cell_type": "code",
   "execution_count": 59,
   "id": "c8394115",
   "metadata": {},
   "outputs": [
    {
     "name": "stdout",
     "output_type": "stream",
     "text": [
      "['False', 'None', 'True', '__peg_parser__', 'and', 'as', 'assert', 'async', 'await', 'break', 'class', 'continue', 'def', 'del', 'elif', 'else', 'except', 'finally', 'for', 'from', 'global', 'if', 'import', 'in', 'is', 'lambda', 'nonlocal', 'not', 'or', 'pass', 'raise', 'return', 'try', 'while', 'with', 'yield']\n"
     ]
    }
   ],
   "source": [
    "import keyword\n",
    "\n",
    "print(keyword.kwlist)"
   ]
  },
  {
   "cell_type": "markdown",
   "id": "6b482b39",
   "metadata": {},
   "source": [
    "---"
   ]
  },
  {
   "cell_type": "code",
   "execution_count": 75,
   "id": "70aea5ab",
   "metadata": {},
   "outputs": [],
   "source": [
    "int = 4 #Not Recommended, int is not a reserved keyword, It is a class"
   ]
  },
  {
   "cell_type": "code",
   "execution_count": 76,
   "id": "ddc65088",
   "metadata": {},
   "outputs": [
    {
     "data": {
      "text/plain": [
       "4"
      ]
     },
     "execution_count": 76,
     "metadata": {},
     "output_type": "execute_result"
    }
   ],
   "source": [
    "int"
   ]
  },
  {
   "cell_type": "code",
   "execution_count": 77,
   "id": "09866707",
   "metadata": {},
   "outputs": [
    {
     "ename": "TypeError",
     "evalue": "'int' object is not callable",
     "output_type": "error",
     "traceback": [
      "\u001b[1;31m---------------------------------------------------------------------------\u001b[0m",
      "\u001b[1;31mTypeError\u001b[0m                                 Traceback (most recent call last)",
      "\u001b[1;32m~\\AppData\\Local\\Temp\\ipykernel_21608\\4289630484.py\u001b[0m in \u001b[0;36m<module>\u001b[1;34m\u001b[0m\n\u001b[1;32m----> 1\u001b[1;33m \u001b[0mint\u001b[0m\u001b[1;33m(\u001b[0m\u001b[1;34m\"5\"\u001b[0m\u001b[1;33m)\u001b[0m\u001b[1;33m\u001b[0m\u001b[1;33m\u001b[0m\u001b[0m\n\u001b[0m",
      "\u001b[1;31mTypeError\u001b[0m: 'int' object is not callable"
     ]
    }
   ],
   "source": [
    "int(\"5\") # Error because int has been removed as a class and now used as an identifier"
   ]
  },
  {
   "cell_type": "code",
   "execution_count": 78,
   "id": "9a335e3b",
   "metadata": {},
   "outputs": [],
   "source": [
    "del int # if assigned use del"
   ]
  },
  {
   "cell_type": "code",
   "execution_count": 79,
   "id": "b5155a42",
   "metadata": {},
   "outputs": [
    {
     "data": {
      "text/plain": [
       "5"
      ]
     },
     "execution_count": 79,
     "metadata": {},
     "output_type": "execute_result"
    }
   ],
   "source": [
    "int(\"5\")"
   ]
  },
  {
   "cell_type": "markdown",
   "id": "c2766347",
   "metadata": {},
   "source": [
    "### Mutability/Immutability"
   ]
  },
  {
   "cell_type": "markdown",
   "id": "2a79787d",
   "metadata": {},
   "source": [
    "##### Mutability"
   ]
  },
  {
   "cell_type": "markdown",
   "id": "7e0a9040",
   "metadata": {},
   "source": [
    "If a data type values can be changed/edited without changing there location\n",
    "- Set,List & Dictionary - only these 3 are mutable in Python"
   ]
  },
  {
   "cell_type": "code",
   "execution_count": 104,
   "id": "f548146e",
   "metadata": {},
   "outputs": [
    {
     "data": {
      "text/plain": [
       "2003710409264"
      ]
     },
     "execution_count": 104,
     "metadata": {},
     "output_type": "execute_result"
    }
   ],
   "source": [
    "x = 1000\n",
    "id(x)"
   ]
  },
  {
   "cell_type": "code",
   "execution_count": 103,
   "id": "ad36b682",
   "metadata": {},
   "outputs": [
    {
     "data": {
      "text/plain": [
       "2003710409360"
      ]
     },
     "execution_count": 103,
     "metadata": {},
     "output_type": "execute_result"
    }
   ],
   "source": [
    "x = x + 1\n",
    "id(x)"
   ]
  },
  {
   "cell_type": "markdown",
   "id": "135afe46",
   "metadata": {},
   "source": [
    "Hence Integer is not Mutable, because it creates new Values at a different location and points to it"
   ]
  },
  {
   "cell_type": "markdown",
   "id": "3481b558",
   "metadata": {},
   "source": [
    "#### Immutability`"
   ]
  },
  {
   "cell_type": "markdown",
   "id": "dd0c7ba5",
   "metadata": {},
   "source": [
    "If a data type values cannot be changed/edited without changing there location\n",
    "- Like: int,str,tuple etc"
   ]
  },
  {
   "cell_type": "markdown",
   "id": "d8e59137",
   "metadata": {},
   "source": [
    "### Operators"
   ]
  },
  {
   "cell_type": "markdown",
   "id": "7d209c62",
   "metadata": {},
   "source": [
    "#### Arithematic Operators"
   ]
  },
  {
   "cell_type": "markdown",
   "id": "30cbab61",
   "metadata": {},
   "source": [
    "    +,-,*,/,//,**<%"
   ]
  },
  {
   "cell_type": "markdown",
   "id": "d3898fd5",
   "metadata": {},
   "source": [
    "##### / => is a float division"
   ]
  },
  {
   "cell_type": "code",
   "execution_count": 109,
   "id": "078e95d8",
   "metadata": {},
   "outputs": [
    {
     "data": {
      "text/plain": [
       "5.0"
      ]
     },
     "execution_count": 109,
     "metadata": {},
     "output_type": "execute_result"
    }
   ],
   "source": [
    "10/2"
   ]
  },
  {
   "cell_type": "markdown",
   "id": "ad4e6f4d",
   "metadata": {},
   "source": [
    "##### // => is a floor division"
   ]
  },
  {
   "cell_type": "code",
   "execution_count": 111,
   "id": "2d73ae85",
   "metadata": {},
   "outputs": [
    {
     "data": {
      "text/plain": [
       "2"
      ]
     },
     "execution_count": 111,
     "metadata": {},
     "output_type": "execute_result"
    }
   ],
   "source": [
    "# Floor devision\n",
    "8//3"
   ]
  },
  {
   "cell_type": "markdown",
   "id": "9f5b41ec",
   "metadata": {},
   "source": [
    "##### **  is power"
   ]
  },
  {
   "cell_type": "code",
   "execution_count": 113,
   "id": "846daece",
   "metadata": {},
   "outputs": [
    {
     "data": {
      "text/plain": [
       "8"
      ]
     },
     "execution_count": 113,
     "metadata": {},
     "output_type": "execute_result"
    }
   ],
   "source": [
    "2**3"
   ]
  },
  {
   "cell_type": "markdown",
   "id": "069d4f41",
   "metadata": {},
   "source": [
    "##### % gives remainder"
   ]
  },
  {
   "cell_type": "code",
   "execution_count": 114,
   "id": "0b2a9172",
   "metadata": {},
   "outputs": [
    {
     "data": {
      "text/plain": [
       "1"
      ]
     },
     "execution_count": 114,
     "metadata": {},
     "output_type": "execute_result"
    }
   ],
   "source": [
    "10 % 3"
   ]
  },
  {
   "cell_type": "markdown",
   "id": "fbd0d296",
   "metadata": {},
   "source": [
    "#### Logical Operators"
   ]
  },
  {
   "cell_type": "markdown",
   "id": "079d6e1f",
   "metadata": {},
   "source": [
    "    or, and not"
   ]
  },
  {
   "cell_type": "code",
   "execution_count": 116,
   "id": "963592ff",
   "metadata": {},
   "outputs": [
    {
     "data": {
      "text/plain": [
       "False"
      ]
     },
     "execution_count": 116,
     "metadata": {},
     "output_type": "execute_result"
    }
   ],
   "source": [
    "not True"
   ]
  },
  {
   "cell_type": "code",
   "execution_count": 117,
   "id": "bc5799b4",
   "metadata": {},
   "outputs": [
    {
     "data": {
      "text/plain": [
       "True"
      ]
     },
     "execution_count": 117,
     "metadata": {},
     "output_type": "execute_result"
    }
   ],
   "source": [
    "not False"
   ]
  },
  {
   "cell_type": "markdown",
   "id": "a717290d",
   "metadata": {},
   "source": [
    "#### Conditional operators"
   ]
  },
  {
   "cell_type": "markdown",
   "id": "5cc7c260",
   "metadata": {},
   "source": [
    "    ==, >, <, >=, <=,!="
   ]
  },
  {
   "cell_type": "markdown",
   "id": "81f7fd4d",
   "metadata": {},
   "source": [
    "### Control Flows"
   ]
  },
  {
   "cell_type": "markdown",
   "id": "29348860",
   "metadata": {},
   "source": [
    "#### Conditional Statements"
   ]
  },
  {
   "cell_type": "code",
   "execution_count": 118,
   "id": "050fdb90",
   "metadata": {},
   "outputs": [
    {
     "name": "stdout",
     "output_type": "stream",
     "text": [
      "Eligible to vote\n"
     ]
    }
   ],
   "source": [
    "age = 21\n",
    "\n",
    "if age>=18:\n",
    "    print(\"Eligible to vote\")"
   ]
  },
  {
   "cell_type": "code",
   "execution_count": 119,
   "id": "c582e056",
   "metadata": {},
   "outputs": [],
   "source": [
    "age = 15\n",
    "\n",
    "if age>=18:\n",
    "    print(\"Eligible to vote\")"
   ]
  },
  {
   "cell_type": "code",
   "execution_count": 121,
   "id": "f76862f7",
   "metadata": {},
   "outputs": [
    {
     "name": "stdout",
     "output_type": "stream",
     "text": [
      "Go home Kid!!!\n"
     ]
    }
   ],
   "source": [
    "age = 15\n",
    "\n",
    "if age>=18:\n",
    "    print(\"Eligible to vote\")\n",
    "else:\n",
    "    print(\"Go home Kid!!!\")"
   ]
  },
  {
   "cell_type": "markdown",
   "id": "00d3644e",
   "metadata": {},
   "source": [
    "    #10L > 30% Tax\n",
    "    # 5L -  20% Tax\n",
    "    # < 5L - 0 Tax"
   ]
  },
  {
   "cell_type": "code",
   "execution_count": 125,
   "id": "f7ed4802",
   "metadata": {},
   "outputs": [
    {
     "name": "stdout",
     "output_type": "stream",
     "text": [
      "0\n"
     ]
    }
   ],
   "source": [
    "salary = 4\n",
    "tax = 0\n",
    "\n",
    "if salary > 10:\n",
    "    tax = 0.3 * salary\n",
    "else: \n",
    "    if salary > 4:\n",
    "        tax = 0.2 * salary\n",
    "    else:\n",
    "        tax = 0\n",
    "print(tax)"
   ]
  },
  {
   "cell_type": "code",
   "execution_count": 126,
   "id": "38a08870",
   "metadata": {},
   "outputs": [
    {
     "name": "stdout",
     "output_type": "stream",
     "text": [
      "0\n"
     ]
    }
   ],
   "source": [
    "salary = 4\n",
    "tax = 0\n",
    "\n",
    "if salary > 10:\n",
    "    tax = 0.3 * salary\n",
    "elif salary > 4:\n",
    "    tax = 0.2 * salary\n",
    "else:\n",
    "    tax = 0\n",
    "print(tax)"
   ]
  },
  {
   "cell_type": "markdown",
   "id": "71fd5735",
   "metadata": {},
   "source": [
    "### Loops"
   ]
  },
  {
   "cell_type": "markdown",
   "id": "f0b0a529",
   "metadata": {},
   "source": [
    "- while\n",
    "- loop"
   ]
  },
  {
   "cell_type": "markdown",
   "id": "9c172da6",
   "metadata": {},
   "source": [
    "#### While"
   ]
  },
  {
   "cell_type": "markdown",
   "id": "b5a01bfb",
   "metadata": {},
   "source": [
    "- When you know the exit condition"
   ]
  },
  {
   "cell_type": "code",
   "execution_count": 154,
   "id": "4c5816bb",
   "metadata": {},
   "outputs": [
    {
     "name": "stdout",
     "output_type": "stream",
     "text": [
      "0 1 2 3 4 5 6 7 8 9 10 "
     ]
    }
   ],
   "source": [
    "i = 0\n",
    "\n",
    "#stopping condition\n",
    "while i<=10:\n",
    "    print(i,end=\" \")\n",
    "    \n",
    "    #updation\n",
    "    i = i+1"
   ]
  },
  {
   "cell_type": "code",
   "execution_count": 155,
   "id": "15438987",
   "metadata": {},
   "outputs": [
    {
     "name": "stdout",
     "output_type": "stream",
     "text": [
      "Enter Command:h\n",
      "h\n",
      "Enter Command:s\n",
      "s\n",
      "Enter Command:a\n",
      "a\n",
      "Enter Command:exit\n"
     ]
    }
   ],
   "source": [
    "command = input(\"Enter Command:\")\n",
    "\n",
    "while command!=\"exit\":\n",
    "    print(command)\n",
    "    command = input(\"Enter Command:\")"
   ]
  },
  {
   "cell_type": "code",
   "execution_count": 133,
   "id": "ec539b3a",
   "metadata": {},
   "outputs": [],
   "source": [
    "# Describe what function does, inbuilt jupyter feature not python"
   ]
  },
  {
   "cell_type": "code",
   "execution_count": 135,
   "id": "7ed84cda",
   "metadata": {},
   "outputs": [],
   "source": [
    "print?"
   ]
  },
  {
   "cell_type": "markdown",
   "id": "ae3b8369",
   "metadata": {},
   "source": [
    "#### Loop"
   ]
  },
  {
   "cell_type": "markdown",
   "id": "a8e99db0",
   "metadata": {},
   "source": [
    "- When you know the start and end condition"
   ]
  },
  {
   "cell_type": "code",
   "execution_count": 140,
   "id": "71813f7c",
   "metadata": {},
   "outputs": [
    {
     "name": "stdout",
     "output_type": "stream",
     "text": [
      "1 2 3 4 5 6 7 8 9 10 "
     ]
    }
   ],
   "source": [
    "for i in range(1,11): #start is optional and by default it is 0\n",
    "    print(i, end=\" \")"
   ]
  },
  {
   "cell_type": "code",
   "execution_count": 141,
   "id": "50473a1c",
   "metadata": {},
   "outputs": [
    {
     "name": "stdout",
     "output_type": "stream",
     "text": [
      "10 9 8 7 6 5 4 3 2 1 "
     ]
    }
   ],
   "source": [
    "for i in range(10,0,-1): #start is optional and by default it is 0\n",
    "    print(i,end=\" \")"
   ]
  },
  {
   "cell_type": "code",
   "execution_count": 142,
   "id": "92f3d349",
   "metadata": {},
   "outputs": [
    {
     "name": "stdout",
     "output_type": "stream",
     "text": [
      "0 2 4 6 8 10 12 14 16 18 20 "
     ]
    }
   ],
   "source": [
    "for i in range(0,21,2): #start is optional and by default it is 0\n",
    "    print(i,end=\" \")"
   ]
  },
  {
   "cell_type": "code",
   "execution_count": 151,
   "id": "78bdabc6",
   "metadata": {
    "scrolled": false
   },
   "outputs": [
    {
     "name": "stdout",
     "output_type": "stream",
     "text": [
      "* \n",
      "* * \n",
      "* * * \n",
      "* * * * \n",
      "* * * * * \n"
     ]
    }
   ],
   "source": [
    "n = 5\n",
    "for i in range(1,n+1):\n",
    "    for j in range(i):\n",
    "        print(\"*\",end=\" \")\n",
    "    print()"
   ]
  },
  {
   "cell_type": "code",
   "execution_count": 156,
   "id": "bdb34216",
   "metadata": {},
   "outputs": [
    {
     "name": "stdout",
     "output_type": "stream",
     "text": [
      "* \n",
      "* * \n",
      "* * * \n",
      "* * * * \n",
      "* * * * * \n"
     ]
    }
   ],
   "source": [
    "n = 5\n",
    "for i in range(1,n+1):\n",
    "    print(\"* \"*i)"
   ]
  },
  {
   "cell_type": "markdown",
   "id": "532e2191",
   "metadata": {},
   "source": [
    "---"
   ]
  },
  {
   "cell_type": "markdown",
   "id": "bfc423c8",
   "metadata": {},
   "source": [
    "### Doubts Notes"
   ]
  },
  {
   "cell_type": "markdown",
   "id": "f0400f96",
   "metadata": {},
   "source": [
    "Dry Run: Is running which code manually and telling which lines will be executed"
   ]
  },
  {
   "cell_type": "code",
   "execution_count": 157,
   "id": "f1a6137d",
   "metadata": {},
   "outputs": [
    {
     "data": {
      "text/plain": [
       "(2003709641584, 2003713389952)"
      ]
     },
     "execution_count": 157,
     "metadata": {},
     "output_type": "execute_result"
    }
   ],
   "source": [
    "s1 =\"Hello World!!!!\"\n",
    "s2 = \"mohit.uniyal@scaler.com\"\n",
    "id(s1),id(s2)"
   ]
  },
  {
   "cell_type": "code",
   "execution_count": 161,
   "id": "1526036c",
   "metadata": {},
   "outputs": [
    {
     "data": {
      "text/plain": [
       "(2003705499824, 2003705499824)"
      ]
     },
     "execution_count": 161,
     "metadata": {},
     "output_type": "execute_result"
    }
   ],
   "source": [
    "s1 = \"Scaler\"\n",
    "s2 = \"Scaler\"\n",
    "\n",
    "id(s1), id(s2) \n",
    "# This happens because of Caching but this is not String Interning. \n",
    "# There ids could be same if they have same value and no special characters including space"
   ]
  }
 ],
 "metadata": {
  "kernelspec": {
   "display_name": "Python 3 (ipykernel)",
   "language": "python",
   "name": "python3"
  },
  "language_info": {
   "codemirror_mode": {
    "name": "ipython",
    "version": 3
   },
   "file_extension": ".py",
   "mimetype": "text/x-python",
   "name": "python",
   "nbconvert_exporter": "python",
   "pygments_lexer": "ipython3",
   "version": "3.9.13"
  },
  "varInspector": {
   "cols": {
    "lenName": 16,
    "lenType": 16,
    "lenVar": 40
   },
   "kernels_config": {
    "python": {
     "delete_cmd_postfix": "",
     "delete_cmd_prefix": "del ",
     "library": "var_list.py",
     "varRefreshCmd": "print(var_dic_list())"
    },
    "r": {
     "delete_cmd_postfix": ") ",
     "delete_cmd_prefix": "rm(",
     "library": "var_list.r",
     "varRefreshCmd": "cat(var_dic_list()) "
    }
   },
   "types_to_exclude": [
    "module",
    "function",
    "builtin_function_or_method",
    "instance",
    "_Feature"
   ],
   "window_display": false
  }
 },
 "nbformat": 4,
 "nbformat_minor": 5
}
