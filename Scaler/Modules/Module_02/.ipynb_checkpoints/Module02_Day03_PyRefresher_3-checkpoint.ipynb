{
 "cells": [
  {
   "cell_type": "markdown",
   "id": "6de20147",
   "metadata": {},
   "source": [
    "# Python Refresher 2"
   ]
  },
  {
   "cell_type": "markdown",
   "id": "0524c232",
   "metadata": {},
   "source": [
    "## Tuples"
   ]
  },
  {
   "cell_type": "markdown",
   "id": "faf8e4f4",
   "metadata": {},
   "source": [
    "- Almost Similar to list\n",
    "- Tuples are immutable\n",
    "- \"Read only\" List, Cannot do modification"
   ]
  },
  {
   "cell_type": "markdown",
   "id": "fd7b2f98",
   "metadata": {},
   "source": [
    "#### Creating Tuples"
   ]
  },
  {
   "cell_type": "code",
   "execution_count": 3,
   "id": "718cd45f",
   "metadata": {},
   "outputs": [
    {
     "data": {
      "text/plain": [
       "(1, 2, 3, 4, 5)"
      ]
     },
     "execution_count": 3,
     "metadata": {},
     "output_type": "execute_result"
    }
   ],
   "source": [
    "t = (1,2,3,4,5)\n",
    "t"
   ]
  },
  {
   "cell_type": "code",
   "execution_count": 4,
   "id": "55d68390",
   "metadata": {},
   "outputs": [
    {
     "data": {
      "text/plain": [
       "tuple"
      ]
     },
     "execution_count": 4,
     "metadata": {},
     "output_type": "execute_result"
    }
   ],
   "source": [
    "type(t)"
   ]
  },
  {
   "cell_type": "code",
   "execution_count": 5,
   "id": "11dab55a",
   "metadata": {},
   "outputs": [
    {
     "data": {
      "text/plain": [
       "1"
      ]
     },
     "execution_count": 5,
     "metadata": {},
     "output_type": "execute_result"
    }
   ],
   "source": [
    "t[0]"
   ]
  },
  {
   "cell_type": "code",
   "execution_count": 6,
   "id": "4350b694",
   "metadata": {},
   "outputs": [
    {
     "data": {
      "text/plain": [
       "5"
      ]
     },
     "execution_count": 6,
     "metadata": {},
     "output_type": "execute_result"
    }
   ],
   "source": [
    "t[-1]"
   ]
  },
  {
   "cell_type": "code",
   "execution_count": 7,
   "id": "0171c411",
   "metadata": {},
   "outputs": [
    {
     "data": {
      "text/plain": [
       "(2, 3, 4)"
      ]
     },
     "execution_count": 7,
     "metadata": {},
     "output_type": "execute_result"
    }
   ],
   "source": [
    "t[1:4]"
   ]
  },
  {
   "cell_type": "code",
   "execution_count": 8,
   "id": "8ec38303",
   "metadata": {},
   "outputs": [
    {
     "ename": "TypeError",
     "evalue": "'tuple' object does not support item assignment",
     "output_type": "error",
     "traceback": [
      "\u001b[1;31m---------------------------------------------------------------------------\u001b[0m",
      "\u001b[1;31mTypeError\u001b[0m                                 Traceback (most recent call last)",
      "\u001b[1;32m~\\AppData\\Local\\Temp\\ipykernel_21096\\816329950.py\u001b[0m in \u001b[0;36m<module>\u001b[1;34m\u001b[0m\n\u001b[1;32m----> 1\u001b[1;33m \u001b[0mt\u001b[0m\u001b[1;33m[\u001b[0m\u001b[1;36m0\u001b[0m\u001b[1;33m]\u001b[0m \u001b[1;33m=\u001b[0m \u001b[1;36m100\u001b[0m\u001b[1;33m\u001b[0m\u001b[1;33m\u001b[0m\u001b[0m\n\u001b[0m",
      "\u001b[1;31mTypeError\u001b[0m: 'tuple' object does not support item assignment"
     ]
    }
   ],
   "source": [
    "t[0] = 100  #tuples are immutable in nature"
   ]
  },
  {
   "cell_type": "code",
   "execution_count": 9,
   "id": "7c6d3723",
   "metadata": {},
   "outputs": [
    {
     "data": {
      "text/plain": [
       "(1, 3, True, 'String', 3.14)"
      ]
     },
     "execution_count": 9,
     "metadata": {},
     "output_type": "execute_result"
    }
   ],
   "source": [
    "t1 = (1,3,True,\"String\",3.14)\n",
    "t1"
   ]
  },
  {
   "cell_type": "code",
   "execution_count": 10,
   "id": "a7f02495",
   "metadata": {},
   "outputs": [
    {
     "data": {
      "text/plain": [
       "tuple"
      ]
     },
     "execution_count": 10,
     "metadata": {},
     "output_type": "execute_result"
    }
   ],
   "source": [
    "type(t1)"
   ]
  },
  {
   "cell_type": "code",
   "execution_count": 11,
   "id": "6833a1b9",
   "metadata": {},
   "outputs": [],
   "source": [
    "emp_id = (101,102,106,110)"
   ]
  },
  {
   "cell_type": "code",
   "execution_count": 13,
   "id": "89311512",
   "metadata": {},
   "outputs": [
    {
     "ename": "NameError",
     "evalue": "name 'em_id' is not defined",
     "output_type": "error",
     "traceback": [
      "\u001b[1;31m---------------------------------------------------------------------------\u001b[0m",
      "\u001b[1;31mNameError\u001b[0m                                 Traceback (most recent call last)",
      "\u001b[1;32m~\\AppData\\Local\\Temp\\ipykernel_21096\\635971115.py\u001b[0m in \u001b[0;36m<module>\u001b[1;34m\u001b[0m\n\u001b[1;32m----> 1\u001b[1;33m \u001b[0mem_id\u001b[0m\u001b[1;33m[\u001b[0m\u001b[1;36m0\u001b[0m\u001b[1;33m]\u001b[0m \u001b[1;33m=\u001b[0m \u001b[1;36m81\u001b[0m \u001b[1;31m# Beneficial where you don't want to change\u001b[0m\u001b[1;33m\u001b[0m\u001b[1;33m\u001b[0m\u001b[0m\n\u001b[0m",
      "\u001b[1;31mNameError\u001b[0m: name 'em_id' is not defined"
     ]
    }
   ],
   "source": [
    "em_id[0] = 81 # Beneficial where you don't want to change"
   ]
  },
  {
   "cell_type": "markdown",
   "id": "f17345d8",
   "metadata": {},
   "source": [
    "##### Because they are \"Read Only\", they are faster than list"
   ]
  },
  {
   "cell_type": "markdown",
   "id": "7baa1712",
   "metadata": {},
   "source": [
    "#### Tuple Properties"
   ]
  },
  {
   "cell_type": "code",
   "execution_count": 18,
   "id": "26b0d149",
   "metadata": {},
   "outputs": [
    {
     "data": {
      "text/plain": [
       "(1, 2, 3, 4, 5, 1, 3, True, 'String', 3.14)"
      ]
     },
     "execution_count": 18,
     "metadata": {},
     "output_type": "execute_result"
    }
   ],
   "source": [
    "t2 = t + t1 #Concat\n",
    "t2"
   ]
  },
  {
   "cell_type": "code",
   "execution_count": 15,
   "id": "22e3342e",
   "metadata": {},
   "outputs": [
    {
     "data": {
      "text/plain": [
       "(1, 2, 1, 2, 1, 2)"
      ]
     },
     "execution_count": 15,
     "metadata": {},
     "output_type": "execute_result"
    }
   ],
   "source": [
    "(1,2)*3"
   ]
  },
  {
   "cell_type": "code",
   "execution_count": 19,
   "id": "071119d5",
   "metadata": {},
   "outputs": [
    {
     "name": "stdout",
     "output_type": "stream",
     "text": [
      "1 2 3 4 5 1 3 True String 3.14 "
     ]
    }
   ],
   "source": [
    "for ele in t2:\n",
    "    print(ele,end=\" \")"
   ]
  },
  {
   "cell_type": "code",
   "execution_count": 21,
   "id": "6efd2ac0",
   "metadata": {},
   "outputs": [
    {
     "data": {
      "text/plain": [
       "(3, 4)"
      ]
     },
     "execution_count": 21,
     "metadata": {},
     "output_type": "execute_result"
    }
   ],
   "source": [
    "#Chnage of refrence\n",
    "\n",
    "t1 = (1,2)\n",
    "t1 = (3,4)\n",
    "t1"
   ]
  },
  {
   "cell_type": "code",
   "execution_count": 22,
   "id": "f713ae73",
   "metadata": {},
   "outputs": [
    {
     "data": {
      "text/plain": [
       "(tuple, ())"
      ]
     },
     "execution_count": 22,
     "metadata": {},
     "output_type": "execute_result"
    }
   ],
   "source": [
    "# Empty Tuples\n",
    "t = tuple()\n",
    "type(t), t"
   ]
  },
  {
   "cell_type": "code",
   "execution_count": 23,
   "id": "d7111608",
   "metadata": {},
   "outputs": [
    {
     "data": {
      "text/plain": [
       "[100]"
      ]
     },
     "execution_count": 23,
     "metadata": {},
     "output_type": "execute_result"
    }
   ],
   "source": [
    "[100]"
   ]
  },
  {
   "cell_type": "code",
   "execution_count": 24,
   "id": "00fac5aa",
   "metadata": {},
   "outputs": [
    {
     "data": {
      "text/plain": [
       "int"
      ]
     },
     "execution_count": 24,
     "metadata": {},
     "output_type": "execute_result"
    }
   ],
   "source": [
    "# , is important \n",
    "\n",
    "t = (100)\n",
    "type(t)"
   ]
  },
  {
   "cell_type": "code",
   "execution_count": 25,
   "id": "5f74bfee",
   "metadata": {},
   "outputs": [
    {
     "data": {
      "text/plain": [
       "tuple"
      ]
     },
     "execution_count": 25,
     "metadata": {},
     "output_type": "execute_result"
    }
   ],
   "source": [
    "t = (100,)\n",
    "type(t)"
   ]
  },
  {
   "cell_type": "code",
   "execution_count": 27,
   "id": "4388c85b",
   "metadata": {},
   "outputs": [
    {
     "data": {
      "text/plain": [
       "tuple"
      ]
     },
     "execution_count": 27,
     "metadata": {},
     "output_type": "execute_result"
    }
   ],
   "source": [
    "# For tuple important thing is ,\n",
    "\n",
    "t = 100,\n",
    "type(t)"
   ]
  },
  {
   "cell_type": "code",
   "execution_count": null,
   "id": "cdcb5377",
   "metadata": {},
   "outputs": [],
   "source": [
    "(2+4)/6 # parenthesis are used for this, hence for tuple , are really im"
   ]
  },
  {
   "cell_type": "markdown",
   "id": "d6c64434",
   "metadata": {},
   "source": [
    "### Tuple packing and Unpacking"
   ]
  },
  {
   "cell_type": "code",
   "execution_count": 32,
   "id": "1dfc2d42",
   "metadata": {},
   "outputs": [
    {
     "data": {
      "text/plain": [
       "int"
      ]
     },
     "execution_count": 32,
     "metadata": {},
     "output_type": "execute_result"
    }
   ],
   "source": [
    "a,b =1,2\n",
    "type(a)"
   ]
  },
  {
   "cell_type": "markdown",
   "id": "9c198e20",
   "metadata": {},
   "source": [
    "#### Packing"
   ]
  },
  {
   "cell_type": "code",
   "execution_count": 34,
   "id": "84c7ec67",
   "metadata": {},
   "outputs": [
    {
     "data": {
      "text/plain": [
       "(1, 2, 'Scaler')"
      ]
     },
     "execution_count": 34,
     "metadata": {},
     "output_type": "execute_result"
    }
   ],
   "source": [
    "a,b,name = 1,2,\"Scaler\"\n",
    "a,b,name # This created tuple, Hence TUPLE PACKING"
   ]
  },
  {
   "cell_type": "code",
   "execution_count": 35,
   "id": "99996d34",
   "metadata": {},
   "outputs": [
    {
     "data": {
      "text/plain": [
       "(1, 2, 'Scaler')"
      ]
     },
     "execution_count": 35,
     "metadata": {},
     "output_type": "execute_result"
    }
   ],
   "source": [
    "tup = 1,2,\"Scaler\"\n",
    "tup"
   ]
  },
  {
   "cell_type": "markdown",
   "id": "276c4f72",
   "metadata": {},
   "source": [
    "#### Unpacking"
   ]
  },
  {
   "cell_type": "code",
   "execution_count": 36,
   "id": "14bbb9d1",
   "metadata": {},
   "outputs": [
    {
     "name": "stdout",
     "output_type": "stream",
     "text": [
      "1\n",
      "2\n",
      "Scaler\n"
     ]
    }
   ],
   "source": [
    "a,b,c = tup\n",
    "print(a)\n",
    "print(b)\n",
    "print(c)"
   ]
  },
  {
   "cell_type": "code",
   "execution_count": 38,
   "id": "87fe71e4",
   "metadata": {},
   "outputs": [],
   "source": [
    "def foo(a,b):\n",
    "    return a+b, a-b, a*b"
   ]
  },
  {
   "cell_type": "code",
   "execution_count": 39,
   "id": "3539d011",
   "metadata": {},
   "outputs": [
    {
     "data": {
      "text/plain": [
       "(5, -1, 6)"
      ]
     },
     "execution_count": 39,
     "metadata": {},
     "output_type": "execute_result"
    }
   ],
   "source": [
    "foo(2,3) # This is Tuple packing"
   ]
  },
  {
   "cell_type": "code",
   "execution_count": 40,
   "id": "4653e808",
   "metadata": {},
   "outputs": [
    {
     "name": "stdout",
     "output_type": "stream",
     "text": [
      "5\n",
      "-1\n",
      "6\n"
     ]
    }
   ],
   "source": [
    "add,sub,mul = foo(2,3)\n",
    "print(add)\n",
    "print(sub)\n",
    "print(mul)"
   ]
  },
  {
   "cell_type": "code",
   "execution_count": 41,
   "id": "7bc582c8",
   "metadata": {},
   "outputs": [
    {
     "ename": "ValueError",
     "evalue": "too many values to unpack (expected 2)",
     "output_type": "error",
     "traceback": [
      "\u001b[1;31m---------------------------------------------------------------------------\u001b[0m",
      "\u001b[1;31mValueError\u001b[0m                                Traceback (most recent call last)",
      "\u001b[1;32m~\\AppData\\Local\\Temp\\ipykernel_21096\\2070136764.py\u001b[0m in \u001b[0;36m<module>\u001b[1;34m\u001b[0m\n\u001b[1;32m----> 1\u001b[1;33m \u001b[0ma\u001b[0m\u001b[1;33m,\u001b[0m\u001b[0mb\u001b[0m \u001b[1;33m=\u001b[0m \u001b[1;33m(\u001b[0m\u001b[1;36m1\u001b[0m\u001b[1;33m,\u001b[0m\u001b[1;36m2\u001b[0m\u001b[1;33m,\u001b[0m\u001b[1;36m3\u001b[0m\u001b[1;33m)\u001b[0m \u001b[1;31m# Error\u001b[0m\u001b[1;33m\u001b[0m\u001b[1;33m\u001b[0m\u001b[0m\n\u001b[0m",
      "\u001b[1;31mValueError\u001b[0m: too many values to unpack (expected 2)"
     ]
    }
   ],
   "source": [
    "a,b = (1,2,3) # Error"
   ]
  },
  {
   "cell_type": "code",
   "execution_count": 42,
   "id": "5b8bc079",
   "metadata": {},
   "outputs": [
    {
     "data": {
      "text/plain": [
       "1"
      ]
     },
     "execution_count": 42,
     "metadata": {},
     "output_type": "execute_result"
    }
   ],
   "source": [
    "t1.count(4)"
   ]
  },
  {
   "cell_type": "code",
   "execution_count": 43,
   "id": "b3f78590",
   "metadata": {},
   "outputs": [
    {
     "data": {
      "text/plain": [
       "1"
      ]
     },
     "execution_count": 43,
     "metadata": {},
     "output_type": "execute_result"
    }
   ],
   "source": [
    "t1.index(4)"
   ]
  },
  {
   "cell_type": "code",
   "execution_count": 44,
   "id": "f066110e",
   "metadata": {},
   "outputs": [
    {
     "data": {
      "text/plain": [
       "(3, 4)"
      ]
     },
     "execution_count": 44,
     "metadata": {},
     "output_type": "execute_result"
    }
   ],
   "source": [
    "t1"
   ]
  },
  {
   "cell_type": "code",
   "execution_count": 47,
   "id": "76b97cd3",
   "metadata": {},
   "outputs": [
    {
     "ename": "TypeError",
     "evalue": "'tuple' object doesn't support item deletion",
     "output_type": "error",
     "traceback": [
      "\u001b[1;31m---------------------------------------------------------------------------\u001b[0m",
      "\u001b[1;31mTypeError\u001b[0m                                 Traceback (most recent call last)",
      "\u001b[1;32m~\\AppData\\Local\\Temp\\ipykernel_21096\\135965744.py\u001b[0m in \u001b[0;36m<module>\u001b[1;34m\u001b[0m\n\u001b[0;32m      4\u001b[0m \u001b[1;33m\u001b[0m\u001b[0m\n\u001b[0;32m      5\u001b[0m \u001b[0msorted\u001b[0m\u001b[1;33m(\u001b[0m\u001b[0mt\u001b[0m\u001b[1;33m,\u001b[0m\u001b[0mreverse\u001b[0m \u001b[1;33m=\u001b[0m \u001b[1;32mTrue\u001b[0m\u001b[1;33m)\u001b[0m\u001b[1;33m\u001b[0m\u001b[1;33m\u001b[0m\u001b[0m\n\u001b[1;32m----> 6\u001b[1;33m \u001b[1;32mdel\u001b[0m \u001b[0mt\u001b[0m\u001b[1;33m[\u001b[0m\u001b[1;36m0\u001b[0m\u001b[1;33m]\u001b[0m\u001b[1;33m\u001b[0m\u001b[1;33m\u001b[0m\u001b[0m\n\u001b[0m",
      "\u001b[1;31mTypeError\u001b[0m: 'tuple' object doesn't support item deletion"
     ]
    }
   ],
   "source": [
    "# Universal function works\n",
    "\n",
    "t = 1,2,3,4,5,6,7\n",
    "\n",
    "sorted(t,reverse = True)"
   ]
  },
  {
   "cell_type": "code",
   "execution_count": 49,
   "id": "9bbbca4d",
   "metadata": {},
   "outputs": [],
   "source": [
    "t1 = 1,2,3\n",
    "t2 = 1,2,3"
   ]
  },
  {
   "cell_type": "code",
   "execution_count": 51,
   "id": "74539329",
   "metadata": {},
   "outputs": [
    {
     "data": {
      "text/plain": [
       "False"
      ]
     },
     "execution_count": 51,
     "metadata": {},
     "output_type": "execute_result"
    }
   ],
   "source": [
    "id(t1) ==  id(t2) # Interning not supported by tuples , SUPPORTED only byb strings & integers"
   ]
  },
  {
   "cell_type": "markdown",
   "id": "75750dbb",
   "metadata": {},
   "source": [
    "## Strings"
   ]
  },
  {
   "cell_type": "markdown",
   "id": "135805d8",
   "metadata": {},
   "source": [
    "- Sequence of Characters\n",
    "- Immutable"
   ]
  },
  {
   "cell_type": "code",
   "execution_count": 52,
   "id": "80f31dc6",
   "metadata": {},
   "outputs": [
    {
     "name": "stdout",
     "output_type": "stream",
     "text": [
      "Alexa, Switch off the lights.\n"
     ]
    }
   ],
   "source": [
    "command = \"Alexa, Switch off the lights.\"\n",
    "print(command)"
   ]
  },
  {
   "cell_type": "code",
   "execution_count": 53,
   "id": "6fa1005a",
   "metadata": {},
   "outputs": [
    {
     "data": {
      "text/plain": [
       "str"
      ]
     },
     "execution_count": 53,
     "metadata": {},
     "output_type": "execute_result"
    }
   ],
   "source": [
    "type(command)"
   ]
  },
  {
   "cell_type": "code",
   "execution_count": 54,
   "id": "f2f986a2",
   "metadata": {},
   "outputs": [
    {
     "data": {
      "text/plain": [
       "'A'"
      ]
     },
     "execution_count": 54,
     "metadata": {},
     "output_type": "execute_result"
    }
   ],
   "source": [
    "# Indexing\n",
    "\n",
    "command[0]"
   ]
  },
  {
   "cell_type": "code",
   "execution_count": 55,
   "id": "f850976e",
   "metadata": {},
   "outputs": [
    {
     "data": {
      "text/plain": [
       "'.'"
      ]
     },
     "execution_count": 55,
     "metadata": {},
     "output_type": "execute_result"
    }
   ],
   "source": [
    "command[-1]"
   ]
  },
  {
   "cell_type": "code",
   "execution_count": 56,
   "id": "eb115562",
   "metadata": {},
   "outputs": [
    {
     "data": {
      "text/plain": [
       "'.sthgil eht ffo hctiwS ,axelA'"
      ]
     },
     "execution_count": 56,
     "metadata": {},
     "output_type": "execute_result"
    }
   ],
   "source": [
    "command[::-1]"
   ]
  },
  {
   "cell_type": "markdown",
   "id": "e4bf0d40",
   "metadata": {},
   "source": [
    "    HW - \"Switch off\" from command through idexing"
   ]
  },
  {
   "cell_type": "code",
   "execution_count": 57,
   "id": "b624475e",
   "metadata": {},
   "outputs": [
    {
     "data": {
      "text/plain": [
       "'Switch off'"
      ]
     },
     "execution_count": 57,
     "metadata": {},
     "output_type": "execute_result"
    }
   ],
   "source": [
    "command[7:17] # Indexing"
   ]
  },
  {
   "cell_type": "code",
   "execution_count": 60,
   "id": "b3b725e7",
   "metadata": {},
   "outputs": [
    {
     "ename": "TypeError",
     "evalue": "'str' object does not support item assignment",
     "output_type": "error",
     "traceback": [
      "\u001b[1;31m---------------------------------------------------------------------------\u001b[0m",
      "\u001b[1;31mTypeError\u001b[0m                                 Traceback (most recent call last)",
      "\u001b[1;32m~\\AppData\\Local\\Temp\\ipykernel_21096\\939510016.py\u001b[0m in \u001b[0;36m<module>\u001b[1;34m\u001b[0m\n\u001b[1;32m----> 1\u001b[1;33m \u001b[0mcommand\u001b[0m\u001b[1;33m[\u001b[0m\u001b[1;36m0\u001b[0m\u001b[1;33m]\u001b[0m \u001b[1;33m=\u001b[0m \u001b[1;34m\"H\"\u001b[0m \u001b[1;31m# Immutable\u001b[0m\u001b[1;33m\u001b[0m\u001b[1;33m\u001b[0m\u001b[0m\n\u001b[0m",
      "\u001b[1;31mTypeError\u001b[0m: 'str' object does not support item assignment"
     ]
    }
   ],
   "source": [
    "command[0] = \"H\" # Immutable"
   ]
  },
  {
   "cell_type": "code",
   "execution_count": 64,
   "id": "c989a291",
   "metadata": {},
   "outputs": [
    {
     "name": "stdout",
     "output_type": "stream",
     "text": [
      "2188619465840\n",
      "2188619465264\n"
     ]
    },
    {
     "data": {
      "text/plain": [
       "('Hello World', None)"
      ]
     },
     "execution_count": 64,
     "metadata": {},
     "output_type": "execute_result"
    }
   ],
   "source": [
    "# Concat is possible\n",
    "\n",
    "s = \"Hello\"\n",
    "print(id(s))\n",
    "s += \" World\"\n",
    "s, print(id(s)) # String is immutable and assign value to new memory location"
   ]
  },
  {
   "cell_type": "code",
   "execution_count": 65,
   "id": "14c4921d",
   "metadata": {},
   "outputs": [
    {
     "data": {
      "text/plain": [
       "True"
      ]
     },
     "execution_count": 65,
     "metadata": {},
     "output_type": "execute_result"
    }
   ],
   "source": [
    "s1 = \"hello world\"\n",
    "s2 = \"hello world\"\n",
    "\n",
    "s1==s2"
   ]
  },
  {
   "cell_type": "markdown",
   "id": "791186ac",
   "metadata": {},
   "source": [
    "### is (Compares Memory location)"
   ]
  },
  {
   "cell_type": "code",
   "execution_count": 66,
   "id": "6b1f17a9",
   "metadata": {
    "scrolled": true
   },
   "outputs": [
    {
     "data": {
      "text/plain": [
       "False"
      ]
     },
     "execution_count": 66,
     "metadata": {},
     "output_type": "execute_result"
    }
   ],
   "source": [
    "s1 is s2"
   ]
  },
  {
   "cell_type": "code",
   "execution_count": 67,
   "id": "4ac88156",
   "metadata": {},
   "outputs": [
    {
     "data": {
      "text/plain": [
       "(True, False)"
      ]
     },
     "execution_count": 67,
     "metadata": {},
     "output_type": "execute_result"
    }
   ],
   "source": [
    "a = 1000\n",
    "b = 1000\n",
    "\n",
    "a==b, a is b"
   ]
  },
  {
   "cell_type": "markdown",
   "id": "77680c22",
   "metadata": {},
   "source": [
    "### Membership Operators"
   ]
  },
  {
   "cell_type": "markdown",
   "id": "298c46c0",
   "metadata": {},
   "source": [
    "#### in"
   ]
  },
  {
   "cell_type": "code",
   "execution_count": 68,
   "id": "736e70f8",
   "metadata": {},
   "outputs": [
    {
     "data": {
      "text/plain": [
       "True"
      ]
     },
     "execution_count": 68,
     "metadata": {},
     "output_type": "execute_result"
    }
   ],
   "source": [
    "\"Alexa\" in command"
   ]
  },
  {
   "cell_type": "code",
   "execution_count": 69,
   "id": "97a963a0",
   "metadata": {},
   "outputs": [
    {
     "data": {
      "text/plain": [
       "False"
      ]
     },
     "execution_count": 69,
     "metadata": {},
     "output_type": "execute_result"
    }
   ],
   "source": [
    "\"on\" in command"
   ]
  },
  {
   "cell_type": "code",
   "execution_count": 70,
   "id": "258e47cd",
   "metadata": {},
   "outputs": [
    {
     "data": {
      "text/plain": [
       "True"
      ]
     },
     "execution_count": 70,
     "metadata": {},
     "output_type": "execute_result"
    }
   ],
   "source": [
    "\"lexa\" in command"
   ]
  },
  {
   "cell_type": "code",
   "execution_count": 72,
   "id": "4c029aa3",
   "metadata": {},
   "outputs": [],
   "source": [
    "lst = [7,4,3,9,0,5]"
   ]
  },
  {
   "cell_type": "code",
   "execution_count": 73,
   "id": "b1e4ee5f",
   "metadata": {},
   "outputs": [
    {
     "data": {
      "text/plain": [
       "(False, True)"
      ]
     },
     "execution_count": 73,
     "metadata": {},
     "output_type": "execute_result"
    }
   ],
   "source": [
    "8 in lst, 5 in lst"
   ]
  },
  {
   "cell_type": "markdown",
   "id": "0c9b89b9",
   "metadata": {},
   "source": [
    "#### Methods()"
   ]
  },
  {
   "cell_type": "code",
   "execution_count": 74,
   "id": "96923dc8",
   "metadata": {},
   "outputs": [],
   "source": [
    "s =\"Hello World\""
   ]
  },
  {
   "cell_type": "code",
   "execution_count": 75,
   "id": "39d96438",
   "metadata": {},
   "outputs": [
    {
     "data": {
      "text/plain": [
       "1"
      ]
     },
     "execution_count": 75,
     "metadata": {},
     "output_type": "execute_result"
    }
   ],
   "source": [
    "s.index(\"e\")"
   ]
  },
  {
   "cell_type": "code",
   "execution_count": 77,
   "id": "a30f75b2",
   "metadata": {},
   "outputs": [
    {
     "data": {
      "text/plain": [
       "4"
      ]
     },
     "execution_count": 77,
     "metadata": {},
     "output_type": "execute_result"
    }
   ],
   "source": [
    "s.index(\"o\") # Gives the first occurence"
   ]
  },
  {
   "cell_type": "code",
   "execution_count": 79,
   "id": "fbb1d4f0",
   "metadata": {},
   "outputs": [
    {
     "data": {
      "text/plain": [
       "7"
      ]
     },
     "execution_count": 79,
     "metadata": {},
     "output_type": "execute_result"
    }
   ],
   "source": [
    "s.index(\"o\",5) # Checks from index 5"
   ]
  },
  {
   "cell_type": "code",
   "execution_count": 80,
   "id": "77664bdc",
   "metadata": {},
   "outputs": [
    {
     "data": {
      "text/plain": [
       "'Alexa, Switch off the lights.'"
      ]
     },
     "execution_count": 80,
     "metadata": {},
     "output_type": "execute_result"
    }
   ],
   "source": [
    "command"
   ]
  },
  {
   "cell_type": "code",
   "execution_count": 82,
   "id": "1da47f0c",
   "metadata": {},
   "outputs": [
    {
     "data": {
      "text/plain": [
       "7"
      ]
     },
     "execution_count": 82,
     "metadata": {},
     "output_type": "execute_result"
    }
   ],
   "source": [
    "command.index(\"Switch off\") # can get they entire substring"
   ]
  },
  {
   "cell_type": "code",
   "execution_count": 84,
   "id": "ca0f175f",
   "metadata": {},
   "outputs": [
    {
     "ename": "ValueError",
     "evalue": "substring not found",
     "output_type": "error",
     "traceback": [
      "\u001b[1;31m---------------------------------------------------------------------------\u001b[0m",
      "\u001b[1;31mValueError\u001b[0m                                Traceback (most recent call last)",
      "\u001b[1;32m~\\AppData\\Local\\Temp\\ipykernel_21096\\4128256911.py\u001b[0m in \u001b[0;36m<module>\u001b[1;34m\u001b[0m\n\u001b[1;32m----> 1\u001b[1;33m \u001b[0mcommand\u001b[0m\u001b[1;33m.\u001b[0m\u001b[0mindex\u001b[0m\u001b[1;33m(\u001b[0m\u001b[1;34m\"Switch on\"\u001b[0m\u001b[1;33m)\u001b[0m \u001b[1;31m# Error because exact string not found\u001b[0m\u001b[1;33m\u001b[0m\u001b[1;33m\u001b[0m\u001b[0m\n\u001b[0m",
      "\u001b[1;31mValueError\u001b[0m: substring not found"
     ]
    }
   ],
   "source": [
    "command.index(\"Switch on\") # Error because exact string not found"
   ]
  },
  {
   "cell_type": "code",
   "execution_count": 85,
   "id": "b6398b3d",
   "metadata": {},
   "outputs": [
    {
     "data": {
      "text/plain": [
       "1"
      ]
     },
     "execution_count": 85,
     "metadata": {},
     "output_type": "execute_result"
    }
   ],
   "source": [
    "command.count(\"Switch off\")"
   ]
  },
  {
   "cell_type": "code",
   "execution_count": 86,
   "id": "604d6b21",
   "metadata": {},
   "outputs": [
    {
     "data": {
      "text/plain": [
       "0"
      ]
     },
     "execution_count": 86,
     "metadata": {},
     "output_type": "execute_result"
    }
   ],
   "source": [
    "command.count(\"Switch on\")"
   ]
  },
  {
   "cell_type": "code",
   "execution_count": 87,
   "id": "e2725c1a",
   "metadata": {},
   "outputs": [
    {
     "data": {
      "text/plain": [
       "'alexa, switch off the lights.'"
      ]
     },
     "execution_count": 87,
     "metadata": {},
     "output_type": "execute_result"
    }
   ],
   "source": [
    "command.lower()"
   ]
  },
  {
   "cell_type": "code",
   "execution_count": 88,
   "id": "d7fa7de8",
   "metadata": {},
   "outputs": [
    {
     "data": {
      "text/plain": [
       "'Alexa, Switch Off The Lights.'"
      ]
     },
     "execution_count": 88,
     "metadata": {},
     "output_type": "execute_result"
    }
   ],
   "source": [
    "command.title()"
   ]
  },
  {
   "cell_type": "code",
   "execution_count": 89,
   "id": "11c5b129",
   "metadata": {},
   "outputs": [
    {
     "data": {
      "text/plain": [
       "False"
      ]
     },
     "execution_count": 89,
     "metadata": {},
     "output_type": "execute_result"
    }
   ],
   "source": [
    "command.islower()"
   ]
  },
  {
   "cell_type": "code",
   "execution_count": 90,
   "id": "ce797aae",
   "metadata": {},
   "outputs": [
    {
     "data": {
      "text/plain": [
       "False"
      ]
     },
     "execution_count": 90,
     "metadata": {},
     "output_type": "execute_result"
    }
   ],
   "source": [
    "command.isnumeric()"
   ]
  },
  {
   "cell_type": "code",
   "execution_count": 92,
   "id": "daf13482",
   "metadata": {},
   "outputs": [
    {
     "data": {
      "text/plain": [
       "True"
      ]
     },
     "execution_count": 92,
     "metadata": {},
     "output_type": "execute_result"
    }
   ],
   "source": [
    "command.startswith(\"A\")"
   ]
  },
  {
   "cell_type": "code",
   "execution_count": 97,
   "id": "9f10cd28",
   "metadata": {},
   "outputs": [
    {
     "data": {
      "text/plain": [
       "('Alexa, ', 'Switch off', ' the lights.')"
      ]
     },
     "execution_count": 97,
     "metadata": {},
     "output_type": "execute_result"
    }
   ],
   "source": [
    "command.partition(\"Switch off\")"
   ]
  },
  {
   "cell_type": "code",
   "execution_count": 98,
   "id": "6d6f96da",
   "metadata": {},
   "outputs": [
    {
     "data": {
      "text/plain": [
       "False"
      ]
     },
     "execution_count": 98,
     "metadata": {},
     "output_type": "execute_result"
    }
   ],
   "source": [
    "command.startswith(\"alexa\")"
   ]
  },
  {
   "cell_type": "code",
   "execution_count": 99,
   "id": "f60cccc5",
   "metadata": {},
   "outputs": [
    {
     "data": {
      "text/plain": [
       "'https://www.scaler.com'"
      ]
     },
     "execution_count": 99,
     "metadata": {},
     "output_type": "execute_result"
    }
   ],
   "source": [
    "web = \"https://www.scaler.com\"\n",
    "web"
   ]
  },
  {
   "cell_type": "code",
   "execution_count": 100,
   "id": "55547cb7",
   "metadata": {},
   "outputs": [
    {
     "data": {
      "text/plain": [
       "True"
      ]
     },
     "execution_count": 100,
     "metadata": {},
     "output_type": "execute_result"
    }
   ],
   "source": [
    "web.startswith(\"http\")"
   ]
  },
  {
   "cell_type": "code",
   "execution_count": 101,
   "id": "cb6dded2",
   "metadata": {},
   "outputs": [
    {
     "data": {
      "text/plain": [
       "True"
      ]
     },
     "execution_count": 101,
     "metadata": {},
     "output_type": "execute_result"
    }
   ],
   "source": [
    "web.lower().startswith(\"https\")"
   ]
  },
  {
   "cell_type": "code",
   "execution_count": 102,
   "id": "bd43eec5",
   "metadata": {},
   "outputs": [
    {
     "data": {
      "text/plain": [
       "True"
      ]
     },
     "execution_count": 102,
     "metadata": {},
     "output_type": "execute_result"
    }
   ],
   "source": [
    "_"
   ]
  },
  {
   "cell_type": "code",
   "execution_count": 103,
   "id": "0aef4fa2",
   "metadata": {},
   "outputs": [],
   "source": [
    "# Multilines String supported\n",
    "\n",
    "email =\"\"\"Hi,\n",
    "    How are you?\n",
    "\n",
    "    Regards\n",
    "    Bharat\"\"\""
   ]
  },
  {
   "cell_type": "code",
   "execution_count": 105,
   "id": "06af82df",
   "metadata": {},
   "outputs": [
    {
     "data": {
      "text/plain": [
       "('Hi,\\n    How are you?\\n\\n    Regards\\n    Bharat', str)"
      ]
     },
     "execution_count": 105,
     "metadata": {},
     "output_type": "execute_result"
    }
   ],
   "source": [
    "email, type(email)"
   ]
  },
  {
   "cell_type": "markdown",
   "id": "18db48f2",
   "metadata": {},
   "source": [
    "### Formattng"
   ]
  },
  {
   "cell_type": "code",
   "execution_count": 106,
   "id": "9fd8603d",
   "metadata": {},
   "outputs": [],
   "source": [
    "length = 2\n",
    "breadth = 5\n",
    "area = length * breadth"
   ]
  },
  {
   "cell_type": "markdown",
   "id": "12b5a3fa",
   "metadata": {},
   "source": [
    "#### f stings"
   ]
  },
  {
   "cell_type": "code",
   "execution_count": 110,
   "id": "8293ca0b",
   "metadata": {},
   "outputs": [
    {
     "name": "stdout",
     "output_type": "stream",
     "text": [
      "The area of rectangle length:2 & breadth:5 is 10\n"
     ]
    }
   ],
   "source": [
    "print(f\"The area of rectangle length:{length} & breadth:{breadth} is {area}\")"
   ]
  },
  {
   "cell_type": "markdown",
   "id": "dc1fcfcf",
   "metadata": {},
   "source": [
    "#### format()"
   ]
  },
  {
   "cell_type": "code",
   "execution_count": 121,
   "id": "1baceee4",
   "metadata": {
    "scrolled": true
   },
   "outputs": [
    {
     "name": "stdout",
     "output_type": "stream",
     "text": [
      "The area of rectangle length:2 & breadth:5 is 10\n"
     ]
    }
   ],
   "source": [
    "s = \"The area of rectangle length:{} & breadth:{} is {}\".format(length,breadth,area)\n",
    "print(s)"
   ]
  },
  {
   "cell_type": "markdown",
   "id": "707b1bbd",
   "metadata": {},
   "source": [
    "#### Split()"
   ]
  },
  {
   "cell_type": "code",
   "execution_count": 122,
   "id": "d09e98da",
   "metadata": {},
   "outputs": [
    {
     "data": {
      "text/plain": [
       "['Data', 'science', 'is', 'fun']"
      ]
     },
     "execution_count": 122,
     "metadata": {},
     "output_type": "execute_result"
    }
   ],
   "source": [
    "# str -> list : split\n",
    "# list -> str : join\n",
    "\n",
    "s = \"Data science is fun\"\n",
    "s.split()"
   ]
  },
  {
   "cell_type": "code",
   "execution_count": 124,
   "id": "955374e7",
   "metadata": {},
   "outputs": [
    {
     "data": {
      "text/plain": [
       "['Data sc', 'ence ', 's fun']"
      ]
     },
     "execution_count": 124,
     "metadata": {},
     "output_type": "execute_result"
    }
   ],
   "source": [
    "lst = s.split(\"i\") # does not count i in it\n",
    "lst"
   ]
  },
  {
   "cell_type": "code",
   "execution_count": 125,
   "id": "ca3fe02b",
   "metadata": {},
   "outputs": [
    {
     "data": {
      "text/plain": [
       "['I', 'am', 'very', 'happy', 'with', 'the', 'movie', 'ending']"
      ]
     },
     "execution_count": 125,
     "metadata": {},
     "output_type": "execute_result"
    }
   ],
   "source": [
    "review = \"I am very happy with the movie ending\"\n",
    "\n",
    "# Word tokenization on individual words in NLP\n",
    "review.split()"
   ]
  },
  {
   "cell_type": "code",
   "execution_count": 136,
   "id": "60c111c2",
   "metadata": {},
   "outputs": [],
   "source": [
    "review = \"I am happy. movie was good. best ever movie. Loved it. My email: mohit@sxaler.com\"\n",
    "sentences = review.split(\". \")\n"
   ]
  },
  {
   "cell_type": "code",
   "execution_count": 138,
   "id": "f6e723ea",
   "metadata": {},
   "outputs": [
    {
     "data": {
      "text/plain": [
       "'I am happy#movie was good#best ever movie#Loved it#My email: mohit@sxaler.com'"
      ]
     },
     "execution_count": 138,
     "metadata": {},
     "output_type": "execute_result"
    }
   ],
   "source": [
    "\"#\".join(sentences)"
   ]
  },
  {
   "cell_type": "code",
   "execution_count": 142,
   "id": "ff69347d",
   "metadata": {},
   "outputs": [
    {
     "name": "stdout",
     "output_type": "stream",
     "text": [
      "5 2 7 9 1\n"
     ]
    }
   ],
   "source": [
    "inp = input()"
   ]
  },
  {
   "cell_type": "code",
   "execution_count": 143,
   "id": "b2540abc",
   "metadata": {},
   "outputs": [
    {
     "data": {
      "text/plain": [
       "['5', '2', '7', '9', '1']"
      ]
     },
     "execution_count": 143,
     "metadata": {},
     "output_type": "execute_result"
    }
   ],
   "source": [
    "inp.split()"
   ]
  },
  {
   "cell_type": "code",
   "execution_count": 145,
   "id": "20cbaeb7",
   "metadata": {},
   "outputs": [
    {
     "data": {
      "text/plain": [
       "[5, 2, 7, 9, 1]"
      ]
     },
     "execution_count": 145,
     "metadata": {},
     "output_type": "execute_result"
    }
   ],
   "source": [
    "[int(n) for n in inp.split()] # Convert to integer"
   ]
  },
  {
   "cell_type": "code",
   "execution_count": 150,
   "id": "a7efce68",
   "metadata": {},
   "outputs": [
    {
     "data": {
      "text/plain": [
       "'I am happy, movie was good, best ever movie. Loved it. My email: mohit@sxaler.com'"
      ]
     },
     "execution_count": 150,
     "metadata": {},
     "output_type": "execute_result"
    }
   ],
   "source": [
    "review = \"I am happy, movie was good, best ever movie. Loved it. My email: mohit@sxaler.com\"\n",
    "review"
   ]
  },
  {
   "cell_type": "code",
   "execution_count": 171,
   "id": "cbe689c6",
   "metadata": {},
   "outputs": [
    {
     "name": "stdout",
     "output_type": "stream",
     "text": [
      "I am happy. movie was good. best ever movie. Loved it. My email: mohit@sxaler.com\n"
     ]
    },
    {
     "data": {
      "text/plain": [
       "['I am happy',\n",
       " ' movie was good',\n",
       " ' best ever movie',\n",
       " ' Loved it',\n",
       " ' My email: mohit@sxaler',\n",
       " 'com']"
      ]
     },
     "execution_count": 171,
     "metadata": {},
     "output_type": "execute_result"
    }
   ],
   "source": [
    "review = review.replace(\",\",\".\")\n",
    "print(review)\n",
    "review.split(\".\")"
   ]
  },
  {
   "cell_type": "markdown",
   "id": "0aba048c",
   "metadata": {},
   "source": [
    "### Time"
   ]
  },
  {
   "cell_type": "code",
   "execution_count": 168,
   "id": "61d98c24",
   "metadata": {},
   "outputs": [
    {
     "name": "stdout",
     "output_type": "stream",
     "text": [
      "7.95 ns ± 0.145 ns per loop (mean ± std. dev. of 7 runs, 100000000 loops each)\n"
     ]
    }
   ],
   "source": [
    "%timeit (1,2,3)"
   ]
  },
  {
   "cell_type": "code",
   "execution_count": 169,
   "id": "77a7f7cb",
   "metadata": {},
   "outputs": [
    {
     "name": "stdout",
     "output_type": "stream",
     "text": [
      "45.2 ns ± 2.1 ns per loop (mean ± std. dev. of 7 runs, 10000000 loops each)\n"
     ]
    }
   ],
   "source": [
    "%timeit [1,2,3]"
   ]
  },
  {
   "cell_type": "markdown",
   "id": "69d121a3",
   "metadata": {},
   "source": [
    "### Dictionary"
   ]
  },
  {
   "cell_type": "markdown",
   "id": "1c4c2a4c",
   "metadata": {},
   "source": [
    "- define using {}, or dict()"
   ]
  },
  {
   "cell_type": "code",
   "execution_count": 175,
   "id": "8ea30a0d",
   "metadata": {},
   "outputs": [
    {
     "data": {
      "text/plain": [
       "type"
      ]
     },
     "execution_count": 175,
     "metadata": {},
     "output_type": "execute_result"
    }
   ],
   "source": [
    "d = dict()\n",
    "type(dict)"
   ]
  },
  {
   "cell_type": "code",
   "execution_count": 178,
   "id": "ec9bd5dd",
   "metadata": {},
   "outputs": [
    {
     "data": {
      "text/plain": [
       "({'name': 'John', 'location': 'Delhi', 'subject': ['Python', 'ML']}, dict)"
      ]
     },
     "execution_count": 178,
     "metadata": {},
     "output_type": "execute_result"
    }
   ],
   "source": [
    "p = {\n",
    "    \"name\":\"John\",\n",
    "    \"location\":\"Delhi\",\n",
    "    \"subject\": [\"Python\", \"ML\"]\n",
    "}\n",
    "p,type(p)"
   ]
  },
  {
   "cell_type": "code",
   "execution_count": 177,
   "id": "1c9c5576",
   "metadata": {},
   "outputs": [
    {
     "data": {
      "text/plain": [
       "3"
      ]
     },
     "execution_count": 177,
     "metadata": {},
     "output_type": "execute_result"
    }
   ],
   "source": [
    "len(p)"
   ]
  },
  {
   "cell_type": "markdown",
   "id": "3107be0f",
   "metadata": {},
   "source": [
    "#### Acessing the data\n"
   ]
  },
  {
   "cell_type": "code",
   "execution_count": 180,
   "id": "38adc07e",
   "metadata": {},
   "outputs": [
    {
     "ename": "KeyError",
     "evalue": "0",
     "output_type": "error",
     "traceback": [
      "\u001b[1;31m---------------------------------------------------------------------------\u001b[0m",
      "\u001b[1;31mKeyError\u001b[0m                                  Traceback (most recent call last)",
      "\u001b[1;32m~\\AppData\\Local\\Temp\\ipykernel_21096\\943468167.py\u001b[0m in \u001b[0;36m<module>\u001b[1;34m\u001b[0m\n\u001b[1;32m----> 1\u001b[1;33m \u001b[0mp\u001b[0m\u001b[1;33m[\u001b[0m\u001b[1;36m0\u001b[0m\u001b[1;33m]\u001b[0m \u001b[1;31m# Gives error because indexing not supported in dict\u001b[0m\u001b[1;33m\u001b[0m\u001b[1;33m\u001b[0m\u001b[0m\n\u001b[0m",
      "\u001b[1;31mKeyError\u001b[0m: 0"
     ]
    }
   ],
   "source": [
    "p[0] # Gives error because indexing not supported in dict"
   ]
  },
  {
   "cell_type": "code",
   "execution_count": 182,
   "id": "2175a8c7",
   "metadata": {},
   "outputs": [
    {
     "data": {
      "text/plain": [
       "('Delhi', 'John')"
      ]
     },
     "execution_count": 182,
     "metadata": {},
     "output_type": "execute_result"
    }
   ],
   "source": [
    "# Access the values using keys\n",
    "\n",
    "p[\"location\"], p[\"name\"]"
   ]
  },
  {
   "cell_type": "code",
   "execution_count": 183,
   "id": "673a52f1",
   "metadata": {},
   "outputs": [],
   "source": [
    "p[\"name\"] = \"Bill\""
   ]
  },
  {
   "cell_type": "code",
   "execution_count": 184,
   "id": "2cf480ac",
   "metadata": {},
   "outputs": [
    {
     "data": {
      "text/plain": [
       "2188624707200"
      ]
     },
     "execution_count": 184,
     "metadata": {},
     "output_type": "execute_result"
    }
   ],
   "source": [
    "id(p)"
   ]
  },
  {
   "cell_type": "code",
   "execution_count": 185,
   "id": "4c0470e0",
   "metadata": {},
   "outputs": [],
   "source": [
    "p[\"name\"] = \"John\""
   ]
  },
  {
   "cell_type": "code",
   "execution_count": 186,
   "id": "835a6664",
   "metadata": {},
   "outputs": [
    {
     "data": {
      "text/plain": [
       "2188624707200"
      ]
     },
     "execution_count": 186,
     "metadata": {},
     "output_type": "execute_result"
    }
   ],
   "source": [
    "id(p) # hence mutable"
   ]
  },
  {
   "cell_type": "code",
   "execution_count": 187,
   "id": "1a37a2bf",
   "metadata": {},
   "outputs": [
    {
     "data": {
      "text/plain": [
       "['Python', 'ML']"
      ]
     },
     "execution_count": 187,
     "metadata": {},
     "output_type": "execute_result"
    }
   ],
   "source": [
    "p[\"subject\"]"
   ]
  },
  {
   "cell_type": "code",
   "execution_count": 188,
   "id": "e6e5e03a",
   "metadata": {},
   "outputs": [
    {
     "data": {
      "text/plain": [
       "['Python', 'ML', 'Data Science']"
      ]
     },
     "execution_count": 188,
     "metadata": {},
     "output_type": "execute_result"
    }
   ],
   "source": [
    "p[\"subject\"].append(\"Data Science\")\n",
    "p[\"subject\"]"
   ]
  },
  {
   "cell_type": "code",
   "execution_count": 189,
   "id": "9281a759",
   "metadata": {},
   "outputs": [
    {
     "data": {
      "text/plain": [
       "['Python', 'ML', 'Data Science', 'DL']"
      ]
     },
     "execution_count": 189,
     "metadata": {},
     "output_type": "execute_result"
    }
   ],
   "source": [
    "p[\"subject\"] = p[\"subject\"] + [\"DL\"]\n",
    "p[\"subject\"]"
   ]
  },
  {
   "cell_type": "markdown",
   "id": "22cb41ae",
   "metadata": {},
   "source": [
    "#### Methods"
   ]
  },
  {
   "cell_type": "code",
   "execution_count": 192,
   "id": "7596e463",
   "metadata": {},
   "outputs": [
    {
     "data": {
      "text/plain": [
       "(dict_keys(['name', 'location', 'subject']), dict_keys)"
      ]
     },
     "execution_count": 192,
     "metadata": {},
     "output_type": "execute_result"
    }
   ],
   "source": [
    "p.keys(), type(p.keys())"
   ]
  },
  {
   "cell_type": "code",
   "execution_count": 193,
   "id": "f329fdba",
   "metadata": {},
   "outputs": [
    {
     "data": {
      "text/plain": [
       "['name', 'location', 'subject']"
      ]
     },
     "execution_count": 193,
     "metadata": {},
     "output_type": "execute_result"
    }
   ],
   "source": [
    "list(p.keys())"
   ]
  },
  {
   "cell_type": "code",
   "execution_count": 195,
   "id": "8b8ae14c",
   "metadata": {},
   "outputs": [
    {
     "data": {
      "text/plain": [
       "(dict_values(['John', 'Delhi', ['Python', 'ML', 'Data Science', 'DL']]),\n",
       " dict_values)"
      ]
     },
     "execution_count": 195,
     "metadata": {},
     "output_type": "execute_result"
    }
   ],
   "source": [
    "p.values(), type(p.values())"
   ]
  },
  {
   "cell_type": "code",
   "execution_count": 196,
   "id": "efba12cb",
   "metadata": {},
   "outputs": [
    {
     "data": {
      "text/plain": [
       "['John', 'Delhi', ['Python', 'ML', 'Data Science', 'DL']]"
      ]
     },
     "execution_count": 196,
     "metadata": {},
     "output_type": "execute_result"
    }
   ],
   "source": [
    "list(p.values())"
   ]
  },
  {
   "cell_type": "code",
   "execution_count": 197,
   "id": "30a9e12c",
   "metadata": {},
   "outputs": [
    {
     "data": {
      "text/plain": [
       "{'name': 'John',\n",
       " 'location': 'Delhi',\n",
       " 'subject': ['Python', 'ML', 'Data Science', 'DL']}"
      ]
     },
     "execution_count": 197,
     "metadata": {},
     "output_type": "execute_result"
    }
   ],
   "source": [
    "p"
   ]
  },
  {
   "cell_type": "code",
   "execution_count": 198,
   "id": "7fac9646",
   "metadata": {},
   "outputs": [
    {
     "data": {
      "text/plain": [
       "{'name': 'John',\n",
       " 'location': 'Delhi',\n",
       " 'subject': ['Python', 'ML', 'Data Science', 'DL'],\n",
       " 'age': 30}"
      ]
     },
     "execution_count": 198,
     "metadata": {},
     "output_type": "execute_result"
    }
   ],
   "source": [
    "p.update({\"age\":30})\n",
    "p"
   ]
  },
  {
   "cell_type": "code",
   "execution_count": 199,
   "id": "66d20ecc",
   "metadata": {},
   "outputs": [
    {
     "data": {
      "text/plain": [
       "{'name': 'John',\n",
       " 'location': 'Delhi',\n",
       " 'subject': ['Python', 'ML', 'Data Science', 'DL'],\n",
       " 'age': 30,\n",
       " 'Gender': 'M'}"
      ]
     },
     "execution_count": 199,
     "metadata": {},
     "output_type": "execute_result"
    }
   ],
   "source": [
    "p[\"Gender\"] = \"M\"\n",
    "p"
   ]
  },
  {
   "cell_type": "code",
   "execution_count": 200,
   "id": "919a9e44",
   "metadata": {},
   "outputs": [
    {
     "data": {
      "text/plain": [
       "{'name': 'John',\n",
       " 'location': 'Delhi',\n",
       " 'subject': ['Python', 'ML', 'Data Science', 'DL'],\n",
       " 'age': 30,\n",
       " 'Gender': 'M',\n",
       " 'Role': 'SDE2'}"
      ]
     },
     "execution_count": 200,
     "metadata": {},
     "output_type": "execute_result"
    }
   ],
   "source": [
    "p[\"Role\"] = \"SDE2\"\n",
    "p"
   ]
  },
  {
   "cell_type": "code",
   "execution_count": 204,
   "id": "fa0d9dc3",
   "metadata": {},
   "outputs": [
    {
     "ename": "TypeError",
     "evalue": "unhashable type: 'list'",
     "output_type": "error",
     "traceback": [
      "\u001b[1;31m---------------------------------------------------------------------------\u001b[0m",
      "\u001b[1;31mTypeError\u001b[0m                                 Traceback (most recent call last)",
      "\u001b[1;32m~\\AppData\\Local\\Temp\\ipykernel_21096\\1643928621.py\u001b[0m in \u001b[0;36m<module>\u001b[1;34m\u001b[0m\n\u001b[1;32m----> 1\u001b[1;33m p1 = {\n\u001b[0m\u001b[0;32m      2\u001b[0m     \u001b[1;34m\"name\"\u001b[0m\u001b[1;33m:\u001b[0m\u001b[1;34m\"Anne\"\u001b[0m\u001b[1;33m,\u001b[0m\u001b[1;33m\u001b[0m\u001b[1;33m\u001b[0m\u001b[0m\n\u001b[0;32m      3\u001b[0m     \u001b[1;33m[\u001b[0m\u001b[1;36m1\u001b[0m\u001b[1;33m,\u001b[0m\u001b[1;36m2\u001b[0m\u001b[1;33m,\u001b[0m\u001b[1;36m3\u001b[0m\u001b[1;33m]\u001b[0m\u001b[1;33m:\u001b[0m\u001b[1;36m1000\u001b[0m\u001b[1;33m\u001b[0m\u001b[1;33m\u001b[0m\u001b[0m\n\u001b[0;32m      4\u001b[0m }\n\u001b[0;32m      5\u001b[0m \u001b[0mp1\u001b[0m \u001b[1;31m# error because list is mutable and unhashable\u001b[0m\u001b[1;33m\u001b[0m\u001b[1;33m\u001b[0m\u001b[0m\n",
      "\u001b[1;31mTypeError\u001b[0m: unhashable type: 'list'"
     ]
    }
   ],
   "source": [
    "p1 = {\n",
    "    \"name\":\"Anne\",\n",
    "    [1,2,3]:1000\n",
    "}\n",
    "p1 # error because list is mutable and unhashable"
   ]
  },
  {
   "cell_type": "code",
   "execution_count": 205,
   "id": "b3a7cfc6",
   "metadata": {},
   "outputs": [
    {
     "data": {
      "text/plain": [
       "{'name': 'Anne', (1, 2, 3): 1000}"
      ]
     },
     "execution_count": 205,
     "metadata": {},
     "output_type": "execute_result"
    }
   ],
   "source": [
    "p1 = {\n",
    "    \"name\":\"Anne\",\n",
    "    (1,2,3):1000\n",
    "}\n",
    "p1 # no error because tuple is immutable element, hence hashable"
   ]
  },
  {
   "cell_type": "code",
   "execution_count": 206,
   "id": "52c3de19",
   "metadata": {},
   "outputs": [
    {
     "data": {
      "text/plain": [
       "dict_keys(['name', (1, 2, 3)])"
      ]
     },
     "execution_count": 206,
     "metadata": {},
     "output_type": "execute_result"
    }
   ],
   "source": [
    "p1.keys()"
   ]
  },
  {
   "cell_type": "code",
   "execution_count": 208,
   "id": "4d69d7bc",
   "metadata": {},
   "outputs": [
    {
     "ename": "KeyError",
     "evalue": "'salary'",
     "output_type": "error",
     "traceback": [
      "\u001b[1;31m---------------------------------------------------------------------------\u001b[0m",
      "\u001b[1;31mKeyError\u001b[0m                                  Traceback (most recent call last)",
      "\u001b[1;32m~\\AppData\\Local\\Temp\\ipykernel_21096\\3382559807.py\u001b[0m in \u001b[0;36m<module>\u001b[1;34m\u001b[0m\n\u001b[1;32m----> 1\u001b[1;33m \u001b[0mp1\u001b[0m\u001b[1;33m[\u001b[0m\u001b[1;34m\"salary\"\u001b[0m\u001b[1;33m]\u001b[0m\u001b[1;33m\u001b[0m\u001b[1;33m\u001b[0m\u001b[0m\n\u001b[0m",
      "\u001b[1;31mKeyError\u001b[0m: 'salary'"
     ]
    }
   ],
   "source": [
    "p1[\"salary\"]"
   ]
  },
  {
   "cell_type": "code",
   "execution_count": 209,
   "id": "f126c8b3",
   "metadata": {},
   "outputs": [],
   "source": [
    "p1.get(\"Salary\") # Not giving error and no value also, hence this will not stop the program execution"
   ]
  },
  {
   "cell_type": "markdown",
   "id": "cd444624",
   "metadata": {},
   "source": [
    "### Nested Dictionary"
   ]
  },
  {
   "cell_type": "code",
   "execution_count": 6,
   "id": "7538b400",
   "metadata": {},
   "outputs": [],
   "source": [
    "EMP_DB = {\n",
    "    \"HR\": {\n",
    "        \"967\" : 51000,\n",
    "        \"650\" : 60000\n",
    "    },\n",
    "    \"TECH\": {\n",
    "        \"516\":95000,\n",
    "        \"1001\" : 75000,\n",
    "        \"918\" : 58000\n",
    "    },\n",
    "    \"SALES\": {\n",
    "        \"887\": 45000,\n",
    "        \"490\": 63000\n",
    "    }\n",
    "}"
   ]
  },
  {
   "cell_type": "code",
   "execution_count": 12,
   "id": "2087f56e",
   "metadata": {},
   "outputs": [
    {
     "data": {
      "text/plain": [
       "60000"
      ]
     },
     "execution_count": 12,
     "metadata": {},
     "output_type": "execute_result"
    }
   ],
   "source": [
    "EMP_DB[\"HR\"].get(\"650\")"
   ]
  },
  {
   "cell_type": "code",
   "execution_count": 5,
   "id": "aad40646",
   "metadata": {},
   "outputs": [
    {
     "data": {
      "text/plain": [
       "dict_keys(['HR', 'TECH', 'SALES'])"
      ]
     },
     "execution_count": 5,
     "metadata": {},
     "output_type": "execute_result"
    }
   ],
   "source": [
    "EMP_DB.keys()"
   ]
  },
  {
   "cell_type": "code",
   "execution_count": 217,
   "id": "58fbe698",
   "metadata": {},
   "outputs": [
    {
     "data": {
      "text/plain": [
       "58000"
      ]
     },
     "execution_count": 217,
     "metadata": {},
     "output_type": "execute_result"
    }
   ],
   "source": [
    "EMP_DB[\"TECH\"][\"918\"]"
   ]
  },
  {
   "cell_type": "code",
   "execution_count": 218,
   "id": "0ae33207",
   "metadata": {},
   "outputs": [
    {
     "data": {
      "text/plain": [
       "76000.0"
      ]
     },
     "execution_count": 218,
     "metadata": {},
     "output_type": "execute_result"
    }
   ],
   "source": [
    "# Average salary\n",
    "sum(EMP_DB[\"TECH\"].values()) / len(EMP_DB[\"TECH\"])"
   ]
  },
  {
   "cell_type": "markdown",
   "id": "365c2c81",
   "metadata": {},
   "source": [
    "### Sets"
   ]
  },
  {
   "cell_type": "markdown",
   "id": "6c25c04b",
   "metadata": {},
   "source": [
    "- Stores unique values\n",
    "- They are mutable\n",
    "- Non Indexable"
   ]
  },
  {
   "cell_type": "code",
   "execution_count": 3,
   "id": "1ca22fe2",
   "metadata": {},
   "outputs": [
    {
     "data": {
      "text/plain": [
       "set"
      ]
     },
     "execution_count": 3,
     "metadata": {},
     "output_type": "execute_result"
    }
   ],
   "source": [
    "s = {1, 4, 2,  5, 6 }\n",
    "type(s)"
   ]
  },
  {
   "cell_type": "code",
   "execution_count": 243,
   "id": "adc9f398",
   "metadata": {},
   "outputs": [],
   "source": [
    "s1 = set()"
   ]
  },
  {
   "cell_type": "code",
   "execution_count": 244,
   "id": "cd84afe8",
   "metadata": {},
   "outputs": [
    {
     "data": {
      "text/plain": [
       "{1, 2, 3, 4, 5, 6}"
      ]
     },
     "execution_count": 244,
     "metadata": {},
     "output_type": "execute_result"
    }
   ],
   "source": [
    "s.add(4) # No effect if value is present\n",
    "s"
   ]
  },
  {
   "cell_type": "code",
   "execution_count": 245,
   "id": "32defd67",
   "metadata": {},
   "outputs": [
    {
     "data": {
      "text/plain": [
       "{1, 2, 3, 4, 5, 6, 99}"
      ]
     },
     "execution_count": 245,
     "metadata": {},
     "output_type": "execute_result"
    }
   ],
   "source": [
    "s.add(99)\n",
    "s"
   ]
  },
  {
   "cell_type": "code",
   "execution_count": 246,
   "id": "918343f6",
   "metadata": {},
   "outputs": [
    {
     "ename": "KeyError",
     "evalue": "10",
     "output_type": "error",
     "traceback": [
      "\u001b[1;31m---------------------------------------------------------------------------\u001b[0m",
      "\u001b[1;31mKeyError\u001b[0m                                  Traceback (most recent call last)",
      "\u001b[1;32m~\\AppData\\Local\\Temp\\ipykernel_21096\\311776722.py\u001b[0m in \u001b[0;36m<module>\u001b[1;34m\u001b[0m\n\u001b[1;32m----> 1\u001b[1;33m \u001b[0ms\u001b[0m\u001b[1;33m.\u001b[0m\u001b[0mremove\u001b[0m\u001b[1;33m(\u001b[0m\u001b[1;36m10\u001b[0m\u001b[1;33m)\u001b[0m \u001b[1;31m# error because not present\u001b[0m\u001b[1;33m\u001b[0m\u001b[1;33m\u001b[0m\u001b[0m\n\u001b[0m",
      "\u001b[1;31mKeyError\u001b[0m: 10"
     ]
    }
   ],
   "source": [
    "s.remove(10) # error because not present"
   ]
  },
  {
   "cell_type": "code",
   "execution_count": 247,
   "id": "c365c6b2",
   "metadata": {},
   "outputs": [],
   "source": [
    "s.remove(6)"
   ]
  },
  {
   "cell_type": "code",
   "execution_count": 248,
   "id": "9a5c04b9",
   "metadata": {},
   "outputs": [
    {
     "data": {
      "text/plain": [
       "{1, 2, 3, 4, 5, 99}"
      ]
     },
     "execution_count": 248,
     "metadata": {},
     "output_type": "execute_result"
    }
   ],
   "source": [
    "s"
   ]
  },
  {
   "cell_type": "code",
   "execution_count": 249,
   "id": "d55f4def",
   "metadata": {},
   "outputs": [
    {
     "data": {
      "text/plain": [
       "1"
      ]
     },
     "execution_count": 249,
     "metadata": {},
     "output_type": "execute_result"
    }
   ],
   "source": [
    "s.pop() # removes first element by default and return it"
   ]
  },
  {
   "cell_type": "code",
   "execution_count": 250,
   "id": "6dd7dffd",
   "metadata": {},
   "outputs": [
    {
     "data": {
      "text/plain": [
       "{2, 3, 4, 5, 99}"
      ]
     },
     "execution_count": 250,
     "metadata": {},
     "output_type": "execute_result"
    }
   ],
   "source": [
    "s"
   ]
  },
  {
   "cell_type": "code",
   "execution_count": 251,
   "id": "3a499d37",
   "metadata": {},
   "outputs": [
    {
     "data": {
      "text/plain": [
       "True"
      ]
     },
     "execution_count": 251,
     "metadata": {},
     "output_type": "execute_result"
    }
   ],
   "source": [
    "5 in s"
   ]
  },
  {
   "cell_type": "code",
   "execution_count": 252,
   "id": "85d4d461",
   "metadata": {},
   "outputs": [
    {
     "data": {
      "text/plain": [
       "5"
      ]
     },
     "execution_count": 252,
     "metadata": {},
     "output_type": "execute_result"
    }
   ],
   "source": [
    "len(s)"
   ]
  },
  {
   "cell_type": "code",
   "execution_count": 253,
   "id": "f46622aa",
   "metadata": {},
   "outputs": [
    {
     "name": "stdout",
     "output_type": "stream",
     "text": [
      "2\n",
      "3\n",
      "4\n",
      "5\n",
      "99\n"
     ]
    }
   ],
   "source": [
    "for ele in s:\n",
    "    print(ele) # possible to iterate"
   ]
  },
  {
   "cell_type": "code",
   "execution_count": 254,
   "id": "a65d8e91",
   "metadata": {},
   "outputs": [
    {
     "ename": "TypeError",
     "evalue": "'set' object is not subscriptable",
     "output_type": "error",
     "traceback": [
      "\u001b[1;31m---------------------------------------------------------------------------\u001b[0m",
      "\u001b[1;31mTypeError\u001b[0m                                 Traceback (most recent call last)",
      "\u001b[1;32m~\\AppData\\Local\\Temp\\ipykernel_21096\\2245127882.py\u001b[0m in \u001b[0;36m<module>\u001b[1;34m\u001b[0m\n\u001b[1;32m----> 1\u001b[1;33m \u001b[0ms\u001b[0m\u001b[1;33m[\u001b[0m\u001b[1;36m0\u001b[0m\u001b[1;33m]\u001b[0m \u001b[1;31m# but not index\u001b[0m\u001b[1;33m\u001b[0m\u001b[1;33m\u001b[0m\u001b[0m\n\u001b[0m",
      "\u001b[1;31mTypeError\u001b[0m: 'set' object is not subscriptable"
     ]
    }
   ],
   "source": [
    "s[0] # but not index "
   ]
  },
  {
   "cell_type": "code",
   "execution_count": 255,
   "id": "a0ed3ebc",
   "metadata": {},
   "outputs": [
    {
     "data": {
      "text/plain": [
       "'be the change you wish to see in the world'"
      ]
     },
     "execution_count": 255,
     "metadata": {},
     "output_type": "execute_result"
    }
   ],
   "source": [
    "data = \"be the change you wish to see in the world\"\n",
    "data"
   ]
  },
  {
   "cell_type": "code",
   "execution_count": 256,
   "id": "dddbeee2",
   "metadata": {},
   "outputs": [],
   "source": [
    "# Vocabulary - In NLP means all the unique words"
   ]
  },
  {
   "cell_type": "code",
   "execution_count": 259,
   "id": "f0744044",
   "metadata": {},
   "outputs": [
    {
     "data": {
      "text/plain": [
       "{' ',\n",
       " 'a',\n",
       " 'b',\n",
       " 'c',\n",
       " 'd',\n",
       " 'e',\n",
       " 'g',\n",
       " 'h',\n",
       " 'i',\n",
       " 'l',\n",
       " 'n',\n",
       " 'o',\n",
       " 'r',\n",
       " 's',\n",
       " 't',\n",
       " 'u',\n",
       " 'w',\n",
       " 'y'}"
      ]
     },
     "execution_count": 259,
     "metadata": {},
     "output_type": "execute_result"
    }
   ],
   "source": [
    "set(data) # create chars wise sepration"
   ]
  },
  {
   "cell_type": "code",
   "execution_count": 262,
   "id": "b4da85ad",
   "metadata": {},
   "outputs": [
    {
     "data": {
      "text/plain": [
       "{'be', 'change', 'in', 'see', 'the', 'to', 'wish', 'world', 'you'}"
      ]
     },
     "execution_count": 262,
     "metadata": {},
     "output_type": "execute_result"
    }
   ],
   "source": [
    "# so better way is\n",
    "set(data.split())"
   ]
  },
  {
   "cell_type": "markdown",
   "id": "7125a6a9",
   "metadata": {},
   "source": [
    "### Doubts"
   ]
  },
  {
   "cell_type": "code",
   "execution_count": 263,
   "id": "b09ca806",
   "metadata": {},
   "outputs": [
    {
     "data": {
      "text/plain": [
       "['A', 'B', 'D', 'F']"
      ]
     },
     "execution_count": 263,
     "metadata": {},
     "output_type": "execute_result"
    }
   ],
   "source": [
    "p ={\n",
    "    \"B\":15,\n",
    "    \"D\":5,\n",
    "    \"A\":78,\n",
    "    \"F\":32\n",
    "}\n",
    "sorted(p)"
   ]
  },
  {
   "cell_type": "code",
   "execution_count": 267,
   "id": "c351de08",
   "metadata": {},
   "outputs": [
    {
     "name": "stdout",
     "output_type": "stream",
     "text": [
      "[2, 3, 4]\n"
     ]
    }
   ],
   "source": [
    "lis = [(0, 2), (1, 3), (2, 4)]\n",
    "result = [n for _, n in lis]\n",
    "print(result)"
   ]
  },
  {
   "cell_type": "markdown",
   "id": "de65e93e",
   "metadata": {},
   "source": [
    "    # Class is a type and type is a class\n"
   ]
  },
  {
   "cell_type": "code",
   "execution_count": 265,
   "id": "a276a782",
   "metadata": {},
   "outputs": [
    {
     "data": {
      "text/plain": [
       "type"
      ]
     },
     "execution_count": 265,
     "metadata": {},
     "output_type": "execute_result"
    }
   ],
   "source": [
    "type(type)"
   ]
  },
  {
   "cell_type": "code",
   "execution_count": 268,
   "id": "c0ec4c70",
   "metadata": {},
   "outputs": [
    {
     "data": {
      "text/plain": [
       "'olle'"
      ]
     },
     "execution_count": 268,
     "metadata": {},
     "output_type": "execute_result"
    }
   ],
   "source": [
    "s=\"hello\"\n",
    "s[-1:0:-1]"
   ]
  },
  {
   "cell_type": "code",
   "execution_count": 272,
   "id": "36c56013",
   "metadata": {},
   "outputs": [
    {
     "data": {
      "text/plain": [
       "'olleh'"
      ]
     },
     "execution_count": 272,
     "metadata": {},
     "output_type": "execute_result"
    }
   ],
   "source": [
    "def reverse(s):\n",
    "    string = \"\"\n",
    "    for i in s:\n",
    "        string = i + string\n",
    "    return string\n",
    "reverse(\"hello\")"
   ]
  },
  {
   "cell_type": "code",
   "execution_count": 274,
   "id": "a293eeb5",
   "metadata": {},
   "outputs": [
    {
     "data": {
      "text/plain": [
       "'lhoe'"
      ]
     },
     "execution_count": 274,
     "metadata": {},
     "output_type": "execute_result"
    }
   ],
   "source": [
    "a = \"hello\"\n",
    "a = set(a)\n",
    "\"\".join(a)"
   ]
  },
  {
   "cell_type": "code",
   "execution_count": 276,
   "id": "47ed9e5e",
   "metadata": {},
   "outputs": [
    {
     "data": {
      "text/plain": [
       "((1, 2, 2, 3, 4, 5), {1, 2, 3, 4, 5})"
      ]
     },
     "execution_count": 276,
     "metadata": {},
     "output_type": "execute_result"
    }
   ],
   "source": [
    "t = (1,2,2,3,4,5)\n",
    "s = {1,2,2,3,4,5}\n",
    "t,s"
   ]
  },
  {
   "cell_type": "code",
   "execution_count": 283,
   "id": "6016fb0c",
   "metadata": {},
   "outputs": [
    {
     "data": {
      "text/plain": [
       "{1: 'a', 2: 'b'}"
      ]
     },
     "execution_count": 283,
     "metadata": {},
     "output_type": "execute_result"
    }
   ],
   "source": [
    "d = {\n",
    "    \"a\":1,\n",
    "    \"b\":2\n",
    "}\n",
    "d.get\n",
    "d1 = dict()\n",
    "for ele in d:\n",
    "    d1.update({d.get(ele):ele})\n",
    "    \n",
    "d1"
   ]
  },
  {
   "cell_type": "code",
   "execution_count": 284,
   "id": "f680f8b5",
   "metadata": {},
   "outputs": [
    {
     "data": {
      "text/plain": [
       "False"
      ]
     },
     "execution_count": 284,
     "metadata": {},
     "output_type": "execute_result"
    }
   ],
   "source": [
    "s = \"abcde\"\n",
    "s2 = \"bcdea\"\n",
    "\n",
    "s==s2"
   ]
  }
 ],
 "metadata": {
  "kernelspec": {
   "display_name": "Python 3 (ipykernel)",
   "language": "python",
   "name": "python3"
  },
  "language_info": {
   "codemirror_mode": {
    "name": "ipython",
    "version": 3
   },
   "file_extension": ".py",
   "mimetype": "text/x-python",
   "name": "python",
   "nbconvert_exporter": "python",
   "pygments_lexer": "ipython3",
   "version": "3.9.12"
  },
  "varInspector": {
   "cols": {
    "lenName": 16,
    "lenType": 16,
    "lenVar": 40
   },
   "kernels_config": {
    "python": {
     "delete_cmd_postfix": "",
     "delete_cmd_prefix": "del ",
     "library": "var_list.py",
     "varRefreshCmd": "print(var_dic_list())"
    },
    "r": {
     "delete_cmd_postfix": ") ",
     "delete_cmd_prefix": "rm(",
     "library": "var_list.r",
     "varRefreshCmd": "cat(var_dic_list()) "
    }
   },
   "types_to_exclude": [
    "module",
    "function",
    "builtin_function_or_method",
    "instance",
    "_Feature"
   ],
   "window_display": false
  }
 },
 "nbformat": 4,
 "nbformat_minor": 5
}
