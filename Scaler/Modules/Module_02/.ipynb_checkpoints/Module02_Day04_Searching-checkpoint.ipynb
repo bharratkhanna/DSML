{
 "cells": [
  {
   "cell_type": "markdown",
   "id": "fbc33c2b",
   "metadata": {},
   "source": [
    "### Set Operations"
   ]
  },
  {
   "cell_type": "code",
   "execution_count": 2,
   "id": "0461654f",
   "metadata": {},
   "outputs": [
    {
     "data": {
      "text/plain": [
       "{1, 2, 3, 4, 5, 6, 7}"
      ]
     },
     "execution_count": 2,
     "metadata": {},
     "output_type": "execute_result"
    }
   ],
   "source": [
    "s = {1,2,3,4,5,7,6}\n",
    "s"
   ]
  },
  {
   "cell_type": "code",
   "execution_count": 3,
   "id": "8863c8a1",
   "metadata": {},
   "outputs": [],
   "source": [
    "s.discard(8) # Does not give error"
   ]
  },
  {
   "cell_type": "code",
   "execution_count": 4,
   "id": "c7f4cb6c",
   "metadata": {},
   "outputs": [
    {
     "ename": "KeyError",
     "evalue": "8",
     "output_type": "error",
     "traceback": [
      "\u001b[1;31m---------------------------------------------------------------------------\u001b[0m",
      "\u001b[1;31mKeyError\u001b[0m                                  Traceback (most recent call last)",
      "\u001b[1;32m~\\AppData\\Local\\Temp\\ipykernel_19988\\2473678413.py\u001b[0m in \u001b[0;36m<module>\u001b[1;34m\u001b[0m\n\u001b[1;32m----> 1\u001b[1;33m \u001b[0ms\u001b[0m\u001b[1;33m.\u001b[0m\u001b[0mremove\u001b[0m\u001b[1;33m(\u001b[0m\u001b[1;36m8\u001b[0m\u001b[1;33m)\u001b[0m\u001b[1;33m\u001b[0m\u001b[1;33m\u001b[0m\u001b[0m\n\u001b[0m",
      "\u001b[1;31mKeyError\u001b[0m: 8"
     ]
    }
   ],
   "source": [
    "s.remove(8)"
   ]
  },
  {
   "cell_type": "code",
   "execution_count": 5,
   "id": "95a8e87c",
   "metadata": {},
   "outputs": [
    {
     "name": "stdout",
     "output_type": "stream",
     "text": [
      "1\n",
      "2\n",
      "3\n",
      "4\n",
      "5\n",
      "6\n",
      "7\n"
     ]
    }
   ],
   "source": [
    "for ele in s:\n",
    "    print(ele)"
   ]
  },
  {
   "cell_type": "code",
   "execution_count": 6,
   "id": "c278e93e",
   "metadata": {},
   "outputs": [],
   "source": [
    "# Only Set & Dictionaries are unordered in nature, Even it is sorted this doesn'tt mean it is ordered"
   ]
  },
  {
   "cell_type": "code",
   "execution_count": 7,
   "id": "999ef7bf",
   "metadata": {},
   "outputs": [],
   "source": [
    "# Dict Keys -> only immutable\n",
    "# Same with Sets -> only immutable"
   ]
  },
  {
   "cell_type": "markdown",
   "id": "19f00685",
   "metadata": {},
   "source": [
    "#### Hashable"
   ]
  },
  {
   "cell_type": "code",
   "execution_count": 8,
   "id": "33e555ed",
   "metadata": {},
   "outputs": [
    {
     "data": {
      "text/plain": [
       "8778957955003078891"
      ]
     },
     "execution_count": 8,
     "metadata": {},
     "output_type": "execute_result"
    }
   ],
   "source": [
    "hash(\"Sccaler\")"
   ]
  },
  {
   "cell_type": "code",
   "execution_count": 10,
   "id": "290ee77a",
   "metadata": {},
   "outputs": [
    {
     "ename": "TypeError",
     "evalue": "unhashable type: 'list'",
     "output_type": "error",
     "traceback": [
      "\u001b[1;31m---------------------------------------------------------------------------\u001b[0m",
      "\u001b[1;31mTypeError\u001b[0m                                 Traceback (most recent call last)",
      "\u001b[1;32m~\\AppData\\Local\\Temp\\ipykernel_19988\\2019702830.py\u001b[0m in \u001b[0;36m<module>\u001b[1;34m\u001b[0m\n\u001b[1;32m----> 1\u001b[1;33m \u001b[0mhash\u001b[0m\u001b[1;33m(\u001b[0m\u001b[1;33m[\u001b[0m\u001b[1;36m1\u001b[0m\u001b[1;33m,\u001b[0m\u001b[1;36m2\u001b[0m\u001b[1;33m,\u001b[0m\u001b[1;36m3\u001b[0m\u001b[1;33m]\u001b[0m\u001b[1;33m)\u001b[0m \u001b[1;31m# This means list is mutable\u001b[0m\u001b[1;33m\u001b[0m\u001b[1;33m\u001b[0m\u001b[0m\n\u001b[0m",
      "\u001b[1;31mTypeError\u001b[0m: unhashable type: 'list'"
     ]
    }
   ],
   "source": [
    "hash([1,2,3]) # This means list is mutable"
   ]
  },
  {
   "cell_type": "code",
   "execution_count": 11,
   "id": "0edd1a90",
   "metadata": {},
   "outputs": [
    {
     "ename": "TypeError",
     "evalue": "unhashable type: 'set'",
     "output_type": "error",
     "traceback": [
      "\u001b[1;31m---------------------------------------------------------------------------\u001b[0m",
      "\u001b[1;31mTypeError\u001b[0m                                 Traceback (most recent call last)",
      "\u001b[1;32m~\\AppData\\Local\\Temp\\ipykernel_19988\\815524556.py\u001b[0m in \u001b[0;36m<module>\u001b[1;34m\u001b[0m\n\u001b[1;32m----> 1\u001b[1;33m \u001b[0mhash\u001b[0m \u001b[1;33m(\u001b[0m\u001b[1;33m{\u001b[0m\u001b[1;36m1\u001b[0m\u001b[1;33m,\u001b[0m\u001b[1;36m2\u001b[0m\u001b[1;33m,\u001b[0m\u001b[1;36m4\u001b[0m\u001b[1;33m,\u001b[0m\u001b[1;36m8\u001b[0m\u001b[1;33m,\u001b[0m\u001b[1;36m8\u001b[0m\u001b[1;33m}\u001b[0m\u001b[1;33m)\u001b[0m\u001b[1;33m\u001b[0m\u001b[1;33m\u001b[0m\u001b[0m\n\u001b[0m",
      "\u001b[1;31mTypeError\u001b[0m: unhashable type: 'set'"
     ]
    }
   ],
   "source": [
    "hash ({1,2,4,8,8})"
   ]
  },
  {
   "cell_type": "code",
   "execution_count": 12,
   "id": "da4bf163",
   "metadata": {},
   "outputs": [
    {
     "data": {
      "text/plain": [
       "3"
      ]
     },
     "execution_count": 12,
     "metadata": {},
     "output_type": "execute_result"
    }
   ],
   "source": [
    "hash(3)"
   ]
  },
  {
   "cell_type": "markdown",
   "id": "1e906c25",
   "metadata": {},
   "source": [
    "### Set operations"
   ]
  },
  {
   "cell_type": "code",
   "execution_count": 14,
   "id": "73073487",
   "metadata": {},
   "outputs": [
    {
     "data": {
      "text/plain": [
       "({1, 2, 4}, {2, 4, 5, 6, 7})"
      ]
     },
     "execution_count": 14,
     "metadata": {},
     "output_type": "execute_result"
    }
   ],
   "source": [
    "s1 = {1,2,4,4,1}\n",
    "s2 = {5,4,2,6,7,7}\n",
    "\n",
    "s1, s2"
   ]
  },
  {
   "cell_type": "code",
   "execution_count": 15,
   "id": "2fe06cf9",
   "metadata": {},
   "outputs": [
    {
     "data": {
      "text/plain": [
       "{2, 4}"
      ]
     },
     "execution_count": 15,
     "metadata": {},
     "output_type": "execute_result"
    }
   ],
   "source": [
    "# Common elements\n",
    "# s1 & s2\n",
    "s1.intersection(s2)"
   ]
  },
  {
   "cell_type": "code",
   "execution_count": 18,
   "id": "fcb79a7a",
   "metadata": {},
   "outputs": [
    {
     "data": {
      "text/plain": [
       "{1, 2, 4, 5, 6, 7}"
      ]
     },
     "execution_count": 18,
     "metadata": {},
     "output_type": "execute_result"
    }
   ],
   "source": [
    "# Take all the elements and make 1 set\n",
    "# s1 | s2\n",
    "s1.union(s2)"
   ]
  },
  {
   "cell_type": "code",
   "execution_count": 24,
   "id": "456b9893",
   "metadata": {},
   "outputs": [
    {
     "data": {
      "text/plain": [
       "({1}, {5, 6, 7})"
      ]
     },
     "execution_count": 24,
     "metadata": {},
     "output_type": "execute_result"
    }
   ],
   "source": [
    "# only only which is not common\n",
    "# s1 -s2, s2 - s1\n",
    "\n",
    "s1.difference(s2), s2.difference(s1)"
   ]
  },
  {
   "cell_type": "code",
   "execution_count": 25,
   "id": "401b8449",
   "metadata": {},
   "outputs": [
    {
     "data": {
      "text/plain": [
       "False"
      ]
     },
     "execution_count": 25,
     "metadata": {},
     "output_type": "execute_result"
    }
   ],
   "source": [
    "s1 == s2\n"
   ]
  },
  {
   "cell_type": "code",
   "execution_count": 27,
   "id": "176f42e9",
   "metadata": {},
   "outputs": [
    {
     "data": {
      "text/plain": [
       "True"
      ]
     },
     "execution_count": 27,
     "metadata": {},
     "output_type": "execute_result"
    }
   ],
   "source": [
    "s1 = {1,2,3}\n",
    "s2 = {3,3,2,1,2,3,2,1} # will remove other elements\n",
    "\n",
    "s1 == s2"
   ]
  },
  {
   "cell_type": "code",
   "execution_count": 28,
   "id": "1e776a63",
   "metadata": {},
   "outputs": [
    {
     "data": {
      "text/plain": [
       "False"
      ]
     },
     "execution_count": 28,
     "metadata": {},
     "output_type": "execute_result"
    }
   ],
   "source": [
    "s1 is s2"
   ]
  },
  {
   "cell_type": "code",
   "execution_count": 29,
   "id": "bfb76562",
   "metadata": {},
   "outputs": [
    {
     "data": {
      "text/plain": [
       "True"
      ]
     },
     "execution_count": 29,
     "metadata": {},
     "output_type": "execute_result"
    }
   ],
   "source": [
    "s1.issubset(s2)"
   ]
  },
  {
   "cell_type": "code",
   "execution_count": 33,
   "id": "3e1c99e0",
   "metadata": {},
   "outputs": [
    {
     "data": {
      "text/plain": [
       "{5, 6}"
      ]
     },
     "execution_count": 33,
     "metadata": {},
     "output_type": "execute_result"
    }
   ],
   "source": [
    "# Returns element which are not common in any of it\n",
    "s1 = {1,2,3,4}\n",
    "s2 = {1,2,3,4,5,6}\n",
    "s1.symmetric_difference(s2)"
   ]
  },
  {
   "cell_type": "markdown",
   "id": "2b4b9456",
   "metadata": {},
   "source": [
    "### DSA"
   ]
  },
  {
   "cell_type": "markdown",
   "id": "86735855",
   "metadata": {},
   "source": [
    "#### Algorithm"
   ]
  },
  {
   "cell_type": "markdown",
   "id": "2e5885d0",
   "metadata": {},
   "source": [
    "- Set of instructions in a specific order\n",
    "    - To solve problem efficiently\n",
    "    - increase revenue as a Data Scientist -> Evaluate by Buisness Matrix"
   ]
  },
  {
   "cell_type": "markdown",
   "id": "ba9ba50e",
   "metadata": {},
   "source": [
    "## Searching"
   ]
  },
  {
   "cell_type": "markdown",
   "id": "095473b0",
   "metadata": {},
   "source": [
    "### Linear Search"
   ]
  },
  {
   "cell_type": "markdown",
   "id": "02805fc0",
   "metadata": {},
   "source": [
    "- Order not important\n",
    "- Best case O(1), Worst Case O(n)"
   ]
  },
  {
   "cell_type": "markdown",
   "id": "d05732c3",
   "metadata": {},
   "source": [
    " - Also called as Brute Force\n",
    " "
   ]
  },
  {
   "cell_type": "code",
   "execution_count": 58,
   "id": "f8da9e11",
   "metadata": {},
   "outputs": [
    {
     "data": {
      "text/plain": [
       "'Found at index: 5 & Count of 7: 3'"
      ]
     },
     "execution_count": 58,
     "metadata": {},
     "output_type": "execute_result"
    }
   ],
   "source": [
    "def linearSearch(ids, target, start=0, end=len(ids)):\n",
    "    count = ids.count(target)\n",
    "    for i in range(start,end):\n",
    "        if ids[i] == target:\n",
    "            return f'Found at index: {i} & Count of {target}: {count}'\n",
    "    return \"Not found!\"\n",
    "        \n",
    "ids = [4,7,8,2,1,7,9,3,7]\n",
    "linearSearch(ids, 7, 2)"
   ]
  },
  {
   "cell_type": "markdown",
   "id": "e253b0ac",
   "metadata": {},
   "source": [
    "### Binary Search"
   ]
  },
  {
   "cell_type": "markdown",
   "id": "9e63135a",
   "metadata": {},
   "source": [
    "- Bi means 2\n",
    "- One assumption is It works only on sorted/monotonic space\n",
    "- Hence, elements are arranged in order\n",
    "- Monotonic: Mono means one, All the elements are in increasing or decreasing order\n",
    "- Best case O(1), worst Case O(log(n))"
   ]
  },
  {
   "cell_type": "code",
   "execution_count": 59,
   "id": "728ae481",
   "metadata": {},
   "outputs": [],
   "source": [
    "lst1 = [1,5,7,9,1] # Binary search possible because it is monotonic increasing\n",
    "lst2 = [5,3,1,-2] # Possible because it is monotonic decreasing"
   ]
  },
  {
   "cell_type": "code",
   "execution_count": 5,
   "id": "b4693c3d",
   "metadata": {},
   "outputs": [
    {
     "data": {
      "text/plain": [
       "-1"
      ]
     },
     "execution_count": 5,
     "metadata": {},
     "output_type": "execute_result"
    }
   ],
   "source": [
    "ids = [2,3,5,7,9,11,13,15]\n",
    "ids = [12, 23, 35, 42, 56]\n",
    "\n",
    "ids = [15,13,11,9,7,5,3,2]\n",
    "\n",
    "def binarySearch(ids, target): \n",
    "    start=0\n",
    "    end=len(ids)-1\n",
    "\n",
    "    while(start <= end):\n",
    "\n",
    "        mid = (start + end)//2\n",
    "        if ids[mid] == target:\n",
    "            return mid\n",
    "        \n",
    "        elif target < ids[mid]:\n",
    "            # Target will be on left, Discard right elements\n",
    "            end = mid-1\n",
    "        \n",
    "        else:\n",
    "            # Target will be on right, Discard left elements\n",
    "            start = mid +1 \n",
    "            \n",
    "    return -1\n",
    "\n",
    "\n",
    "binarySearch(ids,15)"
   ]
  },
  {
   "cell_type": "code",
   "execution_count": 14,
   "id": "9607a211",
   "metadata": {},
   "outputs": [
    {
     "data": {
      "text/plain": [
       "0"
      ]
     },
     "execution_count": 14,
     "metadata": {},
     "output_type": "execute_result"
    }
   ],
   "source": [
    "ids = [2,3,5,7,9,11,13,15]\n",
    "ids = [12, 23, 35, 42, 56]\n",
    "\n",
    "#ids = [15,13,11,9,7,5,3,2]\n",
    "\n",
    "def binarySearch(ids, target): \n",
    "    start=0\n",
    "    end=len(ids)\n",
    "    \n",
    "    if ids[0] > ids[-1]:\n",
    "        start,end = end,start\n",
    "\n",
    "    while(start != end):\n",
    "\n",
    "        mid = (start + end)//2\n",
    "        if ids[mid] == target:\n",
    "            return mid\n",
    "        \n",
    "        elif target < ids[mid]:\n",
    "            end = mid\n",
    "        \n",
    "        else:\n",
    "            start = mid \n",
    "            \n",
    "    return -1\n",
    "\n",
    "\n",
    "binarySearch(ids,12)"
   ]
  },
  {
   "cell_type": "markdown",
   "id": "7ed10a3a",
   "metadata": {},
   "source": [
    "### SQRT "
   ]
  },
  {
   "cell_type": "code",
   "execution_count": 38,
   "id": "3edcb85a",
   "metadata": {},
   "outputs": [],
   "source": [
    "def sqrt(n):\n",
    "    for i in range(n//2 + 1):\n",
    "        if i * i ==n:\n",
    "            return i\n",
    "sqrt(50)        "
   ]
  },
  {
   "cell_type": "code",
   "execution_count": 40,
   "id": "1322faf4",
   "metadata": {},
   "outputs": [
    {
     "data": {
      "text/plain": [
       "1"
      ]
     },
     "execution_count": 40,
     "metadata": {},
     "output_type": "execute_result"
    }
   ],
   "source": [
    "def binaryPerfSqrt(n):\n",
    "    if n == 1: return 1\n",
    "    \n",
    "    start = 0\n",
    "    end = n//2 \n",
    "    \n",
    "    while(start <= end):\n",
    "        mid = (start+end)//2\n",
    "        square = mid*mid\n",
    "        if square == n:\n",
    "            return mid\n",
    "        elif square < n:\n",
    "            start = mid + 1\n",
    "        else:\n",
    "            end = mid - 1\n",
    "    return \"Not Found\"\n",
    "\n",
    "binaryPerfSqrt(1)"
   ]
  },
  {
   "cell_type": "code",
   "execution_count": null,
   "id": "7d035d80",
   "metadata": {},
   "outputs": [],
   "source": [
    "import numpy as np"
   ]
  },
  {
   "cell_type": "code",
   "execution_count": 18,
   "id": "9ae77a72",
   "metadata": {},
   "outputs": [
    {
     "data": {
      "text/plain": [
       "(0.7745966692414833598, 0.7745966692414834)"
      ]
     },
     "execution_count": 18,
     "metadata": {},
     "output_type": "execute_result"
    }
   ],
   "source": [
    "def eucDistSqrt(n):\n",
    "    if n == 1: return 1\n",
    "    \n",
    "    precision = np.float128(0.00000000000000001)\n",
    "    start = np.float128(0)\n",
    "    end = np.float128(n)\n",
    "    \n",
    "    \n",
    "    if n > 0 and n < 1:\n",
    "        start = n\n",
    "        end = n+1\n",
    "    \n",
    "    while(abs(start-end) >= precision):\n",
    "        mid = np.float128((start+end)/2)\n",
    "        square = np.float128(mid*mid)\n",
    "        \n",
    "        if abs(square-n) <= precision:\n",
    "            return mid\n",
    "        \n",
    "        elif square < n:\n",
    "            start = mid\n",
    "            \n",
    "        else:\n",
    "            end = mid\n",
    "\n",
    "n = 0.6           \n",
    "eucDistSqrt(n), (n)**0.5"
   ]
  },
  {
   "cell_type": "markdown",
   "id": "4e8f33b6",
   "metadata": {},
   "source": [
    "### HW"
   ]
  },
  {
   "cell_type": "code",
   "execution_count": 12,
   "id": "7a0e3104",
   "metadata": {},
   "outputs": [
    {
     "name": "stdout",
     "output_type": "stream",
     "text": [
      "Found the required character at position:  4\n"
     ]
    }
   ],
   "source": [
    "string='hello'\n",
    "char='o'\n",
    "for i in range(0,len(string)):         \n",
    "    if string[i] == char:\n",
    "        print('Found the required character at position: ', i) "
   ]
  },
  {
   "cell_type": "code",
   "execution_count": 15,
   "id": "131447b8",
   "metadata": {},
   "outputs": [
    {
     "data": {
      "text/plain": [
       "4"
      ]
     },
     "execution_count": 15,
     "metadata": {},
     "output_type": "execute_result"
    }
   ],
   "source": [
    "def sentinelSearch(ar,target,n):\n",
    "    last = ar[n-1]\n",
    "    ar[n-1] = target\n",
    "    i = 0\n",
    "    while ar[i]!=target:\n",
    "        i+=1\n",
    "    ar[n-1] = last\n",
    "    if (i<n-1) or target==ar[n-1]:\n",
    "        return i\n",
    "    else:\n",
    "        return -1\n",
    "    \n",
    "sentinelSearch([1,2,3,4,5],5,5)"
   ]
  },
  {
   "cell_type": "code",
   "execution_count": 21,
   "id": "3cfb865d",
   "metadata": {},
   "outputs": [],
   "source": [
    "s = [1,2,3] + [1,3,4]"
   ]
  },
  {
   "cell_type": "code",
   "execution_count": 22,
   "id": "86dae29e",
   "metadata": {},
   "outputs": [
    {
     "data": {
      "text/plain": [
       "1"
      ]
     },
     "execution_count": 22,
     "metadata": {},
     "output_type": "execute_result"
    }
   ],
   "source": [
    "s.pop(0)"
   ]
  },
  {
   "cell_type": "code",
   "execution_count": 23,
   "id": "63d89b38",
   "metadata": {},
   "outputs": [
    {
     "data": {
      "text/plain": [
       "[2, 3, 1, 3, 4]"
      ]
     },
     "execution_count": 23,
     "metadata": {},
     "output_type": "execute_result"
    }
   ],
   "source": [
    "s"
   ]
  }
 ],
 "metadata": {
  "kernelspec": {
   "display_name": "Python 3 (ipykernel)",
   "language": "python",
   "name": "python3"
  },
  "language_info": {
   "codemirror_mode": {
    "name": "ipython",
    "version": 3
   },
   "file_extension": ".py",
   "mimetype": "text/x-python",
   "name": "python",
   "nbconvert_exporter": "python",
   "pygments_lexer": "ipython3",
   "version": "3.9.12"
  },
  "varInspector": {
   "cols": {
    "lenName": 16,
    "lenType": 16,
    "lenVar": 40
   },
   "kernels_config": {
    "python": {
     "delete_cmd_postfix": "",
     "delete_cmd_prefix": "del ",
     "library": "var_list.py",
     "varRefreshCmd": "print(var_dic_list())"
    },
    "r": {
     "delete_cmd_postfix": ") ",
     "delete_cmd_prefix": "rm(",
     "library": "var_list.r",
     "varRefreshCmd": "cat(var_dic_list()) "
    }
   },
   "types_to_exclude": [
    "module",
    "function",
    "builtin_function_or_method",
    "instance",
    "_Feature"
   ],
   "window_display": false
  }
 },
 "nbformat": 4,
 "nbformat_minor": 5
}
