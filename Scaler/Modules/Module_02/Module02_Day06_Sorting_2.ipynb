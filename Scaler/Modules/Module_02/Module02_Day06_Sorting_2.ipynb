{
 "cells": [
  {
   "cell_type": "markdown",
   "id": "8d20589a-a31f-4875-95b9-37c3b996343c",
   "metadata": {},
   "source": [
    "<h1><center> Sorting"
   ]
  },
  {
   "cell_type": "markdown",
   "id": "bf371fc3-f93b-4a69-9357-c91b244c0187",
   "metadata": {},
   "source": [
    "#### Optimized Buble Sort"
   ]
  },
  {
   "cell_type": "code",
   "execution_count": 1,
   "id": "d32cfddf-2e3c-42fc-8691-79f1e33fc74c",
   "metadata": {},
   "outputs": [],
   "source": [
    "def optBubbleSort(lst):\n",
    "    count = 0\n",
    "    n = len(lst)\n",
    "    for i in range(n-1):\n",
    "        already_sorted = True\n",
    "        for j in range(n-1-i):\n",
    "            count+=1\n",
    "            if lst[j] > lst[j+1]:\n",
    "                lst[j],lst[j+1] = lst[j+1],lst[j]\n",
    "                already_sorted=False\n",
    "        if already_sorted==True:\n",
    "            break\n",
    "    return count"
   ]
  },
  {
   "cell_type": "code",
   "execution_count": 2,
   "id": "613695d4-b19a-41d4-a456-123fd9e22021",
   "metadata": {},
   "outputs": [
    {
     "data": {
      "text/plain": [
       "124750"
      ]
     },
     "execution_count": 2,
     "metadata": {},
     "output_type": "execute_result"
    }
   ],
   "source": [
    "a = list(range(1000,1,-2))\n",
    "optBubbleSort(a)"
   ]
  },
  {
   "cell_type": "code",
   "execution_count": 3,
   "id": "3f9e079f-5dd9-4d78-a896-984acbc93c7b",
   "metadata": {},
   "outputs": [
    {
     "data": {
      "text/plain": [
       "499"
      ]
     },
     "execution_count": 3,
     "metadata": {},
     "output_type": "execute_result"
    }
   ],
   "source": [
    "optBubbleSort(a)"
   ]
  },
  {
   "cell_type": "markdown",
   "id": "0c649f61-535a-411f-a46b-963a73d59a65",
   "metadata": {},
   "source": [
    "#### Selection Sort"
   ]
  },
  {
   "cell_type": "code",
   "execution_count": 4,
   "id": "de0ca833-8ffb-4107-bfee-355ed05eccd0",
   "metadata": {},
   "outputs": [],
   "source": [
    "def selSort(arr):\n",
    "    n = len(arr)\n",
    "    count=0\n",
    "    for i in range(n-1):\n",
    "        min_idx = i\n",
    "        for j in range(i+1,n):\n",
    "            count+=1\n",
    "            if arr[i] > arr[j]:\n",
    "                min_idx = j\n",
    "        arr[i],arr[min_idx] = arr[min_idx],arr[i]\n",
    "    return arr,count"
   ]
  },
  {
   "cell_type": "code",
   "execution_count": 5,
   "id": "95973c11-5fc9-46b8-87c1-5d1ff42775c8",
   "metadata": {},
   "outputs": [
    {
     "data": {
      "text/plain": [
       "([0, 1, 2, 4, 5, 6, 7], 21)"
      ]
     },
     "execution_count": 5,
     "metadata": {},
     "output_type": "execute_result"
    }
   ],
   "source": [
    "a = [1,4,2,6,5,7,0]\n",
    "b = list(range(1000,1,-2))\n",
    "selSort(a)"
   ]
  },
  {
   "cell_type": "code",
   "execution_count": 6,
   "id": "94870051-c1b9-4964-95be-30e4b94d1953",
   "metadata": {},
   "outputs": [],
   "source": [
    "def optSelSort(arr):\n",
    "    n = len(arr)\n",
    "    count=0\n",
    "    for i in range(n-1):\n",
    "        array_sorted=True\n",
    "        min_idx = i\n",
    "        for j in range(i+1,n):\n",
    "            count+=1\n",
    "            if arr[i] > arr[j]:\n",
    "                min_idx = j\n",
    "                array_sorted=False\n",
    "        arr[i],arr[min_idx] = arr[min_idx],arr[i]\n",
    "        if array_sorted==True:\n",
    "            break\n",
    "    return arr,count"
   ]
  },
  {
   "cell_type": "code",
   "execution_count": 7,
   "id": "40880dbd-c19c-4fea-bb04-d55345834c9f",
   "metadata": {},
   "outputs": [
    {
     "data": {
      "text/plain": [
       "([0, 1, 2, 6, 5, 7, 4], 15)"
      ]
     },
     "execution_count": 7,
     "metadata": {},
     "output_type": "execute_result"
    }
   ],
   "source": [
    "a = [1,4,2,6,5,7,0]\n",
    "b = list(range(1000,1,-2))\n",
    "optSelSort(a)"
   ]
  },
  {
   "cell_type": "code",
   "execution_count": 8,
   "id": "87d62c05-75a1-48cf-8c90-d02577ce102e",
   "metadata": {},
   "outputs": [
    {
     "data": {
      "text/plain": [
       "[0, 1]"
      ]
     },
     "execution_count": 8,
     "metadata": {},
     "output_type": "execute_result"
    }
   ],
   "source": [
    "optSelSort(a)[0][:2]"
   ]
  },
  {
   "cell_type": "markdown",
   "id": "77dda131-df64-43d8-8949-d0a81ebae492",
   "metadata": {},
   "source": [
    "#### Insertion Sort"
   ]
  },
  {
   "cell_type": "code",
   "execution_count": 9,
   "id": "e6b89afd-43c3-4195-b9a5-78042c308e90",
   "metadata": {},
   "outputs": [],
   "source": [
    "def insSort(arr):\n",
    "    n = len(arr)\n",
    "    for i in range(1,n):\n",
    "        key = arr[i] # Create our temp variable\n",
    "        j = i-1 # Checks all element from left\n",
    "        while j >=0 and key<arr[j]:\n",
    "            arr[j+1] = arr[j] # Moves element to right untill key<arr[j]\n",
    "            j -=1\n",
    "        arr[j+1] = key # update this with temp value\n",
    "    return arr"
   ]
  },
  {
   "cell_type": "code",
   "execution_count": 10,
   "id": "3db5feac-454f-4bc7-b963-da89682c80f1",
   "metadata": {},
   "outputs": [
    {
     "data": {
      "text/plain": [
       "[0, 1, 2, 4, 5, 6, 7]"
      ]
     },
     "execution_count": 10,
     "metadata": {},
     "output_type": "execute_result"
    }
   ],
   "source": [
    "a = [1,4,2,6,5,7,0]\n",
    "insSort(a)"
   ]
  },
  {
   "cell_type": "markdown",
   "id": "daf3830c-332d-408f-85b3-b0c4f322f9d2",
   "metadata": {},
   "source": [
    "---"
   ]
  },
  {
   "cell_type": "markdown",
   "id": "36d9035d",
   "metadata": {},
   "source": [
    "### Homework"
   ]
  },
  {
   "cell_type": "code",
   "execution_count": 11,
   "id": "0c436f13-d24a-4983-9a88-9022a3138cb3",
   "metadata": {},
   "outputs": [],
   "source": [
    "def mergeSort(A,B):\n",
    "    n = len(A)\n",
    "    m = len(B)\n",
    "    C = list()\n",
    "    i,j = 0,0\n",
    " \n",
    "    while(len(C)!=n+m):\n",
    "        if A[i] < B[j]:\n",
    "            C.append(A[i])\n",
    "            i +=1\n",
    "            if i == n:\n",
    "                C.extend(B[j:])\n",
    "\n",
    "        else:\n",
    "            C.append(B[j])\n",
    "            j +=1\n",
    "            if j == m:\n",
    "                C.extend(A[i:])\n",
    "\n",
    "    return C  "
   ]
  },
  {
   "cell_type": "code",
   "execution_count": 12,
   "id": "6e037a76-910f-4268-b181-3fecce8e8c6c",
   "metadata": {},
   "outputs": [
    {
     "data": {
      "text/plain": [
       "[1, 2, 3, 4, 4, 5, 6, 7, 8, 9, 11]"
      ]
     },
     "execution_count": 12,
     "metadata": {},
     "output_type": "execute_result"
    }
   ],
   "source": [
    "a =[1,3,4,5,7,9,11]\n",
    "b = [2,4,6,8]\n",
    "mergeSort(a,b)"
   ]
  },
  {
   "cell_type": "markdown",
   "id": "ed1e934a-4b51-4aee-ad2a-4b14f3654a58",
   "metadata": {},
   "source": [
    "---"
   ]
  }
 ],
 "metadata": {
  "kernelspec": {
   "display_name": "Python 3.9.13 ('base')",
   "language": "python",
   "name": "python3"
  },
  "language_info": {
   "codemirror_mode": {
    "name": "ipython",
    "version": 3
   },
   "file_extension": ".py",
   "mimetype": "text/x-python",
   "name": "python",
   "nbconvert_exporter": "python",
   "pygments_lexer": "ipython3",
   "version": "3.9.13"
  },
  "vscode": {
   "interpreter": {
    "hash": "ff4f85d6e04298634172ac5d8264e7e9b556b95639fe52ebb9425c4d4cba0c9c"
   }
  }
 },
 "nbformat": 4,
 "nbformat_minor": 5
}
