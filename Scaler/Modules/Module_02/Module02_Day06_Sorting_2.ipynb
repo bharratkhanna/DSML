{
 "cells": [
  {
   "cell_type": "markdown",
   "id": "8d20589a-a31f-4875-95b9-37c3b996343c",
   "metadata": {},
   "source": [
    "<h1><center> Sorting"
   ]
  },
  {
   "cell_type": "markdown",
   "id": "bf371fc3-f93b-4a69-9357-c91b244c0187",
   "metadata": {},
   "source": [
    "#### Optimized Buble Sort"
   ]
  },
  {
   "cell_type": "code",
   "execution_count": 10,
   "id": "d32cfddf-2e3c-42fc-8691-79f1e33fc74c",
   "metadata": {},
   "outputs": [],
   "source": [
    "def optBubbleSort(lst):\n",
    "    count = 0\n",
    "    n = len(lst)\n",
    "    for i in range(n-1):\n",
    "        already_sorted = True\n",
    "        for j in range(n-1-i):\n",
    "            count+=1\n",
    "            if lst[j] > lst[j+1]:\n",
    "                lst[j],lst[j+1] = lst[j+1],lst[j]\n",
    "                already_sorted=False\n",
    "        if already_sorted==True:\n",
    "            break\n",
    "    return count"
   ]
  },
  {
   "cell_type": "code",
   "execution_count": 16,
   "id": "613695d4-b19a-41d4-a456-123fd9e22021",
   "metadata": {},
   "outputs": [
    {
     "data": {
      "text/plain": [
       "124750"
      ]
     },
     "execution_count": 16,
     "metadata": {},
     "output_type": "execute_result"
    }
   ],
   "source": [
    "a = list(range(1000,1,-2))\n",
    "optBubbleSort(a)"
   ]
  },
  {
   "cell_type": "code",
   "execution_count": 17,
   "id": "3f9e079f-5dd9-4d78-a896-984acbc93c7b",
   "metadata": {},
   "outputs": [
    {
     "data": {
      "text/plain": [
       "499"
      ]
     },
     "execution_count": 17,
     "metadata": {},
     "output_type": "execute_result"
    }
   ],
   "source": [
    "optBubbleSort(a)"
   ]
  },
  {
   "cell_type": "markdown",
   "id": "0c649f61-535a-411f-a46b-963a73d59a65",
   "metadata": {},
   "source": [
    "#### Selection Sort"
   ]
  },
  {
   "cell_type": "code",
   "execution_count": 42,
   "id": "de0ca833-8ffb-4107-bfee-355ed05eccd0",
   "metadata": {},
   "outputs": [],
   "source": [
    "def selSort(arr):\n",
    "    n = len(arr)\n",
    "    count=0\n",
    "    for i in range(n-1):\n",
    "        min_idx = i\n",
    "        for j in range(i+1,n):\n",
    "            count+=1\n",
    "            if arr[i] > arr[j]:\n",
    "                min_idx = j\n",
    "        arr[i],arr[min_idx] = arr[min_idx],arr[i]\n",
    "    return arr,count"
   ]
  },
  {
   "cell_type": "code",
   "execution_count": 53,
   "id": "95973c11-5fc9-46b8-87c1-5d1ff42775c8",
   "metadata": {},
   "outputs": [
    {
     "data": {
      "text/plain": [
       "([0, 1, 2, 4, 5, 6, 7], 21)"
      ]
     },
     "execution_count": 53,
     "metadata": {},
     "output_type": "execute_result"
    }
   ],
   "source": [
    "a = [1,4,2,6,5,7,0]\n",
    "b = list(range(1000,1,-2))\n",
    "selSort(a)"
   ]
  },
  {
   "cell_type": "code",
   "execution_count": 67,
   "id": "94870051-c1b9-4964-95be-30e4b94d1953",
   "metadata": {},
   "outputs": [],
   "source": [
    "def optSelSort(arr):\n",
    "    n = len(arr)\n",
    "    count=0\n",
    "    for i in range(n-1):\n",
    "        array_sorted=True\n",
    "        min_idx = i\n",
    "        for j in range(i+1,n):\n",
    "            count+=1\n",
    "            if arr[i] > arr[j]:\n",
    "                min_idx = j\n",
    "                array_sorted=False\n",
    "        arr[i],arr[min_idx] = arr[min_idx],arr[i]\n",
    "        if array_sorted==True:\n",
    "            break\n",
    "    return arr,count"
   ]
  },
  {
   "cell_type": "code",
   "execution_count": 64,
   "id": "40880dbd-c19c-4fea-bb04-d55345834c9f",
   "metadata": {},
   "outputs": [
    {
     "data": {
      "text/plain": [
       "[0, 1, 2, 6, 5, 7, 4]"
      ]
     },
     "execution_count": 64,
     "metadata": {},
     "output_type": "execute_result"
    }
   ],
   "source": [
    "a = [1,4,2,6,5,7,0]\n",
    "b = list(range(1000,1,-2))\n",
    "optSelSort(a)"
   ]
  },
  {
   "cell_type": "code",
   "execution_count": 68,
   "id": "87d62c05-75a1-48cf-8c90-d02577ce102e",
   "metadata": {},
   "outputs": [
    {
     "data": {
      "text/plain": [
       "[0, 1]"
      ]
     },
     "execution_count": 68,
     "metadata": {},
     "output_type": "execute_result"
    }
   ],
   "source": [
    "optSelSort(a)[0][:2]"
   ]
  },
  {
   "cell_type": "markdown",
   "id": "77dda131-df64-43d8-8949-d0a81ebae492",
   "metadata": {},
   "source": [
    "#### Insertion Sort"
   ]
  },
  {
   "cell_type": "code",
   "execution_count": 74,
   "id": "e6b89afd-43c3-4195-b9a5-78042c308e90",
   "metadata": {},
   "outputs": [],
   "source": [
    "def insSort(arr):\n",
    "    n = len(arr)\n",
    "    for i in range(1,n):\n",
    "        key = arr[i] # Create our temp variable\n",
    "        j = i-1 # Checks all element from left\n",
    "        while j >=0 and key<arr[j]:\n",
    "            arr[j+1] = arr[j] # Moves element to right untill key<arr[j]\n",
    "            j -=1\n",
    "        arr[j+1] = key # update this with temp value\n",
    "    return arr"
   ]
  },
  {
   "cell_type": "code",
   "execution_count": 75,
   "id": "3db5feac-454f-4bc7-b963-da89682c80f1",
   "metadata": {},
   "outputs": [
    {
     "data": {
      "text/plain": [
       "[0, 1, 2, 4, 5, 6, 7]"
      ]
     },
     "execution_count": 75,
     "metadata": {},
     "output_type": "execute_result"
    }
   ],
   "source": [
    "a = [1,4,2,6,5,7,0]\n",
    "insSort(a)"
   ]
  },
  {
   "cell_type": "markdown",
   "id": "daf3830c-332d-408f-85b3-b0c4f322f9d2",
   "metadata": {},
   "source": [
    "---"
   ]
  },
  {
   "cell_type": "code",
   "execution_count": 53,
   "id": "0c436f13-d24a-4983-9a88-9022a3138cb3",
   "metadata": {},
   "outputs": [],
   "source": [
    "def mergeSort(A,B):\n",
    "    n = len(A)\n",
    "    m = len(B)\n",
    "    C = list()\n",
    "    i,j = 0,0\n",
    " \n",
    "    while(len(C)!=n+m):\n",
    "        if A[i] < B[j]:\n",
    "            C.append(A[i])\n",
    "            i +=1\n",
    "            if i == n:\n",
    "                C.extend(B[j:])\n",
    "\n",
    "        else:\n",
    "            C.append(B[j])\n",
    "            j +=1\n",
    "            if j == m:\n",
    "                C.extend(A[i:])\n",
    "\n",
    "    return C  "
   ]
  },
  {
   "cell_type": "code",
   "execution_count": 57,
   "id": "6e037a76-910f-4268-b181-3fecce8e8c6c",
   "metadata": {},
   "outputs": [
    {
     "data": {
      "text/plain": [
       "[1, 2, 3, 4, 4, 5, 6, 7, 8, 9, 11]"
      ]
     },
     "execution_count": 57,
     "metadata": {},
     "output_type": "execute_result"
    }
   ],
   "source": [
    "a =[1,3,4,5,7,9,11]\n",
    "b = [2,4,6,8]\n",
    "mergeSort(a,b)"
   ]
  },
  {
   "cell_type": "markdown",
   "id": "ed1e934a-4b51-4aee-ad2a-4b14f3654a58",
   "metadata": {},
   "source": [
    "---"
   ]
  },
  {
   "cell_type": "code",
   "execution_count": 15,
   "id": "b395ec84-6ab1-4ee7-ba48-3a08b8f67a92",
   "metadata": {},
   "outputs": [],
   "source": [
    "def solve(arr):\n",
    "    for i in range(0, len(arr) - 1):\n",
    "        min = i\n",
    "        for j in range(i + 1, len(arr)):\n",
    "            if arr[j] < arr[min]:\n",
    "                min = j\n",
    "        temp = arr[min]\n",
    "        arr[min] = arr[i]\n",
    "        arr[i] = temp\n",
    "    return arr"
   ]
  },
  {
   "cell_type": "code",
   "execution_count": 16,
   "id": "ac8e295f-322f-46ae-9c27-96b164025484",
   "metadata": {},
   "outputs": [
    {
     "data": {
      "text/plain": [
       "[1, 2, 3, 4, 7, 8]"
      ]
     },
     "execution_count": 16,
     "metadata": {},
     "output_type": "execute_result"
    }
   ],
   "source": [
    "arr = [1,4,7,3,2,8]\n",
    "solve(arr)"
   ]
  },
  {
   "cell_type": "code",
   "execution_count": 18,
   "id": "1e5149cd-2662-4eac-b09a-5c4fc26fbc15",
   "metadata": {},
   "outputs": [],
   "source": [
    "def insertionSort(arr):\n",
    "    value=0\n",
    "    for i in range(1,len(arr)+1):\n",
    "        value=arr[i-1]\n",
    "        j=i-1\n",
    "        while(j > 0) and (arr[j-1] > value): #Fill the blank\n",
    "            arr[j]=arr[j-1]\n",
    "            j=j-1\n",
    "        arr[j]=value\n",
    "    return arr "
   ]
  },
  {
   "cell_type": "code",
   "execution_count": 19,
   "id": "b99bfbac-92ea-4faa-a5d7-c2417185010d",
   "metadata": {},
   "outputs": [
    {
     "data": {
      "text/plain": [
       "[1, 2, 3, 4, 7, 8]"
      ]
     },
     "execution_count": 19,
     "metadata": {},
     "output_type": "execute_result"
    }
   ],
   "source": [
    "arr = [1,4,7,3,2,8]\n",
    "insertionSort(arr)"
   ]
  },
  {
   "cell_type": "code",
   "execution_count": 30,
   "id": "1b6d09c8-8a3d-4384-8036-e3b87912f5d8",
   "metadata": {},
   "outputs": [
    {
     "data": {
      "text/plain": [
       "97"
      ]
     },
     "execution_count": 30,
     "metadata": {},
     "output_type": "execute_result"
    }
   ],
   "source": [
    "ord(\"a\")"
   ]
  },
  {
   "cell_type": "code",
   "execution_count": 32,
   "id": "e7b3a58b-b332-4b8d-8e2c-29dc4a9ed82d",
   "metadata": {},
   "outputs": [
    {
     "data": {
      "text/plain": [
       "False"
      ]
     },
     "execution_count": 32,
     "metadata": {},
     "output_type": "execute_result"
    }
   ],
   "source": [
    "\"delta\" < \"beta\""
   ]
  },
  {
   "cell_type": "code",
   "execution_count": 35,
   "id": "e8f18532-d2b1-4511-bf6e-01bd93d88d10",
   "metadata": {},
   "outputs": [],
   "source": [
    "def selectionSort(lis):\n",
    "    #YOUR CODE GOES HERE\n",
    "    n  = len(lis)\n",
    "    for i in range(n-1):\n",
    "        min_idx = i\n",
    "        for j in range(i+1,n):\n",
    "            if lis[i] > lis[j]:\n",
    "                min_idx = j\n",
    "        lis[i],lis[min_idx] = lis[min_idx],lis[i]\n",
    "    \n",
    "    return lis"
   ]
  },
  {
   "cell_type": "code",
   "execution_count": 36,
   "id": "4c77ea2f-8e63-4a69-85be-4c71a2a0dba2",
   "metadata": {},
   "outputs": [
    {
     "data": {
      "text/plain": [
       "['alpha', 'beta', 'delta', 'gamma']"
      ]
     },
     "execution_count": 36,
     "metadata": {},
     "output_type": "execute_result"
    }
   ],
   "source": [
    "arr = ['alpha', 'beta', 'delta', 'gamma']\n",
    "selectionSort(arr)"
   ]
  },
  {
   "cell_type": "code",
   "execution_count": 62,
   "id": "5386b580-a7aa-4b6e-8d40-8a312991bafb",
   "metadata": {},
   "outputs": [],
   "source": [
    "def mySelSort(arr):\n",
    "    n = len(arr)\n",
    "    for i in range(n):\n",
    "        min_idx = i\n",
    "        for j in range(i+1,n):\n",
    "            if arr[j] < arr[min_idx]:\n",
    "                min_idx = j\n",
    "        arr[i],arr[min_idx] = arr[min_idx],arr[i]\n",
    "    return arr"
   ]
  },
  {
   "cell_type": "code",
   "execution_count": 63,
   "id": "8936df31-fffc-4db3-a2c0-3b6b7a3725b8",
   "metadata": {},
   "outputs": [
    {
     "data": {
      "text/plain": [
       "[1, 2, 2, 4, 6, 8, 9, 9, 32, 32, 98]"
      ]
     },
     "execution_count": 63,
     "metadata": {},
     "output_type": "execute_result"
    }
   ],
   "source": [
    "arr = [4,8,1,6,2,9,32,9,32,98,2]\n",
    "mySelSort(arr)"
   ]
  },
  {
   "cell_type": "code",
   "execution_count": 73,
   "id": "0f90158a-1e5c-4101-ba86-2e3166a4c552",
   "metadata": {},
   "outputs": [],
   "source": [
    "def myInsSort(arr):\n",
    "    n = len(arr)\n",
    "    for i in range(1,n):\n",
    "        temp = arr[i]\n",
    "        for j in range(i-1,-1,-1):\n",
    "            if temp < arr[j]:\n",
    "                arr[j+1] = arr[j]\n",
    "            else:\n",
    "                arr[j+1] = temp\n",
    "                break\n",
    "    return arr\n",
    "    "
   ]
  },
  {
   "cell_type": "code",
   "execution_count": 74,
   "id": "4e1e80c9-e777-4825-8281-74e3c496215e",
   "metadata": {},
   "outputs": [
    {
     "data": {
      "text/plain": [
       "[4, 4, 4, 4, 6, 8, 9, 9, 32, 32, 98]"
      ]
     },
     "execution_count": 74,
     "metadata": {},
     "output_type": "execute_result"
    }
   ],
   "source": [
    "arr = [4,8,1,6,2,9,32,9,32,98,2]\n",
    "myInsSort(arr)"
   ]
  },
  {
   "cell_type": "code",
   "execution_count": 78,
   "id": "bba896df-4c0d-45bb-a3fb-180634716364",
   "metadata": {},
   "outputs": [],
   "source": [
    "def inssort(arr):\n",
    "    n = len(arr)\n",
    "    for i in range(n):\n",
    "        temp = arr[i]\n",
    "        j = i-1\n",
    "        while j>=0 and temp < arr[j]:\n",
    "            arr[j+1] = arr[j]\n",
    "            j -= 1\n",
    "        arr[j+1] = temp\n",
    "    return arr"
   ]
  },
  {
   "cell_type": "code",
   "execution_count": 77,
   "id": "4ec48d52-03d0-41d9-8d51-6ad185539e52",
   "metadata": {},
   "outputs": [
    {
     "data": {
      "text/plain": [
       "[1, 2, 2, 4, 6, 8, 9, 9, 32, 32, 98]"
      ]
     },
     "execution_count": 79,
     "metadata": {},
     "output_type": "execute_result"
    }
   ],
   "source": [
    "arr = [4,8,1,6,2,9,32,9,32,98,2]\n",
    "inssort(arr)"
   ]
  },
  {
   "cell_type": "code",
   "execution_count": null,
   "id": "7ab18662-e13c-4ed7-b0ad-e84260262723",
   "metadata": {},
   "outputs": [],
   "source": []
  }
 ],
 "metadata": {
  "kernelspec": {
   "display_name": "Python 3 (ipykernel)",
   "language": "python",
   "name": "python3"
  },
  "language_info": {
   "codemirror_mode": {
    "name": "ipython",
    "version": 3
   },
   "file_extension": ".py",
   "mimetype": "text/x-python",
   "name": "python",
   "nbconvert_exporter": "python",
   "pygments_lexer": "ipython3",
   "version": "3.9.13"
  }
 },
 "nbformat": 4,
 "nbformat_minor": 5
}
