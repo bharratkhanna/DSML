{
 "cells": [
  {
   "attachments": {},
   "cell_type": "markdown",
   "metadata": {},
   "source": [
    "<h1><center>Recusrsion 2</center></h1>"
   ]
  },
  {
   "cell_type": "code",
   "execution_count": 2,
   "metadata": {},
   "outputs": [
    {
     "data": {
      "text/plain": [
       "21"
      ]
     },
     "execution_count": 2,
     "metadata": {},
     "output_type": "execute_result"
    }
   ],
   "source": [
    "def staircase(n): # O(2^n)\n",
    "    if n ==1 or n==2:\n",
    "        return n\n",
    "    return staircase(n-1) + staircase(n-2)\n",
    "\n",
    "staircase(7)"
   ]
  },
  {
   "cell_type": "code",
   "execution_count": 2,
   "metadata": {},
   "outputs": [
    {
     "name": "stdout",
     "output_type": "stream",
     "text": [
      "[['a', 'b', 'c'], ['a', 'c', 'b'], ['b', 'a', 'c'], ['b', 'c', 'a'], ['c', 'a', 'b'], ['c', 'b', 'a']]\n"
     ]
    }
   ],
   "source": [
    "def perm(arr): # O(n!)\n",
    "    result = []\n",
    "    if len(arr) == 1:\n",
    "        return [arr]\n",
    "    \n",
    "    for i in range(len(arr)):\n",
    "        ele = arr[i]\n",
    "        remaining_ele = arr[:i] + arr[i+1:]\n",
    "        remaining_perm = perm(remaining_ele)\n",
    "\n",
    "        for p in remaining_perm:\n",
    "            result.append([ele] + p)\n",
    "    \n",
    "    return result\n",
    "    \n",
    "print(perm([\"a\",\"b\",\"c\"]))"
   ]
  },
  {
   "cell_type": "code",
   "execution_count": 11,
   "metadata": {},
   "outputs": [
    {
     "data": {
      "text/plain": [
       "[1, 2, 2, 3, 3, 4, 5, 7, 8, 9, 10, 27, 51, 51, 51]"
      ]
     },
     "execution_count": 11,
     "metadata": {},
     "output_type": "execute_result"
    }
   ],
   "source": [
    "def merge(A,B): \n",
    "    n = len(A)\n",
    "    m = len(B)\n",
    "    C = list()\n",
    "    i,j = 0,0\n",
    "    while(i<n and j <m):\n",
    "        if A[i] < B[j]:\n",
    "            C.append(A[i])\n",
    "            i += 1\n",
    "        else:\n",
    "            C.append(B[j])\n",
    "            j += 1\n",
    "    C = C + A[i:] + B[j:]\n",
    "\n",
    "    return C\n",
    "             \n",
    "\n",
    "def mergeSort(arr):\n",
    "    if len(arr) == 1:\n",
    "        return list(arr)\n",
    "    else:\n",
    "        l = 0\n",
    "        r = len(arr)\n",
    "        m = (l+r)//2\n",
    "        return  merge(mergeSort(arr[l:m]),  mergeSort(arr[m:])) # nlogn\n",
    "\n",
    "\n",
    "mergeSort([51,1,3,2,5,3,7,2,8,9,10,51,27,4,51])\n"
   ]
  },
  {
   "attachments": {},
   "cell_type": "markdown",
   "metadata": {},
   "source": [
    "---"
   ]
  },
  {
   "cell_type": "code",
   "execution_count": 13,
   "metadata": {},
   "outputs": [
    {
     "name": "stdout",
     "output_type": "stream",
     "text": [
      "swen\n"
     ]
    }
   ],
   "source": [
    "def bp(string, n):\n",
    "  if n>0:\n",
    "    print(string[n], end='')\n",
    "    bp(string, n-1)\n",
    "  elif n==0:\n",
    "    print(string[0])\n",
    "\n",
    "s = \"news\"\n",
    "bp(s, len(s)-1)"
   ]
  },
  {
   "cell_type": "code",
   "execution_count": 14,
   "metadata": {},
   "outputs": [
    {
     "name": "stdout",
     "output_type": "stream",
     "text": [
      "110"
     ]
    }
   ],
   "source": [
    "l = [ ]\n",
    "def convert(b):\n",
    "  if(b==0):\n",
    "    return l\n",
    "  digit=b%2\n",
    "  l.append(digit)\n",
    "  convert(b//2)\n",
    "\n",
    "convert(6)\n",
    "l.reverse()\n",
    "for i in l:\n",
    "  print(i,end=\"\")"
   ]
  },
  {
   "cell_type": "code",
   "execution_count": 17,
   "metadata": {},
   "outputs": [
    {
     "data": {
      "text/plain": [
       "30"
      ]
     },
     "execution_count": 17,
     "metadata": {},
     "output_type": "execute_result"
    }
   ],
   "source": [
    "def sum_series(n):\n",
    "    if n == 1 or n == 0:\n",
    "        return n\n",
    "    return n + sum_series(n-2)\n",
    "\n",
    "sum_series(10)"
   ]
  },
  {
   "cell_type": "code",
   "execution_count": 1,
   "metadata": {},
   "outputs": [
    {
     "data": {
      "text/plain": [
       "1.5"
      ]
     },
     "execution_count": 1,
     "metadata": {},
     "output_type": "execute_result"
    }
   ],
   "source": [
    "def harmonic_sum(n):\n",
    "    if n == 1:\n",
    "        return 1\n",
    "    return harmonic_sum(n-1) + 1/n\n",
    "\n",
    "harmonic_sum(2)"
   ]
  },
  {
   "cell_type": "code",
   "execution_count": 2,
   "metadata": {},
   "outputs": [
    {
     "data": {
      "text/plain": [
       "'001'"
      ]
     },
     "execution_count": 2,
     "metadata": {},
     "output_type": "execute_result"
    }
   ],
   "source": [
    "def rev(n, temp=''):    \n",
    "    \n",
    "    if n == 0:\n",
    "        return temp\n",
    "    return rev(n//10,temp + str(n%10))\n",
    "\n",
    "rev(100)"
   ]
  }
 ],
 "metadata": {
  "kernelspec": {
   "display_name": "base",
   "language": "python",
   "name": "python3"
  },
  "language_info": {
   "codemirror_mode": {
    "name": "ipython",
    "version": 3
   },
   "file_extension": ".py",
   "mimetype": "text/x-python",
   "name": "python",
   "nbconvert_exporter": "python",
   "pygments_lexer": "ipython3",
   "version": "3.9.13 (main, Aug 25 2022, 23:51:50) [MSC v.1916 64 bit (AMD64)]"
  },
  "orig_nbformat": 4,
  "vscode": {
   "interpreter": {
    "hash": "ff4f85d6e04298634172ac5d8264e7e9b556b95639fe52ebb9425c4d4cba0c9c"
   }
  }
 },
 "nbformat": 4,
 "nbformat_minor": 2
}
