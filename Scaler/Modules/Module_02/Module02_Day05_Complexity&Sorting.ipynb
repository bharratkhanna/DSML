{
 "cells": [
  {
   "cell_type": "markdown",
   "id": "3f3dad7a",
   "metadata": {},
   "source": [
    "<h1><center> Analysis of Algrithms & Sorting "
   ]
  },
  {
   "cell_type": "markdown",
   "id": "918caf4c",
   "metadata": {},
   "source": [
    "### Analysis of Algorithms"
   ]
  },
  {
   "cell_type": "markdown",
   "id": "9fa8a19f",
   "metadata": {},
   "source": [
    "- To understand the effiency of code \n",
    "- Its important to compare and analyse multiple algorithms.\n",
    "\n",
    "#### Algorithm Analysis:-\n",
    "- **Space Complexity**: Determines amount of memory required for a program to run \n",
    "- **Time Complexity**: Determines amount of computation taken by a computer to run\n",
    "\n",
    "### $$\\text{CPU Time}: \\frac{\\text{instructions cycle}}{\\text{instruction time}}$$\n",
    "#### Apostirious Analysis:\n",
    "- Platform Dependent(OS)\n",
    "- Machine Dependent\n",
    "- Programming Language Dependent\n",
    "\n",
    "*Thats why we don't opt for Apostirious Analysis\n",
    "\n",
    "#### Apriori Analysis:\n",
    "- This can be calculated without executing code\n",
    "- This is machine independent\n",
    "\n"
   ]
  },
  {
   "cell_type": "markdown",
   "id": "442c17db-7341-4152-9192-f66dd7a03ae5",
   "metadata": {},
   "source": [
    "#### Cost Function:\n",
    "\n",
    "-  Using this a alogorithm is represented as a mathematical function"
   ]
  },
  {
   "cell_type": "code",
   "execution_count": 4,
   "id": "4c01643e",
   "metadata": {},
   "outputs": [],
   "source": [
    "def foo(n): # 1\n",
    "    x=1 # 1\n",
    "    y=2 # 1\n",
    "    z=3 # 1\n",
    "    print(n) # 1\n",
    "    \n",
    "# Cost function -> C(foo) is 1+1+1+1+1 = 5 \n",
    "# No of operations are independent of n, Hence power of n is 0, therefore 1"
   ]
  },
  {
   "cell_type": "code",
   "execution_count": 5,
   "id": "65ab457e",
   "metadata": {},
   "outputs": [],
   "source": [
    "def foo(n): # 1\n",
    "    x=1 # 1\n",
    "    y=2 #1\n",
    "    for i in range(n): # n\n",
    "        print(i) # n\n",
    "\n",
    "# C(foo) is 1+1+1+n+n = 2n+3\n",
    "# Cost of function grows linearly"
   ]
  },
  {
   "cell_type": "code",
   "execution_count": 6,
   "id": "9c69e7fb",
   "metadata": {},
   "outputs": [],
   "source": [
    "def foo(n): # 1\n",
    "    x=1 # 1\n",
    "    y=2 # 1\n",
    "    for i in range(n): # n\n",
    "        for j in range(n): # n*n\n",
    "            print(i) # n*n\n",
    "            \n",
    "# C(foo) is 1+1+1+ n + n*n + n*n = 2n^2 + n + 3\n",
    "# Cost of function grows quadratically"
   ]
  },
  {
   "cell_type": "markdown",
   "id": "515f08bd-45cf-4411-9963-0954df48a8bc",
   "metadata": {},
   "source": [
    "#### Bond of a function:\n",
    "- By maximum amount your function can grow.\n",
    "    - Upper Bound: Worst possible complexity of a function:- **Big O(...)**\n",
    "    - Lower Bound: Best possible complexity if a function:- **Big O(...)**\n",
    "\n",
    "\n",
    "*In Apriori Method we don't care about subtaks"
   ]
  },
  {
   "cell_type": "markdown",
   "id": "8cd0f117",
   "metadata": {},
   "source": [
    "## Sorting\n",
    "\n"
   ]
  },
  {
   "cell_type": "markdown",
   "id": "0b223520",
   "metadata": {},
   "source": [
    "### Bubble Sort"
   ]
  },
  {
   "cell_type": "code",
   "execution_count": 43,
   "id": "1503a34e",
   "metadata": {},
   "outputs": [
    {
     "name": "stdout",
     "output_type": "stream",
     "text": [
      "[78, 99, 86, 75, 99]\n"
     ]
    }
   ],
   "source": [
    "marks = [78, 99, 86, 75, 99]\n",
    "print(marks)"
   ]
  },
  {
   "cell_type": "code",
   "execution_count": 44,
   "id": "07a0e0db",
   "metadata": {},
   "outputs": [
    {
     "data": {
      "text/plain": [
       "[75, 78, 86, 99, 99]"
      ]
     },
     "execution_count": 44,
     "metadata": {},
     "output_type": "execute_result"
    }
   ],
   "source": [
    "sorted(marks)"
   ]
  },
  {
   "cell_type": "code",
   "execution_count": 45,
   "id": "cac861ca",
   "metadata": {},
   "outputs": [],
   "source": [
    "def bubbleSort(lst):\n",
    "    n = len(lst)-1\n",
    "    for i in range(n):\n",
    "        for j in range(n-i):\n",
    "            if lst[j]>lst[j+1]:\n",
    "                lst[j],lst[j+1] = lst[j+1],lst[j]        \n",
    "    return lst"
   ]
  },
  {
   "cell_type": "code",
   "execution_count": 46,
   "id": "b99bbbfc",
   "metadata": {},
   "outputs": [
    {
     "data": {
      "text/plain": [
       "[75, 78, 86, 99, 99]"
      ]
     },
     "execution_count": 46,
     "metadata": {},
     "output_type": "execute_result"
    }
   ],
   "source": [
    "bubbleSort(marks)"
   ]
  },
  {
   "cell_type": "markdown",
   "id": "d65dfef5-fd7e-46a3-87fd-472be5a11c01",
   "metadata": {},
   "source": [
    "---"
   ]
  },
  {
   "cell_type": "markdown",
   "id": "1eb4d0b5-6ffd-4811-89d5-3239a7f2018d",
   "metadata": {
    "tags": []
   },
   "source": [
    "### Homework"
   ]
  },
  {
   "cell_type": "markdown",
   "id": "1369c696-9ce0-4c15-ae37-5894f8a44ed2",
   "metadata": {},
   "source": [
    "#### Reverse Bubble Sort"
   ]
  },
  {
   "cell_type": "code",
   "execution_count": 47,
   "id": "6743e434-e97c-4906-abd5-dd1d01aa0658",
   "metadata": {},
   "outputs": [],
   "source": [
    "def bubbleSortRev(lst):\n",
    "    n=len(lst)\n",
    "    for i in range(n-1):\n",
    "        for j in range(n-1-i):\n",
    "            if lst[j] < lst[j+1]:\n",
    "                lst[j],lst[j+1] = lst[j+1],lst[j]\n",
    "    return lst"
   ]
  },
  {
   "cell_type": "code",
   "execution_count": 48,
   "id": "233ac114-67d6-4759-bfa6-52a5aaaa0973",
   "metadata": {},
   "outputs": [
    {
     "data": {
      "text/plain": [
       "[10, 8, 7, 7, 6, 5, 3, 2]"
      ]
     },
     "execution_count": 48,
     "metadata": {},
     "output_type": "execute_result"
    }
   ],
   "source": [
    "marks = [3,5,2,7,7,8,6,10]\n",
    "bubbleSortRev(marks)"
   ]
  },
  {
   "cell_type": "markdown",
   "id": "ea5cacf3-baf8-49af-8276-ca4f4492d56a",
   "metadata": {},
   "source": [
    "---"
   ]
  },
  {
   "cell_type": "code",
   "execution_count": 49,
   "id": "bfca287b",
   "metadata": {},
   "outputs": [],
   "source": [
    "def foo(arr):\n",
    "    for j in range(len(arr)-1,-1,-1):\n",
    "        for k in range(0,j):\n",
    "            if(arr[k]>arr[k+1]):\n",
    "                temp=arr[k]\n",
    "                arr[k]=arr[k+1]\n",
    "                arr[k+1]=temp\n",
    "    return arr"
   ]
  },
  {
   "cell_type": "code",
   "execution_count": 50,
   "id": "82e5df22",
   "metadata": {},
   "outputs": [
    {
     "name": "stdout",
     "output_type": "stream",
     "text": [
      "[10, 8, 7, 7, 6, 5, 3, 2]\n"
     ]
    },
    {
     "data": {
      "text/plain": [
       "[2, 3, 5, 6, 7, 7, 8, 10]"
      ]
     },
     "execution_count": 50,
     "metadata": {},
     "output_type": "execute_result"
    }
   ],
   "source": [
    "print(marks)\n",
    "foo(marks)"
   ]
  }
 ],
 "metadata": {
  "kernelspec": {
   "display_name": "Python 3 (ipykernel)",
   "language": "python",
   "name": "python3"
  },
  "language_info": {
   "codemirror_mode": {
    "name": "ipython",
    "version": 3
   },
   "file_extension": ".py",
   "mimetype": "text/x-python",
   "name": "python",
   "nbconvert_exporter": "python",
   "pygments_lexer": "ipython3",
   "version": "3.9.15"
  },
  "varInspector": {
   "cols": {
    "lenName": 16,
    "lenType": 16,
    "lenVar": 40
   },
   "kernels_config": {
    "python": {
     "delete_cmd_postfix": "",
     "delete_cmd_prefix": "del ",
     "library": "var_list.py",
     "varRefreshCmd": "print(var_dic_list())"
    },
    "r": {
     "delete_cmd_postfix": ") ",
     "delete_cmd_prefix": "rm(",
     "library": "var_list.r",
     "varRefreshCmd": "cat(var_dic_list()) "
    }
   },
   "types_to_exclude": [
    "module",
    "function",
    "builtin_function_or_method",
    "instance",
    "_Feature"
   ],
   "window_display": false
  }
 },
 "nbformat": 4,
 "nbformat_minor": 5
}
