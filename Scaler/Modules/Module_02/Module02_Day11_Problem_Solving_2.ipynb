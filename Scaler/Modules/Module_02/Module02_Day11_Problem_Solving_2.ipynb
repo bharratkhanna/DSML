{
 "cells": [
  {
   "cell_type": "markdown",
   "metadata": {},
   "source": [
    "<h1><center> Problem Solving 2"
   ]
  },
  {
   "cell_type": "code",
   "execution_count": 23,
   "metadata": {},
   "outputs": [
    {
     "name": "stdout",
     "output_type": "stream",
     "text": [
      "[1, 0, 0, 1]\n",
      "[1, 0, 1]\n"
     ]
    }
   ],
   "source": [
    "def bagofwords(arr,voc):\n",
    "    if type(arr) == str:\n",
    "        arr = arr.lower()\n",
    "        arr = arr.split(\" \")\n",
    "        voc = vocabulary(voc)\n",
    "    result = list()\n",
    "\n",
    "    if len(arr) == 0:\n",
    "        return result\n",
    "    if arr[0]in voc:\n",
    "        result.append(arr.count(arr[0]))\n",
    "        return result + bagofwords(arr[1:],voc)\n",
    "    else:\n",
    "        return [0] + bagofwords(arr[1:],voc)\n",
    "\n",
    "def vocabulary(data):\n",
    "    voc = set()\n",
    "    for sent in data:\n",
    "        sent.lower()\n",
    "        voc.update(set(sent.split(\" \")))\n",
    "    return voc\n",
    "\n",
    "str1 = [\"The indian at India\", \"Master at india\"]\n",
    "voc_words = [\"master\",\"india\",\"the\"]\n",
    "\n",
    "for s in str1:\n",
    "    print(bagofwords(s,voc_words))\n"
   ]
  },
  {
   "cell_type": "code",
   "execution_count": 51,
   "metadata": {},
   "outputs": [],
   "source": [
    "def binary(arr,target):\n",
    "    n = len(arr)-1\n",
    "    if n == 0:\n",
    "        return False\n",
    "    elif arr[n//2] == target:\n",
    "        return True\n",
    "    elif arr[n//2] > target:\n",
    "        return binary(arr[:(n//2)],target)\n",
    "    else:\n",
    "        return binary(arr[(n//2)+1:],target)"
   ]
  },
  {
   "cell_type": "code",
   "execution_count": 9,
   "metadata": {},
   "outputs": [
    {
     "data": {
      "text/plain": [
       "([2, 3, 4, 5], ['B', 'C', 'D', 'A'])"
      ]
     },
     "execution_count": 9,
     "metadata": {},
     "output_type": "execute_result"
    }
   ],
   "source": [
    "name =[\"A\",\"B\",\"C\",\"D\"]\n",
    "heights = [5,2,3,4]\n",
    "\n",
    "def bubble(names,heights):\n",
    "    n = len(heights)\n",
    "\n",
    "    for i in range(n-1):\n",
    "        sorted = True\n",
    "\n",
    "        for j in range(n-i-1):\n",
    "            if heights[j] > heights[j+1]:\n",
    "                heights[j],heights[j+1] = heights[j+1],heights[j]\n",
    "                names[j],names[j+1] =  names[j+1],names[j]\n",
    "                sorted = False\n",
    "\n",
    "        if sorted == True:\n",
    "            break\n",
    "\n",
    "    return heights,names\n",
    "\n",
    "bubble(name,heights)"
   ]
  }
 ],
 "metadata": {
  "kernelspec": {
   "display_name": "base",
   "language": "python",
   "name": "python3"
  },
  "language_info": {
   "codemirror_mode": {
    "name": "ipython",
    "version": 3
   },
   "file_extension": ".py",
   "mimetype": "text/x-python",
   "name": "python",
   "nbconvert_exporter": "python",
   "pygments_lexer": "ipython3",
   "version": "3.9.13"
  },
  "orig_nbformat": 4,
  "vscode": {
   "interpreter": {
    "hash": "ff4f85d6e04298634172ac5d8264e7e9b556b95639fe52ebb9425c4d4cba0c9c"
   }
  }
 },
 "nbformat": 4,
 "nbformat_minor": 2
}
