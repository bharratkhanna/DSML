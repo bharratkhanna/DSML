{
 "cells": [
  {
   "cell_type": "markdown",
   "metadata": {},
   "source": [
    "<h1><center>Combinatorics"
   ]
  },
  {
   "attachments": {},
   "cell_type": "markdown",
   "metadata": {},
   "source": [
    "**0! is 1**\n",
    "\n",
    "**and**: Multiply\n",
    "\n",
    "**or**: Add\n",
    "\n",
    "#### Permutation\n",
    "\n",
    "Arrangement of objects \n",
    "\n",
    "$$ n(n-1)(n-2)....(n-(r+1)) $$\n",
    "$$ \\frac{n(n-1)(n-2)....(n-(r+1)) \\times (n-k)(n-k-1)(n-k-2)....1}{(n-k)(n-k-1)....1} $$\n",
    "$$ \\frac{n!}{(n-r)!}$$\n",
    "\n",
    "#### $$ ^nP_r = \\frac{n!}{(n-r)!} $$\n"
   ]
  },
  {
   "attachments": {},
   "cell_type": "markdown",
   "metadata": {},
   "source": [
    "#### Combinations\n",
    "\n",
    "Selection of objects\n",
    "\n",
    "Ways to arrange $ r $ is $ r! $o\n",
    "\n",
    "$$ ^nC_r = \\frac{^nP_r}{r!} $$\n",
    "\n",
    "#### $$ ^nC_r = \\frac{n!}{r!(n-r)!} $$ \n",
    "\n",
    "\n",
    "\n",
    "\n",
    "\n"
   ]
  },
  {
   "attachments": {},
   "cell_type": "markdown",
   "metadata": {},
   "source": [
    "$$ \\boldsymbol{^nC_1 = n} $$\n",
    "\n",
    "$$ \\boldsymbol{^nC_0 = 1} $$\n",
    "\n",
    "$$ \\boldsymbol{^nP_0 = 1} $$\n",
    "\n",
    "$$ \\boldsymbol{^nC_0 + ^nC_1 + ^nC_2 +...  = 2^n} $$\n",
    "\n",
    "$$ \\boldsymbol{^nC_r = ^nC_{n-r}} $$"
   ]
  },
  {
   "cell_type": "code",
   "execution_count": 1,
   "metadata": {},
   "outputs": [
    {
     "data": {
      "text/plain": [
       "19755090000"
      ]
     },
     "execution_count": 1,
     "metadata": {},
     "output_type": "execute_result"
    }
   ],
   "source": [
    "30**4*29**3\n"
   ]
  },
  {
   "cell_type": "code",
   "execution_count": null,
   "metadata": {},
   "outputs": [],
   "source": []
  }
 ],
 "metadata": {
  "kernelspec": {
   "display_name": "base",
   "language": "python",
   "name": "python3"
  },
  "language_info": {
   "codemirror_mode": {
    "name": "ipython",
    "version": 3
   },
   "file_extension": ".py",
   "mimetype": "text/x-python",
   "name": "python",
   "nbconvert_exporter": "python",
   "pygments_lexer": "ipython3",
   "version": "3.9.13 (main, Aug 25 2022, 23:51:50) [MSC v.1916 64 bit (AMD64)]"
  },
  "orig_nbformat": 4,
  "vscode": {
   "interpreter": {
    "hash": "ff4f85d6e04298634172ac5d8264e7e9b556b95639fe52ebb9425c4d4cba0c9c"
   }
  }
 },
 "nbformat": 4,
 "nbformat_minor": 2
}
