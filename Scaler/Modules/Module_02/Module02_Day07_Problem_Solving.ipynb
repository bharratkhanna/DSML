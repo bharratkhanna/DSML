{
 "cells": [
  {
   "cell_type": "markdown",
   "metadata": {},
   "source": [
    "<h1><center>Problem_Solving\n"
   ]
  },
  {
   "cell_type": "code",
   "execution_count": 62,
   "metadata": {},
   "outputs": [],
   "source": [
    "def first_recurring_char(a):\n",
    "    n=len(a)\n",
    "    for i in range(n-1):\n",
    "        count = 1\n",
    "        for j in range(i+1,n):\n",
    "            if a[i] == a[j]:\n",
    "                count += 1\n",
    "            if count > 1:\n",
    "                return count,a[i]\n",
    "    return -1"
   ]
  },
  {
   "cell_type": "code",
   "execution_count": 63,
   "metadata": {},
   "outputs": [
    {
     "data": {
      "text/plain": [
       "(2, 't')"
      ]
     },
     "execution_count": 63,
     "metadata": {},
     "output_type": "execute_result"
    }
   ],
   "source": [
    "first_recurring_char(\"nterviewbit\")"
   ]
  },
  {
   "cell_type": "code",
   "execution_count": 55,
   "metadata": {},
   "outputs": [],
   "source": [
    "def recurring_char(a):\n",
    "    n=len(a)\n",
    "    for i in range(n):\n",
    "        if a[i] in a[:i]:\n",
    "            return a[i]\n",
    "    return -1\n"
   ]
  },
  {
   "cell_type": "code",
   "execution_count": 56,
   "metadata": {},
   "outputs": [
    {
     "data": {
      "text/plain": [
       "'e'"
      ]
     },
     "execution_count": 56,
     "metadata": {},
     "output_type": "execute_result"
    }
   ],
   "source": [
    "recurring_char(\"nterviewbit\")"
   ]
  },
  {
   "cell_type": "markdown",
   "metadata": {},
   "source": [
    "$ * $ Sets are always constant while searching # O(1)"
   ]
  },
  {
   "cell_type": "code",
   "execution_count": 29,
   "metadata": {},
   "outputs": [],
   "source": [
    "def opt_recucring_char(a):\n",
    "    n=len(a)\n",
    "    recurring = set()\n",
    "    for i in range(n):\n",
    "        if a[i] not in recurring: # This is O(1) because sets search in constant time, even dictionaries\n",
    "            recurring.add(a[i])\n",
    "        else:\n",
    "            return a[i]\n",
    "    return -1 "
   ]
  },
  {
   "cell_type": "code",
   "execution_count": 30,
   "metadata": {},
   "outputs": [
    {
     "data": {
      "text/plain": [
       "(-1, 'e')"
      ]
     },
     "execution_count": 30,
     "metadata": {},
     "output_type": "execute_result"
    }
   ],
   "source": [
    "opt_recucring_char(\"scaler\"), opt_recucring_char(\"nterviewbit\")"
   ]
  },
  {
   "cell_type": "code",
   "execution_count": 47,
   "metadata": {},
   "outputs": [],
   "source": [
    "def floor(arr,num):\n",
    "    end = len(arr) -1\n",
    "    start = 0 \n",
    "    while(start<=end):\n",
    "        if num > arr[-1]: return arr[-1]\n",
    "        if num < arr[0]: return \"None\"\n",
    "        mid = (start+end)//2\n",
    "        if arr[mid]< num < arr[mid+1] or num==arr[mid]:\n",
    "            return arr[mid]\n",
    "        elif arr[mid] < num:\n",
    "            start = start + 1\n",
    "        else:\n",
    "            end = end-1\n",
    "    return -1\n",
    "        "
   ]
  },
  {
   "cell_type": "code",
   "execution_count": 48,
   "metadata": {},
   "outputs": [
    {
     "data": {
      "text/plain": [
       "'None'"
      ]
     },
     "execution_count": 48,
     "metadata": {},
     "output_type": "execute_result"
    }
   ],
   "source": [
    "floor([-5,2,3,6,9,10,11,14,18],-7)"
   ]
  },
  {
   "cell_type": "code",
   "execution_count": 49,
   "metadata": {},
   "outputs": [],
   "source": [
    "def opt_floor(arr,num):\n",
    "    end = len(arr) -1\n",
    "    start = 0 \n",
    "    ans = None\n",
    "    while(start<=end):\n",
    "        mid = (start+end)//2\n",
    "        if num==arr[mid]:\n",
    "            return arr[mid]\n",
    "        elif arr[mid] < num:\n",
    "            ans = arr[mid]\n",
    "            start = start + 1\n",
    "        else:\n",
    "            end = end-1\n",
    "    return ans"
   ]
  },
  {
   "cell_type": "code",
   "execution_count": 52,
   "metadata": {},
   "outputs": [
    {
     "data": {
      "text/plain": [
       "6"
      ]
     },
     "execution_count": 52,
     "metadata": {},
     "output_type": "execute_result"
    }
   ],
   "source": [
    "opt_floor([-5,2,3,6,9,10,11,14,18],7)"
   ]
  },
  {
   "cell_type": "code",
   "execution_count": 55,
   "metadata": {},
   "outputs": [
    {
     "data": {
      "text/plain": [
       "0"
      ]
     },
     "execution_count": 55,
     "metadata": {},
     "output_type": "execute_result"
    }
   ],
   "source": [
    "def isPowerOf2(n):\n",
    "\n",
    "    isTwoMultiple = 1\n",
    "    while n > 1:\n",
    "        if n % 2 == 0: \n",
    "            n = n//2\n",
    "        else: \n",
    "            return 0\n",
    "\n",
    "    return isTwoMultiple"
   ]
  },
  {
   "cell_type": "code",
   "execution_count": 70,
   "metadata": {},
   "outputs": [],
   "source": [
    "import math\n",
    "\n",
    "def super_opt_isPowerof2(n):\n",
    "    ans = math.log2(n)\n",
    "    if ans == int(ans) :\n",
    "        return 1\n",
    "    else:\n",
    "        return 0"
   ]
  },
  {
   "cell_type": "code",
   "execution_count": 72,
   "metadata": {},
   "outputs": [
    {
     "data": {
      "text/plain": [
       "0"
      ]
     },
     "execution_count": 72,
     "metadata": {},
     "output_type": "execute_result"
    }
   ],
   "source": [
    "super_opt_isPowerof2(100)"
   ]
  },
  {
   "cell_type": "code",
   "execution_count": 8,
   "metadata": {},
   "outputs": [],
   "source": [
    "def euc_distance(A,B):\n",
    "    x1 = A[0]\n",
    "    x2 = B[0]\n",
    "    y1 = A[1]\n",
    "    y2 = B[1]\n",
    "\n",
    "    distance =  ((x2-x1)**2 + (y2-y1)**2)**0.5\n",
    "    return round(distance,2)\n",
    "\n",
    "def nearestNeighbour(lst,loc):\n",
    "    distance = list()\n",
    "    for cord in lst:\n",
    "        distance.append(euc_distance(loc,cord))\n",
    "    return distance, min(distance)\n"
   ]
  },
  {
   "cell_type": "code",
   "execution_count": 10,
   "metadata": {},
   "outputs": [
    {
     "data": {
      "text/plain": [
       "([1.41, 3.16, 3.61, 5.83, 5.1, 1.0], 1.0)"
      ]
     },
     "execution_count": 10,
     "metadata": {},
     "output_type": "execute_result"
    }
   ],
   "source": [
    "nearestNeighbour([(1,2),(3,6),(-1,5),(-1,-2),(-3,4),(2,2)], (2,3))"
   ]
  },
  {
   "cell_type": "code",
   "execution_count": 3,
   "metadata": {},
   "outputs": [],
   "source": [
    "# NLP: \n",
    "# n-gram -> You are givrn with a paragraph\n",
    "\n",
    "# \"be the change you want to see in the world\" , n = 2\n",
    "# \"(be,the),(the,change),(change,you),(you,want)........(the,world)\"\n",
    "\n",
    "def ngram(arr,step):\n",
    "    arr = arr.split()\n",
    "    n = len(arr)\n",
    "    tokens = list()\n",
    "\n",
    "    for i in range(n - step + 1):\n",
    "        tokens.append(arr[i:i+step])\n",
    "    return tokens\n"
   ]
  },
  {
   "cell_type": "code",
   "execution_count": 4,
   "metadata": {},
   "outputs": [
    {
     "data": {
      "text/plain": [
       "[['be', 'the'],\n",
       " ['the', 'change'],\n",
       " ['change', 'you'],\n",
       " ['you', 'want'],\n",
       " ['want', 'to'],\n",
       " ['to', 'see'],\n",
       " ['see', 'in'],\n",
       " ['in', 'the'],\n",
       " ['the', 'world']]"
      ]
     },
     "execution_count": 4,
     "metadata": {},
     "output_type": "execute_result"
    }
   ],
   "source": [
    "ngram(\"be the change you want to see in the world\",2)"
   ]
  },
  {
   "cell_type": "markdown",
   "metadata": {},
   "source": [
    "---"
   ]
  }
 ],
 "metadata": {
  "kernelspec": {
   "display_name": "Python 3.9.15 ('base')",
   "language": "python",
   "name": "python3"
  },
  "language_info": {
   "codemirror_mode": {
    "name": "ipython",
    "version": 3
   },
   "file_extension": ".py",
   "mimetype": "text/x-python",
   "name": "python",
   "nbconvert_exporter": "python",
   "pygments_lexer": "ipython3",
   "version": "3.9.15"
  },
  "orig_nbformat": 4,
  "vscode": {
   "interpreter": {
    "hash": "757053eaf0655596af139d123df37fb4079df03a43161b6a79909863304398bf"
   }
  }
 },
 "nbformat": 4,
 "nbformat_minor": 2
}
