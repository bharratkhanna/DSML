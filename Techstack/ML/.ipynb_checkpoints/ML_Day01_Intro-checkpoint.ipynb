{
 "cells": [
  {
   "cell_type": "markdown",
   "id": "7fc459fe",
   "metadata": {},
   "source": [
    "# Machine Learning"
   ]
  },
  {
   "cell_type": "markdown",
   "id": "202f8253",
   "metadata": {},
   "source": [
    "- In data, 1 Coulumn is **Dependent** rest all are **Independent**.\n",
    "- Model is decide by Dependent Column\n",
    "\n",
    "$$y = ax + bx$$\n",
    "_So y is Dependent here_"
   ]
  },
  {
   "cell_type": "code",
   "execution_count": 7,
   "id": "3894b621",
   "metadata": {},
   "outputs": [],
   "source": [
    "import numpy as np\n",
    "import pandas as pd\n",
    "import matplotlib.pyplot as plt\n",
    "import seaborn as sns"
   ]
  },
  {
   "cell_type": "code",
   "execution_count": 5,
   "id": "6b976fc0",
   "metadata": {},
   "outputs": [
    {
     "data": {
      "text/html": [
       "<div>\n",
       "<style scoped>\n",
       "    .dataframe tbody tr th:only-of-type {\n",
       "        vertical-align: middle;\n",
       "    }\n",
       "\n",
       "    .dataframe tbody tr th {\n",
       "        vertical-align: top;\n",
       "    }\n",
       "\n",
       "    .dataframe thead th {\n",
       "        text-align: right;\n",
       "    }\n",
       "</style>\n",
       "<table border=\"1\" class=\"dataframe\">\n",
       "  <thead>\n",
       "    <tr style=\"text-align: right;\">\n",
       "      <th></th>\n",
       "      <th>Name</th>\n",
       "      <th>Practice</th>\n",
       "      <th>Homework</th>\n",
       "      <th>Vacancy</th>\n",
       "      <th>Qualification</th>\n",
       "      <th>Placements</th>\n",
       "    </tr>\n",
       "  </thead>\n",
       "  <tbody>\n",
       "    <tr>\n",
       "      <th>0</th>\n",
       "      <td>Rashi</td>\n",
       "      <td>1</td>\n",
       "      <td>1</td>\n",
       "      <td>1</td>\n",
       "      <td>BA</td>\n",
       "      <td>Y</td>\n",
       "    </tr>\n",
       "    <tr>\n",
       "      <th>1</th>\n",
       "      <td>Adith</td>\n",
       "      <td>1</td>\n",
       "      <td>1</td>\n",
       "      <td>1</td>\n",
       "      <td>BSc</td>\n",
       "      <td>Y</td>\n",
       "    </tr>\n",
       "    <tr>\n",
       "      <th>2</th>\n",
       "      <td>Neeraj</td>\n",
       "      <td>1</td>\n",
       "      <td>0</td>\n",
       "      <td>0</td>\n",
       "      <td>UG</td>\n",
       "      <td>N</td>\n",
       "    </tr>\n",
       "    <tr>\n",
       "      <th>3</th>\n",
       "      <td>Ishita</td>\n",
       "      <td>1</td>\n",
       "      <td>1</td>\n",
       "      <td>0</td>\n",
       "      <td>BBA</td>\n",
       "      <td>Y</td>\n",
       "    </tr>\n",
       "  </tbody>\n",
       "</table>\n",
       "</div>"
      ],
      "text/plain": [
       "     Name  Practice  Homework  Vacancy Qualification Placements\n",
       "0   Rashi         1         1        1            BA          Y\n",
       "1   Adith         1         1        1           BSc          Y\n",
       "2  Neeraj         1         0        0            UG          N\n",
       "3  Ishita         1         1        0           BBA          Y"
      ]
     },
     "execution_count": 5,
     "metadata": {},
     "output_type": "execute_result"
    }
   ],
   "source": [
    "placements = [\"Y\",\"Y\",\"N\",\"Y\"]\n",
    "name =[\"Rashi\",\"Adith\",\"Neeraj\",\"Ishita\"]\n",
    "practice =[1,1,1,1]\n",
    "hw =[1,1,0,1]\n",
    "vacancy =[1,1,0,0]\n",
    "qual = [\"BA\",\"BSc\",\"UG\",\"BBA\"]\n",
    "\n",
    "placement_df = pd.DataFrame({\n",
    "    \"Name\":name,\n",
    "    \"Practice\": practice,\n",
    "    \"Homework\": hw,\n",
    "    \"Vacancy\": vacancy,\n",
    "    \"Qualification\": qual,\n",
    "    \"Placements\": placements\n",
    "})\n",
    "placement_df"
   ]
  },
  {
   "cell_type": "markdown",
   "id": "745435d5",
   "metadata": {},
   "source": [
    "#### Placement is DEPENDENT Column"
   ]
  },
  {
   "cell_type": "markdown",
   "id": "4bbd83eb",
   "metadata": {},
   "source": [
    "> If **Dependent** columns is **Continuous** -> **REGRESSION**\n",
    "\n",
    "> If **Dependent** columns is **Categorical** -> **CLASSIFICATION**"
   ]
  },
  {
   "cell_type": "markdown",
   "id": "9c9e7432",
   "metadata": {},
   "source": [
    "Columns = Variables = Features"
   ]
  },
  {
   "cell_type": "markdown",
   "id": "38ff4ea3",
   "metadata": {},
   "source": [
    "### Regression Model"
   ]
  },
  {
   "cell_type": "markdown",
   "id": "59bb5743",
   "metadata": {},
   "source": [
    "- Linear regression\n",
    "- Decision Tree Regression\n",
    "- Random Forest Regression\n",
    "- etc......"
   ]
  },
  {
   "cell_type": "markdown",
   "id": "66bda979",
   "metadata": {},
   "source": [
    "### Classification Model"
   ]
  },
  {
   "cell_type": "markdown",
   "id": "fad2a223",
   "metadata": {},
   "source": [
    "- Logistic Classifier\n",
    "- Decision Tree Classifier\n",
    "- Random Forest Classifier\n",
    "- KNN: K Nearest Neighbour\n",
    "- SVM: Support Vector Machine\n",
    "- etc....."
   ]
  },
  {
   "cell_type": "markdown",
   "id": "401ca4fb",
   "metadata": {},
   "source": [
    " _Regression is an approximate technique._"
   ]
  },
  {
   "cell_type": "markdown",
   "id": "708a2c1d",
   "metadata": {},
   "source": [
    "## Models"
   ]
  },
  {
   "cell_type": "markdown",
   "id": "935b0de8",
   "metadata": {},
   "source": [
    "1. Linear regression\n",
    "2. Logistic regression\n",
    "3. Decision Tree\n",
    "4. Random Forest\n",
    "5. KNN\n",
    "6. SVM\n",
    "7. Naive byes\n",
    "8. BCA\n",
    "9. K -Means"
   ]
  }
 ],
 "metadata": {
  "kernelspec": {
   "display_name": "Python 3 (ipykernel)",
   "language": "python",
   "name": "python3"
  },
  "language_info": {
   "codemirror_mode": {
    "name": "ipython",
    "version": 3
   },
   "file_extension": ".py",
   "mimetype": "text/x-python",
   "name": "python",
   "nbconvert_exporter": "python",
   "pygments_lexer": "ipython3",
   "version": "3.9.12"
  },
  "varInspector": {
   "cols": {
    "lenName": 16,
    "lenType": 16,
    "lenVar": 40
   },
   "kernels_config": {
    "python": {
     "delete_cmd_postfix": "",
     "delete_cmd_prefix": "del ",
     "library": "var_list.py",
     "varRefreshCmd": "print(var_dic_list())"
    },
    "r": {
     "delete_cmd_postfix": ") ",
     "delete_cmd_prefix": "rm(",
     "library": "var_list.r",
     "varRefreshCmd": "cat(var_dic_list()) "
    }
   },
   "types_to_exclude": [
    "module",
    "function",
    "builtin_function_or_method",
    "instance",
    "_Feature"
   ],
   "window_display": false
  }
 },
 "nbformat": 4,
 "nbformat_minor": 5
}
