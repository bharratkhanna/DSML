{
 "cells": [
  {
   "cell_type": "markdown",
   "id": "7bc8b978",
   "metadata": {},
   "source": [
    "# Linear Regression"
   ]
  },
  {
   "cell_type": "markdown",
   "id": "323f246a",
   "metadata": {},
   "source": [
    "### $$\\hat y = \\beta_o + \\beta_1x_1 + \\beta_2x_2  +......$$"
   ]
  },
  {
   "cell_type": "markdown",
   "id": "890107cd",
   "metadata": {},
   "source": [
    "**Best fit Line:** Line from which data points have least squared distance. _(To avoid negative values and 0 derrivative)_"
   ]
  },
  {
   "cell_type": "markdown",
   "id": "673cc31b",
   "metadata": {},
   "source": [
    "$\\boldsymbol {\\hat y} \\text{ is Predicted Value}$\n",
    "\n",
    "$\\boldsymbol { y} \\text{ is Actual Value}$\n",
    "\n",
    "$\\boldsymbol {\\bar y} \\text{ is Total Average}$\n",
    "\n",
    "### $$\\text{Total Error} = \\boldsymbol{(y-\\bar y)^2}$$\n",
    "\n",
    "### $$\\text{Model Error/Bias} = \\boldsymbol{(y - \\hat y)^2}$$\n",
    "\n",
    "### $$\\text{Regression Error} = \\boldsymbol{(\\hat y - \\bar y)^2}$$"
   ]
  },
  {
   "cell_type": "markdown",
   "id": "7e209f4d",
   "metadata": {},
   "source": [
    "**Regression Line**: Prediction line forecasted by model"
   ]
  },
  {
   "cell_type": "markdown",
   "id": "47731c91",
   "metadata": {},
   "source": [
    "**SST** _(Sum of total squared error)_:- \n",
    "\n",
    "### $$\\sum (y-\\bar y)^2$$"
   ]
  },
  {
   "cell_type": "markdown",
   "id": "5222d9cc",
   "metadata": {},
   "source": [
    "**SSE** _(Sum of squared error)_:- \n",
    "\n",
    "### $$\\sum (y-\\hat y)^2$$"
   ]
  },
  {
   "cell_type": "markdown",
   "id": "ac0a6414",
   "metadata": {},
   "source": [
    "**SSR** _(Sum of squared due to Regression)_:- \n",
    "\n",
    "### $$\\sum (\\hat y-\\bar y)^2$$"
   ]
  },
  {
   "cell_type": "markdown",
   "id": "ec61120a",
   "metadata": {},
   "source": [
    "**Regression Error** describes your model perfomance :-\n",
    "\n",
    "### $$R^2 = \\frac{SSR}{SST}$$"
   ]
  },
  {
   "cell_type": "markdown",
   "id": "75781611",
   "metadata": {},
   "source": [
    "**Closer to 1**: Better the Model, **Closer to 0**: Worst the Model "
   ]
  },
  {
   "cell_type": "code",
   "execution_count": null,
   "id": "11164e0b",
   "metadata": {},
   "outputs": [],
   "source": []
  }
 ],
 "metadata": {
  "kernelspec": {
   "display_name": "Python 3 (ipykernel)",
   "language": "python",
   "name": "python3"
  },
  "language_info": {
   "codemirror_mode": {
    "name": "ipython",
    "version": 3
   },
   "file_extension": ".py",
   "mimetype": "text/x-python",
   "name": "python",
   "nbconvert_exporter": "python",
   "pygments_lexer": "ipython3",
   "version": "3.9.13"
  }
 },
 "nbformat": 4,
 "nbformat_minor": 5
}
