{
 "cells": [
  {
   "cell_type": "markdown",
   "id": "2af391fc",
   "metadata": {},
   "source": [
    "# Linear Regression 2"
   ]
  },
  {
   "cell_type": "markdown",
   "id": "62249785",
   "metadata": {},
   "source": [
    "### $$\\hat y = \\beta_o + \\beta_1x_1 + \\beta_2x_2  +......$$"
   ]
  },
  {
   "cell_type": "markdown",
   "id": "1f06ff2c",
   "metadata": {},
   "source": [
    "$$ sales = \\beta_o + \\beta_{1.Training} + \\beta_{2.RegularStudy} + \\beta_{3.MockInterview} $$"
   ]
  },
  {
   "cell_type": "markdown",
   "id": "e030a59e",
   "metadata": {},
   "source": [
    "lets say $R^2 = 0.7$"
   ]
  },
  {
   "cell_type": "markdown",
   "id": "247a0373",
   "metadata": {},
   "source": [
    "$$sales = \\beta_o + \\beta_1.Training + \\beta_2.RegularStudy + \\beta_3.MockInterview + \\beta_4.Projects + \\beta_5.Classroom ChitChat$$"
   ]
  },
  {
   "cell_type": "markdown",
   "id": "e97d6a29",
   "metadata": {},
   "source": [
    "**Drawback of $R^2$**: Now if you add any new column to dataset, _**irrespective of its importance**_ in dataset, $R^2$ will increase by some amount."
   ]
  },
  {
   "cell_type": "markdown",
   "id": "43ac2934",
   "metadata": {},
   "source": [
    "### Adjusted $R^2$"
   ]
  },
  {
   "cell_type": "markdown",
   "id": "a64d9ce6",
   "metadata": {},
   "source": [
    " It is penalty on $R^2$ if there is a no relevance of new variable added within the model, else it will increase."
   ]
  },
  {
   "cell_type": "markdown",
   "id": "0706f355",
   "metadata": {},
   "source": [
    "$n$ = no of observations\n",
    "\n",
    "$k$ = no of variables\n",
    "$$1 - (1 - R^2) \\times \\frac{n-1}{n-k-1}$$"
   ]
  },
  {
   "cell_type": "markdown",
   "id": "1ba4599d",
   "metadata": {},
   "source": [
    "### Challenges in Linear Regression:-"
   ]
  },
  {
   "cell_type": "markdown",
   "id": "a47ba9f9",
   "metadata": {},
   "source": [
    "- **Multi-Colinearity**: If there is a relation between Independent columns is collinearity, These columns will dillute the $R^2$\n",
    "    - Denoted by **VIF**(Variance Inflation Factor) calculated for each element\n",
    "    $$VIF = \\frac{1}{1-R_i^2}$$\n",
    "    - Remove column 1 by 1 because removing all will effect relation with $\\hat y$\n",
    "\n",
    "\n",
    "- **Outliers**: Those data points which are abnormally distant from other datapoints."
   ]
  }
 ],
 "metadata": {
  "kernelspec": {
   "display_name": "Python 3.9.13 ('base')",
   "language": "python",
   "name": "python3"
  },
  "language_info": {
   "codemirror_mode": {
    "name": "ipython",
    "version": 3
   },
   "file_extension": ".py",
   "mimetype": "text/x-python",
   "name": "python",
   "nbconvert_exporter": "python",
   "pygments_lexer": "ipython3",
   "version": "3.9.13"
  },
  "varInspector": {
   "cols": {
    "lenName": 16,
    "lenType": 16,
    "lenVar": 40
   },
   "kernels_config": {
    "python": {
     "delete_cmd_postfix": "",
     "delete_cmd_prefix": "del ",
     "library": "var_list.py",
     "varRefreshCmd": "print(var_dic_list())"
    },
    "r": {
     "delete_cmd_postfix": ") ",
     "delete_cmd_prefix": "rm(",
     "library": "var_list.r",
     "varRefreshCmd": "cat(var_dic_list()) "
    }
   },
   "types_to_exclude": [
    "module",
    "function",
    "builtin_function_or_method",
    "instance",
    "_Feature"
   ],
   "window_display": false
  },
  "vscode": {
   "interpreter": {
    "hash": "ff4f85d6e04298634172ac5d8264e7e9b556b95639fe52ebb9425c4d4cba0c9c"
   }
  }
 },
 "nbformat": 4,
 "nbformat_minor": 5
}
