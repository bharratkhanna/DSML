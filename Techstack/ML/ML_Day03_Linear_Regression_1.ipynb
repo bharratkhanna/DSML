{
 "cells": [
  {
   "cell_type": "markdown",
   "id": "72409370",
   "metadata": {},
   "source": [
    "# Linear Regression"
   ]
  },
  {
   "cell_type": "markdown",
   "id": "bf4bd1b1",
   "metadata": {},
   "source": [
    "### $$\\hat y = \\beta_o + \\beta_1x_1 + \\beta_2x_2  +......$$"
   ]
  },
  {
   "cell_type": "markdown",
   "id": "e2402450",
   "metadata": {},
   "source": [
    "**Best fit Line:** Line from which data points have least squared distance. _(To avoid negative values and 0 derrivative)_"
   ]
  },
  {
   "cell_type": "markdown",
   "id": "b1030d14",
   "metadata": {},
   "source": [
    "$\\boldsymbol {\\hat y} \\text{ is Predicted Value}$\n",
    "\n",
    "$\\boldsymbol { y} \\text{ is Actual Value}$\n",
    "\n",
    "$\\boldsymbol {\\bar y} \\text{ is Total Average}$\n",
    "\n",
    "### $$\\text{Total Error} = \\boldsymbol{(y-\\bar y)^2}$$\n",
    "\n",
    "### $$\\text{Model Error/Bias} = \\boldsymbol{(y - \\hat y)^2}$$\n",
    "\n",
    "### $$\\text{Regression Error} = \\boldsymbol{(\\hat y - \\bar y)^2}$$"
   ]
  },
  {
   "cell_type": "markdown",
   "id": "b297bc86",
   "metadata": {},
   "source": [
    "**Regression Line**: Prediction line forecasted by model"
   ]
  },
  {
   "cell_type": "markdown",
   "id": "2dc35d32",
   "metadata": {},
   "source": [
    "**SST** _(Sum of total squared error)_:- \n",
    "\n",
    "### $$\\sum (y-\\bar y)^2$$"
   ]
  },
  {
   "cell_type": "markdown",
   "id": "2e2b12a4",
   "metadata": {},
   "source": [
    "**SSE** _(Sum of squared error)_:- \n",
    "\n",
    "### $$\\sum (y-\\hat y)^2$$"
   ]
  },
  {
   "cell_type": "markdown",
   "id": "7a3cc42f",
   "metadata": {},
   "source": [
    "**SSR** _(Sum of squared due to Regression)_:- \n",
    "\n",
    "### $$\\sum (\\hat y-\\bar y)^2$$"
   ]
  },
  {
   "cell_type": "markdown",
   "id": "c8504732",
   "metadata": {},
   "source": [
    "**Regression Error** describes your model perfomance. So in perecentatge it is descriibed as:-\n",
    "\n",
    "### $$R^2 = 1- \\frac{SSE}{SSR} =  \\frac{SST - SSE}{SST} = \\frac{SSR}{SST} = \\frac{\\sum{(\\hat y - \\bar y)^2}}{\\sum{(y - \\bar y)^2}}$$"
   ]
  },
  {
   "cell_type": "markdown",
   "id": "41558cf1",
   "metadata": {},
   "source": [
    "**Closer to 1**: Better the Model, **Closer to 0**: Worst the Model "
   ]
  }
 ],
 "metadata": {
  "kernelspec": {
   "display_name": "Python 3 (ipykernel)",
   "language": "python",
   "name": "python3"
  },
  "language_info": {
   "codemirror_mode": {
    "name": "ipython",
    "version": 3
   },
   "file_extension": ".py",
   "mimetype": "text/x-python",
   "name": "python",
   "nbconvert_exporter": "python",
   "pygments_lexer": "ipython3",
   "version": "3.9.12"
  },
  "varInspector": {
   "cols": {
    "lenName": 16,
    "lenType": 16,
    "lenVar": 40
   },
   "kernels_config": {
    "python": {
     "delete_cmd_postfix": "",
     "delete_cmd_prefix": "del ",
     "library": "var_list.py",
     "varRefreshCmd": "print(var_dic_list())"
    },
    "r": {
     "delete_cmd_postfix": ") ",
     "delete_cmd_prefix": "rm(",
     "library": "var_list.r",
     "varRefreshCmd": "cat(var_dic_list()) "
    }
   },
   "types_to_exclude": [
    "module",
    "function",
    "builtin_function_or_method",
    "instance",
    "_Feature"
   ],
   "window_display": false
  }
 },
 "nbformat": 4,
 "nbformat_minor": 5
}
