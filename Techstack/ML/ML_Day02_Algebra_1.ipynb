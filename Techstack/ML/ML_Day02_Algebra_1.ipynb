{
 "cells": [
  {
   "cell_type": "markdown",
   "id": "5b56de6d",
   "metadata": {},
   "source": [
    "# Algebra"
   ]
  },
  {
   "cell_type": "code",
   "execution_count": 1,
   "id": "5a9ba034",
   "metadata": {},
   "outputs": [],
   "source": [
    "import matplotlib.pyplot as plt"
   ]
  },
  {
   "cell_type": "markdown",
   "id": "f418c4b6",
   "metadata": {},
   "source": [
    "In forecasting, we are creating a pattern generally using Line Equation"
   ]
  },
  {
   "cell_type": "markdown",
   "id": "d7f50798",
   "metadata": {},
   "source": [
    "#### Line Equation:-\n",
    "\n",
    "### $$y = mx + c$$\n",
    "\n",
    "\n",
    "m = slope = $\\frac{\\text{change in y}}{\\text {changes in x}}$ \n",
    "\n",
    "c = Intercept, _where the line intercepts y_"
   ]
  },
  {
   "cell_type": "markdown",
   "id": "566d6952",
   "metadata": {},
   "source": [
    "### In ML"
   ]
  },
  {
   "cell_type": "markdown",
   "id": "869623f6",
   "metadata": {},
   "source": [
    "**Line Equation** represented in **ML**:-"
   ]
  },
  {
   "cell_type": "markdown",
   "id": "25706b70",
   "metadata": {},
   "source": [
    "### $$\\hat y = \\beta_o + \\beta_1x$$"
   ]
  },
  {
   "cell_type": "markdown",
   "id": "48f78a71",
   "metadata": {},
   "source": [
    "$\\beta_o$ is Intercept constraint (where line intercepts y-axis).\n",
    "\n",
    "$\\beta_1$ is $x$ Co-efficient.\n",
    "\n",
    "$\\hat y$ is predicted value."
   ]
  },
  {
   "cell_type": "code",
   "execution_count": 28,
   "id": "741286e1",
   "metadata": {},
   "outputs": [
    {
     "data": {
      "image/png": "[encoded data removed]",
      "text/plain": [
       "<Figure size 640x480 with 1 Axes>"
      ]
     },
     "metadata": {},
     "output_type": "display_data"
    }
   ],
   "source": [
    "fig, ax = plt.subplots()\n",
    "\n",
    "clicks = [x for x in range(-5,10)]\n",
    "conv = [(2*x + 5) for x in clicks]\n",
    "plt.plot(clicks,conv)\n",
    "\n",
    "ax.set_xlim(-25,25)\n",
    "ax.set_ylim(-25,25)\n",
    "\n",
    "ax.axhline(0,color=\"Black\",linestyle=\"--\")\n",
    "ax.axvline(0,color=\"Black\",linestyle=\"--\")\n",
    "\n",
    "plt.title(\"Line Plot\")\n",
    "plt.grid()\n",
    "plt.show()"
   ]
  },
  {
   "cell_type": "markdown",
   "id": "b350d4cd",
   "metadata": {},
   "source": [
    "Online TV Sales:-\n",
    "\n",
    "### $$500 = 50 + 2x_1 + 3x_2 + 5x_3$$"
   ]
  },
  {
   "cell_type": "markdown",
   "id": "b30520e9",
   "metadata": {},
   "source": [
    "#### Factors responsible:-\n",
    "\n",
    "$x_1$ is TV spend\n",
    "\n",
    "$x_2$ is Online spend\n",
    "\n",
    "$x_3$ is Print spend\n"
   ]
  },
  {
   "cell_type": "markdown",
   "id": "92fcd29c",
   "metadata": {},
   "source": [
    "$\\beta_1$ Coefficient describe how much a value of $x_1$ is responsible for sales increase"
   ]
  }
 ],
 "metadata": {
  "kernelspec": {
   "display_name": "Python 3.9.15 ('base')",
   "language": "python",
   "name": "python3"
  },
  "language_info": {
   "codemirror_mode": {
    "name": "ipython",
    "version": 3
   },
   "file_extension": ".py",
   "mimetype": "text/x-python",
   "name": "python",
   "nbconvert_exporter": "python",
   "pygments_lexer": "ipython3",
   "version": "3.9.15"
  },
  "varInspector": {
   "cols": {
    "lenName": 16,
    "lenType": 16,
    "lenVar": 40
   },
   "kernels_config": {
    "python": {
     "delete_cmd_postfix": "",
     "delete_cmd_prefix": "del ",
     "library": "var_list.py",
     "varRefreshCmd": "print(var_dic_list())"
    },
    "r": {
     "delete_cmd_postfix": ") ",
     "delete_cmd_prefix": "rm(",
     "library": "var_list.r",
     "varRefreshCmd": "cat(var_dic_list()) "
    }
   },
   "types_to_exclude": [
    "module",
    "function",
    "builtin_function_or_method",
    "instance",
    "_Feature"
   ],
   "window_display": false
  },
  "vscode": {
   "interpreter": {
    "hash": "757053eaf0655596af139d123df37fb4079df03a43161b6a79909863304398bf"
   }
  }
 },
 "nbformat": 4,
 "nbformat_minor": 5
}
