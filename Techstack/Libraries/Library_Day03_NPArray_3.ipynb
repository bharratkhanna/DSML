{
 "cells": [
  {
   "cell_type": "code",
   "execution_count": 4,
   "id": "5df56fcd",
   "metadata": {},
   "outputs": [],
   "source": [
    "import numpy as np"
   ]
  },
  {
   "cell_type": "code",
   "execution_count": 5,
   "id": "cc7f8988",
   "metadata": {},
   "outputs": [
    {
     "data": {
      "text/plain": [
       "array([[11, 13, 15, 12],\n",
       "       [23, 13, 10, 20],\n",
       "       [22, 19, 13, 20],\n",
       "       [16, 19, 16, 10]])"
      ]
     },
     "execution_count": 5,
     "metadata": {},
     "output_type": "execute_result"
    }
   ],
   "source": [
    "newArr = np.random.randint(10,25,size = (4,4))\n",
    "newArr"
   ]
  },
  {
   "cell_type": "code",
   "execution_count": 6,
   "id": "9d593621",
   "metadata": {},
   "outputs": [
    {
     "data": {
      "text/plain": [
       "array([[13, 20],\n",
       "       [16, 10]])"
      ]
     },
     "execution_count": 6,
     "metadata": {},
     "output_type": "execute_result"
    }
   ],
   "source": [
    "# copy\n",
    "x_new = newArr[2:4,2:4].copy() # creates new location for x_new\n",
    "x_new"
   ]
  },
  {
   "cell_type": "code",
   "execution_count": 7,
   "id": "e15a45ca",
   "metadata": {},
   "outputs": [
    {
     "name": "stdout",
     "output_type": "stream",
     "text": [
      "X_New: 140252608972336\n",
      "X_New1 140252608972336\n",
      "newArr: 140252608972048\n"
     ]
    }
   ],
   "source": [
    "x_new1 = x_new\n",
    "print(\"X_New:\",id(x_new))\n",
    "print(\"X_New1\",id(x_new1))\n",
    "print(\"newArr:\",id(newArr))"
   ]
  },
  {
   "cell_type": "markdown",
   "id": "edb9e049",
   "metadata": {},
   "source": [
    "### Vstack & Hstack"
   ]
  },
  {
   "cell_type": "code",
   "execution_count": 8,
   "id": "b5d17936",
   "metadata": {},
   "outputs": [],
   "source": [
    "# New nnd arrays can be created\n",
    "# vstack() -> vertical stack, rows will be increased, NO OF COLUMNS SHOULD BE SAME\n",
    "# hstack() -> horizontal stack, one beside another,columns will be increased, NO OF ROWS SHOULD BE SAME\n",
    "# vstack and hstack works for 3 dimensional array only"
   ]
  },
  {
   "cell_type": "code",
   "execution_count": 9,
   "id": "02938b1b",
   "metadata": {},
   "outputs": [
    {
     "name": "stdout",
     "output_type": "stream",
     "text": [
      "[[1 2 3]\n",
      " [4 5 6]]\n",
      "[[ 8  9 10]\n",
      " [11 12 13]]\n"
     ]
    }
   ],
   "source": [
    "arr1 = np.array([[1,2,3],[4,5,6]])\n",
    "arr2 = np.array([[8,9,10], [11,12,13]])\n",
    "print(arr1)\n",
    "print(arr2)"
   ]
  },
  {
   "cell_type": "code",
   "execution_count": 10,
   "id": "960fb067",
   "metadata": {},
   "outputs": [
    {
     "data": {
      "text/plain": [
       "array([[ 1,  2,  3],\n",
       "       [ 4,  5,  6],\n",
       "       [ 8,  9, 10],\n",
       "       [11, 12, 13]])"
      ]
     },
     "execution_count": 10,
     "metadata": {},
     "output_type": "execute_result"
    }
   ],
   "source": [
    "vs = np.vstack([arr1,arr2])\n",
    "vs"
   ]
  },
  {
   "cell_type": "code",
   "execution_count": 11,
   "id": "462356fb",
   "metadata": {},
   "outputs": [
    {
     "data": {
      "text/plain": [
       "array([[ 1,  2,  3,  8,  9, 10],\n",
       "       [ 4,  5,  6, 11, 12, 13]])"
      ]
     },
     "execution_count": 11,
     "metadata": {},
     "output_type": "execute_result"
    }
   ],
   "source": [
    "hs = np.hstack([arr1,arr2])\n",
    "hs"
   ]
  },
  {
   "cell_type": "markdown",
   "id": "13b9a905",
   "metadata": {},
   "source": [
    "### Concatenate"
   ]
  },
  {
   "cell_type": "code",
   "execution_count": 12,
   "id": "ecc1e48c",
   "metadata": {},
   "outputs": [],
   "source": [
    "# concatenate - take a sequence (tuple,list) and join them along with axis\n",
    "# unlike vstack and hstack it works forks for ndimension\n",
    "# rows = 0, columns = 1 in concatenate axis"
   ]
  },
  {
   "cell_type": "code",
   "execution_count": 13,
   "id": "573e0b40",
   "metadata": {},
   "outputs": [
    {
     "data": {
      "text/plain": [
       "array([[ 1,  2,  3],\n",
       "       [ 4,  5,  6],\n",
       "       [ 8,  9, 10],\n",
       "       [11, 12, 13]])"
      ]
     },
     "execution_count": 13,
     "metadata": {},
     "output_type": "execute_result"
    }
   ],
   "source": [
    "rowWiseConcat = np.concatenate([arr1,arr2], axis = 0) #works as vstack \n",
    "rowWiseConcat"
   ]
  },
  {
   "cell_type": "code",
   "execution_count": 14,
   "id": "977b47d9",
   "metadata": {},
   "outputs": [
    {
     "data": {
      "text/plain": [
       "array([[ 1,  2,  3,  8,  9, 10],\n",
       "       [ 4,  5,  6, 11, 12, 13]])"
      ]
     },
     "execution_count": 14,
     "metadata": {},
     "output_type": "execute_result"
    }
   ],
   "source": [
    "colWiseConcat = np.concatenate([arr1,arr2], axis = 1) #works as hstack\n",
    "colWiseConcat"
   ]
  },
  {
   "cell_type": "code",
   "execution_count": 15,
   "id": "870cd98f",
   "metadata": {},
   "outputs": [],
   "source": [
    "arr3 = np.array([[11,12,13],[14,15,16], [17,18,19]])\n",
    "arr4 = np.array([[14,15],[17,18]])\n",
    "arr6 = np.array([[14,15],[16,17],[18,19]])"
   ]
  },
  {
   "cell_type": "code",
   "execution_count": 16,
   "id": "f06b6ba4",
   "metadata": {},
   "outputs": [
    {
     "name": "stdout",
     "output_type": "stream",
     "text": [
      "Arr1:\n",
      " [[1 2 3]\n",
      " [4 5 6]]\n",
      "Shape: (2, 3)\n",
      "\n",
      "Arr3:\n",
      " [[11 12 13]\n",
      " [14 15 16]\n",
      " [17 18 19]]\n",
      "Shape: (3, 3)\n",
      "\n",
      "Arr4:\n",
      " [[14 15]\n",
      " [17 18]]\n",
      "Shape: (2, 2)\n",
      "\n",
      "Arr6:\n",
      " [[14 15]\n",
      " [16 17]\n",
      " [18 19]]\n",
      "Shape: (3, 2)\n"
     ]
    }
   ],
   "source": [
    "print(\"Arr1:\\n\",arr1)\n",
    "print(\"Shape:\",arr1.shape)\n",
    "print(\"\\nArr3:\\n\",arr3)\n",
    "print(\"Shape:\",arr3.shape)\n",
    "print(\"\\nArr4:\\n\",arr4)\n",
    "print(\"Shape:\",arr4.shape)\n",
    "print(\"\\nArr6:\\n\",arr6)\n",
    "print(\"Shape:\",arr6.shape)"
   ]
  },
  {
   "cell_type": "code",
   "execution_count": 17,
   "id": "a9f62f1a",
   "metadata": {},
   "outputs": [
    {
     "data": {
      "text/plain": [
       "array([[ 1,  2,  3],\n",
       "       [ 4,  5,  6],\n",
       "       [11, 12, 13],\n",
       "       [14, 15, 16],\n",
       "       [17, 18, 19]])"
      ]
     },
     "execution_count": 17,
     "metadata": {},
     "output_type": "execute_result"
    }
   ],
   "source": [
    "arr5 = np.vstack([arr1,arr3]) # no error becauuse no of columns are same\n",
    "arr5"
   ]
  },
  {
   "cell_type": "code",
   "execution_count": 18,
   "id": "269137d8",
   "metadata": {},
   "outputs": [
    {
     "ename": "ValueError",
     "evalue": "all the input array dimensions for the concatenation axis must match exactly, but along dimension 1, the array at index 0 has size 3 and the array at index 1 has size 2",
     "output_type": "error",
     "traceback": [
      "\u001b[0;31m---------------------------------------------------------------------------\u001b[0m",
      "\u001b[0;31mValueError\u001b[0m                                Traceback (most recent call last)",
      "Input \u001b[0;32mIn [18]\u001b[0m, in \u001b[0;36m<cell line: 1>\u001b[0;34m()\u001b[0m\n\u001b[0;32m----> 1\u001b[0m arr6 \u001b[38;5;241m=\u001b[39m \u001b[43mnp\u001b[49m\u001b[38;5;241;43m.\u001b[39;49m\u001b[43mvstack\u001b[49m\u001b[43m(\u001b[49m\u001b[43m[\u001b[49m\u001b[43marr3\u001b[49m\u001b[43m,\u001b[49m\u001b[43marr4\u001b[49m\u001b[43m]\u001b[49m\u001b[43m)\u001b[49m \u001b[38;5;66;03m#error because in vstack no of columns should be same\u001b[39;00m\n\u001b[1;32m      2\u001b[0m arr6\n",
      "File \u001b[0;32m<__array_function__ internals>:180\u001b[0m, in \u001b[0;36mvstack\u001b[0;34m(*args, **kwargs)\u001b[0m\n",
      "File \u001b[0;32m~/opt/anaconda3/lib/python3.9/site-packages/numpy/core/shape_base.py:282\u001b[0m, in \u001b[0;36mvstack\u001b[0;34m(tup)\u001b[0m\n\u001b[1;32m    280\u001b[0m \u001b[38;5;28;01mif\u001b[39;00m \u001b[38;5;129;01mnot\u001b[39;00m \u001b[38;5;28misinstance\u001b[39m(arrs, \u001b[38;5;28mlist\u001b[39m):\n\u001b[1;32m    281\u001b[0m     arrs \u001b[38;5;241m=\u001b[39m [arrs]\n\u001b[0;32m--> 282\u001b[0m \u001b[38;5;28;01mreturn\u001b[39;00m \u001b[43m_nx\u001b[49m\u001b[38;5;241;43m.\u001b[39;49m\u001b[43mconcatenate\u001b[49m\u001b[43m(\u001b[49m\u001b[43marrs\u001b[49m\u001b[43m,\u001b[49m\u001b[43m \u001b[49m\u001b[38;5;241;43m0\u001b[39;49m\u001b[43m)\u001b[49m\n",
      "File \u001b[0;32m<__array_function__ internals>:180\u001b[0m, in \u001b[0;36mconcatenate\u001b[0;34m(*args, **kwargs)\u001b[0m\n",
      "\u001b[0;31mValueError\u001b[0m: all the input array dimensions for the concatenation axis must match exactly, but along dimension 1, the array at index 0 has size 3 and the array at index 1 has size 2"
     ]
    }
   ],
   "source": [
    "arr6 = np.vstack([arr3,arr4]) #error because in vstack no of columns should be same\n",
    "arr6"
   ]
  },
  {
   "cell_type": "code",
   "execution_count": 24,
   "id": "b4809121",
   "metadata": {},
   "outputs": [
    {
     "data": {
      "text/plain": [
       "array([[11, 12, 13, 14, 15],\n",
       "       [14, 15, 16, 16, 17],\n",
       "       [17, 18, 19, 18, 19]])"
      ]
     },
     "execution_count": 24,
     "metadata": {},
     "output_type": "execute_result"
    }
   ],
   "source": [
    "arr7 = np.hstack([arr3,arr6]) #no error because in sstack no of rows should be same, and here it is\n",
    "arr7"
   ]
  },
  {
   "cell_type": "code",
   "execution_count": 23,
   "id": "c31ab235",
   "metadata": {},
   "outputs": [
    {
     "data": {
      "text/plain": [
       "[array([0, 1, 2]), array([3, 4, 5]), array([6, 7, 8])]"
      ]
     },
     "execution_count": 23,
     "metadata": {},
     "output_type": "execute_result"
    }
   ],
   "source": [
    "a = np.arange(9) \n",
    "np.split(a,3) # works only if 3 is factor of 9 or mentioned value is factor of total no opf elemnts"
   ]
  },
  {
   "cell_type": "code",
   "execution_count": null,
   "id": "ff9cf87b",
   "metadata": {},
   "outputs": [],
   "source": [
    "# casting - we can convert data type into anothere data type"
   ]
  },
  {
   "cell_type": "code",
   "execution_count": 22,
   "id": "752bcae2",
   "metadata": {},
   "outputs": [
    {
     "name": "stdout",
     "output_type": "stream",
     "text": [
      "int64\n"
     ]
    }
   ],
   "source": [
    "arr8 = np.array([[1,2,3],[4,5,6]])\n",
    "print(arr8.dtype)"
   ]
  },
  {
   "cell_type": "code",
   "execution_count": 25,
   "id": "16725522",
   "metadata": {},
   "outputs": [
    {
     "name": "stdout",
     "output_type": "stream",
     "text": [
      "float64\n"
     ]
    }
   ],
   "source": [
    "# astype() - we can cast to another dtype\n",
    "\n",
    "arr9 = arr8.astype(np.float64)\n",
    "print(arr9.dtype)"
   ]
  },
  {
   "cell_type": "code",
   "execution_count": 20,
   "id": "082cc7a9",
   "metadata": {},
   "outputs": [
    {
     "data": {
      "text/plain": [
       "array([[11, 12, 13],\n",
       "       [14, 15, 16],\n",
       "       [17, 18, 19]])"
      ]
     },
     "execution_count": 20,
     "metadata": {},
     "output_type": "execute_result"
    }
   ],
   "source": [
    "arr3"
   ]
  },
  {
   "cell_type": "code",
   "execution_count": 19,
   "id": "4ffdbbd2",
   "metadata": {},
   "outputs": [
    {
     "data": {
      "text/plain": [
       "array([13, 15, 17])"
      ]
     },
     "execution_count": 19,
     "metadata": {},
     "output_type": "execute_result"
    }
   ],
   "source": [
    "np.diag(np.rot90(arr3))"
   ]
  },
  {
   "cell_type": "code",
   "execution_count": null,
   "id": "97f18be5",
   "metadata": {},
   "outputs": [],
   "source": [
    "# ndim - It displays dimension of an array\n",
    "\n",
    "arr3.ndim"
   ]
  }
 ],
 "metadata": {
  "kernelspec": {
   "display_name": "Python 3 (ipykernel)",
   "language": "python",
   "name": "python3"
  },
  "language_info": {
   "codemirror_mode": {
    "name": "ipython",
    "version": 3
   },
   "file_extension": ".py",
   "mimetype": "text/x-python",
   "name": "python",
   "nbconvert_exporter": "python",
   "pygments_lexer": "ipython3",
   "version": "3.9.12"
  },
  "varInspector": {
   "cols": {
    "lenName": 16,
    "lenType": 16,
    "lenVar": 40
   },
   "kernels_config": {
    "python": {
     "delete_cmd_postfix": "",
     "delete_cmd_prefix": "del ",
     "library": "var_list.py",
     "varRefreshCmd": "print(var_dic_list())"
    },
    "r": {
     "delete_cmd_postfix": ") ",
     "delete_cmd_prefix": "rm(",
     "library": "var_list.r",
     "varRefreshCmd": "cat(var_dic_list()) "
    }
   },
   "types_to_exclude": [
    "module",
    "function",
    "builtin_function_or_method",
    "instance",
    "_Feature"
   ],
   "window_display": false
  }
 },
 "nbformat": 4,
 "nbformat_minor": 5
}
