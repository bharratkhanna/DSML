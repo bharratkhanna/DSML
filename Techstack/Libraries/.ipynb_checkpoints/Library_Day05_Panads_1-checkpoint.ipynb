{
 "cells": [
  {
   "cell_type": "markdown",
   "id": "62d3f689",
   "metadata": {},
   "source": [
    "# Pandas"
   ]
  },
  {
   "cell_type": "code",
   "execution_count": 1,
   "id": "b1413e1c",
   "metadata": {},
   "outputs": [],
   "source": [
    "# Single column is series\n",
    "# More than one column Data Frame"
   ]
  },
  {
   "cell_type": "code",
   "execution_count": 1,
   "id": "b5f5b211",
   "metadata": {},
   "outputs": [],
   "source": [
    "import pandas as pd"
   ]
  },
  {
   "cell_type": "code",
   "execution_count": 4,
   "id": "fba3d91d",
   "metadata": {},
   "outputs": [],
   "source": [
    "arr1 = np.random.randint(20,40,10)"
   ]
  },
  {
   "cell_type": "code",
   "execution_count": 5,
   "id": "4d0eedbc",
   "metadata": {},
   "outputs": [
    {
     "name": "stdout",
     "output_type": "stream",
     "text": [
      "[29 22 34 23 35 33 25 33 27 29]\n"
     ]
    }
   ],
   "source": [
    "print(arr1)"
   ]
  },
  {
   "cell_type": "code",
   "execution_count": 6,
   "id": "99c77a45",
   "metadata": {},
   "outputs": [],
   "source": [
    "#Series-pandas Series object can be created using pd.series()"
   ]
  },
  {
   "cell_type": "code",
   "execution_count": 7,
   "id": "1f2d3f0f",
   "metadata": {},
   "outputs": [],
   "source": [
    "mySer=pd.Series(arr1)"
   ]
  },
  {
   "cell_type": "code",
   "execution_count": 8,
   "id": "ac9972c6",
   "metadata": {},
   "outputs": [
    {
     "data": {
      "text/plain": [
       "0    29\n",
       "1    22\n",
       "2    34\n",
       "3    23\n",
       "4    35\n",
       "5    33\n",
       "6    25\n",
       "7    33\n",
       "8    27\n",
       "9    29\n",
       "dtype: int64"
      ]
     },
     "execution_count": 8,
     "metadata": {},
     "output_type": "execute_result"
    }
   ],
   "source": [
    "mySer"
   ]
  },
  {
   "cell_type": "code",
   "execution_count": 9,
   "id": "235a037c",
   "metadata": {},
   "outputs": [
    {
     "data": {
      "text/plain": [
       "pandas.core.series.Series"
      ]
     },
     "execution_count": 9,
     "metadata": {},
     "output_type": "execute_result"
    }
   ],
   "source": [
    "type (mySer)"
   ]
  },
  {
   "cell_type": "code",
   "execution_count": 10,
   "id": "e0c12dbe",
   "metadata": {},
   "outputs": [],
   "source": [
    "myList=[12,45,67,89,90]"
   ]
  },
  {
   "cell_type": "code",
   "execution_count": 12,
   "id": "8d8d104e",
   "metadata": {},
   "outputs": [
    {
     "data": {
      "text/plain": [
       "0    12\n",
       "1    45\n",
       "2    67\n",
       "3    89\n",
       "4    90\n",
       "dtype: int64"
      ]
     },
     "execution_count": 12,
     "metadata": {},
     "output_type": "execute_result"
    }
   ],
   "source": [
    "mySer1=pd.Series(myList)\n",
    "mySer1"
   ]
  },
  {
   "cell_type": "code",
   "execution_count": 14,
   "id": "1e644a84",
   "metadata": {},
   "outputs": [],
   "source": [
    "myTuple=(12,45, \"Apple\", \"Banana\", 89)"
   ]
  },
  {
   "cell_type": "code",
   "execution_count": 15,
   "id": "becd08aa",
   "metadata": {},
   "outputs": [
    {
     "data": {
      "text/plain": [
       "0        12\n",
       "1        45\n",
       "2     Apple\n",
       "3    Banana\n",
       "4        89\n",
       "dtype: object"
      ]
     },
     "execution_count": 15,
     "metadata": {},
     "output_type": "execute_result"
    }
   ],
   "source": [
    "mySer2 = pd.Series(myTuple)\n",
    "mySer2"
   ]
  },
  {
   "cell_type": "code",
   "execution_count": 16,
   "id": "529deea3",
   "metadata": {},
   "outputs": [],
   "source": [
    "myDic={\"Name\": \"Mayank\", \"Salary\":50000, \"Age\": 25}"
   ]
  },
  {
   "cell_type": "code",
   "execution_count": 17,
   "id": "39c25ca2",
   "metadata": {},
   "outputs": [
    {
     "data": {
      "text/plain": [
       "Name      Mayank\n",
       "Salary     50000\n",
       "Age           25\n",
       "dtype: object"
      ]
     },
     "execution_count": 17,
     "metadata": {},
     "output_type": "execute_result"
    }
   ],
   "source": [
    "mySer3 = pd.Series(myDic)\n",
    "mySer3"
   ]
  },
  {
   "cell_type": "code",
   "execution_count": null,
   "id": "9da8dc44",
   "metadata": {},
   "outputs": [],
   "source": []
  }
 ],
 "metadata": {
  "kernelspec": {
   "display_name": "Python 3 (ipykernel)",
   "language": "python",
   "name": "python3"
  },
  "language_info": {
   "codemirror_mode": {
    "name": "ipython",
    "version": 3
   },
   "file_extension": ".py",
   "mimetype": "text/x-python",
   "name": "python",
   "nbconvert_exporter": "python",
   "pygments_lexer": "ipython3",
   "version": "3.9.12"
  },
  "varInspector": {
   "cols": {
    "lenName": 16,
    "lenType": 16,
    "lenVar": 40
   },
   "kernels_config": {
    "python": {
     "delete_cmd_postfix": "",
     "delete_cmd_prefix": "del ",
     "library": "var_list.py",
     "varRefreshCmd": "print(var_dic_list())"
    },
    "r": {
     "delete_cmd_postfix": ") ",
     "delete_cmd_prefix": "rm(",
     "library": "var_list.r",
     "varRefreshCmd": "cat(var_dic_list()) "
    }
   },
   "types_to_exclude": [
    "module",
    "function",
    "builtin_function_or_method",
    "instance",
    "_Feature"
   ],
   "window_display": false
  }
 },
 "nbformat": 4,
 "nbformat_minor": 5
}
