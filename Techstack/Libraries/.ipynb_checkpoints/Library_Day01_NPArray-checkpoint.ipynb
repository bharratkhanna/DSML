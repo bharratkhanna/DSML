{
 "cells": [
  {
   "cell_type": "markdown",
   "id": "db34a743",
   "metadata": {},
   "source": [
    "# Numpy"
   ]
  },
  {
   "cell_type": "code",
   "execution_count": 2,
   "id": "10047189",
   "metadata": {},
   "outputs": [],
   "source": [
    "# Numpy Array:- \n",
    "\n",
    "# It stands for Numerical Python. It is a python Library used for working with an array.\n",
    "# In Python we use the List for purpose of array. But it is slow to process.\n",
    "# Numpy array is powerful N-dimensional array. It provides array obiect which is much fast than List.\n",
    "# Numpy array has a fixed type.\n",
    "\n",
    "# Types of arrays-\n",
    "\n",
    "# One dimensional array\n",
    "# Multi dimensional array"
   ]
  },
  {
   "cell_type": "code",
   "execution_count": 3,
   "id": "0de1eca2",
   "metadata": {},
   "outputs": [],
   "source": [
    "Age1 = [23,34,45,56,67]\n",
    "Age2 = [12,24,56,67,34]"
   ]
  },
  {
   "cell_type": "code",
   "execution_count": 4,
   "id": "de530d7a",
   "metadata": {},
   "outputs": [],
   "source": [
    "Age3 = [22,24,46,67,34]"
   ]
  },
  {
   "cell_type": "code",
   "execution_count": 5,
   "id": "7fc59773",
   "metadata": {},
   "outputs": [
    {
     "data": {
      "text/plain": [
       "[23, 34, 45, 56, 67, 12, 24, 56, 67, 34]"
      ]
     },
     "execution_count": 5,
     "metadata": {},
     "output_type": "execute_result"
    }
   ],
   "source": [
    "Age1 + Age2 # concatenates "
   ]
  },
  {
   "cell_type": "code",
   "execution_count": 6,
   "id": "01c49136",
   "metadata": {},
   "outputs": [
    {
     "data": {
      "text/plain": [
       "[35, 58, 101, 123, 101]"
      ]
     },
     "execution_count": 6,
     "metadata": {},
     "output_type": "execute_result"
    }
   ],
   "source": [
    "sumage = [x + y for x,y in zip(Age1,Age2)] # addition for list is in this way\n",
    "sumage"
   ]
  },
  {
   "cell_type": "code",
   "execution_count": 7,
   "id": "0a285a56",
   "metadata": {},
   "outputs": [],
   "source": [
    "# Way of creating Numpy Arrays\n",
    "# 1.NumpyArray()- Numpyy Array is created uusing numpy.array()\n",
    "# The numpy array object in numpy are called as ndarray (n dimesnsional array)\n",
    "\n",
    "# Syntax-\n",
    "# numpy.array(parameter)"
   ]
  },
  {
   "cell_type": "markdown",
   "id": "63d66a81",
   "metadata": {},
   "source": [
    "## Array"
   ]
  },
  {
   "cell_type": "code",
   "execution_count": 8,
   "id": "341ae404",
   "metadata": {},
   "outputs": [],
   "source": [
    "# import library\n",
    "import numpy as np "
   ]
  },
  {
   "cell_type": "code",
   "execution_count": 9,
   "id": "b0fc5b9d",
   "metadata": {},
   "outputs": [
    {
     "data": {
      "text/plain": [
       "array([23, 34, 45, 56, 67])"
      ]
     },
     "execution_count": 9,
     "metadata": {},
     "output_type": "execute_result"
    }
   ],
   "source": [
    "# create nuumpy array by passing list and array values are returned\n",
    "np.array(Age1) "
   ]
  },
  {
   "cell_type": "code",
   "execution_count": 10,
   "id": "01dcb3be",
   "metadata": {},
   "outputs": [
    {
     "data": {
      "text/plain": [
       "array([12, 24, 56, 67, 34])"
      ]
     },
     "execution_count": 10,
     "metadata": {},
     "output_type": "execute_result"
    }
   ],
   "source": [
    "np.array(Age2)"
   ]
  },
  {
   "cell_type": "code",
   "execution_count": 11,
   "id": "d54f5209",
   "metadata": {},
   "outputs": [],
   "source": [
    "arr1 = np.array(Age3)"
   ]
  },
  {
   "cell_type": "code",
   "execution_count": 12,
   "id": "6921f846",
   "metadata": {},
   "outputs": [
    {
     "data": {
      "text/plain": [
       "numpy.ndarray"
      ]
     },
     "execution_count": 12,
     "metadata": {},
     "output_type": "execute_result"
    }
   ],
   "source": [
    "type(arr1) # Numpy Array with n dimensions "
   ]
  },
  {
   "cell_type": "code",
   "execution_count": 13,
   "id": "4c810318",
   "metadata": {},
   "outputs": [
    {
     "data": {
      "text/plain": [
       "array([22, 24, 46, 67, 34])"
      ]
     },
     "execution_count": 13,
     "metadata": {},
     "output_type": "execute_result"
    }
   ],
   "source": [
    "arr1"
   ]
  },
  {
   "cell_type": "code",
   "execution_count": 14,
   "id": "c459c074",
   "metadata": {},
   "outputs": [],
   "source": [
    "arr2 = np.array([12,45,67,89,90])"
   ]
  },
  {
   "cell_type": "code",
   "execution_count": 15,
   "id": "e50fcd04",
   "metadata": {},
   "outputs": [],
   "source": [
    "arr3 = np.array((12,56,78,92,21))"
   ]
  },
  {
   "cell_type": "code",
   "execution_count": 16,
   "id": "9582465f",
   "metadata": {},
   "outputs": [],
   "source": [
    "arr4 = np.array({\"Ram\" : 21, \"Shyam\" : 25})"
   ]
  },
  {
   "cell_type": "code",
   "execution_count": 17,
   "id": "054e70dd",
   "metadata": {},
   "outputs": [
    {
     "data": {
      "text/plain": [
       "array({'Ram': 21, 'Shyam': 25}, dtype=object)"
      ]
     },
     "execution_count": 17,
     "metadata": {},
     "output_type": "execute_result"
    }
   ],
   "source": [
    "arr4 # Object for Dictionary"
   ]
  },
  {
   "cell_type": "code",
   "execution_count": 18,
   "id": "a92298f7",
   "metadata": {},
   "outputs": [],
   "source": [
    "arr5 = np.array([\"Apple\",\"Banana\",\"Papaya\",\"Cucumber\"])"
   ]
  },
  {
   "cell_type": "code",
   "execution_count": 31,
   "id": "a8f8f972",
   "metadata": {},
   "outputs": [
    {
     "data": {
      "text/plain": [
       "array(['Apple', 'Banana', 'Papaya', 'Cucumber'], dtype='<U8')"
      ]
     },
     "execution_count": 31,
     "metadata": {},
     "output_type": "execute_result"
    }
   ],
   "source": [
    "arr5 # String: Unicode 8"
   ]
  },
  {
   "cell_type": "code",
   "execution_count": 32,
   "id": "7bef72b7",
   "metadata": {},
   "outputs": [
    {
     "data": {
      "text/plain": [
       "'Apple'"
      ]
     },
     "execution_count": 32,
     "metadata": {},
     "output_type": "execute_result"
    }
   ],
   "source": [
    "arr5[0]"
   ]
  },
  {
   "cell_type": "code",
   "execution_count": 20,
   "id": "2f708de2",
   "metadata": {},
   "outputs": [],
   "source": [
    "arr6 = np.array([12,34,\"Tiger\",\"Lion\",56])"
   ]
  },
  {
   "cell_type": "code",
   "execution_count": 21,
   "id": "97f9ad67",
   "metadata": {},
   "outputs": [
    {
     "data": {
      "text/plain": [
       "array(['12', '34', 'Tiger', 'Lion', '56'], dtype='<U21')"
      ]
     },
     "execution_count": 21,
     "metadata": {},
     "output_type": "execute_result"
    }
   ],
   "source": [
    "arr6 # Unicode 21 for integers and string"
   ]
  },
  {
   "cell_type": "code",
   "execution_count": 22,
   "id": "84272031",
   "metadata": {},
   "outputs": [],
   "source": [
    "arr7 = np.array([Age1,Age2])"
   ]
  },
  {
   "cell_type": "code",
   "execution_count": 23,
   "id": "38c24a42",
   "metadata": {},
   "outputs": [
    {
     "data": {
      "text/plain": [
       "array([[23, 34, 45, 56, 67],\n",
       "       [12, 24, 56, 67, 34]])"
      ]
     },
     "execution_count": 23,
     "metadata": {},
     "output_type": "execute_result"
    }
   ],
   "source": [
    "arr7 # 2 Dimension List"
   ]
  },
  {
   "cell_type": "code",
   "execution_count": 24,
   "id": "82f19bc6",
   "metadata": {},
   "outputs": [],
   "source": [
    "arr8 = np.array([Age1,Age2,Age3])"
   ]
  },
  {
   "cell_type": "code",
   "execution_count": 25,
   "id": "a43877a7",
   "metadata": {},
   "outputs": [
    {
     "data": {
      "text/plain": [
       "array([[23, 34, 45, 56, 67],\n",
       "       [12, 24, 56, 67, 34],\n",
       "       [22, 24, 46, 67, 34]])"
      ]
     },
     "execution_count": 25,
     "metadata": {},
     "output_type": "execute_result"
    }
   ],
   "source": [
    "arr8 # 3 dimension List"
   ]
  },
  {
   "cell_type": "code",
   "execution_count": 33,
   "id": "3c9e41c2",
   "metadata": {},
   "outputs": [],
   "source": [
    "# random.randint -Randomly generates integer no (We pass range Range1,Range2,Size) - \n",
    "# If we don't pass Range1 it takes it 0 as default\n",
    "# size (rows,columns)\n",
    "\n",
    "arr8 = np.random.randint(5,10,size=(3,4))"
   ]
  },
  {
   "cell_type": "code",
   "execution_count": 34,
   "id": "df314530",
   "metadata": {},
   "outputs": [
    {
     "data": {
      "text/plain": [
       "array([[8, 5, 7, 5],\n",
       "       [9, 6, 6, 6],\n",
       "       [5, 8, 8, 9]])"
      ]
     },
     "execution_count": 34,
     "metadata": {},
     "output_type": "execute_result"
    }
   ],
   "source": [
    "arr8"
   ]
  },
  {
   "cell_type": "code",
   "execution_count": 28,
   "id": "76682f20",
   "metadata": {},
   "outputs": [
    {
     "name": "stdout",
     "output_type": "stream",
     "text": [
      "Shape of the array:  (3, 4)\n"
     ]
    }
   ],
   "source": [
    "# shape - It is a attribute and returnns rows and columns\n",
    "\n",
    "print(\"Shape of the array: \",arr8.shape)"
   ]
  },
  {
   "cell_type": "code",
   "execution_count": 29,
   "id": "3381ac66",
   "metadata": {},
   "outputs": [
    {
     "name": "stdout",
     "output_type": "stream",
     "text": [
      "Type of object:  <class 'numpy.ndarray'>\n",
      "arr8- Data types of elements inside the object:  int64\n"
     ]
    }
   ],
   "source": [
    "# dtype - It tells data type of elements of the array\n",
    "\n",
    "print(\"Type of object: \",type(arr8))\n",
    "print(\"arr8- Data types of elements inside the object: \", arr8.dtype)"
   ]
  },
  {
   "cell_type": "code",
   "execution_count": 30,
   "id": "e13d41fb",
   "metadata": {},
   "outputs": [
    {
     "name": "stdout",
     "output_type": "stream",
     "text": [
      "arr6- Data types of elements inside the object:  <U21\n"
     ]
    }
   ],
   "source": [
    "print(\"arr6- Data types of elements inside the object: \", arr6.dtype)"
   ]
  }
 ],
 "metadata": {
  "kernelspec": {
   "display_name": "Python 3 (ipykernel)",
   "language": "python",
   "name": "python3"
  },
  "language_info": {
   "codemirror_mode": {
    "name": "ipython",
    "version": 3
   },
   "file_extension": ".py",
   "mimetype": "text/x-python",
   "name": "python",
   "nbconvert_exporter": "python",
   "pygments_lexer": "ipython3",
   "version": "3.9.12"
  },
  "varInspector": {
   "cols": {
    "lenName": 16,
    "lenType": 16,
    "lenVar": 40
   },
   "kernels_config": {
    "python": {
     "delete_cmd_postfix": "",
     "delete_cmd_prefix": "del ",
     "library": "var_list.py",
     "varRefreshCmd": "print(var_dic_list())"
    },
    "r": {
     "delete_cmd_postfix": ") ",
     "delete_cmd_prefix": "rm(",
     "library": "var_list.r",
     "varRefreshCmd": "cat(var_dic_list()) "
    }
   },
   "types_to_exclude": [
    "module",
    "function",
    "builtin_function_or_method",
    "instance",
    "_Feature"
   ],
   "window_display": false
  }
 },
 "nbformat": 4,
 "nbformat_minor": 5
}
