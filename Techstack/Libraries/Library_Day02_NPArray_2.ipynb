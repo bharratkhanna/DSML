{
 "cells": [
  {
   "cell_type": "code",
   "execution_count": 1,
   "id": "9d5d4825",
   "metadata": {},
   "outputs": [],
   "source": [
    "#randn - It generates random float number"
   ]
  },
  {
   "cell_type": "code",
   "execution_count": 3,
   "id": "f68ef624",
   "metadata": {},
   "outputs": [],
   "source": [
    "import numpy as np"
   ]
  },
  {
   "cell_type": "code",
   "execution_count": 73,
   "id": "8d9d9e47",
   "metadata": {},
   "outputs": [],
   "source": [
    "arr1 = np.random.randn(10)"
   ]
  },
  {
   "cell_type": "code",
   "execution_count": 74,
   "id": "5d079023",
   "metadata": {},
   "outputs": [
    {
     "data": {
      "text/plain": [
       "array([-0.63205782, -0.02978247,  0.45547652, -0.82464246, -0.04421276,\n",
       "       -1.35526928, -0.9746586 ,  2.30337124, -1.06800289,  0.23897763])"
      ]
     },
     "execution_count": 74,
     "metadata": {},
     "output_type": "execute_result"
    }
   ],
   "source": [
    "arr1"
   ]
  },
  {
   "cell_type": "code",
   "execution_count": 22,
   "id": "727ad936",
   "metadata": {},
   "outputs": [],
   "source": [
    "# numpy.arange() - it is an inbuilt function that returns evenlly spaced values, within a givin range.\n",
    "# Syntax: numpy.arange(start,stop,step)"
   ]
  },
  {
   "cell_type": "code",
   "execution_count": 29,
   "id": "41a6d543",
   "metadata": {},
   "outputs": [
    {
     "data": {
      "text/plain": [
       "array([10, 11, 12, 13, 14, 15, 16, 17, 18, 19])"
      ]
     },
     "execution_count": 29,
     "metadata": {},
     "output_type": "execute_result"
    }
   ],
   "source": [
    "arr2 = np.arange(10,20)\n",
    "arr2"
   ]
  },
  {
   "cell_type": "code",
   "execution_count": 30,
   "id": "0a3376f6",
   "metadata": {},
   "outputs": [
    {
     "data": {
      "text/plain": [
       "array([10, 12, 14, 16, 18])"
      ]
     },
     "execution_count": 30,
     "metadata": {},
     "output_type": "execute_result"
    }
   ],
   "source": [
    "arr3 = np.arange(10,20,2)\n",
    "arr3"
   ]
  },
  {
   "cell_type": "code",
   "execution_count": 31,
   "id": "61befa05",
   "metadata": {},
   "outputs": [],
   "source": [
    "# Other ways to create arrays\n",
    "# ones- to create arrays of one.\n",
    "# zeroes - to create arrays of zeros\n",
    "# eye - to create identity matrix  -> Idenntity matrix is matrix with diagonal 1\n",
    "# np.diag - to create diagonal matrix"
   ]
  },
  {
   "cell_type": "code",
   "execution_count": 32,
   "id": "1a0e6bff",
   "metadata": {},
   "outputs": [
    {
     "data": {
      "text/plain": [
       "array([1., 1., 1., 1., 1., 1., 1., 1., 1., 1.])"
      ]
     },
     "execution_count": 32,
     "metadata": {},
     "output_type": "execute_result"
    }
   ],
   "source": [
    "# ones\n",
    "arr4 = np.ones(10)\n",
    "arr4"
   ]
  },
  {
   "cell_type": "code",
   "execution_count": 35,
   "id": "fc1a8dfa",
   "metadata": {},
   "outputs": [
    {
     "data": {
      "text/plain": [
       "array([[0., 0., 0.],\n",
       "       [0., 0., 0.]])"
      ]
     },
     "execution_count": 35,
     "metadata": {},
     "output_type": "execute_result"
    }
   ],
   "source": [
    "arr5 = np.zeros((2,3))\n",
    "arr5"
   ]
  },
  {
   "cell_type": "code",
   "execution_count": 38,
   "id": "f44b1f5f",
   "metadata": {},
   "outputs": [
    {
     "data": {
      "text/plain": [
       "array([[1., 0., 0.],\n",
       "       [0., 1., 0.],\n",
       "       [0., 0., 1.]])"
      ]
     },
     "execution_count": 38,
     "metadata": {},
     "output_type": "execute_result"
    }
   ],
   "source": [
    "arr6 = np.eye(3,3)\n",
    "arr6"
   ]
  },
  {
   "cell_type": "code",
   "execution_count": 47,
   "id": "2caab711",
   "metadata": {},
   "outputs": [
    {
     "data": {
      "text/plain": [
       "array([[0., 1., 0.],\n",
       "       [0., 0., 1.],\n",
       "       [0., 0., 0.]])"
      ]
     },
     "execution_count": 47,
     "metadata": {},
     "output_type": "execute_result"
    }
   ],
   "source": [
    "arr7 = np.eye(3,3,1) # Move position by 1 to right\n",
    "arr7"
   ]
  },
  {
   "cell_type": "code",
   "execution_count": 50,
   "id": "cdc8a8e7",
   "metadata": {},
   "outputs": [
    {
     "data": {
      "text/plain": [
       "array([[5, 0, 0],\n",
       "       [0, 5, 0],\n",
       "       [0, 0, 5]])"
      ]
     },
     "execution_count": 50,
     "metadata": {},
     "output_type": "execute_result"
    }
   ],
   "source": [
    "arr8 = np.diag((5,5,5)) #nuum oof values you decide matrix size- here 3 5's means 3 X 3 matrix\n",
    "arr8"
   ]
  },
  {
   "cell_type": "code",
   "execution_count": 51,
   "id": "809739eb",
   "metadata": {},
   "outputs": [],
   "source": [
    "# Acessing Single Dimennsion Array\n",
    "# Indexing starts from 0 left to right annd it starts from -1 from right to left"
   ]
  },
  {
   "cell_type": "code",
   "execution_count": 53,
   "id": "6a983c14",
   "metadata": {},
   "outputs": [
    {
     "data": {
      "text/plain": [
       "array([0, 1, 2, 3, 4, 5, 6, 7, 8, 9])"
      ]
     },
     "execution_count": 53,
     "metadata": {},
     "output_type": "execute_result"
    }
   ],
   "source": [
    "newArr = np.arange(10)\n",
    "newArr"
   ]
  },
  {
   "cell_type": "code",
   "execution_count": 54,
   "id": "768d7dc1",
   "metadata": {},
   "outputs": [
    {
     "data": {
      "text/plain": [
       "0"
      ]
     },
     "execution_count": 54,
     "metadata": {},
     "output_type": "execute_result"
    }
   ],
   "source": [
    "newArr[0]"
   ]
  },
  {
   "cell_type": "code",
   "execution_count": 55,
   "id": "58e11c65",
   "metadata": {},
   "outputs": [
    {
     "data": {
      "text/plain": [
       "9"
      ]
     },
     "execution_count": 55,
     "metadata": {},
     "output_type": "execute_result"
    }
   ],
   "source": [
    "newArr[-1]"
   ]
  },
  {
   "cell_type": "code",
   "execution_count": 56,
   "id": "996c7a97",
   "metadata": {},
   "outputs": [
    {
     "data": {
      "text/plain": [
       "array([0, 1, 2, 3, 4, 5, 6, 7, 8, 9])"
      ]
     },
     "execution_count": 56,
     "metadata": {},
     "output_type": "execute_result"
    }
   ],
   "source": [
    "# we cann access multiple elements using colon :\n",
    "newArr[0:]"
   ]
  },
  {
   "cell_type": "code",
   "execution_count": 58,
   "id": "2a88c2b7",
   "metadata": {},
   "outputs": [
    {
     "data": {
      "text/plain": [
       "array([2, 3, 4])"
      ]
     },
     "execution_count": 58,
     "metadata": {},
     "output_type": "execute_result"
    }
   ],
   "source": [
    "newArr[2:5]"
   ]
  },
  {
   "cell_type": "code",
   "execution_count": 61,
   "id": "c4634c33",
   "metadata": {},
   "outputs": [
    {
     "data": {
      "text/plain": [
       "array([10, 12, 14, 16, 18, 20, 22, 24, 26, 28])"
      ]
     },
     "execution_count": 61,
     "metadata": {},
     "output_type": "execute_result"
    }
   ],
   "source": [
    "newArr1 = np.arange(10,30,2)\n",
    "newArr1"
   ]
  },
  {
   "cell_type": "code",
   "execution_count": 62,
   "id": "536d11bb",
   "metadata": {},
   "outputs": [
    {
     "data": {
      "text/plain": [
       "array([14, 16, 18])"
      ]
     },
     "execution_count": 62,
     "metadata": {},
     "output_type": "execute_result"
    }
   ],
   "source": [
    "newArr1[2:5] # we cann access continuouus elements but cannnoot access non continuouus elements"
   ]
  },
  {
   "cell_type": "code",
   "execution_count": 64,
   "id": "90435422",
   "metadata": {},
   "outputs": [
    {
     "data": {
      "text/plain": [
       "array([10, 14, 18])"
      ]
     },
     "execution_count": 64,
     "metadata": {},
     "output_type": "execute_result"
    }
   ],
   "source": [
    "newArr1[0:5:2] # jusmps 2 step"
   ]
  },
  {
   "cell_type": "code",
   "execution_count": 76,
   "id": "d6b74f39",
   "metadata": {},
   "outputs": [
    {
     "data": {
      "text/plain": [
       "array([[ 6, 14,  5],\n",
       "       [ 6, 10, 12],\n",
       "       [ 9,  7,  5]])"
      ]
     },
     "execution_count": 76,
     "metadata": {},
     "output_type": "execute_result"
    }
   ],
   "source": [
    "# Multidimensional arrays\n",
    "# In multidimenional arrays rows and columns can be accessed using , seperator\n",
    "# Multiple rows can be accessed using : & multiple column can be accessed using :\n",
    "# using , we can seprate rows & columns \n",
    "\n",
    "newArr2 = np.random.randint(5,15,size = (3,3))\n",
    "newArr2"
   ]
  },
  {
   "cell_type": "code",
   "execution_count": 66,
   "id": "3a94fd47",
   "metadata": {},
   "outputs": [
    {
     "data": {
      "text/plain": [
       "array([6, 5, 5])"
      ]
     },
     "execution_count": 66,
     "metadata": {},
     "output_type": "execute_result"
    }
   ],
   "source": [
    "newArr2[1] # Prints rows here 1 row\n",
    "\n",
    "newArr2[0:2] # prints 2 rows from 0 to 1"
   ]
  },
  {
   "cell_type": "code",
   "execution_count": 77,
   "id": "a6ef00fa",
   "metadata": {},
   "outputs": [
    {
     "data": {
      "text/plain": [
       "array([[6],\n",
       "       [6]])"
      ]
     },
     "execution_count": 77,
     "metadata": {},
     "output_type": "execute_result"
    }
   ],
   "source": [
    "newArr2[0:2,0:1]"
   ]
  },
  {
   "cell_type": "code",
   "execution_count": 80,
   "id": "d8256708",
   "metadata": {},
   "outputs": [
    {
     "data": {
      "text/plain": [
       "10"
      ]
     },
     "execution_count": 80,
     "metadata": {},
     "output_type": "execute_result"
    }
   ],
   "source": [
    "newArr2[1,1]"
   ]
  },
  {
   "cell_type": "code",
   "execution_count": 81,
   "id": "df5d15ec",
   "metadata": {},
   "outputs": [
    {
     "data": {
      "text/plain": [
       "array([[10]])"
      ]
     },
     "execution_count": 81,
     "metadata": {},
     "output_type": "execute_result"
    }
   ],
   "source": [
    "newArr2[1:2,1:2] # Another way to access rows annd columns"
   ]
  },
  {
   "cell_type": "code",
   "execution_count": 82,
   "id": "0cb44345",
   "metadata": {},
   "outputs": [
    {
     "data": {
      "text/plain": [
       "10"
      ]
     },
     "execution_count": 82,
     "metadata": {},
     "output_type": "execute_result"
    }
   ],
   "source": [
    "myArr = newArr2[1,1] # this creates integer\n",
    "myArr"
   ]
  },
  {
   "cell_type": "code",
   "execution_count": 83,
   "id": "27410793",
   "metadata": {},
   "outputs": [
    {
     "data": {
      "text/plain": [
       "numpy.int64"
      ]
     },
     "execution_count": 83,
     "metadata": {},
     "output_type": "execute_result"
    }
   ],
   "source": [
    "type(myArr)"
   ]
  },
  {
   "cell_type": "code",
   "execution_count": 84,
   "id": "2bd04d15",
   "metadata": {},
   "outputs": [
    {
     "data": {
      "text/plain": [
       "array([[10]])"
      ]
     },
     "execution_count": 84,
     "metadata": {},
     "output_type": "execute_result"
    }
   ],
   "source": [
    "myArr2 = newArr2[1:2,1:2] # This method creates array instead of direct access creates integer\n",
    "myArr2"
   ]
  },
  {
   "cell_type": "code",
   "execution_count": 85,
   "id": "cee98fa2",
   "metadata": {},
   "outputs": [
    {
     "data": {
      "text/plain": [
       "numpy.ndarray"
      ]
     },
     "execution_count": 85,
     "metadata": {},
     "output_type": "execute_result"
    }
   ],
   "source": [
    "type(myArr2)"
   ]
  },
  {
   "cell_type": "code",
   "execution_count": 86,
   "id": "3d7c21e2",
   "metadata": {},
   "outputs": [
    {
     "data": {
      "text/plain": [
       "array([[44, 28, 21, 13, 16],\n",
       "       [12, 13, 27, 26, 33],\n",
       "       [15, 25, 44, 24, 33],\n",
       "       [28, 43, 34, 13, 25]])"
      ]
     },
     "execution_count": 86,
     "metadata": {},
     "output_type": "execute_result"
    }
   ],
   "source": [
    "newArr3 = np.random.randint(11,45, size = (4,5))\n",
    "newArr3"
   ]
  },
  {
   "cell_type": "code",
   "execution_count": 91,
   "id": "7c4cad7d",
   "metadata": {},
   "outputs": [
    {
     "data": {
      "text/plain": [
       "array([[27, 26],\n",
       "       [44, 24]])"
      ]
     },
     "execution_count": 91,
     "metadata": {},
     "output_type": "execute_result"
    }
   ],
   "source": [
    "newArr3[1:3,2:4]"
   ]
  },
  {
   "cell_type": "code",
   "execution_count": 92,
   "id": "7a5dc8af",
   "metadata": {},
   "outputs": [
    {
     "data": {
      "text/plain": [
       "array([[13, 27, 26],\n",
       "       [25, 44, 24]])"
      ]
     },
     "execution_count": 92,
     "metadata": {},
     "output_type": "execute_result"
    }
   ],
   "source": [
    "newArr3[1:3,1:4]"
   ]
  }
 ],
 "metadata": {
  "kernelspec": {
   "display_name": "Python 3 (ipykernel)",
   "language": "python",
   "name": "python3"
  },
  "language_info": {
   "codemirror_mode": {
    "name": "ipython",
    "version": 3
   },
   "file_extension": ".py",
   "mimetype": "text/x-python",
   "name": "python",
   "nbconvert_exporter": "python",
   "pygments_lexer": "ipython3",
   "version": "3.9.12"
  },
  "varInspector": {
   "cols": {
    "lenName": 16,
    "lenType": 16,
    "lenVar": 40
   },
   "kernels_config": {
    "python": {
     "delete_cmd_postfix": "",
     "delete_cmd_prefix": "del ",
     "library": "var_list.py",
     "varRefreshCmd": "print(var_dic_list())"
    },
    "r": {
     "delete_cmd_postfix": ") ",
     "delete_cmd_prefix": "rm(",
     "library": "var_list.r",
     "varRefreshCmd": "cat(var_dic_list()) "
    }
   },
   "types_to_exclude": [
    "module",
    "function",
    "builtin_function_or_method",
    "instance",
    "_Feature"
   ],
   "window_display": false
  }
 },
 "nbformat": 4,
 "nbformat_minor": 5
}
