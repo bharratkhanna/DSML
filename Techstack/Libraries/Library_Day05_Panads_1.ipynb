{
 "cells": [
  {
   "cell_type": "markdown",
   "id": "62d3f689",
   "metadata": {},
   "source": [
    "# Pandas"
   ]
  },
  {
   "cell_type": "markdown",
   "id": "35e828bd",
   "metadata": {},
   "source": [
    "### Series"
   ]
  },
  {
   "cell_type": "code",
   "execution_count": 9,
   "id": "b1413e1c",
   "metadata": {},
   "outputs": [],
   "source": [
    "# Single column is series\n",
    "# More than one column Data Frame"
   ]
  },
  {
   "cell_type": "code",
   "execution_count": 10,
   "id": "b5f5b211",
   "metadata": {},
   "outputs": [],
   "source": [
    "import pandas as pd\n",
    "import numpy as np"
   ]
  },
  {
   "cell_type": "code",
   "execution_count": 11,
   "id": "834916f3",
   "metadata": {},
   "outputs": [],
   "source": [
    "arr1 = np.random.randint(20,40,10)"
   ]
  },
  {
   "cell_type": "code",
   "execution_count": 12,
   "id": "175fdfac",
   "metadata": {},
   "outputs": [
    {
     "name": "stdout",
     "output_type": "stream",
     "text": [
      "[31 23 33 31 27 25 35 39 20 34]\n"
     ]
    }
   ],
   "source": [
    "print(arr1)"
   ]
  },
  {
   "cell_type": "code",
   "execution_count": 13,
   "id": "7266e230",
   "metadata": {},
   "outputs": [],
   "source": [
    "#Series-pandas Series object can be created using pd.series()"
   ]
  },
  {
   "cell_type": "code",
   "execution_count": 14,
   "id": "d515cfa2",
   "metadata": {},
   "outputs": [],
   "source": [
    "mySer=pd.Series(arr1, dtype = \"int32\")"
   ]
  },
  {
   "cell_type": "code",
   "execution_count": 15,
   "id": "58d28e3b",
   "metadata": {},
   "outputs": [
    {
     "data": {
      "text/plain": [
       "0    31\n",
       "1    23\n",
       "2    33\n",
       "3    31\n",
       "4    27\n",
       "5    25\n",
       "6    35\n",
       "7    39\n",
       "8    20\n",
       "9    34\n",
       "dtype: int32"
      ]
     },
     "execution_count": 15,
     "metadata": {},
     "output_type": "execute_result"
    }
   ],
   "source": [
    "mySer"
   ]
  },
  {
   "cell_type": "code",
   "execution_count": 16,
   "id": "f25c8c46",
   "metadata": {},
   "outputs": [
    {
     "data": {
      "text/plain": [
       "pandas.core.series.Series"
      ]
     },
     "execution_count": 16,
     "metadata": {},
     "output_type": "execute_result"
    }
   ],
   "source": [
    "type(mySer)"
   ]
  },
  {
   "cell_type": "code",
   "execution_count": 17,
   "id": "0d29dae1",
   "metadata": {},
   "outputs": [],
   "source": [
    "myList=[12,45,67,89,90]"
   ]
  },
  {
   "cell_type": "code",
   "execution_count": 18,
   "id": "2aae8a7a",
   "metadata": {},
   "outputs": [
    {
     "data": {
      "text/plain": [
       "0    12\n",
       "1    45\n",
       "2    67\n",
       "3    89\n",
       "4    90\n",
       "dtype: int64"
      ]
     },
     "execution_count": 18,
     "metadata": {},
     "output_type": "execute_result"
    }
   ],
   "source": [
    "mySer1=pd.Series(myList)\n",
    "mySer1"
   ]
  },
  {
   "cell_type": "code",
   "execution_count": 19,
   "id": "c8a3aae0",
   "metadata": {},
   "outputs": [],
   "source": [
    "myTuple=(12,45, \"Apple\", \"Banana\", 89)"
   ]
  },
  {
   "cell_type": "code",
   "execution_count": 20,
   "id": "e934b742",
   "metadata": {},
   "outputs": [
    {
     "data": {
      "text/plain": [
       "0        12\n",
       "1        45\n",
       "2     Apple\n",
       "3    Banana\n",
       "4        89\n",
       "dtype: object"
      ]
     },
     "execution_count": 20,
     "metadata": {},
     "output_type": "execute_result"
    }
   ],
   "source": [
    "mySer2 = pd.Series(myTuple)\n",
    "mySer2"
   ]
  },
  {
   "cell_type": "code",
   "execution_count": 21,
   "id": "f9cadd58",
   "metadata": {},
   "outputs": [],
   "source": [
    "myDic={\"Name\": \"Mayank\", \"Salary\":50000, \"Age\": 25}"
   ]
  },
  {
   "cell_type": "code",
   "execution_count": 22,
   "id": "bbe1b4c7",
   "metadata": {},
   "outputs": [
    {
     "data": {
      "text/plain": [
       "Name      Mayank\n",
       "Salary     50000\n",
       "Age           25\n",
       "dtype: object"
      ]
     },
     "execution_count": 22,
     "metadata": {},
     "output_type": "execute_result"
    }
   ],
   "source": [
    "mySer3 = pd.Series(myDic)\n",
    "mySer3"
   ]
  },
  {
   "cell_type": "code",
   "execution_count": 23,
   "id": "e0eaccd4",
   "metadata": {},
   "outputs": [],
   "source": [
    "# Numerical (Continuous) - > int,float\n",
    "# Categorical - > object"
   ]
  },
  {
   "cell_type": "code",
   "execution_count": 24,
   "id": "424cd534",
   "metadata": {},
   "outputs": [],
   "source": [
    "mySet = {12,13,18,11,12,11,15}"
   ]
  },
  {
   "cell_type": "code",
   "execution_count": 25,
   "id": "16ed2f3b",
   "metadata": {},
   "outputs": [
    {
     "data": {
      "text/plain": [
       "{11, 12, 13, 15, 18}"
      ]
     },
     "execution_count": 25,
     "metadata": {},
     "output_type": "execute_result"
    }
   ],
   "source": [
    "mySet"
   ]
  },
  {
   "cell_type": "code",
   "execution_count": 26,
   "id": "5f4bd014",
   "metadata": {},
   "outputs": [
    {
     "ename": "TypeError",
     "evalue": "'set' type is unordered",
     "output_type": "error",
     "traceback": [
      "\u001b[1;31m---------------------------------------------------------------------------\u001b[0m",
      "\u001b[1;31mTypeError\u001b[0m                                 Traceback (most recent call last)",
      "\u001b[1;32m~\\AppData\\Local\\Temp\\ipykernel_16604\\3395772314.py\u001b[0m in \u001b[0;36m<module>\u001b[1;34m\u001b[0m\n\u001b[1;32m----> 1\u001b[1;33m \u001b[0mmySer4\u001b[0m \u001b[1;33m=\u001b[0m \u001b[0mpd\u001b[0m\u001b[1;33m.\u001b[0m\u001b[0mSeries\u001b[0m\u001b[1;33m(\u001b[0m\u001b[0mmySet\u001b[0m\u001b[1;33m)\u001b[0m \u001b[1;31m# Because set removes duuplicate and create order in sort, HENCE UNORDERED\u001b[0m\u001b[1;33m\u001b[0m\u001b[1;33m\u001b[0m\u001b[0m\n\u001b[0m",
      "\u001b[1;32mC:\\anaconda3\\lib\\site-packages\\pandas\\core\\series.py\u001b[0m in \u001b[0;36m__init__\u001b[1;34m(self, data, index, dtype, name, copy, fastpath)\u001b[0m\n\u001b[0;32m    449\u001b[0m                     \u001b[0mdata\u001b[0m \u001b[1;33m=\u001b[0m \u001b[0mdata\u001b[0m\u001b[1;33m.\u001b[0m\u001b[0mcopy\u001b[0m\u001b[1;33m(\u001b[0m\u001b[1;33m)\u001b[0m\u001b[1;33m\u001b[0m\u001b[1;33m\u001b[0m\u001b[0m\n\u001b[0;32m    450\u001b[0m             \u001b[1;32melse\u001b[0m\u001b[1;33m:\u001b[0m\u001b[1;33m\u001b[0m\u001b[1;33m\u001b[0m\u001b[0m\n\u001b[1;32m--> 451\u001b[1;33m                 \u001b[0mdata\u001b[0m \u001b[1;33m=\u001b[0m \u001b[0msanitize_array\u001b[0m\u001b[1;33m(\u001b[0m\u001b[0mdata\u001b[0m\u001b[1;33m,\u001b[0m \u001b[0mindex\u001b[0m\u001b[1;33m,\u001b[0m \u001b[0mdtype\u001b[0m\u001b[1;33m,\u001b[0m \u001b[0mcopy\u001b[0m\u001b[1;33m)\u001b[0m\u001b[1;33m\u001b[0m\u001b[1;33m\u001b[0m\u001b[0m\n\u001b[0m\u001b[0;32m    452\u001b[0m \u001b[1;33m\u001b[0m\u001b[0m\n\u001b[0;32m    453\u001b[0m                 \u001b[0mmanager\u001b[0m \u001b[1;33m=\u001b[0m \u001b[0mget_option\u001b[0m\u001b[1;33m(\u001b[0m\u001b[1;34m\"mode.data_manager\"\u001b[0m\u001b[1;33m)\u001b[0m\u001b[1;33m\u001b[0m\u001b[1;33m\u001b[0m\u001b[0m\n",
      "\u001b[1;32mC:\\anaconda3\\lib\\site-packages\\pandas\\core\\construction.py\u001b[0m in \u001b[0;36msanitize_array\u001b[1;34m(data, index, dtype, copy, raise_cast_failure, allow_2d)\u001b[0m\n\u001b[0;32m    582\u001b[0m         \u001b[1;32mif\u001b[0m \u001b[0misinstance\u001b[0m\u001b[1;33m(\u001b[0m\u001b[0mdata\u001b[0m\u001b[1;33m,\u001b[0m \u001b[1;33m(\u001b[0m\u001b[0mset\u001b[0m\u001b[1;33m,\u001b[0m \u001b[0mfrozenset\u001b[0m\u001b[1;33m)\u001b[0m\u001b[1;33m)\u001b[0m\u001b[1;33m:\u001b[0m\u001b[1;33m\u001b[0m\u001b[1;33m\u001b[0m\u001b[0m\n\u001b[0;32m    583\u001b[0m             \u001b[1;31m# Raise only for unordered sets, e.g., not for dict_keys\u001b[0m\u001b[1;33m\u001b[0m\u001b[1;33m\u001b[0m\u001b[0m\n\u001b[1;32m--> 584\u001b[1;33m             \u001b[1;32mraise\u001b[0m \u001b[0mTypeError\u001b[0m\u001b[1;33m(\u001b[0m\u001b[1;34mf\"'{type(data).__name__}' type is unordered\"\u001b[0m\u001b[1;33m)\u001b[0m\u001b[1;33m\u001b[0m\u001b[1;33m\u001b[0m\u001b[0m\n\u001b[0m\u001b[0;32m    585\u001b[0m \u001b[1;33m\u001b[0m\u001b[0m\n\u001b[0;32m    586\u001b[0m         \u001b[1;31m# materialize e.g. generators, convert e.g. tuples, abc.ValueView\u001b[0m\u001b[1;33m\u001b[0m\u001b[1;33m\u001b[0m\u001b[0m\n",
      "\u001b[1;31mTypeError\u001b[0m: 'set' type is unordered"
     ]
    }
   ],
   "source": [
    "mySer4 = pd.Series(mySet) # Because set removes duuplicate and create order in sort, HENCE UNORDERED"
   ]
  },
  {
   "cell_type": "code",
   "execution_count": 27,
   "id": "376b0e39",
   "metadata": {},
   "outputs": [
    {
     "data": {
      "text/plain": [
       "a    12\n",
       "b    16\n",
       "c    18\n",
       "d    19\n",
       "dtype: int64"
      ]
     },
     "execution_count": 27,
     "metadata": {},
     "output_type": "execute_result"
    }
   ],
   "source": [
    "# Pass your own index\n",
    "\n",
    "mySer3 = pd.Series([12,16,18,19], index = ['a','b','c','d'])\n",
    "mySer3"
   ]
  },
  {
   "cell_type": "code",
   "execution_count": 28,
   "id": "f3c726c4",
   "metadata": {},
   "outputs": [],
   "source": [
    "mySer5 = pd.Series(myList, index = ['101','102', '103', '104', '105'])"
   ]
  },
  {
   "cell_type": "code",
   "execution_count": 29,
   "id": "c3769324",
   "metadata": {},
   "outputs": [
    {
     "data": {
      "text/plain": [
       "101    12\n",
       "102    45\n",
       "103    67\n",
       "104    89\n",
       "105    90\n",
       "dtype: int64"
      ]
     },
     "execution_count": 29,
     "metadata": {},
     "output_type": "execute_result"
    }
   ],
   "source": [
    "mySer5"
   ]
  },
  {
   "cell_type": "code",
   "execution_count": 30,
   "id": "cc8d5b70",
   "metadata": {},
   "outputs": [
    {
     "data": {
      "text/plain": [
       "Std101    12\n",
       "Std102    45\n",
       "Std103    67\n",
       "Std104    89\n",
       "Std105    90\n",
       "dtype: int64"
      ]
     },
     "execution_count": 30,
     "metadata": {},
     "output_type": "execute_result"
    }
   ],
   "source": [
    "# add prefix\n",
    "mySer5.add_prefix(prefix=\"Std\")"
   ]
  },
  {
   "cell_type": "code",
   "execution_count": 31,
   "id": "114090dc",
   "metadata": {},
   "outputs": [
    {
     "data": {
      "text/plain": [
       "101Rollno    12\n",
       "102Rollno    45\n",
       "103Rollno    67\n",
       "104Rollno    89\n",
       "105Rollno    90\n",
       "dtype: int64"
      ]
     },
     "execution_count": 31,
     "metadata": {},
     "output_type": "execute_result"
    }
   ],
   "source": [
    "# add suffix\n",
    "mySer5.add_suffix(suffix=\"Rollno\")"
   ]
  },
  {
   "cell_type": "code",
   "execution_count": 32,
   "id": "94e24a23",
   "metadata": {},
   "outputs": [
    {
     "data": {
      "text/plain": [
       "0    11.0\n",
       "1    14.0\n",
       "2    15.0\n",
       "3     NaN\n",
       "4    16.0\n",
       "5    19.0\n",
       "6     NaN\n",
       "dtype: float64"
      ]
     },
     "execution_count": 32,
     "metadata": {},
     "output_type": "execute_result"
    }
   ],
   "source": [
    "myList = [11,14,15,None,16,19,None] # NaN Not a Number\n",
    "mySer4 = pd.Series(myList)\n",
    "mySer4"
   ]
  },
  {
   "cell_type": "code",
   "execution_count": 33,
   "id": "a839f1d8",
   "metadata": {},
   "outputs": [
    {
     "data": {
      "text/plain": [
       "dtype('float64')"
      ]
     },
     "execution_count": 33,
     "metadata": {},
     "output_type": "execute_result"
    }
   ],
   "source": [
    "#dtype\n",
    "\n",
    "mySer4.dtype"
   ]
  },
  {
   "cell_type": "code",
   "execution_count": 34,
   "id": "3faec101",
   "metadata": {},
   "outputs": [
    {
     "data": {
      "text/plain": [
       "Name      Mayank\n",
       "None        None\n",
       "Salary     50000\n",
       "Age           25\n",
       "dtype: object"
      ]
     },
     "execution_count": 34,
     "metadata": {},
     "output_type": "execute_result"
    }
   ],
   "source": [
    "myDic={\"Name\": \"Mayank\",None:None, \"Salary\":50000, \"Age\": 25} \n",
    "mySer = pd.Series(myDic)\n",
    "mySer"
   ]
  },
  {
   "cell_type": "code",
   "execution_count": 35,
   "id": "13987934",
   "metadata": {},
   "outputs": [],
   "source": [
    "# isna()\n",
    "# isnull()"
   ]
  },
  {
   "cell_type": "code",
   "execution_count": 36,
   "id": "0b5eae2b",
   "metadata": {},
   "outputs": [
    {
     "data": {
      "text/plain": [
       "0    11.0\n",
       "1    14.0\n",
       "2    15.0\n",
       "3     NaN\n",
       "4    16.0\n",
       "5    19.0\n",
       "6     NaN\n",
       "dtype: float64"
      ]
     },
     "execution_count": 36,
     "metadata": {},
     "output_type": "execute_result"
    }
   ],
   "source": [
    "mySer4"
   ]
  },
  {
   "cell_type": "code",
   "execution_count": 37,
   "id": "efe9ed43",
   "metadata": {},
   "outputs": [
    {
     "name": "stdout",
     "output_type": "stream",
     "text": [
      "0    False\n",
      "1    False\n",
      "2    False\n",
      "3     True\n",
      "4    False\n",
      "5    False\n",
      "6     True\n",
      "dtype: bool\n"
     ]
    }
   ],
   "source": [
    "print(mySer4.isna())"
   ]
  },
  {
   "cell_type": "code",
   "execution_count": 38,
   "id": "37f33be8",
   "metadata": {},
   "outputs": [
    {
     "name": "stdout",
     "output_type": "stream",
     "text": [
      "0    False\n",
      "1    False\n",
      "2    False\n",
      "3     True\n",
      "4    False\n",
      "5    False\n",
      "6     True\n",
      "dtype: bool\n"
     ]
    }
   ],
   "source": [
    "print(mySer4.isnull()) # same as isna"
   ]
  },
  {
   "cell_type": "code",
   "execution_count": 39,
   "id": "d57df0be",
   "metadata": {},
   "outputs": [
    {
     "data": {
      "text/plain": [
       "2"
      ]
     },
     "execution_count": 39,
     "metadata": {},
     "output_type": "execute_result"
    }
   ],
   "source": [
    "mySer4.isna().sum()"
   ]
  }
 ],
 "metadata": {
  "kernelspec": {
   "display_name": "Python 3 (ipykernel)",
   "language": "python",
   "name": "python3"
  },
  "language_info": {
   "codemirror_mode": {
    "name": "ipython",
    "version": 3
   },
   "file_extension": ".py",
   "mimetype": "text/x-python",
   "name": "python",
   "nbconvert_exporter": "python",
   "pygments_lexer": "ipython3",
   "version": "3.9.13"
  },
  "varInspector": {
   "cols": {
    "lenName": 16,
    "lenType": 16,
    "lenVar": 40
   },
   "kernels_config": {
    "python": {
     "delete_cmd_postfix": "",
     "delete_cmd_prefix": "del ",
     "library": "var_list.py",
     "varRefreshCmd": "print(var_dic_list())"
    },
    "r": {
     "delete_cmd_postfix": ") ",
     "delete_cmd_prefix": "rm(",
     "library": "var_list.r",
     "varRefreshCmd": "cat(var_dic_list()) "
    }
   },
   "types_to_exclude": [
    "module",
    "function",
    "builtin_function_or_method",
    "instance",
    "_Feature"
   ],
   "window_display": false
  }
 },
 "nbformat": 4,
 "nbformat_minor": 5
}
