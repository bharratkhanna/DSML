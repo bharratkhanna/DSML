{
 "cells": [
  {
   "cell_type": "markdown",
   "id": "a4e8f3c0",
   "metadata": {},
   "source": [
    "<h1> <center> DESCRIPTIVE STATISTICS #3"
   ]
  },
  {
   "cell_type": "markdown",
   "id": "e7071a17",
   "metadata": {},
   "source": [
    "## Measures of Central Tendency"
   ]
  },
  {
   "cell_type": "markdown",
   "id": "c97c9416",
   "metadata": {},
   "source": [
    "### Mean"
   ]
  },
  {
   "cell_type": "markdown",
   "id": "c6aef7c2",
   "metadata": {},
   "source": [
    "- Simple average.\n",
    "- Denote by *$\\mu$* for **Population** & $\\bar{x}$ for **Sample**.\n",
    "- Easily affected by Outliers."
   ]
  },
  {
   "cell_type": "markdown",
   "id": "ddc0aee2",
   "metadata": {},
   "source": [
    "##### Population mean:-"
   ]
  },
  {
   "cell_type": "markdown",
   "id": "66be2b56",
   "metadata": {},
   "source": [
    "## $$\\mu =\\frac{\\sum_{i=1}^{N}{x_i}}{N}$$"
   ]
  },
  {
   "cell_type": "markdown",
   "id": "5698522f",
   "metadata": {},
   "source": [
    "##### Sample Mean:-"
   ]
  },
  {
   "cell_type": "markdown",
   "id": "42894132",
   "metadata": {},
   "source": [
    "## $$\\bar{x} =\\frac{\\sum_{i=1}^{n}{x_i}}{n}$$"
   ]
  },
  {
   "cell_type": "markdown",
   "id": "9982846a",
   "metadata": {},
   "source": [
    "### Median"
   ]
  },
  {
   "cell_type": "markdown",
   "id": "af911cec",
   "metadata": {},
   "source": [
    "- Centre Value of the data when data is sorted\n"
   ]
  },
  {
   "cell_type": "markdown",
   "id": "72fc4b78",
   "metadata": {},
   "source": [
    "##### If n/N is odd:-"
   ]
  },
  {
   "cell_type": "markdown",
   "id": "06351226",
   "metadata": {},
   "source": [
    "# $$x_{{\\frac{n+1}{2}}^{}}$$"
   ]
  },
  {
   "cell_type": "markdown",
   "id": "22ef92cb",
   "metadata": {},
   "source": [
    "##### if n/N is even:-"
   ]
  },
  {
   "cell_type": "markdown",
   "id": "1888853e",
   "metadata": {},
   "source": [
    "# $$\\frac{x_{{\\frac{n}{2}}^{}} + x_{{\\frac{n+1}{2}}^{}} }{2}$$"
   ]
  },
  {
   "cell_type": "markdown",
   "id": "117674c8",
   "metadata": {},
   "source": [
    "### Mode"
   ]
  },
  {
   "cell_type": "markdown",
   "id": "b2ec8cee",
   "metadata": {},
   "source": [
    "- Value that occurs most often.\n",
    "- Can be used for both Numerical & Categorical Data.\n",
    "- 2 or 3 nodes are tolerable but more than that defeat the purpose."
   ]
  },
  {
   "cell_type": "code",
   "execution_count": 2,
   "id": "3d25949e",
   "metadata": {},
   "outputs": [],
   "source": [
    "import math as m\n",
    "import numpy as np\n",
    "import pandas as pd\n",
    "import seaborn as sns\n",
    "import matplotlib.pyplot as plt"
   ]
  },
  {
   "cell_type": "code",
   "execution_count": 3,
   "id": "b1c0069e",
   "metadata": {},
   "outputs": [],
   "source": [
    "ny = np.random.randint(1,12,10)\n",
    "la = np.random.randint(1,12,10)\n",
    "la = [str(x) for x in la]"
   ]
  },
  {
   "cell_type": "code",
   "execution_count": 4,
   "id": "320d8c8f",
   "metadata": {},
   "outputs": [
    {
     "data": {
      "text/html": [
       "<div>\n",
       "<style scoped>\n",
       "    .dataframe tbody tr th:only-of-type {\n",
       "        vertical-align: middle;\n",
       "    }\n",
       "\n",
       "    .dataframe tbody tr th {\n",
       "        vertical-align: top;\n",
       "    }\n",
       "\n",
       "    .dataframe thead th {\n",
       "        text-align: right;\n",
       "    }\n",
       "</style>\n",
       "<table border=\"1\" class=\"dataframe\">\n",
       "  <thead>\n",
       "    <tr style=\"text-align: right;\">\n",
       "      <th></th>\n",
       "      <th>New York Price</th>\n",
       "      <th>Los Angeles Price</th>\n",
       "    </tr>\n",
       "  </thead>\n",
       "  <tbody>\n",
       "    <tr>\n",
       "      <th>0</th>\n",
       "      <td>8</td>\n",
       "      <td>8</td>\n",
       "    </tr>\n",
       "    <tr>\n",
       "      <th>1</th>\n",
       "      <td>10</td>\n",
       "      <td>2</td>\n",
       "    </tr>\n",
       "    <tr>\n",
       "      <th>2</th>\n",
       "      <td>3</td>\n",
       "      <td>6</td>\n",
       "    </tr>\n",
       "    <tr>\n",
       "      <th>3</th>\n",
       "      <td>11</td>\n",
       "      <td>7</td>\n",
       "    </tr>\n",
       "    <tr>\n",
       "      <th>4</th>\n",
       "      <td>4</td>\n",
       "      <td>9</td>\n",
       "    </tr>\n",
       "    <tr>\n",
       "      <th>5</th>\n",
       "      <td>2</td>\n",
       "      <td>4</td>\n",
       "    </tr>\n",
       "    <tr>\n",
       "      <th>6</th>\n",
       "      <td>11</td>\n",
       "      <td>5</td>\n",
       "    </tr>\n",
       "    <tr>\n",
       "      <th>7</th>\n",
       "      <td>5</td>\n",
       "      <td>8</td>\n",
       "    </tr>\n",
       "    <tr>\n",
       "      <th>8</th>\n",
       "      <td>10</td>\n",
       "      <td>11</td>\n",
       "    </tr>\n",
       "    <tr>\n",
       "      <th>9</th>\n",
       "      <td>66</td>\n",
       "      <td>None</td>\n",
       "    </tr>\n",
       "  </tbody>\n",
       "</table>\n",
       "</div>"
      ],
      "text/plain": [
       "   New York Price Los Angeles Price\n",
       "0               8                 8\n",
       "1              10                 2\n",
       "2               3                 6\n",
       "3              11                 7\n",
       "4               4                 9\n",
       "5               2                 4\n",
       "6              11                 5\n",
       "7               5                 8\n",
       "8              10                11\n",
       "9              66              None"
      ]
     },
     "execution_count": 4,
     "metadata": {},
     "output_type": "execute_result"
    }
   ],
   "source": [
    "la[-1] = None\n",
    "ny[-1] = 66\n",
    "pizza_price = pd.DataFrame({\n",
    "    \"New York Price\": ny,\n",
    "    \"Los Angeles Price\": la\n",
    "})\n",
    "pizza_price"
   ]
  },
  {
   "cell_type": "code",
   "execution_count": 5,
   "id": "58038674",
   "metadata": {},
   "outputs": [
    {
     "name": "stdout",
     "output_type": "stream",
     "text": [
      "NY Mean: 13.0 LA Mean: 6.666666666666667\n"
     ]
    }
   ],
   "source": [
    "# Mean - Affected by outlier\n",
    "\n",
    "ny_mean = pizza_price[\"New York Price\"].sum()/pizza_price[\"New York Price\"].count()\n",
    "\n",
    "la_pizza_price = pizza_price[\"Los Angeles Price\"].dropna()\n",
    "la_pizza_price =  pd.to_numeric(la_pizza_price)\n",
    "la_mean = la_pizza_price.mean()\n",
    "\n",
    "print(\"NY Mean:\",ny_mean,\"LA Mean:\",la_mean)"
   ]
  },
  {
   "cell_type": "code",
   "execution_count": 6,
   "id": "3a4b5cda",
   "metadata": {},
   "outputs": [
    {
     "name": "stdout",
     "output_type": "stream",
     "text": [
      "NY Median: 9.0 LA Median: 9.0\n"
     ]
    }
   ],
   "source": [
    "# Median - Not affected by outlier\n",
    "\n",
    "ny_med = pizza_price[\"New York Price\"].median()\n",
    "la_med = pizza_price[\"New York Price\"].median()\n",
    "\n",
    "print(\"NY Median:\",ny_med,\"LA Median:\",la_med)"
   ]
  },
  {
   "cell_type": "code",
   "execution_count": 7,
   "id": "7c96723f",
   "metadata": {},
   "outputs": [
    {
     "name": "stdout",
     "output_type": "stream",
     "text": [
      "NY Mode: 0    10\n",
      "1    11\n",
      "Name: New York Price, dtype: int32 \n",
      "\n",
      "LA Mode: 0    8\n",
      "Name: Los Angeles Price, dtype: int64\n"
     ]
    }
   ],
   "source": [
    "# Mode\n",
    "\n",
    "ny_mod = pizza_price[\"New York Price\"].mode()\n",
    "la_mod = la_pizza_price.mode()\n",
    "\n",
    "print(\"NY Mode:\",ny_mod,\"\\n\\nLA Mode:\",la_mod)"
   ]
  },
  {
   "cell_type": "markdown",
   "id": "71967d3e",
   "metadata": {},
   "source": [
    "---"
   ]
  },
  {
   "cell_type": "markdown",
   "id": "f2f8490b",
   "metadata": {},
   "source": [
    "## Skewness"
   ]
  },
  {
   "cell_type": "markdown",
   "id": "95123aad",
   "metadata": {},
   "source": [
    "- It indicates whether the observation from the data is concentrated to one side.\\\n",
    "\n",
    "\n",
    "- if **Mean > Median** then it is right skew and _outliers are on right_.\n",
    "- if **Mean < Median** then it is left skew and _outliers are on left.\n",
    "- if **Mean = Median** then it has no skew and _outliers are not present_."
   ]
  },
  {
   "cell_type": "code",
   "execution_count": 8,
   "id": "d8fb6af2",
   "metadata": {},
   "outputs": [
    {
     "data": {
      "text/plain": [
       "<AxesSubplot:ylabel='Count'>"
      ]
     },
     "execution_count": 8,
     "metadata": {},
     "output_type": "execute_result"
    },
    {
     "data": {
      "image/png": "[encoded data removed]",
      "text/plain": [
       "<Figure size 640x480 with 1 Axes>"
      ]
     },
     "metadata": {},
     "output_type": "display_data"
    }
   ],
   "source": [
    "nom_dis = np.random.randn(1000)\n",
    "sns.histplot(nom_dis)"
   ]
  },
  {
   "cell_type": "markdown",
   "id": "5e1b2d29",
   "metadata": {},
   "source": [
    "_Above figure is left skewed, Output could vary on re run._"
   ]
  },
  {
   "cell_type": "code",
   "execution_count": 9,
   "id": "7f32a499",
   "metadata": {},
   "outputs": [
    {
     "name": "stdout",
     "output_type": "stream",
     "text": [
      "Mean: -0.05078009078834539 Median: -0.029925024425229187\n"
     ]
    }
   ],
   "source": [
    "index =  [i for i in range(1000)]\n",
    "nom_dis2 = pd.DataFrame({\n",
    "    \"Index\": index,\n",
    "    \"Dataset\":nom_dis\n",
    "})\n",
    "nd_mean = nom_dis2[\"Dataset\"].mean()\n",
    "nd_median = nom_dis2[\"Dataset\"].median()\n",
    "nd_mode = nom_dis2[\"Dataset\"].mode()\n",
    "\n",
    "print(\"Mean:\",nd_mean,\"Median:\",nd_median)"
   ]
  },
  {
   "cell_type": "markdown",
   "id": "7796aad3",
   "metadata": {},
   "source": [
    "Hence the above graph is **Right Skewed**"
   ]
  },
  {
   "cell_type": "markdown",
   "id": "35fa816a",
   "metadata": {},
   "source": [
    "---"
   ]
  },
  {
   "cell_type": "markdown",
   "id": "b50145e5",
   "metadata": {},
   "source": [
    "## Measures of Variablilty"
   ]
  },
  {
   "cell_type": "markdown",
   "id": "5b8da455",
   "metadata": {},
   "source": [
    "### Variance"
   ]
  },
  {
   "cell_type": "markdown",
   "id": "83046be9",
   "metadata": {},
   "source": [
    "- Measures the dispersion of a set of data points around their mean.\n",
    "- It avoids all negative values\n",
    "- But the value is too large and in $units^2$"
   ]
  },
  {
   "cell_type": "markdown",
   "id": "fc236074",
   "metadata": {},
   "source": [
    "##### Population Variance:-"
   ]
  },
  {
   "cell_type": "markdown",
   "id": "d1889ad4",
   "metadata": {},
   "source": [
    "## $$\\sigma^2 = \\frac{\\sum_{i=1}^N{(x_i - \\mu)^2}}{N}$$"
   ]
  },
  {
   "cell_type": "markdown",
   "id": "c92c516e",
   "metadata": {},
   "source": [
    "##### Sample Variance:-"
   ]
  },
  {
   "cell_type": "markdown",
   "id": "8b6bac73",
   "metadata": {},
   "source": [
    "## $$s^2 = \\frac{\\sum_{i=1}^n{(x_i - \\bar{x})^2}}{n-1}$$"
   ]
  },
  {
   "cell_type": "markdown",
   "id": "39efd41c",
   "metadata": {},
   "source": [
    "### Standard Deviation"
   ]
  },
  {
   "cell_type": "markdown",
   "id": "cbab7b9a",
   "metadata": {},
   "source": [
    "##### Population Standard Deviation:-"
   ]
  },
  {
   "cell_type": "markdown",
   "id": "6b5a6bf7",
   "metadata": {},
   "source": [
    "## $$\\sigma = \\sqrt{\\sigma^2}$$"
   ]
  },
  {
   "cell_type": "markdown",
   "id": "f158ea76",
   "metadata": {},
   "source": [
    "## $$\\sigma = \\sqrt {\\frac {\\sum_{i=1}^N {(x_i - \\mu)^2 }}{N}}$$"
   ]
  },
  {
   "cell_type": "markdown",
   "id": "45bc5433",
   "metadata": {},
   "source": [
    "##### Sample Standard Deviation:-"
   ]
  },
  {
   "cell_type": "markdown",
   "id": "165f9913",
   "metadata": {},
   "source": [
    "## $$s = \\sqrt{s^2}$$"
   ]
  },
  {
   "cell_type": "markdown",
   "id": "150af632",
   "metadata": {},
   "source": [
    "## $$s = \\sqrt {\\frac {\\sum_{i=1}^n {(x_i - \\bar{x})^2 }}{n-1}}$$"
   ]
  },
  {
   "cell_type": "markdown",
   "id": "dbc8d304",
   "metadata": {},
   "source": [
    "### Coeff of Variance (CV) / Relative Standard Deviation"
   ]
  },
  {
   "cell_type": "markdown",
   "id": "39c85b33",
   "metadata": {},
   "source": [
    "### $$CV = \\frac{\\sigma}{\\mu}$$"
   ]
  },
  {
   "cell_type": "code",
   "execution_count": 10,
   "id": "5f406bff",
   "metadata": {},
   "outputs": [],
   "source": [
    "dollars = np.random.randint(1,12,10)\n",
    "rupees = [x * 81.52 for x in dollars]"
   ]
  },
  {
   "cell_type": "code",
   "execution_count": 11,
   "id": "2c74df6c",
   "metadata": {},
   "outputs": [
    {
     "data": {
      "text/html": [
       "<div>\n",
       "<style scoped>\n",
       "    .dataframe tbody tr th:only-of-type {\n",
       "        vertical-align: middle;\n",
       "    }\n",
       "\n",
       "    .dataframe tbody tr th {\n",
       "        vertical-align: top;\n",
       "    }\n",
       "\n",
       "    .dataframe thead th {\n",
       "        text-align: right;\n",
       "    }\n",
       "</style>\n",
       "<table border=\"1\" class=\"dataframe\">\n",
       "  <thead>\n",
       "    <tr style=\"text-align: right;\">\n",
       "      <th></th>\n",
       "      <th>Dollars</th>\n",
       "      <th>Rupees</th>\n",
       "    </tr>\n",
       "  </thead>\n",
       "  <tbody>\n",
       "    <tr>\n",
       "      <th>0</th>\n",
       "      <td>1</td>\n",
       "      <td>81.52</td>\n",
       "    </tr>\n",
       "    <tr>\n",
       "      <th>1</th>\n",
       "      <td>3</td>\n",
       "      <td>244.56</td>\n",
       "    </tr>\n",
       "    <tr>\n",
       "      <th>2</th>\n",
       "      <td>4</td>\n",
       "      <td>326.08</td>\n",
       "    </tr>\n",
       "    <tr>\n",
       "      <th>3</th>\n",
       "      <td>4</td>\n",
       "      <td>326.08</td>\n",
       "    </tr>\n",
       "    <tr>\n",
       "      <th>4</th>\n",
       "      <td>5</td>\n",
       "      <td>407.60</td>\n",
       "    </tr>\n",
       "    <tr>\n",
       "      <th>5</th>\n",
       "      <td>5</td>\n",
       "      <td>407.60</td>\n",
       "    </tr>\n",
       "    <tr>\n",
       "      <th>6</th>\n",
       "      <td>8</td>\n",
       "      <td>652.16</td>\n",
       "    </tr>\n",
       "    <tr>\n",
       "      <th>7</th>\n",
       "      <td>10</td>\n",
       "      <td>815.20</td>\n",
       "    </tr>\n",
       "    <tr>\n",
       "      <th>8</th>\n",
       "      <td>10</td>\n",
       "      <td>815.20</td>\n",
       "    </tr>\n",
       "    <tr>\n",
       "      <th>9</th>\n",
       "      <td>11</td>\n",
       "      <td>896.72</td>\n",
       "    </tr>\n",
       "  </tbody>\n",
       "</table>\n",
       "</div>"
      ],
      "text/plain": [
       "   Dollars  Rupees\n",
       "0        1   81.52\n",
       "1        3  244.56\n",
       "2        4  326.08\n",
       "3        4  326.08\n",
       "4        5  407.60\n",
       "5        5  407.60\n",
       "6        8  652.16\n",
       "7       10  815.20\n",
       "8       10  815.20\n",
       "9       11  896.72"
      ]
     },
     "execution_count": 11,
     "metadata": {},
     "output_type": "execute_result"
    }
   ],
   "source": [
    "pizza_price = pd.DataFrame({\n",
    "    \"Dollars\": dollars,\n",
    "    \"Rupees\": rupees\n",
    "})\n",
    "pizza_price.sort_values(\"Dollars\",inplace=True,ignore_index=True)\n",
    "pizza_price"
   ]
  },
  {
   "cell_type": "code",
   "execution_count": 12,
   "id": "e4ab8858",
   "metadata": {},
   "outputs": [
    {
     "name": "stdout",
     "output_type": "stream",
     "text": [
      "Dollars Mean: 6.1   Rupees Mean: 497.27\n",
      "Dollars Variance: 11.66   Rupees Variance: 77457.12\n",
      "Dollars Standard Deviation: 3.41   Rupees Standard Deviation: 278.31\n",
      "Dollars Coeff of Variance: 0.56   Rupees Coeff of Variance: 0.56\n"
     ]
    }
   ],
   "source": [
    "dollars_mean = round(pizza_price[\"Dollars\"].mean(),2)\n",
    "rupees_mean = round(pizza_price[\"Rupees\"].mean(),2)\n",
    "\n",
    "dollars_var = round(pizza_price[\"Dollars\"].var(),2)\n",
    "rupees_var = round(pizza_price[\"Rupees\"].var(),2)\n",
    "\n",
    "dollars_std = round(pizza_price[\"Dollars\"].std(),2)\n",
    "rupees_std = round(pizza_price[\"Rupees\"].std(),2)\n",
    "\n",
    "dollars_cv = round(dollars_std/dollars_mean,2)\n",
    "rupees_cv = round(rupees_std/rupees_mean,2)\n",
    "\n",
    "print(\"Dollars Mean:\",dollars_mean,\"  Rupees Mean:\",rupees_mean)\n",
    "print(\"Dollars Variance:\",dollars_var,\"  Rupees Variance:\",rupees_var)\n",
    "print(\"Dollars Standard Deviation:\",dollars_std,\"  Rupees Standard Deviation:\",rupees_std)\n",
    "print(\"Dollars Coeff of Variance:\",dollars_cv,\"  Rupees Coeff of Variance:\",rupees_cv)"
   ]
  },
  {
   "cell_type": "markdown",
   "id": "539b3fba",
   "metadata": {},
   "source": [
    "**Coeff of Variance** was able to find relationship without the dependence on the unit Conversion of Values."
   ]
  },
  {
   "cell_type": "markdown",
   "id": "9bcdf228",
   "metadata": {},
   "source": [
    "---"
   ]
  },
  {
   "cell_type": "markdown",
   "id": "1d0e8ab5",
   "metadata": {},
   "source": [
    "## Relationship between Variables"
   ]
  },
  {
   "cell_type": "markdown",
   "id": "dfca1210",
   "metadata": {},
   "source": [
    "### Covariance"
   ]
  },
  {
   "cell_type": "markdown",
   "id": "0e0e4735",
   "metadata": {},
   "source": [
    "- Cov > 0, the two variables move together.\n",
    "- Cov < 0, the two variables move in opposite direction.\n",
    "- Cov = 0, the two variables are independent."
   ]
  },
  {
   "cell_type": "markdown",
   "id": "30a22ac8",
   "metadata": {},
   "source": [
    "##### Population Covariance:-"
   ]
  },
  {
   "cell_type": "markdown",
   "id": "e1a56a14",
   "metadata": {},
   "source": [
    "## $$ \\sigma_{xy} = \\frac {\\sum_{i=1}^N{(x_i-\\mu_x) (y_i-\\mu_y)}}{N}$$"
   ]
  },
  {
   "cell_type": "markdown",
   "id": "f984c9f9",
   "metadata": {},
   "source": [
    "##### Sample Covariance:-"
   ]
  },
  {
   "cell_type": "markdown",
   "id": "d8dca994",
   "metadata": {},
   "source": [
    "## $$ s_{xy} = \\frac {\\sum_{i=1}^n{(x_i-\\bar{x})(y_i-\\bar{y})}}{n-1}$$"
   ]
  },
  {
   "cell_type": "markdown",
   "id": "a934154f",
   "metadata": {},
   "source": [
    "### Correlation"
   ]
  },
  {
   "cell_type": "markdown",
   "id": "2a1f7635",
   "metadata": {},
   "source": [
    "- It adjusts Covariance, so that the relationship betwee two variables becomes easy and intiutive to interpret.\n",
    "- Values are in between -1 & 1"
   ]
  },
  {
   "cell_type": "markdown",
   "id": "cc8f217b",
   "metadata": {},
   "source": [
    "### $$Corelation = \\frac{Covariance(x,y)}{Standard Deviation(x) \\times Standard Deviation(y)}$$"
   ]
  },
  {
   "cell_type": "markdown",
   "id": "4e92ab6a",
   "metadata": {},
   "source": [
    "#### Correlation does not apply Causation\n",
    "$$Corelation(x,y) \\neq Correlation(y,x)$$"
   ]
  },
  {
   "cell_type": "code",
   "execution_count": 13,
   "id": "9a1afa84",
   "metadata": {
    "scrolled": true
   },
   "outputs": [
    {
     "data": {
      "text/html": [
       "<div>\n",
       "<style scoped>\n",
       "    .dataframe tbody tr th:only-of-type {\n",
       "        vertical-align: middle;\n",
       "    }\n",
       "\n",
       "    .dataframe tbody tr th {\n",
       "        vertical-align: top;\n",
       "    }\n",
       "\n",
       "    .dataframe thead th {\n",
       "        text-align: right;\n",
       "    }\n",
       "</style>\n",
       "<table border=\"1\" class=\"dataframe\">\n",
       "  <thead>\n",
       "    <tr style=\"text-align: right;\">\n",
       "      <th></th>\n",
       "      <th>Size</th>\n",
       "      <th>Price</th>\n",
       "    </tr>\n",
       "  </thead>\n",
       "  <tbody>\n",
       "    <tr>\n",
       "      <th>0</th>\n",
       "      <td>650</td>\n",
       "      <td>772</td>\n",
       "    </tr>\n",
       "    <tr>\n",
       "      <th>1</th>\n",
       "      <td>785</td>\n",
       "      <td>998</td>\n",
       "    </tr>\n",
       "    <tr>\n",
       "      <th>2</th>\n",
       "      <td>1200</td>\n",
       "      <td>1200</td>\n",
       "    </tr>\n",
       "    <tr>\n",
       "      <th>3</th>\n",
       "      <td>720</td>\n",
       "      <td>800</td>\n",
       "    </tr>\n",
       "    <tr>\n",
       "      <th>4</th>\n",
       "      <td>975</td>\n",
       "      <td>895</td>\n",
       "    </tr>\n",
       "  </tbody>\n",
       "</table>\n",
       "</div>"
      ],
      "text/plain": [
       "   Size  Price\n",
       "0   650    772\n",
       "1   785    998\n",
       "2  1200   1200\n",
       "3   720    800\n",
       "4   975    895"
      ]
     },
     "execution_count": 13,
     "metadata": {},
     "output_type": "execute_result"
    }
   ],
   "source": [
    "size = [650,785,1200,720,975]\n",
    "price = [772,998,1200,800,895]\n",
    "house_price = pd.DataFrame({\n",
    "    \"Size\": size,\n",
    "    \"Price\": price\n",
    "})\n",
    "house_price"
   ]
  },
  {
   "cell_type": "code",
   "execution_count": 14,
   "id": "74666318",
   "metadata": {},
   "outputs": [
    {
     "data": {
      "text/plain": [
       "<AxesSubplot:xlabel='Size', ylabel='Price'>"
      ]
     },
     "execution_count": 14,
     "metadata": {},
     "output_type": "execute_result"
    },
    {
     "data": {
      "image/png": "[encoded data removed]",
      "text/plain": [
       "<Figure size 640x480 with 1 Axes>"
      ]
     },
     "metadata": {},
     "output_type": "display_data"
    }
   ],
   "source": [
    "sns.scatterplot(data=house_price, x=house_price[\"Size\"], y=house_price[\"Price\"])"
   ]
  },
  {
   "cell_type": "code",
   "execution_count": 15,
   "id": "1ec871dc",
   "metadata": {},
   "outputs": [
    {
     "data": {
      "text/html": [
       "<div>\n",
       "<style scoped>\n",
       "    .dataframe tbody tr th:only-of-type {\n",
       "        vertical-align: middle;\n",
       "    }\n",
       "\n",
       "    .dataframe tbody tr th {\n",
       "        vertical-align: top;\n",
       "    }\n",
       "\n",
       "    .dataframe thead th {\n",
       "        text-align: right;\n",
       "    }\n",
       "</style>\n",
       "<table border=\"1\" class=\"dataframe\">\n",
       "  <thead>\n",
       "    <tr style=\"text-align: right;\">\n",
       "      <th></th>\n",
       "      <th>Size</th>\n",
       "      <th>Price</th>\n",
       "    </tr>\n",
       "  </thead>\n",
       "  <tbody>\n",
       "    <tr>\n",
       "      <th>Size</th>\n",
       "      <td>49492.50</td>\n",
       "      <td>33491.25</td>\n",
       "    </tr>\n",
       "    <tr>\n",
       "      <th>Price</th>\n",
       "      <td>33491.25</td>\n",
       "      <td>30142.00</td>\n",
       "    </tr>\n",
       "  </tbody>\n",
       "</table>\n",
       "</div>"
      ],
      "text/plain": [
       "           Size     Price\n",
       "Size   49492.50  33491.25\n",
       "Price  33491.25  30142.00"
      ]
     },
     "execution_count": 15,
     "metadata": {},
     "output_type": "execute_result"
    }
   ],
   "source": [
    "house_price.cov()"
   ]
  },
  {
   "cell_type": "code",
   "execution_count": 16,
   "id": "f0e03c45",
   "metadata": {},
   "outputs": [
    {
     "data": {
      "text/html": [
       "<div>\n",
       "<style scoped>\n",
       "    .dataframe tbody tr th:only-of-type {\n",
       "        vertical-align: middle;\n",
       "    }\n",
       "\n",
       "    .dataframe tbody tr th {\n",
       "        vertical-align: top;\n",
       "    }\n",
       "\n",
       "    .dataframe thead th {\n",
       "        text-align: right;\n",
       "    }\n",
       "</style>\n",
       "<table border=\"1\" class=\"dataframe\">\n",
       "  <thead>\n",
       "    <tr style=\"text-align: right;\">\n",
       "      <th></th>\n",
       "      <th>Size</th>\n",
       "      <th>Price</th>\n",
       "    </tr>\n",
       "  </thead>\n",
       "  <tbody>\n",
       "    <tr>\n",
       "      <th>Size</th>\n",
       "      <td>1.000000</td>\n",
       "      <td>0.867113</td>\n",
       "    </tr>\n",
       "    <tr>\n",
       "      <th>Price</th>\n",
       "      <td>0.867113</td>\n",
       "      <td>1.000000</td>\n",
       "    </tr>\n",
       "  </tbody>\n",
       "</table>\n",
       "</div>"
      ],
      "text/plain": [
       "           Size     Price\n",
       "Size   1.000000  0.867113\n",
       "Price  0.867113  1.000000"
      ]
     },
     "execution_count": 16,
     "metadata": {},
     "output_type": "execute_result"
    }
   ],
   "source": [
    "house_price.corr()"
   ]
  },
  {
   "cell_type": "markdown",
   "id": "a4f340c1",
   "metadata": {},
   "source": [
    "Hence **Price** is depenndent on **Size** but **not Size** is dependent on **Price**. _(Applying Correlation does not apply Causation)_"
   ]
  },
  {
   "cell_type": "markdown",
   "id": "a1a6c1ea-9925-44a0-a554-9a8b0e3bdf99",
   "metadata": {},
   "source": [
    "## Scaling Techniques\n",
    "\n",
    "- Objective to bring every variable to the same level.\n",
    "- Machine Learning Algorithms prefers whose magnitude is higher in variables.\n",
    "    - Magitude doesnt means its significance is relevant."
   ]
  },
  {
   "cell_type": "markdown",
   "id": "59ba255f-de8d-44b6-adfd-c440a0761a36",
   "metadata": {},
   "source": [
    "### Normalization"
   ]
  },
  {
   "cell_type": "markdown",
   "id": "8297198f-b9d1-408e-acc5-de524b1cc8d2",
   "metadata": {},
   "source": [
    "- Also known as **Min/Max Scaling** \n",
    "- Range from $ 0-1 $\n",
    "- This is done for every variable/featue/columns to get normal distribution in $ 0-1 $ Range\n",
    "\n",
    "## $$ Normalization = \\frac{x_i - x_{min}}{x_{max}-x_{min}} $$"
   ]
  },
  {
   "cell_type": "markdown",
   "id": "4bd6a0bf-f6b4-410e-950b-9b5e0e03298e",
   "metadata": {},
   "source": [
    "### Standardisation"
   ]
  },
  {
   "cell_type": "markdown",
   "id": "bbcdaafd-4a1d-4593-bb52-e7f193feb596",
   "metadata": {},
   "source": [
    "- Gives range from -1 to 1\n",
    "- Less afffected by outliers.\n",
    "\n",
    "## $$Standardistion=\\frac{x_i - \\mu}{\\sigma}, \\frac{x_i-\\bar x}{s}$$"
   ]
  },
  {
   "cell_type": "markdown",
   "id": "78d228ff",
   "metadata": {},
   "source": [
    "### Normal Distribution\n",
    "\n",
    "- Peak point is mean, and mean=median=mode\n",
    "- Should be a bell curve shape\n",
    "- Emperical Rule\n",
    "    - 1 $\\sigma$ - left and + right from mean, covers 68% of data\n",
    "    - 2 $\\sigma$ - left and + right from mean, covers 95% of data\n",
    "    - 3 $\\sigma$ - left and + right from mean, covers 99.7% of data"
   ]
  },
  {
   "cell_type": "markdown",
   "id": "d3d45727",
   "metadata": {},
   "source": [
    "### Kurtosis"
   ]
  },
  {
   "cell_type": "markdown",
   "id": "ebb0c5d1",
   "metadata": {},
   "source": [
    "- **Leptokurtic**: Data points are concentrated together, resulting in a long and and thin distribution\n",
    "- **Mesokurtic**: When Data is Normally Distributed\n",
    "- **Platykurtic**: When data points are scattered from each other, resulting in a shorter distribution"
   ]
  },
  {
   "cell_type": "markdown",
   "id": "e887ac8a",
   "metadata": {},
   "source": [
    "### Skewness\n",
    "\n",
    "- Your data is normally distributed but your data has outliers.\n",
    "- Left Skew: When outliers are on left, mean < median < mode\n",
    "- Right skew: When outliers are on right side, mode < median < mean>"
   ]
  },
  {
   "cell_type": "markdown",
   "id": "70aa3844",
   "metadata": {},
   "source": [
    "### Outliers\n",
    "\n",
    "- We use boxplot\n",
    "    - **Q1** -> 25% of data\n",
    "    - **Q2** -> 50% of data, Also median of data\n",
    "    - **Q3** -> 75% of data\n",
    "    - **Min** -> Minimum Value\n",
    "    - **Max** -> Maximum Value\n",
    "\n",
    "#### Treatment\n",
    "\n",
    "### $$ IQR = Q_3 - Q_1 $$\n",
    "### $$ \\text{Lower Bound} = Q_1 - 1.5 \\times IQR $$\n",
    "### $$ \\text{Upper Bound} = Q_3 + 1.5 \\times IQR $$\n",
    "\n",
    "- Outliers below the **Lower Bound** are replaced with the **Lower Bound** limit\n",
    "- Outliers above the **Upper Bound** are replaced withn the **Upper Bound** limit\n"
   ]
  }
 ],
 "metadata": {
  "kernelspec": {
   "display_name": "Python 3.9.15 ('base')",
   "language": "python",
   "name": "python3"
  },
  "language_info": {
   "codemirror_mode": {
    "name": "ipython",
    "version": 3
   },
   "file_extension": ".py",
   "mimetype": "text/x-python",
   "name": "python",
   "nbconvert_exporter": "python",
   "pygments_lexer": "ipython3",
   "version": "3.9.15"
  },
  "varInspector": {
   "cols": {
    "lenName": 16,
    "lenType": 16,
    "lenVar": 40
   },
   "kernels_config": {
    "python": {
     "delete_cmd_postfix": "",
     "delete_cmd_prefix": "del ",
     "library": "var_list.py",
     "varRefreshCmd": "print(var_dic_list())"
    },
    "r": {
     "delete_cmd_postfix": ") ",
     "delete_cmd_prefix": "rm(",
     "library": "var_list.r",
     "varRefreshCmd": "cat(var_dic_list()) "
    }
   },
   "types_to_exclude": [
    "module",
    "function",
    "builtin_function_or_method",
    "instance",
    "_Feature"
   ],
   "window_display": false
  },
  "vscode": {
   "interpreter": {
    "hash": "757053eaf0655596af139d123df37fb4079df03a43161b6a79909863304398bf"
   }
  }
 },
 "nbformat": 4,
 "nbformat_minor": 5
}
