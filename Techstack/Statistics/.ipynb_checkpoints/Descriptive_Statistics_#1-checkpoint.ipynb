{
 "cells": [
  {
   "cell_type": "markdown",
   "id": "4744037a",
   "metadata": {},
   "source": [
    "<h1> <center> DESCRIPTIVE STATISTICS #1"
   ]
  },
  {
   "cell_type": "markdown",
   "id": "47768f06",
   "metadata": {},
   "source": [
    "## Population"
   ]
  },
  {
   "cell_type": "markdown",
   "id": "c973e8e6",
   "metadata": {},
   "source": [
    "- Collection of all items of study.\n",
    "- Numbers obtained in it are called **Parameters**.\n",
    "- Denoted by $N$.\n",
    "- Are hard to define and hard to observe in real life."
   ]
  },
  {
   "cell_type": "markdown",
   "id": "e199e076",
   "metadata": {},
   "source": [
    "## Sample"
   ]
  },
  {
   "cell_type": "markdown",
   "id": "787e13b4",
   "metadata": {},
   "source": [
    "- A subset of population.\n",
    "- Numbers we obtain while working with sample are called as **Statistics**.\n",
    "- Denoted by $n$.\n",
    "- Samples are economic and less time consuming, makes them easy to observe and contact."
   ]
  },
  {
   "cell_type": "markdown",
   "id": "004d0814",
   "metadata": {},
   "source": [
    "### Randomness Sample"
   ]
  },
  {
   "cell_type": "markdown",
   "id": "ccfb1a09",
   "metadata": {},
   "source": [
    "A random sample is collected when each menmber of the population is chosen strictly by chance."
   ]
  },
  {
   "cell_type": "markdown",
   "id": "146b0fcb",
   "metadata": {},
   "source": [
    "### Represntativeness Sample"
   ]
  },
  {
   "cell_type": "markdown",
   "id": "a00d242b",
   "metadata": {},
   "source": [
    "A representative sample is a subset of the popultation that accurately reflects the members of the entire population. "
   ]
  },
  {
   "cell_type": "markdown",
   "id": "20d4c6db",
   "metadata": {},
   "source": [
    "---"
   ]
  },
  {
   "cell_type": "markdown",
   "id": "30c58201",
   "metadata": {},
   "source": [
    "## Types of Data "
   ]
  },
  {
   "cell_type": "markdown",
   "id": "c47d7a14",
   "metadata": {},
   "source": [
    "### Categorical"
   ]
  },
  {
   "cell_type": "markdown",
   "id": "6a451393",
   "metadata": {},
   "source": [
    "Describe category or groups like Audis, Mercedes, Yes/No....etc."
   ]
  },
  {
   "cell_type": "markdown",
   "id": "2ea9a8fa",
   "metadata": {},
   "source": [
    "### Numerical"
   ]
  },
  {
   "cell_type": "markdown",
   "id": "8ad7f487",
   "metadata": {},
   "source": [
    "Represents Numbers and can be further divided into:-"
   ]
  },
  {
   "cell_type": "markdown",
   "id": "cfe3a41b",
   "metadata": {},
   "source": [
    "#### Discrete"
   ]
  },
  {
   "cell_type": "markdown",
   "id": "c0617981",
   "metadata": {},
   "source": [
    "- Where you are sure that value would be an integer.\n",
    "- Eg:- How many kids you are going to have or your SAT score 1500,1510,1560.....etc.\n",
    " - Grades are Discrete like A,B,C,D..., Number pf Objects, Money."
   ]
  },
  {
   "cell_type": "markdown",
   "id": "7f5edffb",
   "metadata": {},
   "source": [
    "#### Continuous"
   ]
  },
  {
   "cell_type": "markdown",
   "id": "54d3adf9",
   "metadata": {},
   "source": [
    "- This data is infinite and impossible to count.\n",
    "- For eg:- Your weight which can change on a avery minute levels every day/hour.\n",
    " - Height, Area, Distance, time."
   ]
  },
  {
   "cell_type": "markdown",
   "id": "3905edd1",
   "metadata": {},
   "source": [
    "## Levels of Measurement"
   ]
  },
  {
   "cell_type": "markdown",
   "id": "ffea2403",
   "metadata": {},
   "source": [
    "### Qualitative"
   ]
  },
  {
   "cell_type": "markdown",
   "id": "4257362e",
   "metadata": {},
   "source": [
    "#### Nominal"
   ]
  },
  {
   "cell_type": "markdown",
   "id": "fee94d75",
   "metadata": {},
   "source": [
    "- They are like categories like car brands, season. \n",
    "- They can be numbers that can't be ordered."
   ]
  },
  {
   "cell_type": "markdown",
   "id": "44c00f20",
   "metadata": {},
   "source": [
    "#### Ordinal"
   ]
  },
  {
   "cell_type": "markdown",
   "id": "77418880",
   "metadata": {},
   "source": [
    "- Consist of groups that follow strict orders\n",
    "- Like ratiing your food as:- *Disgusting, Unappetizing, Neutral, Tasty, Delicious*"
   ]
  },
  {
   "cell_type": "markdown",
   "id": "5220659f",
   "metadata": {},
   "source": [
    "### Quantitative"
   ]
  },
  {
   "cell_type": "markdown",
   "id": "54fac060",
   "metadata": {},
   "source": [
    "#### Interval"
   ]
  },
  {
   "cell_type": "markdown",
   "id": "a50422bb",
   "metadata": {},
   "source": [
    "- Don't have a true zero.\n",
    "- For eg: Temprature, Say it is 5$^{\\circ} C$ & 41$^{\\circ} F$ yesterday and today is 10$^{\\circ} C$ & 50$^{\\circ} F$.\n",
    " - In terms of Celcius it is twice as cold as yesterday but not in terms of Farherniet."
   ]
  },
  {
   "cell_type": "markdown",
   "id": "ea2c87f1",
   "metadata": {},
   "source": [
    "#### Ratios"
   ]
  },
  {
   "cell_type": "markdown",
   "id": "3b84c342",
   "metadata": {},
   "source": [
    "- Have true zero.\n",
    "- For eg: if you have 2 apples and I have 6, I have 3 times as many as I do.\n",
    "- Temperature in Kelvin because Kelvin has a true zero while C & F dosen't have."
   ]
  }
 ],
 "metadata": {
  "kernelspec": {
   "display_name": "Python 3 (ipykernel)",
   "language": "python",
   "name": "python3"
  },
  "language_info": {
   "codemirror_mode": {
    "name": "ipython",
    "version": 3
   },
   "file_extension": ".py",
   "mimetype": "text/x-python",
   "name": "python",
   "nbconvert_exporter": "python",
   "pygments_lexer": "ipython3",
   "version": "3.9.13"
  }
 },
 "nbformat": 4,
 "nbformat_minor": 5
}
