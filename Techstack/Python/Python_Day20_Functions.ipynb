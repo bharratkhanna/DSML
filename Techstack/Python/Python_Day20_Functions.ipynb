{
 "cells": [
  {
   "cell_type": "code",
   "execution_count": 1,
   "id": "c5f75276",
   "metadata": {},
   "outputs": [
    {
     "name": "stdout",
     "output_type": "stream",
     "text": [
      "Hello\n",
      "How are you?\n",
      "Welcome to Python class\n",
      "Today is the first class of function\n"
     ]
    }
   ],
   "source": [
    "print(\"Hello\")\n",
    "print(\"How are you?\")\n",
    "print(\"Welcome to Python class\")\n",
    "print(\"Today is the first class of Python\")"
   ]
  },
  {
   "cell_type": "code",
   "execution_count": 2,
   "id": "96ee856c",
   "metadata": {},
   "outputs": [],
   "source": [
    "#if I want to repeat above message again and again, copying this is is a tediouus task"
   ]
  },
  {
   "cell_type": "markdown",
   "id": "6db07521",
   "metadata": {},
   "source": [
    "## Function"
   ]
  },
  {
   "cell_type": "code",
   "execution_count": 3,
   "id": "f613e86e",
   "metadata": {},
   "outputs": [],
   "source": [
    "# function is created using def keyword\n",
    "# we require to call a function for the execution\n",
    "# syntax for function"
   ]
  },
  {
   "cell_type": "code",
   "execution_count": 16,
   "id": "567e3f08",
   "metadata": {},
   "outputs": [],
   "source": [
    "def greet():\n",
    "    print(\"Hello\")\n",
    "    print(\"How are you?\")\n",
    "    print(\"Welcome to Python class\")\n",
    "    print(\"Today is the first class of Python\")"
   ]
  },
  {
   "cell_type": "code",
   "execution_count": 17,
   "id": "d549d20b",
   "metadata": {},
   "outputs": [
    {
     "name": "stdout",
     "output_type": "stream",
     "text": [
      "Hello\n",
      "How are you?\n",
      "Welcome to Python class\n",
      "Today is the first class of Python\n"
     ]
    }
   ],
   "source": [
    "greet()"
   ]
  },
  {
   "cell_type": "code",
   "execution_count": 19,
   "id": "78d8697f",
   "metadata": {},
   "outputs": [],
   "source": [
    "def greet(name):\n",
    "    print(\"Hello\",name)\n",
    "    print(\"How are you?\")\n",
    "    print(\"Welcome to Python class\")\n",
    "    print(\"Today is the first class of Python\")"
   ]
  },
  {
   "cell_type": "code",
   "execution_count": 21,
   "id": "79a881d3",
   "metadata": {},
   "outputs": [
    {
     "name": "stdout",
     "output_type": "stream",
     "text": [
      "Hello Bharat\n",
      "How are you?\n",
      "Welcome to Python class\n",
      "Today is the first class of Python\n"
     ]
    }
   ],
   "source": [
    "greet(\"Bharat\")"
   ]
  },
  {
   "cell_type": "code",
   "execution_count": 40,
   "id": "5523316b",
   "metadata": {},
   "outputs": [],
   "source": [
    "#create a user defined fuunction\n",
    "\n",
    "def square(num):\n",
    "    print(\"\\nSquare of\",num,\"is\",num * num)"
   ]
  },
  {
   "cell_type": "code",
   "execution_count": 42,
   "id": "58915b67",
   "metadata": {},
   "outputs": [
    {
     "name": "stdout",
     "output_type": "stream",
     "text": [
      "Enter number:2\n",
      "\n",
      "Square of 2 is 4\n"
     ]
    }
   ],
   "source": [
    "number = int(input(\"Enter number:\"))\n",
    "square(number)"
   ]
  },
  {
   "cell_type": "code",
   "execution_count": 43,
   "id": "33369656",
   "metadata": {},
   "outputs": [
    {
     "name": "stdout",
     "output_type": "stream",
     "text": [
      "\n",
      "Square of 2 is 4\n"
     ]
    }
   ],
   "source": [
    "y = square(2)"
   ]
  },
  {
   "cell_type": "code",
   "execution_count": 45,
   "id": "2c28bc6d",
   "metadata": {},
   "outputs": [
    {
     "name": "stdout",
     "output_type": "stream",
     "text": [
      "None\n"
     ]
    }
   ],
   "source": [
    "print(y)"
   ]
  },
  {
   "cell_type": "code",
   "execution_count": 37,
   "id": "2d58c64a",
   "metadata": {},
   "outputs": [],
   "source": [
    "def square(num):\n",
    "    power = num*num\n",
    "    return power   #return the value"
   ]
  },
  {
   "cell_type": "code",
   "execution_count": 38,
   "id": "4254fb02",
   "metadata": {},
   "outputs": [],
   "source": [
    "x = square(2) # valuue will be returned"
   ]
  },
  {
   "cell_type": "code",
   "execution_count": 39,
   "id": "47b83481",
   "metadata": {},
   "outputs": [
    {
     "data": {
      "text/plain": [
       "4"
      ]
     },
     "execution_count": 39,
     "metadata": {},
     "output_type": "execute_result"
    }
   ],
   "source": [
    "x"
   ]
  },
  {
   "cell_type": "code",
   "execution_count": 48,
   "id": "a905e088",
   "metadata": {},
   "outputs": [
    {
     "name": "stdout",
     "output_type": "stream",
     "text": [
      "Sum of two numbers is 393\n"
     ]
    }
   ],
   "source": [
    "def total(num1, num2):\n",
    "    return num1 + num2\n",
    "\n",
    "print(\"Sum of two numbers is\", total(29,364))"
   ]
  },
  {
   "cell_type": "code",
   "execution_count": 50,
   "id": "af0ef0c2",
   "metadata": {},
   "outputs": [
    {
     "data": {
      "text/plain": [
       "135"
      ]
     },
     "execution_count": 50,
     "metadata": {},
     "output_type": "execute_result"
    }
   ],
   "source": [
    "total(56,79)"
   ]
  },
  {
   "cell_type": "code",
   "execution_count": 64,
   "id": "6e71ac13",
   "metadata": {},
   "outputs": [],
   "source": [
    "def circle(r):\n",
    "    circum = 2 * 3.14 * r\n",
    "    print(\"Circumference: \",circum)\n",
    "    area = 3.14 * r * r\n",
    "    print(\"Area: \",area)\n",
    "    return circum,area"
   ]
  },
  {
   "cell_type": "code",
   "execution_count": 65,
   "id": "53731aa6",
   "metadata": {},
   "outputs": [
    {
     "name": "stdout",
     "output_type": "stream",
     "text": [
      "Circumference:  62.800000000000004\n",
      "Area:  314.0\n"
     ]
    }
   ],
   "source": [
    "c,a = circle(10) #you can save values like this"
   ]
  },
  {
   "cell_type": "code",
   "execution_count": 66,
   "id": "58381dde",
   "metadata": {},
   "outputs": [
    {
     "data": {
      "text/plain": [
       "62.800000000000004"
      ]
     },
     "execution_count": 66,
     "metadata": {},
     "output_type": "execute_result"
    }
   ],
   "source": [
    "c"
   ]
  },
  {
   "cell_type": "code",
   "execution_count": 67,
   "id": "b436a38d",
   "metadata": {},
   "outputs": [
    {
     "data": {
      "text/plain": [
       "314.0"
      ]
     },
     "execution_count": 67,
     "metadata": {},
     "output_type": "execute_result"
    }
   ],
   "source": [
    "a"
   ]
  },
  {
   "cell_type": "code",
   "execution_count": null,
   "id": "b54886cc",
   "metadata": {},
   "outputs": [],
   "source": []
  }
 ],
 "metadata": {
  "kernelspec": {
   "display_name": "Python 3 (ipykernel)",
   "language": "python",
   "name": "python3"
  },
  "language_info": {
   "codemirror_mode": {
    "name": "ipython",
    "version": 3
   },
   "file_extension": ".py",
   "mimetype": "text/x-python",
   "name": "python",
   "nbconvert_exporter": "python",
   "pygments_lexer": "ipython3",
   "version": "3.9.12"
  }
 },
 "nbformat": 4,
 "nbformat_minor": 5
}
