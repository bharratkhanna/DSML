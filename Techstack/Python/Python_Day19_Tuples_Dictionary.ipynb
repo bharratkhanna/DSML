{
 "cells": [
  {
   "cell_type": "markdown",
   "id": "9f6b8856",
   "metadata": {},
   "source": [
    "## Tuples"
   ]
  },
  {
   "cell_type": "code",
   "execution_count": 5,
   "id": "eab291d8",
   "metadata": {},
   "outputs": [],
   "source": [
    "# Tuples are defined in ()\n",
    "# It can store multiple values of same or different data types including vector\n",
    "# Tuples are ordered and indexed\n",
    "# Tuples are immutable (They cannot be edited)\n",
    "# Tuples are hashable"
   ]
  },
  {
   "cell_type": "code",
   "execution_count": 6,
   "id": "18a321dd",
   "metadata": {},
   "outputs": [],
   "source": [
    "myTup = (23,45,67,89)"
   ]
  },
  {
   "cell_type": "code",
   "execution_count": 7,
   "id": "ad19b733",
   "metadata": {},
   "outputs": [
    {
     "data": {
      "text/plain": [
       "(23, 45, 67, 89)"
      ]
     },
     "execution_count": 7,
     "metadata": {},
     "output_type": "execute_result"
    }
   ],
   "source": [
    "myTup"
   ]
  },
  {
   "cell_type": "code",
   "execution_count": 8,
   "id": "57b794aa",
   "metadata": {},
   "outputs": [
    {
     "data": {
      "text/plain": [
       "tuple"
      ]
     },
     "execution_count": 8,
     "metadata": {},
     "output_type": "execute_result"
    }
   ],
   "source": [
    "type(myTup)"
   ]
  },
  {
   "cell_type": "code",
   "execution_count": 9,
   "id": "0b2f70cf",
   "metadata": {},
   "outputs": [],
   "source": [
    "myTup1 = (23,78,91,'Lion','Apple',True)"
   ]
  },
  {
   "cell_type": "code",
   "execution_count": 10,
   "id": "88f41004",
   "metadata": {},
   "outputs": [
    {
     "data": {
      "text/plain": [
       "(23, 78, 91, 'Lion', 'Apple', True)"
      ]
     },
     "execution_count": 10,
     "metadata": {},
     "output_type": "execute_result"
    }
   ],
   "source": [
    "myTup1"
   ]
  },
  {
   "cell_type": "code",
   "execution_count": 11,
   "id": "3d6499f6",
   "metadata": {},
   "outputs": [
    {
     "data": {
      "text/plain": [
       "tuple"
      ]
     },
     "execution_count": 11,
     "metadata": {},
     "output_type": "execute_result"
    }
   ],
   "source": [
    "type(myTup1)"
   ]
  },
  {
   "cell_type": "code",
   "execution_count": 12,
   "id": "cb78a350",
   "metadata": {},
   "outputs": [],
   "source": [
    "# [] Elemnets can be accessed using this"
   ]
  },
  {
   "cell_type": "code",
   "execution_count": 13,
   "id": "f8aa4831",
   "metadata": {},
   "outputs": [
    {
     "data": {
      "text/plain": [
       "91"
      ]
     },
     "execution_count": 13,
     "metadata": {},
     "output_type": "execute_result"
    }
   ],
   "source": [
    "myTup1[2]"
   ]
  },
  {
   "cell_type": "code",
   "execution_count": 14,
   "id": "3f6d19ac",
   "metadata": {},
   "outputs": [
    {
     "data": {
      "text/plain": [
       "True"
      ]
     },
     "execution_count": 14,
     "metadata": {},
     "output_type": "execute_result"
    }
   ],
   "source": [
    "myTup1[-1]"
   ]
  },
  {
   "cell_type": "code",
   "execution_count": 15,
   "id": "13b793cd",
   "metadata": {},
   "outputs": [
    {
     "data": {
      "text/plain": [
       "'Apple'"
      ]
     },
     "execution_count": 15,
     "metadata": {},
     "output_type": "execute_result"
    }
   ],
   "source": [
    "myTup1[4]"
   ]
  },
  {
   "cell_type": "code",
   "execution_count": 16,
   "id": "c024cb7d",
   "metadata": {},
   "outputs": [
    {
     "ename": "TypeError",
     "evalue": "'tuple' object does not support item assignment",
     "output_type": "error",
     "traceback": [
      "\u001b[0;31m---------------------------------------------------------------------------\u001b[0m",
      "\u001b[0;31mTypeError\u001b[0m                                 Traceback (most recent call last)",
      "Input \u001b[0;32mIn [16]\u001b[0m, in \u001b[0;36m<cell line: 1>\u001b[0;34m()\u001b[0m\n\u001b[0;32m----> 1\u001b[0m myTup1[\u001b[38;5;241m4\u001b[39m] \u001b[38;5;241m=\u001b[39m \u001b[38;5;124m'\u001b[39m\u001b[38;5;124mBanana\u001b[39m\u001b[38;5;124m'\u001b[39m\n",
      "\u001b[0;31mTypeError\u001b[0m: 'tuple' object does not support item assignment"
     ]
    }
   ],
   "source": [
    "myTup1[4] = 'Banana' #Cannot be edited"
   ]
  },
  {
   "cell_type": "code",
   "execution_count": null,
   "id": "1bdcb831",
   "metadata": {},
   "outputs": [],
   "source": [
    "hash(myTup1) #Hashable function because it is stored orderedly in memory"
   ]
  },
  {
   "cell_type": "code",
   "execution_count": null,
   "id": "c3363d01",
   "metadata": {},
   "outputs": [],
   "source": [
    "x = 69\n",
    "hash(x) #only integer value is returned in hash in rest all variables memory location is returned"
   ]
  },
  {
   "cell_type": "code",
   "execution_count": null,
   "id": "a059f844",
   "metadata": {},
   "outputs": [],
   "source": [
    "#List is more time taking when compared to tuples"
   ]
  },
  {
   "cell_type": "code",
   "execution_count": null,
   "id": "8b1b3115",
   "metadata": {},
   "outputs": [],
   "source": [
    "dir(tuple)"
   ]
  },
  {
   "cell_type": "code",
   "execution_count": null,
   "id": "342763a5",
   "metadata": {},
   "outputs": [],
   "source": [
    "myTup2 = (12,11,13,12,12,11,12,14,15)"
   ]
  },
  {
   "cell_type": "code",
   "execution_count": null,
   "id": "75949750",
   "metadata": {},
   "outputs": [],
   "source": [
    "myTup2.count(12) # Tells how many times given value is found in Tuple"
   ]
  },
  {
   "cell_type": "code",
   "execution_count": null,
   "id": "986185f8",
   "metadata": {},
   "outputs": [],
   "source": [
    "myTup2.index(12) #Displays the position of given value,if repeated value occurs shows the first one\n",
    "#myTup2[0] is 12"
   ]
  },
  {
   "cell_type": "code",
   "execution_count": null,
   "id": "3848b7b7",
   "metadata": {},
   "outputs": [],
   "source": [
    "myTup3 = (23,34,56,[32,45,78],29)\n",
    "type(myTup3[3])"
   ]
  },
  {
   "cell_type": "markdown",
   "id": "3abcad9f",
   "metadata": {},
   "source": [
    "## Dictionary"
   ]
  },
  {
   "cell_type": "code",
   "execution_count": null,
   "id": "acb9fbea",
   "metadata": {},
   "outputs": [],
   "source": [
    "# key1: value1, key2: value2, key3: value3\n",
    "# It can be created in the pair of key and values\n",
    "# It can be created using {}\n",
    "# They are mutable, hence editable\n",
    "# They are unhashable\n",
    "# Keys and values can have multiple data types including vector\n",
    "# They are ordered and unindexed"
   ]
  },
  {
   "cell_type": "code",
   "execution_count": null,
   "id": "7f6a9776",
   "metadata": {},
   "outputs": [],
   "source": [
    "#java -325, python - 455, machine - 625"
   ]
  },
  {
   "cell_type": "code",
   "execution_count": null,
   "id": "79dfd066",
   "metadata": {},
   "outputs": [],
   "source": [
    "myBook = {\"Java\":325, \"Python\":455, \"Machine\":625}"
   ]
  },
  {
   "cell_type": "code",
   "execution_count": null,
   "id": "80b5cf1c",
   "metadata": {},
   "outputs": [],
   "source": [
    "myBook"
   ]
  },
  {
   "cell_type": "code",
   "execution_count": null,
   "id": "3ecb269d",
   "metadata": {},
   "outputs": [],
   "source": [
    "type(myBook)"
   ]
  },
  {
   "cell_type": "code",
   "execution_count": null,
   "id": "40bffb39",
   "metadata": {},
   "outputs": [],
   "source": [
    "# \"Apple\": 56, \"Banana\": 50, \"Orange\": 56"
   ]
  },
  {
   "cell_type": "code",
   "execution_count": null,
   "id": "70e8385a",
   "metadata": {},
   "outputs": [],
   "source": [
    "myFruit = {\"Apple\":56, \"Banana\": 50, \"Orange\": 56}\n",
    "myFruit"
   ]
  },
  {
   "cell_type": "code",
   "execution_count": null,
   "id": "8142df1f",
   "metadata": {},
   "outputs": [],
   "source": [
    "# 101:98.5, 102:86.7, 103:91"
   ]
  },
  {
   "cell_type": "code",
   "execution_count": 18,
   "id": "421e9838",
   "metadata": {},
   "outputs": [],
   "source": [
    "result = {101: 98.5, 102: 86.7, 103: 91}"
   ]
  },
  {
   "cell_type": "code",
   "execution_count": null,
   "id": "23b4dfa7",
   "metadata": {},
   "outputs": [],
   "source": [
    "result[101]"
   ]
  },
  {
   "cell_type": "code",
   "execution_count": null,
   "id": "6e825fba",
   "metadata": {},
   "outputs": [],
   "source": [
    "dir(dict)"
   ]
  },
  {
   "cell_type": "code",
   "execution_count": null,
   "id": "0129f278",
   "metadata": {},
   "outputs": [],
   "source": [
    "hash(result)"
   ]
  },
  {
   "cell_type": "code",
   "execution_count": 20,
   "id": "642accc1",
   "metadata": {},
   "outputs": [
    {
     "ename": "KeyError",
     "evalue": "2",
     "output_type": "error",
     "traceback": [
      "\u001b[0;31m---------------------------------------------------------------------------\u001b[0m",
      "\u001b[0;31mKeyError\u001b[0m                                  Traceback (most recent call last)",
      "Input \u001b[0;32mIn [20]\u001b[0m, in \u001b[0;36m<cell line: 1>\u001b[0;34m()\u001b[0m\n\u001b[0;32m----> 1\u001b[0m \u001b[43mresult\u001b[49m\u001b[43m[\u001b[49m\u001b[38;5;241;43m2\u001b[39;49m\u001b[43m]\u001b[49m\n",
      "\u001b[0;31mKeyError\u001b[0m: 2"
     ]
    }
   ],
   "source": [
    "result[2] #cannot be accessed using index value, instead use key"
   ]
  },
  {
   "cell_type": "code",
   "execution_count": 19,
   "id": "c0f20280",
   "metadata": {},
   "outputs": [
    {
     "data": {
      "text/plain": [
       "{101: 98.5, 102: 86.7, 103: 91}"
      ]
     },
     "execution_count": 19,
     "metadata": {},
     "output_type": "execute_result"
    }
   ],
   "source": [
    "result"
   ]
  },
  {
   "cell_type": "code",
   "execution_count": null,
   "id": "d52fb8a1",
   "metadata": {},
   "outputs": [],
   "source": []
  }
 ],
 "metadata": {
  "kernelspec": {
   "display_name": "Python 3 (ipykernel)",
   "language": "python",
   "name": "python3"
  },
  "language_info": {
   "codemirror_mode": {
    "name": "ipython",
    "version": 3
   },
   "file_extension": ".py",
   "mimetype": "text/x-python",
   "name": "python",
   "nbconvert_exporter": "python",
   "pygments_lexer": "ipython3",
   "version": "3.9.12"
  }
 },
 "nbformat": 4,
 "nbformat_minor": 5
}
