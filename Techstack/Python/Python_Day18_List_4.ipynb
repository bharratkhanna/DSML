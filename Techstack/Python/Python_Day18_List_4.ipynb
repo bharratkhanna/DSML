{
 "cells": [
  {
   "cell_type": "code",
   "execution_count": 1,
   "id": "0cf930b6",
   "metadata": {},
   "outputs": [],
   "source": [
    "#Input from user- Iterate loop\n",
    "#Add to empty list\n",
    "#Terminates when user add 0"
   ]
  },
  {
   "cell_type": "code",
   "execution_count": 3,
   "id": "774df0c1",
   "metadata": {},
   "outputs": [
    {
     "name": "stdout",
     "output_type": "stream",
     "text": [
      "Enter number: 5\n",
      "Enter number: 4\n",
      "Enter number: 7\n",
      "Enter number: 6\n",
      "Enter number: 7\n",
      "Enter number: 4\n",
      "Enter number: 32\n",
      "Enter number: 0\n",
      "[5, 4, 7, 6, 7, 4, 32]\n"
     ]
    }
   ],
   "source": [
    "myList =[]\n",
    "while True:\n",
    "    num = int(input(\"Enter number: \"))\n",
    "    if num!=0:\n",
    "        myList.append(num)\n",
    "    else:\n",
    "        break\n",
    "print(myList)"
   ]
  },
  {
   "cell_type": "code",
   "execution_count": 4,
   "id": "d636e7d8",
   "metadata": {},
   "outputs": [],
   "source": [
    "#Input from user- Iterate loop\n",
    "#Add to empty list\n",
    "#Terminates when user add 0\n",
    "#Display reverse list"
   ]
  },
  {
   "cell_type": "code",
   "execution_count": 7,
   "id": "b96d6c07",
   "metadata": {},
   "outputs": [
    {
     "name": "stdout",
     "output_type": "stream",
     "text": [
      "Enter number: 5\n",
      "Enter number: 6\n",
      "Enter number: 7\n",
      "Enter number: 0\n",
      "[7, 6, 5]\n"
     ]
    }
   ],
   "source": [
    "myList =[]\n",
    "while True:\n",
    "    num = int(input(\"Enter number: \"))\n",
    "    if num!=0:\n",
    "        myList.append(num)\n",
    "    else:\n",
    "        break\n",
    "myList.reverse()\n",
    "print(myList)"
   ]
  },
  {
   "cell_type": "code",
   "execution_count": 9,
   "id": "bd0f70f1",
   "metadata": {},
   "outputs": [
    {
     "name": "stdout",
     "output_type": "stream",
     "text": [
      "Enter number: 5\n",
      "Enter number: 45\n",
      "Enter number: 34\n",
      "Enter number: 25\n",
      "Enter number: 76\n",
      "Enter number: 56\n",
      "Enter number: 89\n",
      "Enter number: 0\n",
      "76\n"
     ]
    }
   ],
   "source": [
    "myList =[]\n",
    "while True:\n",
    "    num = int(input(\"Enter number: \"))\n",
    "    if num!=0:\n",
    "        myList.append(num)\n",
    "    else:\n",
    "        break\n",
    "myList.sort(reverse = True)\n",
    "print(myList[1])"
   ]
  },
  {
   "cell_type": "code",
   "execution_count": 11,
   "id": "44b0a6a7",
   "metadata": {},
   "outputs": [],
   "source": [
    "#Input from user- Iterate loop\n",
    "#Add to empty list\n",
    "#Terminates when user add 0\n",
    "#Remove max & min values"
   ]
  },
  {
   "cell_type": "code",
   "execution_count": 19,
   "id": "fe7fe547",
   "metadata": {},
   "outputs": [
    {
     "name": "stdout",
     "output_type": "stream",
     "text": [
      "Enter number: 12\n",
      "Enter number: 34\n",
      "Enter number: 56\n",
      "Enter number: 78\n",
      "Enter number: 90\n",
      "Enter number: 90\n",
      "Enter number: 12\n",
      "Enter number: 0\n",
      "[34, 56, 78, 90, 12]\n"
     ]
    }
   ],
   "source": [
    "myList =[]\n",
    "while True:\n",
    "    num = int(input(\"Enter number: \"))\n",
    "    if num!=0:\n",
    "        myList.append(num)\n",
    "    else:\n",
    "        break\n",
    "        \n",
    "myList.remove(max(myList))\n",
    "myList.remove(min(myList))\n",
    "print(myList)"
   ]
  },
  {
   "cell_type": "markdown",
   "id": "0732bd52",
   "metadata": {},
   "source": [
    "### Nested List"
   ]
  },
  {
   "cell_type": "code",
   "execution_count": 21,
   "id": "2dba4e78",
   "metadata": {},
   "outputs": [
    {
     "data": {
      "text/plain": [
       "[12, 34, 56, 78, [23, 45, 56], 67, 78]"
      ]
     },
     "execution_count": 21,
     "metadata": {},
     "output_type": "execute_result"
    }
   ],
   "source": [
    "myList1 = [12,34,56,78,[23,45,56],67,78]\n",
    "myList1"
   ]
  },
  {
   "cell_type": "code",
   "execution_count": 22,
   "id": "ac18b59b",
   "metadata": {},
   "outputs": [
    {
     "data": {
      "text/plain": [
       "34"
      ]
     },
     "execution_count": 22,
     "metadata": {},
     "output_type": "execute_result"
    }
   ],
   "source": [
    "myList[0]"
   ]
  },
  {
   "cell_type": "code",
   "execution_count": 26,
   "id": "5382dcff",
   "metadata": {},
   "outputs": [
    {
     "data": {
      "text/plain": [
       "[23, 45, 56]"
      ]
     },
     "execution_count": 26,
     "metadata": {},
     "output_type": "execute_result"
    }
   ],
   "source": [
    "myList1[4]"
   ]
  },
  {
   "cell_type": "code",
   "execution_count": 27,
   "id": "0e135466",
   "metadata": {},
   "outputs": [
    {
     "data": {
      "text/plain": [
       "23"
      ]
     },
     "execution_count": 27,
     "metadata": {},
     "output_type": "execute_result"
    }
   ],
   "source": [
    "myList1[4][0]"
   ]
  },
  {
   "cell_type": "code",
   "execution_count": 28,
   "id": "f1c5b20f",
   "metadata": {},
   "outputs": [
    {
     "name": "stdout",
     "output_type": "stream",
     "text": [
      "Enter number: 12\n",
      "Enter number: 3\n",
      "Enter number: 44\n",
      "Enter number: 56\n",
      "Enter number: 12\n",
      "Enter number: 34\n",
      "Enter number: 56\n",
      "Enter number: 3\n",
      "Enter number: 3\n",
      "Enter number: 3\n",
      "Enter number: 356\n",
      "Enter number: 356\n",
      "Enter number: 356\n",
      "Enter number: 56\n",
      "Enter number: 56\n",
      "Enter number: 56\n",
      "Enter number: 0\n",
      "\n",
      "2nd biggest number in list is 56\n"
     ]
    }
   ],
   "source": [
    "numList = []\n",
    "max_num = 0\n",
    "max_num2 = 0\n",
    "num = 1\n",
    "\n",
    "while(num !=0):\n",
    "    num = int(input(\"Enter number: \"))\n",
    "    numList.append(num)\n",
    "\n",
    "for i in range(0,len(numList)-1):\n",
    "    if numList[i] > max_num:\n",
    "        max_num2 = max_num\n",
    "        max_num = numList[i]\n",
    "        \n",
    "        \n",
    "print(\"\\n2nd biggest number in list is\", max_num2)"
   ]
  },
  {
   "cell_type": "code",
   "execution_count": 29,
   "id": "aef94fd9",
   "metadata": {},
   "outputs": [
    {
     "name": "stdout",
     "output_type": "stream",
     "text": [
      "Enter number: 12\n",
      "Enter number: 34\n",
      "Enter number: 56\n",
      "Enter number: 78\n",
      "Enter number: 78\n",
      "Enter number: 78\n",
      "Enter number: 89\n",
      "Enter number: 89\n",
      "Enter number: 0\n",
      "\n",
      "2nd biggest number in list is 78\n"
     ]
    }
   ],
   "source": [
    "#Better way to solve the upper problem \n",
    "\n",
    "numList = []\n",
    "max_num = 0\n",
    "max_num2 = 0\n",
    "num = 1\n",
    "\n",
    "while(num !=0):\n",
    "    num = int(input(\"Enter number: \"))\n",
    "    if num not in numList:\n",
    "        numList.append(num)\n",
    "\n",
    "numList.sort()\n",
    "        \n",
    "        \n",
    "print(\"\\n2nd biggest number in list is\", numList[-2])"
   ]
  }
 ],
 "metadata": {
  "kernelspec": {
   "display_name": "Python 3 (ipykernel)",
   "language": "python",
   "name": "python3"
  },
  "language_info": {
   "codemirror_mode": {
    "name": "ipython",
    "version": 3
   },
   "file_extension": ".py",
   "mimetype": "text/x-python",
   "name": "python",
   "nbconvert_exporter": "python",
   "pygments_lexer": "ipython3",
   "version": "3.9.12"
  }
 },
 "nbformat": 4,
 "nbformat_minor": 5
}
