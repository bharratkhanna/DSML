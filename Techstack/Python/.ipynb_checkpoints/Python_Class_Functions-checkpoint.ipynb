{
 "cells": [
  {
   "cell_type": "code",
   "execution_count": null,
   "id": "da54a2e2",
   "metadata": {},
   "outputs": [],
   "source": [
    "class Person:\n",
    "    \n",
    "    def __init__(self, name, gender, age):\n",
    "        self.name = name\n",
    "        self.gender = gender\n",
    "        self.age = age\n",
    "        \n",
    "    def talk(self):\n",
    "        print(\"\\nHi I am\", self.name)\n",
    "        \n",
    "    def vote(self):\n",
    "        if self.age < 18:\n",
    "            print(self.name, \"is not eligible to vote\")\n",
    "        else:\n",
    "            print(self.name, \"is eligible to vote\")"
   ]
  },
  {
   "cell_type": "code",
   "execution_count": null,
   "id": "b5206c87",
   "metadata": {},
   "outputs": [],
   "source": [
    "obj = Person(\"Bharat\",\"Male\",25)\n",
    "obj.talk()\n",
    "obj.vote()\n",
    "\n",
    "obj2 = Person(\"Ananya\",\"Female\",17)\n",
    "obj2.talk()\n",
    "obj2.vote()\n"
   ]
  },
  {
   "cell_type": "code",
   "execution_count": null,
   "id": "a78e3517",
   "metadata": {},
   "outputs": [],
   "source": []
  }
 ],
 "metadata": {
  "kernelspec": {
   "display_name": "Python 3 (ipykernel)",
   "language": "python",
   "name": "python3"
  },
  "language_info": {
   "codemirror_mode": {
    "name": "ipython",
    "version": 3
   },
   "file_extension": ".py",
   "mimetype": "text/x-python",
   "name": "python",
   "nbconvert_exporter": "python",
   "pygments_lexer": "ipython3",
   "version": "3.9.12"
  }
 },
 "nbformat": 4,
 "nbformat_minor": 5
}
