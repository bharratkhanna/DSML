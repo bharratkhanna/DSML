{
 "cells": [
  {
   "cell_type": "code",
   "execution_count": 1,
   "id": "31a741b7",
   "metadata": {},
   "outputs": [],
   "source": [
    "dic1 = {\"DS\": 60000, \"DM\":55000 , \"WD\": 65000, \"VD\": 45000}"
   ]
  },
  {
   "cell_type": "code",
   "execution_count": 2,
   "id": "2933d188",
   "metadata": {},
   "outputs": [
    {
     "data": {
      "text/plain": [
       "{'DS': 60000, 'DM': 55000, 'WD': 65000, 'VD': 45000}"
      ]
     },
     "execution_count": 2,
     "metadata": {},
     "output_type": "execute_result"
    }
   ],
   "source": [
    "dic1"
   ]
  },
  {
   "cell_type": "code",
   "execution_count": 3,
   "id": "b368d29f",
   "metadata": {},
   "outputs": [
    {
     "ename": "TypeError",
     "evalue": "unhashable type: 'dict'",
     "output_type": "error",
     "traceback": [
      "\u001b[0;31m---------------------------------------------------------------------------\u001b[0m",
      "\u001b[0;31mTypeError\u001b[0m                                 Traceback (most recent call last)",
      "Input \u001b[0;32mIn [3]\u001b[0m, in \u001b[0;36m<cell line: 1>\u001b[0;34m()\u001b[0m\n\u001b[0;32m----> 1\u001b[0m \u001b[38;5;28;43mhash\u001b[39;49m\u001b[43m(\u001b[49m\u001b[43mdic1\u001b[49m\u001b[43m)\u001b[49m\n",
      "\u001b[0;31mTypeError\u001b[0m: unhashable type: 'dict'"
     ]
    }
   ],
   "source": [
    "hash(dic1) #Uunhashable"
   ]
  },
  {
   "cell_type": "code",
   "execution_count": 4,
   "id": "38f43607",
   "metadata": {},
   "outputs": [
    {
     "ename": "KeyError",
     "evalue": "1",
     "output_type": "error",
     "traceback": [
      "\u001b[0;31m---------------------------------------------------------------------------\u001b[0m",
      "\u001b[0;31mKeyError\u001b[0m                                  Traceback (most recent call last)",
      "Input \u001b[0;32mIn [4]\u001b[0m, in \u001b[0;36m<cell line: 1>\u001b[0;34m()\u001b[0m\n\u001b[0;32m----> 1\u001b[0m \u001b[43mdic1\u001b[49m\u001b[43m[\u001b[49m\u001b[38;5;241;43m1\u001b[39;49m\u001b[43m]\u001b[49m\n",
      "\u001b[0;31mKeyError\u001b[0m: 1"
     ]
    }
   ],
   "source": [
    "dic1[1] #Non indexed"
   ]
  },
  {
   "cell_type": "code",
   "execution_count": 5,
   "id": "29da9bd8",
   "metadata": {},
   "outputs": [
    {
     "data": {
      "text/plain": [
       "65000"
      ]
     },
     "execution_count": 5,
     "metadata": {},
     "output_type": "execute_result"
    }
   ],
   "source": [
    "# Elements can be accessed using keys\n",
    "\n",
    "dic1[\"WD\"]"
   ]
  },
  {
   "cell_type": "code",
   "execution_count": 6,
   "id": "20525f24",
   "metadata": {},
   "outputs": [
    {
     "data": {
      "text/plain": [
       "{'DS': 60000, 'DM': 55000, 'WD': 65000, 'VD': 45000}"
      ]
     },
     "execution_count": 6,
     "metadata": {},
     "output_type": "execute_result"
    }
   ],
   "source": [
    "dic1"
   ]
  },
  {
   "cell_type": "code",
   "execution_count": 7,
   "id": "de0be5d9",
   "metadata": {},
   "outputs": [],
   "source": [
    "dic1[\"WD\"] = 85000"
   ]
  },
  {
   "cell_type": "code",
   "execution_count": 8,
   "id": "93978d67",
   "metadata": {},
   "outputs": [
    {
     "data": {
      "text/plain": [
       "{'DS': 60000, 'DM': 55000, 'WD': 85000, 'VD': 45000}"
      ]
     },
     "execution_count": 8,
     "metadata": {},
     "output_type": "execute_result"
    }
   ],
   "source": [
    "dic1 #Its is mutable hence values are editable"
   ]
  },
  {
   "cell_type": "code",
   "execution_count": 9,
   "id": "144b89ac",
   "metadata": {},
   "outputs": [],
   "source": [
    "#keys - display all the keys in dictionary available"
   ]
  },
  {
   "cell_type": "code",
   "execution_count": 10,
   "id": "305524b7",
   "metadata": {},
   "outputs": [
    {
     "data": {
      "text/plain": [
       "dict_keys(['DS', 'DM', 'WD', 'VD'])"
      ]
     },
     "execution_count": 10,
     "metadata": {},
     "output_type": "execute_result"
    }
   ],
   "source": [
    "dic1.keys()"
   ]
  },
  {
   "cell_type": "code",
   "execution_count": 11,
   "id": "49810d0d",
   "metadata": {},
   "outputs": [],
   "source": [
    "#value - display all values of dictionary"
   ]
  },
  {
   "cell_type": "code",
   "execution_count": 12,
   "id": "0ac00171",
   "metadata": {},
   "outputs": [
    {
     "data": {
      "text/plain": [
       "dict_values([60000, 55000, 85000, 45000])"
      ]
     },
     "execution_count": 12,
     "metadata": {},
     "output_type": "execute_result"
    }
   ],
   "source": [
    "dic1.values()"
   ]
  },
  {
   "cell_type": "code",
   "execution_count": 13,
   "id": "49522865",
   "metadata": {},
   "outputs": [],
   "source": [
    "#items - It displays your dictionary"
   ]
  },
  {
   "cell_type": "code",
   "execution_count": 14,
   "id": "df6a03b2",
   "metadata": {},
   "outputs": [
    {
     "data": {
      "text/plain": [
       "dict_items([('DS', 60000), ('DM', 55000), ('WD', 85000), ('VD', 45000)])"
      ]
     },
     "execution_count": 14,
     "metadata": {},
     "output_type": "execute_result"
    }
   ],
   "source": [
    "dic1.items()"
   ]
  },
  {
   "cell_type": "code",
   "execution_count": 15,
   "id": "25291c17",
   "metadata": {},
   "outputs": [],
   "source": [
    "#pop - enter the key which you want to remove"
   ]
  },
  {
   "cell_type": "code",
   "execution_count": 16,
   "id": "6b82eddc",
   "metadata": {},
   "outputs": [
    {
     "data": {
      "text/plain": [
       "60000"
      ]
     },
     "execution_count": 16,
     "metadata": {},
     "output_type": "execute_result"
    }
   ],
   "source": [
    "dic1.pop(\"DS\")"
   ]
  },
  {
   "cell_type": "code",
   "execution_count": 17,
   "id": "59e2f3b0",
   "metadata": {},
   "outputs": [
    {
     "data": {
      "text/plain": [
       "{'DM': 55000, 'WD': 85000, 'VD': 45000}"
      ]
     },
     "execution_count": 17,
     "metadata": {},
     "output_type": "execute_result"
    }
   ],
   "source": [
    "dic1"
   ]
  },
  {
   "cell_type": "code",
   "execution_count": 18,
   "id": "5c65278e",
   "metadata": {},
   "outputs": [],
   "source": [
    "#popitem - It removes the last key and returns the deleted value"
   ]
  },
  {
   "cell_type": "code",
   "execution_count": 19,
   "id": "d4fbebf2",
   "metadata": {},
   "outputs": [
    {
     "data": {
      "text/plain": [
       "('VD', 45000)"
      ]
     },
     "execution_count": 19,
     "metadata": {},
     "output_type": "execute_result"
    }
   ],
   "source": [
    "dic1.popitem()"
   ]
  },
  {
   "cell_type": "code",
   "execution_count": 20,
   "id": "39adb79b",
   "metadata": {},
   "outputs": [
    {
     "data": {
      "text/plain": [
       "{'DM': 55000, 'WD': 85000}"
      ]
     },
     "execution_count": 20,
     "metadata": {},
     "output_type": "execute_result"
    }
   ],
   "source": [
    "dic1"
   ]
  },
  {
   "cell_type": "code",
   "execution_count": 21,
   "id": "57190943",
   "metadata": {},
   "outputs": [],
   "source": [
    "#setdefault - It adds the new key and values and return just the entered value \n",
    "#             if not present in it just retuurn its old value"
   ]
  },
  {
   "cell_type": "code",
   "execution_count": 22,
   "id": "71c6f6b3",
   "metadata": {},
   "outputs": [
    {
     "data": {
      "text/plain": [
       "95000"
      ]
     },
     "execution_count": 22,
     "metadata": {},
     "output_type": "execute_result"
    }
   ],
   "source": [
    "dic1.setdefault(\"FS\", 95000)"
   ]
  },
  {
   "cell_type": "code",
   "execution_count": 23,
   "id": "f9e65a33",
   "metadata": {},
   "outputs": [
    {
     "data": {
      "text/plain": [
       "{'DM': 55000, 'WD': 85000, 'FS': 95000}"
      ]
     },
     "execution_count": 23,
     "metadata": {},
     "output_type": "execute_result"
    }
   ],
   "source": [
    "dic1"
   ]
  },
  {
   "cell_type": "code",
   "execution_count": 25,
   "id": "6322395d",
   "metadata": {},
   "outputs": [
    {
     "data": {
      "text/plain": [
       "55000"
      ]
     },
     "execution_count": 25,
     "metadata": {},
     "output_type": "execute_result"
    }
   ],
   "source": [
    "dic1.setdefault(\"DM\", 67000) #returns old value"
   ]
  },
  {
   "cell_type": "code",
   "execution_count": 26,
   "id": "5add8613",
   "metadata": {},
   "outputs": [
    {
     "data": {
      "text/plain": [
       "{'DM': 55000, 'WD': 85000, 'FS': 95000}"
      ]
     },
     "execution_count": 26,
     "metadata": {},
     "output_type": "execute_result"
    }
   ],
   "source": [
    "dic1 #hasn't changed the previous value"
   ]
  },
  {
   "cell_type": "code",
   "execution_count": 27,
   "id": "e88aee2f",
   "metadata": {},
   "outputs": [],
   "source": [
    "#update - add keys and value"
   ]
  },
  {
   "cell_type": "code",
   "execution_count": 30,
   "id": "6bb70463",
   "metadata": {},
   "outputs": [],
   "source": [
    "dic1.update({\"DS\": 65000}) #uses dictionary format"
   ]
  },
  {
   "cell_type": "code",
   "execution_count": 31,
   "id": "eb21f43c",
   "metadata": {},
   "outputs": [
    {
     "data": {
      "text/plain": [
       "{'DM': 55000, 'WD': 85000, 'FS': 95000, 'DS': 65000}"
      ]
     },
     "execution_count": 31,
     "metadata": {},
     "output_type": "execute_result"
    }
   ],
   "source": [
    "dic1"
   ]
  },
  {
   "cell_type": "code",
   "execution_count": 32,
   "id": "42fe2d2f",
   "metadata": {},
   "outputs": [],
   "source": [
    "dic1.update({\"DM\": 59000})"
   ]
  },
  {
   "cell_type": "code",
   "execution_count": 33,
   "id": "b8227204",
   "metadata": {},
   "outputs": [
    {
     "data": {
      "text/plain": [
       "{'DM': 59000, 'WD': 85000, 'FS': 95000, 'DS': 65000}"
      ]
     },
     "execution_count": 33,
     "metadata": {},
     "output_type": "execute_result"
    }
   ],
   "source": [
    "dic1 #value updated"
   ]
  },
  {
   "cell_type": "code",
   "execution_count": 34,
   "id": "a23d4343",
   "metadata": {},
   "outputs": [],
   "source": [
    "#copy - can create a copy of dictionary"
   ]
  },
  {
   "cell_type": "code",
   "execution_count": 35,
   "id": "5523bd0e",
   "metadata": {},
   "outputs": [],
   "source": [
    "dic2 = dic1.copy()"
   ]
  },
  {
   "cell_type": "code",
   "execution_count": 36,
   "id": "3f827414",
   "metadata": {},
   "outputs": [
    {
     "data": {
      "text/plain": [
       "{'DM': 59000, 'WD': 85000, 'FS': 95000, 'DS': 65000}"
      ]
     },
     "execution_count": 36,
     "metadata": {},
     "output_type": "execute_result"
    }
   ],
   "source": [
    "dic2"
   ]
  },
  {
   "cell_type": "code",
   "execution_count": 37,
   "id": "ea0f4ee6",
   "metadata": {},
   "outputs": [],
   "source": [
    "#del - can help to delete item"
   ]
  },
  {
   "cell_type": "code",
   "execution_count": 38,
   "id": "215cd5c4",
   "metadata": {},
   "outputs": [],
   "source": [
    "del dic2[\"DM\"]"
   ]
  },
  {
   "cell_type": "code",
   "execution_count": 39,
   "id": "59cf1581",
   "metadata": {},
   "outputs": [
    {
     "data": {
      "text/plain": [
       "{'WD': 85000, 'FS': 95000, 'DS': 65000}"
      ]
     },
     "execution_count": 39,
     "metadata": {},
     "output_type": "execute_result"
    }
   ],
   "source": [
    "dic2"
   ]
  },
  {
   "cell_type": "code",
   "execution_count": 40,
   "id": "9e7eb7b6",
   "metadata": {},
   "outputs": [],
   "source": [
    "#clear - can clear all the items"
   ]
  },
  {
   "cell_type": "code",
   "execution_count": 41,
   "id": "d839730c",
   "metadata": {},
   "outputs": [],
   "source": [
    "dic2.clear()"
   ]
  },
  {
   "cell_type": "code",
   "execution_count": 42,
   "id": "276a0964",
   "metadata": {},
   "outputs": [
    {
     "data": {
      "text/plain": [
       "{}"
      ]
     },
     "execution_count": 42,
     "metadata": {},
     "output_type": "execute_result"
    }
   ],
   "source": [
    "dic2"
   ]
  },
  {
   "cell_type": "markdown",
   "id": "fdc462e1",
   "metadata": {},
   "source": [
    "## Set"
   ]
  },
  {
   "cell_type": "code",
   "execution_count": null,
   "id": "77acae34",
   "metadata": {},
   "outputs": [],
   "source": [
    "# set are dictionaries without keys\n",
    "# They are unordered and unindexed\n",
    "# They are mutable and unhashable\n",
    "# It is created using {}"
   ]
  },
  {
   "cell_type": "code",
   "execution_count": 44,
   "id": "91721d80",
   "metadata": {},
   "outputs": [],
   "source": [
    "mySet = {23,45,67,12,17,91}"
   ]
  },
  {
   "cell_type": "code",
   "execution_count": 45,
   "id": "f4dd20e3",
   "metadata": {},
   "outputs": [
    {
     "data": {
      "text/plain": [
       "{12, 17, 23, 45, 67, 91}"
      ]
     },
     "execution_count": 45,
     "metadata": {},
     "output_type": "execute_result"
    }
   ],
   "source": [
    "mySet #Are unordered"
   ]
  },
  {
   "cell_type": "code",
   "execution_count": 46,
   "id": "93e6863d",
   "metadata": {},
   "outputs": [],
   "source": [
    "mySet1 = {12,45,67,81,12,45,12,34,12}"
   ]
  },
  {
   "cell_type": "code",
   "execution_count": 48,
   "id": "431fee9e",
   "metadata": {},
   "outputs": [
    {
     "data": {
      "text/plain": [
       "{12, 34, 45, 67, 81}"
      ]
     },
     "execution_count": 48,
     "metadata": {},
     "output_type": "execute_result"
    }
   ],
   "source": [
    "mySet1 # sorts and deletes repeated numbers, hence it keeps only unique values"
   ]
  },
  {
   "cell_type": "code",
   "execution_count": 49,
   "id": "5479c108",
   "metadata": {},
   "outputs": [
    {
     "ename": "TypeError",
     "evalue": "'set' object is not subscriptable",
     "output_type": "error",
     "traceback": [
      "\u001b[0;31m---------------------------------------------------------------------------\u001b[0m",
      "\u001b[0;31mTypeError\u001b[0m                                 Traceback (most recent call last)",
      "Input \u001b[0;32mIn [49]\u001b[0m, in \u001b[0;36m<cell line: 1>\u001b[0;34m()\u001b[0m\n\u001b[0;32m----> 1\u001b[0m \u001b[43mmySet1\u001b[49m\u001b[43m[\u001b[49m\u001b[38;5;241;43m1\u001b[39;49m\u001b[43m]\u001b[49m\n",
      "\u001b[0;31mTypeError\u001b[0m: 'set' object is not subscriptable"
     ]
    }
   ],
   "source": [
    "mySet1[1] #unindexed"
   ]
  },
  {
   "cell_type": "code",
   "execution_count": 50,
   "id": "6c6bd16d",
   "metadata": {},
   "outputs": [
    {
     "ename": "TypeError",
     "evalue": "unhashable type: 'set'",
     "output_type": "error",
     "traceback": [
      "\u001b[0;31m---------------------------------------------------------------------------\u001b[0m",
      "\u001b[0;31mTypeError\u001b[0m                                 Traceback (most recent call last)",
      "Input \u001b[0;32mIn [50]\u001b[0m, in \u001b[0;36m<cell line: 1>\u001b[0;34m()\u001b[0m\n\u001b[0;32m----> 1\u001b[0m \u001b[38;5;28;43mhash\u001b[39;49m\u001b[43m(\u001b[49m\u001b[43mmySet1\u001b[49m\u001b[43m)\u001b[49m\n",
      "\u001b[0;31mTypeError\u001b[0m: unhashable type: 'set'"
     ]
    }
   ],
   "source": [
    "hash(mySet1)  #unhashable"
   ]
  },
  {
   "cell_type": "code",
   "execution_count": 51,
   "id": "d3f8cc9f",
   "metadata": {},
   "outputs": [],
   "source": [
    "#add - can add new values\n",
    "\n",
    "mySet1.add(101) #mutable"
   ]
  },
  {
   "cell_type": "code",
   "execution_count": 52,
   "id": "d00e2868",
   "metadata": {},
   "outputs": [
    {
     "data": {
      "text/plain": [
       "{12, 34, 45, 67, 81, 101}"
      ]
     },
     "execution_count": 52,
     "metadata": {},
     "output_type": "execute_result"
    }
   ],
   "source": [
    "mySet1"
   ]
  },
  {
   "cell_type": "code",
   "execution_count": 53,
   "id": "140143b3",
   "metadata": {},
   "outputs": [
    {
     "data": {
      "text/plain": [
       "81"
      ]
     },
     "execution_count": 53,
     "metadata": {},
     "output_type": "execute_result"
    }
   ],
   "source": [
    "#pop - removes random value and returns it\n",
    "\n",
    "mySet1.pop()"
   ]
  },
  {
   "cell_type": "code",
   "execution_count": 54,
   "id": "66729617",
   "metadata": {},
   "outputs": [
    {
     "data": {
      "text/plain": [
       "{12, 34, 45, 67, 101}"
      ]
     },
     "execution_count": 54,
     "metadata": {},
     "output_type": "execute_result"
    }
   ],
   "source": [
    "mySet1"
   ]
  },
  {
   "cell_type": "code",
   "execution_count": 55,
   "id": "c1ef5f46",
   "metadata": {},
   "outputs": [],
   "source": [
    "#remove - we can remove the specific value\n",
    "\n",
    "mySet1.remove(67)"
   ]
  },
  {
   "cell_type": "code",
   "execution_count": 56,
   "id": "65fddedf",
   "metadata": {},
   "outputs": [
    {
     "data": {
      "text/plain": [
       "{12, 34, 45, 101}"
      ]
     },
     "execution_count": 56,
     "metadata": {},
     "output_type": "execute_result"
    }
   ],
   "source": [
    "mySet1"
   ]
  },
  {
   "cell_type": "code",
   "execution_count": 57,
   "id": "57e5a711",
   "metadata": {},
   "outputs": [],
   "source": [
    "#difference\n",
    "\n",
    "s1 = {12,101,113,132,112,11}\n",
    "s2 = {12,11,151,190,189,42}"
   ]
  },
  {
   "cell_type": "code",
   "execution_count": 58,
   "id": "be892a07",
   "metadata": {},
   "outputs": [
    {
     "data": {
      "text/plain": [
       "{101, 112, 113, 132}"
      ]
     },
     "execution_count": 58,
     "metadata": {},
     "output_type": "execute_result"
    }
   ],
   "source": [
    "s1.difference(s2) # excluding values simmilar to s2 it shows the rest"
   ]
  },
  {
   "cell_type": "code",
   "execution_count": 59,
   "id": "6a3b7aff",
   "metadata": {},
   "outputs": [
    {
     "data": {
      "text/plain": [
       "{42, 151, 189, 190}"
      ]
     },
     "execution_count": 59,
     "metadata": {},
     "output_type": "execute_result"
    }
   ],
   "source": [
    "s2.difference(s1)"
   ]
  },
  {
   "cell_type": "code",
   "execution_count": 60,
   "id": "7dc4ac3f",
   "metadata": {},
   "outputs": [
    {
     "data": {
      "text/plain": [
       "{101, 112, 113, 132}"
      ]
     },
     "execution_count": 60,
     "metadata": {},
     "output_type": "execute_result"
    }
   ],
   "source": [
    "s1-s2 # difference or - samae thing"
   ]
  },
  {
   "cell_type": "code",
   "execution_count": 61,
   "id": "52dfb0b7",
   "metadata": {},
   "outputs": [
    {
     "data": {
      "text/plain": [
       "{42, 151, 189, 190}"
      ]
     },
     "execution_count": 61,
     "metadata": {},
     "output_type": "execute_result"
    }
   ],
   "source": [
    "s2-s1"
   ]
  },
  {
   "cell_type": "code",
   "execution_count": 62,
   "id": "8bac8e0d",
   "metadata": {},
   "outputs": [],
   "source": [
    "#intersection - displays only same values"
   ]
  },
  {
   "cell_type": "code",
   "execution_count": 63,
   "id": "617a29bd",
   "metadata": {},
   "outputs": [
    {
     "data": {
      "text/plain": [
       "{11, 12}"
      ]
     },
     "execution_count": 63,
     "metadata": {},
     "output_type": "execute_result"
    }
   ],
   "source": [
    "s1.intersection(s2) # displays only same values"
   ]
  },
  {
   "cell_type": "code",
   "execution_count": 64,
   "id": "00494516",
   "metadata": {},
   "outputs": [
    {
     "data": {
      "text/plain": [
       "{11, 12}"
      ]
     },
     "execution_count": 64,
     "metadata": {},
     "output_type": "execute_result"
    }
   ],
   "source": [
    "s2.intersection(s1)"
   ]
  },
  {
   "cell_type": "code",
   "execution_count": 65,
   "id": "a13ee9ec",
   "metadata": {},
   "outputs": [],
   "source": [
    "#union -"
   ]
  },
  {
   "cell_type": "code",
   "execution_count": 66,
   "id": "c6f4a414",
   "metadata": {},
   "outputs": [
    {
     "data": {
      "text/plain": [
       "{11, 12, 42, 101, 112, 113, 132, 151, 189, 190}"
      ]
     },
     "execution_count": 66,
     "metadata": {},
     "output_type": "execute_result"
    }
   ],
   "source": [
    "s1.union(s2)"
   ]
  },
  {
   "cell_type": "code",
   "execution_count": 67,
   "id": "a2b167c6",
   "metadata": {},
   "outputs": [],
   "source": [
    "#issubset # tells whether particuual set is subset of given set or not, retuurn valuue in boolean"
   ]
  },
  {
   "cell_type": "code",
   "execution_count": 69,
   "id": "74acd44d",
   "metadata": {},
   "outputs": [
    {
     "data": {
      "text/plain": [
       "True"
      ]
     },
     "execution_count": 69,
     "metadata": {},
     "output_type": "execute_result"
    }
   ],
   "source": [
    "{11,12}.issubset(s1)"
   ]
  },
  {
   "cell_type": "code",
   "execution_count": 70,
   "id": "4534e60e",
   "metadata": {},
   "outputs": [
    {
     "data": {
      "text/plain": [
       "{11, 12, 101, 112, 113, 132}"
      ]
     },
     "execution_count": 70,
     "metadata": {},
     "output_type": "execute_result"
    }
   ],
   "source": [
    "s1"
   ]
  },
  {
   "cell_type": "code",
   "execution_count": 71,
   "id": "a8a25067",
   "metadata": {},
   "outputs": [
    {
     "data": {
      "text/plain": [
       "False"
      ]
     },
     "execution_count": 71,
     "metadata": {},
     "output_type": "execute_result"
    }
   ],
   "source": [
    "{101,115}.issubset(s1)"
   ]
  },
  {
   "cell_type": "code",
   "execution_count": null,
   "id": "852b29a5",
   "metadata": {},
   "outputs": [],
   "source": []
  }
 ],
 "metadata": {
  "kernelspec": {
   "display_name": "Python 3 (ipykernel)",
   "language": "python",
   "name": "python3"
  },
  "language_info": {
   "codemirror_mode": {
    "name": "ipython",
    "version": 3
   },
   "file_extension": ".py",
   "mimetype": "text/x-python",
   "name": "python",
   "nbconvert_exporter": "python",
   "pygments_lexer": "ipython3",
   "version": "3.9.12"
  }
 },
 "nbformat": 4,
 "nbformat_minor": 5
}
