{
 "cells": [
  {
   "cell_type": "code",
   "execution_count": 5,
   "id": "91253c23",
   "metadata": {},
   "outputs": [
    {
     "name": "stdout",
     "output_type": "stream",
     "text": [
      "Enter number: 21\n",
      "Enter number: 43\n",
      "Enter number: 23\n",
      "Enter number: 24\n",
      "Enter number: 67\n",
      "Enter number: 57\n",
      "Enter number: 57\n",
      "Enter number: 67\n",
      "Enter number: 82\n",
      "Enter number: 82\n",
      "Enter number: 0\n",
      "\n",
      "2nd Biggest number in list is 67\n"
     ]
    }
   ],
   "source": [
    "numList = []\n",
    "max_num = 0\n",
    "max_num = 0\n",
    "num = 1\n",
    "\n",
    "while(num !=0):\n",
    "    num = int(input(\"Enter number: \"))\n",
    "    numList.append(num)\n",
    "\n",
    "for i in range(0,len(numList)-1):\n",
    "    if numList[i] > max_num:\n",
    "        max_num2 = max_num\n",
    "        max_num = numList[i]\n",
    "        \n",
    "        \n",
    "print(\"\\n2nd Biggest number in list is\", max_num2)"
   ]
  }
 ],
 "metadata": {
  "kernelspec": {
   "display_name": "Python 3 (ipykernel)",
   "language": "python",
   "name": "python3"
  },
  "language_info": {
   "codemirror_mode": {
    "name": "ipython",
    "version": 3
   },
   "file_extension": ".py",
   "mimetype": "text/x-python",
   "name": "python",
   "nbconvert_exporter": "python",
   "pygments_lexer": "ipython3",
   "version": "3.9.12"
  }
 },
 "nbformat": 4,
 "nbformat_minor": 5
}
