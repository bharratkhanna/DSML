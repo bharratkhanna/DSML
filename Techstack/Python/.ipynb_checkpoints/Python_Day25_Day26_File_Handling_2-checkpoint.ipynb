{
 "cells": [
  {
   "cell_type": "markdown",
   "id": "82b1da50-faf3-4ca6-88a8-d8e1caa4c87a",
   "metadata": {},
   "source": [
    "# File Handling"
   ]
  },
  {
   "cell_type": "code",
   "execution_count": 1,
   "id": "e76991e6-1104-4acc-a9b8-776d5929bae9",
   "metadata": {},
   "outputs": [],
   "source": [
    "# r: read operation\n",
    "# w: write operation(override)\n",
    "# a: append opperation(not override)\n",
    "# r+: read and write, the previous data will not be deleted\n",
    "# W+: To write and read. Override\n",
    "# a+: append and read the data. Not override"
   ]
  },
  {
   "cell_type": "code",
   "execution_count": 1,
   "id": "082ea74c-df53-4251-b05f-2161e781585f",
   "metadata": {},
   "outputs": [],
   "source": [
    "import os"
   ]
  },
  {
   "cell_type": "code",
   "execution_count": 2,
   "id": "0ce7350c",
   "metadata": {},
   "outputs": [
    {
     "data": {
      "text/plain": [
       "'/Users/bharatkhanna/Documents/Python'"
      ]
     },
     "execution_count": 2,
     "metadata": {},
     "output_type": "execute_result"
    }
   ],
   "source": [
    "os.getcwd()"
   ]
  },
  {
   "cell_type": "code",
   "execution_count": 3,
   "id": "409336ca",
   "metadata": {},
   "outputs": [],
   "source": [
    "os.chdir(\"/Users/bharatkhanna/Documents/Python/File_Handling\")"
   ]
  },
  {
   "cell_type": "code",
   "execution_count": 4,
   "id": "7b77bad9",
   "metadata": {},
   "outputs": [
    {
     "data": {
      "text/plain": [
       "'/Users/bharatkhanna/Documents/Python/File_Handling'"
      ]
     },
     "execution_count": 4,
     "metadata": {},
     "output_type": "execute_result"
    }
   ],
   "source": [
    "os.getcwd()"
   ]
  },
  {
   "cell_type": "code",
   "execution_count": 5,
   "id": "b5615f7b",
   "metadata": {},
   "outputs": [],
   "source": [
    "file = open(\"file_new.txt\",\"r\")"
   ]
  },
  {
   "cell_type": "code",
   "execution_count": 6,
   "id": "2a3ef34d",
   "metadata": {},
   "outputs": [
    {
     "data": {
      "text/plain": [
       "<_io.TextIOWrapper name='file_new.txt' mode='r' encoding='UTF-8'>"
      ]
     },
     "execution_count": 6,
     "metadata": {},
     "output_type": "execute_result"
    }
   ],
   "source": [
    "file"
   ]
  },
  {
   "cell_type": "markdown",
   "id": "de7f93c3",
   "metadata": {},
   "source": [
    "### Read"
   ]
  },
  {
   "cell_type": "code",
   "execution_count": 7,
   "id": "a369ba78",
   "metadata": {},
   "outputs": [
    {
     "data": {
      "text/plain": [
       "'This is my File Handling Class.\\nI want to learn different techniques of file handling.\\nWe will first try to open the file\\nand later we will read & then write'"
      ]
     },
     "execution_count": 7,
     "metadata": {},
     "output_type": "execute_result"
    }
   ],
   "source": [
    "# read\n",
    "file.read()"
   ]
  },
  {
   "cell_type": "code",
   "execution_count": 8,
   "id": "95646bff",
   "metadata": {},
   "outputs": [],
   "source": [
    "file = open(\"file_new.txt\",\"r\")"
   ]
  },
  {
   "cell_type": "code",
   "execution_count": 10,
   "id": "691a407c",
   "metadata": {},
   "outputs": [
    {
     "data": {
      "text/plain": [
       "'I want to learn different techniques of file handling.\\n'"
      ]
     },
     "execution_count": 10,
     "metadata": {},
     "output_type": "execute_result"
    }
   ],
   "source": [
    "# readline\n",
    "file.readline() #as many times as you run, tnext line goes on"
   ]
  },
  {
   "cell_type": "code",
   "execution_count": 11,
   "id": "c1179f2c",
   "metadata": {},
   "outputs": [],
   "source": [
    "file = open(\"file_new.txt\",\"r\")"
   ]
  },
  {
   "cell_type": "code",
   "execution_count": 14,
   "id": "cef6b76f",
   "metadata": {},
   "outputs": [
    {
     "data": {
      "text/plain": [
       "'chniques of file handling.\\nWe '"
      ]
     },
     "execution_count": 14,
     "metadata": {},
     "output_type": "execute_result"
    }
   ],
   "source": [
    "file.read(30) #re run to move 30 characters forward"
   ]
  },
  {
   "cell_type": "markdown",
   "id": "94160d7b",
   "metadata": {},
   "source": [
    "### Write"
   ]
  },
  {
   "cell_type": "code",
   "execution_count": 15,
   "id": "4b87358a",
   "metadata": {},
   "outputs": [],
   "source": [
    "file = open(\"file_new.txt\",\"w\")"
   ]
  },
  {
   "cell_type": "code",
   "execution_count": 16,
   "id": "39883f07",
   "metadata": {},
   "outputs": [
    {
     "data": {
      "text/plain": [
       "47"
      ]
     },
     "execution_count": 16,
     "metadata": {},
     "output_type": "execute_result"
    }
   ],
   "source": [
    "file.write(\"This is new line I am adding to file.\")\n",
    "file.write(\"\\nWe will see difference between read and write.\")"
   ]
  },
  {
   "cell_type": "code",
   "execution_count": 17,
   "id": "fc852050",
   "metadata": {},
   "outputs": [],
   "source": [
    "file.close()"
   ]
  },
  {
   "cell_type": "code",
   "execution_count": 18,
   "id": "fca088dd",
   "metadata": {},
   "outputs": [
    {
     "data": {
      "text/plain": [
       "'This is new line I am adding to file.\\nWe will see difference between read and write.'"
      ]
     },
     "execution_count": 18,
     "metadata": {},
     "output_type": "execute_result"
    }
   ],
   "source": [
    "file = open(\"file_new.txt\",\"r\")\n",
    "file.read()"
   ]
  },
  {
   "cell_type": "code",
   "execution_count": 19,
   "id": "2e0d1318",
   "metadata": {},
   "outputs": [],
   "source": [
    "file = open(\"file_new.txt\",\"a\")"
   ]
  },
  {
   "cell_type": "code",
   "execution_count": 20,
   "id": "063983a0",
   "metadata": {},
   "outputs": [
    {
     "data": {
      "text/plain": [
       "57"
      ]
     },
     "execution_count": 20,
     "metadata": {},
     "output_type": "execute_result"
    }
   ],
   "source": [
    "file.write(\"\\nI am opening file in append mode.\")\n",
    "file.write(\"\\nAfter opening this file I am adding new lines.\")\n",
    "file.write(\"\\nLet us see the difference between write and append mode.\")"
   ]
  },
  {
   "cell_type": "code",
   "execution_count": 21,
   "id": "8f92d55d",
   "metadata": {},
   "outputs": [],
   "source": [
    "file.close()"
   ]
  },
  {
   "cell_type": "code",
   "execution_count": 22,
   "id": "12df9816",
   "metadata": {},
   "outputs": [
    {
     "data": {
      "text/plain": [
       "'This is new line I am adding to file.\\nWe will see difference between read and write.\\nI am opening file in append mode.\\nAfter opening this file I am adding new lines.\\nLet us see the difference between write and append mode.'"
      ]
     },
     "execution_count": 22,
     "metadata": {},
     "output_type": "execute_result"
    }
   ],
   "source": [
    "file = open(\"file_new.txt\",\"r\")\n",
    "file.read()"
   ]
  },
  {
   "cell_type": "code",
   "execution_count": 23,
   "id": "885372c5",
   "metadata": {},
   "outputs": [],
   "source": [
    "# x - Opening file in x mode creates new file, if file is not available else it creates error"
   ]
  },
  {
   "cell_type": "code",
   "execution_count": 24,
   "id": "ded30dce",
   "metadata": {},
   "outputs": [],
   "source": [
    "file = open(\"fle_new_1.txt\",\"x\")"
   ]
  },
  {
   "cell_type": "code",
   "execution_count": 25,
   "id": "3ddf6c9d",
   "metadata": {},
   "outputs": [],
   "source": [
    "file = open(\"fle_new_1.txt\",\"w\")"
   ]
  },
  {
   "cell_type": "code",
   "execution_count": 26,
   "id": "866180a6",
   "metadata": {},
   "outputs": [],
   "source": [
    "file = open(\"fle_new_2.txt\",\"w\")"
   ]
  },
  {
   "cell_type": "code",
   "execution_count": 27,
   "id": "433ca918",
   "metadata": {},
   "outputs": [
    {
     "data": {
      "text/plain": [
       "False"
      ]
     },
     "execution_count": 27,
     "metadata": {},
     "output_type": "execute_result"
    }
   ],
   "source": [
    "file.closed #check whether file is open or not"
   ]
  },
  {
   "cell_type": "code",
   "execution_count": null,
   "id": "101d6770",
   "metadata": {},
   "outputs": [],
   "source": []
  }
 ],
 "metadata": {
  "kernelspec": {
   "display_name": "Python 3 (ipykernel)",
   "language": "python",
   "name": "python3"
  },
  "language_info": {
   "codemirror_mode": {
    "name": "ipython",
    "version": 3
   },
   "file_extension": ".py",
   "mimetype": "text/x-python",
   "name": "python",
   "nbconvert_exporter": "python",
   "pygments_lexer": "ipython3",
   "version": "3.9.12"
  },
  "varInspector": {
   "cols": {
    "lenName": 16,
    "lenType": 16,
    "lenVar": 40
   },
   "kernels_config": {
    "python": {
     "delete_cmd_postfix": "",
     "delete_cmd_prefix": "del ",
     "library": "var_list.py",
     "varRefreshCmd": "print(var_dic_list())"
    },
    "r": {
     "delete_cmd_postfix": ") ",
     "delete_cmd_prefix": "rm(",
     "library": "var_list.r",
     "varRefreshCmd": "cat(var_dic_list()) "
    }
   },
   "position": {
    "height": "329px",
    "left": "837px",
    "right": "20px",
    "top": "29px",
    "width": "546px"
   },
   "types_to_exclude": [
    "module",
    "function",
    "builtin_function_or_method",
    "instance",
    "_Feature"
   ],
   "window_display": false
  }
 },
 "nbformat": 4,
 "nbformat_minor": 5
}
