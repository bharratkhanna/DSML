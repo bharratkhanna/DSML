{
 "cells": [
  {
   "cell_type": "markdown",
   "metadata": {},
   "source": [
    "## Functions"
   ]
  },
  {
   "cell_type": "code",
   "execution_count": 1,
   "metadata": {},
   "outputs": [],
   "source": [
    "# Write a program to find meadian of 3 numbers using def function"
   ]
  },
  {
   "cell_type": "code",
   "execution_count": 8,
   "metadata": {},
   "outputs": [
    {
     "name": "stdout",
     "output_type": "stream",
     "text": [
      "Numbers are [45, 45, 67]\n",
      "Median is 45\n"
     ]
    }
   ],
   "source": [
    "def median(numbers):\n",
    "    numbers.sort()\n",
    "    med = numbers[1]\n",
    "    return med\n",
    "\n",
    "numbers = []\n",
    "\n",
    "for i in range(0,3):\n",
    "    num = int(input(\"Enter number:\"))\n",
    "    numbers.append(num)\n",
    "\n",
    "med = median(numbers)\n",
    "\n",
    "print(\"Numbers are\",numbers)\n",
    "print(\"Median is\",med)"
   ]
  },
  {
   "cell_type": "markdown",
   "metadata": {},
   "source": [
    "### Argumnets"
   ]
  },
  {
   "cell_type": "code",
   "execution_count": 9,
   "metadata": {},
   "outputs": [],
   "source": [
    "# *args - Arguments without keywords to pass n number of arguments\n",
    "# (if youy dont know how many arguments user will pass)\n",
    "# It is in Tuple form"
   ]
  },
  {
   "cell_type": "code",
   "execution_count": 18,
   "metadata": {},
   "outputs": [
    {
     "name": "stdout",
     "output_type": "stream",
     "text": [
      "Numbers are [9, 11, 12, 34, 56, 78, 98]\n",
      "Median is 34\n"
     ]
    }
   ],
   "source": [
    "def sort_list(*num):\n",
    "    list1 = list(num)\n",
    "    list1.sort()\n",
    "    length = len(list1)\n",
    "\n",
    "    print(\"Numbers are\",list1)\n",
    "    print(\"Median is\",list1[length//2])\n",
    "\n",
    "sort_list(12,78,9,34,56,98,11)"
   ]
  },
  {
   "cell_type": "code",
   "execution_count": 19,
   "metadata": {},
   "outputs": [],
   "source": [
    "#Find the mean of user given numbers using def function\n",
    "#Mean = Sum of elements/no of elements"
   ]
  },
  {
   "cell_type": "code",
   "execution_count": 35,
   "metadata": {},
   "outputs": [
    {
     "name": "stdout",
     "output_type": "stream",
     "text": [
      "Numbers are (12, 89, 56, 43, 67)\n",
      "Mean is 53.4\n",
      "267 267\n"
     ]
    }
   ],
   "source": [
    "def mean(*numbers):\n",
    "    total = 0\n",
    "    \n",
    "    for i in numbers:  \n",
    "        #Instead of using range, loop can be used like this where i contains valuue instead of index\n",
    "        total = total + i\n",
    "\n",
    "    #sum(numbers) used instead of for loop\n",
    "\n",
    "    print(\"Numbers are\",numbers)\n",
    "    print(\"Mean is\", total/len(numbers))\n",
    "mean(12,89,56,43,67)"
   ]
  },
  {
   "cell_type": "markdown",
   "metadata": {},
   "source": [
    "### kwargs - Keyword argument"
   ]
  },
  {
   "cell_type": "code",
   "execution_count": 33,
   "metadata": {},
   "outputs": [],
   "source": [
    "# **kwargs (Keyword argument)- It is used for dictionary to pass n numbers of arguments"
   ]
  },
  {
   "cell_type": "code",
   "execution_count": 42,
   "metadata": {},
   "outputs": [
    {
     "name": "stdout",
     "output_type": "stream",
     "text": [
      "Ravi 98\n",
      "Shyam 76\n",
      "Mohan 86\n"
     ]
    }
   ],
   "source": [
    "def result(**info):\n",
    "    for i in info.keys():\n",
    "        print(i,info[i])\n",
    "\n",
    "result(Ravi = 98, Shyam = 76, Mohan = 86)"
   ]
  },
  {
   "cell_type": "code",
   "execution_count": 47,
   "metadata": {},
   "outputs": [
    {
     "name": "stdout",
     "output_type": "stream",
     "text": [
      "Simple Interest is 2400.0\n"
     ]
    }
   ],
   "source": [
    "#p,r,t - Positional arguments\n",
    "def simple_interest(p,r,t):\n",
    "    SI = (p*r*t)/100\n",
    "    print(\"Simple Interest is\",SI)\n",
    "\n",
    "simple_interest(5000,6,8)"
   ]
  },
  {
   "cell_type": "code",
   "execution_count": 46,
   "metadata": {},
   "outputs": [
    {
     "name": "stdout",
     "output_type": "stream",
     "text": [
      "Simple Interest is 2400.0\n"
     ]
    }
   ],
   "source": [
    "#p,r,t\n",
    "def simple_interest(p,t,r = 8): #fixed values should be at end\n",
    "    SI = (p*r*t)/100\n",
    "    print(\"Simple Interest is\",SI)\n",
    "\n",
    "simple_interest(5000,6)"
   ]
  },
  {
   "cell_type": "code",
   "execution_count": 48,
   "metadata": {},
   "outputs": [
    {
     "name": "stdout",
     "output_type": "stream",
     "text": [
      "Simple Interest is 3000.0\n"
     ]
    }
   ],
   "source": [
    "simple_interest(5000,6,10) #can override default values"
   ]
  }
 ],
 "metadata": {
  "kernelspec": {
   "display_name": "Python 3 (ipykernel)",
   "language": "python",
   "name": "python3"
  },
  "language_info": {
   "codemirror_mode": {
    "name": "ipython",
    "version": 3
   },
   "file_extension": ".py",
   "mimetype": "text/x-python",
   "name": "python",
   "nbconvert_exporter": "python",
   "pygments_lexer": "ipython3",
   "version": "3.9.12"
  },
  "varInspector": {
   "cols": {
    "lenName": 16,
    "lenType": 16,
    "lenVar": 40
   },
   "kernels_config": {
    "python": {
     "delete_cmd_postfix": "",
     "delete_cmd_prefix": "del ",
     "library": "var_list.py",
     "varRefreshCmd": "print(var_dic_list())"
    },
    "r": {
     "delete_cmd_postfix": ") ",
     "delete_cmd_prefix": "rm(",
     "library": "var_list.r",
     "varRefreshCmd": "cat(var_dic_list()) "
    }
   },
   "types_to_exclude": [
    "module",
    "function",
    "builtin_function_or_method",
    "instance",
    "_Feature"
   ],
   "window_display": false
  },
  "vscode": {
   "interpreter": {
    "hash": "aee8b7b246df8f9039afb4144a1f6fd8d2ca17a180786b69acc140d282b71a49"
   }
  }
 },
 "nbformat": 4,
 "nbformat_minor": 2
}
