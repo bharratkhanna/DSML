{
 "cells": [
  {
   "cell_type": "markdown",
   "id": "6d7ab732",
   "metadata": {},
   "source": [
    "# Library import"
   ]
  },
  {
   "cell_type": "code",
   "execution_count": 2,
   "id": "5e03c795",
   "metadata": {},
   "outputs": [],
   "source": [
    "import math # to import library, used to call library from hardisk to local environment."
   ]
  },
  {
   "cell_type": "code",
   "execution_count": 4,
   "id": "d920f801",
   "metadata": {},
   "outputs": [
    {
     "data": {
      "text/plain": [
       "['__doc__',\n",
       " '__file__',\n",
       " '__loader__',\n",
       " '__name__',\n",
       " '__package__',\n",
       " '__spec__',\n",
       " 'acos',\n",
       " 'acosh',\n",
       " 'asin',\n",
       " 'asinh',\n",
       " 'atan',\n",
       " 'atan2',\n",
       " 'atanh',\n",
       " 'ceil',\n",
       " 'comb',\n",
       " 'copysign',\n",
       " 'cos',\n",
       " 'cosh',\n",
       " 'degrees',\n",
       " 'dist',\n",
       " 'e',\n",
       " 'erf',\n",
       " 'erfc',\n",
       " 'exp',\n",
       " 'expm1',\n",
       " 'fabs',\n",
       " 'factorial',\n",
       " 'floor',\n",
       " 'fmod',\n",
       " 'frexp',\n",
       " 'fsum',\n",
       " 'gamma',\n",
       " 'gcd',\n",
       " 'hypot',\n",
       " 'inf',\n",
       " 'isclose',\n",
       " 'isfinite',\n",
       " 'isinf',\n",
       " 'isnan',\n",
       " 'isqrt',\n",
       " 'lcm',\n",
       " 'ldexp',\n",
       " 'lgamma',\n",
       " 'log',\n",
       " 'log10',\n",
       " 'log1p',\n",
       " 'log2',\n",
       " 'modf',\n",
       " 'nan',\n",
       " 'nextafter',\n",
       " 'perm',\n",
       " 'pi',\n",
       " 'pow',\n",
       " 'prod',\n",
       " 'radians',\n",
       " 'remainder',\n",
       " 'sin',\n",
       " 'sinh',\n",
       " 'sqrt',\n",
       " 'tan',\n",
       " 'tanh',\n",
       " 'tau',\n",
       " 'trunc',\n",
       " 'ulp']"
      ]
     },
     "execution_count": 4,
     "metadata": {},
     "output_type": "execute_result"
    }
   ],
   "source": [
    "dir(math) # dir stands for directory."
   ]
  },
  {
   "cell_type": "code",
   "execution_count": 5,
   "id": "4b3e672f",
   "metadata": {},
   "outputs": [
    {
     "data": {
      "text/plain": [
       "54"
      ]
     },
     "execution_count": 5,
     "metadata": {},
     "output_type": "execute_result"
    }
   ],
   "source": [
    "math.floor(54.5) # floor: for rounding off to lower valuue"
   ]
  },
  {
   "cell_type": "code",
   "execution_count": 6,
   "id": "2b2d7516",
   "metadata": {},
   "outputs": [
    {
     "data": {
      "text/plain": [
       "54"
      ]
     },
     "execution_count": 6,
     "metadata": {},
     "output_type": "execute_result"
    }
   ],
   "source": [
    "math.floor(54.9)"
   ]
  },
  {
   "cell_type": "code",
   "execution_count": 7,
   "id": "e55cbca8",
   "metadata": {},
   "outputs": [
    {
     "data": {
      "text/plain": [
       "-55"
      ]
     },
     "execution_count": 7,
     "metadata": {},
     "output_type": "execute_result"
    }
   ],
   "source": [
    "math.floor(-54.2)"
   ]
  },
  {
   "cell_type": "code",
   "execution_count": 9,
   "id": "5b1783b5",
   "metadata": {},
   "outputs": [],
   "source": [
    "import math as m # use m as an alias name for math library, also m is an industry standard practice."
   ]
  },
  {
   "cell_type": "code",
   "execution_count": 10,
   "id": "6088135f",
   "metadata": {},
   "outputs": [
    {
     "data": {
      "text/plain": [
       "16.0"
      ]
     },
     "execution_count": 10,
     "metadata": {},
     "output_type": "execute_result"
    }
   ],
   "source": [
    "m.pow(4,2)"
   ]
  },
  {
   "cell_type": "code",
   "execution_count": 12,
   "id": "7862f868",
   "metadata": {},
   "outputs": [
    {
     "data": {
      "text/plain": [
       "55"
      ]
     },
     "execution_count": 12,
     "metadata": {},
     "output_type": "execute_result"
    }
   ],
   "source": [
    "m.ceil(54.2) # ceil used to round off to bigger value"
   ]
  },
  {
   "cell_type": "code",
   "execution_count": 14,
   "id": "b6ad1054",
   "metadata": {},
   "outputs": [
    {
     "data": {
      "text/plain": [
       "-54"
      ]
     },
     "execution_count": 14,
     "metadata": {},
     "output_type": "execute_result"
    }
   ],
   "source": [
    "m.ceil(-54.8)"
   ]
  },
  {
   "cell_type": "code",
   "execution_count": 52,
   "id": "f81a0080",
   "metadata": {},
   "outputs": [
    {
     "data": {
      "text/plain": [
       "2.0"
      ]
     },
     "execution_count": 52,
     "metadata": {},
     "output_type": "execute_result"
    }
   ],
   "source": [
    "m.pow(4, 0.5)"
   ]
  },
  {
   "cell_type": "markdown",
   "id": "66003a20",
   "metadata": {},
   "source": [
    "### Area & Circumference of circle"
   ]
  },
  {
   "cell_type": "code",
   "execution_count": 18,
   "id": "980d9b18",
   "metadata": {},
   "outputs": [],
   "source": [
    "# Find the circumference & area of a a circle. \n",
    "# circumference = 2 * pi * r\n",
    "# area = pi * r * r"
   ]
  },
  {
   "cell_type": "code",
   "execution_count": 23,
   "id": "35f48ab2",
   "metadata": {},
   "outputs": [
    {
     "name": "stdout",
     "output_type": "stream",
     "text": [
      "Circumference:  31.400000000000002 \n",
      "Area:  78.5\n"
     ]
    }
   ],
   "source": [
    "# Radius is 5\n",
    "r = 5\n",
    "circum = 2 * 3.14 * r\n",
    "area_cir = 3.14 * r**2\n",
    "\n",
    "print(\"circumumference: \", circum,\"\\narea_cir: \", area_cir)"
   ]
  },
  {
   "cell_type": "code",
   "execution_count": 46,
   "id": "7c49488c",
   "metadata": {},
   "outputs": [
    {
     "name": "stdout",
     "output_type": "stream",
     "text": [
      "circumumference:  31.41592653589793 \n",
      "area_cir:  78.53981633974483\n"
     ]
    }
   ],
   "source": [
    "# using math library\n",
    "\n",
    "circum = 2 * m.pi * r\n",
    "area_cir = m.pi * m.pow(r,2)\n",
    "\n",
    "print(\"circumumference: \", circum,\"\\narea_cir: \", area_cir)"
   ]
  },
  {
   "cell_type": "code",
   "execution_count": 51,
   "id": "5360dd80",
   "metadata": {},
   "outputs": [
    {
     "data": {
      "text/plain": [
       "'\\nThis is a comment written \\nin multiple lines\\n'"
      ]
     },
     "execution_count": 51,
     "metadata": {},
     "output_type": "execute_result"
    }
   ],
   "source": [
    "\"\"\"\n",
    "This is a comment written \n",
    "in multiple lines\n",
    "\"\"\""
   ]
  },
  {
   "cell_type": "markdown",
   "id": "015d56b8",
   "metadata": {},
   "source": [
    "### Area of square"
   ]
  },
  {
   "cell_type": "code",
   "execution_count": 27,
   "id": "6468ca57",
   "metadata": {},
   "outputs": [],
   "source": [
    "# Find the area of square where side is 10\n",
    "# Area of square is side * side"
   ]
  },
  {
   "cell_type": "code",
   "execution_count": 50,
   "id": "ffb732d8",
   "metadata": {},
   "outputs": [
    {
     "name": "stdout",
     "output_type": "stream",
     "text": [
      "Square area:  100.0\n"
     ]
    }
   ],
   "source": [
    "s = 10\n",
    "area_sq = m.pow(s,2)\n",
    "print(\"Square area: \", area_sq)"
   ]
  },
  {
   "cell_type": "markdown",
   "id": "03fc9ea8",
   "metadata": {},
   "source": [
    "### Length of Rectangle"
   ]
  },
  {
   "cell_type": "code",
   "execution_count": 31,
   "id": "7a262a16",
   "metadata": {},
   "outputs": [],
   "source": [
    "# Find the length of rectangle where area is 340 sqcm and breadth is 12 cm\n",
    "# l * b is area of rectangle"
   ]
  },
  {
   "cell_type": "code",
   "execution_count": 49,
   "id": "8e40641c",
   "metadata": {},
   "outputs": [
    {
     "name": "stdout",
     "output_type": "stream",
     "text": [
      "Length of rectangle:  28.333333333333332\n"
     ]
    }
   ],
   "source": [
    "b = 12\n",
    "area_rect = 340\n",
    "l = area_rect/b\n",
    "\n",
    "print(\"Length of rectangle: \",l)"
   ]
  },
  {
   "cell_type": "markdown",
   "id": "f32f7d53",
   "metadata": {},
   "source": [
    "###  Volume of Cylinder"
   ]
  },
  {
   "cell_type": "code",
   "execution_count": 47,
   "id": "5e5c8080",
   "metadata": {},
   "outputs": [],
   "source": [
    "# Find the volume of cylinder where l is 12, b is 14, h is 8\n",
    "# volume is l * b * h"
   ]
  },
  {
   "cell_type": "code",
   "execution_count": 53,
   "id": "5054bfb5",
   "metadata": {},
   "outputs": [
    {
     "name": "stdout",
     "output_type": "stream",
     "text": [
      "Volume of cylinder:  1344\n"
     ]
    }
   ],
   "source": [
    "l = 12\n",
    "b = 14\n",
    "h = 8\n",
    "vol = l * b * h\n",
    "print(\"Volume of cylinder: \", vol)"
   ]
  },
  {
   "cell_type": "markdown",
   "id": "cf4b43b0",
   "metadata": {},
   "source": [
    "## Input from User"
   ]
  },
  {
   "cell_type": "code",
   "execution_count": 54,
   "id": "4368b14a",
   "metadata": {},
   "outputs": [],
   "source": [
    "# input() function - To take input from user"
   ]
  },
  {
   "cell_type": "code",
   "execution_count": 56,
   "id": "bdd8f825",
   "metadata": {
    "scrolled": true
   },
   "outputs": [
    {
     "name": "stdout",
     "output_type": "stream",
     "text": [
      "Enter your name: Bharat Khanna\n"
     ]
    },
    {
     "data": {
      "text/plain": [
       "'Bharat Khanna'"
      ]
     },
     "execution_count": 56,
     "metadata": {},
     "output_type": "execute_result"
    }
   ],
   "source": [
    "input(\"Enter your name: \")"
   ]
  },
  {
   "cell_type": "code",
   "execution_count": 58,
   "id": "3c5f4bd1",
   "metadata": {},
   "outputs": [
    {
     "name": "stdout",
     "output_type": "stream",
     "text": [
      "Enter your state: Delhi\n"
     ]
    }
   ],
   "source": [
    "state = input(\"Enter your state: \")"
   ]
  },
  {
   "cell_type": "code",
   "execution_count": 60,
   "id": "162ef5ec",
   "metadata": {},
   "outputs": [
    {
     "name": "stdout",
     "output_type": "stream",
     "text": [
      "Delhi\n"
     ]
    }
   ],
   "source": [
    "print(state)"
   ]
  },
  {
   "cell_type": "code",
   "execution_count": 62,
   "id": "c35302b3",
   "metadata": {},
   "outputs": [
    {
     "name": "stdout",
     "output_type": "stream",
     "text": [
      "Input your age: 25\n"
     ]
    }
   ],
   "source": [
    "age = input(\"Input your age: \")"
   ]
  },
  {
   "cell_type": "code",
   "execution_count": 63,
   "id": "0aec4bca",
   "metadata": {},
   "outputs": [
    {
     "data": {
      "text/plain": [
       "'25'"
      ]
     },
     "execution_count": 63,
     "metadata": {},
     "output_type": "execute_result"
    }
   ],
   "source": [
    "age"
   ]
  }
 ],
 "metadata": {
  "kernelspec": {
   "display_name": "Python 3 (ipykernel)",
   "language": "python",
   "name": "python3"
  },
  "language_info": {
   "codemirror_mode": {
    "name": "ipython",
    "version": 3
   },
   "file_extension": ".py",
   "mimetype": "text/x-python",
   "name": "python",
   "nbconvert_exporter": "python",
   "pygments_lexer": "ipython3",
   "version": "3.9.12"
  }
 },
 "nbformat": 4,
 "nbformat_minor": 5
}
