{
 "cells": [
  {
   "cell_type": "code",
   "execution_count": 35,
   "id": "50ebdb34",
   "metadata": {},
   "outputs": [],
   "source": [
    "age = [23,45,67,89,61,57]"
   ]
  },
  {
   "cell_type": "code",
   "execution_count": 36,
   "id": "0f922f27",
   "metadata": {},
   "outputs": [],
   "source": [
    "#Accessing,/Subsetting/Extracting/Slicing the elements\n",
    "#age[start,stop,step]"
   ]
  },
  {
   "cell_type": "code",
   "execution_count": 37,
   "id": "d93d6187",
   "metadata": {},
   "outputs": [
    {
     "data": {
      "text/plain": [
       "[45, 67]"
      ]
     },
     "execution_count": 37,
     "metadata": {},
     "output_type": "execute_result"
    }
   ],
   "source": [
    "age[1:3] #By default loose last index"
   ]
  },
  {
   "cell_type": "code",
   "execution_count": 38,
   "id": "9e534fef",
   "metadata": {},
   "outputs": [],
   "source": [
    "animal = ['Cat','Dog','Cow','Buffalo','Lion','Tiger']"
   ]
  },
  {
   "cell_type": "code",
   "execution_count": 39,
   "id": "b10589aa",
   "metadata": {},
   "outputs": [
    {
     "data": {
      "text/plain": [
       "['Dog', 'Cow', 'Buffalo']"
      ]
     },
     "execution_count": 39,
     "metadata": {},
     "output_type": "execute_result"
    }
   ],
   "source": [
    "animal[1:4]"
   ]
  },
  {
   "cell_type": "code",
   "execution_count": 40,
   "id": "b1ca00ed",
   "metadata": {},
   "outputs": [
    {
     "data": {
      "text/plain": [
       "['Cat', 'Dog', 'Cow', 'Buffalo']"
      ]
     },
     "execution_count": 40,
     "metadata": {},
     "output_type": "execute_result"
    }
   ],
   "source": [
    "animal[:4] # by default starts from 0"
   ]
  },
  {
   "cell_type": "code",
   "execution_count": 41,
   "id": "d84eded8",
   "metadata": {},
   "outputs": [
    {
     "data": {
      "text/plain": [
       "['Dog', 'Cow', 'Buffalo', 'Lion', 'Tiger']"
      ]
     },
     "execution_count": 41,
     "metadata": {},
     "output_type": "execute_result"
    }
   ],
   "source": [
    "animal[1:] # by default takes last value as stop"
   ]
  },
  {
   "cell_type": "code",
   "execution_count": 42,
   "id": "9b057a7c",
   "metadata": {},
   "outputs": [
    {
     "data": {
      "text/plain": [
       "['Cat', 'Dog', 'Cow', 'Buffalo', 'Lion', 'Tiger']"
      ]
     },
     "execution_count": 42,
     "metadata": {},
     "output_type": "execute_result"
    }
   ],
   "source": [
    "animal[:] # Displays full list"
   ]
  },
  {
   "cell_type": "code",
   "execution_count": 43,
   "id": "8d30438f",
   "metadata": {},
   "outputs": [
    {
     "data": {
      "text/plain": [
       "['Cat', 'Cow', 'Lion']"
      ]
     },
     "execution_count": 43,
     "metadata": {},
     "output_type": "execute_result"
    }
   ],
   "source": [
    "animal[0:5:2] # default step is 1"
   ]
  },
  {
   "cell_type": "code",
   "execution_count": 44,
   "id": "79d6e0ea",
   "metadata": {},
   "outputs": [
    {
     "data": {
      "text/plain": [
       "['Dog', 'Cow', 'Buffalo', 'Lion']"
      ]
     },
     "execution_count": 44,
     "metadata": {},
     "output_type": "execute_result"
    }
   ],
   "source": [
    "animal[1:-1]"
   ]
  },
  {
   "cell_type": "code",
   "execution_count": 45,
   "id": "ad81d4d7",
   "metadata": {},
   "outputs": [
    {
     "data": {
      "text/plain": [
       "['Dog', 'Cow', 'Buffalo', 'Lion']"
      ]
     },
     "execution_count": 45,
     "metadata": {},
     "output_type": "execute_result"
    }
   ],
   "source": [
    "animal[1:-1]"
   ]
  },
  {
   "cell_type": "code",
   "execution_count": 46,
   "id": "8ff6a803",
   "metadata": {},
   "outputs": [
    {
     "data": {
      "text/plain": [
       "[]"
      ]
     },
     "execution_count": 46,
     "metadata": {},
     "output_type": "execute_result"
    }
   ],
   "source": [
    "animal[-1:-6] #because this only runs left to right not vice versa so animal[-6:-1]"
   ]
  },
  {
   "cell_type": "code",
   "execution_count": 47,
   "id": "e673c9d6",
   "metadata": {},
   "outputs": [],
   "source": [
    "animal.append('Panther')"
   ]
  },
  {
   "cell_type": "code",
   "execution_count": 48,
   "id": "c8bf73ce",
   "metadata": {},
   "outputs": [
    {
     "data": {
      "text/plain": [
       "['Panther']"
      ]
     },
     "execution_count": 48,
     "metadata": {},
     "output_type": "execute_result"
    }
   ],
   "source": [
    "animal[-1:]"
   ]
  },
  {
   "cell_type": "code",
   "execution_count": 49,
   "id": "c88a9d63",
   "metadata": {},
   "outputs": [
    {
     "data": {
      "text/plain": [
       "['Cat', 'Dog', 'Cow', 'Buffalo', 'Lion', 'Tiger', 'Panther']"
      ]
     },
     "execution_count": 49,
     "metadata": {},
     "output_type": "execute_result"
    }
   ],
   "source": [
    "animal"
   ]
  },
  {
   "cell_type": "code",
   "execution_count": 50,
   "id": "dcc2e799",
   "metadata": {},
   "outputs": [],
   "source": [
    "#del - delete elements from the list"
   ]
  },
  {
   "cell_type": "code",
   "execution_count": 51,
   "id": "de43c19c",
   "metadata": {},
   "outputs": [],
   "source": [
    "del animal[-1]"
   ]
  },
  {
   "cell_type": "code",
   "execution_count": 52,
   "id": "291ed819",
   "metadata": {},
   "outputs": [
    {
     "data": {
      "text/plain": [
       "['Cat', 'Dog', 'Cow', 'Buffalo', 'Lion', 'Tiger']"
      ]
     },
     "execution_count": 52,
     "metadata": {},
     "output_type": "execute_result"
    }
   ],
   "source": [
    "animal"
   ]
  },
  {
   "cell_type": "code",
   "execution_count": 53,
   "id": "e5ffc1be",
   "metadata": {},
   "outputs": [],
   "source": [
    "del animal[1:3]"
   ]
  },
  {
   "cell_type": "code",
   "execution_count": 54,
   "id": "66f41f46",
   "metadata": {},
   "outputs": [
    {
     "data": {
      "text/plain": [
       "['Cat', 'Buffalo', 'Lion', 'Tiger']"
      ]
     },
     "execution_count": 54,
     "metadata": {},
     "output_type": "execute_result"
    }
   ],
   "source": [
    "animal"
   ]
  },
  {
   "cell_type": "code",
   "execution_count": 55,
   "id": "852a3010",
   "metadata": {},
   "outputs": [],
   "source": [
    "#clear - we can clear tghe list"
   ]
  },
  {
   "cell_type": "code",
   "execution_count": 56,
   "id": "836164c2",
   "metadata": {},
   "outputs": [],
   "source": [
    "animal.clear()"
   ]
  },
  {
   "cell_type": "code",
   "execution_count": 57,
   "id": "44b5b49d",
   "metadata": {},
   "outputs": [
    {
     "data": {
      "text/plain": [
       "[]"
      ]
     },
     "execution_count": 57,
     "metadata": {},
     "output_type": "execute_result"
    }
   ],
   "source": [
    "animal"
   ]
  }
 ],
 "metadata": {
  "kernelspec": {
   "display_name": "Python 3 (ipykernel)",
   "language": "python",
   "name": "python3"
  },
  "language_info": {
   "codemirror_mode": {
    "name": "ipython",
    "version": 3
   },
   "file_extension": ".py",
   "mimetype": "text/x-python",
   "name": "python",
   "nbconvert_exporter": "python",
   "pygments_lexer": "ipython3",
   "version": "3.9.12"
  }
 },
 "nbformat": 4,
 "nbformat_minor": 5
}
