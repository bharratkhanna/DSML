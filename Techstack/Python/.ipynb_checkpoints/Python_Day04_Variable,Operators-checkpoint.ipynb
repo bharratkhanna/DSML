{
 "cells": [
  {
   "cell_type": "code",
   "execution_count": 9,
   "id": "233ba4cf",
   "metadata": {},
   "outputs": [],
   "source": [
    "# This is used to write comments.\n",
    "\n",
    "# It cannot be created using keywords."
   ]
  },
  {
   "cell_type": "markdown",
   "id": "0e85b73f",
   "metadata": {},
   "source": [
    "# Variable"
   ]
  },
  {
   "cell_type": "code",
   "execution_count": 5,
   "id": "a2e40a64",
   "metadata": {},
   "outputs": [
    {
     "name": "stdout",
     "output_type": "stream",
     "text": [
      "6\n"
     ]
    }
   ],
   "source": [
    "\n",
    "# Variables are those which values are not fixed. It can be modified or changed.\n",
    "\n",
    "x = 5\n",
    "x = 6\n",
    "print(x)"
   ]
  },
  {
   "cell_type": "code",
   "execution_count": 7,
   "id": "2eef5cbf",
   "metadata": {},
   "outputs": [
    {
     "ename": "SyntaxError",
     "evalue": "invalid syntax (1050877447.py, line 3)",
     "output_type": "error",
     "traceback": [
      "\u001b[0;36m  Input \u001b[0;32mIn [7]\u001b[0;36m\u001b[0m\n\u001b[0;31m    5x = 2\u001b[0m\n\u001b[0m     ^\u001b[0m\n\u001b[0;31mSyntaxError\u001b[0m\u001b[0;31m:\u001b[0m invalid syntax\n"
     ]
    }
   ],
   "source": [
    "# It can not start from Number.\n",
    "\n",
    "5x = 2\n",
    "print(5x)"
   ]
  },
  {
   "cell_type": "code",
   "execution_count": 8,
   "id": "6ba1ec2d",
   "metadata": {},
   "outputs": [
    {
     "name": "stdout",
     "output_type": "stream",
     "text": [
      "5\n"
     ]
    }
   ],
   "source": [
    "# It can be alphanumeric.\n",
    "\n",
    "x2 = 5\n",
    "print(x2)"
   ]
  },
  {
   "cell_type": "code",
   "execution_count": 10,
   "id": "df69b1bc",
   "metadata": {},
   "outputs": [
    {
     "ename": "SyntaxError",
     "evalue": "invalid syntax (3192866949.py, line 5)",
     "output_type": "error",
     "traceback": [
      "\u001b[0;36m  Input \u001b[0;32mIn [10]\u001b[0;36m\u001b[0m\n\u001b[0;31m    fr uit = 'apple'\u001b[0m\n\u001b[0m       ^\u001b[0m\n\u001b[0;31mSyntaxError\u001b[0m\u001b[0;31m:\u001b[0m invalid syntax\n"
     ]
    }
   ],
   "source": [
    "# It does not contain space. Instead of space we can use (_)\n",
    "\n",
    "fr_uit = 'apple'\n",
    "print(fr_uit)\n",
    "\n",
    "fr uit = 'apple'\n",
    "print(fr uit)\n"
   ]
  },
  {
   "cell_type": "markdown",
   "id": "e721a72f",
   "metadata": {},
   "source": [
    "# Operators"
   ]
  },
  {
   "cell_type": "code",
   "execution_count": 18,
   "id": "91e7f17c",
   "metadata": {},
   "outputs": [],
   "source": [
    "# Arithimatic Operators\n",
    "# +,-,*,/,//(floor), &(modulus), **(power)"
   ]
  },
  {
   "cell_type": "code",
   "execution_count": 13,
   "id": "76908ecb",
   "metadata": {},
   "outputs": [
    {
     "data": {
      "text/plain": [
       "101"
      ]
     },
     "execution_count": 13,
     "metadata": {},
     "output_type": "execute_result"
    }
   ],
   "source": [
    "45 + 56"
   ]
  },
  {
   "cell_type": "code",
   "execution_count": 14,
   "id": "f07318e5",
   "metadata": {},
   "outputs": [],
   "source": [
    "x = 45\n",
    "y = 89"
   ]
  },
  {
   "cell_type": "code",
   "execution_count": 15,
   "id": "4688ce12",
   "metadata": {},
   "outputs": [
    {
     "data": {
      "text/plain": [
       "134"
      ]
     },
     "execution_count": 15,
     "metadata": {},
     "output_type": "execute_result"
    }
   ],
   "source": [
    "x + y"
   ]
  },
  {
   "cell_type": "code",
   "execution_count": 16,
   "id": "92e8f5ae",
   "metadata": {},
   "outputs": [],
   "source": [
    "z = 94.5"
   ]
  },
  {
   "cell_type": "code",
   "execution_count": 17,
   "id": "70140a3d",
   "metadata": {},
   "outputs": [
    {
     "data": {
      "text/plain": [
       "228.5"
      ]
     },
     "execution_count": 17,
     "metadata": {},
     "output_type": "execute_result"
    }
   ],
   "source": [
    "x + y + z"
   ]
  },
  {
   "cell_type": "code",
   "execution_count": 19,
   "id": "e194c805",
   "metadata": {},
   "outputs": [],
   "source": [
    "p = 'Apple'"
   ]
  },
  {
   "cell_type": "code",
   "execution_count": 20,
   "id": "0cd16bbc",
   "metadata": {},
   "outputs": [
    {
     "ename": "TypeError",
     "evalue": "unsupported operand type(s) for +: 'int' and 'str'",
     "output_type": "error",
     "traceback": [
      "\u001b[0;31m---------------------------------------------------------------------------\u001b[0m",
      "\u001b[0;31mTypeError\u001b[0m                                 Traceback (most recent call last)",
      "Input \u001b[0;32mIn [20]\u001b[0m, in \u001b[0;36m<cell line: 1>\u001b[0;34m()\u001b[0m\n\u001b[0;32m----> 1\u001b[0m \u001b[43mx\u001b[49m\u001b[43m \u001b[49m\u001b[38;5;241;43m+\u001b[39;49m\u001b[43m \u001b[49m\u001b[43mp\u001b[49m\n",
      "\u001b[0;31mTypeError\u001b[0m: unsupported operand type(s) for +: 'int' and 'str'"
     ]
    }
   ],
   "source": [
    "x + p  #Cannot add string and nummeric value"
   ]
  },
  {
   "cell_type": "code",
   "execution_count": 21,
   "id": "e8753edd",
   "metadata": {},
   "outputs": [],
   "source": [
    "q =\"123\""
   ]
  },
  {
   "cell_type": "code",
   "execution_count": 22,
   "id": "ff436439",
   "metadata": {},
   "outputs": [
    {
     "data": {
      "text/plain": [
       "'Apple123'"
      ]
     },
     "execution_count": 22,
     "metadata": {},
     "output_type": "execute_result"
    }
   ],
   "source": [
    "p + q #Can add two strings"
   ]
  },
  {
   "cell_type": "code",
   "execution_count": 23,
   "id": "ed3ccdc4",
   "metadata": {},
   "outputs": [
    {
     "data": {
      "text/plain": [
       "-44"
      ]
     },
     "execution_count": 23,
     "metadata": {},
     "output_type": "execute_result"
    }
   ],
   "source": [
    "x - y"
   ]
  },
  {
   "cell_type": "code",
   "execution_count": 24,
   "id": "c1b1cbf9",
   "metadata": {},
   "outputs": [
    {
     "data": {
      "text/plain": [
       "4005"
      ]
     },
     "execution_count": 24,
     "metadata": {},
     "output_type": "execute_result"
    }
   ],
   "source": [
    "x * y"
   ]
  },
  {
   "cell_type": "code",
   "execution_count": 25,
   "id": "304428fc",
   "metadata": {},
   "outputs": [
    {
     "data": {
      "text/plain": [
       "0.5056179775280899"
      ]
     },
     "execution_count": 25,
     "metadata": {},
     "output_type": "execute_result"
    }
   ],
   "source": [
    "x / y"
   ]
  },
  {
   "cell_type": "code",
   "execution_count": 26,
   "id": "bcebd58e",
   "metadata": {},
   "outputs": [
    {
     "ename": "TypeError",
     "evalue": "unsupported operand type(s) for -: 'int' and 'str'",
     "output_type": "error",
     "traceback": [
      "\u001b[0;31m---------------------------------------------------------------------------\u001b[0m",
      "\u001b[0;31mTypeError\u001b[0m                                 Traceback (most recent call last)",
      "Input \u001b[0;32mIn [26]\u001b[0m, in \u001b[0;36m<cell line: 1>\u001b[0;34m()\u001b[0m\n\u001b[0;32m----> 1\u001b[0m \u001b[43mx\u001b[49m\u001b[43m \u001b[49m\u001b[38;5;241;43m-\u001b[39;49m\u001b[43m \u001b[49m\u001b[43mp\u001b[49m\n",
      "\u001b[0;31mTypeError\u001b[0m: unsupported operand type(s) for -: 'int' and 'str'"
     ]
    }
   ],
   "source": [
    "x - p"
   ]
  },
  {
   "cell_type": "code",
   "execution_count": 28,
   "id": "b3e0cc9b",
   "metadata": {},
   "outputs": [
    {
     "ename": "TypeError",
     "evalue": "unsupported operand type(s) for -: 'str' and 'str'",
     "output_type": "error",
     "traceback": [
      "\u001b[0;31m---------------------------------------------------------------------------\u001b[0m",
      "\u001b[0;31mTypeError\u001b[0m                                 Traceback (most recent call last)",
      "Input \u001b[0;32mIn [28]\u001b[0m, in \u001b[0;36m<cell line: 1>\u001b[0;34m()\u001b[0m\n\u001b[0;32m----> 1\u001b[0m \u001b[43mp\u001b[49m\u001b[43m \u001b[49m\u001b[38;5;241;43m-\u001b[39;49m\u001b[43m \u001b[49m\u001b[43mq\u001b[49m\n",
      "\u001b[0;31mTypeError\u001b[0m: unsupported operand type(s) for -: 'str' and 'str'"
     ]
    }
   ],
   "source": [
    "p - q \n",
    "p * q\n",
    "p / q\n",
    "# Cannot work with strings-strings or strings-numbers"
   ]
  },
  {
   "cell_type": "code",
   "execution_count": 30,
   "id": "f54241d1",
   "metadata": {},
   "outputs": [
    {
     "ename": "TypeError",
     "evalue": "can't multiply sequence by non-int of type 'str'",
     "output_type": "error",
     "traceback": [
      "\u001b[0;31m---------------------------------------------------------------------------\u001b[0m",
      "\u001b[0;31mTypeError\u001b[0m                                 Traceback (most recent call last)",
      "Input \u001b[0;32mIn [30]\u001b[0m, in \u001b[0;36m<cell line: 1>\u001b[0;34m()\u001b[0m\n\u001b[0;32m----> 1\u001b[0m \u001b[43mp\u001b[49m\u001b[43m \u001b[49m\u001b[38;5;241;43m*\u001b[39;49m\u001b[43m \u001b[49m\u001b[43mq\u001b[49m\n",
      "\u001b[0;31mTypeError\u001b[0m: can't multiply sequence by non-int of type 'str'"
     ]
    }
   ],
   "source": [
    "p * q"
   ]
  },
  {
   "cell_type": "code",
   "execution_count": 31,
   "id": "f2f2b268",
   "metadata": {},
   "outputs": [
    {
     "ename": "TypeError",
     "evalue": "unsupported operand type(s) for /: 'str' and 'str'",
     "output_type": "error",
     "traceback": [
      "\u001b[0;31m---------------------------------------------------------------------------\u001b[0m",
      "\u001b[0;31mTypeError\u001b[0m                                 Traceback (most recent call last)",
      "Input \u001b[0;32mIn [31]\u001b[0m, in \u001b[0;36m<cell line: 1>\u001b[0;34m()\u001b[0m\n\u001b[0;32m----> 1\u001b[0m \u001b[43mp\u001b[49m\u001b[43m \u001b[49m\u001b[38;5;241;43m/\u001b[39;49m\u001b[43m \u001b[49m\u001b[43mq\u001b[49m\n",
      "\u001b[0;31mTypeError\u001b[0m: unsupported operand type(s) for /: 'str' and 'str'"
     ]
    }
   ],
   "source": [
    "p / q"
   ]
  },
  {
   "cell_type": "code",
   "execution_count": 33,
   "id": "b9e673d3",
   "metadata": {},
   "outputs": [
    {
     "data": {
      "text/plain": [
       "2.5"
      ]
     },
     "execution_count": 33,
     "metadata": {},
     "output_type": "execute_result"
    }
   ],
   "source": [
    "# / Operator\n",
    "5 / 2 # Quotient & Remainder"
   ]
  },
  {
   "cell_type": "code",
   "execution_count": 36,
   "id": "947e428f",
   "metadata": {},
   "outputs": [
    {
     "data": {
      "text/plain": [
       "2"
      ]
     },
     "execution_count": 36,
     "metadata": {},
     "output_type": "execute_result"
    }
   ],
   "source": [
    "# // Operator\n",
    "5 // 2 # Floor operator only tells Quotient"
   ]
  },
  {
   "cell_type": "code",
   "execution_count": 37,
   "id": "72164a9c",
   "metadata": {},
   "outputs": [
    {
     "ename": "NameError",
     "evalue": "name 'floor' is not defined",
     "output_type": "error",
     "traceback": [
      "\u001b[0;31m---------------------------------------------------------------------------\u001b[0m",
      "\u001b[0;31mNameError\u001b[0m                                 Traceback (most recent call last)",
      "Input \u001b[0;32mIn [37]\u001b[0m, in \u001b[0;36m<cell line: 1>\u001b[0;34m()\u001b[0m\n\u001b[0;32m----> 1\u001b[0m \u001b[43mfloor\u001b[49m(\u001b[38;5;241m11.5\u001b[39m)\n",
      "\u001b[0;31mNameError\u001b[0m: name 'floor' is not defined"
     ]
    }
   ],
   "source": [
    "//5(11.5)"
   ]
  },
  {
   "cell_type": "code",
   "execution_count": 35,
   "id": "bdf05698",
   "metadata": {},
   "outputs": [
    {
     "data": {
      "text/plain": [
       "1"
      ]
     },
     "execution_count": 35,
     "metadata": {},
     "output_type": "execute_result"
    }
   ],
   "source": [
    "# ∞Modulus\n",
    "5 % 2 # Modulus tells us remainder."
   ]
  },
  {
   "cell_type": "code",
   "execution_count": 39,
   "id": "221a7697",
   "metadata": {},
   "outputs": [
    {
     "data": {
      "text/plain": [
       "4.8"
      ]
     },
     "execution_count": 39,
     "metadata": {},
     "output_type": "execute_result"
    }
   ],
   "source": [
    "24 / 5 \n"
   ]
  },
  {
   "cell_type": "code",
   "execution_count": 40,
   "id": "a1a4daf7",
   "metadata": {},
   "outputs": [
    {
     "data": {
      "text/plain": [
       "4"
      ]
     },
     "execution_count": 40,
     "metadata": {},
     "output_type": "execute_result"
    }
   ],
   "source": [
    "24 // 5"
   ]
  },
  {
   "cell_type": "code",
   "execution_count": 41,
   "id": "c7fd75e1",
   "metadata": {},
   "outputs": [
    {
     "data": {
      "text/plain": [
       "-4.8"
      ]
     },
     "execution_count": 41,
     "metadata": {},
     "output_type": "execute_result"
    }
   ],
   "source": [
    "-24 / 5"
   ]
  },
  {
   "cell_type": "code",
   "execution_count": 42,
   "id": "473fcefc",
   "metadata": {},
   "outputs": [
    {
     "data": {
      "text/plain": [
       "-5"
      ]
     },
     "execution_count": 42,
     "metadata": {},
     "output_type": "execute_result"
    }
   ],
   "source": [
    "-24 // 5 # So floor operators rounds off to a lower value"
   ]
  },
  {
   "cell_type": "code",
   "execution_count": 43,
   "id": "750ec562",
   "metadata": {},
   "outputs": [
    {
     "data": {
      "text/plain": [
       "30"
      ]
     },
     "execution_count": 43,
     "metadata": {},
     "output_type": "execute_result"
    }
   ],
   "source": [
    "# * Multiplication\n",
    "5 * 6"
   ]
  },
  {
   "cell_type": "code",
   "execution_count": 45,
   "id": "20922ad4",
   "metadata": {},
   "outputs": [
    {
     "data": {
      "text/plain": [
       "8"
      ]
     },
     "execution_count": 45,
     "metadata": {},
     "output_type": "execute_result"
    }
   ],
   "source": [
    "# ** Power Operator\n",
    "2 **3 # 2*2*2"
   ]
  },
  {
   "cell_type": "code",
   "execution_count": null,
   "id": "678720d0",
   "metadata": {},
   "outputs": [],
   "source": []
  }
 ],
 "metadata": {
  "kernelspec": {
   "display_name": "Python 3 (ipykernel)",
   "language": "python",
   "name": "python3"
  },
  "language_info": {
   "codemirror_mode": {
    "name": "ipython",
    "version": 3
   },
   "file_extension": ".py",
   "mimetype": "text/x-python",
   "name": "python",
   "nbconvert_exporter": "python",
   "pygments_lexer": "ipython3",
   "version": "3.9.12"
  }
 },
 "nbformat": 4,
 "nbformat_minor": 5
}
