{
 "cells": [
  {
   "cell_type": "markdown",
   "metadata": {},
   "source": [
    "<h1><center> DSA Practice</center></h1>"
   ]
  },
  {
   "cell_type": "markdown",
   "metadata": {},
   "source": [
    "### Searching"
   ]
  },
  {
   "cell_type": "code",
   "execution_count": 2,
   "metadata": {},
   "outputs": [],
   "source": [
    "def binary_search(arr, target):\n",
    "    start = 0\n",
    "    end = len(arr)-1\n",
    "  \n",
    "    while start <= end:\n",
    "        mid = (start + end)//2\n",
    "        num = arr[ mid]\n",
    "        if num == target:\n",
    "            return True\n",
    "        elif num < target:\n",
    "            start = start + 1\n",
    "        else: \n",
    "            end = end -1\n",
    "    return False"
   ]
  },
  {
   "cell_type": "code",
   "execution_count": 3,
   "metadata": {},
   "outputs": [],
   "source": [
    "def Sequential_Search(arr,target):\n",
    "    n = len(arr)\n",
    "    for i in range(n):\n",
    "        if target == arr[i]:\n",
    "            return True\n",
    "    return False"
   ]
  },
  {
   "cell_type": "code",
   "execution_count": 4,
   "metadata": {},
   "outputs": [
    {
     "name": "stdout",
     "output_type": "stream",
     "text": [
      "Searching Algorithms:-\n",
      "True\n",
      "True\n"
     ]
    }
   ],
   "source": [
    "print(\"Searching Algorithms:-\")\n",
    "print(binary_search([1,2,3,5,8], 1))\n",
    "print(Sequential_Search([11,23,58,31,56,77,43,12,65,19],31))"
   ]
  },
  {
   "cell_type": "markdown",
   "metadata": {},
   "source": [
    "### Sorting"
   ]
  },
  {
   "cell_type": "code",
   "execution_count": 5,
   "metadata": {},
   "outputs": [],
   "source": [
    "    \n",
    "def bubble_sort(arr):\n",
    "    n = len(arr)\n",
    "    count = 0\n",
    "    for i in range(n-1):\n",
    "        already_sorted = True\n",
    "        for j in range(n-1-i):\n",
    "            count += 1\n",
    "            if arr[j] > arr[j+1]:\n",
    "                arr[j],arr[j+1] =  arr[j+1],arr[j]\n",
    "                already_sorted = False\n",
    "        if already_sorted == True:\n",
    "            break\n",
    "    return arr,count"
   ]
  },
  {
   "cell_type": "code",
   "execution_count": 6,
   "metadata": {},
   "outputs": [],
   "source": [
    "def selection_sort(arr):\n",
    "    n = len(arr)\n",
    "    count = 0\n",
    "    for i in range(n-1):\n",
    "        min_idx=i\n",
    "        for j in range(i+1,n):\n",
    "            count += 1\n",
    "            if arr[min_idx]>arr[j]:\n",
    "                min_idx = j\n",
    "        arr[i],arr[min_idx] =  arr[min_idx], arr[i]\n",
    "    return arr, count"
   ]
  },
  {
   "cell_type": "code",
   "execution_count": 7,
   "metadata": {},
   "outputs": [],
   "source": [
    "def insertion_sort(arr):\n",
    "    n = len(arr)\n",
    "    count = 0\n",
    "    for i in range(1,n):\n",
    "        key = arr[i]\n",
    "        j = i - 1\n",
    "        while j >= 0 and key<arr[j]:\n",
    "            count += 1\n",
    "            arr[j+1]=arr[j]\n",
    "            j = j - 1\n",
    "        arr[j+1] = key\n",
    "    return arr,count"
   ]
  },
  {
   "cell_type": "code",
   "execution_count": 8,
   "metadata": {},
   "outputs": [
    {
     "name": "stdout",
     "output_type": "stream",
     "text": [
      "\n",
      "Sorting Algorithms:-\n",
      "([14, 21, 27, 41, 43, 45, 46, 57, 70], 35)\n",
      "([14, 21, 27, 41, 43, 45, 46, 57, 70], 36)\n",
      "([14, 21, 27, 41, 43, 45, 46, 57, 70], 14)\n"
     ]
    }
   ],
   "source": [
    "print(\"\\nSorting Algorithms:-\")\n",
    "print(bubble_sort([14,46,43,27,57,41,45,21,70]))\n",
    "print(selection_sort([14,46,43,27,57,41,45,21,70]))\n",
    "print(insertion_sort([14,46,43,27,57,41,45,21,70]))"
   ]
  },
  {
   "cell_type": "code",
   "execution_count": 9,
   "metadata": {},
   "outputs": [
    {
     "name": "stdout",
     "output_type": "stream",
     "text": [
      "\n",
      "Sorting Worst Case Algorithms:-\n",
      "124750\n",
      "124750\n",
      "0\n",
      "\n",
      "Sorting Best Case Algorithms:-\n",
      "499\n",
      "124750\n",
      "0\n"
     ]
    }
   ],
   "source": [
    "arr = list(range(1000,1,-2))\n",
    "\n",
    "# Worst Case Sorting Algorithms\n",
    "print(\"\\nSorting Worst Case Algorithms:-\")\n",
    "print(bubble_sort(arr)[1])\n",
    "print(selection_sort(arr)[1])\n",
    "print(insertion_sort(arr)[1])\n",
    "\n",
    "# Best Case Sorting Algorithms\n",
    "print(\"\\nSorting Best Case Algorithms:-\")\n",
    "print(bubble_sort(arr)[1])\n",
    "print(selection_sort(arr)[1])\n",
    "print(insertion_sort(arr)[1])"
   ]
  },
  {
   "cell_type": "markdown",
   "metadata": {},
   "source": [
    "### Merging Sorted Elements"
   ]
  },
  {
   "cell_type": "code",
   "execution_count": 10,
   "metadata": {},
   "outputs": [],
   "source": [
    "def merge(A,B):\n",
    "    n = len(A)\n",
    "    m = len(B)\n",
    "    i,j = 0,0\n",
    "    C = list()\n",
    "    while(len(C) != n+m):\n",
    "        if A[i] < B[j]:\n",
    "            C.append(A[i])\n",
    "            i+=1\n",
    "            if i == n:\n",
    "                C.extend(B[j:])\n",
    "        else:\n",
    "            C.append(B[j])\n",
    "            j+=1\n",
    "            if j == m:\n",
    "                C.extend(A[i:])\n",
    "    return C"
   ]
  },
  {
   "cell_type": "code",
   "execution_count": 11,
   "metadata": {},
   "outputs": [
    {
     "name": "stdout",
     "output_type": "stream",
     "text": [
      "\n",
      "Merged Sorted Array:-\n",
      "[1, 2, 3, 4, 5, 6, 7, 8, 9]\n",
      "\n"
     ]
    }
   ],
   "source": [
    "print(f'\\nMerged Sorted Array:-')\n",
    "print(f'{merge([1,3,5,7,9],[2,4,6,8])}\\n')"
   ]
  },
  {
   "cell_type": "markdown",
   "metadata": {},
   "source": [
    "### Ngram"
   ]
  },
  {
   "cell_type": "code",
   "execution_count": 12,
   "metadata": {},
   "outputs": [],
   "source": [
    "def ngram(arr,step):\n",
    "    arr = arr.split()\n",
    "    n = len(arr)\n",
    "    tokens = list()\n",
    "    for i in range(n - step + 1):\n",
    "        tokens.append(arr[i:i + step])\n",
    "    return tokens"
   ]
  },
  {
   "cell_type": "code",
   "execution_count": 13,
   "metadata": {},
   "outputs": [
    {
     "name": "stdout",
     "output_type": "stream",
     "text": [
      "\n",
      "Tokeniztion:-\n",
      "[['be', 'the'], ['the', 'change'], ['change', 'you'], ['you', 'want'], ['want', 'to'], ['to', 'be'], ['be', 'in'], ['in', 'the']] \n",
      "\n"
     ]
    }
   ],
   "source": [
    "print(f'\\nTokeniztion:-')\n",
    "print(ngram(\"be the change you want to be in the\",2),\"\\n\")"
   ]
  }
 ],
 "metadata": {
  "kernelspec": {
   "display_name": "Python 3.9.15 ('base')",
   "language": "python",
   "name": "python3"
  },
  "language_info": {
   "codemirror_mode": {
    "name": "ipython",
    "version": 3
   },
   "file_extension": ".py",
   "mimetype": "text/x-python",
   "name": "python",
   "nbconvert_exporter": "python",
   "pygments_lexer": "ipython3",
   "version": "3.9.15"
  },
  "orig_nbformat": 4,
  "vscode": {
   "interpreter": {
    "hash": "757053eaf0655596af139d123df37fb4079df03a43161b6a79909863304398bf"
   }
  }
 },
 "nbformat": 4,
 "nbformat_minor": 2
}
