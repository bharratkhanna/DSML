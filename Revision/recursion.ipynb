{
 "cells": [
  {
   "attachments": {},
   "cell_type": "markdown",
   "metadata": {},
   "source": [
    "<h1><center> Recursion Practice"
   ]
  },
  {
   "attachments": {},
   "cell_type": "markdown",
   "metadata": {},
   "source": [
    "1. Write a Python program to calculate the sum of a list of numbers."
   ]
  },
  {
   "cell_type": "code",
   "execution_count": 4,
   "metadata": {},
   "outputs": [
    {
     "data": {
      "text/plain": [
       "10"
      ]
     },
     "execution_count": 4,
     "metadata": {},
     "output_type": "execute_result"
    }
   ],
   "source": [
    "def sum_list(arr):\n",
    "    if len(arr) == 1:\n",
    "        return arr[0]\n",
    "    else:\n",
    "        return sum_list(arr[1:]) + arr[0]\n",
    "\n",
    "sum_list([-5,1,2,3,4,5])"
   ]
  },
  {
   "attachments": {},
   "cell_type": "markdown",
   "metadata": {},
   "source": [
    "2. Write a Python program to convert a decimal number to any base."
   ]
  },
  {
   "cell_type": "code",
   "execution_count": 17,
   "metadata": {},
   "outputs": [
    {
     "data": {
      "text/plain": [
       "565"
      ]
     },
     "execution_count": 17,
     "metadata": {},
     "output_type": "execute_result"
    }
   ],
   "source": [
    "def bin(n,b):\n",
    "    if n == 0:\n",
    "        return 0\n",
    "    return bin(n//b,b) * 10  + n % b\n",
    "\n",
    "bin(373,8)"
   ]
  },
  {
   "attachments": {},
   "cell_type": "markdown",
   "metadata": {},
   "source": [
    "3. Write a Python program of recursion list sum.\n",
    "\n",
    "```python\n",
    "Test Data: [1, 2, [3,4], [5,6]]\n",
    "Expected Result: 21\n",
    "```"
   ]
  },
  {
   "cell_type": "code",
   "execution_count": 48,
   "metadata": {},
   "outputs": [
    {
     "data": {
      "text/plain": [
       "55"
      ]
     },
     "execution_count": 48,
     "metadata": {},
     "output_type": "execute_result"
    }
   ],
   "source": [
    "def sum_list_adv(arr):\n",
    "\n",
    "    if len(arr)==1:\n",
    "        if type(arr[0])  == list:\n",
    "            return sum_list_adv(arr[0])\n",
    "        else:\n",
    "            return arr[0]\n",
    "    else:\n",
    "        if type(arr[0]) == list:\n",
    "            return sum_list_adv(arr[0]) + sum_list_adv(arr[1:])\n",
    "        else:\n",
    "            return arr[0] + sum_list_adv(arr[1:])\n",
    "\n",
    "sum_list_adv([1,2,[3,4],[5,[7,[9,10],8],6]])"
   ]
  },
  {
   "cell_type": "markdown",
   "metadata": {},
   "source": [
    "4. Write a Python program to get the factorial of a non-negative integer."
   ]
  },
  {
   "cell_type": "code",
   "execution_count": 51,
   "metadata": {},
   "outputs": [
    {
     "data": {
      "text/plain": [
       "24"
      ]
     },
     "execution_count": 51,
     "metadata": {},
     "output_type": "execute_result"
    }
   ],
   "source": [
    "def factorial_neg(n):\n",
    "    if n == -1:\n",
    "        return n\n",
    "    else:\n",
    "        return factorial_neg(n+1) * n\n",
    "\n",
    "factorial_neg(-4)"
   ]
  },
  {
   "cell_type": "markdown",
   "metadata": {},
   "source": [
    "5. Write a Python program to solve the Fibonacci sequence using recursion."
   ]
  },
  {
   "cell_type": "code",
   "execution_count": 59,
   "metadata": {},
   "outputs": [
    {
     "data": {
      "text/plain": [
       "5"
      ]
     },
     "execution_count": 59,
     "metadata": {},
     "output_type": "execute_result"
    }
   ],
   "source": [
    "def fib(n):\n",
    "    if n == 1 or n == 0:\n",
    "        return 1\n",
    "    else:\n",
    "        return fib(n-1) + fib(n-2)\n",
    "\n",
    "fib(4)"
   ]
  },
  {
   "cell_type": "markdown",
   "metadata": {},
   "source": [
    "6. Write a Python program to get the sum of digits a non-negative integer. "
   ]
  },
  {
   "cell_type": "code",
   "execution_count": 64,
   "metadata": {},
   "outputs": [
    {
     "data": {
      "text/plain": [
       "12"
      ]
     },
     "execution_count": 64,
     "metadata": {},
     "output_type": "execute_result"
    }
   ],
   "source": [
    "def sum_digits(n):\n",
    "    if n == 0:\n",
    "        return 0\n",
    "    else:\n",
    "        return sum_digits(n//10) + n % 10\n",
    "\n",
    "sum_digits(345)"
   ]
  },
  {
   "attachments": {},
   "cell_type": "markdown",
   "metadata": {},
   "source": [
    "7. Write a Python program to calculate the sum of the positive integers of n+(n-2)+(n-4)... \n",
    "\n",
    "```python\n",
    "Test Data:\n",
    "sum_series(6) -> 12\n",
    "sum_series(10) -> 30 \n",
    "```"
   ]
  },
  {
   "cell_type": "code",
   "execution_count": 70,
   "metadata": {},
   "outputs": [
    {
     "data": {
      "text/plain": [
       "4"
      ]
     },
     "execution_count": 70,
     "metadata": {},
     "output_type": "execute_result"
    }
   ],
   "source": [
    "def sum_series(n):\n",
    "    if n < 1:\n",
    "        return 0\n",
    "    else:\n",
    "        return sum_series(n-2) + n\n",
    "\n",
    "sum_series(3)"
   ]
  },
  {
   "attachments": {},
   "cell_type": "markdown",
   "metadata": {},
   "source": [
    "8. Write a Python program to calculate the harmonic sum of n-1\n",
    "\n",
    "```python\n",
    "1/1 + 1/2 + 1/3 + 1/4.....\n",
    "```"
   ]
  },
  {
   "cell_type": "code",
   "execution_count": 1,
   "metadata": {},
   "outputs": [
    {
     "data": {
      "text/plain": [
       "5.187377517639621"
      ]
     },
     "execution_count": 1,
     "metadata": {},
     "output_type": "execute_result"
    }
   ],
   "source": [
    "def harmonic_series(n):\n",
    "    if n == 1:\n",
    "        return 1\n",
    "    else:\n",
    "        return harmonic_series(n-1) + 1/n\n",
    "\n",
    "harmonic_series(100)"
   ]
  },
  {
   "attachments": {},
   "cell_type": "markdown",
   "metadata": {},
   "source": [
    "10. Write a Python program to calculate the value of 'a' to the power 'b'."
   ]
  },
  {
   "cell_type": "code",
   "execution_count": 3,
   "metadata": {},
   "outputs": [
    {
     "data": {
      "text/plain": [
       "27"
      ]
     },
     "execution_count": 3,
     "metadata": {},
     "output_type": "execute_result"
    }
   ],
   "source": [
    "def power(n,p):\n",
    "    if p==0:\n",
    "        return 1\n",
    "    else:\n",
    "        return power(n,p-1) * n\n",
    "\n",
    "power(3,3)"
   ]
  },
  {
   "attachments": {},
   "cell_type": "markdown",
   "metadata": {},
   "source": [
    "11. Write a Python program to find  the greatest common divisor (gcd) of two integers."
   ]
  },
  {
   "cell_type": "code",
   "execution_count": 1,
   "metadata": {},
   "outputs": [
    {
     "data": {
      "text/plain": [
       "6"
      ]
     },
     "execution_count": 1,
     "metadata": {},
     "output_type": "execute_result"
    }
   ],
   "source": [
    "def gcd(a,b,i=2):\n",
    "    if i > a or i > b:\n",
    "        return 1\n",
    "    if a % i == 0 and b % i == 0:\n",
    "        return gcd(a/i,b/i,i+1) * i \n",
    "    else:\n",
    "         return gcd(a,b,i+1)\n",
    "\n",
    "gcd(18,24)"
   ]
  },
  {
   "cell_type": "code",
   "execution_count": 75,
   "metadata": {},
   "outputs": [
    {
     "data": {
      "text/plain": [
       "True"
      ]
     },
     "execution_count": 75,
     "metadata": {},
     "output_type": "execute_result"
    }
   ],
   "source": [
    "def isPower(a,b):\n",
    "    if a == 1:\n",
    "        return True\n",
    "    if a % b == 0:\n",
    "        return isPower(a//b,b)\n",
    "    else:\n",
    "        return False\n",
    "\n",
    "isPower(625,5)"
   ]
  },
  {
   "cell_type": "markdown",
   "metadata": {},
   "source": [
    "Length of String"
   ]
  },
  {
   "cell_type": "code",
   "execution_count": 67,
   "metadata": {},
   "outputs": [
    {
     "data": {
      "text/plain": [
       "1"
      ]
     },
     "execution_count": 67,
     "metadata": {},
     "output_type": "execute_result"
    }
   ],
   "source": [
    "def length(str1):\n",
    "    if str1 == \"\":\n",
    "        return 0\n",
    "    return 1 + length(str1[1:])\n",
    "\n",
    "length(\"5\")"
   ]
  },
  {
   "attachments": {},
   "cell_type": "markdown",
   "metadata": {},
   "source": [
    "Merge Sort Rec"
   ]
  },
  {
   "cell_type": "code",
   "execution_count": 46,
   "metadata": {},
   "outputs": [
    {
     "data": {
      "text/plain": [
       "[1, 2, 2, 3, 3, 4, 5, 7, 8, 9, 10, 27, 51]"
      ]
     },
     "execution_count": 46,
     "metadata": {},
     "output_type": "execute_result"
    }
   ],
   "source": [
    "def merge(A,B):\n",
    "    n = len(A)\n",
    "    m = len(B)\n",
    "    C = list()\n",
    "    i,j = 0,0\n",
    "    while(len(C) != n+m):\n",
    "        if A[i] < B[j]:\n",
    "            C.append(A[i])\n",
    "            i += 1\n",
    "            if i == n:\n",
    "                C.extend(B[j:])\n",
    "        else:\n",
    "            C.append(B[j])\n",
    "            j += 1\n",
    "            if j == m:\n",
    "                C.extend(A[i:])\n",
    "    return C\n",
    "             \n",
    "\n",
    "def mergeSort(arr):\n",
    "    if len(arr) == 1:\n",
    "        return list(arr)\n",
    "    else:\n",
    "        l = 0\n",
    "        r = len(arr)-1\n",
    "        m = (l+r)//2\n",
    "\n",
    "        if l == m:\n",
    "            if arr[l] <= arr[r]:\n",
    "                return list([arr[l],arr[r]])\n",
    "            else:\n",
    "                return list([arr[r],arr[l]])\n",
    "        else:\n",
    "            return  merge(mergeSort(arr[0:m]),  mergeSort(arr[m:]))\n",
    "\n",
    "\n",
    "mergeSort([1,3,2,5,3,7,2,8,9,10,51,27,4])\n"
   ]
  },
  {
   "attachments": {},
   "cell_type": "markdown",
   "metadata": {},
   "source": [
    "Optimized  Power Recursion"
   ]
  },
  {
   "cell_type": "code",
   "execution_count": 35,
   "metadata": {},
   "outputs": [
    {
     "data": {
      "text/plain": [
       "8"
      ]
     },
     "execution_count": 35,
     "metadata": {},
     "output_type": "execute_result"
    }
   ],
   "source": [
    "def opt_power(a,b):\n",
    "    if b == 0:\n",
    "        return 1\n",
    "    else:\n",
    "        if b%2 == 0:\n",
    "            temp = opt_power(a,b//2)\n",
    "            return temp * temp\n",
    "        else:\n",
    "             return a * opt_power(a,b-1)\n",
    "\n",
    "opt_power(2,3)"
   ]
  },
  {
   "attachments": {},
   "cell_type": "markdown",
   "metadata": {},
   "source": [
    "Print Descending"
   ]
  },
  {
   "cell_type": "code",
   "execution_count": 44,
   "metadata": {},
   "outputs": [
    {
     "name": "stdout",
     "output_type": "stream",
     "text": [
      "5 4 3 2 1 "
     ]
    }
   ],
   "source": [
    "def print_desc(n):\n",
    "    if n == 0:\n",
    "        return n\n",
    "    print(n,end=\" \")\n",
    "    print_desc(n-1)\n",
    "\n",
    "print_desc(5)\n"
   ]
  },
  {
   "cell_type": "markdown",
   "metadata": {},
   "source": [
    "Print Ascending"
   ]
  },
  {
   "cell_type": "code",
   "execution_count": 1,
   "metadata": {},
   "outputs": [
    {
     "name": "stdout",
     "output_type": "stream",
     "text": [
      "1 2 3 4 5 "
     ]
    }
   ],
   "source": [
    "def print_asc(n):\n",
    "    if n == 0:\n",
    "        return n\n",
    "    else:\n",
    "        print_asc(n-1)\n",
    "        print(n,end=\" \")\n",
    "\n",
    "print_asc(5)"
   ]
  },
  {
   "attachments": {},
   "cell_type": "markdown",
   "metadata": {},
   "source": [
    "Linear Search\n"
   ]
  },
  {
   "cell_type": "code",
   "execution_count": 5,
   "metadata": {},
   "outputs": [
    {
     "data": {
      "text/plain": [
       "True"
      ]
     },
     "execution_count": 5,
     "metadata": {},
     "output_type": "execute_result"
    }
   ],
   "source": [
    "def lin_search(arr,n):\n",
    "    if len(arr) == 1 and arr[0] != n:\n",
    "        return False\n",
    "    elif arr[0] == n:\n",
    "        return True\n",
    "    else: \n",
    "        return lin_search(arr[1:],n)\n",
    "\n",
    "lin_search([1,3,7,45,64,3,2],64)"
   ]
  },
  {
   "attachments": {},
   "cell_type": "markdown",
   "metadata": {},
   "source": [
    "Binary Search\n"
   ]
  },
  {
   "cell_type": "code",
   "execution_count": 21,
   "metadata": {},
   "outputs": [
    {
     "data": {
      "text/plain": [
       "False"
      ]
     },
     "execution_count": 21,
     "metadata": {},
     "output_type": "execute_result"
    }
   ],
   "source": [
    "def bin_search(arr,n):\n",
    "    l = 0\n",
    "    r = len(arr)-1\n",
    "    m = (l+r)//2\n",
    "    if l>=r and arr[m] != n:\n",
    "        return False\n",
    "    elif arr[m] == n:\n",
    "        return True\n",
    "    elif arr[m] > n:\n",
    "        return bin_search(arr[l:m],n)\n",
    "    else:\n",
    "        return bin_search(arr[m+1:],n)\n",
    "\n",
    "bin_search([1,2,3,4,5,6,7,8,9],56)\n"
   ]
  },
  {
   "cell_type": "markdown",
   "metadata": {},
   "source": [
    "Bubble Sort"
   ]
  },
  {
   "cell_type": "code",
   "execution_count": 50,
   "metadata": {},
   "outputs": [
    {
     "data": {
      "text/plain": [
       "[2, 3, 4, 5, 6, 21]"
      ]
     },
     "execution_count": 50,
     "metadata": {},
     "output_type": "execute_result"
    }
   ],
   "source": [
    "def bubble_sort(arr,i=0,j=0):\n",
    "    n = len(arr)\n",
    "    if i == n:\n",
    "        return arr\n",
    "    elif j == n-1:\n",
    "        return bubble_sort(arr,i+1)\n",
    "    elif arr[j] > arr[j+1]:\n",
    "        arr[j],arr[j+1] = arr[j+1],arr[j]\n",
    "    return bubble_sort(arr,i,j+1)\n",
    "\n",
    "bubble_sort([6,5,4,3,21,2])"
   ]
  },
  {
   "attachments": {},
   "cell_type": "markdown",
   "metadata": {},
   "source": [
    "Selection Sort"
   ]
  },
  {
   "cell_type": "code",
   "execution_count": 57,
   "metadata": {},
   "outputs": [
    {
     "data": {
      "text/plain": [
       "[2, 3, 4, 5, 6, 21]"
      ]
     },
     "execution_count": 57,
     "metadata": {},
     "output_type": "execute_result"
    }
   ],
   "source": [
    "def selection_sort(arr,i=0):\n",
    "    n = len(arr)\n",
    "    j = i\n",
    "    if i == n:\n",
    "        return arr\n",
    "    else:\n",
    "        min_idx = i\n",
    "        while(j<=n-1):\n",
    "            if arr[j] < arr[min_idx]:\n",
    "                min_idx  = j\n",
    "            j += 1\n",
    "        arr[i],arr[min_idx]=arr[min_idx],arr[i]\n",
    "    return selection_sort(arr,i+1)\n",
    "\n",
    "selection_sort([6,5,4,3,21,2])"
   ]
  },
  {
   "attachments": {},
   "cell_type": "markdown",
   "metadata": {},
   "source": [
    "Insertion Sort"
   ]
  },
  {
   "cell_type": "code",
   "execution_count": 76,
   "metadata": {},
   "outputs": [
    {
     "data": {
      "text/plain": [
       "[2, 3, 4, 5, 6, 21]"
      ]
     },
     "execution_count": 76,
     "metadata": {},
     "output_type": "execute_result"
    }
   ],
   "source": [
    "def insertion_sort(arr,i=1,j=0):\n",
    "    n = len(arr)\n",
    "    j = i - 1 \n",
    "    if i == n:\n",
    "        return arr\n",
    "    elif arr[i] < arr[j]:\n",
    "        key = arr[i]\n",
    "        while(j>=0):\n",
    "            arr[j+1] = arr[j]\n",
    "            j = j-1\n",
    "        arr[j+1] = key\n",
    "    return(insertion_sort(arr,i+1))  \n",
    "\n",
    "insertion_sort([6,5,4,3,21,2])"
   ]
  }
 ],
 "metadata": {
  "kernelspec": {
   "display_name": "base",
   "language": "python",
   "name": "python3"
  },
  "language_info": {
   "codemirror_mode": {
    "name": "ipython",
    "version": 3
   },
   "file_extension": ".py",
   "mimetype": "text/x-python",
   "name": "python",
   "nbconvert_exporter": "python",
   "pygments_lexer": "ipython3",
   "version": "3.9.15"
  },
  "orig_nbformat": 4,
  "vscode": {
   "interpreter": {
    "hash": "757053eaf0655596af139d123df37fb4079df03a43161b6a79909863304398bf"
   }
  }
 },
 "nbformat": 4,
 "nbformat_minor": 2
}
