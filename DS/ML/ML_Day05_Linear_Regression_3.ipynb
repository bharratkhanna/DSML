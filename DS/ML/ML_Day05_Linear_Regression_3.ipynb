{
 "cells": [
  {
   "cell_type": "markdown",
   "id": "ef32bed8",
   "metadata": {},
   "source": [
    "# Linear Regression 3"
   ]
  },
  {
   "cell_type": "markdown",
   "id": "a815f32a",
   "metadata": {},
   "source": [
    "### Assumptions of Linear Regression:-"
   ]
  },
  {
   "cell_type": "markdown",
   "id": "96b35c62",
   "metadata": {},
   "source": [
    "- Dependent should be measured at **Continuous** level.\n",
    "- One or more independent variable - It can be any **Data Type**.\n",
    "- Linear realationships between dependent & **each** of independent variables.\n",
    "- There should not be significant **Outliers** in data.\n",
    "- There should not be prominent relationship between independent variables.\n",
    "\n",
    "\n",
    "- **Residuals(Errors) should be normally distributed [Visualize using histogram _(Model Error is called as Residuals)_ ]**\n",
    "- **Variance of errors should show homoscedasticity** should not be hetroscedadticity\n",
    "\n",
    "$*$ **Homoscedasticity** - Constant in Nature,There should be no significant pattern available in VOE \n",
    "\n",
    "$**$ **Hetroscedstacity** - Is not constant in nature\n",
    "\n",
    "> Fitted Values = Predicted Values, \n",
    "\n",
    "> SO if a scatter plot is drawn between **x=fitted values** and **y=residuals**, the value should come as constant."
   ]
  },
  {
   "cell_type": "markdown",
   "id": "e57948b8",
   "metadata": {},
   "source": [
    "### Regression model Evaluation:-"
   ]
  },
  {
   "cell_type": "markdown",
   "id": "f1abc933",
   "metadata": {},
   "source": [
    "#### RMSE - [Root Mean Squared Error]"
   ]
  },
  {
   "cell_type": "markdown",
   "id": "84a27a30",
   "metadata": {},
   "source": [
    "- Range is in [0 to $\\infty$], So it is Boundless Matrix, Hence we cannot evalutae\n",
    "- Lower the error better our Model"
   ]
  },
  {
   "cell_type": "markdown",
   "id": "8f2c2b80",
   "metadata": {},
   "source": [
    "#### MAPE - [Mean Absolute Percentage Error]             "
   ]
  },
  {
   "cell_type": "markdown",
   "id": "1246c496",
   "metadata": {},
   "source": [
    "- It should not be more than 10%, hence the model should be reevaluated\n",
    "- Lower the error better our Model"
   ]
  },
  {
   "cell_type": "markdown",
   "id": "2bdea90e",
   "metadata": {},
   "source": [
    "#### Difference between $R^2$  and RSME/MAPE\n",
    "\n",
    "- $R^2$ & Adjusted $R^2$ is on training data.\n",
    "- $R^2$ & Adjusted $R^2$ gives us initial model evaluation\n",
    "\n",
    "\n",
    "- **RMSE/MAPE** (Model evalutaion) is on test data.\n",
    "- **RMSE/MAPE** gives us final evaluation"
   ]
  },
  {
   "cell_type": "markdown",
   "id": "af012eac",
   "metadata": {},
   "source": [
    "### Loss Function:-\n",
    "\n",
    "- For each data point(row) calculating error is loss function: -\n",
    "### $$(y-\\hat y)^2$$\n",
    "$*$ Dont use Model error term here\n",
    "\n",
    "### Cost Function:-\n",
    "- Calculating sum of error for each dataset:-\n",
    "### $$\\sum {(y-\\hat y)^2}$$\n",
    "\n",
    "$*$ Dont use Model error term here"
   ]
  },
  {
   "cell_type": "markdown",
   "id": "80af0070",
   "metadata": {},
   "source": [
    "### OSEMN Framework:-\n",
    "\n",
    "- Obtain: Getting the data\n",
    "- Scrub: Data Cleaning/Wrangling\n",
    "- Explore: Insights on data\n",
    "- Model Development: Forcasting the data\n",
    "- N : Interpretation of data"
   ]
  },
  {
   "cell_type": "markdown",
   "id": "e01aabc4",
   "metadata": {},
   "source": [
    "### OLS: [Ordinary Least Square]:-\n",
    "- It is a method in a library"
   ]
  },
  {
   "cell_type": "markdown",
   "id": "e78f460b",
   "metadata": {},
   "source": [
    "#### BLUE\n",
    "\n",
    "- Best: Variance should be 0 around Mean (No dispersion) -> This means this should be constant\n",
    "- Linear: Should show Linear relationship         \n",
    "- Unbiased: Should not favour anyone\n",
    "- Estimator: Coeeficient should have a value"
   ]
  },
  {
   "cell_type": "markdown",
   "id": "bae41fa6",
   "metadata": {},
   "source": [
    "### Best Build Model:-\n",
    "\n",
    "- Raw Df:-\n",
    "    - Training (60% to 65%): Develop Model\n",
    "        - To evaluate use $R^2$ or Adjusted $R^2$\n",
    "    - Test (30% to 35%): Check Model\n",
    "        - To evaluate use RMSE/MAPE    \n"
   ]
  }
 ],
 "metadata": {
  "kernelspec": {
   "display_name": "Python 3.9.15 ('base')",
   "language": "python",
   "name": "python3"
  },
  "language_info": {
   "codemirror_mode": {
    "name": "ipython",
    "version": 3
   },
   "file_extension": ".py",
   "mimetype": "text/x-python",
   "name": "python",
   "nbconvert_exporter": "python",
   "pygments_lexer": "ipython3",
   "version": "3.9.15"
  },
  "varInspector": {
   "cols": {
    "lenName": 16,
    "lenType": 16,
    "lenVar": 40
   },
   "kernels_config": {
    "python": {
     "delete_cmd_postfix": "",
     "delete_cmd_prefix": "del ",
     "library": "var_list.py",
     "varRefreshCmd": "print(var_dic_list())"
    },
    "r": {
     "delete_cmd_postfix": ") ",
     "delete_cmd_prefix": "rm(",
     "library": "var_list.r",
     "varRefreshCmd": "cat(var_dic_list()) "
    }
   },
   "types_to_exclude": [
    "module",
    "function",
    "builtin_function_or_method",
    "instance",
    "_Feature"
   ],
   "window_display": false
  },
  "vscode": {
   "interpreter": {
    "hash": "757053eaf0655596af139d123df37fb4079df03a43161b6a79909863304398bf"
   }
  }
 },
 "nbformat": 4,
 "nbformat_minor": 5
}
