{
 "cells": [
  {
   "attachments": {},
   "cell_type": "markdown",
   "metadata": {},
   "source": [
    "<h1><center> Logistic Regression 1"
   ]
  },
  {
   "cell_type": "markdown",
   "metadata": {},
   "source": [
    "#### Stats Model\n",
    "- Linear Regression (Continuous Dependent Variable)\n",
    "- Logistic Regression (Categorical Dependent Variable)\n",
    "\n",
    "Interpretation is possible because stats model can give you summary"
   ]
  },
  {
   "attachments": {},
   "cell_type": "markdown",
   "metadata": {},
   "source": [
    "#### Linear Rgression:-\n",
    "\n",
    "$$ \\hat y = \\beta_o + \\beta_1 x_1$$\n",
    "Range of $ \\hat y $ is [$ - \\infty , \\infty $] & range of $ x $ is [$ - \\infty , \\infty $]"
   ]
  },
  {
   "attachments": {},
   "cell_type": "markdown",
   "metadata": {},
   "source": [
    "#### Logistic Regression\n",
    "\n",
    "##### Initial Problem:-\n",
    "$$ \\hat y = \\beta_o + \\beta_1 x_1$$\n",
    "Range of $ \\hat y $ is [$ 0 , 1 $] because answer comes in probability & range of $ x $ is [$ - \\infty , \\infty $]\n",
    "\n",
    "- To solve this we need to change $ \\hat y $ range to [$ - \\infty , \\infty $]\n",
    "    - First Modification (we can change $ \\hat y $ as $ P $):\n",
    "    $$ P = \\beta_o + \\beta_1 x_1 $$\n",
    "    - Second Modification:- Change its range to [$ 0 , \\infty $] (If P is 1, value is infinity)\n",
    "    $$ \\frac{P}{1-P} = \\beta_o + \\beta_1 x_1 $$ \n",
    "    - Third Modification:- Change its range to [$ - \\infty , \\infty $] (if ln x where x lower than 1, value trends towards -ve Infinity)\n",
    "    $$ \\log_e {\\frac{P}{1-P}} = \\beta_o + \\beta_1 x_1 $$\n",
    "    - Fourth Modification:- Solve it to remove log, and find equation for solving P:-\n",
    "    $$ \\frac{P}{1-P} = e^{\\beta_o + \\beta_1 x_1}  $$\n",
    "    $$ P = (1-P)e^{\\beta_o + \\beta_1 x_1} $$\n",
    "    $$ P = e^{\\beta_o + \\beta_1 x_1} - P \\times e^{\\beta_o + \\beta_1 x_1} $$\n",
    "    $$ P + P e^{\\beta_o + \\beta_1 x_1} = e^{\\beta_o + \\beta_1 x_1} $$\n",
    "    $$ P(1 + e^{\\beta_o + \\beta_1 x_1}) = e^{\\beta_o + \\beta_1 x_1} $$\n",
    "    $$ P = \\frac{e^{\\beta_o + \\beta_1 x_1}}{1 + e^{\\beta_o + \\beta_1 x_1}} $$\n",
    "### $$ P = \\frac{e^{x}}{1 + e^{x}} $$\n",
    "\n",
    "- We get Pvalues when we apply Logistic Regression\n",
    "- Class is a conversion of Pvalues to a Categorical Value\n",
    "\n",
    "##### Binary Classification\n",
    "- When there are two sub categorories in a dependent feature\n",
    "\n",
    "##### Multiclass Classifiacation\n",
    "- When there are two or more sub categories in a dependent feature\n",
    "\n",
    "##### Odds\n",
    "$$ \\frac{P}{1-P} $$\n",
    "- They are ratio of P of finding something upon P of not finding something\n",
    "  \n",
    "$ * $ Logistic Regression also called Sigmoid because when plotted on graph, it appears like a S shape"
   ]
  }
 ],
 "metadata": {
  "kernelspec": {
   "display_name": "base",
   "language": "python",
   "name": "python3"
  },
  "language_info": {
   "codemirror_mode": {
    "name": "ipython",
    "version": 3
   },
   "file_extension": ".py",
   "mimetype": "text/x-python",
   "name": "python",
   "nbconvert_exporter": "python",
   "pygments_lexer": "ipython3",
   "version": "3.9.15 | packaged by conda-forge | (main, Nov 22 2022, 08:50:29) \n[Clang 14.0.6 ]"
  },
  "orig_nbformat": 4,
  "vscode": {
   "interpreter": {
    "hash": "757053eaf0655596af139d123df37fb4079df03a43161b6a79909863304398bf"
   }
  }
 },
 "nbformat": 4,
 "nbformat_minor": 2
}
