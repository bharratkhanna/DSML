{
 "cells": [
  {
   "cell_type": "markdown",
   "metadata": {},
   "source": [
    "<h1><center> Logistic Regression"
   ]
  },
  {
   "attachments": {},
   "cell_type": "markdown",
   "metadata": {},
   "source": [
    "#### Probability Threshold\n",
    "- The probability threshold is the value that is used to determine whether an observation should be classified as one class or another.\n",
    "- Probability threshold, if changed can affect the whole evaluation process, To overcome this\n"
   ]
  },
  {
   "attachments": {},
   "cell_type": "markdown",
   "metadata": {},
   "source": [
    "\n",
    "        Predicted\n",
    "||0|1|\n",
    "|---|---|---|\n",
    "|0|TN|FP|\n",
    "|1|FN|TP|\n",
    "\n",
    "#### True Positive Rate\n",
    "$$ \\frac{TP}{TP+FN} $$\n",
    "\n",
    "#### False Positive Rate\n",
    "$$  $$\n",
    "$$ \\frac{FP}{FP+TN} $$"
   ]
  },
  {
   "attachments": {},
   "cell_type": "markdown",
   "metadata": {},
   "source": [
    "#### Reciever Operating Charecterstics/ Area Under Curve\n",
    "- When TPR is plotted on y axis\n",
    "- When FPR is plotted on x axis\n",
    "- Area formed under this curve will give model evaluation irrespective of Probability Threshold"
   ]
  },
  {
   "cell_type": "markdown",
   "metadata": {},
   "source": []
  }
 ],
 "metadata": {
  "kernelspec": {
   "display_name": "base",
   "language": "python",
   "name": "python3"
  },
  "language_info": {
   "name": "python",
   "version": "3.9.15 | packaged by conda-forge | (main, Nov 22 2022, 08:50:29) \n[Clang 14.0.6 ]"
  },
  "orig_nbformat": 4,
  "vscode": {
   "interpreter": {
    "hash": "757053eaf0655596af139d123df37fb4079df03a43161b6a79909863304398bf"
   }
  }
 },
 "nbformat": 4,
 "nbformat_minor": 2
}
