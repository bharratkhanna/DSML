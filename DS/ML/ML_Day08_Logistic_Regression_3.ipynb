{
 "cells": [
  {
   "cell_type": "markdown",
   "metadata": {},
   "source": [
    "<h1><center> Logistic Regression"
   ]
  },
  {
   "attachments": {},
   "cell_type": "markdown",
   "metadata": {},
   "source": [
    "#### Probability Threshold\n",
    "- The probability threshold is the value that is used to determine whether an observation should be classified as one class or another.\n",
    "- Probability threshold, if changed can affect the whole evaluation process, To overcome this\n"
   ]
  },
  {
   "attachments": {},
   "cell_type": "markdown",
   "metadata": {},
   "source": [
    "\n",
    "        Predicted\n",
    "||0|1|\n",
    "|---|---|---|\n",
    "|0|TN|FP|\n",
    "|1|FN|TP|\n",
    "\n",
    "#### True Positive Rate\n",
    "$$ \\frac{TP}{TP+FN} $$\n",
    "\n",
    "#### False Positive Rate\n",
    "$$  $$\n",
    "$$ \\frac{FP}{FP+TN} $$"
   ]
  },
  {
   "attachments": {},
   "cell_type": "markdown",
   "metadata": {},
   "source": [
    "#### Reciever Operating Charecterstics/ Area Under Curve\n",
    "- When TPR is plotted on y axis\n",
    "- When FPR is plotted on x axis\n",
    "- Area formed under this curve will give model evaluation irrespective of Probability Threshold"
   ]
  },
  {
   "attachments": {},
   "cell_type": "markdown",
   "metadata": {},
   "source": [
    "#### Log Loss Function (Discard this, info might repeat soon)\n",
    "\n",
    "- $ y $ is actual value \n",
    "- $ P(y) $ is predicted value\n",
    "\n",
    "$$ \\sum {y \\log_e{P(y) + (1-y)\\log_e{(1-P(y))}}} $$\n",
    "\n",
    "- It is used to evaluate models perfomance\n",
    "- Large Loss Function indicates model inaccuracy\n",
    "- Small Loss Function indicates model accuracy"
   ]
  }
 ],
 "metadata": {
  "kernelspec": {
   "display_name": "base",
   "language": "python",
   "name": "python3"
  },
  "language_info": {
   "name": "python",
   "version": "3.9.15 | packaged by conda-forge | (main, Nov 22 2022, 08:50:29) \n[Clang 14.0.6 ]"
  },
  "orig_nbformat": 4,
  "vscode": {
   "interpreter": {
    "hash": "757053eaf0655596af139d123df37fb4079df03a43161b6a79909863304398bf"
   }
  }
 },
 "nbformat": 4,
 "nbformat_minor": 2
}
