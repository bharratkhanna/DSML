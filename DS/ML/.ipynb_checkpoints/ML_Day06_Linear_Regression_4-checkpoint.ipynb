{
 "cells": [
  {
   "cell_type": "markdown",
   "id": "7c341732",
   "metadata": {},
   "source": [
    "# Linear Regression 4\n"
   ]
  },
  {
   "cell_type": "code",
   "execution_count": 3,
   "id": "4c9a6416",
   "metadata": {},
   "outputs": [],
   "source": [
    "# Import specific libraries\n",
    "\n",
    "import os\n",
    "import pandas as pd\n",
    "import numpy as np\n",
    "import seaborn as sns\n"
   ]
  },
  {
   "cell_type": "code",
   "execution_count": 4,
   "id": "44829cd6",
   "metadata": {},
   "outputs": [],
   "source": [
    "# Increase the print output\n",
    "\n",
    "pd.set_option('display.max_rows', 500)\n",
    "pd.set_option('display.max_columns', 500)\n",
    "pd.set_option('display.width', 10000)\n",
    "\n",
    "# Set working Directory\n",
    "\n",
    "\n",
    "# Import dataset \n",
    "\n",
    "rawDf = pd.read_csv(\"property_case/PropertyPrice_Data.csv\")\n",
    "predictionDf = pd.read_csv(\"property_case/PropertyPrice_Prediction.csv\")\n",
    "\n",
    "# Analyze Data\n",
    "\n",
    "rawDf.shape\n",
    "predictionDf.shape\n",
    "\n",
    "# Train/Test divide\n",
    "\n",
    "from sklearn.model_selection import train_test_split\n",
    "\n",
    " \n",
    "# Splitted Randomlly: \n",
    "#     - To control randomness, so that your model when broken in test,split \n",
    "#     doesn't break on re run with different accuracy, we use random_state\n",
    "#     - Give any value to random_state it does not effect on the basis low or \n",
    "#     high value\n",
    "\n",
    "\n",
    "trainDf, testDf = train_test_split(rawDf, train_size=0.8, random_state=150)\n",
    "\n",
    "\n",
    "trainDf[\"Source\"] =  \"Train\"\n",
    "testDf[\"Source\"] =  \"Train\"\n",
    "predictionDf[\"Source\"] =  \"Train\"\n",
    "\n",
    "\n",
    "\n",
    "fullRaw = pd.concat([trainDf, testDf, predictionDf], axis=0)\n",
    "fullRaw.shape\n",
    "fullRaw.drop(\"Id\", axis=1, inplace=True)"
   ]
  },
  {
   "cell_type": "code",
   "execution_count": 7,
   "id": "67eedfe3",
   "metadata": {},
   "outputs": [
    {
     "data": {
      "text/plain": [
       "56       Attchd\n",
       "392      Attchd\n",
       "176      Attchd\n",
       "342      Detchd\n",
       "446      Attchd\n",
       "         ...   \n",
       "1454        NaN\n",
       "1455    CarPort\n",
       "1456     Detchd\n",
       "1457        NaN\n",
       "1458     Attchd\n",
       "Name: Garage, Length: 2918, dtype: object"
      ]
     },
     "execution_count": 7,
     "metadata": {},
     "output_type": "execute_result"
    }
   ],
   "source": [
    "fullRaw[\"Garage\"][fullRaw[\"Source\"]==\"Train\"]"
   ]
  },
  {
   "cell_type": "code",
   "execution_count": 12,
   "id": "763baf59",
   "metadata": {},
   "outputs": [
    {
     "data": {
      "text/plain": [
       "56       Attchd\n",
       "392      Attchd\n",
       "176      Attchd\n",
       "342      Detchd\n",
       "446      Attchd\n",
       "         ...   \n",
       "1454        NaN\n",
       "1455    CarPort\n",
       "1456     Detchd\n",
       "1457        NaN\n",
       "1458     Attchd\n",
       "Name: Garage, Length: 2918, dtype: object"
      ]
     },
     "execution_count": 12,
     "metadata": {},
     "output_type": "execute_result"
    }
   ],
   "source": [
    "fullRaw.loc[fullRaw[\"Source\"]==\"Train\",\"Garage\"]"
   ]
  },
  {
   "cell_type": "code",
   "execution_count": null,
   "id": "64dd3d9d",
   "metadata": {},
   "outputs": [],
   "source": []
  }
 ],
 "metadata": {
  "kernelspec": {
   "display_name": "Python 3 (ipykernel)",
   "language": "python",
   "name": "python3"
  },
  "language_info": {
   "codemirror_mode": {
    "name": "ipython",
    "version": 3
   },
   "file_extension": ".py",
   "mimetype": "text/x-python",
   "name": "python",
   "nbconvert_exporter": "python",
   "pygments_lexer": "ipython3",
   "version": "3.9.12"
  },
  "varInspector": {
   "cols": {
    "lenName": 16,
    "lenType": 16,
    "lenVar": 40
   },
   "kernels_config": {
    "python": {
     "delete_cmd_postfix": "",
     "delete_cmd_prefix": "del ",
     "library": "var_list.py",
     "varRefreshCmd": "print(var_dic_list())"
    },
    "r": {
     "delete_cmd_postfix": ") ",
     "delete_cmd_prefix": "rm(",
     "library": "var_list.r",
     "varRefreshCmd": "cat(var_dic_list()) "
    }
   },
   "types_to_exclude": [
    "module",
    "function",
    "builtin_function_or_method",
    "instance",
    "_Feature"
   ],
   "window_display": false
  }
 },
 "nbformat": 4,
 "nbformat_minor": 5
}
