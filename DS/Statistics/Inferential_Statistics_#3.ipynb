{
 "cells": [
  {
   "cell_type": "markdown",
   "id": "070bc7a4",
   "metadata": {},
   "source": [
    "<h1><center> Inferential Statistics #3"
   ]
  },
  {
   "cell_type": "markdown",
   "id": "e6540d3a",
   "metadata": {},
   "source": [
    "### Confidence Interval for 2 Populations:"
   ]
  },
  {
   "cell_type": "markdown",
   "id": "21e51ce2",
   "metadata": {},
   "source": [
    "#### Dependent Sample:-\n",
    "- Samples that have relation to each other"
   ]
  },
  {
   "cell_type": "markdown",
   "id": "37b90516",
   "metadata": {},
   "source": [
    "#### Independent Samples:-\n",
    "- Samples which have no relation to each other"
   ]
  },
  {
   "cell_type": "markdown",
   "id": "3ee6dca8",
   "metadata": {},
   "source": [
    "#### Testing Approaches:\n",
    "- CI for dependent samples\n",
    "- Sttatistical approaches like regression"
   ]
  },
  {
   "cell_type": "markdown",
   "id": "a6cb5b53",
   "metadata": {},
   "source": [
    "#### Testing ways:-\n",
    "\n",
    "|Dependent|Independent|\n",
    "|---------|-----------|\n",
    "|Before and after situation| Population variance known|\n",
    "|cause and effect|Population variance unknown but assumed to be equal.|\n",
    "| |Population variance unknown but assumed to be different|"
   ]
  },
  {
   "cell_type": "markdown",
   "id": "861aca27",
   "metadata": {},
   "source": [
    "#### Dependent Samples\n",
    "\n",
    "- For eg testing magnesium level on a volunteer before and after medicine, hence this is Dependent Sample because samples have a relation(Same person)\n",
    "- In Biology, Normality is so oftenly assumed that we assume that such variables are normally distributed.\n",
    "- Students - $t$ distribution is used here\n",
    "- if there are 2 samples and it is dependent we take these variable **Difference**\n",
    "\n",
    "$\\bar d$ = Difference of x & y Mean\n",
    "\n",
    "$s_d$ = STD of $x$ & $y$ difference\n",
    "\n",
    "\n"
   ]
  },
  {
   "cell_type": "markdown",
   "id": "49f297e0",
   "metadata": {},
   "source": [
    "# $$CI = \\bar d \\pm t_{n-1,\\frac{\\alpha}{2}}\\frac{s_d}{\\sqrt n}$$"
   ]
  },
  {
   "cell_type": "code",
   "execution_count": 6,
   "id": "1b4b7262",
   "metadata": {},
   "outputs": [],
   "source": [
    "import math as m\n",
    "import numpy as np\n",
    "import pandas as pd\n",
    "import seaborn as sns  \n",
    "import matplotlib.pyplot as plt"
   ]
  },
  {
   "cell_type": "code",
   "execution_count": 19,
   "id": "8ac9564e",
   "metadata": {},
   "outputs": [
    {
     "data": {
      "text/html": [
       "<div>\n",
       "<style scoped>\n",
       "    .dataframe tbody tr th:only-of-type {\n",
       "        vertical-align: middle;\n",
       "    }\n",
       "\n",
       "    .dataframe tbody tr th {\n",
       "        vertical-align: top;\n",
       "    }\n",
       "\n",
       "    .dataframe thead th {\n",
       "        text-align: right;\n",
       "    }\n",
       "</style>\n",
       "<table border=\"1\" class=\"dataframe\">\n",
       "  <thead>\n",
       "    <tr style=\"text-align: right;\">\n",
       "      <th></th>\n",
       "      <th>Patient</th>\n",
       "      <th>Before</th>\n",
       "      <th>After</th>\n",
       "      <th>Difference</th>\n",
       "    </tr>\n",
       "  </thead>\n",
       "  <tbody>\n",
       "    <tr>\n",
       "      <th>0</th>\n",
       "      <td>1.0</td>\n",
       "      <td>2.0</td>\n",
       "      <td>1.7</td>\n",
       "      <td>-0.3</td>\n",
       "    </tr>\n",
       "    <tr>\n",
       "      <th>1</th>\n",
       "      <td>2.0</td>\n",
       "      <td>1.4</td>\n",
       "      <td>1.7</td>\n",
       "      <td>0.3</td>\n",
       "    </tr>\n",
       "    <tr>\n",
       "      <th>2</th>\n",
       "      <td>3.0</td>\n",
       "      <td>1.3</td>\n",
       "      <td>1.8</td>\n",
       "      <td>0.5</td>\n",
       "    </tr>\n",
       "    <tr>\n",
       "      <th>3</th>\n",
       "      <td>4.0</td>\n",
       "      <td>1.1</td>\n",
       "      <td>1.3</td>\n",
       "      <td>0.2</td>\n",
       "    </tr>\n",
       "    <tr>\n",
       "      <th>4</th>\n",
       "      <td>5.0</td>\n",
       "      <td>1.8</td>\n",
       "      <td>1.7</td>\n",
       "      <td>-0.1</td>\n",
       "    </tr>\n",
       "    <tr>\n",
       "      <th>5</th>\n",
       "      <td>6.0</td>\n",
       "      <td>1.6</td>\n",
       "      <td>1.5</td>\n",
       "      <td>-0.1</td>\n",
       "    </tr>\n",
       "    <tr>\n",
       "      <th>6</th>\n",
       "      <td>7.0</td>\n",
       "      <td>1.5</td>\n",
       "      <td>1.6</td>\n",
       "      <td>0.1</td>\n",
       "    </tr>\n",
       "    <tr>\n",
       "      <th>7</th>\n",
       "      <td>8.0</td>\n",
       "      <td>0.7</td>\n",
       "      <td>1.7</td>\n",
       "      <td>1.0</td>\n",
       "    </tr>\n",
       "    <tr>\n",
       "      <th>8</th>\n",
       "      <td>9.0</td>\n",
       "      <td>0.9</td>\n",
       "      <td>1.7</td>\n",
       "      <td>0.8</td>\n",
       "    </tr>\n",
       "    <tr>\n",
       "      <th>9</th>\n",
       "      <td>10.0</td>\n",
       "      <td>1.5</td>\n",
       "      <td>2.4</td>\n",
       "      <td>0.9</td>\n",
       "    </tr>\n",
       "  </tbody>\n",
       "</table>\n",
       "</div>"
      ],
      "text/plain": [
       "   Patient  Before  After  Difference\n",
       "0      1.0     2.0    1.7        -0.3\n",
       "1      2.0     1.4    1.7         0.3\n",
       "2      3.0     1.3    1.8         0.5\n",
       "3      4.0     1.1    1.3         0.2\n",
       "4      5.0     1.8    1.7        -0.1\n",
       "5      6.0     1.6    1.5        -0.1\n",
       "6      7.0     1.5    1.6         0.1\n",
       "7      8.0     0.7    1.7         1.0\n",
       "8      9.0     0.9    1.7         0.8\n",
       "9     10.0     1.5    2.4         0.9"
      ]
     },
     "execution_count": 19,
     "metadata": {},
     "output_type": "execute_result"
    }
   ],
   "source": [
    "# Magnesium example\n",
    "\n",
    "patient = np.linspace(1,10,10)\n",
    "before = [2,1.4,1.3,1.1,1.8,1.6,1.5,0.7,0.9,1.5]\n",
    "after = [1.7,1.7,1.8,1.3,1.7,1.5,1.6,1.7,1.7,2.4]\n",
    "\n",
    "df = pd.DataFrame({\n",
    "    \"Patient\": patient,\n",
    "    \"Before\" : before,\n",
    "    \"After\" : after\n",
    "})\n",
    "\n",
    "df[\"Difference\"] =  round(df[\"After\"] - df[\"Before\"],2)\n",
    "\n",
    "df"
   ]
  },
  {
   "cell_type": "code",
   "execution_count": 20,
   "id": "af706e3b",
   "metadata": {},
   "outputs": [
    {
     "data": {
      "text/plain": [
       "(0.33, 0.45472824607426554)"
      ]
     },
     "execution_count": 20,
     "metadata": {},
     "output_type": "execute_result"
    }
   ],
   "source": [
    "mean = df[\"Difference\"].mean()\n",
    "std = df[\"Difference\"].std()\n",
    "mean,std"
   ]
  },
  {
   "cell_type": "markdown",
   "id": "67b0657f",
   "metadata": {},
   "source": [
    "#### CI for Independent Samples, variance Known"
   ]
  },
  {
   "cell_type": "markdown",
   "id": "d53e8036",
   "metadata": {},
   "source": [
    "$*$_Not important_\n",
    "# $$CI = (\\bar x- \\bar y) \\pm z_{\\frac{\\alpha}{2}}\\sqrt{\\frac{\\sigma_x^2}{n_x}+\\frac{\\sigma_x^2}{n_y}}$$"
   ]
  },
  {
   "cell_type": "markdown",
   "id": "9c0ead06",
   "metadata": {},
   "source": [
    "#### CI for Independent Samples, variance unknown but assumed to be equal"
   ]
  },
  {
   "cell_type": "markdown",
   "id": "89ccc126",
   "metadata": {},
   "source": [
    "$*$_Not important_\n",
    "\n",
    "### $$s^2_p = \\frac{(n_x-1)s^2_x + (n_y -1)s_y^2}{n_x+n_y-2}$$\n",
    "# $$CI = (\\bar x-\\bar y) \\pm t_{n_x+n_y -2, \\frac{\\alpha}{2}}\\sqrt{\\frac{s^2_p}{n_x} + \\frac{s^2_p}{n_y}}$$"
   ]
  },
  {
   "cell_type": "markdown",
   "id": "8dfbcc0a",
   "metadata": {},
   "source": [
    "#### CI for Independent Samples, variance unknown but assumed to be unequal"
   ]
  },
  {
   "cell_type": "markdown",
   "id": "c4a528b3",
   "metadata": {},
   "source": [
    "$*$_Not important_. Literally NOT IMPORTANT\n",
    "\n",
    "# $$CI = (\\bar x-\\bar y) \\pm t_{v, \\frac{\\alpha}{2}}\\sqrt{\\frac{s^2_x}{n_x} + \\frac{s^2_y}{n_y}}$$"
   ]
  }
 ],
 "metadata": {
  "kernelspec": {
   "display_name": "Python 3 (ipykernel)",
   "language": "python",
   "name": "python3"
  },
  "language_info": {
   "codemirror_mode": {
    "name": "ipython",
    "version": 3
   },
   "file_extension": ".py",
   "mimetype": "text/x-python",
   "name": "python",
   "nbconvert_exporter": "python",
   "pygments_lexer": "ipython3",
   "version": "3.9.13"
  }
 },
 "nbformat": 4,
 "nbformat_minor": 5
}
