{
 "cells": [
  {
   "cell_type": "markdown",
   "id": "d99607a3-f8b7-4300-a424-f8292d7deb42",
   "metadata": {},
   "source": [
    "<h1> <center> Hypothesis Testing"
   ]
  },
  {
   "attachments": {},
   "cell_type": "markdown",
   "id": "b2fc0394-0f23-4898-9304-f9cb7c1ed566",
   "metadata": {},
   "source": [
    "#### 4 types of data driven decision making:\n",
    "\n",
    "- Formulate the hypothesis\n",
    "- Find the right test\n",
    "- Execute the Test\n",
    "- Make a decision\n",
    "\n",
    "### Hypothesis\n",
    "- A hypothesis is an idea that can be tested\n",
    "- It is statement that yet needs to proove its identity\n",
    "\n",
    "#### Two Tyoes of Hypothesis are made:\n",
    "- **Null Hypothesis**: $ H_o $ Statement which claim it is True\n",
    "- **Alternate Hypothesis**: $ H_A $ Alternate statement put to diaproove Null Hyypothesis\n",
    "\n",
    "$ * $ Failed to Reject the Null Hypothesis\n",
    "\n",
    "$ * $ Rejct the Null Hypothesis\n",
    "\n",
    "_The main concept is Innocent until prooven guilty_\n",
    "\n",
    "- **Two Sided Test**: When alternate hypothesis can lie on both side of the Hyypothesis\n",
    "    - For eg $ H_o $ claims $ \\bar x = 100,000 $ So $ H_A $ can be $ 100,000<\\bar x <100,000$\n",
    "\n",
    "- **One sided Test**: When alternate hypothesis can lie on only one side of the Hypothesis\n",
    "    - For eg $ H_o $ claims $ \\bar x >= 100,000 $ So $ H_A $ can be $ \\bar x < 100,000$\n",
    "    \n",
    "    \n",
    "###### Outcomes of test refer to population parameter rather than sample statistic.\n",
    "\n",
    "In statistics, The null hyypothesis is the statement we are trying to reject. Therefore the null is the present state of affairs while the lternate is our present opinion\n",
    "\n",
    "#### $\\alpha$ Significance Level:\n",
    "- $ \\alpha $ Probability of rejecting a null hypothesis\n",
    "    - Preferred Significance level is $ \\alpha = 0.05 $\n",
    "        - if Significance Level greater than 0.05 we **Reject the Null Hypothesis**\n",
    "\n",
    "### Testing\n",
    "\n",
    "#### $Z$ - Test\n",
    "- when n > 30\n",
    "- Check z-score of $ \\alpha = 0.05$ for one sided and $\\alpha = 0.025 $ for two sided test from Table\n",
    "- If Z greater than z score of absolute $ \\alpha $, we Reject the Null Hypothesis\n",
    "## $$ Z = \\frac{\\bar x - \\mu}{\\frac{s}{\\sqrt n}} $$\n",
    "\n",
    "#### $T$ - Test\n",
    "- when n < 30\n",
    "- Check t-score of $ \\alpha = 0.05$ for one sided and $\\alpha = 0.025 $ for two sided test from Table\n",
    "- If T greater than t score of absolute $ \\alpha $, we Reject the Null Hypothesis\n",
    "## $$ T = \\frac{\\bar x - \\mu}{\\frac{s}{\\sqrt n}} $$\n",
    "\n",
    "#### $p$ - value\n",
    "\n",
    "- For two sided $ p = 2 \\times p $\n",
    "- We take absolte value of z/t in the statistical process.\n",
    "- Calculate the z-score/t-score of Z-Statistic/T-Statistic\n",
    "- If $ \\boldsymbol{p < 0.05} $ we **Reject the Null Hypothesis**\n",
    "## $$ p = 1 - z/t $$\n",
    "\n",
    "$ * $ For calculation of p it is z or t not z divide by t"
   ]
  }
 ],
 "metadata": {
  "kernelspec": {
   "display_name": "Python 3.9.13 ('base')",
   "language": "python",
   "name": "python3"
  },
  "language_info": {
   "codemirror_mode": {
    "name": "ipython",
    "version": 3
   },
   "file_extension": ".py",
   "mimetype": "text/x-python",
   "name": "python",
   "nbconvert_exporter": "python",
   "pygments_lexer": "ipython3",
   "version": "3.9.13"
  },
  "vscode": {
   "interpreter": {
    "hash": "ff4f85d6e04298634172ac5d8264e7e9b556b95639fe52ebb9425c4d4cba0c9c"
   }
  }
 },
 "nbformat": 4,
 "nbformat_minor": 5
}
