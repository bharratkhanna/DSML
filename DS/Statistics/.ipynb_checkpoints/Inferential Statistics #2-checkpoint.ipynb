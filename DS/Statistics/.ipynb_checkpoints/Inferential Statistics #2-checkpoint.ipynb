{
 "cells": [
  {
   "cell_type": "markdown",
   "id": "05cd16eb",
   "metadata": {},
   "source": [
    "<h1><center> Inferential Statistics #2"
   ]
  },
  {
   "cell_type": "markdown",
   "id": "ef9713c3",
   "metadata": {},
   "source": [
    "### Estimate"
   ]
  },
  {
   "cell_type": "markdown",
   "id": "5225ff36",
   "metadata": {},
   "source": [
    "- A specific value is called as **Estimate**\n",
    "    - **Point Estimate**: Is a single Numbers\n",
    "    - **Confidence Interval Estimate**: Naturally is a estimate\n",
    "        - Point Estimate is located in the **middle** of Confidence Intervals"
   ]
  },
  {
   "cell_type": "markdown",
   "id": "7d6cb01c",
   "metadata": {},
   "source": [
    "| Estimator | Parameter | Estimate |\n",
    "|---|---|---|\n",
    "|$\\bar x$ | $\\mu$ |52.22 |\n",
    "|$s^2$ | $\\sigma^2$ |1724.93 |\n",
    "\n",
    "**Estimator**: How to estimate\n",
    "\n",
    "**Parameter**: What to estimate\n",
    "\n",
    "**Estimate**: Concrete Result"
   ]
  },
  {
   "cell_type": "markdown",
   "id": "a8451bad",
   "metadata": {},
   "source": [
    "#### Unbiased Estimator:-\n",
    "\n",
    "- Expected value = Population parameter\n",
    "- Eg $\\bar x$ has an expected value of $\\mu$\n",
    "\n",
    "#### Biased E- Bias of above is stimator:-\n",
    "- Eg $\\bar x$ + 1 FT has an expected value of $\\mu$\n",
    "- Bias of above eg is 1 Ft"
   ]
  },
  {
   "cell_type": "markdown",
   "id": "49b44efc",
   "metadata": {},
   "source": [
    "**Efficiency**: The most efficient estimator is the unbiased estimator with smallest variance"
   ]
  },
  {
   "cell_type": "markdown",
   "id": "b2e871eb",
   "metadata": {},
   "source": [
    "#### Difference between Estimator & Statistics:-\n",
    "| Statistics | Estimators|\n",
    "|---|---|\n",
    "| Broader Term| A type of Statistic |"
   ]
  },
  {
   "cell_type": "markdown",
   "id": "840083e5",
   "metadata": {},
   "source": [
    "### Confidence Intervals"
   ]
  },
  {
   "cell_type": "markdown",
   "id": "2da2e9e0",
   "metadata": {},
   "source": [
    "- Point estimate not reliable since avg cost of restaurant as an interval [200-300] Rs is better than average price 250 Rs\n",
    "- Confidence can be expressed in perecentage (Generally around 95%)\n",
    "- Hence there is 5% chance of price outside the interval\n",
    "\n",
    "#### Confidence Level:-\n",
    "- Confidence Level of Interval:- \n",
    "### $$1 - \\alpha$$\n",
    "- $0\\leq\\alpha\\leq1$\n",
    "- So if you are confident that avg restraunt price is 95% inside the interval, that means $\\alpha = 5\\%$"
   ]
  },
  {
   "cell_type": "markdown",
   "id": "df1999c2",
   "metadata": {},
   "source": [
    "<center><u>Confidence Interval</u> =\n",
    "    \n",
    "#### [Point Estimate - Reliablity Factor * Standard Error, Point Estimate + Reliablity Factor * Standard Error]"
   ]
  },
  {
   "cell_type": "markdown",
   "id": "36fe594d",
   "metadata": {},
   "source": [
    "### Calculation Methods:- \n",
    "\n",
    "#### $Z$-Statistic:\n",
    "- It is related to Normal Distribution \n",
    "- Population Variance is Known\n",
    "- Works with larger sample sizes where $n > 30$\n",
    "- $z$ values are calculated using $z$ table\n",
    "\n",
    "#### Population Variance Know:\n",
    "\n",
    "Point Estimate = $\\bar x$\n",
    "\n",
    "Standard Error = $\\frac{\\sigma}{\\sqrt n}$\n",
    "\n",
    "Reliability factor =  $z_{\\frac{\\alpha}{2}}$, For Calculation = $z_{1-\\frac{\\alpha}{2}}$\n",
    "\n",
    "Confidence Level =  $ 1-\\alpha$\n",
    "\n",
    "Error Percentage =  $\\alpha$\n",
    "#### Confidence Interval:-\n",
    "# $$\\text{CI} = \\left[\\bar x - z_{1-\\frac{\\alpha}{2}} \\frac{\\sigma}{\\sqrt{n}} , \\bar x + z_{1-\\frac{\\alpha}{2}} \\frac{\\sigma}{\\sqrt{n}}\\right] $$\n",
    "\n",
    "_$**$ Formula for Calculation purpose only, **not accurate** representation_"
   ]
  },
  {
   "cell_type": "markdown",
   "id": "ecaf8016",
   "metadata": {},
   "source": [
    "so for 95% Confidence level, $\\alpha=0.05$\n",
    "\n",
    "so $z =  z_{1 - \\frac{0.05}{2}} = z_{1-0.025} = z_{0.0975}$\n",
    "\n",
    "**Note : We denote reliabilty factor as $z_{\\frac{\\alpha}{2}}$, this simplication is for calculation purpose only, because for $z_{0.025}$ we have to look value for $0.975$ in $z$ table.**"
   ]
  },
  {
   "cell_type": "markdown",
   "id": "417caa9e",
   "metadata": {},
   "source": [
    "- When **Confidence Level** is lower our **Confidence Interval** is also smaller\n",
    "- Longer intervels renders the Confidence purpose useless."
   ]
  },
  {
   "cell_type": "markdown",
   "id": "92f10f8f",
   "metadata": {},
   "source": [
    "\n",
    "#### Student's-$t$ Distribution/ $t$-Statistic:\n",
    "- Inference(Conclusion) through small samples\n",
    "- Works without `Population Variance\n",
    "- Looks like Normal Distribution but has fatter tails.\n",
    "- Degree of freedom = $n-1$\n",
    "- after 30 Degree of freedom table becomes similar to $z$ table \n",
    "- $t$ values are calculated using $t$ table\n",
    "\n",
    "### $$t_{n-1,\\alpha} = \\frac{\\bar x - \\mu}{s/{\\sqrt n}}$$\n",
    "\n",
    "#### Population Variance Unknown:\n",
    "\n",
    "Point Estimate = $\\bar x$\n",
    "\n",
    "Standard Error = $\\frac{\\sigma}{\\sqrt n}$\n",
    "\n",
    "Reliability factor =  $t_{n-1,\\frac{\\alpha}{2}}$\n",
    "\n",
    "Error Percentage =  $\\alpha$\n",
    "\n",
    "#### Confidence Interval:\n",
    "# $$ \\text{CI} = \\left[ \\bar x - t_{n-1,\\frac{\\alpha}{2}}\\frac{s}{\\sqrt n},\\bar x + t_{n-1,\\frac{\\alpha}{2}}\\frac{s}{\\sqrt n} \\right]$$"
   ]
  },
  {
   "cell_type": "markdown",
   "id": "75f9b0d1",
   "metadata": {},
   "source": [
    "### Margin of Error"
   ]
  },
  {
   "cell_type": "markdown",
   "id": "031aa1af",
   "metadata": {},
   "source": [
    "#### When Population Variance is unknown \n",
    "## $$ ME = \\left[t_{n-1,\\frac{\\alpha}{2}}\\frac{s}{\\sqrt n} \\right] $$\n",
    "#### When Population Variance is known:\n",
    "\n",
    "## $$ ME = \\left[z_{1-\\frac{\\alpha}{2}} \\frac{\\sigma}{\\sqrt{n}}\\right]$$"
   ]
  },
  {
   "cell_type": "markdown",
   "id": "bf20c3cd",
   "metadata": {},
   "source": [
    "## $$ \\text {CI} = \\bar x \\pm ME$$"
   ]
  },
  {
   "cell_type": "markdown",
   "id": "1f4c75a5",
   "metadata": {},
   "source": [
    "- Smaller ME means Narrower Confidence Interval, Lrger means Wider\n",
    "- Smaller $z$ Statistic/ $t$-Statistic and $\\sigma$/$s$ will reduce margin of Error"
   ]
  }
 ],
 "metadata": {
  "kernelspec": {
   "display_name": "Python 3 (ipykernel)",
   "language": "python",
   "name": "python3"
  },
  "language_info": {
   "codemirror_mode": {
    "name": "ipython",
    "version": 3
   },
   "file_extension": ".py",
   "mimetype": "text/x-python",
   "name": "python",
   "nbconvert_exporter": "python",
   "pygments_lexer": "ipython3",
   "version": "3.9.13"
  }
 },
 "nbformat": 4,
 "nbformat_minor": 5
}
