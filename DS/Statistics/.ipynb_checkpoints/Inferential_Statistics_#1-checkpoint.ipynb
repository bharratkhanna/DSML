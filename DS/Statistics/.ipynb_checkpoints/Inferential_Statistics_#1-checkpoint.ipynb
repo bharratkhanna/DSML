{
 "cells": [
  {
   "cell_type": "markdown",
   "id": "00b30cb2",
   "metadata": {},
   "source": [
    "<h1><center> Inferential Statistics #1"
   ]
  },
  {
   "cell_type": "markdown",
   "id": "c2422b5e",
   "metadata": {},
   "source": [
    "### Distribution:-"
   ]
  },
  {
   "cell_type": "markdown",
   "id": "a15c1151",
   "metadata": {},
   "source": [
    "A distribution is a function that shows the possible values for a variable and how often they occur, In Statistics, Distribution means Probability Distribution."
   ]
  },
  {
   "cell_type": "markdown",
   "id": "00f9fce1",
   "metadata": {},
   "source": [
    "#### Rolling a die outcomes:-"
   ]
  },
  {
   "cell_type": "markdown",
   "id": "dec967b9",
   "metadata": {},
   "source": [
    "| Outcome | Probability |\n",
    "|---|---|\n",
    "|1,2,3,4,5,6|0.17|\n",
    "|All else|0|"
   ]
  },
  {
   "cell_type": "markdown",
   "id": "f3e36629",
   "metadata": {},
   "source": [
    "This is called as **Discrete Uniform Probability**.\n",
    "\n",
    "_Distribution is not Graph_"
   ]
  },
  {
   "cell_type": "markdown",
   "id": "d63c9d33",
   "metadata": {},
   "source": [
    "### Discrete Distribution"
   ]
  },
  {
   "cell_type": "code",
   "execution_count": 15,
   "id": "2b32e004",
   "metadata": {},
   "outputs": [],
   "source": [
    "import math as m\n",
    "import numpy as np\n",
    "import pandas as pd\n",
    "import seaborn as sns\n",
    "import matplotlib.pyplot as plt"
   ]
  },
  {
   "cell_type": "code",
   "execution_count": 14,
   "id": "b2536da5",
   "metadata": {},
   "outputs": [],
   "source": [
    "dice = []\n",
    "for i in range(1,7):\n",
    "    for j in range(1,7):\n",
    "        dice.append(i + j)\n",
    "dice.sort()"
   ]
  },
  {
   "cell_type": "code",
   "execution_count": 13,
   "id": "1ed8519f",
   "metadata": {},
   "outputs": [
    {
     "data": {
      "text/plain": [
       "([2, 3, 4, 5, 6, 7, 8, 9, 10, 11, 12], [1, 2, 3, 4, 5, 6, 5, 4, 3, 2, 1])"
      ]
     },
     "execution_count": 13,
     "metadata": {},
     "output_type": "execute_result"
    }
   ],
   "source": [
    "count = []\n",
    "dice_sum = []\n",
    "i = 0\n",
    "while i < 36:\n",
    "    freq = 0\n",
    "    for j in range(i,36):\n",
    "        if dice[i] == dice[j]:\n",
    "            freq += 1\n",
    "        else: break\n",
    "    dice_sum.append(dice[i])\n",
    "    count.append(freq)\n",
    "    i += freq\n",
    "    \n",
    "dice_sum ,count"
   ]
  },
  {
   "cell_type": "code",
   "execution_count": 19,
   "id": "546d2cea",
   "metadata": {},
   "outputs": [
    {
     "data": {
      "text/html": [
       "<div>\n",
       "<style scoped>\n",
       "    .dataframe tbody tr th:only-of-type {\n",
       "        vertical-align: middle;\n",
       "    }\n",
       "\n",
       "    .dataframe tbody tr th {\n",
       "        vertical-align: top;\n",
       "    }\n",
       "\n",
       "    .dataframe thead th {\n",
       "        text-align: right;\n",
       "    }\n",
       "</style>\n",
       "<table border=\"1\" class=\"dataframe\">\n",
       "  <thead>\n",
       "    <tr style=\"text-align: right;\">\n",
       "      <th></th>\n",
       "      <th>Two Dice Sum</th>\n",
       "      <th>Frequency</th>\n",
       "      <th>Probability</th>\n",
       "    </tr>\n",
       "  </thead>\n",
       "  <tbody>\n",
       "    <tr>\n",
       "      <th>0</th>\n",
       "      <td>2</td>\n",
       "      <td>1</td>\n",
       "      <td>0.03</td>\n",
       "    </tr>\n",
       "    <tr>\n",
       "      <th>1</th>\n",
       "      <td>3</td>\n",
       "      <td>2</td>\n",
       "      <td>0.06</td>\n",
       "    </tr>\n",
       "    <tr>\n",
       "      <th>2</th>\n",
       "      <td>4</td>\n",
       "      <td>3</td>\n",
       "      <td>0.08</td>\n",
       "    </tr>\n",
       "    <tr>\n",
       "      <th>3</th>\n",
       "      <td>5</td>\n",
       "      <td>4</td>\n",
       "      <td>0.11</td>\n",
       "    </tr>\n",
       "    <tr>\n",
       "      <th>4</th>\n",
       "      <td>6</td>\n",
       "      <td>5</td>\n",
       "      <td>0.14</td>\n",
       "    </tr>\n",
       "    <tr>\n",
       "      <th>5</th>\n",
       "      <td>7</td>\n",
       "      <td>6</td>\n",
       "      <td>0.17</td>\n",
       "    </tr>\n",
       "    <tr>\n",
       "      <th>6</th>\n",
       "      <td>8</td>\n",
       "      <td>5</td>\n",
       "      <td>0.14</td>\n",
       "    </tr>\n",
       "    <tr>\n",
       "      <th>7</th>\n",
       "      <td>9</td>\n",
       "      <td>4</td>\n",
       "      <td>0.11</td>\n",
       "    </tr>\n",
       "    <tr>\n",
       "      <th>8</th>\n",
       "      <td>10</td>\n",
       "      <td>3</td>\n",
       "      <td>0.08</td>\n",
       "    </tr>\n",
       "    <tr>\n",
       "      <th>9</th>\n",
       "      <td>11</td>\n",
       "      <td>2</td>\n",
       "      <td>0.06</td>\n",
       "    </tr>\n",
       "    <tr>\n",
       "      <th>10</th>\n",
       "      <td>12</td>\n",
       "      <td>1</td>\n",
       "      <td>0.03</td>\n",
       "    </tr>\n",
       "  </tbody>\n",
       "</table>\n",
       "</div>"
      ],
      "text/plain": [
       "    Two Dice Sum  Frequency  Probability\n",
       "0              2          1         0.03\n",
       "1              3          2         0.06\n",
       "2              4          3         0.08\n",
       "3              5          4         0.11\n",
       "4              6          5         0.14\n",
       "5              7          6         0.17\n",
       "6              8          5         0.14\n",
       "7              9          4         0.11\n",
       "8             10          3         0.08\n",
       "9             11          2         0.06\n",
       "10            12          1         0.03"
      ]
     },
     "execution_count": 19,
     "metadata": {},
     "output_type": "execute_result"
    }
   ],
   "source": [
    "df = pd.DataFrame({\n",
    "    \"Two Dice Sum\" : dice_sum,\n",
    "    \"Frequency\" : count\n",
    "})\n",
    "\n",
    "df[\"Probability\"] = round(df[\"Frequency\"]/df[\"Frequency\"].sum(),2)\n",
    "df"
   ]
  },
  {
   "cell_type": "code",
   "execution_count": 26,
   "id": "fcba03fd",
   "metadata": {},
   "outputs": [
    {
     "data": {
      "text/plain": [
       "<AxesSubplot:xlabel='Two Dice Sum', ylabel='Probability'>"
      ]
     },
     "execution_count": 26,
     "metadata": {},
     "output_type": "execute_result"
    },
    {
     "data": {
      "image/png": "[encoded data removed]",
      "text/plain": [
       "<Figure size 640x480 with 1 Axes>"
      ]
     },
     "metadata": {},
     "output_type": "display_data"
    }
   ],
   "source": [
    "sns.barplot(x = df[\"Two Dice Sum\"], y=df[\"Probability\"])"
   ]
  },
  {
   "cell_type": "markdown",
   "id": "83967800",
   "metadata": {},
   "source": [
    "### Normal Distribution"
   ]
  },
  {
   "cell_type": "markdown",
   "id": "c17a4980",
   "metadata": {},
   "source": [
    "### $$N\\sim(\\mu,\\sigma^2)$$\n",
    "$N$ = Normal\n",
    "\n",
    "$\\sim$ = Distribution"
   ]
  },
  {
   "cell_type": "markdown",
   "id": "8a503f8f",
   "metadata": {},
   "source": [
    "- If we keep std fixed and change mean, the graph will move left & right\n",
    "- if we keep mean fixed and change std, the graph will show kurtosis."
   ]
  },
  {
   "cell_type": "markdown",
   "id": "ca788b7a",
   "metadata": {},
   "source": [
    "### Standardisation\n"
   ]
  },
  {
   "cell_type": "markdown",
   "id": "6f8655f0",
   "metadata": {},
   "source": [
    "Process of transforming variales to:-\n",
    "\n",
    "$\\mu \\approx 0$\n",
    "\n",
    "$\\sigma^2\\approx  1$\n",
    "\n",
    "### $$ z = \\frac{x-\\mu}{\\sigma}$$\n",
    "\n",
    "$z$ = $z$-score"
   ]
  },
  {
   "cell_type": "code",
   "execution_count": 36,
   "id": "006aac31",
   "metadata": {},
   "outputs": [],
   "source": [
    "dataset = [1,2,2,3,3,4,4,5]\n",
    "df = pd.DataFrame({\"Dataset\": dataset})\n",
    "df[\"x-mean\"] =  df[\"Dataset\"] - df[\"Dataset\"].mean()\n",
    "df[\"z\"] =  round(df[\"x-mean\"]/df[\"Dataset\"].std(ddof=0) ,2)"
   ]
  },
  {
   "cell_type": "code",
   "execution_count": 37,
   "id": "afa0fce2",
   "metadata": {},
   "outputs": [
    {
     "data": {
      "text/html": [
       "<div>\n",
       "<style scoped>\n",
       "    .dataframe tbody tr th:only-of-type {\n",
       "        vertical-align: middle;\n",
       "    }\n",
       "\n",
       "    .dataframe tbody tr th {\n",
       "        vertical-align: top;\n",
       "    }\n",
       "\n",
       "    .dataframe thead th {\n",
       "        text-align: right;\n",
       "    }\n",
       "</style>\n",
       "<table border=\"1\" class=\"dataframe\">\n",
       "  <thead>\n",
       "    <tr style=\"text-align: right;\">\n",
       "      <th></th>\n",
       "      <th>Dataset</th>\n",
       "      <th>x-mean</th>\n",
       "      <th>z</th>\n",
       "    </tr>\n",
       "  </thead>\n",
       "  <tbody>\n",
       "    <tr>\n",
       "      <th>0</th>\n",
       "      <td>1</td>\n",
       "      <td>-2.0</td>\n",
       "      <td>-1.63</td>\n",
       "    </tr>\n",
       "    <tr>\n",
       "      <th>1</th>\n",
       "      <td>2</td>\n",
       "      <td>-1.0</td>\n",
       "      <td>-0.82</td>\n",
       "    </tr>\n",
       "    <tr>\n",
       "      <th>2</th>\n",
       "      <td>2</td>\n",
       "      <td>-1.0</td>\n",
       "      <td>-0.82</td>\n",
       "    </tr>\n",
       "    <tr>\n",
       "      <th>3</th>\n",
       "      <td>3</td>\n",
       "      <td>0.0</td>\n",
       "      <td>0.00</td>\n",
       "    </tr>\n",
       "    <tr>\n",
       "      <th>4</th>\n",
       "      <td>3</td>\n",
       "      <td>0.0</td>\n",
       "      <td>0.00</td>\n",
       "    </tr>\n",
       "    <tr>\n",
       "      <th>5</th>\n",
       "      <td>4</td>\n",
       "      <td>1.0</td>\n",
       "      <td>0.82</td>\n",
       "    </tr>\n",
       "    <tr>\n",
       "      <th>6</th>\n",
       "      <td>4</td>\n",
       "      <td>1.0</td>\n",
       "      <td>0.82</td>\n",
       "    </tr>\n",
       "    <tr>\n",
       "      <th>7</th>\n",
       "      <td>5</td>\n",
       "      <td>2.0</td>\n",
       "      <td>1.63</td>\n",
       "    </tr>\n",
       "  </tbody>\n",
       "</table>\n",
       "</div>"
      ],
      "text/plain": [
       "   Dataset  x-mean     z\n",
       "0        1    -2.0 -1.63\n",
       "1        2    -1.0 -0.82\n",
       "2        2    -1.0 -0.82\n",
       "3        3     0.0  0.00\n",
       "4        3     0.0  0.00\n",
       "5        4     1.0  0.82\n",
       "6        4     1.0  0.82\n",
       "7        5     2.0  1.63"
      ]
     },
     "execution_count": 37,
     "metadata": {},
     "output_type": "execute_result"
    }
   ],
   "source": [
    "df"
   ]
  },
  {
   "cell_type": "code",
   "execution_count": 75,
   "id": "ac9e81fb",
   "metadata": {},
   "outputs": [
    {
     "data": {
      "text/plain": [
       "<AxesSubplot:xlabel='z', ylabel='count'>"
      ]
     },
     "execution_count": 75,
     "metadata": {},
     "output_type": "execute_result"
    },
    {
     "data": {
      "image/png": "[encoded data removed]",
      "text/plain": [
       "<Figure size 640x480 with 1 Axes>"
      ]
     },
     "metadata": {},
     "output_type": "display_data"
    }
   ],
   "source": [
    "sns.countplot(x=df[\"z\"])"
   ]
  },
  {
   "cell_type": "markdown",
   "id": "f3c032db",
   "metadata": {},
   "source": [
    "### Sampling Distribution"
   ]
  },
  {
   "cell_type": "markdown",
   "id": "f04a9f2b",
   "metadata": {},
   "source": [
    "- Data/Distribution formed by gathering sample statistics from multiple samples"
   ]
  },
  {
   "cell_type": "markdown",
   "id": "f82b5ab8",
   "metadata": {},
   "source": [
    "### Central Limit Theorem"
   ]
  },
  {
   "cell_type": "markdown",
   "id": "9af727a7",
   "metadata": {},
   "source": [
    "- No matter what type of distribution a Sample has, A Sampling Distribution _(Mean of multiple Samples etc)_ approximates as **Normal Distribution**.\n",
    "- Bigger samples mean more statistical accuracy as **variance gets smaller** because for sampling distribution: $ \\sigma^2/n$"
   ]
  },
  {
   "cell_type": "markdown",
   "id": "232d18b8",
   "metadata": {},
   "source": [
    "### Standard Error"
   ]
  },
  {
   "cell_type": "markdown",
   "id": "7fa89167",
   "metadata": {},
   "source": [
    "- Standard deviation of Distribution formed by Sample Means(Sampling Distribution)\n",
    "- Variability of sample means\n",
    "- It shows how well you approximated sample means, hence standard error decreases when standard size increases.\n",
    "- Standard Deviation for Sampling Distribution is also Standard Error\n",
    "\n",
    "### $$StandardError= \\frac{\\sigma}{n}$$\n"
   ]
  }
 ],
 "metadata": {
  "kernelspec": {
   "display_name": "Python 3 (ipykernel)",
   "language": "python",
   "name": "python3"
  },
  "language_info": {
   "codemirror_mode": {
    "name": "ipython",
    "version": 3
   },
   "file_extension": ".py",
   "mimetype": "text/x-python",
   "name": "python",
   "nbconvert_exporter": "python",
   "pygments_lexer": "ipython3",
   "version": "3.9.13"
  }
 },
 "nbformat": 4,
 "nbformat_minor": 5
}
