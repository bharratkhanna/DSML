{
 "cells": [
  {
   "cell_type": "markdown",
   "metadata": {},
   "source": [
    "<h1><center>Probability</h1></center>\n",
    "\n",
    "### Sampling Methods\n",
    "- Where the selction of sample has same probability\n",
    "    - Simple Random Sampling\n",
    "    - Stratified Sampling\n",
    "    - Cluster Sampling\n",
    "    - Systematic Sampling\n",
    "\n",
    "#### Simple Random Sampling\n",
    "- Homogeneus in nature\n",
    "- Each selection is done randomly, hence given each seltion equal probability\n",
    "\n",
    "#### Stratisfied Sample\n",
    "- Selection done from different groups randomly \n",
    "- Selction consist of some units from each groups\n",
    "\n",
    "#### Cluster Sampling\n",
    "- Make different groups randomly generally homogeneous in respective group.\n",
    "- Then select entire group\n",
    "\n",
    "#### Systematic Sampling\n",
    "- Some ordinary scheme is used to select select\n",
    "- Like filtering group with even number in there ids\n",
    "\n",
    "### Non Probability Sampling\n",
    "- Unequal chance of seletion\n",
    "    - Quota Sampling\n",
    "    - Convinience Sampling\n",
    "    - Judgemental Sampling\n",
    "\n",
    "#### Quota Sampling\n",
    "- Selcting samples on the basis of quta like reservation in India\n",
    "\n",
    "#### Convinience Sampling\n",
    "- Conviniently selecting samples\n",
    "- Like if there's a survey conducted on college studently and convinirntly the representativr went to nearest college for sample collection\n",
    "\n",
    "#### Judgemental Sampling\n",
    "- When a sample is judged on the basis of ones prefernce \n",
    "\n",
    "### Probability\n",
    "- Probabiliy is calculating the chances, likelihood of given events occurence\n",
    " $$ P = \\frac{\\text{No of outcomes}}{\\text{Total no of outcomes}} $$\n",
    "\n",
    "- Uncertain - When Probability is 0\n",
    "- Certain - When Probability is 1"
   ]
  },
  {
   "attachments": {},
   "cell_type": "markdown",
   "metadata": {},
   "source": [
    "### Additive Probability\n",
    "\n",
    "#### Mutually Exclusive Events\n",
    "- Cannot happen simultaneously\n",
    "- Like Head or tail\n",
    "\n",
    "$$ P(A or B) = P(A) + P(B) $$\n",
    "\n",
    "#### Non Mutually Exclusive Events\n",
    "- Can happen simultaneously\n",
    "\n",
    "$$ P(A \\text{ or }  B) = P(A) + P(B \\cap A) $$\n",
    "\n",
    "### Multiplicative Probability \n",
    "\n",
    "#### Dependent Probability\n",
    "- When events are affected by or dependent on other events\n",
    "\n",
    "$$ P(A\\text{ and }B) = P(A) + P(B|A) $$\n",
    "\n",
    "* B|A is B affected by A\n",
    "\n",
    "#### Independent Probability\n",
    "- When events are not affected by other events\n",
    "\n",
    "$$ P(A\\text{ and }B) = P(A) * P(B) $$"
   ]
  },
  {
   "cell_type": "markdown",
   "metadata": {},
   "source": []
  }
 ],
 "metadata": {
  "kernelspec": {
   "display_name": "base",
   "language": "python",
   "name": "python3"
  },
  "language_info": {
   "name": "python",
   "version": "3.9.13 (main, Aug 25 2022, 23:51:50) [MSC v.1916 64 bit (AMD64)]"
  },
  "orig_nbformat": 4,
  "vscode": {
   "interpreter": {
    "hash": "ff4f85d6e04298634172ac5d8264e7e9b556b95639fe52ebb9425c4d4cba0c9c"
   }
  }
 },
 "nbformat": 4,
 "nbformat_minor": 2
}
