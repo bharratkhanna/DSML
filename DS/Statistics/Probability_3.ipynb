{
 "cells": [
  {
   "cell_type": "markdown",
   "metadata": {},
   "source": [
    "<h1><center> Probability 3"
   ]
  },
  {
   "attachments": {},
   "cell_type": "markdown",
   "metadata": {},
   "source": [
    "### Discrete Probability \n",
    "When number are finite \n",
    "\n",
    "#### Bernauli Distribution\n",
    "- When possible outcomes are two only\n",
    "\n",
    "#### $$ P(x = P^x(1-P)^{(1-x)} $$\n",
    "\n",
    "#### Binominal Distribution\n",
    "- Number of successes in a repeated trials\n",
    "\n",
    "#### $$ P(x) ={} ^nC_xP^x(1-P)^{(n-x)} $$\n",
    "\n",
    "#### Poison Distribution\n",
    "- Determine the probability of successes in exact unit of time\n",
    "\n",
    "#### $$ f(x) = \\frac{\\lambda^x e^{-\\lambda}}{x!} $$\n",
    "\n",
    "### Continuous Probability Distribution\n",
    "\n",
    "#### Uniform Distribution\n",
    "- When probability across each data point is constant\n",
    "\n",
    "#### Normal Distribution\n",
    "- When a distribution forms Bell Curve and follows general principal of Bell Theorem\n",
    "\n",
    "#### Exponential Distribution\n",
    "- When distribution grows or decreses exponentially like phone battery\n",
    "\n",
    "- When $ x \\geq 0 $\n",
    "#### $$ P(x) = \\lambda e^{-\\lambda x}$$\n",
    "- When $ x < 0 $\n",
    "#### $$ P(x) = 0 $$\n"
   ]
  },
  {
   "cell_type": "markdown",
   "metadata": {},
   "source": []
  }
 ],
 "metadata": {
  "kernelspec": {
   "display_name": "base",
   "language": "python",
   "name": "python3"
  },
  "language_info": {
   "name": "python",
   "version": "3.9.15 | packaged by conda-forge | (main, Nov 22 2022, 08:50:29) \n[Clang 14.0.6 ]"
  },
  "orig_nbformat": 4,
  "vscode": {
   "interpreter": {
    "hash": "757053eaf0655596af139d123df37fb4079df03a43161b6a79909863304398bf"
   }
  }
 },
 "nbformat": 4,
 "nbformat_minor": 2
}
