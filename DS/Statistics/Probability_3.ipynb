{
 "cells": [
  {
   "cell_type": "markdown",
   "metadata": {},
   "source": [
    "<h1><center> Probability 3"
   ]
  },
  {
   "attachments": {},
   "cell_type": "markdown",
   "metadata": {},
   "source": [
    "### Discrete Probability \n",
    "When number are finite \n",
    "\n",
    "#### Bernauli Distribution\n",
    "- When possible outcomes are two only\n",
    "\n",
    "#### $$ P(x = P^x(1-P)^{(1-x)} $$\n",
    "\n",
    "#### Binominal Distribution\n",
    "- Number successes in a repeated trials\n",
    "\n",
    "#### $$ P(x) ={} ^nC_xP^x(1-P)^{(n-x)} $$\n",
    "\n",
    "#### Poison Distribution\n",
    "- Determine the probability of successes in exact unit of time\n",
    "\n",
    "#### $$ f(x) = \\frac{\\lambda^x e^{-\\lambda}}{x!} $$\n",
    "\n",
    "### Continuous Probability Distribution\n",
    "\n",
    "#### Uniform Distribution\n",
    "- When probability across each data point is constant\n",
    "\n",
    "#### Normal Distribution\n",
    "- When a distribution forms Bell Curve and follows general principal of Bell Theorem\n",
    "\n",
    "#### Exponential Distribution\n",
    "- When distribution grows or decreses exponentially like phone battery\n",
    "\n",
    "- When $ x \\geq 0 $\n",
    "#### $$ P(x) = \\lambda e^{-\\lambda x}$$\n",
    "- When $ x < 0 $\n",
    "#### $$ P(x) = 0 $$\n"
   ]
  }
 ],
 "metadata": {
  "kernelspec": {
   "display_name": "base",
   "language": "python",
   "name": "python3"
  },
  "language_info": {
   "name": "python",
   "version": "3.9.13 (main, Aug 25 2022, 23:51:50) [MSC v.1916 64 bit (AMD64)]"
  },
  "orig_nbformat": 4,
  "vscode": {
   "interpreter": {
    "hash": "ff4f85d6e04298634172ac5d8264e7e9b556b95639fe52ebb9425c4d4cba0c9c"
   }
  }
 },
 "nbformat": 4,
 "nbformat_minor": 2
}
