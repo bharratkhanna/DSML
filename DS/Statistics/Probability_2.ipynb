{
 "cells": [
  {
   "cell_type": "markdown",
   "metadata": {},
   "source": [
    "<h1><center> Probability "
   ]
  },
  {
   "attachments": {},
   "cell_type": "markdown",
   "metadata": {},
   "source": [
    "#### Conditional Probability\n",
    "\n",
    "$$ P(A|B) =  \\frac{P(A \\cap B)}{P(B)} $$\n",
    "\n",
    "- Conditional probability is a measure of the probability of an event occurring, given that another event has already occurred. It is a way of modifying the probability of an event based on additional information.\n",
    "\n",
    "\n",
    "- For example, consider the probability of it raining tomorrow. This probability may be affected by the current weather conditions. If it is cloudy today, then the probability of it raining tomorrow is higher than if it is sunny today. In this case, the probability of it raining tomorrow, given that it is cloudy today, is the conditional probability.\n",
    "\n",
    "\n",
    "- Formally, the conditional probability of event A occurring, given that event B has occurred, is written as P(A|B) and is calculated using the following formula:\n",
    "\n",
    "\n",
    "    - P(A|B) = P(A and B) / P(B)\n",
    "\n",
    "    - where P(A) is the probability of event A occurring, P(B) is the probability of event B occurring, and P(A and B) is the probability of both events A and B occurring.\n",
    "\n",
    "\n",
    "    - For example, if the probability of it raining tomorrow is 0.3, the probability of it being cloudy tomorrow is 0.5, and the probability of it both raining and being cloudy tomorrow is 0.15, then the conditional probability of it raining tomorrow, given that it is cloudy, is:\n",
    "\n",
    "\n",
    "    - P(Rain|Cloudy) = P(Rain and Cloudy) / P(Cloudy)\n",
    "    - = 0.15 / 0.5\n",
    "    - = 0.3\n",
    "\n",
    "\n",
    "In this case, the probability of it raining tomorrow is the same whether it is cloudy or not, because the conditional probability is the same as the probability of the event occurring without the additional information. However, in other cases, the conditional probability may be different from the probability of the event occurring without the additional information, in which case the additional information can be used to make more accurate predictions. \n",
    "\n",
    "\n",
    "#### Bayes Theorem \n",
    "$$ P(A|B) = \\frac{P(B|A) \\times P(A)}{P(B)} $$\n",
    "\n",
    "\n",
    "- Bayes' theorem is a mathematical formula that describes the relationship between the probabilities of various events. It is named after the English mathematician Thomas Bayes, who first formulated it in the 18th century.\n",
    "\n",
    "\n",
    "- The theorem is often stated as follows:\n",
    "\n",
    "\n",
    "    - P(A | B) = P(B | A) * P(A) / P(B)\n",
    "\n",
    "\n",
    "- Here, P(A | B) represents the probability of event A occurring given that event B has already occurred. P(B | A) is the probability of event B occurring given that event A has already occurred. P(A) is the probability of event A occurring on its own, and P(B) is the probability of event B occurring on its own.\n",
    "\n",
    "\n",
    "- In other words, Bayes' theorem allows us to compute the probability of an event based on its relationship to other events. It is often used in machine learning and statistics to update an existing probability estimate based on new evidence.\n",
    "\n",
    "\n",
    "    - For example, suppose we have a medical test that is used to diagnose a certain disease. The test is not perfect, and it can sometimes give false positive results (indicating that a person has the disease when they do not) and false negative results (indicating that a person does not have the disease when they actually do).\n",
    "\n",
    "\n",
    "If we know the probabilities of these types of errors, we can use Bayes' theorem to compute the probability that a person actually has the disease, given the result of the test. This can help doctors make more accurate diagnoses and avoid unnecessary treatments.\n",
    "\n"
   ]
  },
  {
   "attachments": {},
   "cell_type": "markdown",
   "metadata": {},
   "source": [
    "#### Random Variables: \n",
    "- Whose value is unknown\n",
    "\n",
    "##### Types of Random Variables\n",
    "- **Discrete Random Variable:** When number is finite\n",
    "- **Continuous Random Variable:** When number is infinite "
   ]
  },
  {
   "attachments": {},
   "cell_type": "markdown",
   "metadata": {},
   "source": [
    "- A random variable is a variable that represents a numerical outcome of a random event. In probability theory, a random variable is used to describe the possible outcomes of a random experiment, and the probabilities associated with each possible outcome.\n",
    "\n",
    "- There are two types of random variables: discrete and continuous.\n",
    "\n",
    "    - A discrete random variable is one that can take on only a finite or countably infinite number of values. For example, the number of heads that result from flipping a coin three times is a discrete random variable, because it can only take on the values 0, 1, 2, or 3.\n",
    "\n",
    "    - A continuous random variable is one that can take on any value within a specified range. For example, the height of a person is a continuous random variable, because a person's height can be any value within a certain range (e.g. between 1 and 2 meters for adults).\n",
    "\n",
    "Probability is a measure of the likelihood of a particular outcome or event occurring. In the context of a random variable, probability is used to describe the likelihood of each possible value of the random variable occurring. For example, the probability of flipping a coin three times and getting exactly two heads is 1/8, because there is only one way out of the eight possible outcomes that results in two heads (i.e. HHT, THH, or TTH)."
   ]
  }
 ],
 "metadata": {
  "kernelspec": {
   "display_name": "base",
   "language": "python",
   "name": "python3"
  },
  "language_info": {
   "codemirror_mode": {
    "name": "ipython",
    "version": 3
   },
   "file_extension": ".py",
   "mimetype": "text/x-python",
   "name": "python",
   "nbconvert_exporter": "python",
   "pygments_lexer": "ipython3",
   "version": "3.9.13 (main, Aug 25 2022, 23:51:50) [MSC v.1916 64 bit (AMD64)]"
  },
  "orig_nbformat": 4,
  "vscode": {
   "interpreter": {
    "hash": "ff4f85d6e04298634172ac5d8264e7e9b556b95639fe52ebb9425c4d4cba0c9c"
   }
  }
 },
 "nbformat": 4,
 "nbformat_minor": 2
}
