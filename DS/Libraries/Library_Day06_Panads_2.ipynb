{
 "cells": [
  {
   "cell_type": "code",
   "execution_count": 1,
   "id": "b94c41bf",
   "metadata": {},
   "outputs": [],
   "source": [
    "import pandas as pd\n",
    "import numpy as np"
   ]
  },
  {
   "cell_type": "code",
   "execution_count": 11,
   "id": "60e12bf4",
   "metadata": {},
   "outputs": [],
   "source": [
    "myList = [11,14,15,None,16,19,None,32,59,61,None,21]"
   ]
  },
  {
   "cell_type": "code",
   "execution_count": 3,
   "id": "306a9d5b",
   "metadata": {},
   "outputs": [
    {
     "data": {
      "text/plain": [
       "0     11.0\n",
       "1     14.0\n",
       "2     15.0\n",
       "3      NaN\n",
       "4     16.0\n",
       "5     19.0\n",
       "6      NaN\n",
       "7     32.0\n",
       "8     59.0\n",
       "9     61.0\n",
       "10     NaN\n",
       "11    21.0\n",
       "dtype: float64"
      ]
     },
     "execution_count": 3,
     "metadata": {},
     "output_type": "execute_result"
    }
   ],
   "source": [
    "mySer4 = pd.Series(myList)\n",
    "mySer4"
   ]
  },
  {
   "cell_type": "code",
   "execution_count": 5,
   "id": "589d2eb6",
   "metadata": {},
   "outputs": [
    {
     "data": {
      "text/plain": [
       "3"
      ]
     },
     "execution_count": 5,
     "metadata": {},
     "output_type": "execute_result"
    }
   ],
   "source": [
    "mySer4.isna().sum()"
   ]
  },
  {
   "cell_type": "code",
   "execution_count": 7,
   "id": "dd08d4f4",
   "metadata": {},
   "outputs": [
    {
     "data": {
      "text/plain": [
       "True"
      ]
     },
     "execution_count": 7,
     "metadata": {},
     "output_type": "execute_result"
    }
   ],
   "source": [
    "# any()\n",
    "mySer4.isna().any()"
   ]
  },
  {
   "cell_type": "code",
   "execution_count": 8,
   "id": "87803e91",
   "metadata": {},
   "outputs": [],
   "source": [
    "# Never drop missing values, always try to resolve it\n",
    "# Drop only if it cannot be replaced"
   ]
  },
  {
   "cell_type": "code",
   "execution_count": 24,
   "id": "75ade1f4",
   "metadata": {},
   "outputs": [
    {
     "data": {
      "text/plain": [
       "0     11.0\n",
       "1     14.0\n",
       "2     15.0\n",
       "4     16.0\n",
       "5     19.0\n",
       "7     32.0\n",
       "8     59.0\n",
       "9     61.0\n",
       "11    21.0\n",
       "dtype: float64"
      ]
     },
     "execution_count": 24,
     "metadata": {},
     "output_type": "execute_result"
    }
   ],
   "source": [
    "# dropna() - drop missing values\n",
    "mySer4.dropna()"
   ]
  },
  {
   "cell_type": "code",
   "execution_count": 25,
   "id": "cae535f3",
   "metadata": {},
   "outputs": [
    {
     "data": {
      "text/plain": [
       "0     11.0\n",
       "1     14.0\n",
       "2     15.0\n",
       "3      NaN\n",
       "4     16.0\n",
       "5     19.0\n",
       "6      NaN\n",
       "7     32.0\n",
       "8     59.0\n",
       "9     61.0\n",
       "10     NaN\n",
       "11    21.0\n",
       "dtype: float64"
      ]
     },
     "execution_count": 25,
     "metadata": {},
     "output_type": "execute_result"
    }
   ],
   "source": [
    "mySer4"
   ]
  },
  {
   "cell_type": "code",
   "execution_count": 20,
   "id": "6db78e8d",
   "metadata": {},
   "outputs": [
    {
     "data": {
      "text/plain": [
       "0      11.0\n",
       "1      14.0\n",
       "2      15.0\n",
       "3     115.0\n",
       "4      16.0\n",
       "5      19.0\n",
       "6     115.0\n",
       "7      32.0\n",
       "8      59.0\n",
       "9      61.0\n",
       "10    115.0\n",
       "11     21.0\n",
       "dtype: float64"
      ]
     },
     "execution_count": 20,
     "metadata": {},
     "output_type": "execute_result"
    }
   ],
   "source": [
    "# fillna() - fill missing values\n",
    "mySer4.fillna(115)"
   ]
  },
  {
   "cell_type": "code",
   "execution_count": 21,
   "id": "323a25b4",
   "metadata": {},
   "outputs": [],
   "source": [
    "# if column with number, replace it with mean or median, if column with categorical values replace it with mode"
   ]
  },
  {
   "cell_type": "code",
   "execution_count": 38,
   "id": "8a261884",
   "metadata": {},
   "outputs": [
    {
     "data": {
      "text/plain": [
       "27.555555555555557"
      ]
     },
     "execution_count": 38,
     "metadata": {},
     "output_type": "execute_result"
    }
   ],
   "source": [
    "tempMean = np.mean(mySer4)\n",
    "tempMean"
   ]
  },
  {
   "cell_type": "code",
   "execution_count": 39,
   "id": "eb2ddafa",
   "metadata": {},
   "outputs": [
    {
     "data": {
      "text/plain": [
       "0     11.000000\n",
       "1     14.000000\n",
       "2     15.000000\n",
       "3     27.555556\n",
       "4     16.000000\n",
       "5     19.000000\n",
       "6     27.555556\n",
       "7     32.000000\n",
       "8     59.000000\n",
       "9     61.000000\n",
       "10    27.555556\n",
       "11    21.000000\n",
       "dtype: float64"
      ]
     },
     "execution_count": 39,
     "metadata": {},
     "output_type": "execute_result"
    }
   ],
   "source": [
    "mySer4.fillna(tempMean)"
   ]
  },
  {
   "cell_type": "code",
   "execution_count": 40,
   "id": "30ce9018",
   "metadata": {},
   "outputs": [
    {
     "data": {
      "text/plain": [
       "19.0"
      ]
     },
     "execution_count": 40,
     "metadata": {},
     "output_type": "execute_result"
    }
   ],
   "source": [
    "tempMedian = np.median(mySer4.dropna())\n",
    "tempMedian"
   ]
  },
  {
   "cell_type": "code",
   "execution_count": 42,
   "id": "04c88dc9",
   "metadata": {},
   "outputs": [
    {
     "data": {
      "text/plain": [
       "19.0"
      ]
     },
     "execution_count": 42,
     "metadata": {},
     "output_type": "execute_result"
    }
   ],
   "source": [
    "# or use nanmedian()\n",
    "tempMedian = np.nanmedian(mySer4) #drops nan and calculate median\n",
    "tempMedian"
   ]
  },
  {
   "cell_type": "code",
   "execution_count": 33,
   "id": "3e8b1af9",
   "metadata": {},
   "outputs": [
    {
     "data": {
      "text/plain": [
       "0     11.0\n",
       "1     14.0\n",
       "2     15.0\n",
       "3     19.0\n",
       "4     16.0\n",
       "5     19.0\n",
       "6     19.0\n",
       "7     32.0\n",
       "8     59.0\n",
       "9     61.0\n",
       "10    19.0\n",
       "11    21.0\n",
       "dtype: float64"
      ]
     },
     "execution_count": 33,
     "metadata": {},
     "output_type": "execute_result"
    }
   ],
   "source": [
    "mySer4.fillna(tempMedian)"
   ]
  },
  {
   "cell_type": "code",
   "execution_count": 44,
   "id": "c4703699",
   "metadata": {},
   "outputs": [
    {
     "data": {
      "text/plain": [
       "0     11.0\n",
       "1     14.0\n",
       "2     15.0\n",
       "4     16.0\n",
       "5     19.0\n",
       "11    21.0\n",
       "7     32.0\n",
       "8     59.0\n",
       "9     61.0\n",
       "3      NaN\n",
       "6      NaN\n",
       "10     NaN\n",
       "dtype: float64"
      ]
     },
     "execution_count": 44,
     "metadata": {},
     "output_type": "execute_result"
    }
   ],
   "source": [
    "mySer4.sort_values()"
   ]
  },
  {
   "cell_type": "code",
   "execution_count": 45,
   "id": "4ee735af",
   "metadata": {},
   "outputs": [
    {
     "data": {
      "text/plain": [
       "0     11.0\n",
       "1     14.0\n",
       "2     15.0\n",
       "3      NaN\n",
       "4     16.0\n",
       "5     19.0\n",
       "6      NaN\n",
       "7     32.0\n",
       "8     59.0\n",
       "9     61.0\n",
       "10     NaN\n",
       "11    21.0\n",
       "dtype: float64"
      ]
     },
     "execution_count": 45,
     "metadata": {},
     "output_type": "execute_result"
    }
   ],
   "source": [
    "mySer4"
   ]
  },
  {
   "cell_type": "code",
   "execution_count": 47,
   "id": "5126b473",
   "metadata": {},
   "outputs": [
    {
     "data": {
      "text/plain": [
       "19.0"
      ]
     },
     "execution_count": 47,
     "metadata": {},
     "output_type": "execute_result"
    }
   ],
   "source": [
    "# Panda median\n",
    "tempMedianPd = mySer4.median()\n",
    "tempMedianPd"
   ]
  },
  {
   "cell_type": "code",
   "execution_count": 49,
   "id": "14f9972c",
   "metadata": {},
   "outputs": [
    {
     "data": {
      "text/plain": [
       "27.555555555555557"
      ]
     },
     "execution_count": 49,
     "metadata": {},
     "output_type": "execute_result"
    }
   ],
   "source": [
    "# Panda mean\n",
    "tempMeanPd = mySer4.mean()\n",
    "tempMeanPd"
   ]
  },
  {
   "cell_type": "code",
   "execution_count": 51,
   "id": "25b9f3ee",
   "metadata": {},
   "outputs": [
    {
     "data": {
      "text/plain": [
       "0     11.0\n",
       "1     14.0\n",
       "2     15.0\n",
       "3     19.0\n",
       "4     16.0\n",
       "5     19.0\n",
       "6     19.0\n",
       "7     32.0\n",
       "8     59.0\n",
       "9     61.0\n",
       "10    19.0\n",
       "11    21.0\n",
       "dtype: float64"
      ]
     },
     "execution_count": 51,
     "metadata": {},
     "output_type": "execute_result"
    }
   ],
   "source": [
    "mySer4.fillna(mySer4.median())"
   ]
  },
  {
   "cell_type": "code",
   "execution_count": 52,
   "id": "15f3f5ee",
   "metadata": {},
   "outputs": [
    {
     "data": {
      "text/plain": [
       "dtype('float64')"
      ]
     },
     "execution_count": 52,
     "metadata": {},
     "output_type": "execute_result"
    }
   ],
   "source": [
    "mySer4.dtype"
   ]
  },
  {
   "cell_type": "code",
   "execution_count": 61,
   "id": "fc4e4b0c",
   "metadata": {},
   "outputs": [
    {
     "data": {
      "text/plain": [
       "0     11\n",
       "1     14\n",
       "2     15\n",
       "4     16\n",
       "5     19\n",
       "7     32\n",
       "8     59\n",
       "9     61\n",
       "11    21\n",
       "dtype: int8"
      ]
     },
     "execution_count": 61,
     "metadata": {},
     "output_type": "execute_result"
    }
   ],
   "source": [
    "# astype - Both in numpy & pandas to change dtype\n",
    "mySer4.dropna().astype(\"int8\")"
   ]
  },
  {
   "cell_type": "code",
   "execution_count": 65,
   "id": "50eb9497",
   "metadata": {},
   "outputs": [
    {
     "data": {
      "text/plain": [
       "0    120\n",
       "1    160\n",
       "2    180\n",
       "3    190\n",
       "dtype: int64"
      ]
     },
     "execution_count": 65,
     "metadata": {},
     "output_type": "execute_result"
    }
   ],
   "source": [
    "# Apply Function : To use function\n",
    "def mySum(df):\n",
    "    return df * 10\n",
    "\n",
    "mySer3 =pd.Series([12,16,18,19]) # This works only on series but not on dataframe\n",
    "mySum(mySer3)"
   ]
  },
  {
   "cell_type": "code",
   "execution_count": 66,
   "id": "45485feb",
   "metadata": {},
   "outputs": [
    {
     "data": {
      "text/plain": [
       "0    120\n",
       "1    160\n",
       "2    180\n",
       "3    190\n",
       "dtype: int64"
      ]
     },
     "execution_count": 66,
     "metadata": {},
     "output_type": "execute_result"
    }
   ],
   "source": [
    "# Correct method \n",
    "mySer3.apply(mySum)  "
   ]
  },
  {
   "cell_type": "code",
   "execution_count": 68,
   "id": "4205c382",
   "metadata": {},
   "outputs": [
    {
     "data": {
      "text/plain": [
       "0     12\n",
       "1     14\n",
       "2     17\n",
       "3     18\n",
       "4     19\n",
       "5     21\n",
       "6     22\n",
       "7     23\n",
       "8     12\n",
       "9     11\n",
       "10    12\n",
       "11    12\n",
       "dtype: int64"
      ]
     },
     "execution_count": 68,
     "metadata": {},
     "output_type": "execute_result"
    }
   ],
   "source": [
    "mySer2 = pd.Series([12,14,17,18,19,21,22,23,12,11,12,12])\n",
    "mySer2"
   ]
  },
  {
   "cell_type": "code",
   "execution_count": 69,
   "id": "bc2fd046",
   "metadata": {},
   "outputs": [
    {
     "data": {
      "text/plain": [
       "0    12\n",
       "1    14\n",
       "2    17\n",
       "3    18\n",
       "4    19\n",
       "5    21\n",
       "6    22\n",
       "7    23\n",
       "9    11\n",
       "dtype: int64"
      ]
     },
     "execution_count": 69,
     "metadata": {},
     "output_type": "execute_result"
    }
   ],
   "source": [
    "# Remove Duplicates\n",
    "mySer2.drop_duplicates()"
   ]
  }
 ],
 "metadata": {
  "kernelspec": {
   "display_name": "Python 3 (ipykernel)",
   "language": "python",
   "name": "python3"
  },
  "language_info": {
   "codemirror_mode": {
    "name": "ipython",
    "version": 3
   },
   "file_extension": ".py",
   "mimetype": "text/x-python",
   "name": "python",
   "nbconvert_exporter": "python",
   "pygments_lexer": "ipython3",
   "version": "3.9.12"
  },
  "varInspector": {
   "cols": {
    "lenName": 16,
    "lenType": 16,
    "lenVar": 40
   },
   "kernels_config": {
    "python": {
     "delete_cmd_postfix": "",
     "delete_cmd_prefix": "del ",
     "library": "var_list.py",
     "varRefreshCmd": "print(var_dic_list())"
    },
    "r": {
     "delete_cmd_postfix": ") ",
     "delete_cmd_prefix": "rm(",
     "library": "var_list.r",
     "varRefreshCmd": "cat(var_dic_list()) "
    }
   },
   "types_to_exclude": [
    "module",
    "function",
    "builtin_function_or_method",
    "instance",
    "_Feature"
   ],
   "window_display": false
  }
 },
 "nbformat": 4,
 "nbformat_minor": 5
}
