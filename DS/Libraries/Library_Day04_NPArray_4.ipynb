{
 "cells": [
  {
   "cell_type": "code",
   "execution_count": 1,
   "id": "1e9287c8",
   "metadata": {},
   "outputs": [],
   "source": [
    "import numpy as np"
   ]
  },
  {
   "cell_type": "code",
   "execution_count": 2,
   "id": "923f93b8",
   "metadata": {},
   "outputs": [],
   "source": [
    "arr1 = np.array([[1,2,3],[4,5,6],[7,8,9]])\n",
    "arr2 = np.array([[10,11,12],[3,9,10],[1,9,8]])"
   ]
  },
  {
   "cell_type": "code",
   "execution_count": 11,
   "id": "cc479fd9",
   "metadata": {},
   "outputs": [
    {
     "data": {
      "text/plain": [
       "(array([[1, 2, 3],\n",
       "        [4, 5, 6],\n",
       "        [7, 8, 9]]),\n",
       " array([[10, 11, 12],\n",
       "        [ 3,  9, 10],\n",
       "        [ 1,  9,  8]]))"
      ]
     },
     "execution_count": 11,
     "metadata": {},
     "output_type": "execute_result"
    }
   ],
   "source": [
    "arr1 , arr2"
   ]
  },
  {
   "cell_type": "markdown",
   "id": "58acb7b0",
   "metadata": {},
   "source": [
    "### Arithimatic Operations"
   ]
  },
  {
   "cell_type": "code",
   "execution_count": 12,
   "id": "adf7d879",
   "metadata": {},
   "outputs": [
    {
     "data": {
      "text/plain": [
       "array([[11, 13, 15],\n",
       "       [ 7, 14, 16],\n",
       "       [ 8, 17, 17]])"
      ]
     },
     "execution_count": 12,
     "metadata": {},
     "output_type": "execute_result"
    }
   ],
   "source": [
    "# Addition\n",
    "arr1 + arr2"
   ]
  },
  {
   "cell_type": "code",
   "execution_count": 7,
   "id": "bb3295f1",
   "metadata": {},
   "outputs": [
    {
     "data": {
      "text/plain": [
       "array([[ 9,  9,  9],\n",
       "       [-1,  4,  4],\n",
       "       [-6,  1, -1]])"
      ]
     },
     "execution_count": 7,
     "metadata": {},
     "output_type": "execute_result"
    }
   ],
   "source": [
    "# Subraction\n",
    "arr2 -arr1"
   ]
  },
  {
   "cell_type": "code",
   "execution_count": 8,
   "id": "9a837534",
   "metadata": {},
   "outputs": [
    {
     "data": {
      "text/plain": [
       "array([[10, 22, 36],\n",
       "       [12, 45, 60],\n",
       "       [ 7, 72, 72]])"
      ]
     },
     "execution_count": 8,
     "metadata": {},
     "output_type": "execute_result"
    }
   ],
   "source": [
    "# Multiplication\n",
    "arr1 * arr2"
   ]
  },
  {
   "cell_type": "code",
   "execution_count": 10,
   "id": "64d319aa",
   "metadata": {},
   "outputs": [
    {
     "data": {
      "text/plain": [
       "array([[10.        ,  5.5       ,  4.        ],\n",
       "       [ 0.75      ,  1.8       ,  1.66666667],\n",
       "       [ 0.14285714,  1.125     ,  0.88888889]])"
      ]
     },
     "execution_count": 10,
     "metadata": {},
     "output_type": "execute_result"
    }
   ],
   "source": [
    "# Division\n",
    "arr2 / arr1"
   ]
  },
  {
   "cell_type": "code",
   "execution_count": 13,
   "id": "ea46e248",
   "metadata": {},
   "outputs": [
    {
     "data": {
      "text/plain": [
       "array([[ 5, 10, 15],\n",
       "       [20, 25, 30],\n",
       "       [35, 40, 45]])"
      ]
     },
     "execution_count": 13,
     "metadata": {},
     "output_type": "execute_result"
    }
   ],
   "source": [
    "arr1 * 5"
   ]
  },
  {
   "cell_type": "code",
   "execution_count": 14,
   "id": "9781593a",
   "metadata": {},
   "outputs": [],
   "source": [
    "arr3 = np.array([[1,2,3],[4,5,6]])\n",
    "arr4 = np.array([[1,2],[3,4],[5,6]])"
   ]
  },
  {
   "cell_type": "code",
   "execution_count": 19,
   "id": "8c44f3db",
   "metadata": {},
   "outputs": [
    {
     "data": {
      "text/plain": [
       "(array([[1, 2, 3],\n",
       "        [4, 5, 6]]),\n",
       " array([[1, 2],\n",
       "        [3, 4],\n",
       "        [5, 6]]))"
      ]
     },
     "execution_count": 19,
     "metadata": {},
     "output_type": "execute_result"
    }
   ],
   "source": [
    "arr3,arr4"
   ]
  },
  {
   "cell_type": "code",
   "execution_count": 39,
   "id": "c475418c",
   "metadata": {},
   "outputs": [
    {
     "data": {
      "text/plain": [
       "('ARR3:', (2, 3), 'ARR4:', (3, 2))"
      ]
     },
     "execution_count": 39,
     "metadata": {},
     "output_type": "execute_result"
    }
   ],
   "source": [
    "\"ARR3:\", arr3.shape , \"ARR4:\", arr4.shape"
   ]
  },
  {
   "cell_type": "code",
   "execution_count": 17,
   "id": "613c010f",
   "metadata": {},
   "outputs": [
    {
     "ename": "ValueError",
     "evalue": "operands could not be broadcast together with shapes (2,3) (3,2) ",
     "output_type": "error",
     "traceback": [
      "\u001b[0;31m---------------------------------------------------------------------------\u001b[0m",
      "\u001b[0;31mValueError\u001b[0m                                Traceback (most recent call last)",
      "Input \u001b[0;32mIn [17]\u001b[0m, in \u001b[0;36m<cell line: 1>\u001b[0;34m()\u001b[0m\n\u001b[0;32m----> 1\u001b[0m \u001b[43marr3\u001b[49m\u001b[43m \u001b[49m\u001b[38;5;241;43m*\u001b[39;49m\u001b[43m \u001b[49m\u001b[43marr4\u001b[49m\n",
      "\u001b[0;31mValueError\u001b[0m: operands could not be broadcast together with shapes (2,3) (3,2) "
     ]
    }
   ],
   "source": [
    "arr3 * arr4 # because shape is not same"
   ]
  },
  {
   "cell_type": "code",
   "execution_count": 25,
   "id": "114f5e5a",
   "metadata": {},
   "outputs": [
    {
     "data": {
      "text/plain": [
       "5.0"
      ]
     },
     "execution_count": 25,
     "metadata": {},
     "output_type": "execute_result"
    }
   ],
   "source": [
    "# Mean\n",
    "np.mean(arr1)"
   ]
  },
  {
   "cell_type": "code",
   "execution_count": 26,
   "id": "22339fa9",
   "metadata": {},
   "outputs": [
    {
     "data": {
      "text/plain": [
       "2.581988897471611"
      ]
     },
     "execution_count": 26,
     "metadata": {},
     "output_type": "execute_result"
    }
   ],
   "source": [
    "#Standard deviation\n",
    "np.std(arr1)"
   ]
  },
  {
   "cell_type": "code",
   "execution_count": 27,
   "id": "2dae961e",
   "metadata": {},
   "outputs": [
    {
     "data": {
      "text/plain": [
       "5.0"
      ]
     },
     "execution_count": 27,
     "metadata": {},
     "output_type": "execute_result"
    }
   ],
   "source": [
    "# Median\n",
    "np.median(arr1)"
   ]
  },
  {
   "cell_type": "code",
   "execution_count": 28,
   "id": "3749776c",
   "metadata": {},
   "outputs": [
    {
     "data": {
      "text/plain": [
       "6.666666666666667"
      ]
     },
     "execution_count": 28,
     "metadata": {},
     "output_type": "execute_result"
    }
   ],
   "source": [
    "# Variance\n",
    "np.var(arr1)"
   ]
  },
  {
   "cell_type": "markdown",
   "id": "c90aef5a",
   "metadata": {},
   "source": [
    "### Comparisan Operator"
   ]
  },
  {
   "cell_type": "code",
   "execution_count": 29,
   "id": "ec40bc0e",
   "metadata": {},
   "outputs": [
    {
     "data": {
      "text/plain": [
       "array([[False, False, False],\n",
       "       [False, False, False],\n",
       "       [False, False, False]])"
      ]
     },
     "execution_count": 29,
     "metadata": {},
     "output_type": "execute_result"
    }
   ],
   "source": [
    "arr1 == arr2"
   ]
  },
  {
   "cell_type": "code",
   "execution_count": 30,
   "id": "6d90f7af",
   "metadata": {},
   "outputs": [
    {
     "name": "stderr",
     "output_type": "stream",
     "text": [
      "/var/folders/02/f5skj5z55bq9x80_5h41bs1r0000gn/T/ipykernel_47649/3313565652.py:1: DeprecationWarning: elementwise comparison failed; this will raise an error in the future.\n",
      "  arr3 == arr4\n"
     ]
    },
    {
     "data": {
      "text/plain": [
       "False"
      ]
     },
     "execution_count": 30,
     "metadata": {},
     "output_type": "execute_result"
    }
   ],
   "source": [
    "arr3 == arr4"
   ]
  },
  {
   "cell_type": "code",
   "execution_count": 31,
   "id": "19d919ed",
   "metadata": {},
   "outputs": [
    {
     "data": {
      "text/plain": [
       "array([[False, False, False],\n",
       "       [ True, False, False],\n",
       "       [ True, False,  True]])"
      ]
     },
     "execution_count": 31,
     "metadata": {},
     "output_type": "execute_result"
    }
   ],
   "source": [
    "arr1 > arr2"
   ]
  },
  {
   "cell_type": "code",
   "execution_count": 32,
   "id": "f03964ef",
   "metadata": {},
   "outputs": [
    {
     "data": {
      "text/plain": [
       "array([[ True,  True,  True],\n",
       "       [False,  True,  True],\n",
       "       [False,  True, False]])"
      ]
     },
     "execution_count": 32,
     "metadata": {},
     "output_type": "execute_result"
    }
   ],
   "source": [
    "arr2 >=  arr1"
   ]
  },
  {
   "cell_type": "code",
   "execution_count": 33,
   "id": "0e686be5",
   "metadata": {},
   "outputs": [
    {
     "data": {
      "text/plain": [
       "array([[False, False, False],\n",
       "       [ True, False, False],\n",
       "       [ True, False,  True]])"
      ]
     },
     "execution_count": 33,
     "metadata": {},
     "output_type": "execute_result"
    }
   ],
   "source": [
    "arr2 <= arr1"
   ]
  },
  {
   "cell_type": "code",
   "execution_count": 35,
   "id": "eae9d7f5",
   "metadata": {},
   "outputs": [
    {
     "data": {
      "text/plain": [
       "array([['Tej', 'Bharat', 'Palak'],\n",
       "       ['Shailender', 'Jyoti', 'Ankit']], dtype='<U10')"
      ]
     },
     "execution_count": 35,
     "metadata": {},
     "output_type": "execute_result"
    }
   ],
   "source": [
    "names = np.array([[\"Tej\",\"Bharat\",\"Palak\"],[\"Shailender\",\"Jyoti\",\"Ankit\"]])\n",
    "names"
   ]
  },
  {
   "cell_type": "code",
   "execution_count": 36,
   "id": "016ec7ef",
   "metadata": {},
   "outputs": [
    {
     "data": {
      "text/plain": [
       "array([[False, False, False],\n",
       "       [False, False, False]])"
      ]
     },
     "execution_count": 36,
     "metadata": {},
     "output_type": "execute_result"
    }
   ],
   "source": [
    "names == \"Neeraj\"       "
   ]
  },
  {
   "cell_type": "code",
   "execution_count": 37,
   "id": "e5a60268",
   "metadata": {},
   "outputs": [
    {
     "data": {
      "text/plain": [
       "array([[ True, False, False],\n",
       "       [False, False, False]])"
      ]
     },
     "execution_count": 37,
     "metadata": {},
     "output_type": "execute_result"
    }
   ],
   "source": [
    "names == \"Tej\""
   ]
  },
  {
   "cell_type": "code",
   "execution_count": 70,
   "id": "ecad0cf7",
   "metadata": {},
   "outputs": [],
   "source": [
    "myList = [12,13,14,15,16]"
   ]
  },
  {
   "cell_type": "code",
   "execution_count": 43,
   "id": "26cd96b0",
   "metadata": {},
   "outputs": [
    {
     "data": {
      "text/plain": [
       "[12, 13]"
      ]
     },
     "execution_count": 43,
     "metadata": {},
     "output_type": "execute_result"
    }
   ],
   "source": [
    "myList[0:2]"
   ]
  },
  {
   "cell_type": "code",
   "execution_count": 78,
   "id": "d77314ec",
   "metadata": {},
   "outputs": [
    {
     "data": {
      "text/plain": [
       "[101, 101]"
      ]
     },
     "execution_count": 78,
     "metadata": {},
     "output_type": "execute_result"
    }
   ],
   "source": [
    "myList2 = [101 for i in myList[0:2]] #you have to use loop\n",
    "myList2"
   ]
  },
  {
   "cell_type": "code",
   "execution_count": 82,
   "id": "966d508b",
   "metadata": {},
   "outputs": [
    {
     "data": {
      "text/plain": [
       "[101, 101, 14, 15, 16]"
      ]
     },
     "execution_count": 82,
     "metadata": {},
     "output_type": "execute_result"
    }
   ],
   "source": [
    "myList3 = list(map(lambda x: 101, myList[0:2])) + myList[2:] #or you havrr o use lambda\n",
    "myList3"
   ]
  },
  {
   "cell_type": "code",
   "execution_count": 42,
   "id": "ef305a25",
   "metadata": {},
   "outputs": [
    {
     "ename": "TypeError",
     "evalue": "can only assign an iterable",
     "output_type": "error",
     "traceback": [
      "\u001b[0;31m---------------------------------------------------------------------------\u001b[0m",
      "\u001b[0;31mTypeError\u001b[0m                                 Traceback (most recent call last)",
      "Input \u001b[0;32mIn [42]\u001b[0m, in \u001b[0;36m<cell line: 1>\u001b[0;34m()\u001b[0m\n\u001b[0;32m----> 1\u001b[0m myList[\u001b[38;5;241m0\u001b[39m:\u001b[38;5;241m2\u001b[39m] \u001b[38;5;241m=\u001b[39m \u001b[38;5;241m101\u001b[39m\n",
      "\u001b[0;31mTypeError\u001b[0m: can only assign an iterable"
     ]
    }
   ],
   "source": [
    "myList[0:2] = 101 # can't change all elements in one go"
   ]
  },
  {
   "cell_type": "markdown",
   "id": "e84a212e",
   "metadata": {},
   "source": [
    "### Array Broadcasting"
   ]
  },
  {
   "cell_type": "code",
   "execution_count": 49,
   "id": "97276416",
   "metadata": {},
   "outputs": [
    {
     "data": {
      "text/plain": [
       "array([12, 13, 14, 15, 16])"
      ]
     },
     "execution_count": 49,
     "metadata": {},
     "output_type": "execute_result"
    }
   ],
   "source": [
    "# Array Broadcasting\n",
    "arr5 = np.array(myList)\n",
    "arr5"
   ]
  },
  {
   "cell_type": "code",
   "execution_count": 50,
   "id": "782c5225",
   "metadata": {},
   "outputs": [
    {
     "data": {
      "text/plain": [
       "array([18, 18, 14, 15, 16])"
      ]
     },
     "execution_count": 50,
     "metadata": {},
     "output_type": "execute_result"
    }
   ],
   "source": [
    "arr5[0:2] = 18 # coverts first two element with 18\n",
    "arr5"
   ]
  },
  {
   "cell_type": "code",
   "execution_count": 74,
   "id": "2fa7043f",
   "metadata": {},
   "outputs": [
    {
     "data": {
      "text/plain": [
       "(array([[ 0.0080319 , -0.4050227 ,  1.12739822],\n",
       "        [-0.17948317,  1.41662508, -0.27722095],\n",
       "        [-0.51935086, -0.18915152,  0.25696149],\n",
       "        [ 0.09665312, -0.64685393, -1.25244894]]),\n",
       " 'Shape:',\n",
       " (4, 3))"
      ]
     },
     "execution_count": 74,
     "metadata": {},
     "output_type": "execute_result"
    }
   ],
   "source": [
    "myArr = np.random.randn(4,3)\n",
    "myArr , \"Shape:\", myArr.shape"
   ]
  },
  {
   "cell_type": "markdown",
   "id": "98f8ed8f",
   "metadata": {},
   "source": [
    "### Reshape"
   ]
  },
  {
   "cell_type": "code",
   "execution_count": 75,
   "id": "b6bbaa7e",
   "metadata": {},
   "outputs": [],
   "source": [
    "# Reshape\n",
    "# If shape is 4,3 -> options to reshape are 2,6, 6,2, 1,12, 12,1 , 3,4\n",
    "# Which it means it should be factiorial of given array shape"
   ]
  },
  {
   "cell_type": "code",
   "execution_count": 76,
   "id": "74edb648",
   "metadata": {},
   "outputs": [
    {
     "data": {
      "text/plain": [
       "array([[ 0.0080319 , -0.4050227 ],\n",
       "       [ 1.12739822, -0.17948317],\n",
       "       [ 1.41662508, -0.27722095],\n",
       "       [-0.51935086, -0.18915152],\n",
       "       [ 0.25696149,  0.09665312],\n",
       "       [-0.64685393, -1.25244894]])"
      ]
     },
     "execution_count": 76,
     "metadata": {},
     "output_type": "execute_result"
    }
   ],
   "source": [
    "myArr.reshape(6,2)"
   ]
  },
  {
   "cell_type": "code",
   "execution_count": 77,
   "id": "d4834de7",
   "metadata": {},
   "outputs": [
    {
     "ename": "ValueError",
     "evalue": "cannot reshape array of size 12 into shape (3,2)",
     "output_type": "error",
     "traceback": [
      "\u001b[0;31m---------------------------------------------------------------------------\u001b[0m",
      "\u001b[0;31mValueError\u001b[0m                                Traceback (most recent call last)",
      "Input \u001b[0;32mIn [77]\u001b[0m, in \u001b[0;36m<cell line: 1>\u001b[0;34m()\u001b[0m\n\u001b[0;32m----> 1\u001b[0m \u001b[43mmyArr\u001b[49m\u001b[38;5;241;43m.\u001b[39;49m\u001b[43mreshape\u001b[49m\u001b[43m(\u001b[49m\u001b[38;5;241;43m3\u001b[39;49m\u001b[43m,\u001b[49m\u001b[38;5;241;43m2\u001b[39;49m\u001b[43m)\u001b[49m\n",
      "\u001b[0;31mValueError\u001b[0m: cannot reshape array of size 12 into shape (3,2)"
     ]
    }
   ],
   "source": [
    "myArr.reshape(3,2) # error because (3 * 2) is not a factorial of (3 * 4)"
   ]
  }
 ],
 "metadata": {
  "kernelspec": {
   "display_name": "Python 3 (ipykernel)",
   "language": "python",
   "name": "python3"
  },
  "language_info": {
   "codemirror_mode": {
    "name": "ipython",
    "version": 3
   },
   "file_extension": ".py",
   "mimetype": "text/x-python",
   "name": "python",
   "nbconvert_exporter": "python",
   "pygments_lexer": "ipython3",
   "version": "3.9.12"
  },
  "varInspector": {
   "cols": {
    "lenName": 16,
    "lenType": 16,
    "lenVar": 40
   },
   "kernels_config": {
    "python": {
     "delete_cmd_postfix": "",
     "delete_cmd_prefix": "del ",
     "library": "var_list.py",
     "varRefreshCmd": "print(var_dic_list())"
    },
    "r": {
     "delete_cmd_postfix": ") ",
     "delete_cmd_prefix": "rm(",
     "library": "var_list.r",
     "varRefreshCmd": "cat(var_dic_list()) "
    }
   },
   "types_to_exclude": [
    "module",
    "function",
    "builtin_function_or_method",
    "instance",
    "_Feature"
   ],
   "window_display": false
  }
 },
 "nbformat": 4,
 "nbformat_minor": 5
}
