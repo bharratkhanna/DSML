{
 "cells": [
  {
   "attachments": {},
   "cell_type": "markdown",
   "metadata": {},
   "source": [
    " <h1><center>SQL Intro 1"
   ]
  },
  {
   "attachments": {},
   "cell_type": "markdown",
   "metadata": {},
   "source": [
    "- According to OSMEN, first part is obtaining the data, so client soemtimes instead of sharing data, shares limited access to its database\n",
    "- So you fetch the data from database using SQL\n",
    "\n",
    "#### Database Management System\n",
    "- To access data from Databse, you need DMS\n",
    "- SQL is one of the language used in DMS\n",
    "\n",
    "### Database Types\n",
    "\n",
    "#### Relational Databse\n",
    "- Database in which there is relation, Generally in form of table\n",
    "\n",
    "#### Non Relational Database\n",
    "- Like MongoDB \n",
    "\n",
    "### Structured Query Language\n",
    "- Language which allows you to access and manipulatr database\n",
    "\n",
    "#### SQL Technology\n",
    "- MySQL doesn't differentiate between Schema and Database\n",
    "- Tables- Columns/Rows\n",
    "- RDBMS -  Relational Database Management System -> You draw ER (Entity Relational) Diagram first and then create Database accordingly, Consider ER as blueprint"
   ]
  },
  {
   "attachments": {},
   "cell_type": "markdown",
   "metadata": {},
   "source": [
    "### SQL Commands\n",
    "- There are broadly 5 type of commands\n",
    "\n",
    "#### Data Definition Language\n",
    "- Modify Table Structure using this\n",
    "\n",
    "#### Data Manipulation Language\n",
    "- Modify Data in Table\n",
    "\n",
    "#### Data Query Language \n",
    "- Used to retrieve data and tables\n",
    "\n",
    "#### Data Control Language\n",
    "- Control access for table and schema\n",
    "- Like Revoke,Grant\n",
    "\n",
    "#### Transaction Control Language\n",
    "- Used for handling transactions/ activities in multi user environment\n",
    "- Commit, RollBack\n",
    "\n"
   ]
  },
  {
   "attachments": {},
   "cell_type": "markdown",
   "metadata": {},
   "source": [
    "### DDL Commands\n",
    "\n",
    "- **CREATE**: Create any database with different objects such as tables,views etc\n",
    "- **ALTER**: To modify structure of present database and tables\n",
    "    - ADD, MODIFY\n",
    "- **DROP**: To remove/delete the database objects\n",
    "- **TRUNCATE**: To delete all data rows from the database, Note: Here structure remains while in DELETE, whole table is deleted\n",
    "- **RENAME**: Allow renaming any Database objects\n",
    "\n",
    "### DML Commands\n",
    "\n",
    "- **INSERT**: To insert or add new rows or records in existing table\n",
    "- **UPDATE**: To change the existing data of the column\n",
    "- **DELETE**: To delete rows of the table on the basis of specific condition\n",
    "\n",
    "### Data Types\n",
    "\n",
    "#### Numerical\n",
    "\n",
    "|Datatype|Minimum Size|Maximum Size|\n",
    "|---|---|---|\n",
    "|bit|0|1|\n",
    "|tinyint|0|255|\n",
    "|smallint|-32768|32767|\n",
    "|mediumint|-8388608|8388607|\n",
    "|int|-2,147,483,648|2,147,483,647|\n",
    "|bigint|-V.Large|V.Large|\n",
    "|decimal|-10^38+1|10^38-1|\n",
    "|float|-1.79e308|1.79e308|\n",
    "\n",
    "#### String\n",
    "\n",
    "#### Date Time\n",
    "\n",
    "\n",
    " "
   ]
  },
  {
   "attachments": {},
   "cell_type": "markdown",
   "metadata": {},
   "source": [
    "### Keys & Constraints\n",
    "\n",
    "- **NOT NULL**: Ensures column have no null value\n",
    "- **UNIQUE**: Ensures all values in column are different\n",
    "- **PRIMARY KEY**: A comination of NOT NULL & UNIQUE, Uniquelyy identifies each row in a column\n",
    "- **FOREIGN KEY**: Prevents actions that will destroy link between tables, prevent entering invalid data\n",
    "- **CHECK**: Ensures that value in column satisfies a specific condition\n",
    "- **DEFAULT**: Sets a default value for column if no value specified\n",
    "- **INDEX**:  Used to create and retrieve data from database quickly"
   ]
  }
 ],
 "metadata": {
  "kernelspec": {
   "display_name": "base",
   "language": "python",
   "name": "python3"
  },
  "language_info": {
   "codemirror_mode": {
    "name": "ipython",
    "version": 3
   },
   "file_extension": ".py",
   "mimetype": "text/x-python",
   "name": "python",
   "nbconvert_exporter": "python",
   "pygments_lexer": "ipython3",
   "version": "3.9.15"
  },
  "orig_nbformat": 4,
  "vscode": {
   "interpreter": {
    "hash": "757053eaf0655596af139d123df37fb4079df03a43161b6a79909863304398bf"
   }
  }
 },
 "nbformat": 4,
 "nbformat_minor": 2
}
