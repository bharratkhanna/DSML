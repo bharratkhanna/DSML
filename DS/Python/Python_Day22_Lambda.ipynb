{
 "cells": [
  {
   "cell_type": "markdown",
   "metadata": {},
   "source": [
    "### Lambda "
   ]
  },
  {
   "cell_type": "code",
   "execution_count": null,
   "metadata": {},
   "outputs": [],
   "source": [
    "# Lambda-It is a short function. It is called nameless function. It is created using Lambda keyword\n",
    "# Syntax\n",
    "# function name = Lambda var : expression\n",
    "# We can multiple variables but we can onLy one expression\n",
    "# Lambda var1, var2, var3.... : expression\n"
   ]
  },
  {
   "cell_type": "code",
   "execution_count": 1,
   "metadata": {},
   "outputs": [],
   "source": [
    "#find the square of number using lambda function"
   ]
  },
  {
   "cell_type": "code",
   "execution_count": 1,
   "metadata": {},
   "outputs": [],
   "source": [
    "square = lambda x: x**2"
   ]
  },
  {
   "cell_type": "code",
   "execution_count": 2,
   "metadata": {},
   "outputs": [
    {
     "data": {
      "text/plain": [
       "25"
      ]
     },
     "execution_count": 2,
     "metadata": {},
     "output_type": "execute_result"
    }
   ],
   "source": [
    "square(5)"
   ]
  },
  {
   "cell_type": "code",
   "execution_count": 3,
   "metadata": {},
   "outputs": [
    {
     "data": {
      "text/plain": [
       "168"
      ]
     },
     "execution_count": 3,
     "metadata": {},
     "output_type": "execute_result"
    }
   ],
   "source": [
    "add = lambda x1,x2,x3 : x1 + x2 + x3\n",
    "add(34,56,78)"
   ]
  },
  {
   "cell_type": "code",
   "execution_count": 4,
   "metadata": {},
   "outputs": [
    {
     "data": {
      "text/plain": [
       "1000.0"
      ]
     },
     "execution_count": 4,
     "metadata": {},
     "output_type": "execute_result"
    }
   ],
   "source": [
    "si = lambda p,r,t : (p*r*t)/100\n",
    "si(1000,10,10)"
   ]
  },
  {
   "cell_type": "code",
   "execution_count": 5,
   "metadata": {},
   "outputs": [
    {
     "data": {
      "text/plain": [
       "15"
      ]
     },
     "execution_count": 5,
     "metadata": {},
     "output_type": "execute_result"
    }
   ],
   "source": [
    "#import numpy as np   #install numpy for this to work\n",
    "total = lambda *num : sum(num)\n",
    "total(1,2,3,4,5)"
   ]
  },
  {
   "cell_type": "code",
   "execution_count": 6,
   "metadata": {},
   "outputs": [
    {
     "name": "stdout",
     "output_type": "stream",
     "text": [
      "Odd Number\n"
     ]
    }
   ],
   "source": [
    "# Find if number is odd or even using lambda function\n",
    "\n",
    "oddeven =  lambda x : print(\"Even Number\") if x % 2 == 0 else print(\"Odd Number\")\n",
    "oddeven(5)"
   ]
  },
  {
   "cell_type": "code",
   "execution_count": 7,
   "metadata": {},
   "outputs": [
    {
     "name": "stdout",
     "output_type": "stream",
     "text": [
      "It is divisible by both 3 & 5\n"
     ]
    }
   ],
   "source": [
    "# Find if number is divisible by 3 & 5 using lambda function\n",
    "\n",
    "divisibility_check = lambda x : print(\"It is divisible by both 3 & 5\") if x % 3 == 0 and x % 5 == 0 else print(\"It is not divisible by both 3 & 5\")\n",
    "divisibility_check(15)"
   ]
  },
  {
   "cell_type": "markdown",
   "metadata": {},
   "source": [
    "### Filter"
   ]
  },
  {
   "cell_type": "code",
   "execution_count": 16,
   "metadata": {},
   "outputs": [],
   "source": [
    "#filter ()\n",
    "# 2 arguments - first one is function & 2nd is argument is list/tuple\n",
    "# works like filter in excel stores valuue in list with a filter of condition applied"
   ]
  },
  {
   "cell_type": "code",
   "execution_count": 8,
   "metadata": {},
   "outputs": [],
   "source": [
    "myList = [12,14,17,21,34,45]\n",
    "\n",
    "even = filter(lambda x: x % 2 == 0, myList)\n",
    "odd = filter(lambda x: x % 2 != 0, myList)"
   ]
  },
  {
   "cell_type": "code",
   "execution_count": 9,
   "metadata": {},
   "outputs": [
    {
     "name": "stdout",
     "output_type": "stream",
     "text": [
      "<filter object at 0x7fcdfc29e850>\n",
      "[12, 14, 34]\n"
     ]
    }
   ],
   "source": [
    "print(even) #Shares location instead of values\n",
    "print(list(even)) #To convert it use typecasting to cast it into a list"
   ]
  },
  {
   "cell_type": "code",
   "execution_count": 10,
   "metadata": {},
   "outputs": [
    {
     "name": "stdout",
     "output_type": "stream",
     "text": [
      "['Apple', 'Banana', 'Orange']\n"
     ]
    }
   ],
   "source": [
    "myList1 = [12,45,67, \"Apple\",\"Banana\",59,\"Orange\"]\n",
    "string = filter(lambda x: type(x) is str, myList1)\n",
    "print(list(string))"
   ]
  }
 ],
 "metadata": {
  "kernelspec": {
   "display_name": "Python 3 (ipykernel)",
   "language": "python",
   "name": "python3"
  },
  "language_info": {
   "codemirror_mode": {
    "name": "ipython",
    "version": 3
   },
   "file_extension": ".py",
   "mimetype": "text/x-python",
   "name": "python",
   "nbconvert_exporter": "python",
   "pygments_lexer": "ipython3",
   "version": "3.9.12"
  },
  "vscode": {
   "interpreter": {
    "hash": "757053eaf0655596af139d123df37fb4079df03a43161b6a79909863304398bf"
   }
  }
 },
 "nbformat": 4,
 "nbformat_minor": 2
}
