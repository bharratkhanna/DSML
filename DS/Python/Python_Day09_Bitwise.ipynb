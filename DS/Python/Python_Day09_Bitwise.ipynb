{
 "cells": [
  {
   "cell_type": "markdown",
   "id": "1bab3257",
   "metadata": {},
   "source": [
    "## Bitwise Operator"
   ]
  },
  {
   "cell_type": "code",
   "execution_count": 1,
   "id": "fa73375d",
   "metadata": {},
   "outputs": [],
   "source": [
    "# Bitwise Operator\n",
    "# & (and), | (or), ^ (xor), ~ (not), << (left shift), >> (right shift)"
   ]
  },
  {
   "cell_type": "code",
   "execution_count": 2,
   "id": "b9ebc9a3",
   "metadata": {},
   "outputs": [],
   "source": [
    "# & (and)\n",
    "# input 1  input 2    output\n",
    "# 0          0          0\n",
    "# 0          1          0\n",
    "# 1          0          0\n",
    "# 1          1          1\n",
    "\n",
    "# If both inputs are 1 then output is 1 otherwise 0"
   ]
  },
  {
   "cell_type": "code",
   "execution_count": 9,
   "id": "4497d3c8",
   "metadata": {},
   "outputs": [
    {
     "name": "stdout",
     "output_type": "stream",
     "text": [
      "0b11\n"
     ]
    }
   ],
   "source": [
    "print(bin(3))"
   ]
  },
  {
   "cell_type": "code",
   "execution_count": 10,
   "id": "1405b80c",
   "metadata": {},
   "outputs": [
    {
     "data": {
      "text/plain": [
       "'0b100'"
      ]
     },
     "execution_count": 10,
     "metadata": {},
     "output_type": "execute_result"
    }
   ],
   "source": [
    "bin(4)"
   ]
  },
  {
   "cell_type": "code",
   "execution_count": 12,
   "id": "245f5918",
   "metadata": {},
   "outputs": [
    {
     "data": {
      "text/plain": [
       "9"
      ]
     },
     "execution_count": 12,
     "metadata": {},
     "output_type": "execute_result"
    }
   ],
   "source": [
    "13 & 25"
   ]
  },
  {
   "cell_type": "code",
   "execution_count": 14,
   "id": "32b840ed",
   "metadata": {},
   "outputs": [
    {
     "data": {
      "text/plain": [
       "16"
      ]
     },
     "execution_count": 14,
     "metadata": {},
     "output_type": "execute_result"
    }
   ],
   "source": [
    "16 & 22"
   ]
  },
  {
   "cell_type": "code",
   "execution_count": 15,
   "id": "a278ac83",
   "metadata": {},
   "outputs": [],
   "source": [
    "# | (or)\n",
    "# input 1  input 2    output\n",
    "# 0          0          0\n",
    "# 0          1          1\n",
    "# 1          0          1\n",
    "# 1          1          1\n",
    "\n",
    "# If both inputs are 0 then output is 0 otherwise 1"
   ]
  },
  {
   "cell_type": "code",
   "execution_count": 18,
   "id": "bf47e303",
   "metadata": {},
   "outputs": [
    {
     "data": {
      "text/plain": [
       "25"
      ]
     },
     "execution_count": 18,
     "metadata": {},
     "output_type": "execute_result"
    }
   ],
   "source": [
    "16 | 25"
   ]
  },
  {
   "cell_type": "code",
   "execution_count": 20,
   "id": "6ea3fc19",
   "metadata": {},
   "outputs": [
    {
     "data": {
      "text/plain": [
       "31"
      ]
     },
     "execution_count": 20,
     "metadata": {},
     "output_type": "execute_result"
    }
   ],
   "source": [
    "13 | 27"
   ]
  },
  {
   "cell_type": "code",
   "execution_count": 21,
   "id": "92b6effb",
   "metadata": {},
   "outputs": [],
   "source": [
    "# ^ (xor)\n",
    "# input 1  input 2    output\n",
    "# 0          0          0\n",
    "# 0          1          1\n",
    "# 1          0          1\n",
    "# 1          1          0\n",
    "\n",
    "# Same inputs are 0 otherwise 1"
   ]
  },
  {
   "cell_type": "code",
   "execution_count": 23,
   "id": "d520fbbe",
   "metadata": {},
   "outputs": [
    {
     "data": {
      "text/plain": [
       "22"
      ]
     },
     "execution_count": 23,
     "metadata": {},
     "output_type": "execute_result"
    }
   ],
   "source": [
    "13 ^ 27"
   ]
  },
  {
   "cell_type": "code",
   "execution_count": 24,
   "id": "906c247b",
   "metadata": {},
   "outputs": [],
   "source": [
    "# ~ (not )\n",
    "# ~x = -(x+1)"
   ]
  },
  {
   "cell_type": "code",
   "execution_count": 34,
   "id": "f7daa3c0",
   "metadata": {},
   "outputs": [
    {
     "data": {
      "text/plain": [
       "-14"
      ]
     },
     "execution_count": 34,
     "metadata": {},
     "output_type": "execute_result"
    }
   ],
   "source": [
    "~13"
   ]
  },
  {
   "cell_type": "code",
   "execution_count": 35,
   "id": "9670f814",
   "metadata": {},
   "outputs": [
    {
     "data": {
      "text/plain": [
       "'0b1101'"
      ]
     },
     "execution_count": 35,
     "metadata": {},
     "output_type": "execute_result"
    }
   ],
   "source": [
    "bin(13)"
   ]
  },
  {
   "cell_type": "code",
   "execution_count": 37,
   "id": "c552f938",
   "metadata": {},
   "outputs": [
    {
     "data": {
      "text/plain": [
       "'-0b1110'"
      ]
     },
     "execution_count": 37,
     "metadata": {},
     "output_type": "execute_result"
    }
   ],
   "source": [
    "bin(~13)"
   ]
  },
  {
   "cell_type": "code",
   "execution_count": 41,
   "id": "7fd2f2c4",
   "metadata": {},
   "outputs": [
    {
     "data": {
      "text/plain": [
       "-157"
      ]
     },
     "execution_count": 41,
     "metadata": {},
     "output_type": "execute_result"
    }
   ],
   "source": [
    "~156"
   ]
  },
  {
   "cell_type": "code",
   "execution_count": null,
   "id": "8b6d1703",
   "metadata": {},
   "outputs": [],
   "source": []
  },
  {
   "cell_type": "code",
   "execution_count": 26,
   "id": "17eeb1e5",
   "metadata": {},
   "outputs": [],
   "source": [
    "#>> right shift operator \n",
    "# quotient of this division => first number/ (2 to the power of 2nd number)"
   ]
  },
  {
   "cell_type": "code",
   "execution_count": 1,
   "id": "58d467f4",
   "metadata": {},
   "outputs": [
    {
     "data": {
      "text/plain": [
       "2"
      ]
     },
     "execution_count": 1,
     "metadata": {},
     "output_type": "execute_result"
    }
   ],
   "source": [
    "5 >> 1"
   ]
  },
  {
   "cell_type": "code",
   "execution_count": 2,
   "id": "071fd02f",
   "metadata": {},
   "outputs": [
    {
     "data": {
      "text/plain": [
       "6"
      ]
     },
     "execution_count": 2,
     "metadata": {},
     "output_type": "execute_result"
    }
   ],
   "source": [
    "13>>1"
   ]
  },
  {
   "cell_type": "code",
   "execution_count": 32,
   "id": "a0f13683",
   "metadata": {},
   "outputs": [],
   "source": [
    "# left shift operator \n",
    "# Output => first number * (2 to the power 2nd number)"
   ]
  },
  {
   "cell_type": "code",
   "execution_count": 3,
   "id": "92459b0a",
   "metadata": {},
   "outputs": [
    {
     "data": {
      "text/plain": [
       "10"
      ]
     },
     "execution_count": 3,
     "metadata": {},
     "output_type": "execute_result"
    }
   ],
   "source": [
    "5<<1"
   ]
  },
  {
   "cell_type": "code",
   "execution_count": 4,
   "id": "795379c5",
   "metadata": {},
   "outputs": [
    {
     "data": {
      "text/plain": [
       "26"
      ]
     },
     "execution_count": 4,
     "metadata": {},
     "output_type": "execute_result"
    }
   ],
   "source": [
    "13<<1"
   ]
  }
 ],
 "metadata": {
  "kernelspec": {
   "display_name": "Python 3 (ipykernel)",
   "language": "python",
   "name": "python3"
  },
  "language_info": {
   "codemirror_mode": {
    "name": "ipython",
    "version": 3
   },
   "file_extension": ".py",
   "mimetype": "text/x-python",
   "name": "python",
   "nbconvert_exporter": "python",
   "pygments_lexer": "ipython3",
   "version": "3.9.12"
  },
  "varInspector": {
   "cols": {
    "lenName": 16,
    "lenType": 16,
    "lenVar": 40
   },
   "kernels_config": {
    "python": {
     "delete_cmd_postfix": "",
     "delete_cmd_prefix": "del ",
     "library": "var_list.py",
     "varRefreshCmd": "print(var_dic_list())"
    },
    "r": {
     "delete_cmd_postfix": ") ",
     "delete_cmd_prefix": "rm(",
     "library": "var_list.r",
     "varRefreshCmd": "cat(var_dic_list()) "
    }
   },
   "types_to_exclude": [
    "module",
    "function",
    "builtin_function_or_method",
    "instance",
    "_Feature"
   ],
   "window_display": false
  }
 },
 "nbformat": 4,
 "nbformat_minor": 5
}
