{
 "cells": [
  {
   "cell_type": "markdown",
   "id": "77b924c2",
   "metadata": {},
   "source": [
    "## Membership Operator"
   ]
  },
  {
   "cell_type": "code",
   "execution_count": 1,
   "id": "9a316931",
   "metadata": {},
   "outputs": [],
   "source": [
    "#in, not in \n",
    "#checks whether specified character is in string or not"
   ]
  },
  {
   "cell_type": "code",
   "execution_count": 2,
   "id": "960c362c",
   "metadata": {},
   "outputs": [
    {
     "data": {
      "text/plain": [
       "True"
      ]
     },
     "execution_count": 2,
     "metadata": {},
     "output_type": "execute_result"
    }
   ],
   "source": [
    "'o' in 'Motivational'"
   ]
  },
  {
   "cell_type": "code",
   "execution_count": 4,
   "id": "a849409f",
   "metadata": {},
   "outputs": [
    {
     "ename": "TypeError",
     "evalue": "argument of type 'int' is not iterable",
     "output_type": "error",
     "traceback": [
      "\u001b[0;31m---------------------------------------------------------------------------\u001b[0m",
      "\u001b[0;31mTypeError\u001b[0m                                 Traceback (most recent call last)",
      "Input \u001b[0;32mIn [4]\u001b[0m, in \u001b[0;36m<cell line: 1>\u001b[0;34m()\u001b[0m\n\u001b[0;32m----> 1\u001b[0m \u001b[38;5;241;43m1\u001b[39;49m\u001b[43m \u001b[49m\u001b[38;5;129;43;01min\u001b[39;49;00m\u001b[43m \u001b[49m\u001b[38;5;241;43m123\u001b[39;49m\n",
      "\u001b[0;31mTypeError\u001b[0m: argument of type 'int' is not iterable"
     ]
    }
   ],
   "source": [
    "1 in 123 \n",
    "#error because it is not iterable, means it is stored as a single value in memory ram not characterised like string."
   ]
  },
  {
   "cell_type": "code",
   "execution_count": 7,
   "id": "8dbaae17",
   "metadata": {},
   "outputs": [
    {
     "data": {
      "text/plain": [
       "True"
      ]
     },
     "execution_count": 7,
     "metadata": {},
     "output_type": "execute_result"
    }
   ],
   "source": [
    "1 in [123,3,4,6,23,1]"
   ]
  },
  {
   "cell_type": "code",
   "execution_count": 9,
   "id": "7f31192b",
   "metadata": {},
   "outputs": [
    {
     "data": {
      "text/plain": [
       "False"
      ]
     },
     "execution_count": 9,
     "metadata": {},
     "output_type": "execute_result"
    }
   ],
   "source": [
    "'m' in 'aeiou'"
   ]
  },
  {
   "cell_type": "code",
   "execution_count": 11,
   "id": "076fc829",
   "metadata": {},
   "outputs": [],
   "source": [
    "#not in"
   ]
  },
  {
   "cell_type": "code",
   "execution_count": 12,
   "id": "1e4431d4",
   "metadata": {},
   "outputs": [
    {
     "data": {
      "text/plain": [
       "True"
      ]
     },
     "execution_count": 12,
     "metadata": {},
     "output_type": "execute_result"
    }
   ],
   "source": [
    "'m' not in 'aeiou'"
   ]
  },
  {
   "cell_type": "markdown",
   "id": "10a8e479",
   "metadata": {},
   "source": [
    "## Identity Operator"
   ]
  },
  {
   "cell_type": "code",
   "execution_count": 14,
   "id": "8a848ba2",
   "metadata": {},
   "outputs": [],
   "source": [
    "#is (==), is not(!=)\n",
    "# Is is not used to compare scaler values but gives warning in values\n",
    "# This compares memory location"
   ]
  },
  {
   "cell_type": "code",
   "execution_count": 1,
   "id": "0d41f731",
   "metadata": {},
   "outputs": [
    {
     "data": {
      "text/plain": [
       "False"
      ]
     },
     "execution_count": 1,
     "metadata": {},
     "output_type": "execute_result"
    }
   ],
   "source": [
    "'a' == 'A'"
   ]
  },
  {
   "cell_type": "code",
   "execution_count": 4,
   "id": "f9248595",
   "metadata": {},
   "outputs": [
    {
     "name": "stderr",
     "output_type": "stream",
     "text": [
      "<>:1: SyntaxWarning: \"is\" with a literal. Did you mean \"==\"?\n",
      "<>:1: SyntaxWarning: \"is\" with a literal. Did you mean \"==\"?\n",
      "/var/folders/02/f5skj5z55bq9x80_5h41bs1r0000gn/T/ipykernel_92926/4112465208.py:1: SyntaxWarning: \"is\" with a literal. Did you mean \"==\"?\n",
      "  'a' is 'a'\n"
     ]
    },
    {
     "data": {
      "text/plain": [
       "True"
      ]
     },
     "execution_count": 4,
     "metadata": {},
     "output_type": "execute_result"
    }
   ],
   "source": [
    "'a' is 'a'"
   ]
  },
  {
   "cell_type": "code",
   "execution_count": 17,
   "id": "2e741cf7",
   "metadata": {},
   "outputs": [
    {
     "name": "stderr",
     "output_type": "stream",
     "text": [
      "<>:1: SyntaxWarning: \"is\" with a literal. Did you mean \"==\"?\n",
      "<>:1: SyntaxWarning: \"is\" with a literal. Did you mean \"==\"?\n",
      "/var/folders/02/f5skj5z55bq9x80_5h41bs1r0000gn/T/ipykernel_38666/239054781.py:1: SyntaxWarning: \"is\" with a literal. Did you mean \"==\"?\n",
      "  'a' is 'A'\n"
     ]
    },
    {
     "data": {
      "text/plain": [
       "False"
      ]
     },
     "execution_count": 17,
     "metadata": {},
     "output_type": "execute_result"
    }
   ],
   "source": [
    "'a' is 'A' #shows warning not error"
   ]
  },
  {
   "cell_type": "code",
   "execution_count": 19,
   "id": "8911a8d8",
   "metadata": {},
   "outputs": [
    {
     "name": "stderr",
     "output_type": "stream",
     "text": [
      "<>:1: SyntaxWarning: \"is not\" with a literal. Did you mean \"!=\"?\n",
      "<>:1: SyntaxWarning: \"is not\" with a literal. Did you mean \"!=\"?\n",
      "/var/folders/02/f5skj5z55bq9x80_5h41bs1r0000gn/T/ipykernel_38666/2231232904.py:1: SyntaxWarning: \"is not\" with a literal. Did you mean \"!=\"?\n",
      "  2 is not 3\n"
     ]
    },
    {
     "data": {
      "text/plain": [
       "True"
      ]
     },
     "execution_count": 19,
     "metadata": {},
     "output_type": "execute_result"
    }
   ],
   "source": [
    "2 is not 3 #samme as above"
   ]
  },
  {
   "cell_type": "code",
   "execution_count": 21,
   "id": "62da73fc",
   "metadata": {},
   "outputs": [
    {
     "data": {
      "text/plain": [
       "True"
      ]
     },
     "execution_count": 21,
     "metadata": {},
     "output_type": "execute_result"
    }
   ],
   "source": [
    "2 != 3"
   ]
  },
  {
   "cell_type": "code",
   "execution_count": 1,
   "id": "82f23fb4",
   "metadata": {},
   "outputs": [],
   "source": [
    "#id - Used to find memory location"
   ]
  },
  {
   "cell_type": "code",
   "execution_count": 16,
   "id": "f740079c",
   "metadata": {},
   "outputs": [
    {
     "name": "stdout",
     "output_type": "stream",
     "text": [
      "X memory Location:  140284294994352\n",
      "Y memory Location:  140284294994352\n"
     ]
    }
   ],
   "source": [
    "x = 5\n",
    "y = 5\n",
    "\n",
    "print(\"X memory Location: \", id(x))\n",
    "print(\"Y memory Location: \", id(y))"
   ]
  },
  {
   "cell_type": "code",
   "execution_count": 12,
   "id": "692bf4ea",
   "metadata": {},
   "outputs": [
    {
     "data": {
      "text/plain": [
       "True"
      ]
     },
     "execution_count": 12,
     "metadata": {},
     "output_type": "execute_result"
    }
   ],
   "source": [
    "x is y"
   ]
  },
  {
   "cell_type": "code",
   "execution_count": 18,
   "id": "a3218790",
   "metadata": {},
   "outputs": [
    {
     "name": "stdout",
     "output_type": "stream",
     "text": [
      "X memory Location:  140284294994352\n",
      "Y memory Location:  140284294994384\n"
     ]
    }
   ],
   "source": [
    "x = 5\n",
    "y = 6\n",
    "\n",
    "print(\"X memory Location: \", id(x))\n",
    "print(\"Y memory Location: \", id(y))"
   ]
  },
  {
   "cell_type": "code",
   "execution_count": 19,
   "id": "b1cafa3d",
   "metadata": {},
   "outputs": [],
   "source": [
    "#for memory management, it points value to same value, already reserved"
   ]
  },
  {
   "cell_type": "code",
   "execution_count": 20,
   "id": "e441059b",
   "metadata": {},
   "outputs": [
    {
     "name": "stdout",
     "output_type": "stream",
     "text": [
      "X memory Location:  140284294994352\n"
     ]
    }
   ],
   "source": [
    "x = 5\n",
    "print(\"X memory Location: \", id(x))"
   ]
  },
  {
   "cell_type": "code",
   "execution_count": 21,
   "id": "7919e4bf",
   "metadata": {},
   "outputs": [
    {
     "name": "stdout",
     "output_type": "stream",
     "text": [
      "Y memory Location:  140284294994352\n"
     ]
    }
   ],
   "source": [
    "y = 5\n",
    "print(\"Y memory Location: \", id(y)) #Memory management"
   ]
  }
 ],
 "metadata": {
  "kernelspec": {
   "display_name": "Python 3 (ipykernel)",
   "language": "python",
   "name": "python3"
  },
  "language_info": {
   "codemirror_mode": {
    "name": "ipython",
    "version": 3
   },
   "file_extension": ".py",
   "mimetype": "text/x-python",
   "name": "python",
   "nbconvert_exporter": "python",
   "pygments_lexer": "ipython3",
   "version": "3.9.12"
  },
  "varInspector": {
   "cols": {
    "lenName": 16,
    "lenType": 16,
    "lenVar": 40
   },
   "kernels_config": {
    "python": {
     "delete_cmd_postfix": "",
     "delete_cmd_prefix": "del ",
     "library": "var_list.py",
     "varRefreshCmd": "print(var_dic_list())"
    },
    "r": {
     "delete_cmd_postfix": ") ",
     "delete_cmd_prefix": "rm(",
     "library": "var_list.r",
     "varRefreshCmd": "cat(var_dic_list()) "
    }
   },
   "types_to_exclude": [
    "module",
    "function",
    "builtin_function_or_method",
    "instance",
    "_Feature"
   ],
   "window_display": false
  }
 },
 "nbformat": 4,
 "nbformat_minor": 5
}
