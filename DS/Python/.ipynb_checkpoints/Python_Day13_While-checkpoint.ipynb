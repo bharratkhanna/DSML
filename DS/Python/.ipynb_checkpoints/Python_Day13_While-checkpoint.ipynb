{
 "cells": [
  {
   "cell_type": "code",
   "execution_count": 2,
   "id": "b9479af2",
   "metadata": {},
   "outputs": [],
   "source": [
    "#find factorial"
   ]
  },
  {
   "cell_type": "code",
   "execution_count": 19,
   "id": "dd9f27ac",
   "metadata": {},
   "outputs": [
    {
     "name": "stdout",
     "output_type": "stream",
     "text": [
      "Enter number: 56\n",
      "Factorial of 56 is  710998587804863451854045647463724949736497978881168458687447040000000000000\n"
     ]
    }
   ],
   "source": [
    "factorial = 1\n",
    "num = int(input(\"Enter number: \"))\n",
    "for i in range(1,num + 1):\n",
    "    factorial = factorial * i\n",
    "\n",
    "print(\"Factorial of\",num,\"is \",factorial)"
   ]
  },
  {
   "cell_type": "markdown",
   "id": "37a68e15",
   "metadata": {},
   "source": [
    "### While loop"
   ]
  },
  {
   "cell_type": "code",
   "execution_count": 8,
   "id": "6bffd737",
   "metadata": {},
   "outputs": [
    {
     "data": {
      "text/plain": [
       "'\\nwhile(condition):\\n    Expression\\n'"
      ]
     },
     "execution_count": 8,
     "metadata": {},
     "output_type": "execute_result"
    }
   ],
   "source": [
    "# While loop Syntax\n",
    "\"\"\"\n",
    "while(condition):\n",
    "    Expression\n",
    "\"\"\""
   ]
  },
  {
   "cell_type": "code",
   "execution_count": 10,
   "id": "9fbc9ea9",
   "metadata": {},
   "outputs": [
    {
     "name": "stdout",
     "output_type": "stream",
     "text": [
      "1\n",
      "2\n",
      "3\n",
      "4\n",
      "5\n",
      "6\n",
      "7\n",
      "8\n",
      "9\n",
      "10\n"
     ]
    }
   ],
   "source": [
    "#Display numbers from 1 to 10 using while loop\n",
    "i = 1\n",
    "while(i<11):\n",
    "    print(i)\n",
    "    i = i + 1"
   ]
  },
  {
   "cell_type": "code",
   "execution_count": 20,
   "id": "ded9bb0b",
   "metadata": {},
   "outputs": [
    {
     "name": "stdout",
     "output_type": "stream",
     "text": [
      "10\n",
      "9\n",
      "8\n",
      "7\n",
      "6\n",
      "5\n",
      "4\n",
      "3\n",
      "2\n",
      "1\n"
     ]
    }
   ],
   "source": [
    "#Display numbers from 10 to 1 using while loop\n",
    "i = 10\n",
    "while(i>0):\n",
    "    print(i)\n",
    "    i = i - 1"
   ]
  },
  {
   "cell_type": "code",
   "execution_count": 24,
   "id": "91d1a3fb",
   "metadata": {},
   "outputs": [
    {
     "name": "stdout",
     "output_type": "stream",
     "text": [
      "Odd number is 1\n",
      "Odd number is 3\n",
      "Odd number is 5\n",
      "Odd number is 7\n",
      "Odd number is 9\n",
      "Odd number is 11\n",
      "Odd number is 13\n",
      "Odd number is 15\n",
      "Odd number is 17\n",
      "Odd number is 19\n",
      "Odd number is 21\n",
      "Odd number is 23\n",
      "Odd number is 25\n",
      "Odd number is 27\n",
      "Odd number is 29\n",
      "Odd number is 31\n",
      "Odd number is 33\n",
      "Odd number is 35\n",
      "Odd number is 37\n",
      "Odd number is 39\n",
      "Odd number is 41\n",
      "Odd number is 43\n",
      "Odd number is 45\n",
      "Odd number is 47\n",
      "Odd number is 49\n"
     ]
    }
   ],
   "source": [
    "#fast method for odd numbers\n",
    "i = 1\n",
    "while(i < 51):\n",
    "    print(\"Odd number is\",i)\n",
    "    i = i + 2"
   ]
  },
  {
   "cell_type": "code",
   "execution_count": 27,
   "id": "adcb398e",
   "metadata": {},
   "outputs": [
    {
     "name": "stdout",
     "output_type": "stream",
     "text": [
      "Odd number is 1\n",
      "Odd number is 3\n",
      "Odd number is 5\n",
      "Odd number is 7\n",
      "Odd number is 9\n",
      "Odd number is 11\n",
      "Odd number is 13\n",
      "Odd number is 15\n",
      "Odd number is 17\n",
      "Odd number is 19\n",
      "Odd number is 21\n",
      "Odd number is 23\n",
      "Odd number is 25\n",
      "Odd number is 27\n",
      "Odd number is 29\n",
      "Odd number is 31\n",
      "Odd number is 33\n",
      "Odd number is 35\n",
      "Odd number is 37\n",
      "Odd number is 39\n",
      "Odd number is 41\n",
      "Odd number is 43\n",
      "Odd number is 45\n",
      "Odd number is 47\n",
      "Odd number is 49\n"
     ]
    }
   ],
   "source": [
    "#standard method for odd numbers\n",
    "i = 1\n",
    "while(i < 51):\n",
    "    if i % 2 != 0:\n",
    "        print(\"Odd number is\",i)\n",
    "    i = i + 1"
   ]
  },
  {
   "cell_type": "code",
   "execution_count": 32,
   "id": "168beecc",
   "metadata": {},
   "outputs": [
    {
     "name": "stdout",
     "output_type": "stream",
     "text": [
      "Enter number whose table you want to calculate: 7\n",
      "7 X 1 = 7\n",
      "7 X 2 = 14\n",
      "7 X 3 = 21\n",
      "7 X 4 = 28\n",
      "7 X 5 = 35\n",
      "7 X 6 = 42\n",
      "7 X 7 = 49\n",
      "7 X 8 = 56\n",
      "7 X 9 = 63\n",
      "7 X 10 = 70\n"
     ]
    }
   ],
   "source": [
    "#Display the table of number inputed by user from 1 to 10\n",
    "table_of = int(input(\"Enter number whose table you want to calculate: \"))\n",
    "i = 1\n",
    "while (i < 11):\n",
    "    print(table_of,\"X\",i,\"=\", table_of * i)\n",
    "    i = i + 1"
   ]
  },
  {
   "cell_type": "code",
   "execution_count": 1,
   "id": "100f702b",
   "metadata": {},
   "outputs": [
    {
     "name": "stdout",
     "output_type": "stream",
     "text": [
      "Enter number: 34\n",
      "Sum of numbers till 34 is 595\n"
     ]
    }
   ],
   "source": [
    "#Display the sum of first n numbers\n",
    "num = int(input(\"Enter number: \"))\n",
    "i = 0\n",
    "total = 0\n",
    "while i <= num:\n",
    "    total = total + i\n",
    "    i = i + 1\n",
    "    \n",
    "print(\"Sum of numbers till\",num, \"is\", total)"
   ]
  }
 ],
 "metadata": {
  "kernelspec": {
   "display_name": "Python 3 (ipykernel)",
   "language": "python",
   "name": "python3"
  },
  "language_info": {
   "codemirror_mode": {
    "name": "ipython",
    "version": 3
   },
   "file_extension": ".py",
   "mimetype": "text/x-python",
   "name": "python",
   "nbconvert_exporter": "python",
   "pygments_lexer": "ipython3",
   "version": "3.9.12"
  }
 },
 "nbformat": 4,
 "nbformat_minor": 5
}
