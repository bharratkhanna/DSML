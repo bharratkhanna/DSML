{
 "cells": [
  {
   "cell_type": "markdown",
   "id": "8e30e03e",
   "metadata": {},
   "source": [
    "### Break statement"
   ]
  },
  {
   "cell_type": "code",
   "execution_count": 1,
   "id": "d5293dd1",
   "metadata": {},
   "outputs": [],
   "source": [
    "# break - used to terminate the loop"
   ]
  },
  {
   "cell_type": "code",
   "execution_count": 4,
   "id": "e786fd85",
   "metadata": {},
   "outputs": [
    {
     "name": "stdout",
     "output_type": "stream",
     "text": [
      "A\n",
      "p\n",
      "p\n",
      "o\n",
      "i\n"
     ]
    }
   ],
   "source": [
    "word = 'Appointment'\n",
    "for letter in word:\n",
    "    print(letter)\n",
    "    if letter == 'i':\n",
    "        break"
   ]
  },
  {
   "cell_type": "code",
   "execution_count": 14,
   "id": "e52bb0c6",
   "metadata": {},
   "outputs": [
    {
     "name": "stdout",
     "output_type": "stream",
     "text": [
      "17 is a prime number\n",
      "19 is a prime number\n",
      "23 is a prime number\n",
      "29 is a prime number\n",
      "31 is a prime number\n",
      "37 is a prime number\n",
      "41 is a prime number\n",
      "43 is a prime number\n",
      "47 is a prime number\n",
      "53 is a prime number\n"
     ]
    }
   ],
   "source": [
    "#Display prime numbers from 15 to 55\n",
    "\n",
    "for i in range(15,56):\n",
    "    for j in range(2,i//2):\n",
    "        if i%j == 0:\n",
    "            prime = 1\n",
    "            break\n",
    "    else:\n",
    "        print(i, \"is a prime number\")\n"
   ]
  },
  {
   "cell_type": "markdown",
   "id": "1412e1b6",
   "metadata": {},
   "source": [
    "### Continue statement"
   ]
  },
  {
   "cell_type": "code",
   "execution_count": 15,
   "id": "a5e0747a",
   "metadata": {},
   "outputs": [],
   "source": [
    "#continue - The statement forces loop to continue"
   ]
  },
  {
   "cell_type": "code",
   "execution_count": 18,
   "id": "c69b9fa1",
   "metadata": {},
   "outputs": [
    {
     "name": "stdout",
     "output_type": "stream",
     "text": [
      "1\n",
      "2\n",
      "3\n",
      "4\n",
      "5\n",
      "6\n",
      "8\n",
      "9\n"
     ]
    }
   ],
   "source": [
    "for i in range(1,10):\n",
    "    if i == 7:\n",
    "        continue\n",
    "    print(i)"
   ]
  },
  {
   "cell_type": "code",
   "execution_count": 20,
   "id": "deaa5bff",
   "metadata": {},
   "outputs": [
    {
     "name": "stdout",
     "output_type": "stream",
     "text": [
      "A\n",
      "p\n",
      "p\n",
      "o\n",
      "n\n",
      "t\n",
      "m\n",
      "e\n",
      "n\n",
      "t\n"
     ]
    }
   ],
   "source": [
    "word = 'Appointment'\n",
    "for letter in word:\n",
    "    if letter == 'i':\n",
    "        continue\n",
    "    print(letter)\n"
   ]
  },
  {
   "cell_type": "markdown",
   "id": "f3fc729f",
   "metadata": {},
   "source": [
    "### Pass"
   ]
  },
  {
   "cell_type": "code",
   "execution_count": 21,
   "id": "56058a57",
   "metadata": {},
   "outputs": [],
   "source": [
    "#pass - it does nothing"
   ]
  },
  {
   "cell_type": "code",
   "execution_count": 23,
   "id": "f2bfe672",
   "metadata": {},
   "outputs": [
    {
     "name": "stdout",
     "output_type": "stream",
     "text": [
      "1\n",
      "2\n",
      "3\n",
      "4\n",
      "5\n",
      "6\n",
      "7\n",
      "8\n",
      "9\n"
     ]
    }
   ],
   "source": [
    "for i in range(1,10):\n",
    "    pass\n",
    "    print(i)"
   ]
  }
 ],
 "metadata": {
  "kernelspec": {
   "display_name": "Python 3 (ipykernel)",
   "language": "python",
   "name": "python3"
  },
  "language_info": {
   "codemirror_mode": {
    "name": "ipython",
    "version": 3
   },
   "file_extension": ".py",
   "mimetype": "text/x-python",
   "name": "python",
   "nbconvert_exporter": "python",
   "pygments_lexer": "ipython3",
   "version": "3.9.12"
  }
 },
 "nbformat": 4,
 "nbformat_minor": 5
}
