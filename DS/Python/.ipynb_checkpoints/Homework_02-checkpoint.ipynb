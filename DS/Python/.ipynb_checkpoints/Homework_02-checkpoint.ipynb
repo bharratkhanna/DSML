{
 "cells": [
  {
   "cell_type": "markdown",
   "id": "fc936fb8",
   "metadata": {},
   "source": [
    "## Homework"
   ]
  },
  {
   "cell_type": "code",
   "execution_count": 1,
   "id": "4baca26a",
   "metadata": {},
   "outputs": [
    {
     "data": {
      "text/plain": [
       "' User will input (3ages).Find the oldest one '"
      ]
     },
     "execution_count": 1,
     "metadata": {},
     "output_type": "execute_result"
    }
   ],
   "source": [
    "\"\"\" User will input (3ages).Find the oldest one \"\"\""
   ]
  },
  {
   "cell_type": "code",
   "execution_count": 12,
   "id": "5476105a",
   "metadata": {},
   "outputs": [
    {
     "name": "stdout",
     "output_type": "stream",
     "text": [
      "Enter age: 87\n",
      "Enter age: 76\n",
      "Enter age: 76\n",
      "\n",
      "Oldest age is 87\n"
     ]
    }
   ],
   "source": [
    "age_list = []\n",
    "for i in range(0,3):\n",
    "    age = int(input(\"Enter age: \"))\n",
    "    if age not in age_list:\n",
    "        age_list.append(age)\n",
    "\n",
    "age_list.sort()\n",
    "print(\"\\nOldest age is\",age_list[-1])"
   ]
  },
  {
   "cell_type": "code",
   "execution_count": 1,
   "id": "2a151923",
   "metadata": {},
   "outputs": [
    {
     "data": {
      "text/plain": [
       "'Write a program that will convert celsius value to Fahrenheit (°F) = (Celsius x 1.8) + 32'"
      ]
     },
     "execution_count": 1,
     "metadata": {},
     "output_type": "execute_result"
    }
   ],
   "source": [
    "\"\"\"Write a program that will convert celsius value to Fahrenheit (°F) = (Celsius x 1.8) + 32\"\"\""
   ]
  },
  {
   "cell_type": "code",
   "execution_count": 1,
   "id": "a9793302",
   "metadata": {},
   "outputs": [
    {
     "name": "stdout",
     "output_type": "stream",
     "text": [
      "Enter celsius: 37.7777778\n",
      "\n",
      "37.7777778 C in fahrenheit is 100.00000004 F\n"
     ]
    }
   ],
   "source": [
    "cel = float(input(\"Enter celsius: \"))\n",
    "farh = (cel * 1.8) + 32\n",
    "\n",
    "print()\n",
    "print(cel,\"C in fahrenheit is\",farh,\"F\")"
   ]
  },
  {
   "cell_type": "code",
   "execution_count": 22,
   "id": "d0bb64fa",
   "metadata": {},
   "outputs": [
    {
     "data": {
      "text/plain": [
       "'User will input (2numbers).Write a program to swap the numbers'"
      ]
     },
     "execution_count": 22,
     "metadata": {},
     "output_type": "execute_result"
    }
   ],
   "source": [
    "\"\"\"User will input (2numbers).Write a program to swap the numbers\"\"\""
   ]
  },
  {
   "cell_type": "code",
   "execution_count": 24,
   "id": "a273c4b7",
   "metadata": {},
   "outputs": [
    {
     "name": "stdout",
     "output_type": "stream",
     "text": [
      "Enter first number: 673\n",
      "Enter second number: 873\n",
      "\n",
      "First number is 873\n",
      "Second number is 673\n"
     ]
    }
   ],
   "source": [
    "a = int(input(\"Enter first number: \"))\n",
    "b = int(input(\"Enter second number: \"))\n",
    "\n",
    "b = a + b\n",
    "a = b - a\n",
    "b = b - a\n",
    "\n",
    "print(\"\\nFirst number is\", a)\n",
    "print(\"Second number is\", b)"
   ]
  },
  {
   "cell_type": "code",
   "execution_count": 26,
   "id": "33bc04c8",
   "metadata": {},
   "outputs": [
    {
     "data": {
      "text/plain": [
       "'Write a program that will give you the sum of 3 digits if user inputs a three digit no'"
      ]
     },
     "execution_count": 26,
     "metadata": {},
     "output_type": "execute_result"
    }
   ],
   "source": [
    "\"\"\"Write a program that will give you the sum of 3 digits if user inputs a three digit no\"\"\""
   ]
  },
  {
   "cell_type": "code",
   "execution_count": 40,
   "id": "770cb2f6",
   "metadata": {},
   "outputs": [
    {
     "name": "stdout",
     "output_type": "stream",
     "text": [
      "Enter number: 01234\n",
      "\n",
      "Sum of digits is 10\n"
     ]
    }
   ],
   "source": [
    "total = 0\n",
    "\n",
    "def digit(number):\n",
    "    global total\n",
    "    \n",
    "    if number > 0:\n",
    "        dig = number % 10\n",
    "        total = total + dig\n",
    "        number = number // 10\n",
    "        digit(number)\n",
    "\n",
    "    return total\n",
    "\n",
    "num = int(input(\"Enter number: \"))\n",
    "print(\"\\nSum of digits is\",digit(num))\n"
   ]
  },
  {
   "cell_type": "code",
   "execution_count": 41,
   "id": "0883295e",
   "metadata": {},
   "outputs": [
    {
     "data": {
      "text/plain": [
       "'Write a program that will tell whether the number entered by the user is odd or even. Take the input from user.'"
      ]
     },
     "execution_count": 41,
     "metadata": {},
     "output_type": "execute_result"
    }
   ],
   "source": [
    "\"\"\"Write a program that will tell whether the number entered by the user is odd or even. Take the input from user.\"\"\""
   ]
  },
  {
   "cell_type": "code",
   "execution_count": 43,
   "id": "e414bb15",
   "metadata": {},
   "outputs": [
    {
     "name": "stdout",
     "output_type": "stream",
     "text": [
      "Enter num: 3\n",
      "\n",
      "3 is odd\n"
     ]
    }
   ],
   "source": [
    "num = int(input(\"Enter num: \"))\n",
    "print()\n",
    "\n",
    "if num % 2 == 0:\n",
    "    print(num,\"is even\")\n",
    "else:\n",
    "    print(num,\"is odd\")"
   ]
  },
  {
   "cell_type": "code",
   "execution_count": 46,
   "id": "0089e0bf",
   "metadata": {},
   "outputs": [
    {
     "data": {
      "text/plain": [
       "'Write a program that will take user input of cost price and selling price and determines whether it’s a loss or a profit'"
      ]
     },
     "execution_count": 46,
     "metadata": {},
     "output_type": "execute_result"
    }
   ],
   "source": [
    "\"\"\"Write a program that will take user input of cost price and selling price and determines whether it’s a loss or a profit\"\"\""
   ]
  },
  {
   "cell_type": "code",
   "execution_count": 54,
   "id": "8a6c49c9",
   "metadata": {},
   "outputs": [
    {
     "name": "stdout",
     "output_type": "stream",
     "text": [
      "Enter Cost price: 20\n",
      "Enter Selling price: 20\n",
      "\n",
      "You are making neither loss nor profit\n"
     ]
    }
   ],
   "source": [
    "cost = int(input(\"Enter Cost price: \"))\n",
    "sell = int(input(\"Enter Selling price: \"))\n",
    "\n",
    "if cost > sell:\n",
    "    print(\"\\nYou are making loss\")\n",
    "elif cost < sell:\n",
    "    print(\"\\nYou are making profit\")\n",
    "elif cost == sell:\n",
    "    print(\"\\nYou are making neither loss nor profit\")"
   ]
  },
  {
   "cell_type": "code",
   "execution_count": 55,
   "id": "4e43eace",
   "metadata": {},
   "outputs": [
    {
     "data": {
      "text/plain": [
       "'Write a program to find the simple interest when the value of principle, rate of interest and time period. '"
      ]
     },
     "execution_count": 55,
     "metadata": {},
     "output_type": "execute_result"
    }
   ],
   "source": [
    "\"\"\"Write a program to find the simple interest when the value of principle, rate of interest and time period. \"\"\""
   ]
  },
  {
   "cell_type": "code",
   "execution_count": 89,
   "id": "25b864bd",
   "metadata": {},
   "outputs": [
    {
     "name": "stdout",
     "output_type": "stream",
     "text": [
      "Enter Principle: 2000\n",
      "Enter Rate of Interest: 10\n",
      "Enter Time period: 5\n",
      "\n",
      "Simple Interest is 1000.0\n",
      "Total amount is 3000.0\n"
     ]
    }
   ],
   "source": [
    "principle = int(input(\"Enter Principle: \"))\n",
    "rate = int(input(\"Enter Rate of Interest: \"))\n",
    "time = int(input(\"Enter Time period: \"))\n",
    "\n",
    "si = (principle * rate * time) / 100\n",
    "total = si + principle\n",
    "\n",
    "print(\"\\nSimple Interest is\", si)\n",
    "print(\"Total amount is\",total)"
   ]
  },
  {
   "cell_type": "code",
   "execution_count": 84,
   "id": "a034e1f9",
   "metadata": {},
   "outputs": [
    {
     "data": {
      "text/plain": [
       "'Write a program to find the volume of the cylinder. Also find the cost,when the cost of 1litre milk is 40Rs. '"
      ]
     },
     "execution_count": 84,
     "metadata": {},
     "output_type": "execute_result"
    }
   ],
   "source": [
    "\"\"\"Write a program to find the volume of the cylinder. Also find the cost,when the cost of 1litre milk is 40Rs. \"\"\""
   ]
  },
  {
   "cell_type": "code",
   "execution_count": null,
   "id": "29aabfc7",
   "metadata": {},
   "outputs": [],
   "source": [
    "#### import math as m\n",
    "\n",
    "r = float(input(\"Enter radius(cm): \"))\n",
    "h = float(input(\"Enter height(cm): \"))\n",
    "\n",
    "vol = m.pi * m.pow(r,2) * h\n",
    "litre =vol/1000\n",
    "cost = litre * 40\n",
    "\n",
    "print(\"\\nVolume of cylinder is\", vol,\"cm^3 and\", litre,\"in litre\")\n",
    "print(\"Cost for milk is\",cost,\"rs\")"
   ]
  },
  {
   "cell_type": "code",
   "execution_count": 75,
   "id": "b67a82bf",
   "metadata": {},
   "outputs": [
    {
     "data": {
      "text/plain": [
       "'Write a program that will tell whether the given number is divisible by 3 & 6. '"
      ]
     },
     "execution_count": 75,
     "metadata": {},
     "output_type": "execute_result"
    }
   ],
   "source": [
    "\"\"\"Write a program that will tell whether the given number is divisible by 3 & 6. \"\"\""
   ]
  },
  {
   "cell_type": "code",
   "execution_count": 82,
   "id": "66e066e5",
   "metadata": {},
   "outputs": [
    {
     "name": "stdout",
     "output_type": "stream",
     "text": [
      "Enter number: 9\n",
      "\n",
      "9 is not divisible by 3 & 6 both\n"
     ]
    }
   ],
   "source": [
    "num = int(input(\"Enter number: \"))\n",
    "print()\n",
    "\n",
    "if num % 3 == 0 and num % 6 == 0:\n",
    "    print(num,\"is divisible by 3 & 6 both\")\n",
    "else:\n",
    "    print(num,\"is not divisible by 3 & 6 both\")"
   ]
  }
 ],
 "metadata": {
  "kernelspec": {
   "display_name": "Python 3 (ipykernel)",
   "language": "python",
   "name": "python3"
  },
  "language_info": {
   "codemirror_mode": {
    "name": "ipython",
    "version": 3
   },
   "file_extension": ".py",
   "mimetype": "text/x-python",
   "name": "python",
   "nbconvert_exporter": "python",
   "pygments_lexer": "ipython3",
   "version": "3.9.12"
  },
  "vscode": {
   "interpreter": {
    "hash": "aee8b7b246df8f9039afb4144a1f6fd8d2ca17a180786b69acc140d282b71a49"
   }
  }
 },
 "nbformat": 4,
 "nbformat_minor": 5
}
