{
 "cells": [
  {
   "cell_type": "code",
   "execution_count": 1,
   "id": "f573bc4e",
   "metadata": {},
   "outputs": [
    {
     "name": "stdout",
     "output_type": "stream",
     "text": [
      "Bharat\n"
     ]
    }
   ],
   "source": [
    "name = \"Gary\"\n",
    "name = \"Bharat\"\n",
    "\n",
    "print(name)"
   ]
  },
  {
   "cell_type": "code",
   "execution_count": 2,
   "id": "0cd830ae",
   "metadata": {},
   "outputs": [
    {
     "name": "stdout",
     "output_type": "stream",
     "text": [
      "Bharat\n"
     ]
    }
   ],
   "source": [
    "friend_name = name #assigning valuue from one varialble to another varialble\n",
    "print(friend_name)"
   ]
  },
  {
   "cell_type": "code",
   "execution_count": 5,
   "id": "c9f32779",
   "metadata": {},
   "outputs": [
    {
     "name": "stdout",
     "output_type": "stream",
     "text": [
      "Gary's age =  24\n",
      "Roger's age =  24\n",
      "Tom's age =  24\n"
     ]
    }
   ],
   "source": [
    "gary_age = roger_age = tom_age = 24 #assingning same values to all\n",
    "\n",
    "print(\"Gary's age = \", gary_age)\n",
    "print(\"Roger's age = \", roger_age)\n",
    "print(\"Tom's age = \", tom_age)"
   ]
  },
  {
   "cell_type": "code",
   "execution_count": 7,
   "id": "3886aa2e",
   "metadata": {
    "scrolled": true
   },
   "outputs": [
    {
     "name": "stdout",
     "output_type": "stream",
     "text": [
      "Gary's age =  24\n",
      "Roger's age =  1000\n",
      "Tom's age =  7\n"
     ]
    }
   ],
   "source": [
    "gary_age, roger_age, tom_age = 24, 1000, 7 #way to assign value\n",
    "\n",
    "print(\"Gary's age = \", gary_age)\n",
    "print(\"Roger's age = \", roger_age)\n",
    "print(\"Tom's age = \", tom_age)"
   ]
  },
  {
   "cell_type": "code",
   "execution_count": 11,
   "id": "a66b6231",
   "metadata": {},
   "outputs": [
    {
     "name": "stdout",
     "output_type": "stream",
     "text": [
      "True\n",
      "False\n"
     ]
    }
   ],
   "source": [
    "isStudent = True #Boolean\n",
    "has_paid_fees = False\n",
    "\n",
    "print(isStudent)\n",
    "print(has_paid_fees)"
   ]
  },
  {
   "cell_type": "code",
   "execution_count": null,
   "id": "ff439a0d",
   "metadata": {},
   "outputs": [],
   "source": []
  },
  {
   "cell_type": "code",
   "execution_count": null,
   "id": "964ae34f",
   "metadata": {},
   "outputs": [],
   "source": []
  }
 ],
 "metadata": {
  "kernelspec": {
   "display_name": "Python 3 (ipykernel)",
   "language": "python",
   "name": "python3"
  },
  "language_info": {
   "codemirror_mode": {
    "name": "ipython",
    "version": 3
   },
   "file_extension": ".py",
   "mimetype": "text/x-python",
   "name": "python",
   "nbconvert_exporter": "python",
   "pygments_lexer": "ipython3",
   "version": "3.9.12"
  }
 },
 "nbformat": 4,
 "nbformat_minor": 5
}
