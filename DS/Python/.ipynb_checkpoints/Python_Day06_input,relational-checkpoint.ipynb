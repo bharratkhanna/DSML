{
 "cells": [
  {
   "cell_type": "markdown",
   "id": "de016b6f",
   "metadata": {},
   "source": [
    "### Typecasting Input"
   ]
  },
  {
   "cell_type": "code",
   "execution_count": 17,
   "id": "e82f0a73",
   "metadata": {},
   "outputs": [
    {
     "name": "stdout",
     "output_type": "stream",
     "text": [
      "Enter your age: 25\n"
     ]
    }
   ],
   "source": [
    "age = int (input(\"Enter your age: \"))"
   ]
  },
  {
   "cell_type": "code",
   "execution_count": 18,
   "id": "0b5be2cd",
   "metadata": {},
   "outputs": [
    {
     "data": {
      "text/plain": [
       "25"
      ]
     },
     "execution_count": 18,
     "metadata": {},
     "output_type": "execute_result"
    }
   ],
   "source": [
    "age"
   ]
  },
  {
   "cell_type": "markdown",
   "id": "2019a623",
   "metadata": {},
   "source": [
    "### Relational operator"
   ]
  },
  {
   "cell_type": "code",
   "execution_count": 19,
   "id": "f43d72a0",
   "metadata": {},
   "outputs": [],
   "source": [
    "# Take the input of Ram and Shyam age from user. True if Ram is elder than Shyam, otherwise false "
   ]
  },
  {
   "cell_type": "code",
   "execution_count": 6,
   "id": "f5e1d95e",
   "metadata": {},
   "outputs": [
    {
     "name": "stdout",
     "output_type": "stream",
     "text": [
      "Enter Ram's age: 20\n"
     ]
    }
   ],
   "source": [
    "ram_age = int(input(\"Enter Ram's age: \"))"
   ]
  },
  {
   "cell_type": "code",
   "execution_count": 7,
   "id": "e1cd0b4f",
   "metadata": {},
   "outputs": [
    {
     "name": "stdout",
     "output_type": "stream",
     "text": [
      "Enter Shyam's age: 19\n"
     ]
    }
   ],
   "source": [
    "shyam_age = int(input(\"Enter Shyam's age: \"))"
   ]
  },
  {
   "cell_type": "code",
   "execution_count": 8,
   "id": "d8249f00",
   "metadata": {},
   "outputs": [
    {
     "name": "stdout",
     "output_type": "stream",
     "text": [
      "Ram is elder:  True\n"
     ]
    }
   ],
   "source": [
    "print(\"Ram is elder: \", ram_age > shyam_age) # Relational Operator"
   ]
  },
  {
   "cell_type": "code",
   "execution_count": 3,
   "id": "e55db82d",
   "metadata": {},
   "outputs": [
    {
     "name": "stdout",
     "output_type": "stream",
     "text": [
      "False\n"
     ]
    }
   ],
   "source": [
    "answer = True\n",
    "\n",
    "if ram_age > shyam_age: \n",
    "    print(answer)\n",
    "else:\n",
    "    answer = False\n",
    "    print(answer)"
   ]
  },
  {
   "cell_type": "code",
   "execution_count": 21,
   "id": "4cb81450",
   "metadata": {},
   "outputs": [],
   "source": [
    "# Find S.I & Total amount taking rate,principal & time inpuut from user"
   ]
  },
  {
   "cell_type": "code",
   "execution_count": 14,
   "id": "22a3ae39",
   "metadata": {},
   "outputs": [
    {
     "name": "stdout",
     "output_type": "stream",
     "text": [
      "Enter rate: 9\n",
      "Enter principal: 1000\n",
      "Enter time: 2\n"
     ]
    }
   ],
   "source": [
    "rate = int(input(\"Enter rate: \"))\n",
    "principal = int(input(\"Enter principal: \"))\n",
    "time = int(input(\"Enter time: \"))\n",
    "\n",
    "s_intrest = (rate * principal * time) / 100\n",
    "total_amt = principal + s_intrest"
   ]
  },
  {
   "cell_type": "code",
   "execution_count": 16,
   "id": "60deadd6",
   "metadata": {},
   "outputs": [
    {
     "name": "stdout",
     "output_type": "stream",
     "text": [
      "Simple Intrest:  180.0\n",
      "Total amount:  1180.0\n"
     ]
    }
   ],
   "source": [
    "print(\"Simple Intrest: \", s_intrest)\n",
    "print(\"Total amount: \", total_amt)"
   ]
  },
  {
   "cell_type": "code",
   "execution_count": null,
   "id": "44229bc5",
   "metadata": {},
   "outputs": [],
   "source": []
  }
 ],
 "metadata": {
  "kernelspec": {
   "display_name": "Python 3 (ipykernel)",
   "language": "python",
   "name": "python3"
  },
  "language_info": {
   "codemirror_mode": {
    "name": "ipython",
    "version": 3
   },
   "file_extension": ".py",
   "mimetype": "text/x-python",
   "name": "python",
   "nbconvert_exporter": "python",
   "pygments_lexer": "ipython3",
   "version": "3.9.12"
  }
 },
 "nbformat": 4,
 "nbformat_minor": 5
}
