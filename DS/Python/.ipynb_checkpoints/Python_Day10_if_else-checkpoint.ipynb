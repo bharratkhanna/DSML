{
 "cells": [
  {
   "cell_type": "markdown",
   "id": "aaf0862f",
   "metadata": {},
   "source": [
    "## Control Statement"
   ]
  },
  {
   "cell_type": "code",
   "execution_count": 1,
   "id": "b6fb44e9",
   "metadata": {},
   "outputs": [
    {
     "data": {
      "text/plain": [
       "' \\nif condition:\\n    Execution\\n'"
      ]
     },
     "execution_count": 1,
     "metadata": {},
     "output_type": "execute_result"
    }
   ],
   "source": [
    "#if syntax\n",
    "\"\"\" \n",
    "if condition:\n",
    "    Execution\n",
    "\"\"\""
   ]
  },
  {
   "cell_type": "code",
   "execution_count": 7,
   "id": "02f7cb86",
   "metadata": {},
   "outputs": [
    {
     "name": "stdout",
     "output_type": "stream",
     "text": [
      "Enter your age: 17\n",
      "You are eligible for driving license\n"
     ]
    }
   ],
   "source": [
    "age = int(input(\"Enter your age: \"))\n",
    "print(\"You are eligible for driving license\")  # No control over output"
   ]
  },
  {
   "cell_type": "code",
   "execution_count": 8,
   "id": "478ef1eb",
   "metadata": {},
   "outputs": [
    {
     "name": "stdout",
     "output_type": "stream",
     "text": [
      "Enter your age: 18\n",
      "You are eligible for driving license\n"
     ]
    }
   ],
   "source": [
    "age = int(input(\"Enter your age: \"))\n",
    "if age>=18: #indentation\n",
    "    print(\"You are eligible for driving license\") #Control over output\n",
    "    #if condition is true then only it will execute this"
   ]
  },
  {
   "cell_type": "code",
   "execution_count": 12,
   "id": "a6043807",
   "metadata": {},
   "outputs": [
    {
     "name": "stdout",
     "output_type": "stream",
     "text": [
      "Enter your age: 12\n",
      "You are not eligible for driving license\n"
     ]
    }
   ],
   "source": [
    "age = int(input(\"Enter your age: \"))\n",
    "if age>=18: #indentation\n",
    "    print(\"You are eligible for driving license\") \n",
    "else:\n",
    "    print(\"You are not eligible for driving license\") #Even further Control\n",
    "    #If statement is false then only it prints this"
   ]
  },
  {
   "cell_type": "code",
   "execution_count": 22,
   "id": "077a9e6a",
   "metadata": {},
   "outputs": [
    {
     "name": "stdout",
     "output_type": "stream",
     "text": [
      "Enter you number: 30\n",
      "Your number is divisible by both 3 & 5\n"
     ]
    }
   ],
   "source": [
    "num = int(input(\"Enter you number: \"))\n",
    "if num % 3 == 0 and num % 5 ==0:\n",
    "    print(\"Your number is divisible by both 3 & 5\")\n",
    "else:\n",
    "    print(\"Your number is not divisible by both 3 & 5\")"
   ]
  },
  {
   "cell_type": "code",
   "execution_count": 6,
   "id": "b247a291",
   "metadata": {},
   "outputs": [
    {
     "name": "stdout",
     "output_type": "stream",
     "text": [
      "Enter you marks: 23\n",
      "Fail\n"
     ]
    }
   ],
   "source": [
    "marks = float(input(\"Enter you marks: \"))\n",
    "if marks > 100:\n",
    "    print(\"Please Enter valid input\")\n",
    "if marks > 60 and marks <= 100:\n",
    "    print(\"Grade A\")\n",
    "if marks > 50 and marks <= 60:\n",
    "    print(\"Grade B\")\n",
    "if marks > 40 and marks <= 50:\n",
    "    print(\"Grade C\")\n",
    "if marks > 30 and marks <= 40:\n",
    "    print(\"Grade D\")\n",
    "if marks <= 30:\n",
    "    print(\"Fail\")"
   ]
  },
  {
   "cell_type": "code",
   "execution_count": 27,
   "id": "17ec7fb5",
   "metadata": {},
   "outputs": [
    {
     "name": "stdout",
     "output_type": "stream",
     "text": [
      "Please enter units:225\n",
      "Your bill is 750 Rs\n"
     ]
    }
   ],
   "source": [
    "units = int(input(\"Please enter units:\"))\n",
    "\n",
    "if units <= 100:\n",
    "    bill_amount = 0\n",
    "    print(\"Your bill is\",bill_amount,\"Rs\")\n",
    "\n",
    "if units <= 200 and units > 100:\n",
    "    bill_amount = (units - 100) * 5\n",
    "    print(\"Your bill is\",bill_amount,\"Rs\")\n",
    "    \n",
    "if units > 200:\n",
    "    bill_amount = 500 + ((units - 200)* 10)\n",
    "    print(\"Your bill is\",bill_amount,\"Rs\")\n"
   ]
  }
 ],
 "metadata": {
  "kernelspec": {
   "display_name": "Python 3 (ipykernel)",
   "language": "python",
   "name": "python3"
  },
  "language_info": {
   "codemirror_mode": {
    "name": "ipython",
    "version": 3
   },
   "file_extension": ".py",
   "mimetype": "text/x-python",
   "name": "python",
   "nbconvert_exporter": "python",
   "pygments_lexer": "ipython3",
   "version": "3.9.12"
  }
 },
 "nbformat": 4,
 "nbformat_minor": 5
}
