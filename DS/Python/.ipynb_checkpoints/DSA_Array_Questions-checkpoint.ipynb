{
 "cells": [
  {
   "cell_type": "markdown",
   "id": "c0335bb2",
   "metadata": {},
   "source": [
    "# Array Questions"
   ]
  },
  {
   "cell_type": "code",
   "execution_count": null,
   "id": "45bd8069",
   "metadata": {},
   "outputs": [],
   "source": [
    "\"\"\"\n",
    "Interview Question #1\n",
    "\n",
    "The problem is that we want to reverse a T[] array in O(N) linear time complexity and we \n",
    "want the algorithm to be in-place as well - so no additional memory can be used!\n",
    "\n",
    "For example: input is [1,2,3,4,5] then the output is [5,4,3,2,1]\n",
    "\"\"\""
   ]
  },
  {
   "cell_type": "code",
   "execution_count": 89,
   "id": "13ce65bf",
   "metadata": {},
   "outputs": [],
   "source": [
    "def reverse(myList):\n",
    "    \n",
    "    revList = []\n",
    "    for i in range(len(myList) - 1, -1, -1):\n",
    "        revList.append(myList[i])\n",
    "\n",
    "    print(\"Normal list: \",myList)\n",
    "    print(\"Reversed List: \",revList)\n"
   ]
  },
  {
   "cell_type": "code",
   "execution_count": 90,
   "id": "a10de543",
   "metadata": {},
   "outputs": [
    {
     "name": "stdout",
     "output_type": "stream",
     "text": [
      "Normal list:  [3, 4, 5, 6, 7, 8, 9]\n",
      "Reversed List:  [9, 8, 7, 6, 5, 4, 3]\n"
     ]
    }
   ],
   "source": [
    "reverse([3,4,5,6,7,8,9])"
   ]
  },
  {
   "cell_type": "code",
   "execution_count": null,
   "id": "daae0b46",
   "metadata": {},
   "outputs": [],
   "source": [
    "\"\"\"\n",
    "Interview Question #2\n",
    "\n",
    "\"A palindrome is a string that reads the same forward and backward\"\n",
    "\n",
    "For example: radar or madam\n",
    "\n",
    "Our task is to design an optimal algorithm for checking whether a given string is palindrome or not! \n",
    "\"\"\""
   ]
  },
  {
   "cell_type": "code",
   "execution_count": 91,
   "id": "0eeca632",
   "metadata": {},
   "outputs": [],
   "source": [
    "def palindrome(word):\n",
    "    if word == word[::-1]:\n",
    "        print(word,\"is a Palnindome\")\n",
    "    else:\n",
    "        print(word,\"is not a plaindrome\")"
   ]
  },
  {
   "cell_type": "code",
   "execution_count": 92,
   "id": "dad6d8c9",
   "metadata": {},
   "outputs": [
    {
     "name": "stdout",
     "output_type": "stream",
     "text": [
      "mum is a Palnindome\n"
     ]
    }
   ],
   "source": [
    "palindrome(\"mum\")"
   ]
  },
  {
   "cell_type": "code",
   "execution_count": null,
   "id": "cf8925c1",
   "metadata": {},
   "outputs": [],
   "source": [
    "\"\"\"\n",
    "Interview Question #3\n",
    "Our task is to design an efficient algorithm to reverse a given integer. \n",
    "For example if the input of the algorithm is 1234 then the output should be 4321.\n",
    "\"\"\""
   ]
  },
  {
   "cell_type": "code",
   "execution_count": 93,
   "id": "6a269297",
   "metadata": {},
   "outputs": [],
   "source": [
    "def num_palindrome(num):\n",
    "    rev = 0\n",
    "    temp = num\n",
    "    while temp > 0:\n",
    "        dig = temp % 10\n",
    "        rev = rev * 10 + dig\n",
    "        temp = temp //10\n",
    "        \n",
    "    if num == rev:\n",
    "        print(num,\"is a Palnindome\")\n",
    "    else:\n",
    "        print(num,\"is not a Palnindome\")"
   ]
  },
  {
   "cell_type": "code",
   "execution_count": 94,
   "id": "94b8dac8",
   "metadata": {},
   "outputs": [
    {
     "name": "stdout",
     "output_type": "stream",
     "text": [
      "505 is a Palnindome\n"
     ]
    }
   ],
   "source": [
    "num_palindrome(505)"
   ]
  },
  {
   "cell_type": "code",
   "execution_count": null,
   "id": "8e1faf1d",
   "metadata": {},
   "outputs": [],
   "source": [
    "\"\"\"\n",
    "Interview Question #4\n",
    "\n",
    "Construct an algorithm to check whether two words (or phrases) are anagrams or not!\n",
    "\n",
    "\"An anagram is a word or phrase formed by rearranging the letters of a different word or phrase, \n",
    "typically using all the original letters exactly once\"\n",
    "\n",
    "For example: restful and fluster\n",
    "\"\"\""
   ]
  },
  {
   "cell_type": "code",
   "execution_count": 189,
   "id": "84cc800b",
   "metadata": {},
   "outputs": [],
   "source": [
    "def anagram(word1,word2):\n",
    "    \n",
    "    if sorted(word1.lower()) == sorted(word2.lower()):\n",
    "        print(\"Yes,\",word1,\"&\",word2,\"are an anagram\")\n",
    "    else:\n",
    "        print(\"No,\",word1,\"&\",word2,\"are not an anagram\")"
   ]
  },
  {
   "cell_type": "code",
   "execution_count": 190,
   "id": "4eef55d5",
   "metadata": {},
   "outputs": [
    {
     "name": "stdout",
     "output_type": "stream",
     "text": [
      "Yes, Angered & enraged are an anagram\n"
     ]
    }
   ],
   "source": [
    "anagram(\"Angered\",\"enraged\")"
   ]
  },
  {
   "cell_type": "markdown",
   "id": "93b5d55d",
   "metadata": {},
   "source": [
    "## Dutch National Flag Problem"
   ]
  },
  {
   "cell_type": "code",
   "execution_count": null,
   "id": "afcb7cef",
   "metadata": {},
   "outputs": [],
   "source": [
    "\"\"\"\n",
    "The problem is that we want to sort a T[] one-dimensional array of integers in O(N) running time - and \n",
    "without any extra memory. The array can contain values: 0, 1 and 2 (check out the theoretical section \n",
    "for further information).\n",
    "\n",
    "Good luck!\n",
    "\"\"\""
   ]
  },
  {
   "cell_type": "code",
   "execution_count": 145,
   "id": "a29cbd36",
   "metadata": {},
   "outputs": [],
   "source": [
    "def swap(numList,i,j):\n",
    "    numList[i], numList[j] = numList[j], numList[i]\n",
    "\n",
    "def dutch__algirithm(numList, pivot = 1):\n",
    "    \n",
    "    i = 0\n",
    "    j = 0\n",
    "    k = len(numList) - 1\n",
    "    \n",
    "    while j <= k:\n",
    "        \n",
    "        #if num is 0\n",
    "        if numList[j] < pivot:\n",
    "            swap(numList, i, j)\n",
    "            i += 1\n",
    "            j += 1\n",
    "            \n",
    "        #if num is 2\n",
    "        elif numList[j] > pivot:\n",
    "            swap(numList,j,k)\n",
    "            k -= 1\n",
    "            \n",
    "        #if num is 1\n",
    "        else:\n",
    "            j += 1\n",
    "            \n",
    "    return numList"
   ]
  },
  {
   "cell_type": "code",
   "execution_count": 144,
   "id": "d28d128a",
   "metadata": {},
   "outputs": [
    {
     "name": "stdout",
     "output_type": "stream",
     "text": [
      "[0, 0, 1, 1, 1, 1, 2, 2]\n"
     ]
    }
   ],
   "source": [
    "print(dutch__algirithm([1,1,0,2,2,1,1,0]))"
   ]
  },
  {
   "cell_type": "markdown",
   "id": "0b1e036a",
   "metadata": {},
   "source": [
    "## Trapping Rain Water"
   ]
  },
  {
   "cell_type": "code",
   "execution_count": null,
   "id": "33e152be",
   "metadata": {},
   "outputs": [],
   "source": [
    "\"\"\"\n",
    "Given n non-negative integers representing an elevation map where the width of each bar is 1. \n",
    "Compute how much water it can trap after raining!\n",
    "\n",
    "Here the elevation map (the input for the algorithm) is [4,1,3,1,5] and the output is the \n",
    "total units of trapped rain water - which is 7.\n",
    "\"\"\""
   ]
  },
  {
   "cell_type": "code",
   "execution_count": 182,
   "id": "771c6907",
   "metadata": {},
   "outputs": [],
   "source": [
    "T = [4,1,3,1,5]\n",
    "\n",
    "def trappingwater(heights = T):\n",
    "    \n",
    "    if len(heights) < 0:\n",
    "        return 0\n",
    "    \n",
    "    maxLeft = [0 for _ in range(len(heights))]\n",
    "    maxRight = [0 for _ in range(len(heights))]\n",
    "    \n",
    "    for i in range(1,len(heights)):\n",
    "        maxLeft[i] = max(maxLeft[i-1], heights[i-1])\n",
    "         \n",
    "    for i in range(len(heights)- 2, -1, -1):\n",
    "        maxRight[i]  = max(maxRight[i + 1], heights[i + 1]) \n",
    "        \n",
    "    trapped = 0 \n",
    "    \n",
    "    for i in range(1,len(heights)):\n",
    "        if min(maxLeft[i], maxRight[i]) - heights[i] > 0:\n",
    "            trapped += min(maxLeft[i], maxRight[i]) - heights[i]\n",
    "            \n",
    "    print(\"Heights: \",heights)\n",
    "    print(\"MaxLeft: \",maxLeft)\n",
    "    print(\"MaxRight:\",maxRight)\n",
    "    \n",
    "    print(\"\\nTrapped water is\",trapped,\"units\")"
   ]
  },
  {
   "cell_type": "code",
   "execution_count": 184,
   "id": "593e99b5",
   "metadata": {},
   "outputs": [
    {
     "name": "stdout",
     "output_type": "stream",
     "text": [
      "Heights:  [1, 0, 2, 1, 3, 1, 2, 0, 3]\n",
      "MaxLeft:  [0, 1, 1, 2, 2, 3, 3, 3, 3]\n",
      "MaxRight: [3, 3, 3, 3, 3, 3, 3, 3, 0]\n",
      "\n",
      "Trapped water is 8 units\n"
     ]
    }
   ],
   "source": [
    "trappingwater([1,0,2,1,3,1,2,0,3])"
   ]
  }
 ],
 "metadata": {
  "kernelspec": {
   "display_name": "Python 3 (ipykernel)",
   "language": "python",
   "name": "python3"
  },
  "language_info": {
   "codemirror_mode": {
    "name": "ipython",
    "version": 3
   },
   "file_extension": ".py",
   "mimetype": "text/x-python",
   "name": "python",
   "nbconvert_exporter": "python",
   "pygments_lexer": "ipython3",
   "version": "3.9.12"
  },
  "varInspector": {
   "cols": {
    "lenName": 16,
    "lenType": 16,
    "lenVar": 40
   },
   "kernels_config": {
    "python": {
     "delete_cmd_postfix": "",
     "delete_cmd_prefix": "del ",
     "library": "var_list.py",
     "varRefreshCmd": "print(var_dic_list())"
    },
    "r": {
     "delete_cmd_postfix": ") ",
     "delete_cmd_prefix": "rm(",
     "library": "var_list.r",
     "varRefreshCmd": "cat(var_dic_list()) "
    }
   },
   "types_to_exclude": [
    "module",
    "function",
    "builtin_function_or_method",
    "instance",
    "_Feature"
   ],
   "window_display": false
  }
 },
 "nbformat": 4,
 "nbformat_minor": 5
}
