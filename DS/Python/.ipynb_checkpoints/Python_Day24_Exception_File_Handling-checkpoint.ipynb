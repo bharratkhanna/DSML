{
 "cells": [
  {
   "cell_type": "code",
   "execution_count": null,
   "id": "8e39b213-b005-4e88-ac7a-78544517fd4c",
   "metadata": {},
   "outputs": [],
   "source": [
    "# Find Exception name: -"
   ]
  },
  {
   "cell_type": "code",
   "execution_count": 24,
   "id": "d589dfc8",
   "metadata": {
    "tags": []
   },
   "outputs": [
    {
     "name": "stdin",
     "output_type": "stream",
     "text": [
      "Enter number:  5\n",
      "Enter number:  a\n"
     ]
    },
    {
     "name": "stdout",
     "output_type": "stream",
     "text": [
      "\n",
      "Not Divisible! invalid literal for int() with base 10: 'a'\n"
     ]
    }
   ],
   "source": [
    "num1 = input(\"Enter number: \")\n",
    "num2 = input(\"Enter number: \")\n",
    "\n",
    "try:\n",
    "    result = int(num1)/int(num2)\n",
    "    print(result)\n",
    "    \n",
    "except Exception as e: \n",
    "    print(\"\\nNot Divisible!\",e) #can print and see whast the exception is"
   ]
  },
  {
   "cell_type": "code",
   "execution_count": 20,
   "id": "4eefdf64-23f1-4671-a83e-05f045559003",
   "metadata": {},
   "outputs": [
    {
     "name": "stdin",
     "output_type": "stream",
     "text": [
      "Enter a number:  ab\n"
     ]
    },
    {
     "name": "stdout",
     "output_type": "stream",
     "text": [
      "\n",
      "Cannot be converted invalid literal for int() with base 10: 'ab'\n"
     ]
    }
   ],
   "source": [
    "num1 = input(\"Enter a number: \")\n",
    "try:\n",
    "    int_conversation = int(num1)\n",
    "    print(\"\\n\",int_conversation,sep=\"\")\n",
    "except Exception as e:\n",
    "    print(\"\\nCannot be converted\",e)"
   ]
  },
  {
   "cell_type": "code",
   "execution_count": 14,
   "id": "0922cea1-4039-495b-aab6-0eae8417c328",
   "metadata": {},
   "outputs": [
    {
     "name": "stdin",
     "output_type": "stream",
     "text": [
      "Enter number:  52\n",
      "Enter number:  a\n"
     ]
    },
    {
     "name": "stdout",
     "output_type": "stream",
     "text": [
      "\n",
      "Please provide valid input\n"
     ]
    }
   ],
   "source": [
    "# Different messages for different error:\n",
    "\n",
    "num1 = input(\"Enter number: \")\n",
    "num2 = input(\"Enter number: \")\n",
    "\n",
    "try:\n",
    "    result = int(num1)/int(num2)\n",
    "    print(result)\n",
    "    \n",
    "except ZeroDivisionError: # for division by 0\n",
    "    print(\"\\nNot Divisible! by zero\") \n",
    "except ValueError: # for input other than integer\n",
    "    print(\"\\nPlease provide valid input\")"
   ]
  },
  {
   "cell_type": "code",
   "execution_count": 16,
   "id": "4a4fdb7a-ef9e-4c8c-966d-ae1d01b9fdb1",
   "metadata": {},
   "outputs": [
    {
     "name": "stdin",
     "output_type": "stream",
     "text": [
      "Enter number:  5\n",
      "Enter number:  a\n"
     ]
    },
    {
     "name": "stdout",
     "output_type": "stream",
     "text": [
      "\n",
      "Rasising exception due to no valid input\n"
     ]
    }
   ],
   "source": [
    "# Managing multiple errors in same place:-\n",
    "\n",
    "num1 = input(\"Enter number: \")\n",
    "num2 = input(\"Enter number: \")\n",
    "\n",
    "try:\n",
    "    result = int(num1)/int(num2)\n",
    "    print(result)\n",
    "    \n",
    "except (ZeroDivisionError,ValueError): # combining output for two errors\n",
    "    print(\"\\nRasising exception due to no valid input\") \n"
   ]
  },
  {
   "cell_type": "code",
   "execution_count": 26,
   "id": "7df6dbb6-c22d-4da3-aaac-4a45835d31f3",
   "metadata": {},
   "outputs": [
    {
     "name": "stdin",
     "output_type": "stream",
     "text": [
      "Enter number:  5\n",
      "Enter number:  5\n"
     ]
    },
    {
     "name": "stdout",
     "output_type": "stream",
     "text": [
      "\n",
      "1.0\n",
      "\n",
      "Dvision Successful!\n"
     ]
    }
   ],
   "source": [
    "# else in exception:-\n",
    "\n",
    "num1 = input(\"Enter number: \")\n",
    "num2 = input(\"Enter number: \")\n",
    "\n",
    "try:\n",
    "    result = int(num1)/int(num2)\n",
    "    print(\"\\n\",result,sep =\"\")\n",
    "    \n",
    "except ZeroDivisionError: # for division by 0\n",
    "    print(\"\\nNot Divisible! by zero\") \n",
    "else:\n",
    "    print(\"\\nDvision Successful!\")"
   ]
  },
  {
   "cell_type": "code",
   "execution_count": 28,
   "id": "4e0a2c1f-3d15-4023-a0b9-485726d50ecc",
   "metadata": {},
   "outputs": [
    {
     "name": "stdin",
     "output_type": "stream",
     "text": [
      "Enter number:  5\n",
      "Enter number:  0\n"
     ]
    },
    {
     "name": "stdout",
     "output_type": "stream",
     "text": [
      "\n",
      "Not Divisible! by zero\n",
      "Mission Successful.\n"
     ]
    }
   ],
   "source": [
    "# finally will be executed after excution of either try or except\n",
    "\n",
    "num1 = input(\"Enter number: \")\n",
    "num2 = input(\"Enter number: \")\n",
    "\n",
    "try:\n",
    "    result = int(num1)/int(num2)\n",
    "    print(\"\\n\",result,sep =\"\")\n",
    "    \n",
    "except ZeroDivisionError: # for division by 0\n",
    "    print(\"\\nNot Divisible! by zero\") \n",
    "else:\n",
    "    print(\"\\nDvision Successful!\")\n",
    "finally:\n",
    "    print(\"Mission Successful.\")"
   ]
  },
  {
   "cell_type": "markdown",
   "id": "b0e934f3-0c1d-4db8-a74a-16cfe7ede2ae",
   "metadata": {},
   "source": [
    "# File Handling"
   ]
  },
  {
   "cell_type": "code",
   "execution_count": 2,
   "id": "ef40fedb-b847-4984-9411-5a82f93a23c4",
   "metadata": {},
   "outputs": [],
   "source": [
    "# os - operating system\n",
    "import os "
   ]
  },
  {
   "cell_type": "code",
   "execution_count": 9,
   "id": "9ad80488-af04-40e1-8039-defa43b3964b",
   "metadata": {},
   "outputs": [
    {
     "data": {
      "text/plain": [
       "'/Users/bharatkhanna/Desktop'"
      ]
     },
     "execution_count": 9,
     "metadata": {},
     "output_type": "execute_result"
    }
   ],
   "source": [
    "#pwd - print working directory\n",
    "os.getcwd()  # unknown error, not working"
   ]
  },
  {
   "cell_type": "code",
   "execution_count": 5,
   "id": "d8770986-7a08-4fa5-b19c-faef851f3adb",
   "metadata": {},
   "outputs": [],
   "source": [
    "#chdir - change directory"
   ]
  },
  {
   "cell_type": "code",
   "execution_count": 6,
   "id": "90dc7b5d",
   "metadata": {},
   "outputs": [],
   "source": [
    "os.chdir(\"/Users/bharatkhanna/Desktop\")"
   ]
  },
  {
   "cell_type": "code",
   "execution_count": 7,
   "id": "8da04d42",
   "metadata": {},
   "outputs": [
    {
     "data": {
      "text/plain": [
       "'/Users/bharatkhanna/Desktop'"
      ]
     },
     "execution_count": 7,
     "metadata": {},
     "output_type": "execute_result"
    }
   ],
   "source": [
    "pwd"
   ]
  },
  {
   "cell_type": "code",
   "execution_count": 8,
   "id": "27655b02",
   "metadata": {},
   "outputs": [
    {
     "data": {
      "text/plain": [
       "'/Users/bharatkhanna/Desktop'"
      ]
     },
     "execution_count": 8,
     "metadata": {},
     "output_type": "execute_result"
    }
   ],
   "source": [
    "# getchwd() - get workinfg directory\n",
    "os.getcwd() "
   ]
  },
  {
   "cell_type": "code",
   "execution_count": 21,
   "id": "5e55087a",
   "metadata": {},
   "outputs": [],
   "source": [
    "os.chdir(\"/Users/bharatkhanna/Documents/Python\")"
   ]
  },
  {
   "cell_type": "code",
   "execution_count": 22,
   "id": "1f641040",
   "metadata": {},
   "outputs": [
    {
     "data": {
      "text/plain": [
       "'/Users/bharatkhanna/Documents/Python'"
      ]
     },
     "execution_count": 22,
     "metadata": {},
     "output_type": "execute_result"
    }
   ],
   "source": [
    "pwd"
   ]
  },
  {
   "cell_type": "code",
   "execution_count": null,
   "id": "d5c5f497",
   "metadata": {},
   "outputs": [],
   "source": [
    "# mkdir - make directory\n",
    "os.mkdir()"
   ]
  }
 ],
 "metadata": {
  "kernelspec": {
   "display_name": "Python 3 (ipykernel)",
   "language": "python",
   "name": "python3"
  },
  "language_info": {
   "codemirror_mode": {
    "name": "ipython",
    "version": 3
   },
   "file_extension": ".py",
   "mimetype": "text/x-python",
   "name": "python",
   "nbconvert_exporter": "python",
   "pygments_lexer": "ipython3",
   "version": "3.9.12"
  },
  "varInspector": {
   "cols": {
    "lenName": 16,
    "lenType": 16,
    "lenVar": 40
   },
   "kernels_config": {
    "python": {
     "delete_cmd_postfix": "",
     "delete_cmd_prefix": "del ",
     "library": "var_list.py",
     "varRefreshCmd": "print(var_dic_list())"
    },
    "r": {
     "delete_cmd_postfix": ") ",
     "delete_cmd_prefix": "rm(",
     "library": "var_list.r",
     "varRefreshCmd": "cat(var_dic_list()) "
    }
   },
   "types_to_exclude": [
    "module",
    "function",
    "builtin_function_or_method",
    "instance",
    "_Feature"
   ],
   "window_display": false
  }
 },
 "nbformat": 4,
 "nbformat_minor": 5
}
