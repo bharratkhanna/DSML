{
 "cells": [
  {
   "cell_type": "markdown",
   "id": "428b775d",
   "metadata": {},
   "source": [
    "### if elif"
   ]
  },
  {
   "cell_type": "code",
   "execution_count": 29,
   "id": "31dc5170",
   "metadata": {},
   "outputs": [
    {
     "name": "stdout",
     "output_type": "stream",
     "text": [
      "Enter length: 34\n",
      "Length is too short.\n"
     ]
    }
   ],
   "source": [
    "length = int(input(\"Enter length: \"))\n",
    "\n",
    "if length > 100:\n",
    "    print(\"Length is too long.\")\n",
    "elif length > 70:\n",
    "    print(\"Length is long.\")\n",
    "elif length > 50:\n",
    "    print(\"Length is optimum.\")\n",
    "elif length > 40:\n",
    "    print(\"Length is short.\")\n",
    "else:\n",
    "    print(\"Length is too short.\")"
   ]
  },
  {
   "cell_type": "code",
   "execution_count": 55,
   "id": "d3c15597",
   "metadata": {},
   "outputs": [
    {
     "name": "stdout",
     "output_type": "stream",
     "text": [
      "Enter an alphabet: h\n",
      "It's a Constant\n"
     ]
    }
   ],
   "source": [
    "#lower() - It converts to lower case string\n",
    "#upper() - It converts to upper case string\n",
    "\n",
    "char = str(input(\"Enter an alphabet: \"))\n",
    "\n",
    "if char.lower() in 'aeiou':\n",
    "    print(\"It's a Vowel\") \n",
    "elif char.upper() in 'YW':\n",
    "    print(\"It's a Semi Vowel\")\n",
    "else:\n",
    "    print(\"It's a Constant\")"
   ]
  },
  {
   "cell_type": "markdown",
   "id": "2c818203",
   "metadata": {},
   "source": [
    "### Nested if else"
   ]
  },
  {
   "cell_type": "code",
   "execution_count": 54,
   "id": "a671f273",
   "metadata": {
    "scrolled": true
   },
   "outputs": [
    {
     "name": "stdout",
     "output_type": "stream",
     "text": [
      "Enter your age: 34\n",
      "Do you have a driving license(y/n)?: n\n",
      "\n",
      "You are not eligible to drive!\n"
     ]
    }
   ],
   "source": [
    "age = int(input(\"Enter your age: \"))\n",
    "\n",
    "if age >= 18:\n",
    "    ans = input(\"Do you have a driving license(y/n)?: \");\n",
    "    if ans.lower() == 'y':\n",
    "        print(\"\\nYou are eligible for driving.\")\n",
    "    else:\n",
    "        print(\"\\nYou are not eligible to drive!\")\n",
    "else:\n",
    "    print(\"\\nYou are not eligible to drive!\")"
   ]
  }
 ],
 "metadata": {
  "kernelspec": {
   "display_name": "Python 3 (ipykernel)",
   "language": "python",
   "name": "python3"
  },
  "language_info": {
   "codemirror_mode": {
    "name": "ipython",
    "version": 3
   },
   "file_extension": ".py",
   "mimetype": "text/x-python",
   "name": "python",
   "nbconvert_exporter": "python",
   "pygments_lexer": "ipython3",
   "version": "3.9.12"
  }
 },
 "nbformat": 4,
 "nbformat_minor": 5
}
