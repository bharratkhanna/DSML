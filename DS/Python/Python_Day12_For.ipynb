{
 "cells": [
  {
   "cell_type": "markdown",
   "id": "98f442e3",
   "metadata": {},
   "source": [
    "## Iteration Statement"
   ]
  },
  {
   "cell_type": "code",
   "execution_count": 7,
   "id": "9b22b029",
   "metadata": {},
   "outputs": [
    {
     "name": "stdout",
     "output_type": "stream",
     "text": [
      "Welcome to my class\n",
      "Welcome to my class\n",
      "Welcome to my class\n",
      "Welcome to my class\n",
      "Welcome to my class\n",
      "Welcome to my class\n"
     ]
    }
   ],
   "source": [
    "#You have to repeat everytime.\n",
    "print(\"Welcome to my class\")\n",
    "print(\"Welcome to my class\")\n",
    "print(\"Welcome to my class\")\n",
    "print(\"Welcome to my class\")\n",
    "print(\"Welcome to my class\")\n",
    "print(\"Welcome to my class\")"
   ]
  },
  {
   "cell_type": "markdown",
   "id": "37a2fca3",
   "metadata": {},
   "source": [
    "### For loop"
   ]
  },
  {
   "cell_type": "code",
   "execution_count": 4,
   "id": "d4479c3c",
   "metadata": {},
   "outputs": [
    {
     "data": {
      "text/plain": [
       "'\\nfor (variable name-iterator name) in range:\\n    Expression\\n'"
      ]
     },
     "execution_count": 4,
     "metadata": {},
     "output_type": "execute_result"
    }
   ],
   "source": [
    "#For loop Syntax-\n",
    "\"\"\"\n",
    "for (variable name/iterator name/iterator) in range:\n",
    "    Expression\n",
    "\"\"\""
   ]
  },
  {
   "cell_type": "code",
   "execution_count": 9,
   "id": "8141a517",
   "metadata": {},
   "outputs": [
    {
     "name": "stdout",
     "output_type": "stream",
     "text": [
      "Welcome to my class 0\n",
      "Welcome to my class 1\n",
      "Welcome to my class 2\n",
      "Welcome to my class 3\n",
      "Welcome to my class 4\n",
      "Welcome to my class 5\n"
     ]
    }
   ],
   "source": [
    "for i in range(6): # i = 0,1,2,3,4,5 => So indexing starts from 0 till 5\n",
    "    print(\"Welcome to my class\", i)"
   ]
  },
  {
   "cell_type": "code",
   "execution_count": 11,
   "id": "d99f8d82",
   "metadata": {},
   "outputs": [
    {
     "name": "stdout",
     "output_type": "stream",
     "text": [
      "Welcome to my class 11\n",
      "Welcome to my class 12\n",
      "Welcome to my class 13\n",
      "Welcome to my class 14\n",
      "Welcome to my class 15\n"
     ]
    }
   ],
   "source": [
    "for i in range(11,16):\n",
    "    print(\"Welcome to my class\", i)"
   ]
  },
  {
   "cell_type": "code",
   "execution_count": 25,
   "id": "2b113405",
   "metadata": {},
   "outputs": [
    {
     "name": "stdout",
     "output_type": "stream",
     "text": [
      "Welcome to my class 21\n",
      "Welcome to my class 24\n",
      "Welcome to my class 27\n"
     ]
    }
   ],
   "source": [
    "for i in range(21,30, 3): \n",
    "    print(\"Welcome to my class\", i)\n",
    "\n",
    "# 3 rd value tells us how to increement =>syntax is 21 then it will increement by 3 till the value is less than 30\n"
   ]
  },
  {
   "cell_type": "code",
   "execution_count": 27,
   "id": "684c9ec1",
   "metadata": {},
   "outputs": [
    {
     "name": "stdout",
     "output_type": "stream",
     "text": [
      "Welcome to my class 21\n",
      "Welcome to my class 18\n",
      "Welcome to my class 15\n",
      "Welcome to my class 12\n",
      "Welcome to my class 9\n",
      "Welcome to my class 6\n"
     ]
    }
   ],
   "source": [
    "for i in range(21,3,-3): \n",
    "    print(\"Welcome to my class\", i)"
   ]
  },
  {
   "cell_type": "code",
   "execution_count": 31,
   "id": "2358d593",
   "metadata": {},
   "outputs": [
    {
     "name": "stdout",
     "output_type": "stream",
     "text": [
      "2 is even number.\n",
      "4 is even number.\n",
      "6 is even number.\n",
      "8 is even number.\n",
      "10 is even number.\n",
      "12 is even number.\n",
      "14 is even number.\n",
      "16 is even number.\n",
      "18 is even number.\n",
      "20 is even number.\n",
      "22 is even number.\n",
      "24 is even number.\n",
      "26 is even number.\n",
      "28 is even number.\n",
      "30 is even number.\n"
     ]
    }
   ],
   "source": [
    "#print even numbers fromm 1 to 30 uusing for loop\n",
    "for i in range(2,31,2):\n",
    "        print(i, \"is even number.\")"
   ]
  },
  {
   "cell_type": "code",
   "execution_count": 32,
   "id": "d77ea3d2",
   "metadata": {},
   "outputs": [
    {
     "name": "stdout",
     "output_type": "stream",
     "text": [
      "10\n",
      "9\n",
      "8\n",
      "7\n",
      "6\n",
      "5\n",
      "4\n",
      "3\n",
      "2\n",
      "1\n"
     ]
    }
   ],
   "source": [
    "for i in range(10,0,-1):\n",
    "    print(i)"
   ]
  },
  {
   "cell_type": "code",
   "execution_count": 9,
   "id": "909f8846",
   "metadata": {},
   "outputs": [
    {
     "name": "stdout",
     "output_type": "stream",
     "text": [
      "Time waste\n",
      "Time waste\n",
      "Time waste\n",
      "14\n",
      "Time waste\n",
      "Time waste\n",
      "Time waste\n",
      "Time waste\n",
      "Time waste\n",
      "Time waste\n",
      "21\n",
      "Time waste\n",
      "Time waste\n",
      "Time waste\n",
      "Time waste\n",
      "Time waste\n",
      "Time waste\n",
      "28\n",
      "Time waste\n",
      "Time waste\n",
      "Time waste\n",
      "Time waste\n",
      "Time waste\n",
      "Time waste\n",
      "35\n",
      "Time waste\n",
      "Time waste\n",
      "Time waste\n",
      "Time waste\n",
      "Time waste\n",
      "Time waste\n",
      "42\n",
      "Time waste\n",
      "Time waste\n",
      "Time waste\n",
      "Time waste\n",
      "Time waste\n",
      "Time waste\n",
      "49\n",
      "Time waste\n",
      "Time waste\n",
      "Time waste\n",
      "Time waste\n",
      "Time waste\n",
      "Time waste\n",
      "56\n",
      "Time waste\n",
      "Time waste\n",
      "Time waste\n",
      "Time waste\n",
      "Time waste\n",
      "Total sum of variable is 245\n"
     ]
    }
   ],
   "source": [
    "sum = 0\n",
    "for i in range (11,62):\n",
    "    if i % 7 == 0:\n",
    "        sum = sum + i\n",
    "        print(i)\n",
    "    else:\n",
    "        print(\"Time waste\")\n",
    "        \n",
    "print(\"Total sum of variable is\", sum)"
   ]
  },
  {
   "cell_type": "code",
   "execution_count": 12,
   "id": "1464b6c4",
   "metadata": {},
   "outputs": [
    {
     "name": "stdout",
     "output_type": "stream",
     "text": [
      "Time Waste 11\n",
      "Time Waste 12\n",
      "Time Waste 13\n",
      "21\n",
      "28\n",
      "35\n",
      "42\n",
      "49\n",
      "56\n",
      "63\n",
      "Total sum is 245\n"
     ]
    }
   ],
   "source": [
    "sum = 0\n",
    "i = 11\n",
    "while(i<63):\n",
    "    if i % 7 == 0:\n",
    "        sum = sum + i\n",
    "        i = i + 7\n",
    "        print(i)\n",
    "    else:\n",
    "        print(\"Time Waste\", i)\n",
    "        i = i + 1\n",
    "\n",
    "print(\"Total sum is\", sum)"
   ]
  },
  {
   "cell_type": "code",
   "execution_count": 24,
   "id": "0e7d3e9d",
   "metadata": {},
   "outputs": [
    {
     "name": "stdout",
     "output_type": "stream",
     "text": [
      "Enter first number: 11\n",
      "Enter second number: 62\n",
      "\n",
      "\n",
      "Time Waste 11\n",
      "Time Waste 12\n",
      "Time Waste 13\n",
      "14\n",
      "21\n",
      "28\n",
      "35\n",
      "42\n",
      "49\n",
      "56\n",
      "\n",
      "Total sum is of number divisible by 7 between 11 & 62 is 245\n"
     ]
    }
   ],
   "source": [
    "sum = 0\n",
    "first_num = int(input(\"Enter first number: \")) \n",
    "second_num = int(input(\"Enter second number: \"))\n",
    "print(\"\\n\")\n",
    "i = first_num\n",
    "while(i < second_num + 1):\n",
    "    if i % 7 == 0:\n",
    "        sum = sum + i\n",
    "        print(i)\n",
    "        i = i + 7\n",
    "    else:\n",
    "        print(\"Time Waste\", i)\n",
    "        i = i + 1\n",
    "\n",
    "print(\"\\nTotal sum is of number divisible by 7 between\",first_num,\"&\",second_num,\"is\", sum)"
   ]
  }
 ],
 "metadata": {
  "kernelspec": {
   "display_name": "Python 3 (ipykernel)",
   "language": "python",
   "name": "python3"
  },
  "language_info": {
   "codemirror_mode": {
    "name": "ipython",
    "version": 3
   },
   "file_extension": ".py",
   "mimetype": "text/x-python",
   "name": "python",
   "nbconvert_exporter": "python",
   "pygments_lexer": "ipython3",
   "version": "3.9.12"
  }
 },
 "nbformat": 4,
 "nbformat_minor": 5
}
