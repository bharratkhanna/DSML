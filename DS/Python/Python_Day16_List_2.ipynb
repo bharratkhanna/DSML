{
 "cells": [
  {
   "cell_type": "code",
   "execution_count": 44,
   "id": "5d6fb0cb",
   "metadata": {},
   "outputs": [
    {
     "data": {
      "text/plain": [
       "['__add__',\n",
       " '__class__',\n",
       " '__class_getitem__',\n",
       " '__contains__',\n",
       " '__delattr__',\n",
       " '__delitem__',\n",
       " '__dir__',\n",
       " '__doc__',\n",
       " '__eq__',\n",
       " '__format__',\n",
       " '__ge__',\n",
       " '__getattribute__',\n",
       " '__getitem__',\n",
       " '__gt__',\n",
       " '__hash__',\n",
       " '__iadd__',\n",
       " '__imul__',\n",
       " '__init__',\n",
       " '__init_subclass__',\n",
       " '__iter__',\n",
       " '__le__',\n",
       " '__len__',\n",
       " '__lt__',\n",
       " '__mul__',\n",
       " '__ne__',\n",
       " '__new__',\n",
       " '__reduce__',\n",
       " '__reduce_ex__',\n",
       " '__repr__',\n",
       " '__reversed__',\n",
       " '__rmul__',\n",
       " '__setattr__',\n",
       " '__setitem__',\n",
       " '__sizeof__',\n",
       " '__str__',\n",
       " '__subclasshook__',\n",
       " 'append',\n",
       " 'clear',\n",
       " 'copy',\n",
       " 'count',\n",
       " 'extend',\n",
       " 'index',\n",
       " 'insert',\n",
       " 'pop',\n",
       " 'remove',\n",
       " 'reverse',\n",
       " 'sort']"
      ]
     },
     "execution_count": 44,
     "metadata": {},
     "output_type": "execute_result"
    }
   ],
   "source": [
    "dir(list)"
   ]
  },
  {
   "cell_type": "code",
   "execution_count": 4,
   "id": "b0a119be",
   "metadata": {},
   "outputs": [],
   "source": [
    "marks = [24,56,78,91,24]"
   ]
  },
  {
   "cell_type": "code",
   "execution_count": 5,
   "id": "6f18fe45",
   "metadata": {},
   "outputs": [
    {
     "data": {
      "text/plain": [
       "24"
      ]
     },
     "execution_count": 5,
     "metadata": {},
     "output_type": "execute_result"
    }
   ],
   "source": [
    "var_pop_element = marks.pop()\n",
    "var_pop_element"
   ]
  },
  {
   "cell_type": "code",
   "execution_count": 11,
   "id": "2e5006b6",
   "metadata": {},
   "outputs": [],
   "source": [
    "results = [12,17,19,23,35,67,78]"
   ]
  },
  {
   "cell_type": "code",
   "execution_count": 7,
   "id": "7a387e1d",
   "metadata": {},
   "outputs": [],
   "source": [
    "#remove - It also removes the element and requires index stored value"
   ]
  },
  {
   "cell_type": "code",
   "execution_count": 12,
   "id": "0d91e8b2",
   "metadata": {},
   "outputs": [],
   "source": [
    "results.remove(12)"
   ]
  },
  {
   "cell_type": "code",
   "execution_count": 13,
   "id": "9d8a1d3c",
   "metadata": {},
   "outputs": [
    {
     "data": {
      "text/plain": [
       "[17, 19, 23, 35, 67, 78]"
      ]
     },
     "execution_count": 13,
     "metadata": {},
     "output_type": "execute_result"
    }
   ],
   "source": [
    "results"
   ]
  },
  {
   "cell_type": "code",
   "execution_count": 23,
   "id": "b2f4665f",
   "metadata": {},
   "outputs": [],
   "source": [
    "#extend - It extends the list"
   ]
  },
  {
   "cell_type": "code",
   "execution_count": 24,
   "id": "f97b2005",
   "metadata": {},
   "outputs": [],
   "source": [
    "fruits = ['Apple','Orange', 'Grapes']"
   ]
  },
  {
   "cell_type": "code",
   "execution_count": 25,
   "id": "3eb1bf2a",
   "metadata": {},
   "outputs": [],
   "source": [
    "fruits.extend(['Papaya','Mango', 'Pineapple'])"
   ]
  },
  {
   "cell_type": "code",
   "execution_count": 26,
   "id": "27889108",
   "metadata": {},
   "outputs": [
    {
     "data": {
      "text/plain": [
       "['Apple', 'Orange', 'Grapes', 'Papaya', 'Mango', 'Pineapple']"
      ]
     },
     "execution_count": 26,
     "metadata": {},
     "output_type": "execute_result"
    }
   ],
   "source": [
    "fruits"
   ]
  },
  {
   "cell_type": "code",
   "execution_count": 27,
   "id": "43992360",
   "metadata": {},
   "outputs": [
    {
     "data": {
      "text/plain": [
       "[17, 19, 23, 35, 67, 78]"
      ]
     },
     "execution_count": 27,
     "metadata": {},
     "output_type": "execute_result"
    }
   ],
   "source": [
    "results"
   ]
  },
  {
   "cell_type": "code",
   "execution_count": 28,
   "id": "4609b600",
   "metadata": {},
   "outputs": [],
   "source": [
    "#reverse - Reverses the list"
   ]
  },
  {
   "cell_type": "code",
   "execution_count": 30,
   "id": "2a55c46b",
   "metadata": {},
   "outputs": [],
   "source": [
    "results.reverse()"
   ]
  },
  {
   "cell_type": "code",
   "execution_count": 31,
   "id": "8364fed9",
   "metadata": {},
   "outputs": [
    {
     "data": {
      "text/plain": [
       "[78, 67, 35, 23, 19, 17]"
      ]
     },
     "execution_count": 31,
     "metadata": {},
     "output_type": "execute_result"
    }
   ],
   "source": [
    "results"
   ]
  },
  {
   "cell_type": "code",
   "execution_count": 32,
   "id": "fb3f3f50",
   "metadata": {},
   "outputs": [],
   "source": [
    "#sort- It sort the list, Default in ascending"
   ]
  },
  {
   "cell_type": "code",
   "execution_count": 35,
   "id": "58ac5787",
   "metadata": {},
   "outputs": [],
   "source": [
    "results.sort(reverse = False) #reverse in ascending order"
   ]
  },
  {
   "cell_type": "code",
   "execution_count": 36,
   "id": "d9ff2994",
   "metadata": {},
   "outputs": [
    {
     "data": {
      "text/plain": [
       "[17, 19, 23, 35, 67, 78]"
      ]
     },
     "execution_count": 36,
     "metadata": {},
     "output_type": "execute_result"
    }
   ],
   "source": [
    "results"
   ]
  },
  {
   "cell_type": "code",
   "execution_count": 37,
   "id": "259c7429",
   "metadata": {},
   "outputs": [],
   "source": [
    "#index - it tells index of  specific elemments, In case of repetition, it returns the value of first element"
   ]
  },
  {
   "cell_type": "code",
   "execution_count": 38,
   "id": "03db90ae",
   "metadata": {},
   "outputs": [],
   "source": [
    "age = [21,25,28,29,25,21,29,9,56,78]"
   ]
  },
  {
   "cell_type": "code",
   "execution_count": 40,
   "id": "e3548213",
   "metadata": {},
   "outputs": [
    {
     "data": {
      "text/plain": [
       "9"
      ]
     },
     "execution_count": 40,
     "metadata": {},
     "output_type": "execute_result"
    }
   ],
   "source": [
    "age.index(78)"
   ]
  },
  {
   "cell_type": "code",
   "execution_count": 41,
   "id": "36baea8e",
   "metadata": {},
   "outputs": [
    {
     "data": {
      "text/plain": [
       "1"
      ]
     },
     "execution_count": 41,
     "metadata": {},
     "output_type": "execute_result"
    }
   ],
   "source": [
    "age.index(25)"
   ]
  },
  {
   "cell_type": "code",
   "execution_count": 42,
   "id": "88503e12",
   "metadata": {},
   "outputs": [],
   "source": [
    "#count - it count number of times it is in the list"
   ]
  },
  {
   "cell_type": "code",
   "execution_count": 43,
   "id": "2d1b6ce9",
   "metadata": {},
   "outputs": [
    {
     "data": {
      "text/plain": [
       "2"
      ]
     },
     "execution_count": 43,
     "metadata": {},
     "output_type": "execute_result"
    }
   ],
   "source": [
    "age.count(25)"
   ]
  },
  {
   "cell_type": "code",
   "execution_count": 45,
   "id": "6a4b48dc",
   "metadata": {},
   "outputs": [],
   "source": [
    "#copy"
   ]
  },
  {
   "cell_type": "code",
   "execution_count": 52,
   "id": "bea50bcb",
   "metadata": {},
   "outputs": [],
   "source": [
    "age_std = age.copy() #it xerox value to new place & memory"
   ]
  },
  {
   "cell_type": "code",
   "execution_count": 53,
   "id": "8b2359be",
   "metadata": {},
   "outputs": [
    {
     "data": {
      "text/plain": [
       "[21, 25, 28, 29, 25, 21, 29, 9, 56, 78]"
      ]
     },
     "execution_count": 53,
     "metadata": {},
     "output_type": "execute_result"
    }
   ],
   "source": [
    "age_std"
   ]
  },
  {
   "cell_type": "code",
   "execution_count": 54,
   "id": "133b3761",
   "metadata": {},
   "outputs": [
    {
     "data": {
      "text/plain": [
       "[21, 25, 28, 29, 25, 21, 29, 9, 56, 78]"
      ]
     },
     "execution_count": 54,
     "metadata": {},
     "output_type": "execute_result"
    }
   ],
   "source": [
    "age_new = age #while this points the value to age\n",
    "age_new"
   ]
  },
  {
   "cell_type": "code",
   "execution_count": 55,
   "id": "7b911174",
   "metadata": {},
   "outputs": [],
   "source": [
    "age_new.append('Cat')"
   ]
  },
  {
   "cell_type": "code",
   "execution_count": 56,
   "id": "8e7824d2",
   "metadata": {},
   "outputs": [
    {
     "data": {
      "text/plain": [
       "[21, 25, 28, 29, 25, 21, 29, 9, 56, 78, 'Cat']"
      ]
     },
     "execution_count": 56,
     "metadata": {},
     "output_type": "execute_result"
    }
   ],
   "source": [
    "age_new"
   ]
  },
  {
   "cell_type": "code",
   "execution_count": 58,
   "id": "e9080ac0",
   "metadata": {},
   "outputs": [
    {
     "data": {
      "text/plain": [
       "[21, 25, 28, 29, 25, 21, 29, 9, 56, 78, 'Cat']"
      ]
     },
     "execution_count": 58,
     "metadata": {},
     "output_type": "execute_result"
    }
   ],
   "source": [
    "age"
   ]
  },
  {
   "cell_type": "code",
   "execution_count": 60,
   "id": "c478f2dd",
   "metadata": {},
   "outputs": [
    {
     "data": {
      "text/plain": [
       "[21, 25, 28, 29, 25, 21, 29, 9, 56, 78]"
      ]
     },
     "execution_count": 60,
     "metadata": {},
     "output_type": "execute_result"
    }
   ],
   "source": [
    "age_std"
   ]
  },
  {
   "cell_type": "code",
   "execution_count": 61,
   "id": "72dfd35d",
   "metadata": {},
   "outputs": [
    {
     "data": {
      "text/plain": [
       "140648150856192"
      ]
     },
     "execution_count": 61,
     "metadata": {},
     "output_type": "execute_result"
    }
   ],
   "source": [
    "id(age)"
   ]
  },
  {
   "cell_type": "code",
   "execution_count": 63,
   "id": "f37a6647",
   "metadata": {},
   "outputs": [
    {
     "data": {
      "text/plain": [
       "140648150856192"
      ]
     },
     "execution_count": 63,
     "metadata": {},
     "output_type": "execute_result"
    }
   ],
   "source": [
    "id(age_new) #same location as age"
   ]
  },
  {
   "cell_type": "code",
   "execution_count": 65,
   "id": "9d4d8aaa",
   "metadata": {},
   "outputs": [
    {
     "data": {
      "text/plain": [
       "140648151237440"
      ]
     },
     "execution_count": 65,
     "metadata": {},
     "output_type": "execute_result"
    }
   ],
   "source": [
    "id(age_std) #new location"
   ]
  },
  {
   "cell_type": "code",
   "execution_count": 80,
   "id": "e54a0541",
   "metadata": {},
   "outputs": [],
   "source": [
    "x = [12,13,14]"
   ]
  },
  {
   "cell_type": "code",
   "execution_count": 81,
   "id": "feaabc06",
   "metadata": {},
   "outputs": [],
   "source": [
    "y = x"
   ]
  },
  {
   "cell_type": "code",
   "execution_count": 82,
   "id": "8d6923dd",
   "metadata": {},
   "outputs": [
    {
     "name": "stdout",
     "output_type": "stream",
     "text": [
      "True\n",
      "True\n"
     ]
    }
   ],
   "source": [
    "print(x==y)\n",
    "print(x is y)"
   ]
  },
  {
   "cell_type": "code",
   "execution_count": 83,
   "id": "a3bc92d1",
   "metadata": {},
   "outputs": [],
   "source": [
    "z = x.copy()"
   ]
  },
  {
   "cell_type": "code",
   "execution_count": 86,
   "id": "946e79b2",
   "metadata": {},
   "outputs": [
    {
     "name": "stdout",
     "output_type": "stream",
     "text": [
      "True\n",
      "False\n"
     ]
    }
   ],
   "source": [
    "print(x==z)\n",
    "print(x is z) #is check whethers the memory location is same or not?"
   ]
  }
 ],
 "metadata": {
  "kernelspec": {
   "display_name": "Python 3 (ipykernel)",
   "language": "python",
   "name": "python3"
  },
  "language_info": {
   "codemirror_mode": {
    "name": "ipython",
    "version": 3
   },
   "file_extension": ".py",
   "mimetype": "text/x-python",
   "name": "python",
   "nbconvert_exporter": "python",
   "pygments_lexer": "ipython3",
   "version": "3.9.12"
  }
 },
 "nbformat": 4,
 "nbformat_minor": 5
}
