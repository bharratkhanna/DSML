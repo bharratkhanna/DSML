{
 "cells": [
  {
   "cell_type": "code",
   "execution_count": null,
   "id": "82a277b4",
   "metadata": {},
   "outputs": [],
   "source": [
    "# Find Exception name: -"
   ]
  },
  {
   "cell_type": "code",
   "execution_count": 2,
   "id": "8b912c55",
   "metadata": {
    "tags": []
   },
   "outputs": [
    {
     "name": "stdout",
     "output_type": "stream",
     "text": [
      "Enter number: 5\n",
      "Enter number: a\n",
      "\n",
      "Not Divisible! invalid literal for int() with base 10: 'a'\n"
     ]
    }
   ],
   "source": [
    "num1 = input(\"Enter number: \")\n",
    "num2 = input(\"Enter number: \")\n",
    "\n",
    "try:\n",
    "    result = int(num1)/int(num2)\n",
    "    print(result)\n",
    "    \n",
    "except Exception as e: \n",
    "    print(\"\\nNot Divisible!\",e) #can print and see whast the exception is"
   ]
  },
  {
   "cell_type": "code",
   "execution_count": 3,
   "id": "a4ebee69",
   "metadata": {},
   "outputs": [
    {
     "name": "stdout",
     "output_type": "stream",
     "text": [
      "Enter a number: ab\n",
      "\n",
      "Cannot be converted invalid literal for int() with base 10: 'ab'\n"
     ]
    }
   ],
   "source": [
    "num1 = input(\"Enter a number: \")\n",
    "try:\n",
    "    int_conversation = int(num1)\n",
    "    print(\"\\n\",int_conversation,sep=\"\")\n",
    "except Exception as e:\n",
    "    print(\"\\nCannot be converted\",e)"
   ]
  },
  {
   "cell_type": "code",
   "execution_count": 4,
   "id": "814122b9",
   "metadata": {},
   "outputs": [
    {
     "name": "stdout",
     "output_type": "stream",
     "text": [
      "Enter number: 5\n",
      "Enter number: a\n",
      "\n",
      "Please provide valid input\n"
     ]
    }
   ],
   "source": [
    "# Different messages for different error:\n",
    "\n",
    "num1 = input(\"Enter number: \")\n",
    "num2 = input(\"Enter number: \")\n",
    "\n",
    "try:\n",
    "    result = int(num1)/int(num2)\n",
    "    print(result)\n",
    "    \n",
    "except ZeroDivisionError: # for division by 0\n",
    "    print(\"\\nNot Divisible! by zero\") \n",
    "except ValueError: # for input other than integer\n",
    "    print(\"\\nPlease provide valid input\")"
   ]
  },
  {
   "cell_type": "code",
   "execution_count": 5,
   "id": "62b6c3fc",
   "metadata": {},
   "outputs": [
    {
     "name": "stdout",
     "output_type": "stream",
     "text": [
      "Enter number: 5\n",
      "Enter number: a\n",
      "\n",
      "Rasising exception due to no valid input\n"
     ]
    }
   ],
   "source": [
    "# Managing multiple errors in same place:-\n",
    "\n",
    "num1 = input(\"Enter number: \")\n",
    "num2 = input(\"Enter number: \")\n",
    "\n",
    "try:\n",
    "    result = int(num1)/int(num2)\n",
    "    print(result)\n",
    "    \n",
    "except (ZeroDivisionError,ValueError): # combining output for two errors\n",
    "    print(\"\\nRasising exception due to no valid input\") \n"
   ]
  },
  {
   "cell_type": "code",
   "execution_count": 6,
   "id": "e5415e5d",
   "metadata": {},
   "outputs": [
    {
     "name": "stdout",
     "output_type": "stream",
     "text": [
      "Enter number: 5\n",
      "Enter number: 5\n",
      "\n",
      "1.0\n",
      "\n",
      "Dvision Successful!\n"
     ]
    }
   ],
   "source": [
    "# else in exception:-\n",
    "\n",
    "num1 = input(\"Enter number: \")\n",
    "num2 = input(\"Enter number: \")\n",
    "\n",
    "try:\n",
    "    result = int(num1)/int(num2)\n",
    "    print(\"\\n\",result,sep =\"\")\n",
    "    \n",
    "except ZeroDivisionError: # for division by 0\n",
    "    print(\"\\nNot Divisible! by zero\") \n",
    "else:\n",
    "    print(\"\\nDvision Successful!\")"
   ]
  },
  {
   "cell_type": "code",
   "execution_count": 7,
   "id": "fb6aa55f",
   "metadata": {},
   "outputs": [
    {
     "name": "stdout",
     "output_type": "stream",
     "text": [
      "Enter number: 5\n",
      "Enter number: 0\n",
      "\n",
      "Not Divisible! by zero\n",
      "Mission Successful.\n"
     ]
    }
   ],
   "source": [
    "# finally will be executed after excution of either try or except\n",
    "\n",
    "num1 = input(\"Enter number: \")\n",
    "num2 = input(\"Enter number: \")\n",
    "\n",
    "try:\n",
    "    result = int(num1)/int(num2)\n",
    "    print(\"\\n\",result,sep =\"\")\n",
    "    \n",
    "except ZeroDivisionError: # for division by 0\n",
    "    print(\"\\nNot Divisible! by zero\") \n",
    "else:\n",
    "    print(\"\\nDvision Successful!\")\n",
    "finally:\n",
    "    print(\"Mission Successful.\")"
   ]
  },
  {
   "cell_type": "markdown",
   "id": "62d1d268",
   "metadata": {},
   "source": [
    "# File Handling"
   ]
  },
  {
   "cell_type": "code",
   "execution_count": 10,
   "id": "55b92614",
   "metadata": {},
   "outputs": [],
   "source": [
    "# os - operating system\n",
    "import os "
   ]
  },
  {
   "cell_type": "code",
   "execution_count": 11,
   "id": "0b63fd72",
   "metadata": {},
   "outputs": [
    {
     "data": {
      "text/plain": [
       "'/Users/bharatkhanna/Desktop'"
      ]
     },
     "execution_count": 11,
     "metadata": {},
     "output_type": "execute_result"
    }
   ],
   "source": [
    "#pwd - print working directory\n",
    "os.getcwd()  # unknown error, not working"
   ]
  },
  {
   "cell_type": "code",
   "execution_count": 12,
   "id": "73778524",
   "metadata": {},
   "outputs": [],
   "source": [
    "#chdir - change directory"
   ]
  },
  {
   "cell_type": "code",
   "execution_count": 13,
   "id": "e01f0a2a",
   "metadata": {},
   "outputs": [],
   "source": [
    "os.chdir(\"/Users/bharatkhanna/Desktop\")"
   ]
  },
  {
   "cell_type": "code",
   "execution_count": 14,
   "id": "b1d79dd2",
   "metadata": {},
   "outputs": [
    {
     "data": {
      "text/plain": [
       "'/Users/bharatkhanna/Desktop'"
      ]
     },
     "execution_count": 14,
     "metadata": {},
     "output_type": "execute_result"
    }
   ],
   "source": [
    "pwd"
   ]
  },
  {
   "cell_type": "code",
   "execution_count": 15,
   "id": "1f878b3a",
   "metadata": {},
   "outputs": [
    {
     "data": {
      "text/plain": [
       "'/Users/bharatkhanna/Desktop'"
      ]
     },
     "execution_count": 15,
     "metadata": {},
     "output_type": "execute_result"
    }
   ],
   "source": [
    "# getchwd() - get workinfg directory\n",
    "os.getcwd() "
   ]
  },
  {
   "cell_type": "code",
   "execution_count": 16,
   "id": "55bee158",
   "metadata": {},
   "outputs": [],
   "source": [
    "os.chdir(\"/Users/bharatkhanna/Documents/Python\")"
   ]
  },
  {
   "cell_type": "code",
   "execution_count": 17,
   "id": "e495b22a",
   "metadata": {},
   "outputs": [
    {
     "data": {
      "text/plain": [
       "'/Users/bharatkhanna/Documents/Python'"
      ]
     },
     "execution_count": 17,
     "metadata": {},
     "output_type": "execute_result"
    }
   ],
   "source": [
    "pwd"
   ]
  },
  {
   "cell_type": "code",
   "execution_count": null,
   "id": "73e2abac",
   "metadata": {},
   "outputs": [],
   "source": [
    "# mkdir - make directory\n",
    "os.mkdir()"
   ]
  }
 ],
 "metadata": {
  "kernelspec": {
   "display_name": "Python 3 (ipykernel)",
   "language": "python",
   "name": "python3"
  },
  "language_info": {
   "codemirror_mode": {
    "name": "ipython",
    "version": 3
   },
   "file_extension": ".py",
   "mimetype": "text/x-python",
   "name": "python",
   "nbconvert_exporter": "python",
   "pygments_lexer": "ipython3",
   "version": "3.9.12"
  },
  "varInspector": {
   "cols": {
    "lenName": 16,
    "lenType": 16,
    "lenVar": 40
   },
   "kernels_config": {
    "python": {
     "delete_cmd_postfix": "",
     "delete_cmd_prefix": "del ",
     "library": "var_list.py",
     "varRefreshCmd": "print(var_dic_list())"
    },
    "r": {
     "delete_cmd_postfix": ") ",
     "delete_cmd_prefix": "rm(",
     "library": "var_list.r",
     "varRefreshCmd": "cat(var_dic_list()) "
    }
   },
   "types_to_exclude": [
    "module",
    "function",
    "builtin_function_or_method",
    "instance",
    "_Feature"
   ],
   "window_display": false
  }
 },
 "nbformat": 4,
 "nbformat_minor": 5
}
