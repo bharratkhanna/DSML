{
 "cells": [
  {
   "cell_type": "markdown",
   "id": "082b3bef",
   "metadata": {},
   "source": [
    "<h1><center> Linear Algebra 2"
   ]
  },
  {
   "cell_type": "markdown",
   "id": "51a51b7b",
   "metadata": {},
   "source": [
    "### Tensor Transpose"
   ]
  },
  {
   "cell_type": "markdown",
   "id": "cc31442d",
   "metadata": {},
   "source": [
    "- Transpose of scalar is itself , e.g: $x^T = x$\n",
    "- Transpose pf vector, seen earlier, converts column to row _(vice versa)_\n",
    "- Scalar and vector transposition are special cases of **Matrix Transposition**\n",
    "    - Flip of axes over the main diagonal such that:\n",
    "    \n",
    "### $$ \\boldsymbol{X^T_{i,j}= X_{j,i}}$$\n",
    "    \n",
    "## $$ {\\begin {bmatrix}x_{1,1} & x_{1,2}\\\\x_{2,1} & x_{1,2}\\\\x_{3,1} & x_{1,2} \\end{bmatrix}}^T =  \\begin {bmatrix}x_{1,1} & x_{2,1} & x_{3,1}\\\\x_{1,2} & x_{2,2} & x_{3,2} \\end{bmatrix}$$"
   ]
  },
  {
   "cell_type": "code",
   "execution_count": 3,
   "id": "5f6cd86b",
   "metadata": {},
   "outputs": [],
   "source": [
    "import torch\n",
    "import numpy as np\n",
    "import tensorflow as tf\n",
    "import matplotlib.pyplot as plt"
   ]
  },
  {
   "cell_type": "code",
   "execution_count": 8,
   "id": "0d19c487",
   "metadata": {},
   "outputs": [
    {
     "data": {
      "text/plain": [
       "tensor([[25,  2],\n",
       "        [ 5, 26],\n",
       "        [ 3,  7]])"
      ]
     },
     "execution_count": 8,
     "metadata": {},
     "output_type": "execute_result"
    }
   ],
   "source": [
    "# Torch\n",
    "\n",
    "X_pt= torch.tensor([\n",
    "    [25,2],\n",
    "    [5,26],\n",
    "    [3,7]\n",
    "])\n",
    "X_pt"
   ]
  },
  {
   "cell_type": "code",
   "execution_count": 12,
   "id": "0c512825",
   "metadata": {},
   "outputs": [
    {
     "data": {
      "text/plain": [
       "tensor([[25,  5,  3],\n",
       "        [ 2, 26,  7]])"
      ]
     },
     "execution_count": 12,
     "metadata": {},
     "output_type": "execute_result"
    }
   ],
   "source": [
    "# Torch Transpose\n",
    "X_pt.T"
   ]
  },
  {
   "cell_type": "code",
   "execution_count": 9,
   "id": "ce6a3b4f",
   "metadata": {},
   "outputs": [
    {
     "data": {
      "text/plain": [
       "<tf.Variable 'Variable:0' shape=(3, 2) dtype=int32, numpy=\n",
       "array([[25,  2],\n",
       "       [ 5, 26],\n",
       "       [ 3,  7]])>"
      ]
     },
     "execution_count": 9,
     "metadata": {},
     "output_type": "execute_result"
    }
   ],
   "source": [
    "# Tensorflow\n",
    "\n",
    "X_tf = tf.Variable([\n",
    "    [25,2],\n",
    "    [5,26],\n",
    "    [3,7]\n",
    "])\n",
    "\n",
    "X_tf"
   ]
  },
  {
   "cell_type": "code",
   "execution_count": 13,
   "id": "d748e7b3",
   "metadata": {},
   "outputs": [
    {
     "data": {
      "text/plain": [
       "<tf.Tensor: shape=(2, 3), dtype=int32, numpy=\n",
       "array([[25,  5,  3],\n",
       "       [ 2, 26,  7]])>"
      ]
     },
     "execution_count": 13,
     "metadata": {},
     "output_type": "execute_result"
    }
   ],
   "source": [
    "# Tensorflow Transpose\n",
    "tf.transpose(X_tf)"
   ]
  },
  {
   "cell_type": "markdown",
   "id": "0ff6e5be",
   "metadata": {},
   "source": [
    "#### Basic Tensor Arithmetic"
   ]
  },
  {
   "cell_type": "code",
   "execution_count": 23,
   "id": "0f938591",
   "metadata": {},
   "outputs": [
    {
     "name": "stdout",
     "output_type": "stream",
     "text": [
      "tensor([[25,  2],\n",
      "        [ 5, 26],\n",
      "        [ 3,  7]]) \n",
      "\n",
      " tensor([[27,  4],\n",
      "        [ 7, 28],\n",
      "        [ 5,  9]]) \n",
      "\n",
      " tensor([[52,  6],\n",
      "        [12, 54],\n",
      "        [ 8, 16]])\n"
     ]
    }
   ],
   "source": [
    "# Torch Arithematic\n",
    "\n",
    "print(f'{X_pt} \\n\\n {X_pt+2} \\n\\n {X_pt*2 +2}')"
   ]
  },
  {
   "cell_type": "code",
   "execution_count": 24,
   "id": "e52cd5a5",
   "metadata": {},
   "outputs": [
    {
     "name": "stdout",
     "output_type": "stream",
     "text": [
      "<tf.Variable 'Variable:0' shape=(3, 2) dtype=int32, numpy=\n",
      "array([[25,  2],\n",
      "       [ 5, 26],\n",
      "       [ 3,  7]])> \n",
      "\n",
      " [[27  4]\n",
      " [ 7 28]\n",
      " [ 5  9]] \n",
      "\n",
      " [[52  6]\n",
      " [12 54]\n",
      " [ 8 16]]\n"
     ]
    }
   ],
   "source": [
    "# Tensorflow Arithematic\n",
    "\n",
    "print(f'{X_tf} \\n\\n {X_tf+2} \\n\\n {X_tf*2 +2}')"
   ]
  },
  {
   "cell_type": "markdown",
   "id": "6c985c28",
   "metadata": {},
   "source": [
    "### Hadamard Product"
   ]
  },
  {
   "cell_type": "markdown",
   "id": "d24e9ee2",
   "metadata": {},
   "source": [
    "If two tensors have same size, operations are often by default elementr - wise. this is called as **Hadamard product**. The mathematical notation is:-\n",
    "### $$A\\odot B$$"
   ]
  },
  {
   "cell_type": "code",
   "execution_count": 25,
   "id": "83e6d077",
   "metadata": {},
   "outputs": [
    {
     "data": {
      "text/plain": [
       "tensor([[675,   8],\n",
       "        [ 35, 728],\n",
       "        [ 15,  63]])"
      ]
     },
     "execution_count": 25,
     "metadata": {},
     "output_type": "execute_result"
    }
   ],
   "source": [
    "# Torch Hadamrd Product\n",
    "\n",
    "A_pt = X_pt + 2\n",
    "A_pt * X_pt"
   ]
  },
  {
   "cell_type": "code",
   "execution_count": 26,
   "id": "78ec8d0f",
   "metadata": {},
   "outputs": [
    {
     "data": {
      "text/plain": [
       "<tf.Tensor: shape=(3, 2), dtype=int32, numpy=\n",
       "array([[675,   8],\n",
       "       [ 35, 728],\n",
       "       [ 15,  63]])>"
      ]
     },
     "execution_count": 26,
     "metadata": {},
     "output_type": "execute_result"
    }
   ],
   "source": [
    "# Tensorflow Hadamard Product\n",
    "\n",
    "A_tf = X_tf + 2\n",
    "A_tf * X_tf"
   ]
  },
  {
   "cell_type": "markdown",
   "id": "fd82cde8",
   "metadata": {},
   "source": [
    "### Tensor Reduction"
   ]
  },
  {
   "cell_type": "markdown",
   "id": "c22930a7",
   "metadata": {},
   "source": [
    "Calculating sum across all elements of a tensor is a c common operatin For e.g:\n",
    "    - For vector $\\boldsymbol x$ length $n$, we calculate\n",
    "   ### $$\\sum_{i=1}^{m}{x_i}$$\n",
    "    - For matrix $\\boldsymbol X$ with a $m$ by $n$ diimesnions, we calculate \n",
    "   ## $$\\sum_{i=1}^m \\sum_{j=1}^n {X_{i,j}}$$"
   ]
  },
  {
   "cell_type": "code",
   "execution_count": 28,
   "id": "7b6a80ae",
   "metadata": {},
   "outputs": [
    {
     "data": {
      "text/plain": [
       "tensor([[25,  2],\n",
       "        [ 5, 26],\n",
       "        [ 3,  7]])"
      ]
     },
     "execution_count": 28,
     "metadata": {},
     "output_type": "execute_result"
    }
   ],
   "source": [
    "X_pt"
   ]
  },
  {
   "cell_type": "code",
   "execution_count": 29,
   "id": "15dc1cfc",
   "metadata": {},
   "outputs": [
    {
     "data": {
      "text/plain": [
       "68"
      ]
     },
     "execution_count": 29,
     "metadata": {},
     "output_type": "execute_result"
    }
   ],
   "source": [
    "# Reduction\n",
    "\n",
    "25 + 2+ 5 + 26 + 3 + 7"
   ]
  },
  {
   "cell_type": "code",
   "execution_count": 40,
   "id": "e5d6fbe5",
   "metadata": {},
   "outputs": [
    {
     "name": "stdout",
     "output_type": "stream",
     "text": [
      "68\n",
      "\n",
      "Row Sum: tensor([33, 35])\n",
      "\n",
      "Column Sum:tensor([27, 31, 10])\n"
     ]
    }
   ],
   "source": [
    "# Torch Reduction\n",
    "\n",
    "X_pt.sum()\n",
    "# OR\n",
    "print(f'{torch.sum(X_pt)}\\n\\nRow Sum: {X_pt.sum(axis=0)}\\n\\nColumn Sum:{X_pt.sum(axis=1)}')"
   ]
  },
  {
   "cell_type": "code",
   "execution_count": 41,
   "id": "8c15fc12",
   "metadata": {},
   "outputs": [
    {
     "name": "stdout",
     "output_type": "stream",
     "text": [
      "68\n",
      "\n",
      "Row Sum: [33 35]\n",
      "\n",
      "Column Sum:[27 31 10] \n"
     ]
    }
   ],
   "source": [
    "# TensorFlow Reduction\n",
    "\n",
    "tf.reduce_sum(X_tf)\n",
    "print(f'{tf.reduce_sum(X_tf)}\\n\\nRow Sum: {tf.reduce_sum(X_tf, axis =0)}\\n\\nColumn Sum:{tf.reduce_sum(X_tf,axis=1)} ')"
   ]
  },
  {
   "cell_type": "markdown",
   "id": "570e795c",
   "metadata": {},
   "source": [
    "#### Types of  other Reduction Operations:\n",
    "- Maximun\n",
    "- Minimum\n",
    "- Mean\n",
    "- Product"
   ]
  },
  {
   "cell_type": "code",
   "execution_count": 42,
   "id": "3afde300",
   "metadata": {},
   "outputs": [
    {
     "data": {
      "text/plain": [
       "(tensor(26),\n",
       " <tf.Tensor: shape=(), dtype=int32, numpy=26>,\n",
       " tensor(2),\n",
       " <tf.Tensor: shape=(), dtype=int32, numpy=2>)"
      ]
     },
     "execution_count": 42,
     "metadata": {},
     "output_type": "execute_result"
    }
   ],
   "source": [
    "torch.max(X_pt), tf.reduce_max(X_tf), torch.min(X_pt), tf.reduce_min(X_tf)"
   ]
  },
  {
   "cell_type": "code",
   "execution_count": 50,
   "id": "d36fffcd",
   "metadata": {
    "scrolled": true
   },
   "outputs": [
    {
     "data": {
      "text/plain": [
       "(tensor(11.3333),\n",
       " <tf.Tensor: shape=(), dtype=int32, numpy=11>,\n",
       " tensor(136500),\n",
       " <tf.Tensor: shape=(), dtype=int32, numpy=136500>)"
      ]
     },
     "execution_count": 50,
     "metadata": {},
     "output_type": "execute_result"
    }
   ],
   "source": [
    "torch.mean(X_pt, dtype = torch.float), tf.reduce_mean(X_tf), torch.prod(X_pt), tf.reduce_prod(X_tf)"
   ]
  },
  {
   "cell_type": "markdown",
   "id": "6fd6231a",
   "metadata": {},
   "source": [
    "### Dot Product"
   ]
  },
  {
   "cell_type": "markdown",
   "id": "37229f41",
   "metadata": {},
   "source": [
    "If we have two vectors say $x$ and $y$# with same length $n$, we can aclculate the dot product between them. In following way:\n",
    "\n",
    "## $$x.y$$\n",
    "\n",
    "We calculate products in an element wise fashion and then sum reductively across the products tyo scalar value:\n",
    "**Hadamard Product + Reduction Sum**:\n",
    "## $$\\sum_{i=1}^n{x_iy_i}$$\n",
    "\n",
    "The dot product is **ubiquitous** in machine learning\n",
    "\n",
    "$*$ Happens with Vecors only, Also called as Scalar Product\n"
   ]
  },
  {
   "cell_type": "code",
   "execution_count": 58,
   "id": "b554e317",
   "metadata": {},
   "outputs": [
    {
     "data": {
      "text/plain": [
       "tensor(12)"
      ]
     },
     "execution_count": 58,
     "metadata": {},
     "output_type": "execute_result"
    }
   ],
   "source": [
    "# Torch Dot\n",
    "\n",
    "x_pt = torch.tensor([25,2,5])\n",
    "y_pt = torch.tensor([0,1,2])\n",
    "\n",
    "torch.dot(x_pt,y_pt)"
   ]
  },
  {
   "cell_type": "code",
   "execution_count": 67,
   "id": "ec4fde57",
   "metadata": {},
   "outputs": [
    {
     "data": {
      "text/plain": [
       "<tf.Tensor: shape=(), dtype=int32, numpy=12>"
      ]
     },
     "execution_count": 67,
     "metadata": {},
     "output_type": "execute_result"
    }
   ],
   "source": [
    "# TensorFlow Dot Prduct\n",
    "\n",
    "x_tf = tf.Variable([25,2,5])\n",
    "y_tf = tf.Variable([0,1,2])\n",
    "\n",
    "tf.tensordot(x_tf,y_tf,axes=1)\n",
    "# OR\n",
    "tf.reduce_sum(tf.multiply(x_tf,y_tf))"
   ]
  },
  {
   "cell_type": "code",
   "execution_count": 68,
   "id": "0cc1d65f",
   "metadata": {},
   "outputs": [
    {
     "data": {
      "text/plain": [
       "12"
      ]
     },
     "execution_count": 68,
     "metadata": {},
     "output_type": "execute_result"
    }
   ],
   "source": [
    "# Dot Product\n",
    "\n",
    "25*0 + 2*1 + 5*2"
   ]
  },
  {
   "cell_type": "markdown",
   "id": "5fd25dad",
   "metadata": {},
   "source": [
    "### Solving linear systems\n",
    "\n",
    "#### Substitution:\n"
   ]
  },
  {
   "cell_type": "markdown",
   "id": "1be5f228",
   "metadata": {},
   "source": [
    "Substitution method in equation is:\n",
    "$$y=3x$$\n",
    "$$-5x +2y =2$$\n",
    "The second equation can be arranged to isolate y:\n",
    "### $$2y = 2 + 5x$$\n",
    "### $$y = \\frac{2+5x}{2} = 1+ \\frac{5x}{2}$$"
   ]
  },
  {
   "cell_type": "code",
   "execution_count": 81,
   "id": "14d10405",
   "metadata": {},
   "outputs": [],
   "source": [
    "x = np.linspace(-10,10,1000)\n",
    "\n",
    "y1 = 3*x\n",
    "y2 = 1 + 5*x/2 "
   ]
  },
  {
   "cell_type": "code",
   "execution_count": 71,
   "id": "750e6e3d",
   "metadata": {},
   "outputs": [
    {
     "data": {
      "text/plain": [
       "Text(0, 0.5, 'y')"
      ]
     },
     "execution_count": 71,
     "metadata": {},
     "output_type": "execute_result"
    },
    {
     "data": {
      "image/png": "[encoded data removed]",
      "text/plain": [
       "<Figure size 640x480 with 1 Axes>"
      ]
     },
     "metadata": {},
     "output_type": "display_data"
    }
   ],
   "source": [
    "fig,ax = plt.subplots()\n",
    "\n",
    "ax.set_xlim([0,3])\n",
    "ax.set_ylim([0,8])\n",
    "ax.plot(x,y1, c=\"tab:green\")\n",
    "ax.plot(x,y2, c=\"tab:red\")\n",
    "\n",
    "plt.axhline(y = 6, color=\"tab:purple\", linestyle=\"--\")\n",
    "plt.axvline(x = 2, color=\"tab:purple\", linestyle=\"--\")\n",
    "\n",
    "plt.title(\"Linear Systems: Subsitution\")\n",
    "plt.xlabel(\"x\")\n",
    "plt.ylabel(\"y\")"
   ]
  },
  {
   "cell_type": "markdown",
   "id": "070dc9f7",
   "metadata": {},
   "source": [
    "#### Elimination"
   ]
  },
  {
   "cell_type": "markdown",
   "id": "56c97ad8",
   "metadata": {},
   "source": [
    "Elimination method equation is:\n",
    "$$2x-3y = 15$$\n",
    "$$4x+10y = 14$$\n",
    "\n",
    "Both equation can be arranged to isolate y:\n",
    "$$-3y=15-2x$$\n",
    "$$y= -5 + \\frac{2x}{3}$$\n",
    "\n",
    "Second equation is:\n",
    "\n",
    "$$y = \\frac{14-4x}{10} = \\frac{7-2x}{5}$$"
   ]
  },
  {
   "cell_type": "code",
   "execution_count": 75,
   "id": "0a358072",
   "metadata": {},
   "outputs": [],
   "source": [
    "x = np.linspace(-10,10,1000)\n",
    "\n",
    "y1 = -5 + 2*x/3\n",
    "y2 = (7-2*x)/5"
   ]
  },
  {
   "cell_type": "code",
   "execution_count": 78,
   "id": "c836a4dd",
   "metadata": {},
   "outputs": [
    {
     "data": {
      "text/plain": [
       "Text(0.5, 1.0, 'Linear Systems: Elimination')"
      ]
     },
     "execution_count": 78,
     "metadata": {},
     "output_type": "execute_result"
    },
    {
     "data": {
      "image/png": "[encoded data removed]",
      "text/plain": [
       "<Figure size 640x480 with 1 Axes>"
      ]
     },
     "metadata": {},
     "output_type": "display_data"
    }
   ],
   "source": [
    "fig,ax = plt.subplots()\n",
    "ax.set_xlim([0,8])\n",
    "ax.set_ylim([-8,8])\n",
    "ax.plot(x,y1,c=\"tab:green\")\n",
    "ax.plot(x,y2,c=\"tab:red\")\n",
    "\n",
    "ax.axvline(x=6,color=\"purple\", linestyle=\"--\")\n",
    "ax.axhline(y=-1,color=\"purple\",linestyle=\"--\")\n",
    "\n",
    "plt.xlabel(\"x\")\n",
    "plt.ylabel(\"y\")\n",
    "plt.title(\"Linear Systems: Elimination\")"
   ]
  }
 ],
 "metadata": {
  "kernelspec": {
   "display_name": "Python 3 (ipykernel)",
   "language": "python",
   "name": "python3"
  },
  "language_info": {
   "codemirror_mode": {
    "name": "ipython",
    "version": 3
   },
   "file_extension": ".py",
   "mimetype": "text/x-python",
   "name": "python",
   "nbconvert_exporter": "python",
   "pygments_lexer": "ipython3",
   "version": "3.9.13"
  }
 },
 "nbformat": 4,
 "nbformat_minor": 5
}
