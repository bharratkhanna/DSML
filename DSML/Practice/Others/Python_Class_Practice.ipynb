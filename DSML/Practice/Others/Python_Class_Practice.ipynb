{
 "cells": [
  {
   "cell_type": "code",
   "execution_count": 3,
   "id": "da54a2e2",
   "metadata": {},
   "outputs": [],
   "source": [
    "class Person:\n",
    "    \n",
    "    def __init__(self, name, gender, age):\n",
    "        self.name = name\n",
    "        self.gender = gender\n",
    "        self.age = age\n",
    "        \n",
    "    def talk(self):\n",
    "        print(\"\\nHi I am\", self.name)\n",
    "        \n",
    "    def vote(self):\n",
    "        if self.age < 18:\n",
    "            print(self.name, \"is not eligible to vote\")\n",
    "        else:\n",
    "            print(self.name, \"is eligible to vote\")"
   ]
  },
  {
   "cell_type": "code",
   "execution_count": 1,
   "id": "b5206c87",
   "metadata": {},
   "outputs": [
    {
     "ename": "NameError",
     "evalue": "name 'Person' is not defined",
     "output_type": "error",
     "traceback": [
      "\u001b[0;31m---------------------------------------------------------------------------\u001b[0m",
      "\u001b[0;31mNameError\u001b[0m                                 Traceback (most recent call last)",
      "Input \u001b[0;32mIn [1]\u001b[0m, in \u001b[0;36m<cell line: 1>\u001b[0;34m()\u001b[0m\n\u001b[0;32m----> 1\u001b[0m obj \u001b[38;5;241m=\u001b[39m \u001b[43mPerson\u001b[49m(\u001b[38;5;124m\"\u001b[39m\u001b[38;5;124mBharat\u001b[39m\u001b[38;5;124m\"\u001b[39m,\u001b[38;5;124m\"\u001b[39m\u001b[38;5;124mMale\u001b[39m\u001b[38;5;124m\"\u001b[39m,\u001b[38;5;241m25\u001b[39m)\n\u001b[1;32m      2\u001b[0m obj\u001b[38;5;241m.\u001b[39mtalk()\n\u001b[1;32m      3\u001b[0m obj\u001b[38;5;241m.\u001b[39mvote()\n",
      "\u001b[0;31mNameError\u001b[0m: name 'Person' is not defined"
     ]
    }
   ],
   "source": [
    "obj = Person(\"Bharat\",\"Male\",25)\n",
    "obj.talk()\n",
    "obj.vote()\n",
    "\n",
    "obj2 = Person(\"Ananya\",\"Female\",17)\n",
    "obj2.talk()\n",
    "obj2.vote()\n"
   ]
  },
  {
   "cell_type": "code",
   "execution_count": 5,
   "id": "76579dfd",
   "metadata": {},
   "outputs": [
    {
     "data": {
      "text/plain": [
       "3"
      ]
     },
     "execution_count": 5,
     "metadata": {},
     "output_type": "execute_result"
    }
   ],
   "source": [
    "a = \"aabac\"\n",
    "a.count(\"a\")"
   ]
  },
  {
   "cell_type": "code",
   "execution_count": 6,
   "id": "52f6307c",
   "metadata": {},
   "outputs": [],
   "source": [
    "a =\"a\""
   ]
  },
  {
   "cell_type": "code",
   "execution_count": 7,
   "id": "bf95193c",
   "metadata": {},
   "outputs": [
    {
     "data": {
      "text/plain": [
       "'a'"
      ]
     },
     "execution_count": 7,
     "metadata": {},
     "output_type": "execute_result"
    }
   ],
   "source": [
    "a"
   ]
  },
  {
   "cell_type": "code",
   "execution_count": 8,
   "id": "dff68e9a",
   "metadata": {},
   "outputs": [
    {
     "data": {
      "text/plain": [
       "122"
      ]
     },
     "execution_count": 8,
     "metadata": {},
     "output_type": "execute_result"
    }
   ],
   "source": [
    "ord(\"z\")"
   ]
  },
  {
   "cell_type": "code",
   "execution_count": 9,
   "id": "c11cf514",
   "metadata": {},
   "outputs": [
    {
     "data": {
      "text/plain": [
       "97"
      ]
     },
     "execution_count": 9,
     "metadata": {},
     "output_type": "execute_result"
    }
   ],
   "source": [
    "ord(\"a\")"
   ]
  },
  {
   "cell_type": "code",
   "execution_count": 10,
   "id": "124d689d",
   "metadata": {},
   "outputs": [
    {
     "data": {
      "text/plain": [
       "'a'"
      ]
     },
     "execution_count": 10,
     "metadata": {},
     "output_type": "execute_result"
    }
   ],
   "source": [
    "a = [\"a\",\"b\",\"c\",\"d\"]\n",
    "min(a)"
   ]
  },
  {
   "cell_type": "code",
   "execution_count": 13,
   "id": "a4f0967a",
   "metadata": {},
   "outputs": [
    {
     "name": "stdout",
     "output_type": "stream",
     "text": [
      "5\n",
      "5\n",
      "15\n",
      "10\n"
     ]
    }
   ],
   "source": [
    "a = 5\n",
    "b = 10\n",
    "def func():\n",
    "    b = 15\n",
    "    print(a)\n",
    "    print(b)\n",
    "print(a)\n",
    "\n",
    "func()\n",
    "print(b)"
   ]
  },
  {
   "cell_type": "code",
   "execution_count": 67,
   "id": "b5c9430c",
   "metadata": {},
   "outputs": [
    {
     "name": "stdout",
     "output_type": "stream",
     "text": [
      "[-2.375, -0.375, -1.375, 1.625, 3.625, -0.375, -1.375, 0.625]\n",
      "[-2.375, -0.375, -1.375, 1.625, 3.625, -0.375, -1.375, 0.625]\n"
     ]
    }
   ],
   "source": [
    "\n",
    "   \n",
    "    \n",
    "def standard(X):\n",
    "    \n",
    "    #Mean\n",
    "    total = sum(X)\n",
    "    n = len(X)\n",
    "    mean = total / n\n",
    "    \n",
    "    #STD\n",
    "    B,C = [],[]\n",
    "    for num in X:\n",
    "        B.append(num-mean)\n",
    "        C.append(num-mean)\n",
    "    \n",
    "    C = [x **2 for x in C]\n",
    "    total = sum(C)/(n-1)\n",
    "    std = total ** 0.5\n",
    "    \n",
    "    \n",
    "    #Standard\n",
    "    for num in B:\n",
    "        num = num/std\n",
    "        num = round(num,1)\n",
    "    print(B)        \n",
    "    return B\n",
    "\n",
    "\n",
    "n = 8\n",
    "A = \"1 3 2 5 7 3 2 4\"\n",
    "A = [int(x) for x in A.split()]\n",
    "gamma = 2\n",
    "beta = 1\n",
    "\n",
    "D = standard(A)\n",
    "\n",
    "for num in D:\n",
    "    num = (gamma*num) + beta\n",
    "\n",
    "print(D)\n",
    "\n"
   ]
  },
  {
   "cell_type": "code",
   "execution_count": 55,
   "id": "6c925155",
   "metadata": {},
   "outputs": [],
   "source": [
    "def power(n,p):\n",
    "    if p == 0:\n",
    "        return 1\n",
    "    else: return (n * power(n,p-1))\n"
   ]
  },
  {
   "cell_type": "code",
   "execution_count": 58,
   "id": "ddb83523",
   "metadata": {},
   "outputs": [
    {
     "data": {
      "text/plain": [
       "27"
      ]
     },
     "execution_count": 58,
     "metadata": {},
     "output_type": "execute_result"
    }
   ],
   "source": [
    "power(3,3)"
   ]
  },
  {
   "cell_type": "code",
   "execution_count": null,
   "id": "9c313bb3",
   "metadata": {},
   "outputs": [],
   "source": []
  }
 ],
 "metadata": {
  "kernelspec": {
   "display_name": "Python 3 (ipykernel)",
   "language": "python",
   "name": "python3"
  },
  "language_info": {
   "codemirror_mode": {
    "name": "ipython",
    "version": 3
   },
   "file_extension": ".py",
   "mimetype": "text/x-python",
   "name": "python",
   "nbconvert_exporter": "python",
   "pygments_lexer": "ipython3",
   "version": "3.9.12"
  },
  "varInspector": {
   "cols": {
    "lenName": 16,
    "lenType": 16,
    "lenVar": 40
   },
   "kernels_config": {
    "python": {
     "delete_cmd_postfix": "",
     "delete_cmd_prefix": "del ",
     "library": "var_list.py",
     "varRefreshCmd": "print(var_dic_list())"
    },
    "r": {
     "delete_cmd_postfix": ") ",
     "delete_cmd_prefix": "rm(",
     "library": "var_list.r",
     "varRefreshCmd": "cat(var_dic_list()) "
    }
   },
   "types_to_exclude": [
    "module",
    "function",
    "builtin_function_or_method",
    "instance",
    "_Feature"
   ],
   "window_display": false
  }
 },
 "nbformat": 4,
 "nbformat_minor": 5
}
