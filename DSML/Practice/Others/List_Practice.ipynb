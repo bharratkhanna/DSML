{
 "cells": [
  {
   "cell_type": "markdown",
   "id": "20abbf4e",
   "metadata": {},
   "source": [
    "## List Practice"
   ]
  },
  {
   "cell_type": "markdown",
   "id": "6b736972",
   "metadata": {},
   "source": [
    "##### Write a Python program to sum all the items in a list"
   ]
  },
  {
   "cell_type": "code",
   "execution_count": 1,
   "id": "12699960",
   "metadata": {},
   "outputs": [
    {
     "data": {
      "text/plain": [
       "55"
      ]
     },
     "execution_count": 1,
     "metadata": {},
     "output_type": "execute_result"
    }
   ],
   "source": [
    "list1 = [1,2,3,4,5,6,7,8,9,10]\n",
    "sum(list1)"
   ]
  },
  {
   "cell_type": "markdown",
   "id": "4babff5e",
   "metadata": {},
   "source": [
    "##### Write a Python program to multiply all the items in a list"
   ]
  },
  {
   "cell_type": "code",
   "execution_count": 3,
   "id": "f1fc9f2b",
   "metadata": {},
   "outputs": [
    {
     "data": {
      "text/plain": [
       "[10, 20, 30, 40, 50, 60, 70, 80, 90, 100]"
      ]
     },
     "execution_count": 3,
     "metadata": {},
     "output_type": "execute_result"
    }
   ],
   "source": [
    "list2 = [item * 10 for item in list1]\n",
    "list2"
   ]
  },
  {
   "cell_type": "markdown",
   "id": "a8b42ed8",
   "metadata": {},
   "source": [
    "##### Write a Python program to get the largest number from a list."
   ]
  },
  {
   "cell_type": "code",
   "execution_count": 4,
   "id": "014d833e",
   "metadata": {},
   "outputs": [
    {
     "data": {
      "text/plain": [
       "100"
      ]
     },
     "execution_count": 4,
     "metadata": {},
     "output_type": "execute_result"
    }
   ],
   "source": [
    "max(list2)"
   ]
  },
  {
   "cell_type": "markdown",
   "id": "42129b84",
   "metadata": {},
   "source": [
    "##### Write a Python program to get the smallest number from a list."
   ]
  },
  {
   "cell_type": "code",
   "execution_count": 5,
   "id": "1454c364",
   "metadata": {},
   "outputs": [
    {
     "data": {
      "text/plain": [
       "10"
      ]
     },
     "execution_count": 5,
     "metadata": {},
     "output_type": "execute_result"
    }
   ],
   "source": [
    "min(list2)"
   ]
  },
  {
   "cell_type": "markdown",
   "id": "af2c6f07",
   "metadata": {},
   "source": [
    "##### Write a Python program to count the number of strings where the string length is 2 or more and the first and last character are same from a given list of strings.\n",
    "Sample List : ['abc', 'xyz', 'aba', '1221']"
   ]
  },
  {
   "cell_type": "code",
   "execution_count": 15,
   "id": "26962abb",
   "metadata": {},
   "outputs": [
    {
     "data": {
      "text/plain": [
       "('Repeated Strings:', 2)"
      ]
     },
     "execution_count": 15,
     "metadata": {},
     "output_type": "execute_result"
    }
   ],
   "source": [
    "def ans(list3):\n",
    "    count = 0\n",
    "    for item in list3:\n",
    "        if type(item) is str and item[0] == item[-1]:\n",
    "            count = count + 1\n",
    "    return count\n",
    "\n",
    "list3 = ['abc', 'xyz', 'aba', '1221']\n",
    "\n",
    "\"Repeated Strings:\", ans(list3)"
   ]
  },
  {
   "cell_type": "markdown",
   "id": "9e885fb8",
   "metadata": {},
   "source": [
    "##### Write a Python program to get a list, sorted in increasing order by the last element in each tuple from a given list of non-empty tuples\n",
    "Sample List : [(2, 5), (1, 2), (4, 4), (2, 3), (2, 1)]\n",
    "\n",
    "Expected Result : [(2, 1), (1, 2), (2, 3), (4, 4), (2, 5)]"
   ]
  },
  {
   "cell_type": "code",
   "execution_count": null,
   "id": "5226b1d4",
   "metadata": {},
   "outputs": [],
   "source": []
  },
  {
   "cell_type": "markdown",
   "id": "013df677",
   "metadata": {},
   "source": [
    "##### Write a Python program to remove duplicates from a list."
   ]
  },
  {
   "cell_type": "code",
   "execution_count": 49,
   "id": "1c9acbaf",
   "metadata": {},
   "outputs": [
    {
     "data": {
      "text/plain": [
       "[1, 2, 3, 4, 5]"
      ]
     },
     "execution_count": 49,
     "metadata": {},
     "output_type": "execute_result"
    }
   ],
   "source": [
    "lista = [1,2,2,3,3,3,4,4,5]\n",
    "[lista.remove(item) for item in lista if lista.count(item) >  1]\n",
    "lista"
   ]
  },
  {
   "cell_type": "markdown",
   "id": "bf463368",
   "metadata": {},
   "source": [
    "##### Write a Python program to check a list is empty or not"
   ]
  },
  {
   "cell_type": "code",
   "execution_count": 52,
   "id": "0dfa087b",
   "metadata": {},
   "outputs": [
    {
     "name": "stdout",
     "output_type": "stream",
     "text": [
      "List is empty!\n"
     ]
    }
   ],
   "source": [
    "listb = []\n",
    "if len(listb) == 0:\n",
    "    print(\"List is empty!\")"
   ]
  },
  {
   "cell_type": "markdown",
   "id": "6fa0c6cc",
   "metadata": {},
   "source": [
    "##### Write a Python program to clone or copy a list"
   ]
  },
  {
   "cell_type": "code",
   "execution_count": 53,
   "id": "afab67a7",
   "metadata": {},
   "outputs": [
    {
     "data": {
      "text/plain": [
       "[1, 2, 3, 4, 5]"
      ]
     },
     "execution_count": 53,
     "metadata": {},
     "output_type": "execute_result"
    }
   ],
   "source": [
    "listc = lista.copy()\n",
    "listc"
   ]
  },
  {
   "cell_type": "markdown",
   "id": "227a1f96",
   "metadata": {},
   "source": [
    "##### Write a Python program to find the list of words that are longer than n from a given list of words"
   ]
  },
  {
   "cell_type": "code",
   "execution_count": 61,
   "id": "8b034414",
   "metadata": {},
   "outputs": [
    {
     "name": "stdout",
     "output_type": "stream",
     "text": [
      "['quick', 'brown', 'jumps', 'over', 'lazy']\n"
     ]
    }
   ],
   "source": [
    "text = 'The quick brown fox jumps over the lazy dog'\n",
    "\n",
    "def ans2(n,text):\n",
    "    text = text.split(' ')\n",
    "    listd = [item for item in text if len(item) > n]\n",
    "    print(listd)\n",
    "    \n",
    "ans2(3,text)"
   ]
  },
  {
   "cell_type": "markdown",
   "id": "ca453c09",
   "metadata": {},
   "source": [
    "#####  Write a Python function that takes two lists and returns True if they have at least one common member."
   ]
  },
  {
   "cell_type": "code",
   "execution_count": 64,
   "id": "56e04313",
   "metadata": {},
   "outputs": [
    {
     "data": {
      "text/plain": [
       "[True]"
      ]
     },
     "execution_count": 64,
     "metadata": {},
     "output_type": "execute_result"
    }
   ],
   "source": [
    "liste = [5,6,7,8,9]\n",
    "[True for item in listc for item2 in liste if item == item2]"
   ]
  },
  {
   "cell_type": "markdown",
   "id": "62dfe54e",
   "metadata": {},
   "source": [
    "##### Write a Python program to print the numbers of a specified list after removing even numbers from it."
   ]
  },
  {
   "cell_type": "code",
   "execution_count": 113,
   "id": "c4ecc70d",
   "metadata": {},
   "outputs": [
    {
     "data": {
      "text/plain": [
       "[10, 7, 5, 3, 9]"
      ]
     },
     "execution_count": 113,
     "metadata": {},
     "output_type": "execute_result"
    }
   ],
   "source": [
    "listf = [6,10,8,7,4,5,3,2,9] \n",
    "\n",
    "[listf.remove(item) for item in listf if item % 2 == 0] #use normal method some bug is coming up\n",
    "listf"
   ]
  },
  {
   "cell_type": "markdown",
   "id": "413d8d4f",
   "metadata": {},
   "source": [
    "##### Write a Python program to shuffle and print a specified list."
   ]
  },
  {
   "cell_type": "code",
   "execution_count": 117,
   "id": "525c77e3",
   "metadata": {},
   "outputs": [
    {
     "name": "stdout",
     "output_type": "stream",
     "text": [
      "[2, 5, 3, 1, 4]\n"
     ]
    },
    {
     "data": {
      "text/plain": [
       "[5, 4, 1, 3, 2]"
      ]
     },
     "execution_count": 117,
     "metadata": {},
     "output_type": "execute_result"
    }
   ],
   "source": [
    "from random import shuffle\n",
    "print(lista)\n",
    "shuffle(lista)\n",
    "lista"
   ]
  },
  {
   "cell_type": "markdown",
   "id": "9b58e7a0",
   "metadata": {},
   "source": [
    "##### The problem is that we want to sort a T[] one-dimensional array of integers in O(N) running time - and without any extra memory & sort function. The array can contain values only : 0, 1 and 2"
   ]
  },
  {
   "cell_type": "code",
   "execution_count": 121,
   "id": "6d66f545",
   "metadata": {},
   "outputs": [],
   "source": [
    "def swap(numList,i,j):\n",
    "    numList[i], numList[j] = numList[j], numList[i]\n",
    "\n",
    "def dutch__algirithm(numList, pivot = 1):\n",
    "    \n",
    "    i = 0\n",
    "    j = 0\n",
    "    k = len(numList) - 1\n",
    "    \n",
    "    while j <= k:\n",
    "        \n",
    "        #if num is 0\n",
    "        if numList[j] < pivot:\n",
    "            swap(numList, i, j)\n",
    "            i += 1\n",
    "            j += 1\n",
    "            \n",
    "        #if num is 2\n",
    "        elif numList[j] > pivot:\n",
    "            swap(numList,j,k)\n",
    "            k -= 1\n",
    "            \n",
    "        #if num is 1\n",
    "        else:\n",
    "            j += 1\n",
    "            \n",
    "    return numList"
   ]
  },
  {
   "cell_type": "code",
   "execution_count": 122,
   "id": "2ebc5a48",
   "metadata": {},
   "outputs": [
    {
     "data": {
      "text/plain": [
       "[0, 0, 1, 1, 1, 1, 2, 2]"
      ]
     },
     "execution_count": 122,
     "metadata": {},
     "output_type": "execute_result"
    }
   ],
   "source": [
    "dutch__algirithm([1,1,0,2,2,1,1,0])"
   ]
  },
  {
   "cell_type": "markdown",
   "id": "6eed7fb6",
   "metadata": {},
   "source": [
    "##### Given n non-negative integers representing an elevation map where the width of each bar is 1. Compute how much water it can trap after raining!\n",
    "\n",
    "Here the elevation map (the input for the algorithm) is [4,1,3,1,5] and the output is the total units of trapped rain water - which is 7."
   ]
  },
  {
   "cell_type": "code",
   "execution_count": 90,
   "id": "33992d8c",
   "metadata": {},
   "outputs": [],
   "source": [
    "T = [4,1,3,1,5]\n",
    "\n",
    "def trappingwater(heights = T):\n",
    "    \n",
    "    if len(heights) < 0:\n",
    "        return 0\n",
    "    \n",
    "    maxLeft = [0 for x in range(len(heights))]\n",
    "    maxRight = [0 for x in range(len(heights))]\n",
    "    \n",
    "    for i in range(1,len(heights)):\n",
    "        maxLeft[i] = max(maxLeft[i-1], heights[i-1])\n",
    "         \n",
    "    for i in range(len(heights)- 2, -1, -1):\n",
    "        maxRight[i]  = max(maxRight[i + 1], heights[i + 1]) \n",
    "        \n",
    "    trapped = 0 \n",
    "    \n",
    "    for i in range(1,len(heights)):\n",
    "        if min(maxLeft[i], maxRight[i]) - heights[i] > 0:\n",
    "            trapped += min(maxLeft[i], maxRight[i]) - heights[i]\n",
    "            \n",
    "    print(\"Heights: \",heights)\n",
    "    print(\"MaxLeft: \",maxLeft)\n",
    "    print(\"MaxRight:\",maxRight)\n",
    "    \n",
    "    print(\"\\nTrapped water is\",trapped,\"units\")"
   ]
  },
  {
   "cell_type": "code",
   "execution_count": 91,
   "id": "9a5fcb8d",
   "metadata": {},
   "outputs": [
    {
     "name": "stdout",
     "output_type": "stream",
     "text": [
      "Heights:  [1, 0, 2, 1, 3, 1, 2, 0, 3]\n",
      "MaxLeft:  [0, 1, 1, 2, 2, 3, 3, 3, 3]\n",
      "MaxRight: [3, 3, 3, 3, 3, 3, 3, 3, 0]\n",
      "\n",
      "Trapped water is 8 units\n"
     ]
    }
   ],
   "source": [
    "trappingwater([1,0,2,1,3,1,2,0,3])"
   ]
  },
  {
   "cell_type": "markdown",
   "id": "e0249214",
   "metadata": {},
   "source": [
    "##### Create a Goal Parser such that G -> G, () -> O, (al) -> al"
   ]
  },
  {
   "cell_type": "code",
   "execution_count": 18,
   "id": "ef5cb5a3",
   "metadata": {},
   "outputs": [
    {
     "name": "stdout",
     "output_type": "stream",
     "text": [
      "Goal\n"
     ]
    }
   ],
   "source": [
    "text = \"G()(al)\"\n",
    "newText =[]\n",
    "\n",
    "i = 0\n",
    "while i < len(text):\n",
    "    if text[i] == \"(\" and text[i + 1] == \")\":\n",
    "        newText.append(\"o\")\n",
    "        i += 2\n",
    "        \n",
    "    elif text[i] == \"(\" and text[i + 1] == \"a\" and text[i + 2] == \"l\" and text[i +3] == \")\":\n",
    "        newText.append(\"al\")\n",
    "        i += 4\n",
    "    else: \n",
    "        newText.append(text[i])\n",
    "        i +=1\n",
    "answer = \"\"\n",
    "for x in newText:\n",
    "    answer += x\n",
    "    \n",
    "print(answer)\n",
    "        "
   ]
  },
  {
   "cell_type": "markdown",
   "id": "cb2c7bbd",
   "metadata": {},
   "source": [
    "##### Find value of Roman numbers: where I =1, V=5, X=10, L=50, C=100, D=500, M=1000\n",
    "\n",
    "Input =\"MCMXCIV\"\n",
    "\n",
    "Output = 1994\n",
    "\n",
    "Explanation =. M = 1000 + CM = 900 + XC + 90 + IV = 4\n"
   ]
  },
  {
   "cell_type": "code",
   "execution_count": 87,
   "id": "9925ce1c",
   "metadata": {},
   "outputs": [
    {
     "data": {
      "text/plain": [
       "1994"
      ]
     },
     "execution_count": 87,
     "metadata": {},
     "output_type": "execute_result"
    }
   ],
   "source": [
    "s =\"MCMXCIV\"\n",
    "vals = {\"I\": 1, \"V\": 5, \"X\": 10, \"L\": 50, \"C\": 100, \"D\": 500, \"M\": 1000}\n",
    "output = 0\n",
    "i = 0\n",
    "while  i < len(s):\n",
    "    if i + 1 < len(s) and vals[s[i+1]] > vals[s[i]]:\n",
    "        output += vals[s[i+1]] - vals[s[i]]\n",
    "        i+= 2\n",
    "    else:\n",
    "        output += vals[s[i]]\n",
    "        i += 1\n",
    "output"
   ]
  },
  {
   "cell_type": "markdown",
   "id": "3c7c4da3",
   "metadata": {},
   "source": [
    "##### Find  longest common prefix in a given list"
   ]
  },
  {
   "cell_type": "code",
   "execution_count": 85,
   "id": "e93cae59",
   "metadata": {},
   "outputs": [
    {
     "data": {
      "text/plain": [
       "'fl'"
      ]
     },
     "execution_count": 85,
     "metadata": {},
     "output_type": "execute_result"
    }
   ],
   "source": [
    "def longestCommonPrefix(strs):\n",
    "    for index, char in enumerate(min(strs)):\n",
    "        if char != max(strs)[index]:\n",
    "            return min(strs)[:index]\n",
    "    return min(strs)\n",
    "\n",
    "strs = [\"flower\",\"flow\",\"flight\"]\n",
    "\n",
    "longestCommonPrefix(strs)"
   ]
  }
 ],
 "metadata": {
  "kernelspec": {
   "display_name": "Python 3 (ipykernel)",
   "language": "python",
   "name": "python3"
  },
  "language_info": {
   "codemirror_mode": {
    "name": "ipython",
    "version": 3
   },
   "file_extension": ".py",
   "mimetype": "text/x-python",
   "name": "python",
   "nbconvert_exporter": "python",
   "pygments_lexer": "ipython3",
   "version": "3.9.13"
  },
  "varInspector": {
   "cols": {
    "lenName": 16,
    "lenType": 16,
    "lenVar": 40
   },
   "kernels_config": {
    "python": {
     "delete_cmd_postfix": "",
     "delete_cmd_prefix": "del ",
     "library": "var_list.py",
     "varRefreshCmd": "print(var_dic_list())"
    },
    "r": {
     "delete_cmd_postfix": ") ",
     "delete_cmd_prefix": "rm(",
     "library": "var_list.r",
     "varRefreshCmd": "cat(var_dic_list()) "
    }
   },
   "types_to_exclude": [
    "module",
    "function",
    "builtin_function_or_method",
    "instance",
    "_Feature"
   ],
   "window_display": false
  }
 },
 "nbformat": 4,
 "nbformat_minor": 5
}
