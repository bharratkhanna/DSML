{
 "cells": [
  {
   "cell_type": "markdown",
   "id": "20abbf4e",
   "metadata": {},
   "source": [
    "## List Practice"
   ]
  },
  {
   "cell_type": "markdown",
   "id": "6b736972",
   "metadata": {},
   "source": [
    "##### Write a Python program to sum all the items in a list"
   ]
  },
  {
   "cell_type": "code",
   "execution_count": 1,
   "id": "12699960",
   "metadata": {},
   "outputs": [
    {
     "data": {
      "text/plain": [
       "55"
      ]
     },
     "execution_count": 1,
     "metadata": {},
     "output_type": "execute_result"
    }
   ],
   "source": [
    "list1 = [1,2,3,4,5,6,7,8,9,10]\n",
    "sum(list1)"
   ]
  },
  {
   "cell_type": "markdown",
   "id": "4babff5e",
   "metadata": {},
   "source": [
    "##### Write a Python program to multiply all the items in a list"
   ]
  },
  {
   "cell_type": "code",
   "execution_count": 3,
   "id": "f1fc9f2b",
   "metadata": {},
   "outputs": [
    {
     "data": {
      "text/plain": [
       "[10, 20, 30, 40, 50, 60, 70, 80, 90, 100]"
      ]
     },
     "execution_count": 3,
     "metadata": {},
     "output_type": "execute_result"
    }
   ],
   "source": [
    "list2 = [item * 10 for item in list1]\n",
    "list2"
   ]
  },
  {
   "cell_type": "markdown",
   "id": "a8b42ed8",
   "metadata": {},
   "source": [
    "##### Write a Python program to get the largest number from a list."
   ]
  },
  {
   "cell_type": "code",
   "execution_count": 4,
   "id": "014d833e",
   "metadata": {},
   "outputs": [
    {
     "data": {
      "text/plain": [
       "100"
      ]
     },
     "execution_count": 4,
     "metadata": {},
     "output_type": "execute_result"
    }
   ],
   "source": [
    "max(list2)"
   ]
  },
  {
   "cell_type": "markdown",
   "id": "42129b84",
   "metadata": {},
   "source": [
    "##### Write a Python program to get the smallest number from a list."
   ]
  },
  {
   "cell_type": "code",
   "execution_count": 5,
   "id": "1454c364",
   "metadata": {},
   "outputs": [
    {
     "data": {
      "text/plain": [
       "10"
      ]
     },
     "execution_count": 5,
     "metadata": {},
     "output_type": "execute_result"
    }
   ],
   "source": [
    "min(list2)"
   ]
  },
  {
   "cell_type": "markdown",
   "id": "af2c6f07",
   "metadata": {},
   "source": [
    "##### Write a Python program to count the number of strings where the string length is 2 or more and the first and last character are same from a given list of strings.\n",
    "Sample List : ['abc', 'xyz', 'aba', '1221']"
   ]
  },
  {
   "cell_type": "code",
   "execution_count": 15,
   "id": "26962abb",
   "metadata": {},
   "outputs": [
    {
     "data": {
      "text/plain": [
       "('Repeated Strings:', 2)"
      ]
     },
     "execution_count": 15,
     "metadata": {},
     "output_type": "execute_result"
    }
   ],
   "source": [
    "def ans(list3):\n",
    "    count = 0\n",
    "    for item in list3:\n",
    "        if type(item) is str and item[0] == item[-1]:\n",
    "            count = count + 1\n",
    "    return count\n",
    "\n",
    "list3 = ['abc', 'xyz', 'aba', '1221']\n",
    "\n",
    "\"Repeated Strings:\", ans(list3)"
   ]
  },
  {
   "cell_type": "markdown",
   "id": "9e885fb8",
   "metadata": {},
   "source": [
    "##### Write a Python program to get a list, sorted in increasing order by the last element in each tuple from a given list of non-empty tuples\n",
    "Sample List : [(2, 5), (1, 2), (4, 4), (2, 3), (2, 1)]\n",
    "\n",
    "Expected Result : [(2, 1), (1, 2), (2, 3), (4, 4), (2, 5)]"
   ]
  },
  {
   "cell_type": "code",
   "execution_count": null,
   "id": "5226b1d4",
   "metadata": {},
   "outputs": [],
   "source": []
  },
  {
   "cell_type": "markdown",
   "id": "013df677",
   "metadata": {},
   "source": [
    "##### Write a Python program to remove duplicates from a list."
   ]
  },
  {
   "cell_type": "code",
   "execution_count": 49,
   "id": "1c9acbaf",
   "metadata": {},
   "outputs": [
    {
     "data": {
      "text/plain": [
       "[1, 2, 3, 4, 5]"
      ]
     },
     "execution_count": 49,
     "metadata": {},
     "output_type": "execute_result"
    }
   ],
   "source": [
    "lista = [1,2,2,3,3,3,4,4,5]\n",
    "[lista.remove(item) for item in lista if lista.count(item) >  1]\n",
    "lista"
   ]
  },
  {
   "cell_type": "markdown",
   "id": "bf463368",
   "metadata": {},
   "source": [
    "##### Write a Python program to check a list is empty or not"
   ]
  },
  {
   "cell_type": "code",
   "execution_count": 52,
   "id": "0dfa087b",
   "metadata": {},
   "outputs": [
    {
     "name": "stdout",
     "output_type": "stream",
     "text": [
      "List is empty!\n"
     ]
    }
   ],
   "source": [
    "listb = []\n",
    "if len(listb) == 0:\n",
    "    print(\"List is empty!\")"
   ]
  },
  {
   "cell_type": "markdown",
   "id": "6fa0c6cc",
   "metadata": {},
   "source": [
    "##### Write a Python program to clone or copy a list"
   ]
  },
  {
   "cell_type": "code",
   "execution_count": 53,
   "id": "afab67a7",
   "metadata": {},
   "outputs": [
    {
     "data": {
      "text/plain": [
       "[1, 2, 3, 4, 5]"
      ]
     },
     "execution_count": 53,
     "metadata": {},
     "output_type": "execute_result"
    }
   ],
   "source": [
    "listc = lista.copy()\n",
    "listc"
   ]
  },
  {
   "cell_type": "markdown",
   "id": "227a1f96",
   "metadata": {},
   "source": [
    "##### Write a Python program to find the list of words that are longer than n from a given list of words"
   ]
  },
  {
   "cell_type": "code",
   "execution_count": 61,
   "id": "8b034414",
   "metadata": {},
   "outputs": [
    {
     "name": "stdout",
     "output_type": "stream",
     "text": [
      "['quick', 'brown', 'jumps', 'over', 'lazy']\n"
     ]
    }
   ],
   "source": [
    "text = 'The quick brown fox jumps over the lazy dog'\n",
    "\n",
    "def ans2(n,text):\n",
    "    text = text.split(' ')\n",
    "    listd = [item for item in text if len(item) > n]\n",
    "    print(listd)\n",
    "    \n",
    "ans2(3,text)"
   ]
  },
  {
   "cell_type": "markdown",
   "id": "ca453c09",
   "metadata": {},
   "source": [
    "#####  Write a Python function that takes two lists and returns True if they have at least one common member."
   ]
  },
  {
   "cell_type": "code",
   "execution_count": 64,
   "id": "56e04313",
   "metadata": {},
   "outputs": [
    {
     "data": {
      "text/plain": [
       "[True]"
      ]
     },
     "execution_count": 64,
     "metadata": {},
     "output_type": "execute_result"
    }
   ],
   "source": [
    "liste = [5,6,7,8,9]\n",
    "[True for item in listc for item2 in liste if item == item2]"
   ]
  },
  {
   "cell_type": "markdown",
   "id": "62dfe54e",
   "metadata": {},
   "source": [
    "##### Write a Python program to print the numbers of a specified list after removing even numbers from it."
   ]
  },
  {
   "cell_type": "code",
   "execution_count": 76,
   "id": "c4ecc70d",
   "metadata": {},
   "outputs": [
    {
     "data": {
      "text/plain": [
       "[7, 120, 25, 20, 27]"
      ]
     },
     "execution_count": 76,
     "metadata": {},
     "output_type": "execute_result"
    }
   ],
   "source": [
    "listf = [7,8,120,25,44,20,27]\n",
    "\n",
    "[listf.remove(item) for item in listf  if item % 2 == 0]\n",
    "listf"
   ]
  },
  {
   "cell_type": "code",
   "execution_count": null,
   "id": "bae68100",
   "metadata": {},
   "outputs": [],
   "source": []
  },
  {
   "cell_type": "code",
   "execution_count": null,
   "id": "525c77e3",
   "metadata": {},
   "outputs": [],
   "source": []
  }
 ],
 "metadata": {
  "kernelspec": {
   "display_name": "Python 3 (ipykernel)",
   "language": "python",
   "name": "python3"
  },
  "language_info": {
   "codemirror_mode": {
    "name": "ipython",
    "version": 3
   },
   "file_extension": ".py",
   "mimetype": "text/x-python",
   "name": "python",
   "nbconvert_exporter": "python",
   "pygments_lexer": "ipython3",
   "version": "3.9.12"
  },
  "varInspector": {
   "cols": {
    "lenName": 16,
    "lenType": 16,
    "lenVar": 40
   },
   "kernels_config": {
    "python": {
     "delete_cmd_postfix": "",
     "delete_cmd_prefix": "del ",
     "library": "var_list.py",
     "varRefreshCmd": "print(var_dic_list())"
    },
    "r": {
     "delete_cmd_postfix": ") ",
     "delete_cmd_prefix": "rm(",
     "library": "var_list.r",
     "varRefreshCmd": "cat(var_dic_list()) "
    }
   },
   "types_to_exclude": [
    "module",
    "function",
    "builtin_function_or_method",
    "instance",
    "_Feature"
   ],
   "window_display": false
  }
 },
 "nbformat": 4,
 "nbformat_minor": 5
}
