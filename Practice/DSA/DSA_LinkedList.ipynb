{
 "cells": [
  {
   "cell_type": "markdown",
   "id": "a0648eea-486b-4ae5-84bc-0bea0500b176",
   "metadata": {},
   "source": [
    "# Linked List"
   ]
  },
  {
   "cell_type": "code",
   "execution_count": 1,
   "id": "ca6c30f1-f39b-4882-b383-a69ec9b4141d",
   "metadata": {
    "tags": []
   },
   "outputs": [],
   "source": [
    "class Node:\n",
    "    \n",
    "    def __init__(self,data):\n",
    "        self.data = data\n",
    "        self.nextNode = None\n",
    "        \n",
    "class LinkedList:\n",
    "    \n",
    "    def __init__(self):\n",
    "        # this is the first node of lonked list, so we can access this exclusively!!!\n",
    "        self.head = None\n",
    "        self.numNodes = 0         \n",
    "        \n",
    "    def insertStart(self,data):\n",
    "        self.numNodes += 1\n",
    "        newNode() = Node(data)\n",
    "        if self.head = None:\n",
    "            self.head = newNode()\n",
    "        else:\n",
    "            newNode.nextNode() = self.head()\n",
    "            self.head() = newNode\n",
    "            \n",
    "    def insertEnd(self,data): \n",
    "        self.numNodes += 1\n",
    "        newNode() = Node(data)\n",
    "        if self.head = None:\n",
    "            self.head = newNode()\n",
    "        else:\n",
    "            actualNode = self.head\n",
    "            \n",
    "            while actualNode.nextNode is not None:\n",
    "                actualNode = actualNode.nextNode\n",
    "                \n",
    "            actualNode.nextNode = newNode\n",
    "            \n",
    "    def\n",
    "            \n",
    "    def nextNode(self):\n",
    "        \n",
    "    def numNodes(self)\n",
    "    "
   ]
  },
  {
   "cell_type": "code",
   "execution_count": null,
   "id": "a656ffb3-f663-49c4-8cb5-4b2e1a46c6ae",
   "metadata": {},
   "outputs": [],
   "source": []
  }
 ],
 "metadata": {
  "kernelspec": {
   "display_name": "Python 3 (ipykernel)",
   "language": "python",
   "name": "python3"
  },
  "language_info": {
   "codemirror_mode": {
    "name": "ipython",
    "version": 3
   },
   "file_extension": ".py",
   "mimetype": "text/x-python",
   "name": "python",
   "nbconvert_exporter": "python",
   "pygments_lexer": "ipython3",
   "version": "3.9.12"
  }
 },
 "nbformat": 4,
 "nbformat_minor": 5
}
