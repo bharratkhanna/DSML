{
 "cells": [
  {
   "cell_type": "code",
   "execution_count": 6,
   "metadata": {},
   "outputs": [
    {
     "data": {
      "text/plain": [
       "5"
      ]
     },
     "execution_count": 6,
     "metadata": {},
     "output_type": "execute_result"
    }
   ],
   "source": [
    "# fibonacci Series\n",
    "\n",
    "def fib(n):\n",
    "    if n==0 or n==1: \n",
    "        return n\n",
    "    return fib(n-1) + fib(n-2)\n",
    "\n",
    "fib(5)"
   ]
  },
  {
   "cell_type": "code",
   "execution_count": 11,
   "metadata": {},
   "outputs": [
    {
     "data": {
      "text/plain": [
       "8"
      ]
     },
     "execution_count": 11,
     "metadata": {},
     "output_type": "execute_result"
    }
   ],
   "source": [
    "# staircase problem:\n",
    "\n",
    "def staircase(n):\n",
    "    if n ==1 or n==2:\n",
    "        return n\n",
    "    return staircase(n-1) + staircase(n-2)\n",
    "\n",
    "staircase(5)"
   ]
  },
  {
   "cell_type": "code",
   "execution_count": 28,
   "metadata": {},
   "outputs": [
    {
     "data": {
      "text/plain": [
       "[['a', 'b', 'c'],\n",
       " ['a', 'c', 'b'],\n",
       " ['b', 'a', 'c'],\n",
       " ['b', 'c', 'a'],\n",
       " ['c', 'a', 'b'],\n",
       " ['c', 'b', 'a']]"
      ]
     },
     "execution_count": 28,
     "metadata": {},
     "output_type": "execute_result"
    }
   ],
   "source": [
    "# permutation\n",
    "\n",
    "def perm(data):\n",
    "    if len(data) == 1:\n",
    "        return [data]\n",
    "        \n",
    "    result = list()\n",
    "\n",
    "    for i in range(len(data)):\n",
    "        ele = data[i]\n",
    "        remaining_ele =  data[:i] + data[i+1:]\n",
    "        permuted = perm(remaining_ele)\n",
    "\n",
    "        for p in permuted:\n",
    "            result.append([ele] + p)\n",
    "\n",
    "\n",
    "    return result\n",
    "perm([\"a\",\"b\",\"c\"])"
   ]
  },
  {
   "cell_type": "code",
   "execution_count": 36,
   "metadata": {},
   "outputs": [
    {
     "data": {
      "text/plain": [
       "['ABC', 'ACB', 'BAC', 'BCA', 'CAB', 'CBA']"
      ]
     },
     "execution_count": 36,
     "metadata": {},
     "output_type": "execute_result"
    }
   ],
   "source": [
    "# string perm\n",
    "def perm(s):\n",
    "    if len(s) ==  1:\n",
    "        return s[0]\n",
    "\n",
    "    result = list()\n",
    "\n",
    "    for i in range(len(s)):\n",
    "        ele = s[i]\n",
    "        remaining_ele =  s[:i] + s[i+1:]\n",
    "        permuted = perm(remaining_ele)\n",
    "\n",
    "        for p in permuted:\n",
    "            result.append(ele + p)\n",
    "\n",
    "    return result\n",
    "\n",
    "perm(\"ABC\")"
   ]
  },
  {
   "cell_type": "code",
   "execution_count": 39,
   "metadata": {},
   "outputs": [
    {
     "data": {
      "text/plain": [
       "[1, 2, 3, 4, 5, 5]"
      ]
     },
     "execution_count": 39,
     "metadata": {},
     "output_type": "execute_result"
    }
   ],
   "source": [
    "# Merge sort \n",
    "\n",
    "def merge_sort(arr):\n",
    "    n = len(arr)\n",
    "\n",
    "    # Divide \n",
    "\n",
    "    if len(arr) == 1:\n",
    "        return arr\n",
    "    \n",
    "    left = merge_sort(arr[:n//2])\n",
    "    right =  merge_sort(arr[n//2:])\n",
    "\n",
    "\n",
    "    # Merge \n",
    "\n",
    "    result = list()\n",
    "    i,j = 0,0\n",
    "\n",
    "    while(i < len(left) and j < len(right)):\n",
    "        if left[i] < right[j]:\n",
    "            result.append(left[i])\n",
    "            i += 1\n",
    "        else:\n",
    "            result.append(right[j])\n",
    "            j += 1\n",
    "    result = result + left[i:] + right[j:] \n",
    "\n",
    "    return result\n",
    "    \n",
    "merge_sort([5,5,4,3,2,1])"
   ]
  },
  {
   "cell_type": "code",
   "execution_count": null,
   "metadata": {},
   "outputs": [],
   "source": []
  }
 ],
 "metadata": {
  "kernelspec": {
   "display_name": "base",
   "language": "python",
   "name": "python3"
  },
  "language_info": {
   "codemirror_mode": {
    "name": "ipython",
    "version": 3
   },
   "file_extension": ".py",
   "mimetype": "text/x-python",
   "name": "python",
   "nbconvert_exporter": "python",
   "pygments_lexer": "ipython3",
   "version": "3.9.15"
  },
  "orig_nbformat": 4,
  "vscode": {
   "interpreter": {
    "hash": "757053eaf0655596af139d123df37fb4079df03a43161b6a79909863304398bf"
   }
  }
 },
 "nbformat": 4,
 "nbformat_minor": 2
}
