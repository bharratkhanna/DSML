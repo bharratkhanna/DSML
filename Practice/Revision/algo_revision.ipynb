{
 "cells": [
  {
   "cell_type": "code",
   "execution_count": 1,
   "metadata": {},
   "outputs": [
    {
     "data": {
      "text/plain": [
       "[1, 2, 3, 4, 5]"
      ]
     },
     "execution_count": 1,
     "metadata": {},
     "output_type": "execute_result"
    }
   ],
   "source": [
    "# merge sort\n",
    "\n",
    "def merge_sort(arr):\n",
    "    n = len(arr)\n",
    "    if len(arr) == 1:\n",
    "        return arr\n",
    "    l = merge_sort(arr[:n//2])\n",
    "    r = merge_sort(arr[n//2:])\n",
    "\n",
    "    result = list()\n",
    "    i,j = 0,0\n",
    "\n",
    "    while i < len(l) and j < len(r):\n",
    "        if l[i] < r[j]:\n",
    "            result.append(l[i])\n",
    "            i += 1\n",
    "        else:\n",
    "            result.append(r[j])\n",
    "            j += 1\n",
    "    \n",
    "    result = result + l[i:] + r[j:]\n",
    "    return result\n",
    "\n",
    "merge_sort([5,4,3,2,1])\n"
   ]
  },
  {
   "cell_type": "code",
   "execution_count": 3,
   "metadata": {},
   "outputs": [
    {
     "data": {
      "text/plain": [
       "[1, 3, 4, 5, 7]"
      ]
     },
     "execution_count": 3,
     "metadata": {},
     "output_type": "execute_result"
    }
   ],
   "source": [
    "# bubble sort\n",
    "\n",
    "def bubble(arr):\n",
    "    n = len(arr)\n",
    "\n",
    "    for i in range(n-1):\n",
    "        sorted = True\n",
    "        for j in range(n-i-1):\n",
    "            if arr[j] > arr[j+1]:\n",
    "                arr[j],arr[j+1] =  arr[j+1],arr[j]\n",
    "                sorted = False\n",
    "        if sorted == True:\n",
    "            break\n",
    "    return arr\n",
    "\n",
    "bubble([5,4,3,7,1])"
   ]
  },
  {
   "cell_type": "code",
   "execution_count": 12,
   "metadata": {},
   "outputs": [
    {
     "data": {
      "text/plain": [
       "[1, 2, 3, 4, 5]"
      ]
     },
     "execution_count": 12,
     "metadata": {},
     "output_type": "execute_result"
    }
   ],
   "source": [
    "def selection(arr):\n",
    "    n = len(arr)\n",
    "\n",
    "    for i in range(n-1):\n",
    "        idx = i\n",
    "        for j in range(i+1,n):\n",
    "            if arr[idx] > arr [j]:\n",
    "                idx = j\n",
    "        arr[i],arr[idx] =  arr[idx],arr[i]\n",
    "\n",
    "    return arr\n",
    "\n",
    "selection([5,4,3,2,1])\n"
   ]
  },
  {
   "cell_type": "code",
   "execution_count": 10,
   "metadata": {},
   "outputs": [
    {
     "data": {
      "text/plain": [
       "[1, 2, 3, 4, 5]"
      ]
     },
     "execution_count": 10,
     "metadata": {},
     "output_type": "execute_result"
    }
   ],
   "source": [
    "def insertion(arr):\n",
    "    n = len(arr)\n",
    "\n",
    "    for i in range(1,n):\n",
    "        key = arr[i]\n",
    "        j = i-1\n",
    "\n",
    "        while j >= 0 and key < arr[j]:\n",
    "            arr[j+1] = arr[j]\n",
    "            j = j-1\n",
    "        arr[j+1] = key\n",
    "    \n",
    "    return arr\n",
    "    \n",
    "insertion([5,4,3,2,1])"
   ]
  },
  {
   "cell_type": "code",
   "execution_count": 9,
   "metadata": {},
   "outputs": [
    {
     "data": {
      "text/plain": [
       "False"
      ]
     },
     "execution_count": 9,
     "metadata": {},
     "output_type": "execute_result"
    }
   ],
   "source": [
    "# binary search\n",
    "\n",
    "def binary(arr,target):\n",
    "    n = len(arr)-1\n",
    "    if n == 0:\n",
    "        return False\n",
    "    elif arr[n//2] == target:\n",
    "        return True\n",
    "    elif arr[n//2] > target:\n",
    "        return binary(arr[:(n//2)],target)\n",
    "    else:\n",
    "        return binary(arr[(n//2)+1:],target)\n",
    "\n",
    "binary([1,2,3,4,5,6,7],8)"
   ]
  },
  {
   "cell_type": "code",
   "execution_count": 44,
   "metadata": {},
   "outputs": [
    {
     "data": {
      "text/plain": [
       "(True, 2)"
      ]
     },
     "execution_count": 44,
     "metadata": {},
     "output_type": "execute_result"
    }
   ],
   "source": [
    "def binary(arr,target):\n",
    "    r = len(arr)-1\n",
    "    l = 0\n",
    "\n",
    "    while l<=r:\n",
    "        m = (l + r )//2\n",
    "        if arr[m] == target:\n",
    "            return True,m\n",
    "        elif arr[m] < target:\n",
    "            l = m+1\n",
    "        else:\n",
    "            r = m-1\n",
    "    return -1\n",
    "\n",
    "binary([1,2,3,4,5,6,7],3)\n"
   ]
  },
  {
   "cell_type": "code",
   "execution_count": 46,
   "metadata": {},
   "outputs": [
    {
     "data": {
      "text/plain": [
       "[['A', 'B', 'C'],\n",
       " ['A', 'C', 'B'],\n",
       " ['B', 'A', 'C'],\n",
       " ['B', 'C', 'A'],\n",
       " ['C', 'A', 'B'],\n",
       " ['C', 'B', 'A']]"
      ]
     },
     "execution_count": 46,
     "metadata": {},
     "output_type": "execute_result"
    }
   ],
   "source": [
    "def perm(data):\n",
    "    if len(data) == 1:\n",
    "        return [data]\n",
    "\n",
    "    result = list()\n",
    "\n",
    "    for i in range(len(data)):\n",
    "        ele = data[i]\n",
    "        remaining_ele = data[:i] + data[i+1:]\n",
    "        permuted = perm(remaining_ele)\n",
    "\n",
    "        for p in permuted:\n",
    "            result.append([ele] +  p)\n",
    "    return result\n",
    "\n",
    "perm([\"A\",\"B\",\"C\"])\n"
   ]
  }
 ],
 "metadata": {
  "kernelspec": {
   "display_name": "base",
   "language": "python",
   "name": "python3"
  },
  "language_info": {
   "codemirror_mode": {
    "name": "ipython",
    "version": 3
   },
   "file_extension": ".py",
   "mimetype": "text/x-python",
   "name": "python",
   "nbconvert_exporter": "python",
   "pygments_lexer": "ipython3",
   "version": "3.9.13 (main, Aug 25 2022, 23:51:50) [MSC v.1916 64 bit (AMD64)]"
  },
  "orig_nbformat": 4,
  "vscode": {
   "interpreter": {
    "hash": "ff4f85d6e04298634172ac5d8264e7e9b556b95639fe52ebb9425c4d4cba0c9c"
   }
  }
 },
 "nbformat": 4,
 "nbformat_minor": 2
}
