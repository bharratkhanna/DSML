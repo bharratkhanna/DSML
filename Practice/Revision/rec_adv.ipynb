{
 "cells": [
  {
   "cell_type": "markdown",
   "metadata": {},
   "source": [
    "<h1><center> Recursion Advance"
   ]
  },
  {
   "attachments": {},
   "cell_type": "markdown",
   "metadata": {},
   "source": [
    "Permutation of list"
   ]
  },
  {
   "cell_type": "code",
   "execution_count": 37,
   "metadata": {},
   "outputs": [
    {
     "data": {
      "text/plain": [
       "[['a', 'b', 'c'],\n",
       " ['a', 'c', 'b'],\n",
       " ['b', 'a', 'c'],\n",
       " ['b', 'c', 'a'],\n",
       " ['c', 'a', 'b'],\n",
       " ['c', 'b', 'a']]"
      ]
     },
     "execution_count": 37,
     "metadata": {},
     "output_type": "execute_result"
    }
   ],
   "source": [
    "# All possible permutations of [\"a\",\"b\",\"c\",\"d\"]\n",
    "\n",
    "def perm(arr):\n",
    "    if len(arr) == 1:\n",
    "        return [arr]\n",
    "    \n",
    "    result = list()\n",
    "\n",
    "    for i in range(len(arr)):\n",
    "        head_ele = [arr[i]] # Creating 2d because we ll be extending this\n",
    "        remaining_ele = arr[:i] + arr[i+1:]\n",
    "        permuted = perm(remaining_ele) \n",
    "\n",
    "        for p in permuted:\n",
    "            result.append(head_ele + p)\n",
    "        \n",
    "    return result\n",
    "\n",
    "perm([\"a\",\"b\",\"c\"])\n",
    "# perm([\"a\",\"b\",\"c\",\"d\"])"
   ]
  },
  {
   "cell_type": "markdown",
   "metadata": {},
   "source": [
    "Staircase Interview Question"
   ]
  },
  {
   "cell_type": "code",
   "execution_count": 50,
   "metadata": {},
   "outputs": [
    {
     "data": {
      "text/plain": [
       "5"
      ]
     },
     "execution_count": 50,
     "metadata": {},
     "output_type": "execute_result"
    }
   ],
   "source": [
    "def staircase(n):\n",
    "    if n == 1 or n == 2:\n",
    "        return n\n",
    "    return staircase(n-1) + staircase(n-2)\n",
    "staircase(4)"
   ]
  },
  {
   "cell_type": "markdown",
   "metadata": {},
   "source": [
    "String Permutation"
   ]
  },
  {
   "cell_type": "code",
   "execution_count": 99,
   "metadata": {},
   "outputs": [
    {
     "name": "stdout",
     "output_type": "stream",
     "text": [
      "ABC ACB BAC BCA CAB CBA "
     ]
    }
   ],
   "source": [
    "def perm_string(s,result=\"\"):\n",
    "    if len(s) == 0:\n",
    "        print(result,end=\" \")\n",
    "        return\n",
    "\n",
    "    for i in range(len(s)):\n",
    "        head_ele = s[i]\n",
    "        remaining_ele = s[:i] + s[i+1:]\n",
    "        perm_string(remaining_ele, result + head_ele)\n",
    "\n",
    "perm_string(\"ABC\")"
   ]
  },
  {
   "cell_type": "markdown",
   "metadata": {},
   "source": [
    "String with first element permutation"
   ]
  },
  {
   "cell_type": "code",
   "execution_count": 3,
   "metadata": {},
   "outputs": [
    {
     "data": {
      "text/plain": [
       "['cc', 'ch', 'cl', 'wc', 'wh', 'wl']"
      ]
     },
     "execution_count": 3,
     "metadata": {},
     "output_type": "execute_result"
    }
   ],
   "source": [
    "def specialStrings(A):\n",
    "    ans = list()\n",
    "    if len(A) == 1:\n",
    "        return list(A[0])\n",
    "\n",
    "    strings = specialStrings(A[1:])\n",
    "    for i in range(len(A[0])):\n",
    "        for ch in strings:\n",
    "            specialString = A[0][i] + ch\n",
    "            ans.append(specialString)\n",
    "    return ans\n",
    "\n",
    "# sorted(specialStrings([\"ozqz\", \"p\", \"abm\"]))\n",
    "sorted(specialStrings([\"wc\",\"lch\"]))"
   ]
  },
  {
   "cell_type": "markdown",
   "metadata": {},
   "source": [
    "Subsets in such a way that each element is sorted and not greater than maximum element"
   ]
  },
  {
   "cell_type": "code",
   "execution_count": 1,
   "metadata": {},
   "outputs": [
    {
     "data": {
      "text/plain": [
       "[[], [12], [12, 13], [13]]"
      ]
     },
     "execution_count": 1,
     "metadata": {},
     "output_type": "execute_result"
    }
   ],
   "source": [
    "def subsets(A,subset=list()):\n",
    "    ans = []\n",
    "\n",
    "    if len(A) == 0:\n",
    "        ans.append(subset)\n",
    "        return ans\n",
    "    \n",
    "    ans.append(subset)\n",
    "\n",
    "    for i in range(len(A)):\n",
    "        subset = subset + [A[i]]\n",
    "        subset.sort()\n",
    "\n",
    "        remaining_set =  A[:i] + A[i+1:]\n",
    "        \n",
    "        ans = ans + subsets(remaining_set, subset)\n",
    "        subset = []\n",
    "\n",
    "    for arr in ans:\n",
    "        count = ans.count(arr)\n",
    "        while count > 1:\n",
    "            ans.remove(arr)\n",
    "            count = ans.count(arr)\n",
    "\n",
    "    return sorted(ans)\n",
    "\n",
    "subsets([12,13])"
   ]
  }
 ],
 "metadata": {
  "kernelspec": {
   "display_name": "base",
   "language": "python",
   "name": "python3"
  },
  "language_info": {
   "codemirror_mode": {
    "name": "ipython",
    "version": 3
   },
   "file_extension": ".py",
   "mimetype": "text/x-python",
   "name": "python",
   "nbconvert_exporter": "python",
   "pygments_lexer": "ipython3",
   "version": "3.9.13"
  },
  "orig_nbformat": 4,
  "vscode": {
   "interpreter": {
    "hash": "ff4f85d6e04298634172ac5d8264e7e9b556b95639fe52ebb9425c4d4cba0c9c"
   }
  }
 },
 "nbformat": 4,
 "nbformat_minor": 2
}
