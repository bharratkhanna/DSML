{
 "cells": [
  {
   "cell_type": "code",
   "execution_count": 49,
   "metadata": {},
   "outputs": [],
   "source": [
    "X = [[1],[2],[3],[4],[5],[6],[7],[8],[9],[10]]\n",
    "# X = [1,2,3,4]\n",
    "Y = [2,4,6,8,10,12,14,16,18,20]\n",
    "Y=[1,4,9,16,25,36,49,64,81,100]\n",
    "x = [[2],[7],[9],[11],[12]]\n",
    "a= 5"
   ]
  },
  {
   "cell_type": "code",
   "execution_count": 54,
   "metadata": {},
   "outputs": [
    {
     "name": "stdout",
     "output_type": "stream",
     "text": [
      "Machine Learning\n"
     ]
    }
   ],
   "source": [
    "if False:                                       #1\n",
    "    print(\"Artificial Intelligence\")\n",
    "elif True:                                      #2\n",
    "    print(\"Machine Learning\")\n",
    "elif True:                                      #3\n",
    "    print(\"Data Science\")\n",
    "else:                                           #4\n",
    "    print(\"Deep Learning\")  "
   ]
  },
  {
   "cell_type": "code",
   "execution_count": 55,
   "metadata": {},
   "outputs": [],
   "source": [
    "a = 4\n",
    "b = -5\n",
    "if a > 0:\n",
    "    if b < 0:\n",
    "        a = a - 2 \n",
    "    elif a > 5:\n",
    "        a = a - 4\n",
    "    else:\n",
    "        a = a + 3\n",
    "else:\n",
    "    b = b + 2"
   ]
  },
  {
   "cell_type": "code",
   "execution_count": 57,
   "metadata": {},
   "outputs": [
    {
     "name": "stdout",
     "output_type": "stream",
     "text": [
      "-6 -7 -8 -9 "
     ]
    }
   ],
   "source": [
    "for i in range(-6, -10, -1):\n",
    "     print(i, end =\" \")"
   ]
  },
  {
   "cell_type": "code",
   "execution_count": 58,
   "metadata": {},
   "outputs": [
    {
     "name": "stdout",
     "output_type": "stream",
     "text": [
      "0 "
     ]
    }
   ],
   "source": [
    "x = 1\n",
    "for i in range(x):\n",
    "    x=x+1\n",
    "    print(i, end= \" \")"
   ]
  },
  {
   "cell_type": "code",
   "execution_count": 59,
   "metadata": {},
   "outputs": [],
   "source": [
    "a=['data', 'python', 'scaler', 'ML', 'foo', 'Jupyter', 'lists']"
   ]
  },
  {
   "cell_type": "code",
   "execution_count": 60,
   "metadata": {},
   "outputs": [
    {
     "name": "stdout",
     "output_type": "stream",
     "text": [
      "['python', 'scaler', 'ML']\n"
     ]
    }
   ],
   "source": [
    "print(a[-6:-3])"
   ]
  },
  {
   "cell_type": "code",
   "execution_count": 61,
   "metadata": {},
   "outputs": [
    {
     "name": "stdout",
     "output_type": "stream",
     "text": [
      "['Jupyter', 'scaler']\n"
     ]
    }
   ],
   "source": [
    "print(a[5::-3])"
   ]
  },
  {
   "cell_type": "code",
   "execution_count": 62,
   "metadata": {},
   "outputs": [
    {
     "data": {
      "text/plain": [
       "['data', 'python', 'scaler', 'ML', 'foo', 'Jupyter']"
      ]
     },
     "execution_count": 62,
     "metadata": {},
     "output_type": "execute_result"
    }
   ],
   "source": [
    "a[:-1]"
   ]
  },
  {
   "cell_type": "code",
   "execution_count": 63,
   "metadata": {},
   "outputs": [
    {
     "name": "stdout",
     "output_type": "stream",
     "text": [
      "9\n"
     ]
    }
   ],
   "source": [
    "lis = [(0, 2), (1, 3), (2, 4)]\n",
    "result = sum (n for _, n in lis)\n",
    "print(result)"
   ]
  },
  {
   "cell_type": "code",
   "execution_count": 66,
   "metadata": {},
   "outputs": [
    {
     "data": {
      "text/plain": [
       "'No'"
      ]
     },
     "execution_count": 66,
     "metadata": {},
     "output_type": "execute_result"
    }
   ],
   "source": [
    "def powerOf2(n):\n",
    "    if n == 1:\n",
    "        return \"Yes\"\n",
    "    elif n % 2 != 0:\n",
    "        return \"No\"\n",
    "    else:\n",
    "        return powerOf2(n//2)\n",
    "    \n",
    "powerOf2(6)"
   ]
  },
  {
   "cell_type": "code",
   "execution_count": 69,
   "metadata": {},
   "outputs": [
    {
     "data": {
      "text/plain": [
       "[0, 1, 2, 3, 4, 5, 6, 7, 8, 9]"
      ]
     },
     "execution_count": 69,
     "metadata": {},
     "output_type": "execute_result"
    }
   ],
   "source": [
    "def mergeSort(arr):\n",
    "    n = len(arr)\n",
    "    if len(arr) == 1:\n",
    "        return arr\n",
    "    left = mergeSort(arr[:n//2])\n",
    "    right = mergeSort(arr[n//2:])\n",
    "\n",
    "    # Merge\n",
    "\n",
    "    result = list()\n",
    "    i,j = 0,0\n",
    "    while i < len(left) and j < len(right):\n",
    "        if left[i] < right[j]:\n",
    "            result.append(left[i])\n",
    "            i += 1\n",
    "        else:\n",
    "            result.append(right[j])\n",
    "            j += 1\n",
    "    result = result + left[i:] + right[j:]\n",
    "    return result\n",
    "\n",
    "mergeSort([9,8,7,6,5,4,3,2,1,0])"
   ]
  },
  {
   "cell_type": "code",
   "execution_count": 3,
   "metadata": {},
   "outputs": [
    {
     "data": {
      "text/plain": [
       "{1: 'S', 2: 'Banana'}"
      ]
     },
     "execution_count": 3,
     "metadata": {},
     "output_type": "execute_result"
    }
   ],
   "source": [
    "dict = {1:\"strawberry\",2:\"Banana\"}\n",
    "dict[1] = \"S\"\n",
    "dict"
   ]
  },
  {
   "cell_type": "code",
   "execution_count": 3,
   "metadata": {},
   "outputs": [
    {
     "name": "stdout",
     "output_type": "stream",
     "text": [
      "Orignal List: [0, 1, 4, 9]\n",
      "Mutated List: [0, 1, 4, 9]\n"
     ]
    }
   ],
   "source": [
    "def printfunc(List):\n",
    "    for i in range(len(List)):\n",
    "        List[i] = i**2\n",
    "    return List\n",
    "\n",
    "Orignal_List = [1,2,3,4]\n",
    "Mutated_List = printfunc(Orignal_List)\n",
    "\n",
    "print(f'Orignal List: {Orignal_List}')\n",
    "print(f'Mutated List: {Mutated_List}')"
   ]
  },
  {
   "cell_type": "code",
   "execution_count": null,
   "metadata": {},
   "outputs": [],
   "source": []
  }
 ],
 "metadata": {
  "kernelspec": {
   "display_name": "Python 3 (ipykernel)",
   "language": "python",
   "name": "python3"
  },
  "language_info": {
   "codemirror_mode": {
    "name": "ipython",
    "version": 3
   },
   "file_extension": ".py",
   "mimetype": "text/x-python",
   "name": "python",
   "nbconvert_exporter": "python",
   "pygments_lexer": "ipython3",
   "version": "3.9.15"
  },
  "varInspector": {
   "cols": {
    "lenName": 16,
    "lenType": 16,
    "lenVar": 40
   },
   "kernels_config": {
    "python": {
     "delete_cmd_postfix": "",
     "delete_cmd_prefix": "del ",
     "library": "var_list.py",
     "varRefreshCmd": "print(var_dic_list())"
    },
    "r": {
     "delete_cmd_postfix": ") ",
     "delete_cmd_prefix": "rm(",
     "library": "var_list.r",
     "varRefreshCmd": "cat(var_dic_list()) "
    }
   },
   "types_to_exclude": [
    "module",
    "function",
    "builtin_function_or_method",
    "instance",
    "_Feature"
   ],
   "window_display": false
  },
  "vscode": {
   "interpreter": {
    "hash": "757053eaf0655596af139d123df37fb4079df03a43161b6a79909863304398bf"
   }
  }
 },
 "nbformat": 4,
 "nbformat_minor": 2
}
