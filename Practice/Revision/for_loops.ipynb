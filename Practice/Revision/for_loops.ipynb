{
 "cells": [
  {
   "cell_type": "code",
   "execution_count": null,
   "id": "2b88a134",
   "metadata": {},
   "outputs": [],
   "source": [
    "\"\"\"To display the prime numbers between 1-50 (NESTED LOOP)\"\"\""
   ]
  },
  {
   "cell_type": "code",
   "execution_count": 21,
   "id": "348f1168",
   "metadata": {},
   "outputs": [
    {
     "name": "stdout",
     "output_type": "stream",
     "text": [
      "2 is a prime number\n",
      "3 is a prime number\n",
      "5 is a prime number\n",
      "7 is a prime number\n",
      "11 is a prime number\n",
      "13 is a prime number\n",
      "17 is a prime number\n",
      "19 is a prime number\n",
      "23 is a prime number\n",
      "29 is a prime number\n",
      "31 is a prime number\n",
      "37 is a prime number\n",
      "41 is a prime number\n",
      "43 is a prime number\n",
      "47 is a prime number\n"
     ]
    }
   ],
   "source": [
    "for i in range(2,51):\n",
    "    for j in range(2,i//2 + 1):\n",
    "        if i % j == 0:\n",
    "            break\n",
    "    else:\n",
    "        print(i, \"is a prime number\")"
   ]
  },
  {
   "cell_type": "code",
   "execution_count": null,
   "id": "2f06e34e",
   "metadata": {},
   "outputs": [],
   "source": [
    "\"\"\"\n",
    "Tambola Board\n",
    "Output-\n",
    "\n",
    "1 2 3 4 5 6 7 8 9 10\n",
    "11 12 13 14 15 16 17 18 19 20 \n",
    "21 22 23 24 25 26 27 28 29 30 \n",
    "31 32 33 34 35 36 37 38 39 40 \n",
    "-----------------------------\n",
    "81 82 83 84 85 86 87 88 89 90\n",
    "\"\"\""
   ]
  },
  {
   "cell_type": "code",
   "execution_count": 3,
   "id": "6ebd2f1e",
   "metadata": {},
   "outputs": [
    {
     "name": "stdout",
     "output_type": "stream",
     "text": [
      "1 2 3 4 5 6 7 8 9 10\n",
      "11 12 13 14 15 16 17 18 19 20\n",
      "21 22 23 24 25 26 27 28 29 30\n",
      "31 32 33 34 35 36 37 38 39 40\n",
      "41 42 43 44 45 46 47 48 49 50\n",
      "51 52 53 54 55 56 57 58 59 60\n",
      "61 62 63 64 65 66 67 68 69 70\n",
      "71 72 73 74 75 76 77 78 79 80\n",
      "81 82 83 84 85 86 87 88 89 90\n"
     ]
    }
   ],
   "source": [
    "for i in range(1,91):\n",
    "    if i % 10 == 0:\n",
    "        print(i)\n",
    "    else:\n",
    "        print(i, end = \" \")"
   ]
  },
  {
   "cell_type": "code",
   "execution_count": null,
   "id": "a64b1b37",
   "metadata": {},
   "outputs": [],
   "source": [
    "\"\"\" Simulation of tossing coin 2 times [H,H],[H,T],[T,H],[T,T] \"\"\""
   ]
  },
  {
   "cell_type": "code",
   "execution_count": 3,
   "id": "46c24fb7",
   "metadata": {},
   "outputs": [
    {
     "name": "stdout",
     "output_type": "stream",
     "text": [
      "H H\n",
      "H T\n",
      "T H\n",
      "T T\n"
     ]
    }
   ],
   "source": [
    "i_coin = 'H'\n",
    "while(i_coin == 'H' or i_coin == 'T'):\n",
    "    j_coin = 'H'\n",
    "    while(j_coin == 'H' or j_coin == 'T'):\n",
    "        print(i_coin,j_coin)\n",
    "        if j_coin == 'T':\n",
    "            break\n",
    "        j_coin = 'T'\n",
    "    if i_coin == 'T':\n",
    "        break\n",
    "    i_coin = 'T'"
   ]
  },
  {
   "cell_type": "code",
   "execution_count": null,
   "id": "4d50ab9d",
   "metadata": {},
   "outputs": [],
   "source": [
    "\"\"\" Simulation of rolling two dice [1,1],[1,2],[1,3].....[6,6] = 36 \"\"\""
   ]
  },
  {
   "cell_type": "code",
   "execution_count": 19,
   "id": "f8c51934",
   "metadata": {},
   "outputs": [
    {
     "name": "stdout",
     "output_type": "stream",
     "text": [
      "[ 1 1 ]\n",
      "[ 1 2 ]\n",
      "[ 1 3 ]\n",
      "[ 1 4 ]\n",
      "[ 1 5 ]\n",
      "[ 1 6 ]\n",
      "[ 2 1 ]\n",
      "[ 2 2 ]\n",
      "[ 2 3 ]\n",
      "[ 2 4 ]\n",
      "[ 2 5 ]\n",
      "[ 2 6 ]\n",
      "[ 3 1 ]\n",
      "[ 3 2 ]\n",
      "[ 3 3 ]\n",
      "[ 3 4 ]\n",
      "[ 3 5 ]\n",
      "[ 3 6 ]\n",
      "[ 4 1 ]\n",
      "[ 4 2 ]\n",
      "[ 4 3 ]\n",
      "[ 4 4 ]\n",
      "[ 4 5 ]\n",
      "[ 4 6 ]\n",
      "[ 5 1 ]\n",
      "[ 5 2 ]\n",
      "[ 5 3 ]\n",
      "[ 5 4 ]\n",
      "[ 5 5 ]\n",
      "[ 5 6 ]\n",
      "[ 6 1 ]\n",
      "[ 6 2 ]\n",
      "[ 6 3 ]\n",
      "[ 6 4 ]\n",
      "[ 6 5 ]\n",
      "[ 6 6 ]\n",
      "\n",
      "Total outcomes are 36\n"
     ]
    }
   ],
   "source": [
    "outcomes = 0\n",
    "for i in range(1,7):\n",
    "    for j in range(1,7):\n",
    "        print(\"[\",i,j,\"]\")\n",
    "        outcomes = outcomes + 1\n",
    "\n",
    "print(\"\\nTotal outcomes are\", outcomes)\n",
    "        "
   ]
  },
  {
   "cell_type": "code",
   "execution_count": null,
   "id": "f6ca63b1",
   "metadata": {},
   "outputs": [],
   "source": [
    "\"\"\" To check the word whether it is palindrome or not?  ship => pihs => Not a palindrome \"\"\""
   ]
  },
  {
   "cell_type": "code",
   "execution_count": 23,
   "id": "37340897",
   "metadata": {},
   "outputs": [
    {
     "name": "stdout",
     "output_type": "stream",
     "text": [
      "Enter word: olis\n",
      "No, olis is not a palindrome\n"
     ]
    }
   ],
   "source": [
    "word = input(\"Enter word: \")\n",
    "rev =\"\"\n",
    "for i in range (len(word)-1 , -1, -1):\n",
    "    rev = rev + word[i]\n",
    "                \n",
    "if rev == word:\n",
    "    print(\"Yes,\",word, \"is a palindrome\")\n",
    "else:\n",
    "    print(\"No,\",word, \"is not a palindrome\")\n",
    "            "
   ]
  },
  {
   "cell_type": "code",
   "execution_count": null,
   "id": "83e4d6f0",
   "metadata": {},
   "outputs": [],
   "source": [
    "\"\"\" To check the number whether it is palindrome or not? \"\"\""
   ]
  },
  {
   "cell_type": "code",
   "execution_count": 11,
   "id": "f090956c",
   "metadata": {},
   "outputs": [
    {
     "name": "stdout",
     "output_type": "stream",
     "text": [
      "Enter number: 321\n",
      "321 is not palindrome \n"
     ]
    }
   ],
   "source": [
    "num = int(input(\"Enter number: \"))\n",
    "temp = num\n",
    "rev = 0\n",
    "while(num>0):\n",
    "    digit = num % 10\n",
    "    rev = rev * 10 + digit\n",
    "    num = num // 10\n",
    "if temp == rev:\n",
    "    print(temp,\"is palindrome \")\n",
    "else:\n",
    "    print(temp,\"is not palindrome \")"
   ]
  },
  {
   "cell_type": "code",
   "execution_count": 5,
   "id": "b73ecbdc",
   "metadata": {},
   "outputs": [
    {
     "data": {
      "text/plain": [
       "'\\nSimulation of pack of cards\\n'"
      ]
     },
     "execution_count": 5,
     "metadata": {},
     "output_type": "execute_result"
    }
   ],
   "source": [
    "\"\"\" Simulation of pack of cards \"\"\""
   ]
  },
  {
   "cell_type": "code",
   "execution_count": null,
   "id": "01b8c908",
   "metadata": {},
   "outputs": [],
   "source": []
  },
  {
   "cell_type": "code",
   "execution_count": null,
   "id": "3ccf9112",
   "metadata": {},
   "outputs": [],
   "source": [
    "\"\"\"\n",
    "*\n",
    "**\n",
    "*** \n",
    "****\n",
    "*****\n",
    "\"\"\""
   ]
  },
  {
   "cell_type": "code",
   "execution_count": 31,
   "id": "01d19454",
   "metadata": {},
   "outputs": [
    {
     "name": "stdout",
     "output_type": "stream",
     "text": [
      "\n",
      "* \n",
      "* * \n",
      "* * * \n",
      "* * * * \n",
      "* * * * * \n"
     ]
    }
   ],
   "source": [
    "for i in range(0,6):\n",
    "    for j in range(0,i):\n",
    "        print(\"*\",end = \" \")\n",
    "    else:\n",
    "        print()"
   ]
  },
  {
   "cell_type": "code",
   "execution_count": null,
   "id": "0f8e1838",
   "metadata": {},
   "outputs": [],
   "source": [
    "\"\"\"\n",
    "1\n",
    "22\n",
    "333\n",
    "4444\n",
    "55555\n",
    "\"\"\""
   ]
  },
  {
   "cell_type": "code",
   "execution_count": 1,
   "id": "ea0384c4",
   "metadata": {},
   "outputs": [
    {
     "name": "stdout",
     "output_type": "stream",
     "text": [
      "\n",
      "1 \n",
      "2 2 \n",
      "3 3 3 \n",
      "4 4 4 4 \n",
      "5 5 5 5 5 \n"
     ]
    }
   ],
   "source": [
    "for i in range(0,6):\n",
    "    for j in range(0,i):\n",
    "        print(i,end = \" \")\n",
    "    else:\n",
    "        print()"
   ]
  },
  {
   "cell_type": "code",
   "execution_count": null,
   "id": "d52fe56c",
   "metadata": {},
   "outputs": [],
   "source": [
    "\"\"\"\n",
    "1\n",
    "12\n",
    "123\n",
    "1234\n",
    "12345\n",
    "\"\"\""
   ]
  },
  {
   "cell_type": "code",
   "execution_count": 37,
   "id": "a399c87d",
   "metadata": {},
   "outputs": [
    {
     "name": "stdout",
     "output_type": "stream",
     "text": [
      "\n",
      "\n",
      "1 \n",
      "1 2 \n",
      "1 2 3 \n",
      "1 2 3 4 \n",
      "1 2 3 4 5 \n"
     ]
    }
   ],
   "source": [
    "for i in range(0,7):\n",
    "    for j in range(1,i):\n",
    "        print(j,end = \" \")\n",
    "    else:\n",
    "        print()"
   ]
  },
  {
   "cell_type": "code",
   "execution_count": null,
   "id": "83e7b01c",
   "metadata": {},
   "outputs": [],
   "source": [
    "\"\"\"\n",
    "*\n",
    "**\n",
    "*** \n",
    "**** \n",
    "***\n",
    "**\n",
    "*\n",
    "\"\"\""
   ]
  },
  {
   "cell_type": "code",
   "execution_count": 50,
   "id": "d71c4d14",
   "metadata": {},
   "outputs": [
    {
     "name": "stdout",
     "output_type": "stream",
     "text": [
      "\n",
      "* \n",
      "* * \n",
      "* * * \n",
      "* * * * \n",
      "* * * * * \n",
      "* * * * \n",
      "* * * \n",
      "* * \n",
      "* \n",
      "\n"
     ]
    }
   ],
   "source": [
    "for i in range(0,6):\n",
    "    for j in range(0,i):\n",
    "        print(\"*\",end = \" \")\n",
    "    else:\n",
    "        print()\n",
    "        \n",
    "for i in range(5,0,-1):\n",
    "    for j in range(0,i -1):\n",
    "        print(\"*\",end = \" \")\n",
    "    else:\n",
    "        print()"
   ]
  },
  {
   "cell_type": "code",
   "execution_count": null,
   "id": "96a57808",
   "metadata": {},
   "outputs": [],
   "source": [
    "\"\"\"\n",
    "1\n",
    "22\n",
    "33 3\n",
    "44 4 4\n",
    "55 5 55\n",
    "66 6 666\n",
    "77 7 777 7\n",
    "88 8 888 88 \n",
    "99 9 999 999 \n",
    "88 8 888 88 \n",
    "77 7 777 7\n",
    "66 6 666\n",
    "55 5 55\n",
    "44 4 4\n",
    "33 3\n",
    "22\n",
    "1\n",
    "\"\"\""
   ]
  },
  {
   "cell_type": "code",
   "execution_count": 56,
   "id": "1de359c4",
   "metadata": {},
   "outputs": [
    {
     "name": "stdout",
     "output_type": "stream",
     "text": [
      "\n",
      "1 \n",
      "2 2 \n",
      "3 3 3 \n",
      "4 4 4 4 \n",
      "5 5 5 5 5 \n",
      "6 6 6 6 6 6 \n",
      "7 7 7 7 7 7 7 \n",
      "8 8 8 8 8 8 8 8 \n",
      "9 9 9 9 9 9 9 9 9 \n",
      "8 8 8 8 8 8 8 8 \n",
      "7 7 7 7 7 7 7 \n",
      "6 6 6 6 6 6 \n",
      "5 5 5 5 5 \n",
      "4 4 4 4 \n",
      "3 3 3 \n",
      "2 2 \n",
      "1 \n"
     ]
    }
   ],
   "source": [
    "for i in range(0,10):\n",
    "    for j in range(0,i):\n",
    "        print(i,end = \" \")\n",
    "    else:\n",
    "        print()\n",
    "        \n",
    "for i in range(8,0,-1):\n",
    "    for j in range(0,i):\n",
    "        print(i,end = \" \")\n",
    "    else:\n",
    "        print()"
   ]
  },
  {
   "cell_type": "code",
   "execution_count": null,
   "id": "da0df517",
   "metadata": {},
   "outputs": [],
   "source": [
    "\"\"\"\n",
    "     *\n",
    "    * * \n",
    "   * * *\n",
    "  * * * *\n",
    " * * * * *\n",
    "* * * * * * \n",
    "\"\"\""
   ]
  },
  {
   "cell_type": "code",
   "execution_count": 82,
   "id": "dd88452b",
   "metadata": {},
   "outputs": [
    {
     "name": "stdout",
     "output_type": "stream",
     "text": [
      "\n",
      "      * \n",
      "     * * \n",
      "    * * * \n",
      "   * * * * \n",
      "  * * * * * \n",
      " * * * * * * \n"
     ]
    }
   ],
   "source": [
    "\n",
    "for i in range(0,7):\n",
    "    space = 7 - i\n",
    "    for j in range(0,i):\n",
    "        while(space > 0):\n",
    "            print(end = \" \")\n",
    "            space = space - 1\n",
    "        print(\"*\",end = \" \")\n",
    "        space = space -1\n",
    "    else:\n",
    "        print()"
   ]
  },
  {
   "cell_type": "code",
   "execution_count": null,
   "id": "e1a27a1b",
   "metadata": {},
   "outputs": [],
   "source": [
    "\"\"\"\n",
    "* * * * * * \n",
    " * * * * *\n",
    "  * * * *  \n",
    "   * * *\n",
    "    * *     \n",
    "     *\n",
    "    * * \n",
    "   * * *\n",
    "  * * * *\n",
    " * * * * *\n",
    "* * * * * * \n",
    "\"\"\""
   ]
  },
  {
   "cell_type": "code",
   "execution_count": 81,
   "id": "309a6646",
   "metadata": {},
   "outputs": [
    {
     "name": "stdout",
     "output_type": "stream",
     "text": [
      " * * * * * * \n",
      "  * * * * * \n",
      "   * * * * \n",
      "    * * * \n",
      "     * * \n",
      "      * \n",
      "     * * \n",
      "    * * * \n",
      "   * * * * \n",
      "  * * * * * \n",
      " * * * * * * \n"
     ]
    }
   ],
   "source": [
    "for i in range(6,0,-1):\n",
    "    space = 7 - i\n",
    "    for j in range(0,i):\n",
    "        while(space > 0):\n",
    "            print(end = \" \")\n",
    "            space = space - 1\n",
    "        print(\"*\",end = \" \")\n",
    "        space = space -1\n",
    "    else:\n",
    "        print()\n",
    "                \n",
    "for i in range(2,7):\n",
    "    space = 7 - i\n",
    "    for j in range(0,i):\n",
    "        while(space > 0):\n",
    "            print(end = \" \")\n",
    "            space = space - 1\n",
    "        print(\"*\",end = \" \")\n",
    "        space = space -1\n",
    "    else:\n",
    "        print()"
   ]
  }
 ],
 "metadata": {
  "kernelspec": {
   "display_name": "Python 3 (ipykernel)",
   "language": "python",
   "name": "python3"
  },
  "language_info": {
   "codemirror_mode": {
    "name": "ipython",
    "version": 3
   },
   "file_extension": ".py",
   "mimetype": "text/x-python",
   "name": "python",
   "nbconvert_exporter": "python",
   "pygments_lexer": "ipython3",
   "version": "3.9.12"
  },
  "varInspector": {
   "cols": {
    "lenName": 16,
    "lenType": 16,
    "lenVar": 40
   },
   "kernels_config": {
    "python": {
     "delete_cmd_postfix": "",
     "delete_cmd_prefix": "del ",
     "library": "var_list.py",
     "varRefreshCmd": "print(var_dic_list())"
    },
    "r": {
     "delete_cmd_postfix": ") ",
     "delete_cmd_prefix": "rm(",
     "library": "var_list.r",
     "varRefreshCmd": "cat(var_dic_list()) "
    }
   },
   "types_to_exclude": [
    "module",
    "function",
    "builtin_function_or_method",
    "instance",
    "_Feature"
   ],
   "window_display": false
  }
 },
 "nbformat": 4,
 "nbformat_minor": 5
}
